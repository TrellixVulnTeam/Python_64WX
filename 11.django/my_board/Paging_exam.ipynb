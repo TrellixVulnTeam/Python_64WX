{
 "cells": [
  {
   "cell_type": "code",
   "execution_count": 2,
   "id": "c9b72eb4",
   "metadata": {},
   "outputs": [],
   "source": [
    "# django shell환경 설정."
   ]
  },
  {
   "cell_type": "code",
   "execution_count": 3,
   "id": "6343360d",
   "metadata": {},
   "outputs": [],
   "source": [
    "import os\n",
    "import django\n",
    "os.environ['DJANGO_SETTINGS_MODULE'] = 'config.settings'\n",
    "os.environ['DJANGO_ALLOW_ASYNC_UNSAFE'] = 'true'\n",
    "\n",
    "django.setup()"
   ]
  },
  {
   "cell_type": "markdown",
   "id": "db6af8e9",
   "metadata": {},
   "source": [
    "# Paginator 클래스\n",
    "- 전체 페이징 처리를 관리하는 클래스\n",
    "- 전체 데이터관련 정보, 각 페이지당 보여줄 데이터의 정보 등을 제공\n",
    "\n",
    "\n",
    "# Page클래스\n",
    "- 한페이지에 대한 데이터를 관리\n",
    "- Paginator가 생성해서 제공.\n",
    "- iterable타입. 원소로 데이터를 제공\n",
    "- Page객체.object_list 속성: 페이지가 가진 데이터들을 list로 반환."
   ]
  },
  {
   "cell_type": "code",
   "execution_count": 4,
   "id": "aacaed1c",
   "metadata": {},
   "outputs": [],
   "source": [
    "from django.core.paginator import Paginator"
   ]
  },
  {
   "cell_type": "code",
   "execution_count": 7,
   "id": "4188ad68",
   "metadata": {},
   "outputs": [
    {
     "name": "stdout",
     "output_type": "stream",
     "text": [
      "62\n"
     ]
    },
    {
     "data": {
      "text/plain": [
       "['0', '1', '2', '3', '4']"
      ]
     },
     "execution_count": 7,
     "metadata": {},
     "output_type": "execute_result"
    }
   ],
   "source": [
    "data_list = list(\"0123456789abcdefghijklmnopqrstuvwxyzABCDEFGHIJKLMNOPQRSTUVWXYZ\")\n",
    "print(len(data_list))\n",
    "data_list[:5]\n",
    "# 각문자를 데이터한개로 가정(게시판->한개의 게시물)"
   ]
  },
  {
   "cell_type": "code",
   "execution_count": 8,
   "id": "ebdb707d",
   "metadata": {},
   "outputs": [],
   "source": [
    "# Paginator생성(데이터들, 한페이지에 보여줄 데이터의 개수) # 데이터들: Model.objects.all()\n",
    "pn = Paginator(data_list, 5)"
   ]
  },
  {
   "cell_type": "code",
   "execution_count": 11,
   "id": "ca09d1ca",
   "metadata": {},
   "outputs": [
    {
     "name": "stdout",
     "output_type": "stream",
     "text": [
      "전체 데이터 수: 62\n"
     ]
    }
   ],
   "source": [
    "print(\"전체 데이터 수:\", pn.count)"
   ]
  },
  {
   "cell_type": "code",
   "execution_count": 12,
   "id": "2036c5fb",
   "metadata": {},
   "outputs": [
    {
     "name": "stdout",
     "output_type": "stream",
     "text": [
      "총 페이지 수: 13\n"
     ]
    }
   ],
   "source": [
    "print(\"총 페이지 수:\", pn.num_pages)"
   ]
  },
  {
   "cell_type": "code",
   "execution_count": 14,
   "id": "db60d569",
   "metadata": {},
   "outputs": [
    {
     "name": "stdout",
     "output_type": "stream",
     "text": [
      "시작 ~ 끝 페이지의 범위: range(1, 14)\n"
     ]
    }
   ],
   "source": [
    "print(\"시작 ~ 끝 페이지의 범위:\", pn.page_range)"
   ]
  },
  {
   "cell_type": "code",
   "execution_count": 15,
   "id": "fa36e278",
   "metadata": {},
   "outputs": [
    {
     "name": "stdout",
     "output_type": "stream",
     "text": [
      "1\t2\t3\t4\t5\t6\t7\t8\t9\t10\t11\t12\t13\t"
     ]
    }
   ],
   "source": [
    "# page번호를 출력\n",
    "for p in pn.page_range:\n",
    "    print(p, end=\"\\t\")"
   ]
  },
  {
   "cell_type": "code",
   "execution_count": 16,
   "id": "00195d28",
   "metadata": {},
   "outputs": [
    {
     "data": {
      "text/plain": [
       "(django.core.paginator.Page, <Page 1 of 13>)"
      ]
     },
     "execution_count": 16,
     "metadata": {},
     "output_type": "execute_result"
    }
   ],
   "source": [
    "# 각 페이지의 속한 데이터를 조회\n",
    "page1 = pn.page(1) # pn.page(페이지번호): 그 번호 페이지의 데이터들을 page객체로 반환.\n",
    "type(page1), page1"
   ]
  },
  {
   "cell_type": "code",
   "execution_count": 18,
   "id": "b8c8755b",
   "metadata": {},
   "outputs": [
    {
     "data": {
      "text/plain": [
       "<Page 10 of 13>"
      ]
     },
     "execution_count": 18,
     "metadata": {},
     "output_type": "execute_result"
    }
   ],
   "source": [
    "page10 = pn.page(10)\n",
    "page10"
   ]
  },
  {
   "cell_type": "code",
   "execution_count": 30,
   "id": "0a94b6e8",
   "metadata": {},
   "outputs": [
    {
     "data": {
      "text/plain": [
       "<Page 13 of 13>"
      ]
     },
     "execution_count": 30,
     "metadata": {},
     "output_type": "execute_result"
    }
   ],
   "source": [
    "page13 = pn.page(13)\n",
    "page13"
   ]
  },
  {
   "cell_type": "code",
   "execution_count": 19,
   "id": "0da49227",
   "metadata": {
    "collapsed": true
   },
   "outputs": [
    {
     "ename": "EmptyPage",
     "evalue": "해당 페이지에 결과가 없습니다.",
     "output_type": "error",
     "traceback": [
      "\u001b[1;31m---------------------------------------------------------------------------\u001b[0m",
      "\u001b[1;31mEmptyPage\u001b[0m                                 Traceback (most recent call last)",
      "\u001b[1;32m<ipython-input-19-1cffda5a1a7b>\u001b[0m in \u001b[0;36m<module>\u001b[1;34m\u001b[0m\n\u001b[1;32m----> 1\u001b[1;33m \u001b[0mpn\u001b[0m\u001b[1;33m.\u001b[0m\u001b[0mpage\u001b[0m\u001b[1;33m(\u001b[0m\u001b[1;36m100\u001b[0m\u001b[1;33m)\u001b[0m \u001b[1;31m# 없는 페이지 조회\u001b[0m\u001b[1;33m\u001b[0m\u001b[1;33m\u001b[0m\u001b[0m\n\u001b[0m",
      "\u001b[1;32m~\\anaconda3\\envs\\django\\lib\\site-packages\\django\\core\\paginator.py\u001b[0m in \u001b[0;36mpage\u001b[1;34m(self, number)\u001b[0m\n\u001b[0;32m     74\u001b[0m     \u001b[1;32mdef\u001b[0m \u001b[0mpage\u001b[0m\u001b[1;33m(\u001b[0m\u001b[0mself\u001b[0m\u001b[1;33m,\u001b[0m \u001b[0mnumber\u001b[0m\u001b[1;33m)\u001b[0m\u001b[1;33m:\u001b[0m\u001b[1;33m\u001b[0m\u001b[1;33m\u001b[0m\u001b[0m\n\u001b[0;32m     75\u001b[0m         \u001b[1;34m\"\"\"Return a Page object for the given 1-based page number.\"\"\"\u001b[0m\u001b[1;33m\u001b[0m\u001b[1;33m\u001b[0m\u001b[0m\n\u001b[1;32m---> 76\u001b[1;33m         \u001b[0mnumber\u001b[0m \u001b[1;33m=\u001b[0m \u001b[0mself\u001b[0m\u001b[1;33m.\u001b[0m\u001b[0mvalidate_number\u001b[0m\u001b[1;33m(\u001b[0m\u001b[0mnumber\u001b[0m\u001b[1;33m)\u001b[0m\u001b[1;33m\u001b[0m\u001b[1;33m\u001b[0m\u001b[0m\n\u001b[0m\u001b[0;32m     77\u001b[0m         \u001b[0mbottom\u001b[0m \u001b[1;33m=\u001b[0m \u001b[1;33m(\u001b[0m\u001b[0mnumber\u001b[0m \u001b[1;33m-\u001b[0m \u001b[1;36m1\u001b[0m\u001b[1;33m)\u001b[0m \u001b[1;33m*\u001b[0m \u001b[0mself\u001b[0m\u001b[1;33m.\u001b[0m\u001b[0mper_page\u001b[0m\u001b[1;33m\u001b[0m\u001b[1;33m\u001b[0m\u001b[0m\n\u001b[0;32m     78\u001b[0m         \u001b[0mtop\u001b[0m \u001b[1;33m=\u001b[0m \u001b[0mbottom\u001b[0m \u001b[1;33m+\u001b[0m \u001b[0mself\u001b[0m\u001b[1;33m.\u001b[0m\u001b[0mper_page\u001b[0m\u001b[1;33m\u001b[0m\u001b[1;33m\u001b[0m\u001b[0m\n",
      "\u001b[1;32m~\\anaconda3\\envs\\django\\lib\\site-packages\\django\\core\\paginator.py\u001b[0m in \u001b[0;36mvalidate_number\u001b[1;34m(self, number)\u001b[0m\n\u001b[0;32m     56\u001b[0m                 \u001b[1;32mpass\u001b[0m\u001b[1;33m\u001b[0m\u001b[1;33m\u001b[0m\u001b[0m\n\u001b[0;32m     57\u001b[0m             \u001b[1;32melse\u001b[0m\u001b[1;33m:\u001b[0m\u001b[1;33m\u001b[0m\u001b[1;33m\u001b[0m\u001b[0m\n\u001b[1;32m---> 58\u001b[1;33m                 \u001b[1;32mraise\u001b[0m \u001b[0mEmptyPage\u001b[0m\u001b[1;33m(\u001b[0m\u001b[0m_\u001b[0m\u001b[1;33m(\u001b[0m\u001b[1;34m'That page contains no results'\u001b[0m\u001b[1;33m)\u001b[0m\u001b[1;33m)\u001b[0m\u001b[1;33m\u001b[0m\u001b[1;33m\u001b[0m\u001b[0m\n\u001b[0m\u001b[0;32m     59\u001b[0m         \u001b[1;32mreturn\u001b[0m \u001b[0mnumber\u001b[0m\u001b[1;33m\u001b[0m\u001b[1;33m\u001b[0m\u001b[0m\n\u001b[0;32m     60\u001b[0m \u001b[1;33m\u001b[0m\u001b[0m\n",
      "\u001b[1;31mEmptyPage\u001b[0m: 해당 페이지에 결과가 없습니다."
     ]
    }
   ],
   "source": [
    "pn.page(100) # 없는 페이지 조회. empty page예외 발생\n"
   ]
  },
  {
   "cell_type": "code",
   "execution_count": 21,
   "id": "cc86d9a5",
   "metadata": {},
   "outputs": [
    {
     "name": "stdout",
     "output_type": "stream",
     "text": [
      "J\n",
      "K\n",
      "L\n",
      "M\n",
      "N\n"
     ]
    }
   ],
   "source": [
    "# for data in page1:\n",
    "for data in page10:\n",
    "    print(data)"
   ]
  },
  {
   "cell_type": "code",
   "execution_count": 22,
   "id": "8f7b9acf",
   "metadata": {},
   "outputs": [
    {
     "name": "stdout",
     "output_type": "stream",
     "text": [
      "['0', '1', '2', '3', '4']\n"
     ]
    }
   ],
   "source": [
    "list_1 = page1.object_list\n",
    "print(list_1)"
   ]
  },
  {
   "cell_type": "code",
   "execution_count": 23,
   "id": "e5c9da6b",
   "metadata": {},
   "outputs": [
    {
     "data": {
      "text/plain": [
       "(['0', '1', '2', '3', '4'], ('0', '1', '2', '3', '4'))"
      ]
     },
     "execution_count": 23,
     "metadata": {},
     "output_type": "execute_result"
    }
   ],
   "source": [
    "list(page1), tuple(page1)"
   ]
  },
  {
   "cell_type": "code",
   "execution_count": null,
   "id": "53f0efc6",
   "metadata": {},
   "outputs": [],
   "source": [
    "def list(request):\n",
    "    pageNo = request.GET['page'] # ex)3\n",
    "    pn = Paginator(Model.objects.all(),10)\n",
    "    page = pn.get(pageNo)\n",
    "    return render(request, 'template경로', {'data':page}) #함수형 psudo코드, "
   ]
  },
  {
   "cell_type": "markdown",
   "id": "e16fdaa1",
   "metadata": {},
   "source": [
    "## 이전/다음 페이지 유무.\n",
    "- 1페이지: 이전페이지 X, 다음페이지 O\n",
    "- 마지막페이지: 이전페이지 O, 다음페이지 X"
   ]
  },
  {
   "cell_type": "code",
   "execution_count": 24,
   "id": "66e433d7",
   "metadata": {},
   "outputs": [
    {
     "name": "stdout",
     "output_type": "stream",
     "text": [
      "이전페이지 유무: False\n",
      "다음페이지 유무: True\n"
     ]
    }
   ],
   "source": [
    "# 1페이지 조회\n",
    "print(\"이전페이지 유무:\", page1.has_previous())\n",
    "print(\"다음페이지 유무:\", page1.has_next())"
   ]
  },
  {
   "cell_type": "code",
   "execution_count": 25,
   "id": "f82b0d72",
   "metadata": {},
   "outputs": [
    {
     "name": "stdout",
     "output_type": "stream",
     "text": [
      "이전페이지 유무: True\n",
      "다음페이지 유무: True\n"
     ]
    }
   ],
   "source": [
    "# 10페이지 조회\n",
    "print(\"이전페이지 유무:\", page10.has_previous())\n",
    "print(\"다음페이지 유무:\", page10.has_next())"
   ]
  },
  {
   "cell_type": "markdown",
   "id": "b47ad852",
   "metadata": {},
   "source": [
    "# 이전/다음페이지 번호 조회"
   ]
  },
  {
   "cell_type": "code",
   "execution_count": 27,
   "id": "744a9d3e",
   "metadata": {
    "scrolled": true
   },
   "outputs": [
    {
     "name": "stdout",
     "output_type": "stream",
     "text": [
      "다음페이지번호: 2\n"
     ]
    }
   ],
   "source": [
    "# page1의 이전/다음 페이지 번호\n",
    "# print('이전페이지번호:', page1.previous_page_number()) # 없으면 enptypage예외 발생.\n",
    "print('다음페이지번호:', page1.next_page_number())\n"
   ]
  },
  {
   "cell_type": "code",
   "execution_count": 28,
   "id": "6dd39271",
   "metadata": {},
   "outputs": [
    {
     "name": "stdout",
     "output_type": "stream",
     "text": [
      "이전페이지번호: 9\n",
      "다음페이지번호: 11\n"
     ]
    }
   ],
   "source": [
    "# page10의 이전/다음 페이지 번호\n",
    "print('이전페이지번호:', page10.previous_page_number()) # 없으면 enptypage예외 발생.\n",
    "print('다음페이지번호:', page10.next_page_number())"
   ]
  },
  {
   "cell_type": "code",
   "execution_count": 32,
   "id": "e61d8dbe",
   "metadata": {
    "collapsed": true
   },
   "outputs": [
    {
     "name": "stdout",
     "output_type": "stream",
     "text": [
      "이전페이지번호: 12\n"
     ]
    },
    {
     "ename": "EmptyPage",
     "evalue": "해당 페이지에 결과가 없습니다.",
     "output_type": "error",
     "traceback": [
      "\u001b[1;31m---------------------------------------------------------------------------\u001b[0m",
      "\u001b[1;31mEmptyPage\u001b[0m                                 Traceback (most recent call last)",
      "\u001b[1;32m<ipython-input-32-fd549d5ea061>\u001b[0m in \u001b[0;36m<module>\u001b[1;34m\u001b[0m\n\u001b[0;32m      1\u001b[0m \u001b[1;31m# page13의 이전/다음 페이지 번호\u001b[0m\u001b[1;33m\u001b[0m\u001b[1;33m\u001b[0m\u001b[1;33m\u001b[0m\u001b[0m\n\u001b[0;32m      2\u001b[0m \u001b[0mprint\u001b[0m\u001b[1;33m(\u001b[0m\u001b[1;34m'이전페이지번호:'\u001b[0m\u001b[1;33m,\u001b[0m \u001b[0mpage13\u001b[0m\u001b[1;33m.\u001b[0m\u001b[0mprevious_page_number\u001b[0m\u001b[1;33m(\u001b[0m\u001b[1;33m)\u001b[0m\u001b[1;33m)\u001b[0m \u001b[1;31m# 없으면 enptypage예외 발생.\u001b[0m\u001b[1;33m\u001b[0m\u001b[1;33m\u001b[0m\u001b[0m\n\u001b[1;32m----> 3\u001b[1;33m \u001b[0mprint\u001b[0m\u001b[1;33m(\u001b[0m\u001b[1;34m'다음페이지번호:'\u001b[0m\u001b[1;33m,\u001b[0m \u001b[0mpage13\u001b[0m\u001b[1;33m.\u001b[0m\u001b[0mnext_page_number\u001b[0m\u001b[1;33m(\u001b[0m\u001b[1;33m)\u001b[0m\u001b[1;33m)\u001b[0m \u001b[1;31m# 없으면 enptypage예외 발생.\u001b[0m\u001b[1;33m\u001b[0m\u001b[1;33m\u001b[0m\u001b[0m\n\u001b[0m",
      "\u001b[1;32m~\\anaconda3\\envs\\django\\lib\\site-packages\\django\\core\\paginator.py\u001b[0m in \u001b[0;36mnext_page_number\u001b[1;34m(self)\u001b[0m\n\u001b[0;32m    199\u001b[0m \u001b[1;33m\u001b[0m\u001b[0m\n\u001b[0;32m    200\u001b[0m     \u001b[1;32mdef\u001b[0m \u001b[0mnext_page_number\u001b[0m\u001b[1;33m(\u001b[0m\u001b[0mself\u001b[0m\u001b[1;33m)\u001b[0m\u001b[1;33m:\u001b[0m\u001b[1;33m\u001b[0m\u001b[1;33m\u001b[0m\u001b[0m\n\u001b[1;32m--> 201\u001b[1;33m         \u001b[1;32mreturn\u001b[0m \u001b[0mself\u001b[0m\u001b[1;33m.\u001b[0m\u001b[0mpaginator\u001b[0m\u001b[1;33m.\u001b[0m\u001b[0mvalidate_number\u001b[0m\u001b[1;33m(\u001b[0m\u001b[0mself\u001b[0m\u001b[1;33m.\u001b[0m\u001b[0mnumber\u001b[0m \u001b[1;33m+\u001b[0m \u001b[1;36m1\u001b[0m\u001b[1;33m)\u001b[0m\u001b[1;33m\u001b[0m\u001b[1;33m\u001b[0m\u001b[0m\n\u001b[0m\u001b[0;32m    202\u001b[0m \u001b[1;33m\u001b[0m\u001b[0m\n\u001b[0;32m    203\u001b[0m     \u001b[1;32mdef\u001b[0m \u001b[0mprevious_page_number\u001b[0m\u001b[1;33m(\u001b[0m\u001b[0mself\u001b[0m\u001b[1;33m)\u001b[0m\u001b[1;33m:\u001b[0m\u001b[1;33m\u001b[0m\u001b[1;33m\u001b[0m\u001b[0m\n",
      "\u001b[1;32m~\\anaconda3\\envs\\django\\lib\\site-packages\\django\\core\\paginator.py\u001b[0m in \u001b[0;36mvalidate_number\u001b[1;34m(self, number)\u001b[0m\n\u001b[0;32m     56\u001b[0m                 \u001b[1;32mpass\u001b[0m\u001b[1;33m\u001b[0m\u001b[1;33m\u001b[0m\u001b[0m\n\u001b[0;32m     57\u001b[0m             \u001b[1;32melse\u001b[0m\u001b[1;33m:\u001b[0m\u001b[1;33m\u001b[0m\u001b[1;33m\u001b[0m\u001b[0m\n\u001b[1;32m---> 58\u001b[1;33m                 \u001b[1;32mraise\u001b[0m \u001b[0mEmptyPage\u001b[0m\u001b[1;33m(\u001b[0m\u001b[0m_\u001b[0m\u001b[1;33m(\u001b[0m\u001b[1;34m'That page contains no results'\u001b[0m\u001b[1;33m)\u001b[0m\u001b[1;33m)\u001b[0m\u001b[1;33m\u001b[0m\u001b[1;33m\u001b[0m\u001b[0m\n\u001b[0m\u001b[0;32m     59\u001b[0m         \u001b[1;32mreturn\u001b[0m \u001b[0mnumber\u001b[0m\u001b[1;33m\u001b[0m\u001b[1;33m\u001b[0m\u001b[0m\n\u001b[0;32m     60\u001b[0m \u001b[1;33m\u001b[0m\u001b[0m\n",
      "\u001b[1;31mEmptyPage\u001b[0m: 해당 페이지에 결과가 없습니다."
     ]
    }
   ],
   "source": [
    "# page13의 이전/다음 페이지 번호\n",
    "print('이전페이지번호:', page13.previous_page_number()) # 없으면 enptypage예외 발생.\n",
    "print('다음페이지번호:', page13.next_page_number()) # 없으면 enptypage예외 발생."
   ]
  },
  {
   "cell_type": "code",
   "execution_count": 33,
   "id": "1675cca8",
   "metadata": {},
   "outputs": [],
   "source": [
    "## 각페이지별 데이터를 출력(조회)"
   ]
  },
  {
   "cell_type": "code",
   "execution_count": 40,
   "id": "925b4f07",
   "metadata": {},
   "outputs": [
    {
     "name": "stdout",
     "output_type": "stream",
     "text": [
      "1 페이지\n",
      "0, 1, 2, 3, 4, 5, 6, 7, 8, 9, \n",
      "=============================\n",
      "2 페이지\n",
      "a, b, c, d, e, f, g, h, i, j, \n",
      "=============================\n",
      "3 페이지\n",
      "k, l, m, n, o, p, q, r, s, t, \n",
      "=============================\n",
      "4 페이지\n",
      "u, v, w, x, y, z, A, B, C, D, \n",
      "=============================\n",
      "5 페이지\n",
      "E, F, G, H, I, J, K, L, M, N, \n",
      "=============================\n",
      "6 페이지\n",
      "O, P, Q, R, S, T, U, V, W, X, \n",
      "=============================\n",
      "7 페이지\n",
      "Y, Z, \n",
      "=============================\n"
     ]
    }
   ],
   "source": [
    "pn = Paginator(data_list, 10) # 한페이지당 10개 데이터를 출력\n",
    "for pageNo in pn.page_range:\n",
    "    print(f\"{pageNo} 페이지\")\n",
    "    for data in pn.page(pageNo):\n",
    "        print(data, end=', ')\n",
    "    print(\"\\n=============================\")"
   ]
  },
  {
   "cell_type": "code",
   "execution_count": null,
   "id": "0cfc4e43",
   "metadata": {},
   "outputs": [],
   "source": []
  },
  {
   "cell_type": "code",
   "execution_count": null,
   "id": "81c84b6f",
   "metadata": {},
   "outputs": [],
   "source": []
  },
  {
   "cell_type": "code",
   "execution_count": null,
   "id": "ee52659e",
   "metadata": {},
   "outputs": [],
   "source": []
  },
  {
   "cell_type": "code",
   "execution_count": null,
   "id": "2a571fb5",
   "metadata": {},
   "outputs": [],
   "source": []
  },
  {
   "cell_type": "code",
   "execution_count": null,
   "id": "2202276c",
   "metadata": {},
   "outputs": [],
   "source": []
  },
  {
   "cell_type": "code",
   "execution_count": null,
   "id": "60978f24",
   "metadata": {},
   "outputs": [],
   "source": []
  },
  {
   "cell_type": "code",
   "execution_count": null,
   "id": "7acf09e5",
   "metadata": {},
   "outputs": [],
   "source": []
  },
  {
   "cell_type": "code",
   "execution_count": null,
   "id": "e4c81d36",
   "metadata": {},
   "outputs": [],
   "source": []
  }
 ],
 "metadata": {
  "kernelspec": {
   "display_name": "Python 3",
   "language": "python",
   "name": "python3"
  },
  "language_info": {
   "codemirror_mode": {
    "name": "ipython",
    "version": 3
   },
   "file_extension": ".py",
   "mimetype": "text/x-python",
   "name": "python",
   "nbconvert_exporter": "python",
   "pygments_lexer": "ipython3",
   "version": "3.8.10"
  }
 },
 "nbformat": 4,
 "nbformat_minor": 5
}
