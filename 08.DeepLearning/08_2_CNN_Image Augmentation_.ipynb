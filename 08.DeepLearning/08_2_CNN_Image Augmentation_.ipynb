{
 "cells": [
  {
   "cell_type": "markdown",
   "metadata": {
    "id": "N7dzZc_rYrhN"
   },
   "source": [
    "# CNN   small datasets 학습\n"
   ]
  },
  {
   "cell_type": "markdown",
   "metadata": {
    "id": "IZSgQnWLYrhV"
   },
   "source": [
    "- Data의 수가 많지 않을 때 CNN을 통한 모형 학습이 어려울 수 있음\n",
    "  - 딥러닝은 많은 수의 데이터를 통해 feature engineering 과정 없이 feature를 찾을 수 있는데 있음 \n",
    "- Data가 많지 않아 CNN 학습에 어려움이 있을 때 사용 가능한 방법\n",
    "    - Data augmentation 활용\n",
    "        - 이미지의 색깔, 각도 등을 약간씩 변형하여 data의 수를 늘림 \n",
    "    - Pre-trained network의 활용\n",
    "        - 매우 큰 데이터셋으로 미리 Training한 모델의 파라미터(가중치)를 가져와서 풀려는 문제에 맞게 모델을 재보정해서 사용하는 것.\n",
    "        - 미리 다양한 데이터를 가지고 학습된 모델을 사용하므로 적은 데이터에도 좋은 성능을 낼 수있다."
   ]
  },
  {
   "cell_type": "markdown",
   "metadata": {
    "id": "b8vvonb2YrhW"
   },
   "source": [
    "## Data for cats vs. dogs\n",
    "- 2013년 Kaggle의 computer vision competition data 활용 https://www.kaggle.com/c/dogs-vs-cats/data\n",
    "- 개와 고양이를 구분하기 위한 문제로 각 12,500개의 이미지를 포함\n",
    "- Medium-resolution color JPEGs\n",
    "- 25000장의 사진 중 4000장의 cats/dogs 사진(2000 cats, 2000 dogs) 만을 사용하여 학습하여 좋은 모형을 만들어 낼 수 있을까?\n",
    "    - 학습: 2000, 검증: 1000, 테스트: 1000\n",
    "    \n",
    "![cats_vs_dogs_samples](https://s3.amazonaws.com/book.keras.io/img/ch5/cats_vs_dogs_samples.jpg)"
   ]
  },
  {
   "cell_type": "markdown",
   "metadata": {
    "id": "Lz3IRzELYrhX"
   },
   "source": [
    "- gdown 패키지 : 구글 드라이브의 공유파일 다운로드 패키지    \n",
    "- `pip install gdown==3.3.1`\n",
    "- 코랩에는 설치 되어 있음."
   ]
  },
  {
   "cell_type": "code",
   "execution_count": null,
   "metadata": {
    "colab": {
     "base_uri": "https://localhost:8080/",
     "height": 107
    },
    "executionInfo": {
     "elapsed": 2176,
     "status": "ok",
     "timestamp": 1619416240522,
     "user": {
      "displayName": "Sunghwan KIM",
      "photoUrl": "",
      "userId": "06010856989212311727"
     },
     "user_tz": -540
    },
    "id": "7IXMulBFYrhX",
    "outputId": "edea8ef6-7d49-43d9-ad64-3c22b300c6f5"
   },
   "outputs": [
    {
     "name": "stderr",
     "output_type": "stream",
     "text": [
      "Downloading...\n",
      "From: https://drive.google.com/uc?id=1nBE3N2cXQGwD8JaD0JZ2LmFD-n3D5hVU\n",
      "To: /content/cats_and_dogs_small.zip\n",
      "90.8MB [00:00, 113MB/s] \n"
     ]
    },
    {
     "data": {
      "application/vnd.google.colaboratory.intrinsic+json": {
       "type": "string"
      },
      "text/plain": [
       "'cats_and_dogs_small.zip'"
      ]
     },
     "execution_count": 1,
     "metadata": {
      "tags": []
     },
     "output_type": "execute_result"
    }
   ],
   "source": [
    "# 이미지 다운로드\n",
    "# https://drive.google.com/uc?id=공유파일_ID\n",
    "import gdown\n",
    "\n",
    "url = 'https://drive.google.com/uc?id=1nBE3N2cXQGwD8JaD0JZ2LmFD-n3D5hVU'\n",
    "fname = 'cats_and_dogs_small.zip'\n",
    "\n",
    "gdown.download(url, fname, quiet=False) #url, 저장할 경로"
   ]
  },
  {
   "cell_type": "code",
   "execution_count": null,
   "metadata": {
    "id": "Bq1eOGjWu2fI"
   },
   "outputs": [],
   "source": [
    "# 리눅스 명령어로 디렉토리 생성\n",
    "!mkdir data"
   ]
  },
  {
   "cell_type": "code",
   "execution_count": null,
   "metadata": {
    "id": "283hnuT_u2br"
   },
   "outputs": [],
   "source": [
    "# 압축풀기  -q: 로그남기지 말아라.   -d 압축을 어디에 풀것인지 디렉토리 지정.\n",
    "!unzip -q cats_and_dogs_small.zip -d data/cats_and_dogs_small"
   ]
  },
  {
   "cell_type": "markdown",
   "metadata": {
    "id": "2zBEjjWgYrha"
   },
   "source": [
    "## Build a network\n",
    "\n",
    "- Input: $150 \\times 150$ 픽셀의 RGB layer \n",
    "- Output: cat or dog (binary classification) \n",
    "- ImageDataGenerator를 이용해 파일시스템에 저장된 이미지데이터셋을 학습시킨다."
   ]
  },
  {
   "cell_type": "code",
   "execution_count": 42,
   "metadata": {
    "executionInfo": {
     "elapsed": 693,
     "status": "ok",
     "timestamp": 1619488112253,
     "user": {
      "displayName": "Sunghwan KIM",
      "photoUrl": "",
      "userId": "06010856989212311727"
     },
     "user_tz": -540
    },
    "id": "gPubGbIu0uMb"
   },
   "outputs": [],
   "source": [
    "import tensorflow as tf\n",
    "from tensorflow import keras\n",
    "from tensorflow.keras import layers\n",
    "import numpy as np\n",
    "\n",
    "np.random.seed(1)\n",
    "tf.random.set_seed(1)"
   ]
  },
  {
   "cell_type": "code",
   "execution_count": 43,
   "metadata": {
    "executionInfo": {
     "elapsed": 823,
     "status": "ok",
     "timestamp": 1619488115300,
     "user": {
      "displayName": "Sunghwan KIM",
      "photoUrl": "",
      "userId": "06010856989212311727"
     },
     "user_tz": -540
    },
    "id": "PTnVaApE0uJ1"
   },
   "outputs": [],
   "source": [
    "#하이퍼파라미터\n",
    "LEARNING_RATE = 0.001\n",
    "DROPOUT_RATE = 0.5\n",
    "N_EPOCHS = 50\n",
    "N_BATCHS = 20\n",
    "IMAGE_SIZE = 150"
   ]
  },
  {
   "cell_type": "code",
   "execution_count": 44,
   "metadata": {
    "executionInfo": {
     "elapsed": 713,
     "status": "ok",
     "timestamp": 1619488119002,
     "user": {
      "displayName": "Sunghwan KIM",
      "photoUrl": "",
      "userId": "06010856989212311727"
     },
     "user_tz": -540
    },
    "id": "3SSvr-QF0uDA"
   },
   "outputs": [],
   "source": [
    "def create_model():\n",
    "    model = keras.Sequential()\n",
    "    model.add(layers.Input((IMAGE_SIZE, IMAGE_SIZE, 3)))\n",
    "\n",
    "    model.add(layers.Conv2D(filters=64, kernel_size=3, padding='same', activation='relu'))\n",
    "    model.add(layers.MaxPool2D(padding='same'))\n",
    "\n",
    "    model.add(layers.Conv2D(filters=128, kernel_size=3, padding='same', activation='relu'))\n",
    "    model.add(layers.MaxPool2D(padding='same'))\n",
    "\n",
    "    model.add(layers.Conv2D(filters=256, kernel_size=3, padding='same', activation='relu'))\n",
    "    model.add(layers.MaxPool2D(padding='same'))\n",
    "\n",
    "    # classification\n",
    "    model.add(layers.Flatten())\n",
    "    model.add(layers.Dropout(DROPOUT_RATE))\n",
    "    model.add(layers.Dense(units=512, activation='relu'))\n",
    "    # 출력\n",
    "    model.add(layers.Dense(units=1, activation='sigmoid'))  #dog/cat : binary classification\n",
    "\n",
    "    return model"
   ]
  },
  {
   "cell_type": "code",
   "execution_count": null,
   "metadata": {
    "colab": {
     "base_uri": "https://localhost:8080/"
    },
    "executionInfo": {
     "elapsed": 1482,
     "status": "ok",
     "timestamp": 1619422861546,
     "user": {
      "displayName": "Sunghwan KIM",
      "photoUrl": "",
      "userId": "06010856989212311727"
     },
     "user_tz": -540
    },
    "id": "ZXmwh5jo0t_C",
    "outputId": "c072d26e-095c-4799-9947-5630cf37f473"
   },
   "outputs": [
    {
     "name": "stdout",
     "output_type": "stream",
     "text": [
      "Model: \"sequential\"\n",
      "_________________________________________________________________\n",
      "Layer (type)                 Output Shape              Param #   \n",
      "=================================================================\n",
      "conv2d (Conv2D)              (None, 150, 150, 64)      1792      \n",
      "_________________________________________________________________\n",
      "max_pooling2d (MaxPooling2D) (None, 75, 75, 64)        0         \n",
      "_________________________________________________________________\n",
      "conv2d_1 (Conv2D)            (None, 75, 75, 128)       73856     \n",
      "_________________________________________________________________\n",
      "max_pooling2d_1 (MaxPooling2 (None, 38, 38, 128)       0         \n",
      "_________________________________________________________________\n",
      "conv2d_2 (Conv2D)            (None, 38, 38, 256)       295168    \n",
      "_________________________________________________________________\n",
      "max_pooling2d_2 (MaxPooling2 (None, 19, 19, 256)       0         \n",
      "_________________________________________________________________\n",
      "flatten (Flatten)            (None, 92416)             0         \n",
      "_________________________________________________________________\n",
      "dropout (Dropout)            (None, 92416)             0         \n",
      "_________________________________________________________________\n",
      "dense (Dense)                (None, 512)               47317504  \n",
      "_________________________________________________________________\n",
      "dense_1 (Dense)              (None, 1)                 513       \n",
      "=================================================================\n",
      "Total params: 47,688,833\n",
      "Trainable params: 47,688,833\n",
      "Non-trainable params: 0\n",
      "_________________________________________________________________\n"
     ]
    }
   ],
   "source": [
    "model = create_model()\n",
    "model.compile(optimizer=keras.optimizers.Adam(learning_rate=LEARNING_RATE), \n",
    "              loss='binary_crossentropy', \n",
    "              metrics=['accuracy'])\n",
    "model.summary()"
   ]
  },
  {
   "cell_type": "code",
   "execution_count": null,
   "metadata": {
    "id": "lamHfar30t23"
   },
   "outputs": [],
   "source": [
    "# ImageDataGenerator 생성 => Augmentation, 입력 pipeline\n",
    "from tensorflow.keras.preprocessing.image import ImageDataGenerator\n",
    "import matplotlib.pyplot as plt\n",
    "\n",
    "train_dir = '/content/data/cats_and_dogs_small/train'\n",
    "validation_dir = '/content/data/cats_and_dogs_small/validation'\n",
    "test_dir = '/content/data/cats_and_dogs_small/test'"
   ]
  },
  {
   "cell_type": "code",
   "execution_count": null,
   "metadata": {
    "id": "19WBxIH2rZbI"
   },
   "outputs": [],
   "source": [
    "# 1. ImageDataGenerator - No Augmentation\n",
    "train_datagen = ImageDataGenerator(rescale=1./255)\n",
    "test_datagen = ImageDataGenerator(rescale=1./255)"
   ]
  },
  {
   "cell_type": "code",
   "execution_count": null,
   "metadata": {
    "colab": {
     "base_uri": "https://localhost:8080/"
    },
    "executionInfo": {
     "elapsed": 1219,
     "status": "ok",
     "timestamp": 1619419550039,
     "user": {
      "displayName": "Sunghwan KIM",
      "photoUrl": "",
      "userId": "06010856989212311727"
     },
     "user_tz": -540
    },
    "id": "5LHgB58crZbI",
    "outputId": "ecd2d117-409c-457b-b174-459454071ab8"
   },
   "outputs": [
    {
     "name": "stdout",
     "output_type": "stream",
     "text": [
      "Found 2000 images belonging to 2 classes.\n",
      "Found 1000 images belonging to 2 classes.\n",
      "Found 1000 images belonging to 2 classes.\n"
     ]
    }
   ],
   "source": [
    "# Gen.flow_from_directoy() 이용해서 iterator 생성\n",
    "train_iterator = train_datagen.flow_from_directory(directory=train_dir, # 이미지들의 디렉토리.\n",
    "                                                   target_size=(IMAGE_SIZE,IMAGE_SIZE), #Resize 크기(height, width)\n",
    "                                                   class_mode='binary', #dog/cat => binary\n",
    "                                                   batch_size=N_BATCHS)\n",
    "\n",
    "validation_iterator = test_datagen.flow_from_directory(directory=validation_dir,\n",
    "                                                       target_size=(IMAGE_SIZE, IMAGE_SIZE),\n",
    "                                                       class_mode='binary',\n",
    "                                                       batch_size=N_BATCHS)\n",
    "\n",
    "test_iterator = test_datagen.flow_from_directory(directory=test_dir,\n",
    "                                                       target_size=(IMAGE_SIZE, IMAGE_SIZE),\n",
    "                                                       class_mode='binary',\n",
    "                                                       batch_size=N_BATCHS)"
   ]
  },
  {
   "cell_type": "code",
   "execution_count": null,
   "metadata": {
    "colab": {
     "base_uri": "https://localhost:8080/"
    },
    "executionInfo": {
     "elapsed": 753,
     "status": "ok",
     "timestamp": 1619419667329,
     "user": {
      "displayName": "Sunghwan KIM",
      "photoUrl": "",
      "userId": "06010856989212311727"
     },
     "user_tz": -540
    },
    "id": "DB_COp9SrZbJ",
    "outputId": "2e186bee-b55b-4ed9-b530-df1249432abe"
   },
   "outputs": [
    {
     "data": {
      "text/plain": [
       "{'cats': 0, 'dogs': 1}"
      ]
     },
     "execution_count": 16,
     "metadata": {
      "tags": []
     },
     "output_type": "execute_result"
    }
   ],
   "source": [
    "train_iterator.class_indices"
   ]
  },
  {
   "cell_type": "code",
   "execution_count": null,
   "metadata": {
    "colab": {
     "base_uri": "https://localhost:8080/"
    },
    "executionInfo": {
     "elapsed": 759,
     "status": "ok",
     "timestamp": 1619419728680,
     "user": {
      "displayName": "Sunghwan KIM",
      "photoUrl": "",
      "userId": "06010856989212311727"
     },
     "user_tz": -540
    },
    "id": "zryVcUAHrZbJ",
    "outputId": "b18039f4-43f8-4516-f318-b483d7da6fce"
   },
   "outputs": [
    {
     "data": {
      "text/plain": [
       "(100, 50, 50)"
      ]
     },
     "execution_count": 17,
     "metadata": {
      "tags": []
     },
     "output_type": "execute_result"
    }
   ],
   "source": [
    "len(train_iterator), len(validation_iterator), len(test_iterator)  #1 에폭당 step 수"
   ]
  },
  {
   "cell_type": "markdown",
   "metadata": {
    "id": "AIfzRaBOYrhj"
   },
   "source": [
    "\n",
    "##  Model Training(학습)"
   ]
  },
  {
   "cell_type": "code",
   "execution_count": null,
   "metadata": {
    "colab": {
     "base_uri": "https://localhost:8080/"
    },
    "executionInfo": {
     "elapsed": 491440,
     "status": "ok",
     "timestamp": 1619420420972,
     "user": {
      "displayName": "Sunghwan KIM",
      "photoUrl": "",
      "userId": "06010856989212311727"
     },
     "user_tz": -540
    },
    "id": "YPyUjHNurZbK",
    "outputId": "fdd00110-38a2-460f-a481-4ae9408afc50"
   },
   "outputs": [
    {
     "name": "stdout",
     "output_type": "stream",
     "text": [
      "Epoch 1/50\n",
      "100/100 [==============================] - 43s 95ms/step - loss: 0.9078 - accuracy: 0.5054 - val_loss: 0.6859 - val_accuracy: 0.5140\n",
      "Epoch 2/50\n",
      "100/100 [==============================] - 9s 91ms/step - loss: 0.6615 - accuracy: 0.5888 - val_loss: 0.6781 - val_accuracy: 0.5890\n",
      "Epoch 3/50\n",
      "100/100 [==============================] - 9s 92ms/step - loss: 0.6482 - accuracy: 0.6228 - val_loss: 0.6464 - val_accuracy: 0.6350\n",
      "Epoch 4/50\n",
      "100/100 [==============================] - 9s 90ms/step - loss: 0.6134 - accuracy: 0.6935 - val_loss: 0.6199 - val_accuracy: 0.6690\n",
      "Epoch 5/50\n",
      "100/100 [==============================] - 9s 91ms/step - loss: 0.5183 - accuracy: 0.7577 - val_loss: 0.6035 - val_accuracy: 0.7040\n",
      "Epoch 6/50\n",
      "100/100 [==============================] - 9s 90ms/step - loss: 0.4974 - accuracy: 0.7523 - val_loss: 0.5716 - val_accuracy: 0.7000\n",
      "Epoch 7/50\n",
      "100/100 [==============================] - 9s 91ms/step - loss: 0.4825 - accuracy: 0.7630 - val_loss: 0.6097 - val_accuracy: 0.6670\n",
      "Epoch 8/50\n",
      "100/100 [==============================] - 9s 90ms/step - loss: 0.4714 - accuracy: 0.7644 - val_loss: 0.5915 - val_accuracy: 0.7110\n",
      "Epoch 9/50\n",
      "100/100 [==============================] - 9s 90ms/step - loss: 0.3412 - accuracy: 0.8479 - val_loss: 0.5657 - val_accuracy: 0.7290\n",
      "Epoch 10/50\n",
      "100/100 [==============================] - 9s 92ms/step - loss: 0.2954 - accuracy: 0.8758 - val_loss: 0.5990 - val_accuracy: 0.7230\n",
      "Epoch 11/50\n",
      "100/100 [==============================] - 9s 90ms/step - loss: 0.2111 - accuracy: 0.9241 - val_loss: 0.7229 - val_accuracy: 0.7470\n",
      "Epoch 12/50\n",
      "100/100 [==============================] - 9s 91ms/step - loss: 0.1445 - accuracy: 0.9516 - val_loss: 0.7638 - val_accuracy: 0.7200\n",
      "Epoch 13/50\n",
      "100/100 [==============================] - 9s 90ms/step - loss: 0.0972 - accuracy: 0.9668 - val_loss: 1.0962 - val_accuracy: 0.7150\n",
      "Epoch 14/50\n",
      "100/100 [==============================] - 9s 91ms/step - loss: 0.1130 - accuracy: 0.9618 - val_loss: 0.9749 - val_accuracy: 0.7250\n",
      "Epoch 15/50\n",
      "100/100 [==============================] - 9s 91ms/step - loss: 0.0870 - accuracy: 0.9730 - val_loss: 1.0503 - val_accuracy: 0.7370\n",
      "Epoch 16/50\n",
      "100/100 [==============================] - 9s 92ms/step - loss: 0.0398 - accuracy: 0.9879 - val_loss: 1.4909 - val_accuracy: 0.6910\n",
      "Epoch 17/50\n",
      "100/100 [==============================] - 9s 91ms/step - loss: 0.0430 - accuracy: 0.9846 - val_loss: 1.1888 - val_accuracy: 0.7240\n",
      "Epoch 18/50\n",
      "100/100 [==============================] - 9s 92ms/step - loss: 0.0373 - accuracy: 0.9837 - val_loss: 1.2236 - val_accuracy: 0.7230\n",
      "Epoch 19/50\n",
      "100/100 [==============================] - 9s 91ms/step - loss: 0.0227 - accuracy: 0.9951 - val_loss: 1.4872 - val_accuracy: 0.7020\n",
      "Epoch 20/50\n",
      "100/100 [==============================] - 9s 90ms/step - loss: 0.0249 - accuracy: 0.9881 - val_loss: 1.4488 - val_accuracy: 0.7150\n",
      "Epoch 21/50\n",
      "100/100 [==============================] - 9s 92ms/step - loss: 0.0156 - accuracy: 0.9966 - val_loss: 1.5059 - val_accuracy: 0.7050\n",
      "Epoch 22/50\n",
      "100/100 [==============================] - 9s 90ms/step - loss: 0.0308 - accuracy: 0.9881 - val_loss: 1.1768 - val_accuracy: 0.7310\n",
      "Epoch 23/50\n",
      "100/100 [==============================] - 9s 91ms/step - loss: 0.0198 - accuracy: 0.9957 - val_loss: 1.3914 - val_accuracy: 0.7120\n",
      "Epoch 24/50\n",
      "100/100 [==============================] - 9s 91ms/step - loss: 0.0213 - accuracy: 0.9949 - val_loss: 1.2414 - val_accuracy: 0.7270\n",
      "Epoch 25/50\n",
      "100/100 [==============================] - 9s 93ms/step - loss: 0.0144 - accuracy: 0.9950 - val_loss: 1.4511 - val_accuracy: 0.7220\n",
      "Epoch 26/50\n",
      "100/100 [==============================] - 9s 90ms/step - loss: 0.0058 - accuracy: 0.9990 - val_loss: 1.4397 - val_accuracy: 0.7310\n",
      "Epoch 27/50\n",
      "100/100 [==============================] - 9s 91ms/step - loss: 0.0121 - accuracy: 0.9966 - val_loss: 1.3594 - val_accuracy: 0.7120\n",
      "Epoch 28/50\n",
      "100/100 [==============================] - 9s 92ms/step - loss: 0.0091 - accuracy: 0.9973 - val_loss: 1.4808 - val_accuracy: 0.7270\n",
      "Epoch 29/50\n",
      "100/100 [==============================] - 9s 91ms/step - loss: 0.0011 - accuracy: 1.0000 - val_loss: 1.6547 - val_accuracy: 0.7280\n",
      "Epoch 30/50\n",
      "100/100 [==============================] - 9s 92ms/step - loss: 0.0057 - accuracy: 0.9988 - val_loss: 1.6419 - val_accuracy: 0.7080\n",
      "Epoch 31/50\n",
      "100/100 [==============================] - 9s 91ms/step - loss: 0.0205 - accuracy: 0.9939 - val_loss: 1.5769 - val_accuracy: 0.7010\n",
      "Epoch 32/50\n",
      "100/100 [==============================] - 9s 91ms/step - loss: 0.0478 - accuracy: 0.9868 - val_loss: 1.1458 - val_accuracy: 0.7300\n",
      "Epoch 33/50\n",
      "100/100 [==============================] - 9s 92ms/step - loss: 0.0250 - accuracy: 0.9929 - val_loss: 1.4684 - val_accuracy: 0.7160\n",
      "Epoch 34/50\n",
      "100/100 [==============================] - 9s 91ms/step - loss: 0.0317 - accuracy: 0.9918 - val_loss: 1.2999 - val_accuracy: 0.7370\n",
      "Epoch 35/50\n",
      "100/100 [==============================] - 9s 91ms/step - loss: 0.0116 - accuracy: 0.9970 - val_loss: 1.5367 - val_accuracy: 0.7210\n",
      "Epoch 36/50\n",
      "100/100 [==============================] - 9s 92ms/step - loss: 0.0039 - accuracy: 0.9992 - val_loss: 1.4974 - val_accuracy: 0.7320\n",
      "Epoch 37/50\n",
      "100/100 [==============================] - 9s 91ms/step - loss: 0.0036 - accuracy: 0.9990 - val_loss: 1.6898 - val_accuracy: 0.7230\n",
      "Epoch 38/50\n",
      "100/100 [==============================] - 9s 91ms/step - loss: 0.0038 - accuracy: 0.9988 - val_loss: 1.5208 - val_accuracy: 0.7170\n",
      "Epoch 39/50\n",
      "100/100 [==============================] - 9s 92ms/step - loss: 0.0022 - accuracy: 1.0000 - val_loss: 1.7842 - val_accuracy: 0.7340\n",
      "Epoch 40/50\n",
      "100/100 [==============================] - 9s 91ms/step - loss: 2.3370e-04 - accuracy: 1.0000 - val_loss: 1.8477 - val_accuracy: 0.7260\n",
      "Epoch 41/50\n",
      "100/100 [==============================] - 9s 91ms/step - loss: 0.0060 - accuracy: 0.9980 - val_loss: 2.0896 - val_accuracy: 0.7180\n",
      "Epoch 42/50\n",
      "100/100 [==============================] - 9s 91ms/step - loss: 0.0171 - accuracy: 0.9947 - val_loss: 1.4616 - val_accuracy: 0.7180\n",
      "Epoch 43/50\n",
      "100/100 [==============================] - 9s 91ms/step - loss: 0.0417 - accuracy: 0.9833 - val_loss: 1.7452 - val_accuracy: 0.6880\n",
      "Epoch 44/50\n",
      "100/100 [==============================] - 9s 91ms/step - loss: 0.0258 - accuracy: 0.9946 - val_loss: 1.7069 - val_accuracy: 0.7130\n",
      "Epoch 45/50\n",
      "100/100 [==============================] - 9s 92ms/step - loss: 0.0321 - accuracy: 0.9893 - val_loss: 1.5681 - val_accuracy: 0.7300\n",
      "Epoch 46/50\n",
      "100/100 [==============================] - 9s 93ms/step - loss: 0.0126 - accuracy: 0.9981 - val_loss: 1.5772 - val_accuracy: 0.7210\n",
      "Epoch 47/50\n",
      "100/100 [==============================] - 9s 91ms/step - loss: 0.0197 - accuracy: 0.9951 - val_loss: 2.2218 - val_accuracy: 0.7040\n",
      "Epoch 48/50\n",
      "100/100 [==============================] - 9s 91ms/step - loss: 0.0053 - accuracy: 0.9978 - val_loss: 1.7909 - val_accuracy: 0.7100\n",
      "Epoch 49/50\n",
      "100/100 [==============================] - 9s 91ms/step - loss: 0.0244 - accuracy: 0.9926 - val_loss: 1.9285 - val_accuracy: 0.7000\n",
      "Epoch 50/50\n",
      "100/100 [==============================] - 9s 92ms/step - loss: 0.0127 - accuracy: 0.9949 - val_loss: 1.9676 - val_accuracy: 0.7020\n"
     ]
    }
   ],
   "source": [
    "history = model.fit(train_iterator, \n",
    "                    epochs=N_EPOCHS,\n",
    "                    steps_per_epoch=len(train_iterator),\n",
    "                    validation_data=validation_iterator,\n",
    "                    validation_steps=len(validation_iterator))"
   ]
  },
  {
   "cell_type": "code",
   "execution_count": null,
   "metadata": {
    "colab": {
     "base_uri": "https://localhost:8080/"
    },
    "executionInfo": {
     "elapsed": 3745,
     "status": "ok",
     "timestamp": 1619421154966,
     "user": {
      "displayName": "Sunghwan KIM",
      "photoUrl": "",
      "userId": "06010856989212311727"
     },
     "user_tz": -540
    },
    "id": "5-4Tb1gnrZbL",
    "outputId": "bd66f5a7-c53e-4d06-fae8-98636acce50a"
   },
   "outputs": [
    {
     "name": "stdout",
     "output_type": "stream",
     "text": [
      "50/50 [==============================] - 3s 54ms/step - loss: 1.9295 - accuracy: 0.7050\n"
     ]
    },
    {
     "data": {
      "text/plain": [
       "[1.92946457862854, 0.7049999833106995]"
      ]
     },
     "execution_count": 19,
     "metadata": {
      "tags": []
     },
     "output_type": "execute_result"
    }
   ],
   "source": [
    "model.evaluate(test_iterator)"
   ]
  },
  {
   "cell_type": "markdown",
   "metadata": {
    "id": "Wgm2cI4WBl67"
   },
   "source": [
    "- Overfitting 발생 \n",
    "    - 원인: 적은 train dataset"
   ]
  },
  {
   "cell_type": "code",
   "execution_count": null,
   "metadata": {
    "id": "NUQK1HXzrZbM"
   },
   "outputs": [],
   "source": []
  },
  {
   "cell_type": "markdown",
   "metadata": {
    "id": "9fAwTvdIYrhm"
   },
   "source": [
    "# Using data augmentation\n",
    "\n",
    "- 학습 이미지의 수가 적어서 overfitting이 발생할 가능성을 줄이기 위해 기존 훈련 데이터로부터 그럴듯하게 이미지 변환을 통해서 이미지(데이터)를 늘리는 작업을 Image augmentation\n",
    "- train_set에만 적용, validation, test set에는 적용하지 않는다. (rescaling만 한다.)"
   ]
  },
  {
   "cell_type": "code",
   "execution_count": null,
   "metadata": {
    "id": "IuaBH15qrZbM"
   },
   "outputs": [],
   "source": [
    "train_datagen = ImageDataGenerator(rescale=1./255,\n",
    "                                   rotation_range=40,\n",
    "                                   width_shift_range=0.1,\n",
    "                                   height_shift_range=0.1,\n",
    "                                   zoom_range=0.2,\n",
    "                                   horizontal_flip=True,\n",
    "                                   brightness_range=(0.7, 1.3),\n",
    "                                   fill_mode='constant')\n",
    "\n",
    "# validation, test 용\n",
    "test_datagen = ImageDataGenerator(rescale=1./255)"
   ]
  },
  {
   "cell_type": "code",
   "execution_count": null,
   "metadata": {
    "colab": {
     "base_uri": "https://localhost:8080/"
    },
    "executionInfo": {
     "elapsed": 824,
     "status": "ok",
     "timestamp": 1619422874990,
     "user": {
      "displayName": "Sunghwan KIM",
      "photoUrl": "",
      "userId": "06010856989212311727"
     },
     "user_tz": -540
    },
    "id": "Z_5VAUCmrZbN",
    "outputId": "fd06e7f1-d85c-405d-e16f-1f4ab14ff6fc"
   },
   "outputs": [
    {
     "name": "stdout",
     "output_type": "stream",
     "text": [
      "Found 2000 images belonging to 2 classes.\n",
      "Found 1000 images belonging to 2 classes.\n",
      "Found 1000 images belonging to 2 classes.\n"
     ]
    }
   ],
   "source": [
    "train_iterator = train_datagen.flow_from_directory(train_dir, \n",
    "                                                   target_size=(IMAGE_SIZE, IMAGE_SIZE),\n",
    "                                                   class_mode='binary',\n",
    "                                                   batch_size=N_BATCHS)\n",
    "\n",
    "validation_iterator = test_datagen.flow_from_directory(validation_dir, \n",
    "                                                       target_size=(IMAGE_SIZE, IMAGE_SIZE),\n",
    "                                                       class_mode='binary',\n",
    "                                                       batch_size=N_BATCHS)\n",
    "test_iterator = test_datagen.flow_from_directory(test_dir, \n",
    "                                                 target_size=(IMAGE_SIZE, IMAGE_SIZE),\n",
    "                                                 class_mode='binary',\n",
    "                                                 batch_size=N_BATCHS)"
   ]
  },
  {
   "cell_type": "code",
   "execution_count": null,
   "metadata": {
    "colab": {
     "base_uri": "https://localhost:8080/"
    },
    "executionInfo": {
     "elapsed": 987,
     "status": "ok",
     "timestamp": 1619421853786,
     "user": {
      "displayName": "Sunghwan KIM",
      "photoUrl": "",
      "userId": "06010856989212311727"
     },
     "user_tz": -540
    },
    "id": "Z0MJlBHfrZbN",
    "outputId": "adc14aff-4b9d-4c7f-f719-7773ce14a783"
   },
   "outputs": [
    {
     "data": {
      "text/plain": [
       "((20, 150, 150, 3), (20,))"
      ]
     },
     "execution_count": 25,
     "metadata": {
      "tags": []
     },
     "output_type": "execute_result"
    }
   ],
   "source": [
    "# 이미지 확인\n",
    "batch_image = train_iterator.next()\n",
    "batch_image[0].shape, batch_image[1].shape   #batch_image[0]: image, batch_image[1]: labels"
   ]
  },
  {
   "cell_type": "code",
   "execution_count": null,
   "metadata": {
    "colab": {
     "base_uri": "https://localhost:8080/",
     "height": 1000,
     "output_embedded_package_id": "1-sjM9PcgHthsB8oDE1rIf0_NxIquBFcU"
    },
    "executionInfo": {
     "elapsed": 4465,
     "status": "ok",
     "timestamp": 1619422088033,
     "user": {
      "displayName": "Sunghwan KIM",
      "photoUrl": "",
      "userId": "06010856989212311727"
     },
     "user_tz": -540
    },
    "id": "4U8PuWcfrZbN",
    "outputId": "867159cc-37aa-44c6-b12e-e040ee827c8d"
   },
   "outputs": [
    {
     "data": {
      "text/plain": [
       "Output hidden; open in https://colab.research.google.com to view."
      ]
     },
     "metadata": {},
     "output_type": "display_data"
    }
   ],
   "source": [
    "plt.figure(figsize=(30,15))\n",
    "for i in range(20):\n",
    "    plt.subplot(4,5,i+1)\n",
    "   a img = batch_image[0][i].astype('uint8')\n",
    "    plt.imshow(img)\n",
    "    plt.axis('off')    \n",
    "plt.tight_layout()\n",
    "plt.show()"
   ]
  },
  {
   "cell_type": "code",
   "execution_count": null,
   "metadata": {
    "id": "od2eh7q8rZbN"
   },
   "outputs": [],
   "source": []
  },
  {
   "cell_type": "code",
   "execution_count": null,
   "metadata": {
    "id": "ewzOopv7rZbN"
   },
   "outputs": [],
   "source": [
    "model2 = create_model()\n",
    "model2.compile(optimizer=keras.optimizers.Adam(learning_rate=LEARNING_RATE), loss='binary_crossentropy', metrics=['accuracy'])"
   ]
  },
  {
   "cell_type": "code",
   "execution_count": null,
   "metadata": {
    "colab": {
     "base_uri": "https://localhost:8080/"
    },
    "executionInfo": {
     "elapsed": 941353,
     "status": "ok",
     "timestamp": 1619423832692,
     "user": {
      "displayName": "Sunghwan KIM",
      "photoUrl": "",
      "userId": "06010856989212311727"
     },
     "user_tz": -540
    },
    "id": "wwc0eDyDrZbN",
    "outputId": "c706d730-8fb4-4b50-9caa-5a408f0dcf37"
   },
   "outputs": [
    {
     "name": "stdout",
     "output_type": "stream",
     "text": [
      "Epoch 1/50\n",
      "100/100 [==============================] - 22s 187ms/step - loss: 0.8660 - accuracy: 0.4992 - val_loss: 0.6937 - val_accuracy: 0.5000\n",
      "Epoch 2/50\n",
      "100/100 [==============================] - 19s 188ms/step - loss: 0.6954 - accuracy: 0.4621 - val_loss: 0.6931 - val_accuracy: 0.5000\n",
      "Epoch 3/50\n",
      "100/100 [==============================] - 19s 186ms/step - loss: 0.6941 - accuracy: 0.4735 - val_loss: 0.6935 - val_accuracy: 0.5000\n",
      "Epoch 4/50\n",
      "100/100 [==============================] - 19s 187ms/step - loss: 0.6929 - accuracy: 0.5163 - val_loss: 0.6928 - val_accuracy: 0.5000\n",
      "Epoch 5/50\n",
      "100/100 [==============================] - 19s 185ms/step - loss: 0.6944 - accuracy: 0.4971 - val_loss: 0.6919 - val_accuracy: 0.5020\n",
      "Epoch 6/50\n",
      "100/100 [==============================] - 18s 185ms/step - loss: 0.6929 - accuracy: 0.5149 - val_loss: 0.6893 - val_accuracy: 0.6010\n",
      "Epoch 7/50\n",
      "100/100 [==============================] - 19s 185ms/step - loss: 0.6928 - accuracy: 0.5183 - val_loss: 0.6846 - val_accuracy: 0.5830\n",
      "Epoch 8/50\n",
      "100/100 [==============================] - 18s 184ms/step - loss: 0.6883 - accuracy: 0.5386 - val_loss: 0.6845 - val_accuracy: 0.5000\n",
      "Epoch 9/50\n",
      "100/100 [==============================] - 19s 186ms/step - loss: 0.6894 - accuracy: 0.5158 - val_loss: 0.7119 - val_accuracy: 0.5120\n",
      "Epoch 10/50\n",
      "100/100 [==============================] - 18s 184ms/step - loss: 0.6887 - accuracy: 0.5447 - val_loss: 0.6543 - val_accuracy: 0.6300\n",
      "Epoch 11/50\n",
      "100/100 [==============================] - 18s 185ms/step - loss: 0.6798 - accuracy: 0.5833 - val_loss: 0.6786 - val_accuracy: 0.5740\n",
      "Epoch 12/50\n",
      "100/100 [==============================] - 19s 186ms/step - loss: 0.6772 - accuracy: 0.5722 - val_loss: 0.6890 - val_accuracy: 0.6010\n",
      "Epoch 13/50\n",
      "100/100 [==============================] - 19s 186ms/step - loss: 0.6685 - accuracy: 0.6013 - val_loss: 0.6253 - val_accuracy: 0.6560\n",
      "Epoch 14/50\n",
      "100/100 [==============================] - 18s 184ms/step - loss: 0.6262 - accuracy: 0.6467 - val_loss: 0.6090 - val_accuracy: 0.6730\n",
      "Epoch 15/50\n",
      "100/100 [==============================] - 19s 186ms/step - loss: 0.6121 - accuracy: 0.6435 - val_loss: 0.6309 - val_accuracy: 0.6350\n",
      "Epoch 16/50\n",
      "100/100 [==============================] - 19s 187ms/step - loss: 0.5994 - accuracy: 0.6710 - val_loss: 0.5900 - val_accuracy: 0.6680\n",
      "Epoch 17/50\n",
      "100/100 [==============================] - 19s 186ms/step - loss: 0.5934 - accuracy: 0.6747 - val_loss: 0.5881 - val_accuracy: 0.6710\n",
      "Epoch 18/50\n",
      "100/100 [==============================] - 19s 189ms/step - loss: 0.5638 - accuracy: 0.6999 - val_loss: 0.6172 - val_accuracy: 0.6490\n",
      "Epoch 19/50\n",
      "100/100 [==============================] - 19s 188ms/step - loss: 0.5839 - accuracy: 0.6902 - val_loss: 0.5839 - val_accuracy: 0.7030\n",
      "Epoch 20/50\n",
      "100/100 [==============================] - 19s 189ms/step - loss: 0.5610 - accuracy: 0.7214 - val_loss: 0.5572 - val_accuracy: 0.7020\n",
      "Epoch 21/50\n",
      "100/100 [==============================] - 19s 186ms/step - loss: 0.5682 - accuracy: 0.6806 - val_loss: 0.5328 - val_accuracy: 0.7270\n",
      "Epoch 22/50\n",
      "100/100 [==============================] - 19s 187ms/step - loss: 0.5590 - accuracy: 0.7155 - val_loss: 0.6252 - val_accuracy: 0.6350\n",
      "Epoch 23/50\n",
      "100/100 [==============================] - 19s 186ms/step - loss: 0.5696 - accuracy: 0.7032 - val_loss: 0.5783 - val_accuracy: 0.7090\n",
      "Epoch 24/50\n",
      "100/100 [==============================] - 19s 186ms/step - loss: 0.5137 - accuracy: 0.7563 - val_loss: 0.5685 - val_accuracy: 0.7140\n",
      "Epoch 25/50\n",
      "100/100 [==============================] - 19s 187ms/step - loss: 0.5572 - accuracy: 0.7164 - val_loss: 0.5336 - val_accuracy: 0.7250\n",
      "Epoch 26/50\n",
      "100/100 [==============================] - 19s 188ms/step - loss: 0.5341 - accuracy: 0.7459 - val_loss: 0.5348 - val_accuracy: 0.7390\n",
      "Epoch 27/50\n",
      "100/100 [==============================] - 20s 196ms/step - loss: 0.5989 - accuracy: 0.6720 - val_loss: 0.5332 - val_accuracy: 0.7140\n",
      "Epoch 28/50\n",
      "100/100 [==============================] - 20s 197ms/step - loss: 0.5306 - accuracy: 0.7187 - val_loss: 0.5035 - val_accuracy: 0.7430\n",
      "Epoch 29/50\n",
      "100/100 [==============================] - 19s 187ms/step - loss: 0.5219 - accuracy: 0.7493 - val_loss: 0.4862 - val_accuracy: 0.7610\n",
      "Epoch 30/50\n",
      "100/100 [==============================] - 19s 187ms/step - loss: 0.4995 - accuracy: 0.7523 - val_loss: 0.5249 - val_accuracy: 0.7370\n",
      "Epoch 31/50\n",
      "100/100 [==============================] - 19s 186ms/step - loss: 0.5355 - accuracy: 0.7328 - val_loss: 0.5559 - val_accuracy: 0.7240\n",
      "Epoch 32/50\n",
      "100/100 [==============================] - 19s 186ms/step - loss: 0.5086 - accuracy: 0.7608 - val_loss: 0.5124 - val_accuracy: 0.7560\n",
      "Epoch 33/50\n",
      "100/100 [==============================] - 18s 184ms/step - loss: 0.4992 - accuracy: 0.7538 - val_loss: 0.4978 - val_accuracy: 0.7410\n",
      "Epoch 34/50\n",
      "100/100 [==============================] - 19s 188ms/step - loss: 0.5023 - accuracy: 0.7559 - val_loss: 0.4806 - val_accuracy: 0.7600\n",
      "Epoch 35/50\n",
      "100/100 [==============================] - 19s 190ms/step - loss: 0.4919 - accuracy: 0.7640 - val_loss: 0.4889 - val_accuracy: 0.7710\n",
      "Epoch 36/50\n",
      "100/100 [==============================] - 19s 186ms/step - loss: 0.4663 - accuracy: 0.7763 - val_loss: 0.5242 - val_accuracy: 0.7280\n",
      "Epoch 37/50\n",
      "100/100 [==============================] - 19s 187ms/step - loss: 0.4884 - accuracy: 0.7613 - val_loss: 0.5385 - val_accuracy: 0.7390\n",
      "Epoch 38/50\n",
      "100/100 [==============================] - 19s 187ms/step - loss: 0.4787 - accuracy: 0.7841 - val_loss: 0.5703 - val_accuracy: 0.7340\n",
      "Epoch 39/50\n",
      "100/100 [==============================] - 19s 189ms/step - loss: 0.4696 - accuracy: 0.7960 - val_loss: 0.4970 - val_accuracy: 0.7580\n",
      "Epoch 40/50\n",
      "100/100 [==============================] - 19s 185ms/step - loss: 0.4963 - accuracy: 0.7439 - val_loss: 0.5145 - val_accuracy: 0.7550\n",
      "Epoch 41/50\n",
      "100/100 [==============================] - 19s 188ms/step - loss: 0.4584 - accuracy: 0.7905 - val_loss: 0.5822 - val_accuracy: 0.7210\n",
      "Epoch 42/50\n",
      "100/100 [==============================] - 19s 185ms/step - loss: 0.4796 - accuracy: 0.7748 - val_loss: 0.4919 - val_accuracy: 0.7610\n",
      "Epoch 43/50\n",
      "100/100 [==============================] - 19s 187ms/step - loss: 0.4580 - accuracy: 0.7836 - val_loss: 0.4763 - val_accuracy: 0.7740\n",
      "Epoch 44/50\n",
      "100/100 [==============================] - 19s 188ms/step - loss: 0.4585 - accuracy: 0.7849 - val_loss: 0.4839 - val_accuracy: 0.7730\n",
      "Epoch 45/50\n",
      "100/100 [==============================] - 19s 186ms/step - loss: 0.4596 - accuracy: 0.7751 - val_loss: 0.4948 - val_accuracy: 0.7690\n",
      "Epoch 46/50\n",
      "100/100 [==============================] - 19s 187ms/step - loss: 0.4660 - accuracy: 0.7804 - val_loss: 0.4799 - val_accuracy: 0.7680\n",
      "Epoch 47/50\n",
      "100/100 [==============================] - 19s 185ms/step - loss: 0.4620 - accuracy: 0.7791 - val_loss: 0.4844 - val_accuracy: 0.7600\n",
      "Epoch 48/50\n",
      "100/100 [==============================] - 19s 189ms/step - loss: 0.4625 - accuracy: 0.7949 - val_loss: 0.4911 - val_accuracy: 0.7590\n",
      "Epoch 49/50\n",
      "100/100 [==============================] - 19s 189ms/step - loss: 0.4742 - accuracy: 0.7694 - val_loss: 0.4944 - val_accuracy: 0.7620\n",
      "Epoch 50/50\n",
      "100/100 [==============================] - 19s 191ms/step - loss: 0.4384 - accuracy: 0.7895 - val_loss: 0.4972 - val_accuracy: 0.7550\n"
     ]
    },
    {
     "data": {
      "text/plain": [
       "<tensorflow.python.keras.callbacks.History at 0x7f6b280ecf50>"
      ]
     },
     "execution_count": 11,
     "metadata": {
      "tags": []
     },
     "output_type": "execute_result"
    }
   ],
   "source": [
    "model2.fit(train_iterator, \n",
    "           epochs=N_EPOCHS,\n",
    "           steps_per_epoch=len(train_iterator),\n",
    "           validation_data=validation_iterator,\n",
    "           validation_steps=len(validation_iterator))"
   ]
  },
  {
   "cell_type": "markdown",
   "metadata": {
    "id": "ql8F1bCZYrhr"
   },
   "source": [
    "###  DataFrame 이용\n",
    "- flow_from_dataframe() 사용\n",
    "    - 파일경로와 label을 DataFrame으로 저장하고 그것을 이용해 데이터셋을 읽어온다."
   ]
  },
  {
   "cell_type": "code",
   "execution_count": 1,
   "metadata": {
    "colab": {
     "base_uri": "https://localhost:8080/",
     "height": 35
    },
    "executionInfo": {
     "elapsed": 2350,
     "status": "ok",
     "timestamp": 1619484287353,
     "user": {
      "displayName": "Sunghwan KIM",
      "photoUrl": "",
      "userId": "06010856989212311727"
     },
     "user_tz": -540
    },
    "id": "bEqMC8CWrZbO",
    "outputId": "18670644-7ca0-4086-b1a6-4536aa196ae6"
   },
   "outputs": [
    {
     "data": {
      "application/vnd.google.colaboratory.intrinsic+json": {
       "type": "string"
      },
      "text/plain": [
       "'cats_and_dogs_union.zip'"
      ]
     },
     "execution_count": 1,
     "metadata": {
      "tags": []
     },
     "output_type": "execute_result"
    }
   ],
   "source": [
    "import gdown\n",
    "\n",
    "url = 'https://drive.google.com/uc?id=17ejPJw42TgTv0jCPMMlVTHwF57XYE2kb'\n",
    "fname = 'cats_and_dogs_union.zip'\n",
    "gdown.download(url, fname, quiet=True)"
   ]
  },
  {
   "cell_type": "code",
   "execution_count": 2,
   "metadata": {
    "executionInfo": {
     "elapsed": 1332,
     "status": "ok",
     "timestamp": 1619484334090,
     "user": {
      "displayName": "Sunghwan KIM",
      "photoUrl": "",
      "userId": "06010856989212311727"
     },
     "user_tz": -540
    },
    "id": "Kb8yFH2rrZbP"
   },
   "outputs": [],
   "source": [
    "!mkdir data"
   ]
  },
  {
   "cell_type": "code",
   "execution_count": 3,
   "metadata": {
    "executionInfo": {
     "elapsed": 1608,
     "status": "ok",
     "timestamp": 1619484389622,
     "user": {
      "displayName": "Sunghwan KIM",
      "photoUrl": "",
      "userId": "06010856989212311727"
     },
     "user_tz": -540
    },
    "id": "HKzfKZUNrZbP"
   },
   "outputs": [],
   "source": [
    "!unzip -q ./cats_and_dogs_union.zip -d ./data/cats_and_dogs"
   ]
  },
  {
   "cell_type": "code",
   "execution_count": null,
   "metadata": {
    "id": "TR4Vyq9XrZbP"
   },
   "outputs": [],
   "source": []
  },
  {
   "cell_type": "markdown",
   "metadata": {
    "id": "zoPWzKQizVpX"
   },
   "source": [
    "# DataFrame 생성\n",
    "- path, label 컬럼"
   ]
  },
  {
   "cell_type": "code",
   "execution_count": 5,
   "metadata": {
    "colab": {
     "base_uri": "https://localhost:8080/"
    },
    "executionInfo": {
     "elapsed": 726,
     "status": "ok",
     "timestamp": 1619484918238,
     "user": {
      "displayName": "Sunghwan KIM",
      "photoUrl": "",
      "userId": "06010856989212311727"
     },
     "user_tz": -540
    },
    "id": "pU5f1nMcrZbP",
    "outputId": "58dca161-3a00-4a17-c801-6c894bea5822"
   },
   "outputs": [
    {
     "data": {
      "text/plain": [
       "4000"
      ]
     },
     "execution_count": 5,
     "metadata": {
      "tags": []
     },
     "output_type": "execute_result"
    }
   ],
   "source": [
    "#파일 경로 다루기 - glob\n",
    "from glob import glob\n",
    "# ** 모든 하위경로, *.jpg (확장자가 jpg인 모든 파일)\n",
    "path_list = glob(\"/content/data/cats_and_dogs/**/*.jpg\") #지정한 파일들의 absolute path(절대경로)를 문자열로 반환 (리스트에 담아서 반환.)\n",
    "len(path_list)"
   ]
  },
  {
   "cell_type": "code",
   "execution_count": 6,
   "metadata": {
    "colab": {
     "base_uri": "https://localhost:8080/"
    },
    "executionInfo": {
     "elapsed": 717,
     "status": "ok",
     "timestamp": 1619486034544,
     "user": {
      "displayName": "Sunghwan KIM",
      "photoUrl": "",
      "userId": "06010856989212311727"
     },
     "user_tz": -540
    },
    "id": "dPgVUmWVrZbQ",
    "outputId": "20cfc46e-76c2-4425-ac07-c9caa97f6116"
   },
   "outputs": [
    {
     "data": {
      "text/plain": [
       "['/content/data/cats_and_dogs/cats/cat.1303.jpg',\n",
       " '/content/data/cats_and_dogs/cats/cat.1974.jpg',\n",
       " '/content/data/cats_and_dogs/cats/cat.1335.jpg',\n",
       " '/content/data/cats_and_dogs/cats/cat.766.jpg',\n",
       " '/content/data/cats_and_dogs/cats/cat.1203.jpg',\n",
       " '/content/data/cats_and_dogs/cats/cat.1351.jpg',\n",
       " '/content/data/cats_and_dogs/cats/cat.151.jpg',\n",
       " '/content/data/cats_and_dogs/cats/cat.1079.jpg',\n",
       " '/content/data/cats_and_dogs/cats/cat.768.jpg',\n",
       " '/content/data/cats_and_dogs/cats/cat.1916.jpg']"
      ]
     },
     "execution_count": 6,
     "metadata": {
      "tags": []
     },
     "output_type": "execute_result"
    }
   ],
   "source": [
    "path_list[:10]"
   ]
  },
  {
   "cell_type": "code",
   "execution_count": 8,
   "metadata": {
    "colab": {
     "base_uri": "https://localhost:8080/"
    },
    "executionInfo": {
     "elapsed": 720,
     "status": "ok",
     "timestamp": 1619486123091,
     "user": {
      "displayName": "Sunghwan KIM",
      "photoUrl": "",
      "userId": "06010856989212311727"
     },
     "user_tz": -540
    },
    "id": "ZpYgYbw4rZbQ",
    "outputId": "ed81f35b-e430-47e8-9be4-ae5942a3b817"
   },
   "outputs": [
    {
     "data": {
      "text/plain": [
       "['/content/data/cats_and_dogs/dogs/dog.1999.jpg',\n",
       " '/content/data/cats_and_dogs/dogs/dog.1812.jpg',\n",
       " '/content/data/cats_and_dogs/dogs/dog.486.jpg',\n",
       " '/content/data/cats_and_dogs/dogs/dog.1908.jpg',\n",
       " '/content/data/cats_and_dogs/dogs/dog.603.jpg',\n",
       " '/content/data/cats_and_dogs/dogs/dog.1585.jpg',\n",
       " '/content/data/cats_and_dogs/dogs/dog.1375.jpg',\n",
       " '/content/data/cats_and_dogs/dogs/dog.575.jpg',\n",
       " '/content/data/cats_and_dogs/dogs/dog.577.jpg',\n",
       " '/content/data/cats_and_dogs/dogs/dog.1948.jpg']"
      ]
     },
     "execution_count": 8,
     "metadata": {
      "tags": []
     },
     "output_type": "execute_result"
    }
   ],
   "source": [
    "path_list[-10:]"
   ]
  },
  {
   "cell_type": "code",
   "execution_count": 15,
   "metadata": {
    "colab": {
     "base_uri": "https://localhost:8080/"
    },
    "executionInfo": {
     "elapsed": 733,
     "status": "ok",
     "timestamp": 1619486651715,
     "user": {
      "displayName": "Sunghwan KIM",
      "photoUrl": "",
      "userId": "06010856989212311727"
     },
     "user_tz": -540
    },
    "id": "jU8gMcPerZbQ",
    "outputId": "a7e102a4-346e-401e-a826-d168f03af049"
   },
   "outputs": [
    {
     "name": "stdout",
     "output_type": "stream",
     "text": [
      "dog.1999.jpg\n",
      "/content/data/cats_and_dogs/dogs\n",
      "dogs\n"
     ]
    }
   ],
   "source": [
    "import os\n",
    "\n",
    "f = '/content/data/cats_and_dogs/dogs/dog.1999.jpg'\n",
    "# basename(경로): 경로에서 파일명만 추출\n",
    "print(os.path.basename(f))  \n",
    "print(os.path.dirname(f)) # dirname(경로): 경로에서 디렉토리 부분만 추출\n",
    "print(os.path.dirname(f).split(r'/')[4])"
   ]
  },
  {
   "cell_type": "code",
   "execution_count": 16,
   "metadata": {
    "executionInfo": {
     "elapsed": 675,
     "status": "ok",
     "timestamp": 1619486680590,
     "user": {
      "displayName": "Sunghwan KIM",
      "photoUrl": "",
      "userId": "06010856989212311727"
     },
     "user_tz": -540
    },
    "id": "r8BEXkaTrZbQ"
   },
   "outputs": [],
   "source": [
    "label_list = []\n",
    "for path in path_list:\n",
    "    l = os.path.dirname(path).split(r'/')[4]\n",
    "    label_list.append(l)"
   ]
  },
  {
   "cell_type": "code",
   "execution_count": 19,
   "metadata": {
    "colab": {
     "base_uri": "https://localhost:8080/"
    },
    "executionInfo": {
     "elapsed": 821,
     "status": "ok",
     "timestamp": 1619486780899,
     "user": {
      "displayName": "Sunghwan KIM",
      "photoUrl": "",
      "userId": "06010856989212311727"
     },
     "user_tz": -540
    },
    "id": "2ncAkEwnrZbQ",
    "outputId": "59b8da31-474f-4d15-8364-2c0db560b0ab"
   },
   "outputs": [
    {
     "data": {
      "text/plain": [
       "(['cats', 'cats', 'cats', 'cats', 'cats'],\n",
       " ['dogs', 'dogs', 'dogs', 'dogs', 'dogs'],\n",
       " 4000)"
      ]
     },
     "execution_count": 19,
     "metadata": {
      "tags": []
     },
     "output_type": "execute_result"
    }
   ],
   "source": [
    "label_list = [os.path.dirname(path).split(r'/')[4] for path in path_list]\n",
    "label_list[:5], label_list[-5:], len(label_list)"
   ]
  },
  {
   "cell_type": "code",
   "execution_count": 20,
   "metadata": {
    "colab": {
     "base_uri": "https://localhost:8080/"
    },
    "executionInfo": {
     "elapsed": 721,
     "status": "ok",
     "timestamp": 1619486848213,
     "user": {
      "displayName": "Sunghwan KIM",
      "photoUrl": "",
      "userId": "06010856989212311727"
     },
     "user_tz": -540
    },
    "id": "yhUjyYLfrZbQ",
    "outputId": "49d18759-6ee9-4190-ffc3-00c6dd4bed8f"
   },
   "outputs": [
    {
     "data": {
      "text/plain": [
       "(4000, 2)"
      ]
     },
     "execution_count": 20,
     "metadata": {
      "tags": []
     },
     "output_type": "execute_result"
    }
   ],
   "source": [
    "import pandas as pd\n",
    "d = {\n",
    "    \"path\":path_list,\n",
    "    \"label\":label_list\n",
    "}\n",
    "data_df = pd.DataFrame(d)\n",
    "data_df.shape"
   ]
  },
  {
   "cell_type": "code",
   "execution_count": 21,
   "metadata": {
    "colab": {
     "base_uri": "https://localhost:8080/",
     "height": 204
    },
    "executionInfo": {
     "elapsed": 752,
     "status": "ok",
     "timestamp": 1619486858194,
     "user": {
      "displayName": "Sunghwan KIM",
      "photoUrl": "",
      "userId": "06010856989212311727"
     },
     "user_tz": -540
    },
    "id": "NGflpHwYrZbR",
    "outputId": "6ce21ea0-8901-48ca-fe7d-f4fa6f1d1b37"
   },
   "outputs": [
    {
     "data": {
      "text/html": [
       "<div>\n",
       "<style scoped>\n",
       "    .dataframe tbody tr th:only-of-type {\n",
       "        vertical-align: middle;\n",
       "    }\n",
       "\n",
       "    .dataframe tbody tr th {\n",
       "        vertical-align: top;\n",
       "    }\n",
       "\n",
       "    .dataframe thead th {\n",
       "        text-align: right;\n",
       "    }\n",
       "</style>\n",
       "<table border=\"1\" class=\"dataframe\">\n",
       "  <thead>\n",
       "    <tr style=\"text-align: right;\">\n",
       "      <th></th>\n",
       "      <th>path</th>\n",
       "      <th>label</th>\n",
       "    </tr>\n",
       "  </thead>\n",
       "  <tbody>\n",
       "    <tr>\n",
       "      <th>0</th>\n",
       "      <td>/content/data/cats_and_dogs/cats/cat.1303.jpg</td>\n",
       "      <td>cats</td>\n",
       "    </tr>\n",
       "    <tr>\n",
       "      <th>1</th>\n",
       "      <td>/content/data/cats_and_dogs/cats/cat.1974.jpg</td>\n",
       "      <td>cats</td>\n",
       "    </tr>\n",
       "    <tr>\n",
       "      <th>2</th>\n",
       "      <td>/content/data/cats_and_dogs/cats/cat.1335.jpg</td>\n",
       "      <td>cats</td>\n",
       "    </tr>\n",
       "    <tr>\n",
       "      <th>3</th>\n",
       "      <td>/content/data/cats_and_dogs/cats/cat.766.jpg</td>\n",
       "      <td>cats</td>\n",
       "    </tr>\n",
       "    <tr>\n",
       "      <th>4</th>\n",
       "      <td>/content/data/cats_and_dogs/cats/cat.1203.jpg</td>\n",
       "      <td>cats</td>\n",
       "    </tr>\n",
       "  </tbody>\n",
       "</table>\n",
       "</div>"
      ],
      "text/plain": [
       "                                            path label\n",
       "0  /content/data/cats_and_dogs/cats/cat.1303.jpg  cats\n",
       "1  /content/data/cats_and_dogs/cats/cat.1974.jpg  cats\n",
       "2  /content/data/cats_and_dogs/cats/cat.1335.jpg  cats\n",
       "3   /content/data/cats_and_dogs/cats/cat.766.jpg  cats\n",
       "4  /content/data/cats_and_dogs/cats/cat.1203.jpg  cats"
      ]
     },
     "execution_count": 21,
     "metadata": {
      "tags": []
     },
     "output_type": "execute_result"
    }
   ],
   "source": [
    "data_df.head()"
   ]
  },
  {
   "cell_type": "code",
   "execution_count": 22,
   "metadata": {
    "colab": {
     "base_uri": "https://localhost:8080/",
     "height": 204
    },
    "executionInfo": {
     "elapsed": 717,
     "status": "ok",
     "timestamp": 1619486882963,
     "user": {
      "displayName": "Sunghwan KIM",
      "photoUrl": "",
      "userId": "06010856989212311727"
     },
     "user_tz": -540
    },
    "id": "dw9uNvLxrZbR",
    "outputId": "24874f03-cd30-4be6-9eeb-0f79fd0e4d73"
   },
   "outputs": [
    {
     "data": {
      "text/html": [
       "<div>\n",
       "<style scoped>\n",
       "    .dataframe tbody tr th:only-of-type {\n",
       "        vertical-align: middle;\n",
       "    }\n",
       "\n",
       "    .dataframe tbody tr th {\n",
       "        vertical-align: top;\n",
       "    }\n",
       "\n",
       "    .dataframe thead th {\n",
       "        text-align: right;\n",
       "    }\n",
       "</style>\n",
       "<table border=\"1\" class=\"dataframe\">\n",
       "  <thead>\n",
       "    <tr style=\"text-align: right;\">\n",
       "      <th></th>\n",
       "      <th>path</th>\n",
       "      <th>label</th>\n",
       "    </tr>\n",
       "  </thead>\n",
       "  <tbody>\n",
       "    <tr>\n",
       "      <th>3995</th>\n",
       "      <td>/content/data/cats_and_dogs/dogs/dog.1585.jpg</td>\n",
       "      <td>dogs</td>\n",
       "    </tr>\n",
       "    <tr>\n",
       "      <th>3996</th>\n",
       "      <td>/content/data/cats_and_dogs/dogs/dog.1375.jpg</td>\n",
       "      <td>dogs</td>\n",
       "    </tr>\n",
       "    <tr>\n",
       "      <th>3997</th>\n",
       "      <td>/content/data/cats_and_dogs/dogs/dog.575.jpg</td>\n",
       "      <td>dogs</td>\n",
       "    </tr>\n",
       "    <tr>\n",
       "      <th>3998</th>\n",
       "      <td>/content/data/cats_and_dogs/dogs/dog.577.jpg</td>\n",
       "      <td>dogs</td>\n",
       "    </tr>\n",
       "    <tr>\n",
       "      <th>3999</th>\n",
       "      <td>/content/data/cats_and_dogs/dogs/dog.1948.jpg</td>\n",
       "      <td>dogs</td>\n",
       "    </tr>\n",
       "  </tbody>\n",
       "</table>\n",
       "</div>"
      ],
      "text/plain": [
       "                                               path label\n",
       "3995  /content/data/cats_and_dogs/dogs/dog.1585.jpg  dogs\n",
       "3996  /content/data/cats_and_dogs/dogs/dog.1375.jpg  dogs\n",
       "3997   /content/data/cats_and_dogs/dogs/dog.575.jpg  dogs\n",
       "3998   /content/data/cats_and_dogs/dogs/dog.577.jpg  dogs\n",
       "3999  /content/data/cats_and_dogs/dogs/dog.1948.jpg  dogs"
      ]
     },
     "execution_count": 22,
     "metadata": {
      "tags": []
     },
     "output_type": "execute_result"
    }
   ],
   "source": [
    "data_df.tail()"
   ]
  },
  {
   "cell_type": "code",
   "execution_count": 23,
   "metadata": {
    "colab": {
     "base_uri": "https://localhost:8080/"
    },
    "executionInfo": {
     "elapsed": 708,
     "status": "ok",
     "timestamp": 1619486910385,
     "user": {
      "displayName": "Sunghwan KIM",
      "photoUrl": "",
      "userId": "06010856989212311727"
     },
     "user_tz": -540
    },
    "id": "r0Enaq3jrZbR",
    "outputId": "97f17792-8af6-4d27-e503-dce94379562b"
   },
   "outputs": [
    {
     "data": {
      "text/plain": [
       "dogs    2000\n",
       "cats    2000\n",
       "Name: label, dtype: int64"
      ]
     },
     "execution_count": 23,
     "metadata": {
      "tags": []
     },
     "output_type": "execute_result"
    }
   ],
   "source": [
    "data_df['label'].value_counts()"
   ]
  },
  {
   "cell_type": "code",
   "execution_count": 24,
   "metadata": {
    "executionInfo": {
     "elapsed": 642,
     "status": "ok",
     "timestamp": 1619487005591,
     "user": {
      "displayName": "Sunghwan KIM",
      "photoUrl": "",
      "userId": "06010856989212311727"
     },
     "user_tz": -540
    },
    "id": "z459JCf1rZbR"
   },
   "outputs": [],
   "source": [
    "data_df.to_csv('./data/cats_and_dogs_filelist.csv', encoding='utf-8', index=None)"
   ]
  },
  {
   "cell_type": "code",
   "execution_count": 27,
   "metadata": {
    "colab": {
     "base_uri": "https://localhost:8080/"
    },
    "executionInfo": {
     "elapsed": 742,
     "status": "ok",
     "timestamp": 1619487184115,
     "user": {
      "displayName": "Sunghwan KIM",
      "photoUrl": "",
      "userId": "06010856989212311727"
     },
     "user_tz": -540
    },
    "id": "SuVJEP0CvDis",
    "outputId": "65afd092-f840-4289-8ae0-750effc3dfb2"
   },
   "outputs": [
    {
     "data": {
      "text/plain": [
       "((2000, 2), (2000, 2))"
      ]
     },
     "execution_count": 27,
     "metadata": {
      "tags": []
     },
     "output_type": "execute_result"
    }
   ],
   "source": [
    "# cats, dogs DataFrame으로 분리\n",
    "cats_df = data_df[data_df['label']=='cats']\n",
    "dogs_df = data_df[data_df['label']=='dogs']\n",
    "cats_df.shape, dogs_df.shape"
   ]
  },
  {
   "cell_type": "code",
   "execution_count": 33,
   "metadata": {
    "executionInfo": {
     "elapsed": 640,
     "status": "ok",
     "timestamp": 1619487399645,
     "user": {
      "displayName": "Sunghwan KIM",
      "photoUrl": "",
      "userId": "06010856989212311727"
     },
     "user_tz": -540
    },
    "id": "FaFsfdYy9Xr-"
   },
   "outputs": [],
   "source": [
    "# train/test dataframe을 생성   8:2\n",
    "split_idx = int(dogs_df.shape[0]*0.8)"
   ]
  },
  {
   "cell_type": "code",
   "execution_count": 38,
   "metadata": {
    "colab": {
     "base_uri": "https://localhost:8080/"
    },
    "executionInfo": {
     "elapsed": 689,
     "status": "ok",
     "timestamp": 1619487538309,
     "user": {
      "displayName": "Sunghwan KIM",
      "photoUrl": "",
      "userId": "06010856989212311727"
     },
     "user_tz": -540
    },
    "id": "QmU313MA9XqE",
    "outputId": "6fb448ba-a415-4939-e0b3-eeb8189fc46f"
   },
   "outputs": [
    {
     "data": {
      "text/plain": [
       "dogs    1600\n",
       "cats    1600\n",
       "Name: label, dtype: int64"
      ]
     },
     "execution_count": 38,
     "metadata": {
      "tags": []
     },
     "output_type": "execute_result"
    }
   ],
   "source": [
    "train_df = pd.concat([dogs_df[:split_idx], cats_df[:split_idx]], axis=0) #dogs, cats의 0 ~ 1599 (1600)개를 묶어서 train_df 생성\n",
    "train_df.shape\n",
    "train_df['label'].value_counts()"
   ]
  },
  {
   "cell_type": "code",
   "execution_count": 39,
   "metadata": {
    "colab": {
     "base_uri": "https://localhost:8080/"
    },
    "executionInfo": {
     "elapsed": 717,
     "status": "ok",
     "timestamp": 1619487608904,
     "user": {
      "displayName": "Sunghwan KIM",
      "photoUrl": "",
      "userId": "06010856989212311727"
     },
     "user_tz": -540
    },
    "id": "YDOIJQzv9Xne",
    "outputId": "00d443ba-8b54-4d85-e1a1-3aaa287c17f9"
   },
   "outputs": [
    {
     "name": "stdout",
     "output_type": "stream",
     "text": [
      "(800, 2)\n"
     ]
    },
    {
     "data": {
      "text/plain": [
       "dogs    400\n",
       "cats    400\n",
       "Name: label, dtype: int64"
      ]
     },
     "execution_count": 39,
     "metadata": {
      "tags": []
     },
     "output_type": "execute_result"
    }
   ],
   "source": [
    "test_df = pd.concat([dogs_df[split_idx:], cats_df[split_idx:]], axis=0)\n",
    "print(test_df.shape)\n",
    "test_df['label'].value_counts()"
   ]
  },
  {
   "cell_type": "code",
   "execution_count": 40,
   "metadata": {
    "executionInfo": {
     "elapsed": 702,
     "status": "ok",
     "timestamp": 1619487779598,
     "user": {
      "displayName": "Sunghwan KIM",
      "photoUrl": "",
      "userId": "06010856989212311727"
     },
     "user_tz": -540
    },
    "id": "MaDz3DP09Xk5"
   },
   "outputs": [],
   "source": [
    "from tensorflow.keras.preprocessing.image import ImageDataGenerator\n",
    "\n",
    "train_datagen = ImageDataGenerator(rescale=1./255,\n",
    "                                   rotation_range=40,\n",
    "                                   width_shift_range=0.1,\n",
    "                                   height_shift_range=0.1,\n",
    "                                   zoom_range=0.2,\n",
    "                                   horizontal_flip=True,\n",
    "                                   brightness_range=(0.7, 1.3),\n",
    "                                   fill_mode='constant')\n",
    "\n",
    "# validation, test 용\n",
    "test_datagen = ImageDataGenerator(rescale=1./255)"
   ]
  },
  {
   "cell_type": "code",
   "execution_count": 45,
   "metadata": {
    "colab": {
     "base_uri": "https://localhost:8080/"
    },
    "executionInfo": {
     "elapsed": 637,
     "status": "ok",
     "timestamp": 1619488159384,
     "user": {
      "displayName": "Sunghwan KIM",
      "photoUrl": "",
      "userId": "06010856989212311727"
     },
     "user_tz": -540
    },
    "id": "wDoVjjT-9Xii",
    "outputId": "32aafba8-6a14-4aff-924e-684b426d8cda"
   },
   "outputs": [
    {
     "name": "stdout",
     "output_type": "stream",
     "text": [
      "Found 3200 validated image filenames belonging to 2 classes.\n",
      "Found 800 validated image filenames belonging to 2 classes.\n"
     ]
    }
   ],
   "source": [
    "train_iterator = train_datagen.flow_from_dataframe(dataframe=train_df, #path, label을 가진 DataFrame객체를 지정\n",
    "                                                   x_col='path',  #이미지 경로를 가진 컬럼명\n",
    "                                                   y_col='label', # label 컬럼명\n",
    "                                                   target_size=(IMAGE_SIZE, IMAGE_SIZE),\n",
    "                                                   class_mode='binary',\n",
    "                                                   batch_size=N_BATCHS)\n",
    "\n",
    "test_iterator = test_datagen.flow_from_dataframe(test_df,\n",
    "                                                 x_col='path',\n",
    "                                                 y_col='label',\n",
    "                                                 target_size=(IMAGE_SIZE, IMAGE_SIZE),\n",
    "                                                 class_mode='binary',\n",
    "                                                 batch_size=N_BATCHS)"
   ]
  },
  {
   "cell_type": "code",
   "execution_count": 47,
   "metadata": {
    "colab": {
     "base_uri": "https://localhost:8080/",
     "height": 111
    },
    "executionInfo": {
     "elapsed": 692,
     "status": "ok",
     "timestamp": 1619488217052,
     "user": {
      "displayName": "Sunghwan KIM",
      "photoUrl": "",
      "userId": "06010856989212311727"
     },
     "user_tz": -540
    },
    "id": "4G8BWdaUBPbY",
    "outputId": "aae50d83-6e5d-4193-df7f-815a8f3a90f0"
   },
   "outputs": [
    {
     "data": {
      "text/html": [
       "<div>\n",
       "<style scoped>\n",
       "    .dataframe tbody tr th:only-of-type {\n",
       "        vertical-align: middle;\n",
       "    }\n",
       "\n",
       "    .dataframe tbody tr th {\n",
       "        vertical-align: top;\n",
       "    }\n",
       "\n",
       "    .dataframe thead th {\n",
       "        text-align: right;\n",
       "    }\n",
       "</style>\n",
       "<table border=\"1\" class=\"dataframe\">\n",
       "  <thead>\n",
       "    <tr style=\"text-align: right;\">\n",
       "      <th></th>\n",
       "      <th>path</th>\n",
       "      <th>label</th>\n",
       "    </tr>\n",
       "  </thead>\n",
       "  <tbody>\n",
       "    <tr>\n",
       "      <th>2000</th>\n",
       "      <td>/content/data/cats_and_dogs/dogs/dog.1348.jpg</td>\n",
       "      <td>dogs</td>\n",
       "    </tr>\n",
       "    <tr>\n",
       "      <th>2001</th>\n",
       "      <td>/content/data/cats_and_dogs/dogs/dog.1506.jpg</td>\n",
       "      <td>dogs</td>\n",
       "    </tr>\n",
       "  </tbody>\n",
       "</table>\n",
       "</div>"
      ],
      "text/plain": [
       "                                               path label\n",
       "2000  /content/data/cats_and_dogs/dogs/dog.1348.jpg  dogs\n",
       "2001  /content/data/cats_and_dogs/dogs/dog.1506.jpg  dogs"
      ]
     },
     "execution_count": 47,
     "metadata": {
      "tags": []
     },
     "output_type": "execute_result"
    }
   ],
   "source": [
    "train_df.head(2)"
   ]
  },
  {
   "cell_type": "code",
   "execution_count": 46,
   "metadata": {
    "colab": {
     "base_uri": "https://localhost:8080/"
    },
    "executionInfo": {
     "elapsed": 712,
     "status": "ok",
     "timestamp": 1619488193022,
     "user": {
      "displayName": "Sunghwan KIM",
      "photoUrl": "",
      "userId": "06010856989212311727"
     },
     "user_tz": -540
    },
    "id": "yAUV162R9XgL",
    "outputId": "b96ce791-f276-4911-db9c-74ef7550f908"
   },
   "outputs": [
    {
     "data": {
      "text/plain": [
       "{'cats': 0, 'dogs': 1}"
      ]
     },
     "execution_count": 46,
     "metadata": {
      "tags": []
     },
     "output_type": "execute_result"
    }
   ],
   "source": [
    "train_iterator.class_indices"
   ]
  },
  {
   "cell_type": "code",
   "execution_count": 48,
   "metadata": {
    "colab": {
     "base_uri": "https://localhost:8080/"
    },
    "executionInfo": {
     "elapsed": 6081,
     "status": "ok",
     "timestamp": 1619488260469,
     "user": {
      "displayName": "Sunghwan KIM",
      "photoUrl": "",
      "userId": "06010856989212311727"
     },
     "user_tz": -540
    },
    "id": "vyEGWh1O9XY2",
    "outputId": "5b6291c0-984e-4d00-d20b-8daacd852d9b"
   },
   "outputs": [
    {
     "name": "stdout",
     "output_type": "stream",
     "text": [
      "Model: \"sequential\"\n",
      "_________________________________________________________________\n",
      "Layer (type)                 Output Shape              Param #   \n",
      "=================================================================\n",
      "conv2d (Conv2D)              (None, 150, 150, 64)      1792      \n",
      "_________________________________________________________________\n",
      "max_pooling2d (MaxPooling2D) (None, 75, 75, 64)        0         \n",
      "_________________________________________________________________\n",
      "conv2d_1 (Conv2D)            (None, 75, 75, 128)       73856     \n",
      "_________________________________________________________________\n",
      "max_pooling2d_1 (MaxPooling2 (None, 38, 38, 128)       0         \n",
      "_________________________________________________________________\n",
      "conv2d_2 (Conv2D)            (None, 38, 38, 256)       295168    \n",
      "_________________________________________________________________\n",
      "max_pooling2d_2 (MaxPooling2 (None, 19, 19, 256)       0         \n",
      "_________________________________________________________________\n",
      "flatten (Flatten)            (None, 92416)             0         \n",
      "_________________________________________________________________\n",
      "dropout (Dropout)            (None, 92416)             0         \n",
      "_________________________________________________________________\n",
      "dense (Dense)                (None, 512)               47317504  \n",
      "_________________________________________________________________\n",
      "dense_1 (Dense)              (None, 1)                 513       \n",
      "=================================================================\n",
      "Total params: 47,688,833\n",
      "Trainable params: 47,688,833\n",
      "Non-trainable params: 0\n",
      "_________________________________________________________________\n"
     ]
    }
   ],
   "source": [
    "model = create_model()\n",
    "model.compile(optimizer=keras.optimizers.Adam(learning_rate=LEARNING_RATE), \n",
    "              loss='binary_crossentropy', \n",
    "              metrics=['accuracy'])\n",
    "model.summary()"
   ]
  },
  {
   "cell_type": "code",
   "execution_count": 51,
   "metadata": {
    "colab": {
     "base_uri": "https://localhost:8080/"
    },
    "executionInfo": {
     "elapsed": 1461928,
     "status": "ok",
     "timestamp": 1619489832229,
     "user": {
      "displayName": "Sunghwan KIM",
      "photoUrl": "",
      "userId": "06010856989212311727"
     },
     "user_tz": -540
    },
    "id": "_A0OYbk09W1x",
    "outputId": "b79520d7-a72b-4312-8cc7-5464d6a50657",
    "scrolled": false
   },
   "outputs": [
    {
     "name": "stdout",
     "output_type": "stream",
     "text": [
      "Epoch 1/50\n",
      "160/160 [==============================] - 61s 174ms/step - loss: 0.7996 - accuracy: 0.5144 - val_loss: 0.6918 - val_accuracy: 0.5000\n",
      "Epoch 2/50\n",
      "160/160 [==============================] - 28s 176ms/step - loss: 0.6924 - accuracy: 0.5226 - val_loss: 0.6906 - val_accuracy: 0.5925\n",
      "Epoch 3/50\n",
      "160/160 [==============================] - 28s 176ms/step - loss: 0.6931 - accuracy: 0.5086 - val_loss: 0.6931 - val_accuracy: 0.5000\n",
      "Epoch 4/50\n",
      "160/160 [==============================] - 29s 179ms/step - loss: 0.6931 - accuracy: 0.5066 - val_loss: 0.6931 - val_accuracy: 0.5013\n",
      "Epoch 5/50\n",
      "160/160 [==============================] - 30s 184ms/step - loss: 0.6932 - accuracy: 0.4964 - val_loss: 0.6928 - val_accuracy: 0.5000\n",
      "Epoch 6/50\n",
      "160/160 [==============================] - 29s 180ms/step - loss: 0.6940 - accuracy: 0.5130 - val_loss: 0.6931 - val_accuracy: 0.5000\n",
      "Epoch 7/50\n",
      "160/160 [==============================] - 28s 174ms/step - loss: 0.6928 - accuracy: 0.4979 - val_loss: 0.6928 - val_accuracy: 0.5000\n",
      "Epoch 8/50\n",
      "160/160 [==============================] - 28s 178ms/step - loss: 0.6939 - accuracy: 0.5018 - val_loss: 0.6924 - val_accuracy: 0.5025\n",
      "Epoch 9/50\n",
      "160/160 [==============================] - 28s 175ms/step - loss: 0.6923 - accuracy: 0.5140 - val_loss: 0.6887 - val_accuracy: 0.5362\n",
      "Epoch 10/50\n",
      "160/160 [==============================] - 28s 175ms/step - loss: 0.6909 - accuracy: 0.5235 - val_loss: 0.6846 - val_accuracy: 0.5487\n",
      "Epoch 11/50\n",
      "160/160 [==============================] - 29s 179ms/step - loss: 0.6851 - accuracy: 0.5576 - val_loss: 0.6820 - val_accuracy: 0.5587\n",
      "Epoch 12/50\n",
      "160/160 [==============================] - 28s 178ms/step - loss: 0.6852 - accuracy: 0.5487 - val_loss: 0.6681 - val_accuracy: 0.5938\n",
      "Epoch 13/50\n",
      "160/160 [==============================] - 28s 177ms/step - loss: 0.6597 - accuracy: 0.5986 - val_loss: 0.6230 - val_accuracy: 0.6625\n",
      "Epoch 14/50\n",
      "160/160 [==============================] - 29s 179ms/step - loss: 0.6511 - accuracy: 0.6127 - val_loss: 0.6291 - val_accuracy: 0.6475\n",
      "Epoch 15/50\n",
      "160/160 [==============================] - 28s 175ms/step - loss: 0.6520 - accuracy: 0.6238 - val_loss: 0.6133 - val_accuracy: 0.6963\n",
      "Epoch 16/50\n",
      "160/160 [==============================] - 28s 175ms/step - loss: 0.6361 - accuracy: 0.6328 - val_loss: 0.6241 - val_accuracy: 0.6612\n",
      "Epoch 17/50\n",
      "160/160 [==============================] - 28s 174ms/step - loss: 0.6329 - accuracy: 0.6506 - val_loss: 0.5944 - val_accuracy: 0.6988\n",
      "Epoch 18/50\n",
      "160/160 [==============================] - 28s 174ms/step - loss: 0.6052 - accuracy: 0.6588 - val_loss: 0.6051 - val_accuracy: 0.6600\n",
      "Epoch 19/50\n",
      "160/160 [==============================] - 28s 174ms/step - loss: 0.5885 - accuracy: 0.6721 - val_loss: 0.5546 - val_accuracy: 0.7175\n",
      "Epoch 20/50\n",
      "160/160 [==============================] - 28s 176ms/step - loss: 0.5915 - accuracy: 0.6721 - val_loss: 0.6038 - val_accuracy: 0.6525\n",
      "Epoch 21/50\n",
      "160/160 [==============================] - 28s 176ms/step - loss: 0.5780 - accuracy: 0.6884 - val_loss: 0.5472 - val_accuracy: 0.7025\n",
      "Epoch 22/50\n",
      "160/160 [==============================] - 28s 177ms/step - loss: 0.5867 - accuracy: 0.6754 - val_loss: 0.5664 - val_accuracy: 0.7175\n",
      "Epoch 23/50\n",
      "160/160 [==============================] - 28s 176ms/step - loss: 0.5758 - accuracy: 0.6844 - val_loss: 0.5905 - val_accuracy: 0.6675\n",
      "Epoch 24/50\n",
      "160/160 [==============================] - 28s 178ms/step - loss: 0.5618 - accuracy: 0.7091 - val_loss: 0.5697 - val_accuracy: 0.7200\n",
      "Epoch 25/50\n",
      "160/160 [==============================] - 29s 180ms/step - loss: 0.5789 - accuracy: 0.6932 - val_loss: 0.5945 - val_accuracy: 0.6575\n",
      "Epoch 26/50\n",
      "160/160 [==============================] - 28s 178ms/step - loss: 0.5506 - accuracy: 0.7094 - val_loss: 0.5558 - val_accuracy: 0.7075\n",
      "Epoch 27/50\n",
      "160/160 [==============================] - 29s 180ms/step - loss: 0.5617 - accuracy: 0.7108 - val_loss: 0.5615 - val_accuracy: 0.7000\n",
      "Epoch 28/50\n",
      "160/160 [==============================] - 29s 179ms/step - loss: 0.5528 - accuracy: 0.7107 - val_loss: 0.5583 - val_accuracy: 0.7100\n",
      "Epoch 29/50\n",
      "160/160 [==============================] - 29s 178ms/step - loss: 0.5581 - accuracy: 0.7027 - val_loss: 0.5492 - val_accuracy: 0.7287\n",
      "Epoch 30/50\n",
      "160/160 [==============================] - 28s 178ms/step - loss: 0.5465 - accuracy: 0.7155 - val_loss: 0.5321 - val_accuracy: 0.7362\n",
      "Epoch 31/50\n",
      "160/160 [==============================] - 29s 180ms/step - loss: 0.5523 - accuracy: 0.7087 - val_loss: 0.5607 - val_accuracy: 0.7025\n",
      "Epoch 32/50\n",
      "160/160 [==============================] - 29s 179ms/step - loss: 0.5609 - accuracy: 0.6960 - val_loss: 0.5424 - val_accuracy: 0.7325\n",
      "Epoch 33/50\n",
      "160/160 [==============================] - 29s 178ms/step - loss: 0.5407 - accuracy: 0.7257 - val_loss: 0.5342 - val_accuracy: 0.7375\n",
      "Epoch 34/50\n",
      "160/160 [==============================] - 29s 178ms/step - loss: 0.5403 - accuracy: 0.7256 - val_loss: 0.5135 - val_accuracy: 0.7375\n",
      "Epoch 35/50\n",
      "160/160 [==============================] - 29s 181ms/step - loss: 0.5438 - accuracy: 0.7145 - val_loss: 0.5331 - val_accuracy: 0.7225\n",
      "Epoch 36/50\n",
      "160/160 [==============================] - 29s 180ms/step - loss: 0.5425 - accuracy: 0.7274 - val_loss: 0.5554 - val_accuracy: 0.7125\n",
      "Epoch 37/50\n",
      "160/160 [==============================] - 29s 181ms/step - loss: 0.5228 - accuracy: 0.7219 - val_loss: 0.5345 - val_accuracy: 0.7200\n",
      "Epoch 38/50\n",
      "160/160 [==============================] - 29s 180ms/step - loss: 0.5350 - accuracy: 0.7238 - val_loss: 0.5466 - val_accuracy: 0.7188\n",
      "Epoch 39/50\n",
      "160/160 [==============================] - 30s 187ms/step - loss: 0.5228 - accuracy: 0.7379 - val_loss: 0.5231 - val_accuracy: 0.7387\n",
      "Epoch 40/50\n",
      "160/160 [==============================] - 29s 179ms/step - loss: 0.5205 - accuracy: 0.7297 - val_loss: 0.5103 - val_accuracy: 0.7437\n",
      "Epoch 41/50\n",
      "160/160 [==============================] - 29s 180ms/step - loss: 0.5180 - accuracy: 0.7428 - val_loss: 0.5133 - val_accuracy: 0.7538\n",
      "Epoch 42/50\n",
      "160/160 [==============================] - 29s 180ms/step - loss: 0.5155 - accuracy: 0.7428 - val_loss: 0.5067 - val_accuracy: 0.7663\n",
      "Epoch 43/50\n",
      "160/160 [==============================] - 29s 179ms/step - loss: 0.5097 - accuracy: 0.7530 - val_loss: 0.5458 - val_accuracy: 0.7425\n",
      "Epoch 44/50\n",
      "160/160 [==============================] - 29s 179ms/step - loss: 0.5159 - accuracy: 0.7258 - val_loss: 0.5057 - val_accuracy: 0.7638\n",
      "Epoch 45/50\n",
      "160/160 [==============================] - 29s 181ms/step - loss: 0.5122 - accuracy: 0.7514 - val_loss: 0.5007 - val_accuracy: 0.7625\n",
      "Epoch 46/50\n",
      "160/160 [==============================] - 29s 180ms/step - loss: 0.5123 - accuracy: 0.7488 - val_loss: 0.5173 - val_accuracy: 0.7500\n",
      "Epoch 47/50\n",
      "160/160 [==============================] - 29s 179ms/step - loss: 0.5027 - accuracy: 0.7546 - val_loss: 0.4935 - val_accuracy: 0.7575\n",
      "Epoch 48/50\n",
      "160/160 [==============================] - 29s 181ms/step - loss: 0.5028 - accuracy: 0.7518 - val_loss: 0.4742 - val_accuracy: 0.7800\n",
      "Epoch 49/50\n",
      "160/160 [==============================] - 29s 180ms/step - loss: 0.5058 - accuracy: 0.7377 - val_loss: 0.4930 - val_accuracy: 0.7625\n",
      "Epoch 50/50\n",
      "160/160 [==============================] - 29s 181ms/step - loss: 0.5118 - accuracy: 0.7457 - val_loss: 0.4819 - val_accuracy: 0.7850\n"
     ]
    },
    {
     "data": {
      "text/plain": [
       "<tensorflow.python.keras.callbacks.History at 0x7f50203f55d0>"
      ]
     },
     "execution_count": 51,
     "metadata": {
      "tags": []
     },
     "output_type": "execute_result"
    }
   ],
   "source": [
    "model.fit(train_iterator,\n",
    "          epochs=N_EPOCHS,\n",
    "          steps_per_epoch=len(train_iterator),\n",
    "          validation_data=test_iterator,\n",
    "          validation_steps=len(test_iterator))"
   ]
  },
  {
   "cell_type": "markdown",
   "metadata": {
    "id": "peOQlPKsIiW0"
   },
   "source": [
    "## 추론"
   ]
  },
  {
   "cell_type": "code",
   "execution_count": 70,
   "metadata": {
    "executionInfo": {
     "elapsed": 704,
     "status": "ok",
     "timestamp": 1619491301374,
     "user": {
      "displayName": "Sunghwan KIM",
      "photoUrl": "",
      "userId": "06010856989212311727"
     },
     "user_tz": -540
    },
    "id": "fe2QQRq5Bu7u"
   },
   "outputs": [],
   "source": [
    "from tensorflow.keras.preprocessing.image import load_img, img_to_array\n",
    "\n",
    "def predict_cat_dog(path):\n",
    "    class_name = ['cat','dog']\n",
    "    img = load_img(path, target_size=(IMAGE_SIZE, IMAGE_SIZE))\n",
    "    # image->ndarray\n",
    "    sample = img_to_array(img)[np.newaxis, ...]\n",
    "    # scaling\n",
    "    sample = sample/255.\n",
    "    pred = model.predict(sample) #확률\n",
    "    print(pred)\n",
    "    pred = pred[0,0]\n",
    "    print(pred)\n",
    "    pred_class = np.where(pred < 0.5, 0, 1)\n",
    "    print(pred_class)\n",
    "    pred_class_name = class_name[pred_class]\n",
    "    return pred, pred_class, pred_class_name"
   ]
  },
  {
   "cell_type": "code",
   "execution_count": 71,
   "metadata": {
    "colab": {
     "base_uri": "https://localhost:8080/"
    },
    "executionInfo": {
     "elapsed": 982,
     "status": "ok",
     "timestamp": 1619491304303,
     "user": {
      "displayName": "Sunghwan KIM",
      "photoUrl": "",
      "userId": "06010856989212311727"
     },
     "user_tz": -540
    },
    "id": "oiMTUqtQKAZ7",
    "outputId": "28fd846a-6daf-40bd-8967-730fab38b4ed"
   },
   "outputs": [
    {
     "name": "stdout",
     "output_type": "stream",
     "text": [
      "[[0.55117416]]\n",
      "0.55117416\n",
      "1\n"
     ]
    },
    {
     "data": {
      "text/plain": [
       "(0.55117416, array(1), 'dog')"
      ]
     },
     "execution_count": 71,
     "metadata": {
      "tags": []
     },
     "output_type": "execute_result"
    }
   ],
   "source": [
    "predict_cat_dog('/content/cat.jpg')"
   ]
  },
  {
   "cell_type": "code",
   "execution_count": 64,
   "metadata": {
    "colab": {
     "base_uri": "https://localhost:8080/"
    },
    "executionInfo": {
     "elapsed": 682,
     "status": "ok",
     "timestamp": 1619490736787,
     "user": {
      "displayName": "Sunghwan KIM",
      "photoUrl": "",
      "userId": "06010856989212311727"
     },
     "user_tz": -540
    },
    "id": "aC18q7bwKfeb",
    "outputId": "2ff0c8db-e0f5-437f-b030-89492be809b9"
   },
   "outputs": [
    {
     "data": {
      "text/plain": [
       "(0.25821525, array(0), 'cat')"
      ]
     },
     "execution_count": 64,
     "metadata": {
      "tags": []
     },
     "output_type": "execute_result"
    }
   ],
   "source": [
    "predict_cat_dog('/content/dog.jpg')"
   ]
  },
  {
   "cell_type": "code",
   "execution_count": null,
   "metadata": {},
   "outputs": [],
   "source": []
  },
  {
   "cell_type": "code",
   "execution_count": null,
   "metadata": {},
   "outputs": [],
   "source": []
  },
  {
   "cell_type": "code",
   "execution_count": null,
   "metadata": {},
   "outputs": [],
   "source": []
  },
  {
   "cell_type": "code",
   "execution_count": null,
   "metadata": {},
   "outputs": [],
   "source": []
  },
  {
   "cell_type": "code",
   "execution_count": null,
   "metadata": {},
   "outputs": [],
   "source": []
  },
  {
   "cell_type": "code",
   "execution_count": null,
   "metadata": {},
   "outputs": [],
   "source": []
  },
  {
   "cell_type": "code",
   "execution_count": null,
   "metadata": {},
   "outputs": [],
   "source": []
  },
  {
   "cell_type": "code",
   "execution_count": null,
   "metadata": {},
   "outputs": [],
   "source": []
  },
  {
   "cell_type": "code",
   "execution_count": null,
   "metadata": {},
   "outputs": [],
   "source": []
  },
  {
   "cell_type": "code",
   "execution_count": null,
   "metadata": {},
   "outputs": [],
   "source": []
  }
 ],
 "metadata": {
  "accelerator": "GPU",
  "colab": {
   "collapsed_sections": [],
   "name": "08_2_CNN_Image Augmentation.ipynb",
   "provenance": []
  },
  "kernelspec": {
   "display_name": "Python 3",
   "language": "python",
   "name": "python3"
  },
  "language_info": {
   "codemirror_mode": {
    "name": "ipython",
    "version": 3
   },
   "file_extension": ".py",
   "mimetype": "text/x-python",
   "name": "python",
   "nbconvert_exporter": "python",
   "pygments_lexer": "ipython3",
   "version": "3.8.5"
  },
  "toc": {
   "base_numbering": 1,
   "nav_menu": {},
   "number_sections": false,
   "sideBar": true,
   "skip_h1_title": false,
   "title_cell": "Table of Contents",
   "title_sidebar": "Contents",
   "toc_cell": false,
   "toc_position": {},
   "toc_section_display": true,
   "toc_window_display": false
  },
  "varInspector": {
   "cols": {
    "lenName": 16,
    "lenType": 16,
    "lenVar": 40
   },
   "kernels_config": {
    "python": {
     "delete_cmd_postfix": "",
     "delete_cmd_prefix": "del ",
     "library": "var_list.py",
     "varRefreshCmd": "print(var_dic_list())"
    },
    "r": {
     "delete_cmd_postfix": ") ",
     "delete_cmd_prefix": "rm(",
     "library": "var_list.r",
     "varRefreshCmd": "cat(var_dic_list()) "
    }
   },
   "types_to_exclude": [
    "module",
    "function",
    "builtin_function_or_method",
    "instance",
    "_Feature"
   ],
   "window_display": false
  }
 },
 "nbformat": 4,
 "nbformat_minor": 1
}
