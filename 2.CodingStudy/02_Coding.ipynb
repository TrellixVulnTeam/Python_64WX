{
 "cells": [
  {
   "cell_type": "code",
   "execution_count": 3,
   "metadata": {},
   "outputs": [
    {
     "name": "stdout",
     "output_type": "stream",
     "text": [
      "1\n"
     ]
    }
   ],
   "source": [
    "#피보나치\n",
    "def solution(n):\n",
    "    a,b = 0,1\n",
    "    for i in range(n):\n",
    "        a,b = b, a+b\n",
    "    return a%1234567\n",
    "\n",
    "\n",
    "print(solution(2))"
   ]
  },
  {
   "cell_type": "code",
   "execution_count": null,
   "metadata": {},
   "outputs": [],
   "source": [
    "#숫자의표현\n",
    "def solution(n):\n",
    "    count = 1\n",
    "    base = 1\n",
    "    i = 2\n",
    "    while base < n:\n",
    "        if (n - (i + base)) % i == 0:\n",
    "            count += 1\n",
    "        base = base + i\n",
    "        i += 1\n",
    "    return count"
   ]
  },
  {
   "cell_type": "code",
   "execution_count": null,
   "metadata": {},
   "outputs": [],
   "source": [
    "#N개의 최소공배수\n",
    "def solution(arr)\n",
    "    answer = max(arr)\n",
    "\n",
    "    while True:\n",
    "        answer +=1\n",
    "        l = len(arr)\n",
    "        for i in arr1:\n",
    "            if answer % i ==0:\n",
    "                l -= 1\n",
    "        if l == 0:\n",
    "            break\n",
    "    return answer"
   ]
  }
 ],
 "metadata": {
  "kernelspec": {
   "display_name": "Python 3",
   "language": "python",
   "name": "python3"
  },
  "language_info": {
   "codemirror_mode": {
    "name": "ipython",
    "version": 3
   },
   "file_extension": ".py",
   "mimetype": "text/x-python",
   "name": "python",
   "nbconvert_exporter": "python",
   "pygments_lexer": "ipython3",
   "version": "3.8.5"
  }
 },
 "nbformat": 4,
 "nbformat_minor": 4
}
