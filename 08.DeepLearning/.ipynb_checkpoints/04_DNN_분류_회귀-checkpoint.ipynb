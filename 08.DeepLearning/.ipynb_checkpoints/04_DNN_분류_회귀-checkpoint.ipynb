{
 "cells": [
  {
   "cell_type": "markdown",
   "metadata": {},
   "source": [
    "# 데이터셋 API\n",
    "- 데이터 입력 파이프라인을 위한 패키지\n",
    "- tf.data 패키지에서 제공\n",
    "- tf.data.Dataset 추상클래스에서 상속된 여러가지 클래스 객체를 사용 또는 만들어 쓴다.\n",
    "\n",
    "## 데이터 입력 파이프라인이란\n",
    "**모델에 공급**되는 데이터에 대한 전처리 작업과 공급을 담당한다.    \n",
    "- 이미지 데이터의 경우\n",
    "    - 분산 파일시스템으로 부터 이미지를 모으는 작업, \n",
    "    - 이미지에 노이즈를 주거나 변형하는 작업, \n",
    "    - 배치 학습을 위해 무작위로 데이터를 선택하여 배치데이터를 만드는 작업\n",
    "- 텍스트 데이터 경우\n",
    "    - 원문을 토큰화하는 작업\n",
    "    - 임베딩하는 작업\n",
    "    - 길이가 다른 데이터를 패딩하여 합치는 작업 \n",
    "\n",
    "\n",
    "## 데이터셋 API 사용 세단계\n",
    "1. 데이터셋 생성\n",
    "    - from_tensor_slices(), from_generator() 클래스 메소드, tf.data.TFRecordDataset 클래스를 사용해 메모리나 파일에 있는 데이터를 데이터소스로 만든다.\n",
    "    - from_tensor_slices(): 리스트 넘파이배열, 텐서플로 자료형에서 데이터를 생성한다.\n",
    "2. 데이터셋 변형: map(), filter(), batch() 등 메소드를 이용해 데이터 소스를 변형한다.\n",
    "3. for 반복문에서 iterate를 통해 데이터셋 사용\n",
    "\n",
    "## Dataset의 주요 메소드\n",
    "- map(함수) : dataset의 각 원소들을 함수로 처리한다.\n",
    "- shuffle(크기): dataset의 원소들의 순서를 섞는다. 크기는 섞는 공간의 크기로  **데이터보다 크거나 같으면** 완전셔플, **적으면 일부만 가져와서 섞어** 완전셔플이 안된다.=>데이터가 너무너무 많으면 적게 주기도 한다.)\n",
    "- batch(size) : 반복시 제공할 데이터 수. 지정한 batch size만큼 data를 꺼내준다."
   ]
  },
  {
   "cell_type": "code",
   "execution_count": 1,
   "metadata": {},
   "outputs": [],
   "source": [
    "import tensorflow as tf\n",
    "import numpy as np\n"
   ]
  },
  {
   "cell_type": "code",
   "execution_count": 2,
   "metadata": {},
   "outputs": [],
   "source": [
    "arr = np.arange(9) # 0~8"
   ]
  },
  {
   "cell_type": "code",
   "execution_count": 6,
   "metadata": {},
   "outputs": [
    {
     "data": {
      "text/plain": [
       "array([0, 1, 2, 3, 4, 5, 6, 7, 8])"
      ]
     },
     "execution_count": 6,
     "metadata": {},
     "output_type": "execute_result"
    }
   ],
   "source": [
    "arr"
   ]
  },
  {
   "cell_type": "code",
   "execution_count": 41,
   "metadata": {},
   "outputs": [],
   "source": [
    "# 메모리에 ndarray로 저장된 데이트를 이용해 Dataset객체를 생성\n",
    "dataset = tf.data.Dataset.from_tensor_slices(arr)"
   ]
  },
  {
   "cell_type": "code",
   "execution_count": 42,
   "metadata": {},
   "outputs": [
    {
     "data": {
      "text/plain": [
       "tensorflow.python.data.ops.dataset_ops.TensorSliceDataset"
      ]
     },
     "execution_count": 42,
     "metadata": {},
     "output_type": "execute_result"
    }
   ],
   "source": [
    "type(dataset)"
   ]
  },
  {
   "cell_type": "code",
   "execution_count": 34,
   "metadata": {},
   "outputs": [],
   "source": [
    "#  각각의 원소를 변환 작업을 Dataset 추가. - Dataset.map(변환함수)\n",
    "dataset = dataset.map(lambda x : x**2)"
   ]
  },
  {
   "cell_type": "code",
   "execution_count": 35,
   "metadata": {},
   "outputs": [
    {
     "data": {
      "text/plain": [
       "tensorflow.python.data.ops.dataset_ops.MapDataset"
      ]
     },
     "execution_count": 35,
     "metadata": {},
     "output_type": "execute_result"
    }
   ],
   "source": [
    "type(dataset)"
   ]
  },
  {
   "cell_type": "code",
   "execution_count": null,
   "metadata": {},
   "outputs": [],
   "source": []
  },
  {
   "cell_type": "code",
   "execution_count": 29,
   "metadata": {},
   "outputs": [],
   "source": [
    "#  각각의 원소를 변환 작업을 Dataset 추가. - Dataset.filter(변환함수), false true 로 데이터 거르기.\n",
    "#dataset = dataset.filter(lambda x:x%2==0)"
   ]
  },
  {
   "cell_type": "code",
   "execution_count": 47,
   "metadata": {},
   "outputs": [],
   "source": [
    "# 각각의 원소를 변환 작업을 Dataset 추가. - Dataset.shuffle(n)\n",
    "dataset = dataset.shuffle(9)"
   ]
  },
  {
   "cell_type": "code",
   "execution_count": 52,
   "metadata": {},
   "outputs": [],
   "source": [
    "dataset = dataset.batch(3) # 한번에 지정한 개수만큼 제공"
   ]
  },
  {
   "cell_type": "code",
   "execution_count": 53,
   "metadata": {
    "scrolled": true
   },
   "outputs": [
    {
     "name": "stdout",
     "output_type": "stream",
     "text": [
      "tf.Tensor([4 2 1], shape=(3,), dtype=int32)\n",
      "tf.Tensor([3 8 6], shape=(3,), dtype=int32)\n",
      "tf.Tensor([5 0 7], shape=(3,), dtype=int32)\n"
     ]
    }
   ],
   "source": [
    "# Dataset에서 제공되는 값들을 조회.\n",
    "for a in dataset:\n",
    "    print(a)"
   ]
  },
  {
   "cell_type": "code",
   "execution_count": 54,
   "metadata": {},
   "outputs": [
    {
     "data": {
      "text/plain": [
       "((10,), (10,))"
      ]
     },
     "execution_count": 54,
     "metadata": {},
     "output_type": "execute_result"
    }
   ],
   "source": [
    "x = np.arange(10)\n",
    "y = np.arange(10, 20)\n",
    "x.shape, y.shape"
   ]
  },
  {
   "cell_type": "code",
   "execution_count": 55,
   "metadata": {},
   "outputs": [],
   "source": [
    "ds = tf.data.Dataset.from_tensor_slices((x, y))"
   ]
  },
  {
   "cell_type": "code",
   "execution_count": 56,
   "metadata": {},
   "outputs": [
    {
     "name": "stdout",
     "output_type": "stream",
     "text": [
      "(<tf.Tensor: shape=(), dtype=int32, numpy=0>, <tf.Tensor: shape=(), dtype=int32, numpy=10>)\n",
      "(<tf.Tensor: shape=(), dtype=int32, numpy=1>, <tf.Tensor: shape=(), dtype=int32, numpy=11>)\n",
      "(<tf.Tensor: shape=(), dtype=int32, numpy=2>, <tf.Tensor: shape=(), dtype=int32, numpy=12>)\n",
      "(<tf.Tensor: shape=(), dtype=int32, numpy=3>, <tf.Tensor: shape=(), dtype=int32, numpy=13>)\n",
      "(<tf.Tensor: shape=(), dtype=int32, numpy=4>, <tf.Tensor: shape=(), dtype=int32, numpy=14>)\n",
      "(<tf.Tensor: shape=(), dtype=int32, numpy=5>, <tf.Tensor: shape=(), dtype=int32, numpy=15>)\n",
      "(<tf.Tensor: shape=(), dtype=int32, numpy=6>, <tf.Tensor: shape=(), dtype=int32, numpy=16>)\n",
      "(<tf.Tensor: shape=(), dtype=int32, numpy=7>, <tf.Tensor: shape=(), dtype=int32, numpy=17>)\n",
      "(<tf.Tensor: shape=(), dtype=int32, numpy=8>, <tf.Tensor: shape=(), dtype=int32, numpy=18>)\n",
      "(<tf.Tensor: shape=(), dtype=int32, numpy=9>, <tf.Tensor: shape=(), dtype=int32, numpy=19>)\n"
     ]
    }
   ],
   "source": [
    "for a in ds:\n",
    "    print(a)"
   ]
  },
  {
   "cell_type": "code",
   "execution_count": 57,
   "metadata": {},
   "outputs": [],
   "source": [
    "ds2 = ds.map(lambda x, y : (x**2, y**3))   #x:2제곱, y: 3제곱\n",
    "# def map_func(x, y): #dataset에 두개의 배열을 넣었을 경우 변수 두개로 각각 받는다. \n",
    "#     return (x**2, y**3)"
   ]
  },
  {
   "cell_type": "code",
   "execution_count": 58,
   "metadata": {},
   "outputs": [
    {
     "name": "stdout",
     "output_type": "stream",
     "text": [
      "(<tf.Tensor: shape=(), dtype=int32, numpy=0>, <tf.Tensor: shape=(), dtype=int32, numpy=1000>)\n",
      "(<tf.Tensor: shape=(), dtype=int32, numpy=1>, <tf.Tensor: shape=(), dtype=int32, numpy=1331>)\n",
      "(<tf.Tensor: shape=(), dtype=int32, numpy=4>, <tf.Tensor: shape=(), dtype=int32, numpy=1728>)\n",
      "(<tf.Tensor: shape=(), dtype=int32, numpy=9>, <tf.Tensor: shape=(), dtype=int32, numpy=2197>)\n",
      "(<tf.Tensor: shape=(), dtype=int32, numpy=16>, <tf.Tensor: shape=(), dtype=int32, numpy=2744>)\n",
      "(<tf.Tensor: shape=(), dtype=int32, numpy=25>, <tf.Tensor: shape=(), dtype=int32, numpy=3375>)\n",
      "(<tf.Tensor: shape=(), dtype=int32, numpy=36>, <tf.Tensor: shape=(), dtype=int32, numpy=4096>)\n",
      "(<tf.Tensor: shape=(), dtype=int32, numpy=49>, <tf.Tensor: shape=(), dtype=int32, numpy=4913>)\n",
      "(<tf.Tensor: shape=(), dtype=int32, numpy=64>, <tf.Tensor: shape=(), dtype=int32, numpy=5832>)\n",
      "(<tf.Tensor: shape=(), dtype=int32, numpy=81>, <tf.Tensor: shape=(), dtype=int32, numpy=6859>)\n"
     ]
    }
   ],
   "source": [
    "for a in ds2:\n",
    "    print(a)"
   ]
  },
  {
   "cell_type": "code",
   "execution_count": 59,
   "metadata": {},
   "outputs": [],
   "source": [
    "ds3 = ds2.shuffle(10)"
   ]
  },
  {
   "cell_type": "code",
   "execution_count": 60,
   "metadata": {},
   "outputs": [
    {
     "name": "stdout",
     "output_type": "stream",
     "text": [
      "(<tf.Tensor: shape=(), dtype=int32, numpy=9>, <tf.Tensor: shape=(), dtype=int32, numpy=2197>)\n",
      "(<tf.Tensor: shape=(), dtype=int32, numpy=25>, <tf.Tensor: shape=(), dtype=int32, numpy=3375>)\n",
      "(<tf.Tensor: shape=(), dtype=int32, numpy=4>, <tf.Tensor: shape=(), dtype=int32, numpy=1728>)\n",
      "(<tf.Tensor: shape=(), dtype=int32, numpy=1>, <tf.Tensor: shape=(), dtype=int32, numpy=1331>)\n",
      "(<tf.Tensor: shape=(), dtype=int32, numpy=0>, <tf.Tensor: shape=(), dtype=int32, numpy=1000>)\n",
      "(<tf.Tensor: shape=(), dtype=int32, numpy=36>, <tf.Tensor: shape=(), dtype=int32, numpy=4096>)\n",
      "(<tf.Tensor: shape=(), dtype=int32, numpy=16>, <tf.Tensor: shape=(), dtype=int32, numpy=2744>)\n",
      "(<tf.Tensor: shape=(), dtype=int32, numpy=49>, <tf.Tensor: shape=(), dtype=int32, numpy=4913>)\n",
      "(<tf.Tensor: shape=(), dtype=int32, numpy=64>, <tf.Tensor: shape=(), dtype=int32, numpy=5832>)\n",
      "(<tf.Tensor: shape=(), dtype=int32, numpy=81>, <tf.Tensor: shape=(), dtype=int32, numpy=6859>)\n"
     ]
    }
   ],
   "source": [
    "for a in ds3:\n",
    "    print(a)"
   ]
  },
  {
   "cell_type": "code",
   "execution_count": 61,
   "metadata": {},
   "outputs": [],
   "source": [
    "ds4 = ds3.batch(4)"
   ]
  },
  {
   "cell_type": "code",
   "execution_count": 62,
   "metadata": {},
   "outputs": [
    {
     "name": "stdout",
     "output_type": "stream",
     "text": [
      "(<tf.Tensor: shape=(4,), dtype=int32, numpy=array([ 0, 49, 64,  1])>, <tf.Tensor: shape=(4,), dtype=int32, numpy=array([1000, 4913, 5832, 1331])>)\n",
      "(<tf.Tensor: shape=(4,), dtype=int32, numpy=array([81, 16,  4, 36])>, <tf.Tensor: shape=(4,), dtype=int32, numpy=array([6859, 2744, 1728, 4096])>)\n",
      "(<tf.Tensor: shape=(2,), dtype=int32, numpy=array([25,  9])>, <tf.Tensor: shape=(2,), dtype=int32, numpy=array([3375, 2197])>)\n"
     ]
    }
   ],
   "source": [
    "for a in ds4:\n",
    "    print(a)"
   ]
  },
  {
   "cell_type": "code",
   "execution_count": 63,
   "metadata": {},
   "outputs": [
    {
     "name": "stdout",
     "output_type": "stream",
     "text": [
      "(<tf.Tensor: shape=(4,), dtype=int32, numpy=array([16, 49, 64, 25])>, <tf.Tensor: shape=(4,), dtype=int32, numpy=array([2744, 4913, 5832, 3375])>)\n",
      "(<tf.Tensor: shape=(4,), dtype=int32, numpy=array([ 1, 36,  0,  9])>, <tf.Tensor: shape=(4,), dtype=int32, numpy=array([1331, 4096, 1000, 2197])>)\n",
      "(<tf.Tensor: shape=(2,), dtype=int32, numpy=array([ 4, 81])>, <tf.Tensor: shape=(2,), dtype=int32, numpy=array([1728, 6859])>)\n",
      "(<tf.Tensor: shape=(4,), dtype=int32, numpy=array([ 4, 49, 25,  1])>, <tf.Tensor: shape=(4,), dtype=int32, numpy=array([1728, 4913, 3375, 1331])>)\n",
      "(<tf.Tensor: shape=(4,), dtype=int32, numpy=array([64,  9,  0, 36])>, <tf.Tensor: shape=(4,), dtype=int32, numpy=array([5832, 2197, 1000, 4096])>)\n",
      "(<tf.Tensor: shape=(2,), dtype=int32, numpy=array([81, 16])>, <tf.Tensor: shape=(2,), dtype=int32, numpy=array([6859, 2744])>)\n",
      "(<tf.Tensor: shape=(4,), dtype=int32, numpy=array([ 0, 49,  9, 36])>, <tf.Tensor: shape=(4,), dtype=int32, numpy=array([1000, 4913, 2197, 4096])>)\n",
      "(<tf.Tensor: shape=(4,), dtype=int32, numpy=array([ 1,  4, 25, 16])>, <tf.Tensor: shape=(4,), dtype=int32, numpy=array([1331, 1728, 3375, 2744])>)\n",
      "(<tf.Tensor: shape=(2,), dtype=int32, numpy=array([81, 64])>, <tf.Tensor: shape=(2,), dtype=int32, numpy=array([6859, 5832])>)\n"
     ]
    }
   ],
   "source": [
    "for a in ds4.repeat(3): #dataset.repeat(count) count횟수만큼 반복. count생략시 무한제공\n",
    "    print(a)"
   ]
  },
  {
   "cell_type": "code",
   "execution_count": 64,
   "metadata": {},
   "outputs": [],
   "source": [
    "dataset = tf.data.Dataset.from_tensor_slices((x, y)).map(lambda x, y : (x**2, y**3)).shuffle(10).batch(4)#.repeat(3)"
   ]
  },
  {
   "cell_type": "code",
   "execution_count": 65,
   "metadata": {},
   "outputs": [
    {
     "name": "stdout",
     "output_type": "stream",
     "text": [
      "(<tf.Tensor: shape=(4,), dtype=int32, numpy=array([ 4,  1,  9, 64])>, <tf.Tensor: shape=(4,), dtype=int32, numpy=array([1728, 1331, 2197, 5832])>)\n",
      "(<tf.Tensor: shape=(4,), dtype=int32, numpy=array([ 0, 16, 49, 81])>, <tf.Tensor: shape=(4,), dtype=int32, numpy=array([1000, 2744, 4913, 6859])>)\n",
      "(<tf.Tensor: shape=(2,), dtype=int32, numpy=array([36, 25])>, <tf.Tensor: shape=(2,), dtype=int32, numpy=array([4096, 3375])>)\n"
     ]
    }
   ],
   "source": [
    "for a in dataset:\n",
    "    print(a)"
   ]
  },
  {
   "cell_type": "code",
   "execution_count": 66,
   "metadata": {},
   "outputs": [],
   "source": [
    "dataset = tf.data.Dataset.from_tensor_slices((x, y)).map(lambda x, y : (x**2, y**3)).shuffle(10).batch(4, drop_remainder=True)#.repeat(3)"
   ]
  },
  {
   "cell_type": "code",
   "execution_count": 67,
   "metadata": {},
   "outputs": [
    {
     "name": "stdout",
     "output_type": "stream",
     "text": [
      "(<tf.Tensor: shape=(4,), dtype=int32, numpy=array([16, 49,  9,  0])>, <tf.Tensor: shape=(4,), dtype=int32, numpy=array([2744, 4913, 2197, 1000])>)\n",
      "(<tf.Tensor: shape=(4,), dtype=int32, numpy=array([25,  1,  4, 81])>, <tf.Tensor: shape=(4,), dtype=int32, numpy=array([3375, 1331, 1728, 6859])>)\n"
     ]
    }
   ],
   "source": [
    "for a in dataset:\n",
    "    print(a)"
   ]
  },
  {
   "cell_type": "markdown",
   "metadata": {},
   "source": [
    "# 1. 회귀 - Boston Housing Dataset\n",
    "보스턴 주택가격 dataset은 다음과 같은 속성을 바탕으로 해당 타운 주택 가격의 중앙값을 예측하는 문제.\n",
    "- CRIM: 범죄율\n",
    "- ZN: 25,000 평방피트당 주거지역 비율\n",
    "- INDUS: 비소매 상업지구 비율\n",
    "- CHAS: 찰스강에 인접해 있는지 여부(인접:1, 아니면:0)\n",
    "- NOX: 일산화질소 농도(단위: 0.1ppm)\n",
    "- RM: 주택당 방의 수\n",
    "- AGE: 1940년 이전에 건설된 주택의 비율\n",
    "- DIS: 5개의 보스턴 직업고용센터와의 거리(가중 평균)\n",
    "- RAD: 고속도로 접근성\n",
    "- TAX: 재산세율\n",
    "- PTRATIO: 학생/교사 비율\n",
    "- B: 흑인 비율\n",
    "- LSTAT: 하위 계층 비율\n",
    "\n",
    "예측해야하는 것\n",
    "- MEDV: 타운의 주택가격 중앙값(단위: 1,000달러)"
   ]
  },
  {
   "cell_type": "code",
   "execution_count": 68,
   "metadata": {},
   "outputs": [],
   "source": [
    "import numpy as np\n",
    "import tensorflow as tf\n",
    "from tensorflow import keras"
   ]
  },
  {
   "cell_type": "code",
   "execution_count": 69,
   "metadata": {},
   "outputs": [],
   "source": [
    "# random seed\n",
    "np.random.seed(1)\n",
    "tf.random.set_seed(1)"
   ]
  },
  {
   "cell_type": "code",
   "execution_count": 70,
   "metadata": {},
   "outputs": [
    {
     "name": "stdout",
     "output_type": "stream",
     "text": [
      "Downloading data from https://storage.googleapis.com/tensorflow/tf-keras-datasets/boston_housing.npz\n",
      "57344/57026 [==============================] - 0s 0us/step\n"
     ]
    },
    {
     "data": {
      "text/plain": [
       "((404, 13), (102, 13))"
      ]
     },
     "execution_count": 70,
     "metadata": {},
     "output_type": "execute_result"
    }
   ],
   "source": [
    "# 데이터셋 로딩\n",
    "(X_train, y_train), (X_test, y_test) = keras.datasets.boston_housing.load_data()\n",
    "X_train.shape, X_test.shape"
   ]
  },
  {
   "cell_type": "code",
   "execution_count": 71,
   "metadata": {},
   "outputs": [
    {
     "data": {
      "text/plain": [
       "array([15.2, 42.3, 50. , 21.1, 17.7])"
      ]
     },
     "execution_count": 71,
     "metadata": {},
     "output_type": "execute_result"
    }
   ],
   "source": [
    "y_train[:5] #회귀(Regression)"
   ]
  },
  {
   "cell_type": "code",
   "execution_count": 72,
   "metadata": {},
   "outputs": [
    {
     "data": {
      "text/plain": [
       "array([  1.23247,   0.     ,   8.14   ,   0.     ,   0.538  ,   6.142  ,\n",
       "        91.7    ,   3.9769 ,   4.     , 307.     ,  21.     , 396.9    ,\n",
       "        18.72   ])"
      ]
     },
     "execution_count": 72,
     "metadata": {},
     "output_type": "execute_result"
    }
   ],
   "source": [
    "X_train[0]"
   ]
  },
  {
   "cell_type": "code",
   "execution_count": 73,
   "metadata": {},
   "outputs": [],
   "source": [
    "# 하이퍼파라미터 값들을 설정\n",
    "LEARNING_RATE = 0.001 #학습률\n",
    "N_EPOCHS = 200 #에폭 횟수. 1 epoch 전체 데이터셋을 한번 사용한것.\n",
    "N_BATCHS = 32  #batch_size. 32개 데이터셋 마다 파라미터들(가중치) 업데이트. \n",
    "\n",
    "N_TRAIN = X_train.shape[0] #train set의 개수\n",
    "N_TEST = X_test.shape[0]  #test set 의 개수\n",
    "N_FEATURES = X_train.shape[1] #input data의  feature(컬럼) 개수"
   ]
  },
  {
   "cell_type": "code",
   "execution_count": 74,
   "metadata": {},
   "outputs": [],
   "source": [
    "# Dataset 생성\n",
    "# drop_remainder=True: 마지막에 batch size보다 제공할 데이터가 적으면 학습시 제공하지 말고 버려라.\n",
    "# repeat(): 여러 epoch을 돌때마다 계속 데이터를 제공하게 하기 위해.  repeat()를 지정하지 않으면 1 에폭후 데이터를 제공하지 못한다.\n",
    "train_dataset = tf.data.Dataset.from_tensor_slices((X_train, y_train)).shuffle(N_TRAIN).batch(N_BATCHS, drop_remainder=True).repeat()\n",
    "val_dataset = tf.data.Dataset.from_tensor_slices((X_test, y_test)).batch(N_BATCHS)"
   ]
  },
  {
   "cell_type": "code",
   "execution_count": 75,
   "metadata": {},
   "outputs": [],
   "source": [
    "# 모델 생성\n",
    "def create_model():\n",
    "    model = keras.Sequential()\n",
    "    # 입력 Layer를 따로 정의.\n",
    "    # 첫번째 Layer를 만들때 input_shape(1개의 입력데이터의 형태)를 지정하면 입력 Layer층이 자동으로 생성된다.\n",
    "    model.add(keras.layers.Dense(units=16, activation='relu', input_shape=(N_FEATURES,))) \n",
    "    model.add(keras.layers.Dense(units=8, activation='relu'))\n",
    "    # 출력 Layer \n",
    "    model.add(keras.layers.Dense(units=1)) #회귀의 출력층: units수는 1, activation 함수는 사용하지 않는다.\n",
    "    \n",
    "    # 모델 컴파일\n",
    "    model.compile(optimizer=tf.keras.optimizers.Adam(learning_rate=LEARNING_RATE), # optimizer의 하이퍼파라미터를 기본값으로 쓸경우 문자열로 \"adam\"으로 선언하면됨.\n",
    "                  loss='mse') #회귀의 Loss 함수: mse\n",
    "    return model"
   ]
  },
  {
   "cell_type": "code",
   "execution_count": 80,
   "metadata": {},
   "outputs": [],
   "source": [
    "tf.keras.optimizers.Adam?"
   ]
  },
  {
   "cell_type": "code",
   "execution_count": 76,
   "metadata": {},
   "outputs": [],
   "source": [
    "model = create_model()"
   ]
  },
  {
   "cell_type": "code",
   "execution_count": 82,
   "metadata": {},
   "outputs": [
    {
     "name": "stdout",
     "output_type": "stream",
     "text": [
      "Model: \"sequential_1\"\n",
      "_________________________________________________________________\n",
      "Layer (type)                 Output Shape              Param #   \n",
      "=================================================================\n",
      "dense_3 (Dense)              (None, 16)                224       \n",
      "_________________________________________________________________\n",
      "dense_4 (Dense)              (None, 8)                 136       \n",
      "_________________________________________________________________\n",
      "dense_5 (Dense)              (None, 1)                 9         \n",
      "=================================================================\n",
      "Total params: 369\n",
      "Trainable params: 369\n",
      "Non-trainable params: 0\n",
      "_________________________________________________________________\n"
     ]
    }
   ],
   "source": [
    "model.summary()"
   ]
  },
  {
   "cell_type": "code",
   "execution_count": 83,
   "metadata": {},
   "outputs": [],
   "source": [
    "# 1 step: 한번 가중치를 업데이트. batch size\n",
    "# 1 epoch: 전체 train 데이터를 한번 학습\n",
    "steps_per_epoch = N_TRAIN // N_BATCHS  # 학습데이터개수 // 배치수\n",
    "validation_steps = int(np.ceil(N_TEST/N_BATCHS))"
   ]
  },
  {
   "cell_type": "code",
   "execution_count": 84,
   "metadata": {},
   "outputs": [
    {
     "name": "stdout",
     "output_type": "stream",
     "text": [
      "Train for 12 steps, validate for 4 steps\n",
      "Epoch 1/200\n",
      "12/12 [==============================] - 0s 20ms/step - loss: 447.7381 - val_loss: 333.7683\n",
      "Epoch 2/200\n",
      "12/12 [==============================] - 0s 1ms/step - loss: 264.8772 - val_loss: 253.0179\n",
      "Epoch 3/200\n",
      "12/12 [==============================] - 0s 1ms/step - loss: 158.8296 - val_loss: 182.8535\n",
      "Epoch 4/200\n",
      "12/12 [==============================] - 0s 1ms/step - loss: 115.1863 - val_loss: 152.9420\n",
      "Epoch 5/200\n",
      "12/12 [==============================] - 0s 1ms/step - loss: 92.7965 - val_loss: 142.3969\n",
      "Epoch 6/200\n",
      "12/12 [==============================] - 0s 1ms/step - loss: 86.8095 - val_loss: 130.7678\n",
      "Epoch 7/200\n",
      "12/12 [==============================] - 0s 1ms/step - loss: 81.3668 - val_loss: 137.4125\n",
      "Epoch 8/200\n",
      "12/12 [==============================] - 0s 1ms/step - loss: 79.9090 - val_loss: 125.5801\n",
      "Epoch 9/200\n",
      "12/12 [==============================] - 0s 1ms/step - loss: 74.4419 - val_loss: 123.0617\n",
      "Epoch 10/200\n",
      "12/12 [==============================] - 0s 1ms/step - loss: 72.7133 - val_loss: 115.1289\n",
      "Epoch 11/200\n",
      "12/12 [==============================] - 0s 1ms/step - loss: 73.9004 - val_loss: 109.3119\n",
      "Epoch 12/200\n",
      "12/12 [==============================] - 0s 1ms/step - loss: 70.0802 - val_loss: 105.8764\n",
      "Epoch 13/200\n",
      "12/12 [==============================] - 0s 1ms/step - loss: 68.7203 - val_loss: 100.9664\n",
      "Epoch 14/200\n",
      "12/12 [==============================] - 0s 1ms/step - loss: 70.3266 - val_loss: 99.2355\n",
      "Epoch 15/200\n",
      "12/12 [==============================] - 0s 1ms/step - loss: 68.4544 - val_loss: 97.4880\n",
      "Epoch 16/200\n",
      "12/12 [==============================] - 0s 1ms/step - loss: 65.3781 - val_loss: 98.2849\n",
      "Epoch 17/200\n",
      "12/12 [==============================] - 0s 1ms/step - loss: 65.1021 - val_loss: 98.1122\n",
      "Epoch 18/200\n",
      "12/12 [==============================] - 0s 1ms/step - loss: 61.0050 - val_loss: 91.3564\n",
      "Epoch 19/200\n",
      "12/12 [==============================] - 0s 1ms/step - loss: 63.8569 - val_loss: 88.5675\n",
      "Epoch 20/200\n",
      "12/12 [==============================] - 0s 1ms/step - loss: 57.9182 - val_loss: 85.0223\n",
      "Epoch 21/200\n",
      "12/12 [==============================] - 0s 1ms/step - loss: 57.9775 - val_loss: 83.5931\n",
      "Epoch 22/200\n",
      "12/12 [==============================] - 0s 1ms/step - loss: 59.4205 - val_loss: 80.4695\n",
      "Epoch 23/200\n",
      "12/12 [==============================] - 0s 1ms/step - loss: 56.0762 - val_loss: 86.3638\n",
      "Epoch 24/200\n",
      "12/12 [==============================] - 0s 1ms/step - loss: 57.2999 - val_loss: 80.2684\n",
      "Epoch 25/200\n",
      "12/12 [==============================] - 0s 1ms/step - loss: 54.2848 - val_loss: 80.8230\n",
      "Epoch 26/200\n",
      "12/12 [==============================] - 0s 1ms/step - loss: 54.1554 - val_loss: 82.8281\n",
      "Epoch 27/200\n",
      "12/12 [==============================] - 0s 1ms/step - loss: 55.6826 - val_loss: 77.0976\n",
      "Epoch 28/200\n",
      "12/12 [==============================] - 0s 1ms/step - loss: 52.9987 - val_loss: 84.3399\n",
      "Epoch 29/200\n",
      "12/12 [==============================] - 0s 1ms/step - loss: 54.5641 - val_loss: 73.6991\n",
      "Epoch 30/200\n",
      "12/12 [==============================] - 0s 1ms/step - loss: 52.3936 - val_loss: 78.3546\n",
      "Epoch 31/200\n",
      "12/12 [==============================] - 0s 1ms/step - loss: 51.0903 - val_loss: 71.4408\n",
      "Epoch 32/200\n",
      "12/12 [==============================] - 0s 1ms/step - loss: 52.0247 - val_loss: 77.2427\n",
      "Epoch 33/200\n",
      "12/12 [==============================] - 0s 1ms/step - loss: 48.4929 - val_loss: 78.0335\n",
      "Epoch 34/200\n",
      "12/12 [==============================] - 0s 1ms/step - loss: 47.6133 - val_loss: 73.0929\n",
      "Epoch 35/200\n",
      "12/12 [==============================] - 0s 1ms/step - loss: 48.2534 - val_loss: 67.8748\n",
      "Epoch 36/200\n",
      "12/12 [==============================] - 0s 1ms/step - loss: 52.3994 - val_loss: 70.1275\n",
      "Epoch 37/200\n",
      "12/12 [==============================] - 0s 1ms/step - loss: 53.8269 - val_loss: 68.8017\n",
      "Epoch 38/200\n",
      "12/12 [==============================] - 0s 1ms/step - loss: 50.7194 - val_loss: 75.4136\n",
      "Epoch 39/200\n",
      "12/12 [==============================] - 0s 1ms/step - loss: 46.2633 - val_loss: 71.4307\n",
      "Epoch 40/200\n",
      "12/12 [==============================] - 0s 1ms/step - loss: 47.4839 - val_loss: 65.2590\n",
      "Epoch 41/200\n",
      "12/12 [==============================] - 0s 1ms/step - loss: 46.0666 - val_loss: 65.7879\n",
      "Epoch 42/200\n",
      "12/12 [==============================] - 0s 1ms/step - loss: 48.1501 - val_loss: 69.3171\n",
      "Epoch 43/200\n",
      "12/12 [==============================] - 0s 1ms/step - loss: 43.2999 - val_loss: 66.3926\n",
      "Epoch 44/200\n",
      "12/12 [==============================] - 0s 1ms/step - loss: 42.8151 - val_loss: 64.0517\n",
      "Epoch 45/200\n",
      "12/12 [==============================] - 0s 1ms/step - loss: 44.9755 - val_loss: 62.1785\n",
      "Epoch 46/200\n",
      "12/12 [==============================] - 0s 1ms/step - loss: 45.2559 - val_loss: 62.2778\n",
      "Epoch 47/200\n",
      "12/12 [==============================] - 0s 1ms/step - loss: 47.1394 - val_loss: 61.5121\n",
      "Epoch 48/200\n",
      "12/12 [==============================] - 0s 1ms/step - loss: 44.7087 - val_loss: 64.8758\n",
      "Epoch 49/200\n",
      "12/12 [==============================] - 0s 1ms/step - loss: 43.6950 - val_loss: 65.5388\n",
      "Epoch 50/200\n",
      "12/12 [==============================] - 0s 1ms/step - loss: 45.4279 - val_loss: 61.2705\n",
      "Epoch 51/200\n",
      "12/12 [==============================] - 0s 1ms/step - loss: 42.3404 - val_loss: 58.5179\n",
      "Epoch 52/200\n",
      "12/12 [==============================] - 0s 1ms/step - loss: 41.7473 - val_loss: 57.7205\n",
      "Epoch 53/200\n",
      "12/12 [==============================] - 0s 1ms/step - loss: 39.3590 - val_loss: 58.8199\n",
      "Epoch 54/200\n",
      "12/12 [==============================] - 0s 1ms/step - loss: 39.5502 - val_loss: 56.9713\n",
      "Epoch 55/200\n",
      "12/12 [==============================] - 0s 1ms/step - loss: 39.5709 - val_loss: 55.0913\n",
      "Epoch 56/200\n",
      "12/12 [==============================] - 0s 1ms/step - loss: 39.3192 - val_loss: 62.8768\n",
      "Epoch 57/200\n",
      "12/12 [==============================] - 0s 1ms/step - loss: 42.7193 - val_loss: 60.6274\n",
      "Epoch 58/200\n",
      "12/12 [==============================] - 0s 1ms/step - loss: 41.4804 - val_loss: 57.0512\n",
      "Epoch 59/200\n",
      "12/12 [==============================] - 0s 1ms/step - loss: 40.1316 - val_loss: 57.0435\n",
      "Epoch 60/200\n",
      "12/12 [==============================] - 0s 1ms/step - loss: 42.3812 - val_loss: 52.6495\n",
      "Epoch 61/200\n",
      "12/12 [==============================] - 0s 1ms/step - loss: 40.9569 - val_loss: 52.2520\n",
      "Epoch 62/200\n",
      "12/12 [==============================] - 0s 1ms/step - loss: 36.8630 - val_loss: 52.1090\n",
      "Epoch 63/200\n",
      "12/12 [==============================] - 0s 1ms/step - loss: 37.4617 - val_loss: 50.2012\n",
      "Epoch 64/200\n",
      "12/12 [==============================] - 0s 1ms/step - loss: 38.8377 - val_loss: 50.7458\n",
      "Epoch 65/200\n",
      "12/12 [==============================] - 0s 1ms/step - loss: 38.2200 - val_loss: 55.6396\n",
      "Epoch 66/200\n",
      "12/12 [==============================] - 0s 1ms/step - loss: 37.1639 - val_loss: 50.6868\n",
      "Epoch 67/200\n",
      "12/12 [==============================] - 0s 1ms/step - loss: 36.5930 - val_loss: 64.0670\n",
      "Epoch 68/200\n",
      "12/12 [==============================] - 0s 1ms/step - loss: 40.1222 - val_loss: 53.0435\n",
      "Epoch 69/200\n",
      "12/12 [==============================] - 0s 1ms/step - loss: 36.7710 - val_loss: 48.9965\n",
      "Epoch 70/200\n",
      "12/12 [==============================] - 0s 1ms/step - loss: 35.0739 - val_loss: 52.6669\n",
      "Epoch 71/200\n",
      "12/12 [==============================] - 0s 1ms/step - loss: 35.7060 - val_loss: 48.1204\n",
      "Epoch 72/200\n",
      "12/12 [==============================] - 0s 1ms/step - loss: 36.2936 - val_loss: 50.4002\n",
      "Epoch 73/200\n",
      "12/12 [==============================] - 0s 1ms/step - loss: 36.5312 - val_loss: 52.5747\n",
      "Epoch 74/200\n",
      "12/12 [==============================] - 0s 1ms/step - loss: 35.6582 - val_loss: 55.1988\n",
      "Epoch 75/200\n",
      "12/12 [==============================] - 0s 1ms/step - loss: 37.7265 - val_loss: 46.6909\n",
      "Epoch 76/200\n",
      "12/12 [==============================] - 0s 1ms/step - loss: 34.7567 - val_loss: 47.0598\n",
      "Epoch 77/200\n",
      "12/12 [==============================] - 0s 1ms/step - loss: 34.3147 - val_loss: 48.9302\n",
      "Epoch 78/200\n",
      "12/12 [==============================] - 0s 1ms/step - loss: 34.2669 - val_loss: 47.3627\n",
      "Epoch 79/200\n",
      "12/12 [==============================] - 0s 1ms/step - loss: 36.5719 - val_loss: 47.3275\n",
      "Epoch 80/200\n",
      "12/12 [==============================] - 0s 1ms/step - loss: 31.1971 - val_loss: 44.7153\n"
     ]
    },
    {
     "name": "stdout",
     "output_type": "stream",
     "text": [
      "Epoch 81/200\n",
      "12/12 [==============================] - 0s 1ms/step - loss: 36.0501 - val_loss: 47.2894\n",
      "Epoch 82/200\n",
      "12/12 [==============================] - 0s 1ms/step - loss: 36.8993 - val_loss: 51.5882\n",
      "Epoch 83/200\n",
      "12/12 [==============================] - 0s 1ms/step - loss: 37.1839 - val_loss: 46.0032\n",
      "Epoch 84/200\n",
      "12/12 [==============================] - 0s 1ms/step - loss: 35.0718 - val_loss: 50.0865\n",
      "Epoch 85/200\n",
      "12/12 [==============================] - 0s 1ms/step - loss: 34.9263 - val_loss: 46.3141\n",
      "Epoch 86/200\n",
      "12/12 [==============================] - 0s 1ms/step - loss: 34.1951 - val_loss: 42.6314\n",
      "Epoch 87/200\n",
      "12/12 [==============================] - 0s 1ms/step - loss: 29.3871 - val_loss: 48.3343\n",
      "Epoch 88/200\n",
      "12/12 [==============================] - 0s 1ms/step - loss: 34.7430 - val_loss: 50.4133\n",
      "Epoch 89/200\n",
      "12/12 [==============================] - 0s 1ms/step - loss: 38.4308 - val_loss: 49.8555\n",
      "Epoch 90/200\n",
      "12/12 [==============================] - 0s 1ms/step - loss: 32.9796 - val_loss: 43.0838\n",
      "Epoch 91/200\n",
      "12/12 [==============================] - 0s 1ms/step - loss: 33.9050 - val_loss: 40.6357\n",
      "Epoch 92/200\n",
      "12/12 [==============================] - 0s 1ms/step - loss: 34.6535 - val_loss: 41.0634\n",
      "Epoch 93/200\n",
      "12/12 [==============================] - 0s 1ms/step - loss: 34.0392 - val_loss: 38.7718\n",
      "Epoch 94/200\n",
      "12/12 [==============================] - 0s 1ms/step - loss: 32.5153 - val_loss: 37.1046\n",
      "Epoch 95/200\n",
      "12/12 [==============================] - 0s 1ms/step - loss: 30.5189 - val_loss: 38.6043\n",
      "Epoch 96/200\n",
      "12/12 [==============================] - 0s 1ms/step - loss: 36.1347 - val_loss: 40.1198\n",
      "Epoch 97/200\n",
      "12/12 [==============================] - 0s 1ms/step - loss: 35.5147 - val_loss: 44.3871\n",
      "Epoch 98/200\n",
      "12/12 [==============================] - 0s 1ms/step - loss: 33.6264 - val_loss: 37.6693\n",
      "Epoch 99/200\n",
      "12/12 [==============================] - 0s 1ms/step - loss: 31.4922 - val_loss: 37.5542\n",
      "Epoch 100/200\n",
      "12/12 [==============================] - 0s 1ms/step - loss: 28.7791 - val_loss: 36.8083\n",
      "Epoch 101/200\n",
      "12/12 [==============================] - 0s 1ms/step - loss: 31.2987 - val_loss: 36.5016\n",
      "Epoch 102/200\n",
      "12/12 [==============================] - 0s 1ms/step - loss: 31.2354 - val_loss: 36.5310\n",
      "Epoch 103/200\n",
      "12/12 [==============================] - 0s 1ms/step - loss: 28.3280 - val_loss: 35.6672\n",
      "Epoch 104/200\n",
      "12/12 [==============================] - 0s 1ms/step - loss: 31.3022 - val_loss: 36.9436\n",
      "Epoch 105/200\n",
      "12/12 [==============================] - 0s 1ms/step - loss: 30.4907 - val_loss: 35.5753\n",
      "Epoch 106/200\n",
      "12/12 [==============================] - 0s 1ms/step - loss: 30.6928 - val_loss: 36.7248\n",
      "Epoch 107/200\n",
      "12/12 [==============================] - 0s 1ms/step - loss: 30.8880 - val_loss: 37.0984\n",
      "Epoch 108/200\n",
      "12/12 [==============================] - 0s 1ms/step - loss: 33.0537 - val_loss: 36.1864\n",
      "Epoch 109/200\n",
      "12/12 [==============================] - 0s 1ms/step - loss: 28.4377 - val_loss: 37.8926\n",
      "Epoch 110/200\n",
      "12/12 [==============================] - 0s 1ms/step - loss: 29.6313 - val_loss: 36.2628\n",
      "Epoch 111/200\n",
      "12/12 [==============================] - 0s 1ms/step - loss: 29.3862 - val_loss: 35.7545\n",
      "Epoch 112/200\n",
      "12/12 [==============================] - 0s 1ms/step - loss: 28.2768 - val_loss: 37.7537\n",
      "Epoch 113/200\n",
      "12/12 [==============================] - 0s 1ms/step - loss: 29.0949 - val_loss: 39.3664\n",
      "Epoch 114/200\n",
      "12/12 [==============================] - 0s 1ms/step - loss: 29.5830 - val_loss: 39.6485\n",
      "Epoch 115/200\n",
      "12/12 [==============================] - 0s 1ms/step - loss: 31.1108 - val_loss: 34.8400\n",
      "Epoch 116/200\n",
      "12/12 [==============================] - 0s 1ms/step - loss: 28.9777 - val_loss: 36.5781\n",
      "Epoch 117/200\n",
      "12/12 [==============================] - 0s 1ms/step - loss: 28.9425 - val_loss: 34.6135\n",
      "Epoch 118/200\n",
      "12/12 [==============================] - 0s 1ms/step - loss: 27.6083 - val_loss: 35.6017\n",
      "Epoch 119/200\n",
      "12/12 [==============================] - 0s 1ms/step - loss: 29.7900 - val_loss: 36.9215\n",
      "Epoch 120/200\n",
      "12/12 [==============================] - 0s 1ms/step - loss: 29.0543 - val_loss: 33.6527\n",
      "Epoch 121/200\n",
      "12/12 [==============================] - 0s 1ms/step - loss: 28.3561 - val_loss: 34.1038\n",
      "Epoch 122/200\n",
      "12/12 [==============================] - 0s 1ms/step - loss: 28.6281 - val_loss: 34.4982\n",
      "Epoch 123/200\n",
      "12/12 [==============================] - 0s 1ms/step - loss: 27.6876 - val_loss: 34.9316\n",
      "Epoch 124/200\n",
      "12/12 [==============================] - 0s 1ms/step - loss: 28.8929 - val_loss: 34.0909\n",
      "Epoch 125/200\n",
      "12/12 [==============================] - 0s 1ms/step - loss: 28.8487 - val_loss: 34.7906\n",
      "Epoch 126/200\n",
      "12/12 [==============================] - 0s 1ms/step - loss: 29.6468 - val_loss: 35.4445\n",
      "Epoch 127/200\n",
      "12/12 [==============================] - 0s 1ms/step - loss: 29.4919 - val_loss: 34.5405\n",
      "Epoch 128/200\n",
      "12/12 [==============================] - 0s 1ms/step - loss: 27.8685 - val_loss: 33.7309\n",
      "Epoch 129/200\n",
      "12/12 [==============================] - 0s 1ms/step - loss: 28.0151 - val_loss: 35.0445\n",
      "Epoch 130/200\n",
      "12/12 [==============================] - 0s 1ms/step - loss: 27.8292 - val_loss: 38.1302\n",
      "Epoch 131/200\n",
      "12/12 [==============================] - 0s 1ms/step - loss: 28.2911 - val_loss: 34.4390\n",
      "Epoch 132/200\n",
      "12/12 [==============================] - 0s 1ms/step - loss: 26.7235 - val_loss: 35.8649\n",
      "Epoch 133/200\n",
      "12/12 [==============================] - 0s 1ms/step - loss: 29.9326 - val_loss: 35.0663\n",
      "Epoch 134/200\n",
      "12/12 [==============================] - 0s 1ms/step - loss: 27.4039 - val_loss: 32.6412\n",
      "Epoch 135/200\n",
      "12/12 [==============================] - 0s 1ms/step - loss: 25.7516 - val_loss: 33.8606\n",
      "Epoch 136/200\n",
      "12/12 [==============================] - 0s 1ms/step - loss: 27.0317 - val_loss: 33.6893\n",
      "Epoch 137/200\n",
      "12/12 [==============================] - 0s 1ms/step - loss: 27.5275 - val_loss: 33.3306\n",
      "Epoch 138/200\n",
      "12/12 [==============================] - 0s 1ms/step - loss: 27.1245 - val_loss: 34.1731\n",
      "Epoch 139/200\n",
      "12/12 [==============================] - 0s 1ms/step - loss: 25.4823 - val_loss: 33.6427\n",
      "Epoch 140/200\n",
      "12/12 [==============================] - 0s 1ms/step - loss: 28.2599 - val_loss: 35.3328\n",
      "Epoch 141/200\n",
      "12/12 [==============================] - 0s 1ms/step - loss: 27.8014 - val_loss: 35.3568\n",
      "Epoch 142/200\n",
      "12/12 [==============================] - 0s 1ms/step - loss: 27.3319 - val_loss: 32.8961\n",
      "Epoch 143/200\n",
      "12/12 [==============================] - 0s 1ms/step - loss: 26.5736 - val_loss: 34.9741\n",
      "Epoch 144/200\n",
      "12/12 [==============================] - 0s 1ms/step - loss: 28.5413 - val_loss: 32.7258\n",
      "Epoch 145/200\n",
      "12/12 [==============================] - 0s 1ms/step - loss: 26.8873 - val_loss: 34.7680\n",
      "Epoch 146/200\n",
      "12/12 [==============================] - 0s 1ms/step - loss: 25.4311 - val_loss: 32.8326\n",
      "Epoch 147/200\n",
      "12/12 [==============================] - 0s 1ms/step - loss: 27.5108 - val_loss: 33.2594\n",
      "Epoch 148/200\n",
      "12/12 [==============================] - 0s 1ms/step - loss: 27.6578 - val_loss: 35.8833\n",
      "Epoch 149/200\n",
      "12/12 [==============================] - 0s 1ms/step - loss: 27.0184 - val_loss: 34.1402\n",
      "Epoch 150/200\n",
      "12/12 [==============================] - 0s 1ms/step - loss: 27.7267 - val_loss: 33.1385\n",
      "Epoch 151/200\n",
      "12/12 [==============================] - 0s 1ms/step - loss: 26.4203 - val_loss: 36.0651\n",
      "Epoch 152/200\n",
      "12/12 [==============================] - 0s 1ms/step - loss: 28.3421 - val_loss: 35.0323\n",
      "Epoch 153/200\n",
      "12/12 [==============================] - 0s 1ms/step - loss: 25.5983 - val_loss: 31.4160\n",
      "Epoch 154/200\n",
      "12/12 [==============================] - 0s 1ms/step - loss: 25.8486 - val_loss: 34.7509\n",
      "Epoch 155/200\n",
      "12/12 [==============================] - 0s 1ms/step - loss: 27.1556 - val_loss: 33.6127\n",
      "Epoch 156/200\n",
      "12/12 [==============================] - 0s 1ms/step - loss: 26.6123 - val_loss: 31.9188\n",
      "Epoch 157/200\n",
      "12/12 [==============================] - 0s 1ms/step - loss: 27.1043 - val_loss: 32.7382\n",
      "Epoch 158/200\n",
      "12/12 [==============================] - 0s 1ms/step - loss: 25.4609 - val_loss: 34.4017\n",
      "Epoch 159/200\n",
      "12/12 [==============================] - 0s 1ms/step - loss: 25.7516 - val_loss: 32.9742\n",
      "Epoch 160/200\n"
     ]
    },
    {
     "name": "stdout",
     "output_type": "stream",
     "text": [
      "12/12 [==============================] - 0s 1ms/step - loss: 24.9699 - val_loss: 33.5139\n",
      "Epoch 161/200\n",
      "12/12 [==============================] - 0s 1ms/step - loss: 25.0666 - val_loss: 34.3723\n",
      "Epoch 162/200\n",
      "12/12 [==============================] - 0s 1ms/step - loss: 26.1579 - val_loss: 33.3006\n",
      "Epoch 163/200\n",
      "12/12 [==============================] - 0s 1ms/step - loss: 25.1039 - val_loss: 35.5174\n",
      "Epoch 164/200\n",
      "12/12 [==============================] - 0s 1ms/step - loss: 26.1782 - val_loss: 34.8567\n",
      "Epoch 165/200\n",
      "12/12 [==============================] - 0s 1ms/step - loss: 25.7963 - val_loss: 32.4862\n",
      "Epoch 166/200\n",
      "12/12 [==============================] - 0s 1ms/step - loss: 24.8168 - val_loss: 33.1820\n",
      "Epoch 167/200\n",
      "12/12 [==============================] - 0s 1ms/step - loss: 24.9496 - val_loss: 35.5869\n",
      "Epoch 168/200\n",
      "12/12 [==============================] - 0s 1ms/step - loss: 25.1347 - val_loss: 33.9683\n",
      "Epoch 169/200\n",
      "12/12 [==============================] - 0s 1ms/step - loss: 23.3174 - val_loss: 32.4856\n",
      "Epoch 170/200\n",
      "12/12 [==============================] - 0s 1ms/step - loss: 22.2839 - val_loss: 32.7256\n",
      "Epoch 171/200\n",
      "12/12 [==============================] - 0s 1ms/step - loss: 23.1076 - val_loss: 34.8214\n",
      "Epoch 172/200\n",
      "12/12 [==============================] - 0s 1ms/step - loss: 23.5869 - val_loss: 32.1546\n",
      "Epoch 173/200\n",
      "12/12 [==============================] - 0s 1ms/step - loss: 22.5090 - val_loss: 32.5809\n",
      "Epoch 174/200\n",
      "12/12 [==============================] - 0s 1ms/step - loss: 23.3472 - val_loss: 33.0800\n",
      "Epoch 175/200\n",
      "12/12 [==============================] - 0s 1ms/step - loss: 24.3483 - val_loss: 34.7565\n",
      "Epoch 176/200\n",
      "12/12 [==============================] - 0s 1ms/step - loss: 24.8183 - val_loss: 33.1076\n",
      "Epoch 177/200\n",
      "12/12 [==============================] - 0s 1ms/step - loss: 23.0436 - val_loss: 33.4611\n",
      "Epoch 178/200\n",
      "12/12 [==============================] - 0s 1ms/step - loss: 23.4230 - val_loss: 31.8659\n",
      "Epoch 179/200\n",
      "12/12 [==============================] - 0s 1ms/step - loss: 22.7097 - val_loss: 33.7995\n",
      "Epoch 180/200\n",
      "12/12 [==============================] - 0s 1ms/step - loss: 22.8968 - val_loss: 32.3153\n",
      "Epoch 181/200\n",
      "12/12 [==============================] - 0s 1ms/step - loss: 22.1551 - val_loss: 34.7066\n",
      "Epoch 182/200\n",
      "12/12 [==============================] - 0s 1ms/step - loss: 22.8775 - val_loss: 41.1039\n",
      "Epoch 183/200\n",
      "12/12 [==============================] - 0s 1ms/step - loss: 23.5456 - val_loss: 34.8628\n",
      "Epoch 184/200\n",
      "12/12 [==============================] - 0s 1ms/step - loss: 22.1595 - val_loss: 33.3145\n",
      "Epoch 185/200\n",
      "12/12 [==============================] - 0s 1ms/step - loss: 20.7948 - val_loss: 33.2104\n",
      "Epoch 186/200\n",
      "12/12 [==============================] - 0s 1ms/step - loss: 21.3260 - val_loss: 32.9543\n",
      "Epoch 187/200\n",
      "12/12 [==============================] - 0s 1ms/step - loss: 21.4935 - val_loss: 31.8761\n",
      "Epoch 188/200\n",
      "12/12 [==============================] - 0s 1ms/step - loss: 21.3202 - val_loss: 34.1279\n",
      "Epoch 189/200\n",
      "12/12 [==============================] - 0s 1ms/step - loss: 22.0785 - val_loss: 33.1581\n",
      "Epoch 190/200\n",
      "12/12 [==============================] - 0s 1ms/step - loss: 19.8352 - val_loss: 33.4588\n",
      "Epoch 191/200\n",
      "12/12 [==============================] - 0s 1ms/step - loss: 20.6600 - val_loss: 32.8568\n",
      "Epoch 192/200\n",
      "12/12 [==============================] - 0s 1ms/step - loss: 21.4381 - val_loss: 33.8775\n",
      "Epoch 193/200\n",
      "12/12 [==============================] - 0s 1ms/step - loss: 19.7241 - val_loss: 32.1109\n",
      "Epoch 194/200\n",
      "12/12 [==============================] - 0s 1ms/step - loss: 20.1522 - val_loss: 31.7131\n",
      "Epoch 195/200\n",
      "12/12 [==============================] - 0s 1ms/step - loss: 19.9457 - val_loss: 32.0033\n",
      "Epoch 196/200\n",
      "12/12 [==============================] - 0s 1ms/step - loss: 19.2484 - val_loss: 34.5590\n",
      "Epoch 197/200\n",
      "12/12 [==============================] - 0s 1ms/step - loss: 19.9022 - val_loss: 33.1142\n",
      "Epoch 198/200\n",
      "12/12 [==============================] - 0s 1ms/step - loss: 19.7664 - val_loss: 32.4776\n",
      "Epoch 199/200\n",
      "12/12 [==============================] - 0s 1ms/step - loss: 19.1698 - val_loss: 33.2061\n",
      "Epoch 200/200\n",
      "12/12 [==============================] - 0s 1ms/step - loss: 18.4420 - val_loss: 32.4773\n"
     ]
    }
   ],
   "source": [
    "history = model.fit(train_dataset,  #train dataset (X_train, y_train)\n",
    "                    epochs=N_EPOCHS, \n",
    "                    steps_per_epoch=steps_per_epoch, #1에폭당 step 수\n",
    "                    validation_data=val_dataset, #검증 Dataset 지정.\n",
    "                    validation_steps=validation_steps)"
   ]
  },
  {
   "cell_type": "code",
   "execution_count": 85,
   "metadata": {},
   "outputs": [
    {
     "data": {
      "text/plain": [
       "dict_keys(['loss', 'val_loss'])"
      ]
     },
     "execution_count": 85,
     "metadata": {},
     "output_type": "execute_result"
    }
   ],
   "source": [
    "history.history.keys()"
   ]
  },
  {
   "cell_type": "code",
   "execution_count": 86,
   "metadata": {
    "collapsed": true
   },
   "outputs": [
    {
     "data": {
      "text/plain": [
       "{'loss': [447.7381286621094,\n",
       "  264.8771502176921,\n",
       "  158.82961781819662,\n",
       "  115.18632793426514,\n",
       "  92.7964752515157,\n",
       "  86.80953280131023,\n",
       "  81.36677996317546,\n",
       "  79.90897305806477,\n",
       "  74.44189135233562,\n",
       "  72.71334584554036,\n",
       "  73.90041510264079,\n",
       "  70.08024215698242,\n",
       "  68.72032324473064,\n",
       "  70.3265544573466,\n",
       "  68.45436255137126,\n",
       "  65.37810198465984,\n",
       "  65.10210212071736,\n",
       "  61.00504446029663,\n",
       "  63.856943448384605,\n",
       "  57.918169021606445,\n",
       "  57.977513790130615,\n",
       "  59.42052173614502,\n",
       "  56.07621097564697,\n",
       "  57.299897034962974,\n",
       "  54.284797509511314,\n",
       "  54.15539073944092,\n",
       "  55.682648340861,\n",
       "  52.99872827529907,\n",
       "  54.56410471598307,\n",
       "  52.39358981450399,\n",
       "  51.090278466542564,\n",
       "  52.024659872055054,\n",
       "  48.492899099985756,\n",
       "  47.613283236821495,\n",
       "  48.25344181060791,\n",
       "  52.39936828613281,\n",
       "  53.82689587275187,\n",
       "  50.71937131881714,\n",
       "  46.26332759857178,\n",
       "  47.48392057418823,\n",
       "  46.066553910573326,\n",
       "  48.15013202031454,\n",
       "  43.29992485046387,\n",
       "  42.81513977050781,\n",
       "  44.97554302215576,\n",
       "  45.2559232711792,\n",
       "  47.13938172658285,\n",
       "  44.70874643325806,\n",
       "  43.69498459498087,\n",
       "  45.427903254826866,\n",
       "  42.34041055043539,\n",
       "  41.74728981653849,\n",
       "  39.35896873474121,\n",
       "  39.55019895235697,\n",
       "  39.57091601689657,\n",
       "  39.31921068827311,\n",
       "  42.71926339467367,\n",
       "  41.48044125239054,\n",
       "  40.13157320022583,\n",
       "  42.38124926884969,\n",
       "  40.95685577392578,\n",
       "  36.86295032501221,\n",
       "  37.461743195851646,\n",
       "  38.83773231506348,\n",
       "  38.219992796579994,\n",
       "  37.163932959238686,\n",
       "  36.59303410847982,\n",
       "  40.12220986684164,\n",
       "  36.77097884813944,\n",
       "  35.07386080423991,\n",
       "  35.70596512158712,\n",
       "  36.29361613591512,\n",
       "  36.531237761179604,\n",
       "  35.65823411941528,\n",
       "  37.72651481628418,\n",
       "  34.756665547688804,\n",
       "  34.31465474764506,\n",
       "  34.266885916392006,\n",
       "  36.57192722956339,\n",
       "  31.197077751159668,\n",
       "  36.05007187525431,\n",
       "  36.899324893951416,\n",
       "  37.18389598528544,\n",
       "  35.07184076309204,\n",
       "  34.92628415425619,\n",
       "  34.19510825475057,\n",
       "  29.387080669403076,\n",
       "  34.743013858795166,\n",
       "  38.43082364400228,\n",
       "  32.97963492075602,\n",
       "  33.90502309799194,\n",
       "  34.65349372227987,\n",
       "  34.039159615834556,\n",
       "  32.515265464782715,\n",
       "  30.518927097320557,\n",
       "  36.134689490000405,\n",
       "  35.51470136642456,\n",
       "  33.626437187194824,\n",
       "  31.49217351277669,\n",
       "  28.77906386057536,\n",
       "  31.298678874969482,\n",
       "  31.23536252975464,\n",
       "  28.327983379364014,\n",
       "  31.302183787027996,\n",
       "  30.490727106730144,\n",
       "  30.692819595336914,\n",
       "  30.88803704579671,\n",
       "  33.05373271306356,\n",
       "  28.43772327899933,\n",
       "  29.631340503692627,\n",
       "  29.386220455169678,\n",
       "  28.27683154741923,\n",
       "  29.094937324523926,\n",
       "  29.58295480410258,\n",
       "  31.110773881276447,\n",
       "  28.977656682332356,\n",
       "  28.942457516988117,\n",
       "  27.60832969347636,\n",
       "  29.79000695546468,\n",
       "  29.054317235946655,\n",
       "  28.356130599975586,\n",
       "  28.628095149993896,\n",
       "  27.687599102656048,\n",
       "  28.892872095108032,\n",
       "  28.84870481491089,\n",
       "  29.64679265022278,\n",
       "  29.491947333017986,\n",
       "  27.868465503056843,\n",
       "  28.015050252278645,\n",
       "  27.829201062520344,\n",
       "  28.29113507270813,\n",
       "  26.723460912704468,\n",
       "  29.932561953862507,\n",
       "  27.40393074353536,\n",
       "  25.751572211583454,\n",
       "  27.03170943260193,\n",
       "  27.527545134226482,\n",
       "  27.12453778584798,\n",
       "  25.48231013615926,\n",
       "  28.259926557540894,\n",
       "  27.801439603169758,\n",
       "  27.331912755966187,\n",
       "  26.573594252268474,\n",
       "  28.541332244873047,\n",
       "  26.88726536432902,\n",
       "  25.431097666422527,\n",
       "  27.510844071706135,\n",
       "  27.65779693921407,\n",
       "  27.018399397532146,\n",
       "  27.726741631825764,\n",
       "  26.420345942179363,\n",
       "  28.34208075205485,\n",
       "  25.598345041275024,\n",
       "  25.84864902496338,\n",
       "  27.155596892038982,\n",
       "  26.612313906351726,\n",
       "  27.10431917508443,\n",
       "  25.460912227630615,\n",
       "  25.751598834991455,\n",
       "  24.96988328297933,\n",
       "  25.066648562749226,\n",
       "  26.15791352589925,\n",
       "  25.103865385055542,\n",
       "  26.178202470143635,\n",
       "  25.796260197957356,\n",
       "  24.816832780838013,\n",
       "  24.949570417404175,\n",
       "  25.134735504786175,\n",
       "  23.31744972864787,\n",
       "  22.283864974975586,\n",
       "  23.107648690541584,\n",
       "  23.586866060892742,\n",
       "  22.50896453857422,\n",
       "  23.347201426823933,\n",
       "  24.34826461474101,\n",
       "  24.818302234013874,\n",
       "  23.043623129526775,\n",
       "  23.42300073305766,\n",
       "  22.709703127543133,\n",
       "  22.8967600663503,\n",
       "  22.155082941055298,\n",
       "  22.877487262090046,\n",
       "  23.545574426651,\n",
       "  22.15949296951294,\n",
       "  20.794772386550903,\n",
       "  21.326008876164753,\n",
       "  21.493544340133667,\n",
       "  21.320199410120647,\n",
       "  22.078503370285034,\n",
       "  19.83517328898112,\n",
       "  20.659978707631428,\n",
       "  21.438141504923504,\n",
       "  19.724050680796307,\n",
       "  20.15224774678548,\n",
       "  19.945715188980103,\n",
       "  19.248421867688496,\n",
       "  19.902199188868206,\n",
       "  19.76643482844035,\n",
       "  19.169757803281147,\n",
       "  18.441975196202595],\n",
       " 'val_loss': [333.76827239990234,\n",
       "  253.01793670654297,\n",
       "  182.85350227355957,\n",
       "  152.9419822692871,\n",
       "  142.39687633514404,\n",
       "  130.76784992218018,\n",
       "  137.41245460510254,\n",
       "  125.58006572723389,\n",
       "  123.06166648864746,\n",
       "  115.12892532348633,\n",
       "  109.31185531616211,\n",
       "  105.87643814086914,\n",
       "  100.9663953781128,\n",
       "  99.23546504974365,\n",
       "  97.48799896240234,\n",
       "  98.28494644165039,\n",
       "  98.11216259002686,\n",
       "  91.35641765594482,\n",
       "  88.5674877166748,\n",
       "  85.02228927612305,\n",
       "  83.59306907653809,\n",
       "  80.46952819824219,\n",
       "  86.36377048492432,\n",
       "  80.26836109161377,\n",
       "  80.82296371459961,\n",
       "  82.82809448242188,\n",
       "  77.09761428833008,\n",
       "  84.33986759185791,\n",
       "  73.69912147521973,\n",
       "  78.35461521148682,\n",
       "  71.44082641601562,\n",
       "  77.24269771575928,\n",
       "  78.03346252441406,\n",
       "  73.09294319152832,\n",
       "  67.87476921081543,\n",
       "  70.12753391265869,\n",
       "  68.80174160003662,\n",
       "  75.41355466842651,\n",
       "  71.43071508407593,\n",
       "  65.2589750289917,\n",
       "  65.78794717788696,\n",
       "  69.31705284118652,\n",
       "  66.39263200759888,\n",
       "  64.05174446105957,\n",
       "  62.178518295288086,\n",
       "  62.27778244018555,\n",
       "  61.51211929321289,\n",
       "  64.87582683563232,\n",
       "  65.53883600234985,\n",
       "  61.27052927017212,\n",
       "  58.51787281036377,\n",
       "  57.72049140930176,\n",
       "  58.81987428665161,\n",
       "  56.971304416656494,\n",
       "  55.09128665924072,\n",
       "  62.876832008361816,\n",
       "  60.62739181518555,\n",
       "  57.05122470855713,\n",
       "  57.0435471534729,\n",
       "  52.64954423904419,\n",
       "  52.2520055770874,\n",
       "  52.10900115966797,\n",
       "  50.20124864578247,\n",
       "  50.74583339691162,\n",
       "  55.63959550857544,\n",
       "  50.686819076538086,\n",
       "  64.06695652008057,\n",
       "  53.043492794036865,\n",
       "  48.99647569656372,\n",
       "  52.6668643951416,\n",
       "  48.120383739471436,\n",
       "  50.40018653869629,\n",
       "  52.57468891143799,\n",
       "  55.19876289367676,\n",
       "  46.690898418426514,\n",
       "  47.059797286987305,\n",
       "  48.930161476135254,\n",
       "  47.36267423629761,\n",
       "  47.32751655578613,\n",
       "  44.71532154083252,\n",
       "  47.28938293457031,\n",
       "  51.58817529678345,\n",
       "  46.003193378448486,\n",
       "  50.08650541305542,\n",
       "  46.31413555145264,\n",
       "  42.631364822387695,\n",
       "  48.33428382873535,\n",
       "  50.41333484649658,\n",
       "  49.85546398162842,\n",
       "  43.083792209625244,\n",
       "  40.63565015792847,\n",
       "  41.06342649459839,\n",
       "  38.771811962127686,\n",
       "  37.104573249816895,\n",
       "  38.60428237915039,\n",
       "  40.119768142700195,\n",
       "  44.38707637786865,\n",
       "  37.66931867599487,\n",
       "  37.55419921875,\n",
       "  36.808279037475586,\n",
       "  36.50156211853027,\n",
       "  36.530996322631836,\n",
       "  35.667235374450684,\n",
       "  36.9435977935791,\n",
       "  35.57525157928467,\n",
       "  36.724801540374756,\n",
       "  37.09843349456787,\n",
       "  36.186420917510986,\n",
       "  37.89257621765137,\n",
       "  36.26275587081909,\n",
       "  35.75448513031006,\n",
       "  37.75365734100342,\n",
       "  39.36644983291626,\n",
       "  39.648470878601074,\n",
       "  34.840012550354004,\n",
       "  36.57810831069946,\n",
       "  34.613481521606445,\n",
       "  35.60169219970703,\n",
       "  36.92146015167236,\n",
       "  33.65274620056152,\n",
       "  34.103822231292725,\n",
       "  34.498186111450195,\n",
       "  34.93160915374756,\n",
       "  34.090930461883545,\n",
       "  34.79063558578491,\n",
       "  35.444490909576416,\n",
       "  34.54049015045166,\n",
       "  33.730854988098145,\n",
       "  35.04448223114014,\n",
       "  38.130208015441895,\n",
       "  34.4390230178833,\n",
       "  35.864890575408936,\n",
       "  35.0662636756897,\n",
       "  32.641242027282715,\n",
       "  33.8606162071228,\n",
       "  33.689313888549805,\n",
       "  33.33056020736694,\n",
       "  34.17314577102661,\n",
       "  33.64269971847534,\n",
       "  35.332812786102295,\n",
       "  35.35677719116211,\n",
       "  32.89611053466797,\n",
       "  34.97413682937622,\n",
       "  32.72578573226929,\n",
       "  34.76803159713745,\n",
       "  32.83259439468384,\n",
       "  33.259440898895264,\n",
       "  35.88326692581177,\n",
       "  34.14022636413574,\n",
       "  33.13853979110718,\n",
       "  36.06512403488159,\n",
       "  35.032275676727295,\n",
       "  31.41600513458252,\n",
       "  34.75091791152954,\n",
       "  33.612674713134766,\n",
       "  31.918769359588623,\n",
       "  32.73819589614868,\n",
       "  34.401748180389404,\n",
       "  32.97420358657837,\n",
       "  33.51394605636597,\n",
       "  34.372257232666016,\n",
       "  33.30061388015747,\n",
       "  35.51736831665039,\n",
       "  34.856698513031006,\n",
       "  32.486231327056885,\n",
       "  33.18198919296265,\n",
       "  35.58689212799072,\n",
       "  33.9682502746582,\n",
       "  32.4856162071228,\n",
       "  32.72558403015137,\n",
       "  34.82139873504639,\n",
       "  32.15455150604248,\n",
       "  32.58085775375366,\n",
       "  33.079955101013184,\n",
       "  34.75647449493408,\n",
       "  33.107590675354004,\n",
       "  33.46114921569824,\n",
       "  31.86593723297119,\n",
       "  33.799540519714355,\n",
       "  32.31530475616455,\n",
       "  34.70661783218384,\n",
       "  41.103880882263184,\n",
       "  34.86281633377075,\n",
       "  33.314475536346436,\n",
       "  33.210410594940186,\n",
       "  32.9543080329895,\n",
       "  31.876059532165527,\n",
       "  34.12785005569458,\n",
       "  33.158095836639404,\n",
       "  33.45883560180664,\n",
       "  32.856825828552246,\n",
       "  33.877485275268555,\n",
       "  32.11088252067566,\n",
       "  31.713146924972534,\n",
       "  32.003281593322754,\n",
       "  34.559030055999756,\n",
       "  33.11415100097656,\n",
       "  32.4776496887207,\n",
       "  33.206101417541504,\n",
       "  32.47730088233948]}"
      ]
     },
     "execution_count": 86,
     "metadata": {},
     "output_type": "execute_result"
    }
   ],
   "source": [
    "history.history"
   ]
  },
  {
   "cell_type": "code",
   "execution_count": 88,
   "metadata": {
    "collapsed": true
   },
   "outputs": [
    {
     "data": {
      "text/plain": [
       "[333.76827239990234,\n",
       " 253.01793670654297,\n",
       " 182.85350227355957,\n",
       " 152.9419822692871,\n",
       " 142.39687633514404,\n",
       " 130.76784992218018,\n",
       " 137.41245460510254,\n",
       " 125.58006572723389,\n",
       " 123.06166648864746,\n",
       " 115.12892532348633,\n",
       " 109.31185531616211,\n",
       " 105.87643814086914,\n",
       " 100.9663953781128,\n",
       " 99.23546504974365,\n",
       " 97.48799896240234,\n",
       " 98.28494644165039,\n",
       " 98.11216259002686,\n",
       " 91.35641765594482,\n",
       " 88.5674877166748,\n",
       " 85.02228927612305,\n",
       " 83.59306907653809,\n",
       " 80.46952819824219,\n",
       " 86.36377048492432,\n",
       " 80.26836109161377,\n",
       " 80.82296371459961,\n",
       " 82.82809448242188,\n",
       " 77.09761428833008,\n",
       " 84.33986759185791,\n",
       " 73.69912147521973,\n",
       " 78.35461521148682,\n",
       " 71.44082641601562,\n",
       " 77.24269771575928,\n",
       " 78.03346252441406,\n",
       " 73.09294319152832,\n",
       " 67.87476921081543,\n",
       " 70.12753391265869,\n",
       " 68.80174160003662,\n",
       " 75.41355466842651,\n",
       " 71.43071508407593,\n",
       " 65.2589750289917,\n",
       " 65.78794717788696,\n",
       " 69.31705284118652,\n",
       " 66.39263200759888,\n",
       " 64.05174446105957,\n",
       " 62.178518295288086,\n",
       " 62.27778244018555,\n",
       " 61.51211929321289,\n",
       " 64.87582683563232,\n",
       " 65.53883600234985,\n",
       " 61.27052927017212,\n",
       " 58.51787281036377,\n",
       " 57.72049140930176,\n",
       " 58.81987428665161,\n",
       " 56.971304416656494,\n",
       " 55.09128665924072,\n",
       " 62.876832008361816,\n",
       " 60.62739181518555,\n",
       " 57.05122470855713,\n",
       " 57.0435471534729,\n",
       " 52.64954423904419,\n",
       " 52.2520055770874,\n",
       " 52.10900115966797,\n",
       " 50.20124864578247,\n",
       " 50.74583339691162,\n",
       " 55.63959550857544,\n",
       " 50.686819076538086,\n",
       " 64.06695652008057,\n",
       " 53.043492794036865,\n",
       " 48.99647569656372,\n",
       " 52.6668643951416,\n",
       " 48.120383739471436,\n",
       " 50.40018653869629,\n",
       " 52.57468891143799,\n",
       " 55.19876289367676,\n",
       " 46.690898418426514,\n",
       " 47.059797286987305,\n",
       " 48.930161476135254,\n",
       " 47.36267423629761,\n",
       " 47.32751655578613,\n",
       " 44.71532154083252,\n",
       " 47.28938293457031,\n",
       " 51.58817529678345,\n",
       " 46.003193378448486,\n",
       " 50.08650541305542,\n",
       " 46.31413555145264,\n",
       " 42.631364822387695,\n",
       " 48.33428382873535,\n",
       " 50.41333484649658,\n",
       " 49.85546398162842,\n",
       " 43.083792209625244,\n",
       " 40.63565015792847,\n",
       " 41.06342649459839,\n",
       " 38.771811962127686,\n",
       " 37.104573249816895,\n",
       " 38.60428237915039,\n",
       " 40.119768142700195,\n",
       " 44.38707637786865,\n",
       " 37.66931867599487,\n",
       " 37.55419921875,\n",
       " 36.808279037475586,\n",
       " 36.50156211853027,\n",
       " 36.530996322631836,\n",
       " 35.667235374450684,\n",
       " 36.9435977935791,\n",
       " 35.57525157928467,\n",
       " 36.724801540374756,\n",
       " 37.09843349456787,\n",
       " 36.186420917510986,\n",
       " 37.89257621765137,\n",
       " 36.26275587081909,\n",
       " 35.75448513031006,\n",
       " 37.75365734100342,\n",
       " 39.36644983291626,\n",
       " 39.648470878601074,\n",
       " 34.840012550354004,\n",
       " 36.57810831069946,\n",
       " 34.613481521606445,\n",
       " 35.60169219970703,\n",
       " 36.92146015167236,\n",
       " 33.65274620056152,\n",
       " 34.103822231292725,\n",
       " 34.498186111450195,\n",
       " 34.93160915374756,\n",
       " 34.090930461883545,\n",
       " 34.79063558578491,\n",
       " 35.444490909576416,\n",
       " 34.54049015045166,\n",
       " 33.730854988098145,\n",
       " 35.04448223114014,\n",
       " 38.130208015441895,\n",
       " 34.4390230178833,\n",
       " 35.864890575408936,\n",
       " 35.0662636756897,\n",
       " 32.641242027282715,\n",
       " 33.8606162071228,\n",
       " 33.689313888549805,\n",
       " 33.33056020736694,\n",
       " 34.17314577102661,\n",
       " 33.64269971847534,\n",
       " 35.332812786102295,\n",
       " 35.35677719116211,\n",
       " 32.89611053466797,\n",
       " 34.97413682937622,\n",
       " 32.72578573226929,\n",
       " 34.76803159713745,\n",
       " 32.83259439468384,\n",
       " 33.259440898895264,\n",
       " 35.88326692581177,\n",
       " 34.14022636413574,\n",
       " 33.13853979110718,\n",
       " 36.06512403488159,\n",
       " 35.032275676727295,\n",
       " 31.41600513458252,\n",
       " 34.75091791152954,\n",
       " 33.612674713134766,\n",
       " 31.918769359588623,\n",
       " 32.73819589614868,\n",
       " 34.401748180389404,\n",
       " 32.97420358657837,\n",
       " 33.51394605636597,\n",
       " 34.372257232666016,\n",
       " 33.30061388015747,\n",
       " 35.51736831665039,\n",
       " 34.856698513031006,\n",
       " 32.486231327056885,\n",
       " 33.18198919296265,\n",
       " 35.58689212799072,\n",
       " 33.9682502746582,\n",
       " 32.4856162071228,\n",
       " 32.72558403015137,\n",
       " 34.82139873504639,\n",
       " 32.15455150604248,\n",
       " 32.58085775375366,\n",
       " 33.079955101013184,\n",
       " 34.75647449493408,\n",
       " 33.107590675354004,\n",
       " 33.46114921569824,\n",
       " 31.86593723297119,\n",
       " 33.799540519714355,\n",
       " 32.31530475616455,\n",
       " 34.70661783218384,\n",
       " 41.103880882263184,\n",
       " 34.86281633377075,\n",
       " 33.314475536346436,\n",
       " 33.210410594940186,\n",
       " 32.9543080329895,\n",
       " 31.876059532165527,\n",
       " 34.12785005569458,\n",
       " 33.158095836639404,\n",
       " 33.45883560180664,\n",
       " 32.856825828552246,\n",
       " 33.877485275268555,\n",
       " 32.11088252067566,\n",
       " 31.713146924972534,\n",
       " 32.003281593322754,\n",
       " 34.559030055999756,\n",
       " 33.11415100097656,\n",
       " 32.4776496887207,\n",
       " 33.206101417541504,\n",
       " 32.47730088233948]"
      ]
     },
     "execution_count": 88,
     "metadata": {},
     "output_type": "execute_result"
    }
   ],
   "source": [
    "history.history['val_loss']"
   ]
  },
  {
   "cell_type": "code",
   "execution_count": 91,
   "metadata": {},
   "outputs": [
    {
     "data": {
      "image/png": "[encoded data removed]",
      "text/plain": [
       "<Figure size 720x504 with 1 Axes>"
      ]
     },
     "metadata": {
      "needs_background": "light"
     },
     "output_type": "display_data"
    }
   ],
   "source": [
    "# epoch당 loss와 val_loss  변화에 대해 선그래프 그리기.\n",
    "import matplotlib.pyplot as plt\n",
    "plt.figure(figsize=(10,7))\n",
    "\n",
    "plt.plot(range(1, N_EPOCHS+1), history.history['loss'], label='Train loss')\n",
    "plt.plot(range(1, N_EPOCHS+1), history.history['val_loss'], label='Validation loss')\n",
    "\n",
    "plt.xlabel('Epochs')\n",
    "plt.ylabel('Loss(MSE)')\n",
    "plt.ylim(0, 150)\n",
    "plt.legend()\n",
    "plt.grid(True)\n",
    "plt.show()"
   ]
  },
  {
   "cell_type": "markdown",
   "metadata": {},
   "source": [
    "## 2. Classification\n",
    "\n",
    "### Fashion MNIST(MNIST) Dataset"
   ]
  },
  {
   "cell_type": "markdown",
   "metadata": {},
   "source": [
    "10개의 범주(category)와 70,000개의 흑백 이미지로 구성된 [패션 MNIST](https://github.com/zalandoresearch/fashion-mnist) 데이터셋. \n",
    "이미지는 해상도(28x28 픽셀)가 낮고 다음처럼 개별 의류 품목을 나타낸다:\n",
    "\n",
    "<table>\n",
    "  <tr><td>\n",
    "    <img src=\"https://tensorflow.org/images/fashion-mnist-sprite.png\"\n",
    "         alt=\"Fashion MNIST sprite\"  width=\"600\">\n",
    "  </td></tr>\n",
    "  <tr><td align=\"center\">\n",
    "    <b>그림</b> <a href=\"https://github.com/zalandoresearch/fashion-mnist\">패션-MNIST 샘플</a> (Zalando, MIT License).<br/>&nbsp;\n",
    "  </td></tr>\n",
    "</table>\n",
    "\n",
    "패션 MNIST와 손글씨 MNIST는  비교적 작기 때문에 알고리즘의 작동 여부를 확인하기 위해 사용되곤 하며 코드를 테스트하고 디버깅하는 용도로 좋다."
   ]
  },
  {
   "cell_type": "markdown",
   "metadata": {},
   "source": [
    "이미지는 28x28 크기의 넘파이 배열이고 픽셀 값은 0과 255 사이이다. *레이블*(label)은 0에서 9까지의 정수 배열이다. 아래 표는 이미지에 있는 의류의 **클래스**(class)를 나낸다.\n",
    "\n",
    "<table>\n",
    "  <tr>\n",
    "    <th>레이블</th>\n",
    "    <th>클래스</th>\n",
    "  </tr>\n",
    "  <tr>\n",
    "    <td>0</td>\n",
    "    <td>T-shirt/top</td>\n",
    "  </tr>\n",
    "  <tr>\n",
    "    <td>1</td>\n",
    "    <td>Trouser</td>\n",
    "  </tr>\n",
    "    <tr>\n",
    "    <td>2</td>\n",
    "    <td>Pullover</td>\n",
    "  </tr>\n",
    "    <tr>\n",
    "    <td>3</td>\n",
    "    <td>Dress</td>\n",
    "  </tr>\n",
    "    <tr>\n",
    "    <td>4</td>\n",
    "    <td>Coat</td>\n",
    "  </tr>\n",
    "    <tr>\n",
    "    <td>5</td>\n",
    "    <td>Sandal</td>\n",
    "  </tr>\n",
    "    <tr>\n",
    "    <td>6</td>\n",
    "    <td>Shirt</td>\n",
    "  </tr>\n",
    "    <tr>\n",
    "    <td>7</td>\n",
    "    <td>Sneaker</td>\n",
    "  </tr>\n",
    "    <tr>\n",
    "    <td>8</td>\n",
    "    <td>Bag</td>\n",
    "  </tr>\n",
    "    <tr>\n",
    "    <td>9</td>\n",
    "    <td>Ankle boot</td>\n",
    "  </tr>\n",
    "</table>\n",
    "\n",
    "각 이미지는 하나의 레이블에 매핑되어 있다. 데이터셋에 클래스 이름이 들어있지 않기 때문에 나중에 이미지를 출력할 때 사용하기 위해 별도의 변수를 만들어 저장한다."
   ]
  },
  {
   "cell_type": "code",
   "execution_count": null,
   "metadata": {},
   "outputs": [],
   "source": [
    "class_names = ['T-shirt/top', 'Trouser', 'Pullover', 'Dress', 'Coat', 'Sandal', 'Shirt', 'Sneaker', 'Bag', 'Ankle boot']"
   ]
  },
  {
   "cell_type": "code",
   "execution_count": null,
   "metadata": {},
   "outputs": [],
   "source": []
  },
  {
   "cell_type": "code",
   "execution_count": null,
   "metadata": {},
   "outputs": [],
   "source": []
  },
  {
   "cell_type": "code",
   "execution_count": null,
   "metadata": {},
   "outputs": [],
   "source": []
  },
  {
   "cell_type": "code",
   "execution_count": null,
   "metadata": {},
   "outputs": [],
   "source": []
  },
  {
   "cell_type": "code",
   "execution_count": null,
   "metadata": {},
   "outputs": [],
   "source": []
  }
 ],
 "metadata": {
  "kernelspec": {
   "display_name": "Python 3",
   "language": "python",
   "name": "python3"
  },
  "language_info": {
   "codemirror_mode": {
    "name": "ipython",
    "version": 3
   },
   "file_extension": ".py",
   "mimetype": "text/x-python",
   "name": "python",
   "nbconvert_exporter": "python",
   "pygments_lexer": "ipython3",
   "version": "3.7.10"
  },
  "toc": {
   "base_numbering": 1,
   "nav_menu": {},
   "number_sections": false,
   "sideBar": true,
   "skip_h1_title": false,
   "title_cell": "Table of Contents",
   "title_sidebar": "Contents",
   "toc_cell": false,
   "toc_position": {},
   "toc_section_display": true,
   "toc_window_display": false
  },
  "varInspector": {
   "cols": {
    "lenName": 16,
    "lenType": 16,
    "lenVar": 40
   },
   "kernels_config": {
    "python": {
     "delete_cmd_postfix": "",
     "delete_cmd_prefix": "del ",
     "library": "var_list.py",
     "varRefreshCmd": "print(var_dic_list())"
    },
    "r": {
     "delete_cmd_postfix": ") ",
     "delete_cmd_prefix": "rm(",
     "library": "var_list.r",
     "varRefreshCmd": "cat(var_dic_list()) "
    }
   },
   "types_to_exclude": [
    "module",
    "function",
    "builtin_function_or_method",
    "instance",
    "_Feature"
   ],
   "window_display": false
  }
 },
 "nbformat": 4,
 "nbformat_minor": 2
}
