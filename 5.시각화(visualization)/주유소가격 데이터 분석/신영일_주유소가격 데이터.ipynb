{
 "cells": [
  {
   "cell_type": "markdown",
   "metadata": {},
   "source": [
    "kmg"
   ]
  },
  {
   "cell_type": "markdown",
   "metadata": {},
   "source": [
    "# 데이터 불러오기\n",
    "- 2019년 주유소들의 일자별 가격 데이터"
   ]
  },
  {
   "cell_type": "code",
   "execution_count": 1,
   "metadata": {},
   "outputs": [],
   "source": [
    "import pandas as pd\n",
    "import numpy as np\n",
    "import matplotlib.pyplot as plt\n",
    "import seaborn as sns"
   ]
  },
  {
   "cell_type": "code",
   "execution_count": 51,
   "metadata": {
    "ExecuteTime": {
     "end_time": "2020-08-16T12:00:17.372117Z",
     "start_time": "2020-08-16T12:00:16.763745Z"
    }
   },
   "outputs": [],
   "source": [
    "# 상반기, 하반기 주유소 가격 데이터 조회\n",
    "first = pd.read_csv('data/2019년 상반기 주유소 판매가격.csv')\n",
    "second = pd.read_csv('data/2019년 하반기 주유소 판매가격.csv')"
   ]
  },
  {
   "cell_type": "code",
   "execution_count": 10,
   "metadata": {},
   "outputs": [
    {
     "name": "stdout",
     "output_type": "stream",
     "text": [
      "<class 'pandas.core.frame.DataFrame'>\n",
      "RangeIndex: 90590 entries, 0 to 90589\n",
      "Data columns (total 11 columns):\n",
      " #   Column  Non-Null Count  Dtype \n",
      "---  ------  --------------  ----- \n",
      " 0   번호      90590 non-null  object\n",
      " 1   지역      90590 non-null  object\n",
      " 2   상호      90590 non-null  object\n",
      " 3   주소      90590 non-null  object\n",
      " 4   기간      90590 non-null  int64 \n",
      " 5   상표      90590 non-null  object\n",
      " 6   셀프여부    90590 non-null  object\n",
      " 7   고급휘발유   90590 non-null  int64 \n",
      " 8   휘발유     90590 non-null  int64 \n",
      " 9   경유      90590 non-null  int64 \n",
      " 10  실내등유    90590 non-null  int64 \n",
      "dtypes: int64(5), object(6)\n",
      "memory usage: 7.6+ MB\n"
     ]
    },
    {
     "data": {
      "text/plain": [
       "(None, (90590, 11))"
      ]
     },
     "execution_count": 10,
     "metadata": {},
     "output_type": "execute_result"
    }
   ],
   "source": [
    "first.info()"
   ]
  },
  {
   "cell_type": "code",
   "execution_count": 11,
   "metadata": {
    "scrolled": true
   },
   "outputs": [
    {
     "name": "stdout",
     "output_type": "stream",
     "text": [
      "<class 'pandas.core.frame.DataFrame'>\n",
      "RangeIndex: 91124 entries, 0 to 91123\n",
      "Data columns (total 11 columns):\n",
      " #   Column  Non-Null Count  Dtype \n",
      "---  ------  --------------  ----- \n",
      " 0   번호      91124 non-null  object\n",
      " 1   지역      91124 non-null  object\n",
      " 2   상호      91124 non-null  object\n",
      " 3   주소      91124 non-null  object\n",
      " 4   기간      91124 non-null  int64 \n",
      " 5   상표      91124 non-null  object\n",
      " 6   셀프여부    91124 non-null  object\n",
      " 7   고급휘발유   91124 non-null  int64 \n",
      " 8   휘발유     91124 non-null  int64 \n",
      " 9   경유      91124 non-null  int64 \n",
      " 10  실내등유    91124 non-null  int64 \n",
      "dtypes: int64(5), object(6)\n",
      "memory usage: 7.6+ MB\n"
     ]
    }
   ],
   "source": [
    "second.info()"
   ]
  },
  {
   "cell_type": "code",
   "execution_count": 52,
   "metadata": {},
   "outputs": [
    {
     "data": {
      "text/html": [
       "<div>\n",
       "<style scoped>\n",
       "    .dataframe tbody tr th:only-of-type {\n",
       "        vertical-align: middle;\n",
       "    }\n",
       "\n",
       "    .dataframe tbody tr th {\n",
       "        vertical-align: top;\n",
       "    }\n",
       "\n",
       "    .dataframe thead th {\n",
       "        text-align: right;\n",
       "    }\n",
       "</style>\n",
       "<table border=\"1\" class=\"dataframe\">\n",
       "  <thead>\n",
       "    <tr style=\"text-align: right;\">\n",
       "      <th></th>\n",
       "      <th>번호</th>\n",
       "      <th>지역</th>\n",
       "      <th>상호</th>\n",
       "      <th>주소</th>\n",
       "      <th>기간</th>\n",
       "      <th>상표</th>\n",
       "      <th>셀프여부</th>\n",
       "      <th>고급휘발유</th>\n",
       "      <th>휘발유</th>\n",
       "      <th>경유</th>\n",
       "      <th>실내등유</th>\n",
       "    </tr>\n",
       "  </thead>\n",
       "  <tbody>\n",
       "    <tr>\n",
       "      <th>0</th>\n",
       "      <td>A0006039</td>\n",
       "      <td>서울 강남구</td>\n",
       "      <td>(주)동하힐탑셀프주유소</td>\n",
       "      <td>서울 강남구 논현로 640</td>\n",
       "      <td>20190101</td>\n",
       "      <td>SK에너지</td>\n",
       "      <td>셀프</td>\n",
       "      <td>1673</td>\n",
       "      <td>1465</td>\n",
       "      <td>1365</td>\n",
       "      <td>0</td>\n",
       "    </tr>\n",
       "    <tr>\n",
       "      <th>1</th>\n",
       "      <td>A0006039</td>\n",
       "      <td>서울 강남구</td>\n",
       "      <td>(주)동하힐탑셀프주유소</td>\n",
       "      <td>서울 강남구 논현로 640</td>\n",
       "      <td>20190102</td>\n",
       "      <td>SK에너지</td>\n",
       "      <td>셀프</td>\n",
       "      <td>1673</td>\n",
       "      <td>1465</td>\n",
       "      <td>1365</td>\n",
       "      <td>0</td>\n",
       "    </tr>\n",
       "    <tr>\n",
       "      <th>2</th>\n",
       "      <td>A0006039</td>\n",
       "      <td>서울 강남구</td>\n",
       "      <td>(주)동하힐탑셀프주유소</td>\n",
       "      <td>서울 강남구 논현로 640</td>\n",
       "      <td>20190103</td>\n",
       "      <td>SK에너지</td>\n",
       "      <td>셀프</td>\n",
       "      <td>1673</td>\n",
       "      <td>1465</td>\n",
       "      <td>1365</td>\n",
       "      <td>0</td>\n",
       "    </tr>\n",
       "    <tr>\n",
       "      <th>3</th>\n",
       "      <td>A0006039</td>\n",
       "      <td>서울 강남구</td>\n",
       "      <td>(주)동하힐탑셀프주유소</td>\n",
       "      <td>서울 강남구 논현로 640</td>\n",
       "      <td>20190104</td>\n",
       "      <td>SK에너지</td>\n",
       "      <td>셀프</td>\n",
       "      <td>1673</td>\n",
       "      <td>1465</td>\n",
       "      <td>1365</td>\n",
       "      <td>0</td>\n",
       "    </tr>\n",
       "    <tr>\n",
       "      <th>4</th>\n",
       "      <td>A0006039</td>\n",
       "      <td>서울 강남구</td>\n",
       "      <td>(주)동하힐탑셀프주유소</td>\n",
       "      <td>서울 강남구 논현로 640</td>\n",
       "      <td>20190105</td>\n",
       "      <td>SK에너지</td>\n",
       "      <td>셀프</td>\n",
       "      <td>1673</td>\n",
       "      <td>1465</td>\n",
       "      <td>1365</td>\n",
       "      <td>0</td>\n",
       "    </tr>\n",
       "  </tbody>\n",
       "</table>\n",
       "</div>"
      ],
      "text/plain": [
       "         번호      지역            상호              주소        기간     상표 셀프여부  \\\n",
       "0  A0006039  서울 강남구  (주)동하힐탑셀프주유소  서울 강남구 논현로 640  20190101  SK에너지   셀프   \n",
       "1  A0006039  서울 강남구  (주)동하힐탑셀프주유소  서울 강남구 논현로 640  20190102  SK에너지   셀프   \n",
       "2  A0006039  서울 강남구  (주)동하힐탑셀프주유소  서울 강남구 논현로 640  20190103  SK에너지   셀프   \n",
       "3  A0006039  서울 강남구  (주)동하힐탑셀프주유소  서울 강남구 논현로 640  20190104  SK에너지   셀프   \n",
       "4  A0006039  서울 강남구  (주)동하힐탑셀프주유소  서울 강남구 논현로 640  20190105  SK에너지   셀프   \n",
       "\n",
       "   고급휘발유   휘발유    경유  실내등유  \n",
       "0   1673  1465  1365     0  \n",
       "1   1673  1465  1365     0  \n",
       "2   1673  1465  1365     0  \n",
       "3   1673  1465  1365     0  \n",
       "4   1673  1465  1365     0  "
      ]
     },
     "execution_count": 52,
     "metadata": {},
     "output_type": "execute_result"
    }
   ],
   "source": [
    " first.head()"
   ]
  },
  {
   "cell_type": "code",
   "execution_count": 5,
   "metadata": {},
   "outputs": [
    {
     "data": {
      "text/html": [
       "<div>\n",
       "<style scoped>\n",
       "    .dataframe tbody tr th:only-of-type {\n",
       "        vertical-align: middle;\n",
       "    }\n",
       "\n",
       "    .dataframe tbody tr th {\n",
       "        vertical-align: top;\n",
       "    }\n",
       "\n",
       "    .dataframe thead th {\n",
       "        text-align: right;\n",
       "    }\n",
       "</style>\n",
       "<table border=\"1\" class=\"dataframe\">\n",
       "  <thead>\n",
       "    <tr style=\"text-align: right;\">\n",
       "      <th></th>\n",
       "      <th>번호</th>\n",
       "      <th>지역</th>\n",
       "      <th>상호</th>\n",
       "      <th>주소</th>\n",
       "      <th>기간</th>\n",
       "      <th>상표</th>\n",
       "      <th>셀프여부</th>\n",
       "      <th>고급휘발유</th>\n",
       "      <th>휘발유</th>\n",
       "      <th>경유</th>\n",
       "      <th>실내등유</th>\n",
       "    </tr>\n",
       "  </thead>\n",
       "  <tbody>\n",
       "    <tr>\n",
       "      <th>0</th>\n",
       "      <td>A0006039</td>\n",
       "      <td>서울 강남구</td>\n",
       "      <td>(주)동하힐탑셀프주유소</td>\n",
       "      <td>서울 강남구 논현로 640</td>\n",
       "      <td>20190701</td>\n",
       "      <td>SK에너지</td>\n",
       "      <td>셀프</td>\n",
       "      <td>1777</td>\n",
       "      <td>1577</td>\n",
       "      <td>1477</td>\n",
       "      <td>0</td>\n",
       "    </tr>\n",
       "    <tr>\n",
       "      <th>1</th>\n",
       "      <td>A0006039</td>\n",
       "      <td>서울 강남구</td>\n",
       "      <td>(주)동하힐탑셀프주유소</td>\n",
       "      <td>서울 강남구 논현로 640</td>\n",
       "      <td>20190702</td>\n",
       "      <td>SK에너지</td>\n",
       "      <td>셀프</td>\n",
       "      <td>1777</td>\n",
       "      <td>1577</td>\n",
       "      <td>1477</td>\n",
       "      <td>0</td>\n",
       "    </tr>\n",
       "    <tr>\n",
       "      <th>2</th>\n",
       "      <td>A0006039</td>\n",
       "      <td>서울 강남구</td>\n",
       "      <td>(주)동하힐탑셀프주유소</td>\n",
       "      <td>서울 강남구 논현로 640</td>\n",
       "      <td>20190703</td>\n",
       "      <td>SK에너지</td>\n",
       "      <td>셀프</td>\n",
       "      <td>1777</td>\n",
       "      <td>1577</td>\n",
       "      <td>1477</td>\n",
       "      <td>0</td>\n",
       "    </tr>\n",
       "    <tr>\n",
       "      <th>3</th>\n",
       "      <td>A0006039</td>\n",
       "      <td>서울 강남구</td>\n",
       "      <td>(주)동하힐탑셀프주유소</td>\n",
       "      <td>서울 강남구 논현로 640</td>\n",
       "      <td>20190704</td>\n",
       "      <td>SK에너지</td>\n",
       "      <td>셀프</td>\n",
       "      <td>1777</td>\n",
       "      <td>1577</td>\n",
       "      <td>1477</td>\n",
       "      <td>0</td>\n",
       "    </tr>\n",
       "    <tr>\n",
       "      <th>4</th>\n",
       "      <td>A0006039</td>\n",
       "      <td>서울 강남구</td>\n",
       "      <td>(주)동하힐탑셀프주유소</td>\n",
       "      <td>서울 강남구 논현로 640</td>\n",
       "      <td>20190705</td>\n",
       "      <td>SK에너지</td>\n",
       "      <td>셀프</td>\n",
       "      <td>1777</td>\n",
       "      <td>1577</td>\n",
       "      <td>1477</td>\n",
       "      <td>0</td>\n",
       "    </tr>\n",
       "  </tbody>\n",
       "</table>\n",
       "</div>"
      ],
      "text/plain": [
       "         번호      지역            상호              주소        기간     상표 셀프여부  \\\n",
       "0  A0006039  서울 강남구  (주)동하힐탑셀프주유소  서울 강남구 논현로 640  20190701  SK에너지   셀프   \n",
       "1  A0006039  서울 강남구  (주)동하힐탑셀프주유소  서울 강남구 논현로 640  20190702  SK에너지   셀프   \n",
       "2  A0006039  서울 강남구  (주)동하힐탑셀프주유소  서울 강남구 논현로 640  20190703  SK에너지   셀프   \n",
       "3  A0006039  서울 강남구  (주)동하힐탑셀프주유소  서울 강남구 논현로 640  20190704  SK에너지   셀프   \n",
       "4  A0006039  서울 강남구  (주)동하힐탑셀프주유소  서울 강남구 논현로 640  20190705  SK에너지   셀프   \n",
       "\n",
       "   고급휘발유   휘발유    경유  실내등유  \n",
       "0   1777  1577  1477     0  \n",
       "1   1777  1577  1477     0  \n",
       "2   1777  1577  1477     0  \n",
       "3   1777  1577  1477     0  \n",
       "4   1777  1577  1477     0  "
      ]
     },
     "execution_count": 5,
     "metadata": {},
     "output_type": "execute_result"
    }
   ],
   "source": [
    "second.head()"
   ]
  },
  {
   "cell_type": "code",
   "execution_count": 53,
   "metadata": {},
   "outputs": [
    {
     "data": {
      "text/html": [
       "<div>\n",
       "<style scoped>\n",
       "    .dataframe tbody tr th:only-of-type {\n",
       "        vertical-align: middle;\n",
       "    }\n",
       "\n",
       "    .dataframe tbody tr th {\n",
       "        vertical-align: top;\n",
       "    }\n",
       "\n",
       "    .dataframe thead th {\n",
       "        text-align: right;\n",
       "    }\n",
       "</style>\n",
       "<table border=\"1\" class=\"dataframe\">\n",
       "  <thead>\n",
       "    <tr style=\"text-align: right;\">\n",
       "      <th></th>\n",
       "      <th>번호</th>\n",
       "      <th>지역</th>\n",
       "      <th>상호</th>\n",
       "      <th>주소</th>\n",
       "      <th>기간</th>\n",
       "      <th>상표</th>\n",
       "      <th>셀프여부</th>\n",
       "      <th>고급휘발유</th>\n",
       "      <th>휘발유</th>\n",
       "      <th>경유</th>\n",
       "      <th>실내등유</th>\n",
       "    </tr>\n",
       "  </thead>\n",
       "  <tbody>\n",
       "    <tr>\n",
       "      <th>0</th>\n",
       "      <td>A0006039</td>\n",
       "      <td>서울 강남구</td>\n",
       "      <td>(주)동하힐탑셀프주유소</td>\n",
       "      <td>서울 강남구 논현로 640</td>\n",
       "      <td>20190101</td>\n",
       "      <td>SK에너지</td>\n",
       "      <td>셀프</td>\n",
       "      <td>1673</td>\n",
       "      <td>1465</td>\n",
       "      <td>1365</td>\n",
       "      <td>0</td>\n",
       "    </tr>\n",
       "    <tr>\n",
       "      <th>1</th>\n",
       "      <td>A0006039</td>\n",
       "      <td>서울 강남구</td>\n",
       "      <td>(주)동하힐탑셀프주유소</td>\n",
       "      <td>서울 강남구 논현로 640</td>\n",
       "      <td>20190102</td>\n",
       "      <td>SK에너지</td>\n",
       "      <td>셀프</td>\n",
       "      <td>1673</td>\n",
       "      <td>1465</td>\n",
       "      <td>1365</td>\n",
       "      <td>0</td>\n",
       "    </tr>\n",
       "    <tr>\n",
       "      <th>2</th>\n",
       "      <td>A0006039</td>\n",
       "      <td>서울 강남구</td>\n",
       "      <td>(주)동하힐탑셀프주유소</td>\n",
       "      <td>서울 강남구 논현로 640</td>\n",
       "      <td>20190103</td>\n",
       "      <td>SK에너지</td>\n",
       "      <td>셀프</td>\n",
       "      <td>1673</td>\n",
       "      <td>1465</td>\n",
       "      <td>1365</td>\n",
       "      <td>0</td>\n",
       "    </tr>\n",
       "    <tr>\n",
       "      <th>3</th>\n",
       "      <td>A0006039</td>\n",
       "      <td>서울 강남구</td>\n",
       "      <td>(주)동하힐탑셀프주유소</td>\n",
       "      <td>서울 강남구 논현로 640</td>\n",
       "      <td>20190104</td>\n",
       "      <td>SK에너지</td>\n",
       "      <td>셀프</td>\n",
       "      <td>1673</td>\n",
       "      <td>1465</td>\n",
       "      <td>1365</td>\n",
       "      <td>0</td>\n",
       "    </tr>\n",
       "    <tr>\n",
       "      <th>4</th>\n",
       "      <td>A0006039</td>\n",
       "      <td>서울 강남구</td>\n",
       "      <td>(주)동하힐탑셀프주유소</td>\n",
       "      <td>서울 강남구 논현로 640</td>\n",
       "      <td>20190105</td>\n",
       "      <td>SK에너지</td>\n",
       "      <td>셀프</td>\n",
       "      <td>1673</td>\n",
       "      <td>1465</td>\n",
       "      <td>1365</td>\n",
       "      <td>0</td>\n",
       "    </tr>\n",
       "    <tr>\n",
       "      <th>...</th>\n",
       "      <td>...</td>\n",
       "      <td>...</td>\n",
       "      <td>...</td>\n",
       "      <td>...</td>\n",
       "      <td>...</td>\n",
       "      <td>...</td>\n",
       "      <td>...</td>\n",
       "      <td>...</td>\n",
       "      <td>...</td>\n",
       "      <td>...</td>\n",
       "      <td>...</td>\n",
       "    </tr>\n",
       "    <tr>\n",
       "      <th>181709</th>\n",
       "      <td>A0032659</td>\n",
       "      <td>서울 중랑구</td>\n",
       "      <td>지에스칼텍스㈜ 소망주유소</td>\n",
       "      <td>서울 중랑구 망우로 475</td>\n",
       "      <td>20191227</td>\n",
       "      <td>GS칼텍스</td>\n",
       "      <td>셀프</td>\n",
       "      <td>0</td>\n",
       "      <td>1540</td>\n",
       "      <td>1389</td>\n",
       "      <td>1100</td>\n",
       "    </tr>\n",
       "    <tr>\n",
       "      <th>181710</th>\n",
       "      <td>A0032659</td>\n",
       "      <td>서울 중랑구</td>\n",
       "      <td>지에스칼텍스㈜ 소망주유소</td>\n",
       "      <td>서울 중랑구 망우로 475</td>\n",
       "      <td>20191228</td>\n",
       "      <td>GS칼텍스</td>\n",
       "      <td>셀프</td>\n",
       "      <td>0</td>\n",
       "      <td>1540</td>\n",
       "      <td>1389</td>\n",
       "      <td>1100</td>\n",
       "    </tr>\n",
       "    <tr>\n",
       "      <th>181711</th>\n",
       "      <td>A0032659</td>\n",
       "      <td>서울 중랑구</td>\n",
       "      <td>지에스칼텍스㈜ 소망주유소</td>\n",
       "      <td>서울 중랑구 망우로 475</td>\n",
       "      <td>20191229</td>\n",
       "      <td>GS칼텍스</td>\n",
       "      <td>셀프</td>\n",
       "      <td>0</td>\n",
       "      <td>1540</td>\n",
       "      <td>1389</td>\n",
       "      <td>1100</td>\n",
       "    </tr>\n",
       "    <tr>\n",
       "      <th>181712</th>\n",
       "      <td>A0032659</td>\n",
       "      <td>서울 중랑구</td>\n",
       "      <td>지에스칼텍스㈜ 소망주유소</td>\n",
       "      <td>서울 중랑구 망우로 475</td>\n",
       "      <td>20191230</td>\n",
       "      <td>GS칼텍스</td>\n",
       "      <td>셀프</td>\n",
       "      <td>0</td>\n",
       "      <td>1540</td>\n",
       "      <td>1389</td>\n",
       "      <td>1100</td>\n",
       "    </tr>\n",
       "    <tr>\n",
       "      <th>181713</th>\n",
       "      <td>A0032659</td>\n",
       "      <td>서울 중랑구</td>\n",
       "      <td>지에스칼텍스㈜ 소망주유소</td>\n",
       "      <td>서울 중랑구 망우로 475</td>\n",
       "      <td>20191231</td>\n",
       "      <td>GS칼텍스</td>\n",
       "      <td>셀프</td>\n",
       "      <td>0</td>\n",
       "      <td>1540</td>\n",
       "      <td>1389</td>\n",
       "      <td>1100</td>\n",
       "    </tr>\n",
       "  </tbody>\n",
       "</table>\n",
       "<p>181714 rows × 11 columns</p>\n",
       "</div>"
      ],
      "text/plain": [
       "              번호      지역             상호              주소        기간     상표 셀프여부  \\\n",
       "0       A0006039  서울 강남구   (주)동하힐탑셀프주유소  서울 강남구 논현로 640  20190101  SK에너지   셀프   \n",
       "1       A0006039  서울 강남구   (주)동하힐탑셀프주유소  서울 강남구 논현로 640  20190102  SK에너지   셀프   \n",
       "2       A0006039  서울 강남구   (주)동하힐탑셀프주유소  서울 강남구 논현로 640  20190103  SK에너지   셀프   \n",
       "3       A0006039  서울 강남구   (주)동하힐탑셀프주유소  서울 강남구 논현로 640  20190104  SK에너지   셀프   \n",
       "4       A0006039  서울 강남구   (주)동하힐탑셀프주유소  서울 강남구 논현로 640  20190105  SK에너지   셀프   \n",
       "...          ...     ...            ...             ...       ...    ...  ...   \n",
       "181709  A0032659  서울 중랑구  지에스칼텍스㈜ 소망주유소  서울 중랑구 망우로 475  20191227  GS칼텍스   셀프   \n",
       "181710  A0032659  서울 중랑구  지에스칼텍스㈜ 소망주유소  서울 중랑구 망우로 475  20191228  GS칼텍스   셀프   \n",
       "181711  A0032659  서울 중랑구  지에스칼텍스㈜ 소망주유소  서울 중랑구 망우로 475  20191229  GS칼텍스   셀프   \n",
       "181712  A0032659  서울 중랑구  지에스칼텍스㈜ 소망주유소  서울 중랑구 망우로 475  20191230  GS칼텍스   셀프   \n",
       "181713  A0032659  서울 중랑구  지에스칼텍스㈜ 소망주유소  서울 중랑구 망우로 475  20191231  GS칼텍스   셀프   \n",
       "\n",
       "        고급휘발유   휘발유    경유  실내등유  \n",
       "0        1673  1465  1365     0  \n",
       "1        1673  1465  1365     0  \n",
       "2        1673  1465  1365     0  \n",
       "3        1673  1465  1365     0  \n",
       "4        1673  1465  1365     0  \n",
       "...       ...   ...   ...   ...  \n",
       "181709      0  1540  1389  1100  \n",
       "181710      0  1540  1389  1100  \n",
       "181711      0  1540  1389  1100  \n",
       "181712      0  1540  1389  1100  \n",
       "181713      0  1540  1389  1100  \n",
       "\n",
       "[181714 rows x 11 columns]"
      ]
     },
     "execution_count": 53,
     "metadata": {},
     "output_type": "execute_result"
    }
   ],
   "source": [
    "# 상반기, 하반기 DataFrame 합치기\n",
    "gas = pd.concat([first,second],ignore_index=True)\n",
    "gas"
   ]
  },
  {
   "cell_type": "code",
   "execution_count": 66,
   "metadata": {},
   "outputs": [
    {
     "data": {
      "text/html": [
       "<div>\n",
       "<style scoped>\n",
       "    .dataframe tbody tr th:only-of-type {\n",
       "        vertical-align: middle;\n",
       "    }\n",
       "\n",
       "    .dataframe tbody tr th {\n",
       "        vertical-align: top;\n",
       "    }\n",
       "\n",
       "    .dataframe thead th {\n",
       "        text-align: right;\n",
       "    }\n",
       "</style>\n",
       "<table border=\"1\" class=\"dataframe\">\n",
       "  <thead>\n",
       "    <tr style=\"text-align: right;\">\n",
       "      <th></th>\n",
       "      <th>번호</th>\n",
       "      <th>지역</th>\n",
       "      <th>상호</th>\n",
       "      <th>주소</th>\n",
       "      <th>기간</th>\n",
       "      <th>상표</th>\n",
       "      <th>셀프여부</th>\n",
       "      <th>고급휘발유</th>\n",
       "      <th>휘발유</th>\n",
       "      <th>경유</th>\n",
       "      <th>실내등유</th>\n",
       "      <th>월</th>\n",
       "      <th>일</th>\n",
       "      <th>요일</th>\n",
       "    </tr>\n",
       "  </thead>\n",
       "  <tbody>\n",
       "    <tr>\n",
       "      <th>181709</th>\n",
       "      <td>A0032659</td>\n",
       "      <td>중랑구</td>\n",
       "      <td>지에스칼텍스㈜ 소망주유소</td>\n",
       "      <td>서울 중랑구 망우로 475</td>\n",
       "      <td>2019-12-27</td>\n",
       "      <td>GS칼텍스</td>\n",
       "      <td>셀프</td>\n",
       "      <td>0</td>\n",
       "      <td>1540</td>\n",
       "      <td>1389</td>\n",
       "      <td>1100</td>\n",
       "      <td>12</td>\n",
       "      <td>27</td>\n",
       "      <td>4</td>\n",
       "    </tr>\n",
       "    <tr>\n",
       "      <th>181710</th>\n",
       "      <td>A0032659</td>\n",
       "      <td>중랑구</td>\n",
       "      <td>지에스칼텍스㈜ 소망주유소</td>\n",
       "      <td>서울 중랑구 망우로 475</td>\n",
       "      <td>2019-12-28</td>\n",
       "      <td>GS칼텍스</td>\n",
       "      <td>셀프</td>\n",
       "      <td>0</td>\n",
       "      <td>1540</td>\n",
       "      <td>1389</td>\n",
       "      <td>1100</td>\n",
       "      <td>12</td>\n",
       "      <td>28</td>\n",
       "      <td>5</td>\n",
       "    </tr>\n",
       "    <tr>\n",
       "      <th>181711</th>\n",
       "      <td>A0032659</td>\n",
       "      <td>중랑구</td>\n",
       "      <td>지에스칼텍스㈜ 소망주유소</td>\n",
       "      <td>서울 중랑구 망우로 475</td>\n",
       "      <td>2019-12-29</td>\n",
       "      <td>GS칼텍스</td>\n",
       "      <td>셀프</td>\n",
       "      <td>0</td>\n",
       "      <td>1540</td>\n",
       "      <td>1389</td>\n",
       "      <td>1100</td>\n",
       "      <td>12</td>\n",
       "      <td>29</td>\n",
       "      <td>6</td>\n",
       "    </tr>\n",
       "    <tr>\n",
       "      <th>181712</th>\n",
       "      <td>A0032659</td>\n",
       "      <td>중랑구</td>\n",
       "      <td>지에스칼텍스㈜ 소망주유소</td>\n",
       "      <td>서울 중랑구 망우로 475</td>\n",
       "      <td>2019-12-30</td>\n",
       "      <td>GS칼텍스</td>\n",
       "      <td>셀프</td>\n",
       "      <td>0</td>\n",
       "      <td>1540</td>\n",
       "      <td>1389</td>\n",
       "      <td>1100</td>\n",
       "      <td>12</td>\n",
       "      <td>30</td>\n",
       "      <td>0</td>\n",
       "    </tr>\n",
       "    <tr>\n",
       "      <th>181713</th>\n",
       "      <td>A0032659</td>\n",
       "      <td>중랑구</td>\n",
       "      <td>지에스칼텍스㈜ 소망주유소</td>\n",
       "      <td>서울 중랑구 망우로 475</td>\n",
       "      <td>2019-12-31</td>\n",
       "      <td>GS칼텍스</td>\n",
       "      <td>셀프</td>\n",
       "      <td>0</td>\n",
       "      <td>1540</td>\n",
       "      <td>1389</td>\n",
       "      <td>1100</td>\n",
       "      <td>12</td>\n",
       "      <td>31</td>\n",
       "      <td>1</td>\n",
       "    </tr>\n",
       "  </tbody>\n",
       "</table>\n",
       "</div>"
      ],
      "text/plain": [
       "              번호   지역             상호              주소         기간     상표 셀프여부  \\\n",
       "181709  A0032659  중랑구  지에스칼텍스㈜ 소망주유소  서울 중랑구 망우로 475 2019-12-27  GS칼텍스   셀프   \n",
       "181710  A0032659  중랑구  지에스칼텍스㈜ 소망주유소  서울 중랑구 망우로 475 2019-12-28  GS칼텍스   셀프   \n",
       "181711  A0032659  중랑구  지에스칼텍스㈜ 소망주유소  서울 중랑구 망우로 475 2019-12-29  GS칼텍스   셀프   \n",
       "181712  A0032659  중랑구  지에스칼텍스㈜ 소망주유소  서울 중랑구 망우로 475 2019-12-30  GS칼텍스   셀프   \n",
       "181713  A0032659  중랑구  지에스칼텍스㈜ 소망주유소  서울 중랑구 망우로 475 2019-12-31  GS칼텍스   셀프   \n",
       "\n",
       "        고급휘발유   휘발유    경유  실내등유   월   일  요일  \n",
       "181709      0  1540  1389  1100  12  27   4  \n",
       "181710      0  1540  1389  1100  12  28   5  \n",
       "181711      0  1540  1389  1100  12  29   6  \n",
       "181712      0  1540  1389  1100  12  30   0  \n",
       "181713      0  1540  1389  1100  12  31   1  "
      ]
     },
     "execution_count": 66,
     "metadata": {},
     "output_type": "execute_result"
    }
   ],
   "source": [
    "gas.tail()"
   ]
  },
  {
   "cell_type": "code",
   "execution_count": 23,
   "metadata": {
    "ExecuteTime": {
     "end_time": "2020-08-16T12:21:48.358526Z",
     "start_time": "2020-08-16T12:21:48.350548Z"
    },
    "scrolled": false
   },
   "outputs": [
    {
     "name": "stdout",
     "output_type": "stream",
     "text": [
      "<class 'pandas.core.frame.DataFrame'>\n",
      "RangeIndex: 181714 entries, 0 to 181713\n",
      "Data columns (total 11 columns):\n",
      " #   Column  Non-Null Count   Dtype \n",
      "---  ------  --------------   ----- \n",
      " 0   번호      181714 non-null  object\n",
      " 1   지역      181714 non-null  object\n",
      " 2   상호      181714 non-null  object\n",
      " 3   주소      181714 non-null  object\n",
      " 4   기간      181714 non-null  int64 \n",
      " 5   상표      181714 non-null  object\n",
      " 6   셀프여부    181714 non-null  object\n",
      " 7   고급휘발유   181714 non-null  int64 \n",
      " 8   휘발유     181714 non-null  int64 \n",
      " 9   경유      181714 non-null  int64 \n",
      " 10  실내등유    181714 non-null  int64 \n",
      "dtypes: int64(5), object(6)\n",
      "memory usage: 15.3+ MB\n"
     ]
    }
   ],
   "source": [
    "# DataFrame 기본 정보 조회\n",
    "gas.info()"
   ]
  },
  {
   "cell_type": "code",
   "execution_count": 24,
   "metadata": {
    "scrolled": false
   },
   "outputs": [
    {
     "data": {
      "text/html": [
       "<div>\n",
       "<style scoped>\n",
       "    .dataframe tbody tr th:only-of-type {\n",
       "        vertical-align: middle;\n",
       "    }\n",
       "\n",
       "    .dataframe tbody tr th {\n",
       "        vertical-align: top;\n",
       "    }\n",
       "\n",
       "    .dataframe thead th {\n",
       "        text-align: right;\n",
       "    }\n",
       "</style>\n",
       "<table border=\"1\" class=\"dataframe\">\n",
       "  <thead>\n",
       "    <tr style=\"text-align: right;\">\n",
       "      <th></th>\n",
       "      <th>기간</th>\n",
       "      <th>고급휘발유</th>\n",
       "      <th>휘발유</th>\n",
       "      <th>경유</th>\n",
       "      <th>실내등유</th>\n",
       "    </tr>\n",
       "  </thead>\n",
       "  <tbody>\n",
       "    <tr>\n",
       "      <th>count</th>\n",
       "      <td>1.817140e+05</td>\n",
       "      <td>181714.000000</td>\n",
       "      <td>181714.000000</td>\n",
       "      <td>181714.000000</td>\n",
       "      <td>181714.000000</td>\n",
       "    </tr>\n",
       "    <tr>\n",
       "      <th>mean</th>\n",
       "      <td>2.019067e+07</td>\n",
       "      <td>763.284139</td>\n",
       "      <td>1567.148161</td>\n",
       "      <td>1435.564816</td>\n",
       "      <td>454.800412</td>\n",
       "    </tr>\n",
       "    <tr>\n",
       "      <th>std</th>\n",
       "      <td>3.453131e+02</td>\n",
       "      <td>937.368150</td>\n",
       "      <td>182.942737</td>\n",
       "      <td>171.892815</td>\n",
       "      <td>572.002790</td>\n",
       "    </tr>\n",
       "    <tr>\n",
       "      <th>min</th>\n",
       "      <td>2.019010e+07</td>\n",
       "      <td>0.000000</td>\n",
       "      <td>0.000000</td>\n",
       "      <td>0.000000</td>\n",
       "      <td>0.000000</td>\n",
       "    </tr>\n",
       "    <tr>\n",
       "      <th>25%</th>\n",
       "      <td>2.019040e+07</td>\n",
       "      <td>0.000000</td>\n",
       "      <td>1459.000000</td>\n",
       "      <td>1333.000000</td>\n",
       "      <td>0.000000</td>\n",
       "    </tr>\n",
       "    <tr>\n",
       "      <th>50%</th>\n",
       "      <td>2.019070e+07</td>\n",
       "      <td>0.000000</td>\n",
       "      <td>1529.000000</td>\n",
       "      <td>1389.000000</td>\n",
       "      <td>0.000000</td>\n",
       "    </tr>\n",
       "    <tr>\n",
       "      <th>75%</th>\n",
       "      <td>2.019093e+07</td>\n",
       "      <td>1768.000000</td>\n",
       "      <td>1599.000000</td>\n",
       "      <td>1478.000000</td>\n",
       "      <td>1100.000000</td>\n",
       "    </tr>\n",
       "    <tr>\n",
       "      <th>max</th>\n",
       "      <td>2.019123e+07</td>\n",
       "      <td>2699.000000</td>\n",
       "      <td>2356.000000</td>\n",
       "      <td>2196.000000</td>\n",
       "      <td>1640.000000</td>\n",
       "    </tr>\n",
       "  </tbody>\n",
       "</table>\n",
       "</div>"
      ],
      "text/plain": [
       "                 기간          고급휘발유            휘발유             경유  \\\n",
       "count  1.817140e+05  181714.000000  181714.000000  181714.000000   \n",
       "mean   2.019067e+07     763.284139    1567.148161    1435.564816   \n",
       "std    3.453131e+02     937.368150     182.942737     171.892815   \n",
       "min    2.019010e+07       0.000000       0.000000       0.000000   \n",
       "25%    2.019040e+07       0.000000    1459.000000    1333.000000   \n",
       "50%    2.019070e+07       0.000000    1529.000000    1389.000000   \n",
       "75%    2.019093e+07    1768.000000    1599.000000    1478.000000   \n",
       "max    2.019123e+07    2699.000000    2356.000000    2196.000000   \n",
       "\n",
       "                실내등유  \n",
       "count  181714.000000  \n",
       "mean      454.800412  \n",
       "std       572.002790  \n",
       "min         0.000000  \n",
       "25%         0.000000  \n",
       "50%         0.000000  \n",
       "75%      1100.000000  \n",
       "max      1640.000000  "
      ]
     },
     "execution_count": 24,
     "metadata": {},
     "output_type": "execute_result"
    }
   ],
   "source": [
    "gas.describe()"
   ]
  },
  {
   "cell_type": "code",
   "execution_count": 60,
   "metadata": {},
   "outputs": [
    {
     "data": {
      "text/plain": [
       "Index(['번호', '지역', '상호', '주소', '기간', '상표', '셀프여부', '고급휘발유', '휘발유', '경유',\n",
       "       '실내등유', '월'],\n",
       "      dtype='object')"
      ]
     },
     "execution_count": 60,
     "metadata": {},
     "output_type": "execute_result"
    }
   ],
   "source": [
    "gas.columns"
   ]
  },
  {
   "cell_type": "code",
   "execution_count": 30,
   "metadata": {
    "ExecuteTime": {
     "end_time": "2020-08-16T12:00:17.845850Z",
     "start_time": "2020-08-16T12:00:17.818922Z"
    }
   },
   "outputs": [
    {
     "data": {
      "text/plain": [
       "array(['SK에너지', 'GS칼텍스', 'S-OIL', '현대오일뱅크', '알뜰주유소', 'NH-OIL', '알뜰(ex)',\n",
       "       '자가상표'], dtype=object)"
      ]
     },
     "execution_count": 30,
     "metadata": {},
     "output_type": "execute_result"
    }
   ],
   "source": [
    "# 상표 컬럼의 고유값 조회\n",
    "gas['상표'].unique()"
   ]
  },
  {
   "cell_type": "code",
   "execution_count": 31,
   "metadata": {
    "ExecuteTime": {
     "end_time": "2020-08-16T12:00:17.876769Z",
     "start_time": "2020-08-16T12:00:17.848841Z"
    },
    "scrolled": true
   },
   "outputs": [
    {
     "data": {
      "text/plain": [
       "array(['서울 강남구', '서울 강동구', '서울 강북구', '서울 강서구', '서울 관악구', '서울 광진구',\n",
       "       '서울 구로구', '서울 금천구', '서울 노원구', '서울 도봉구', '서울 동대문구', '서울 동작구',\n",
       "       '서울 마포구', '서울 서대문구', '서울 서초구', '서울 성동구', '서울 성북구', '서울 송파구',\n",
       "       '서울 양천구', '서울 영등포구', '서울 용산구', '서울 은평구', '서울 종로구', '서울 중구',\n",
       "       '서울 중랑구'], dtype=object)"
      ]
     },
     "execution_count": 31,
     "metadata": {},
     "output_type": "execute_result"
    }
   ],
   "source": [
    "# 지역 컬럼의 고유값 조회\n",
    "gas['지역'].unique()"
   ]
  },
  {
   "cell_type": "code",
   "execution_count": 37,
   "metadata": {},
   "outputs": [
    {
     "data": {
      "text/plain": [
       "pandas.core.series.Series"
      ]
     },
     "execution_count": 37,
     "metadata": {},
     "output_type": "execute_result"
    }
   ],
   "source": [
    "type(gas['지역'])"
   ]
  },
  {
   "cell_type": "markdown",
   "metadata": {},
   "source": [
    "> ### str accessor\n",
    "> - `Series.str.String메소드()`\n",
    "> - 문자열 타입 Series에 String 메소드들을 사용하여 일괄처리 할 수 있도록 한다.\n",
    "> - str accessor 메소드 : https://pandas.pydata.org/pandas-docs/stable/reference/series.html#api-series-str\n",
    "\n",
    "> ### datetime으로 변환\n",
    "> - `pd.to_datetime(변환할 Series)`\n",
    "> - x 또는 y 축이 날짜 일 경우 datetime 타입으로 처리하는 것이 좋다.\n",
    "> - datetime을 변환하면 날짜만의 기능을 다룰 수 있다.\n",
    ">     - dt accessor를 이용해 datetime의 속성값들을(년, 월, 일 등) 추출할 수 있다.\n",
    ">     - https://pandas.pydata.org/pandas-docs/stable/reference/api/pandas.Series.dt.html"
   ]
  },
  {
   "cell_type": "code",
   "execution_count": 58,
   "metadata": {
    "ExecuteTime": {
     "end_time": "2020-08-16T12:00:18.289663Z",
     "start_time": "2020-08-16T12:00:17.881760Z"
    }
   },
   "outputs": [],
   "source": [
    "# 지역 컬럼의 값을 이용하여 \"구\" 컬럼 생성 (지역에서 구만 추출)\n",
    "gas['지역'] = gas['지역'].str.slice(start=3)"
   ]
  },
  {
   "cell_type": "code",
   "execution_count": 55,
   "metadata": {
    "ExecuteTime": {
     "end_time": "2020-08-16T12:00:18.334543Z",
     "start_time": "2020-08-16T12:00:18.292656Z"
    }
   },
   "outputs": [],
   "source": [
    "# 기간 컬럼을 datetime 타입으로 변경\n",
    "gas['기간'] = pd.to_datetime(gas['기간'], format='%Y%m%d')"
   ]
  },
  {
   "cell_type": "code",
   "execution_count": 68,
   "metadata": {
    "ExecuteTime": {
     "end_time": "2020-08-16T12:00:18.445247Z",
     "start_time": "2020-08-16T12:00:18.338532Z"
    }
   },
   "outputs": [],
   "source": [
    "# 기간 컬럼을 이용해 \"월\", \"일\", \"요일\" 컬럼 생성\n",
    "gas['월'] = gas['기간'].dt.month\n",
    "gas['일'] = gas['기간'].dt.day\n",
    "gas['요일'] = gas['기간'].dt.dayofweek"
   ]
  },
  {
   "cell_type": "code",
   "execution_count": 69,
   "metadata": {},
   "outputs": [
    {
     "data": {
      "text/html": [
       "<div>\n",
       "<style scoped>\n",
       "    .dataframe tbody tr th:only-of-type {\n",
       "        vertical-align: middle;\n",
       "    }\n",
       "\n",
       "    .dataframe tbody tr th {\n",
       "        vertical-align: top;\n",
       "    }\n",
       "\n",
       "    .dataframe thead th {\n",
       "        text-align: right;\n",
       "    }\n",
       "</style>\n",
       "<table border=\"1\" class=\"dataframe\">\n",
       "  <thead>\n",
       "    <tr style=\"text-align: right;\">\n",
       "      <th></th>\n",
       "      <th>번호</th>\n",
       "      <th>지역</th>\n",
       "      <th>상호</th>\n",
       "      <th>주소</th>\n",
       "      <th>기간</th>\n",
       "      <th>상표</th>\n",
       "      <th>셀프여부</th>\n",
       "      <th>고급휘발유</th>\n",
       "      <th>휘발유</th>\n",
       "      <th>경유</th>\n",
       "      <th>실내등유</th>\n",
       "      <th>월</th>\n",
       "      <th>일</th>\n",
       "      <th>요일</th>\n",
       "    </tr>\n",
       "  </thead>\n",
       "  <tbody>\n",
       "    <tr>\n",
       "      <th>0</th>\n",
       "      <td>A0006039</td>\n",
       "      <td>강남구</td>\n",
       "      <td>(주)동하힐탑셀프주유소</td>\n",
       "      <td>서울 강남구 논현로 640</td>\n",
       "      <td>2019-01-01</td>\n",
       "      <td>SK에너지</td>\n",
       "      <td>셀프</td>\n",
       "      <td>1673</td>\n",
       "      <td>1465</td>\n",
       "      <td>1365</td>\n",
       "      <td>0</td>\n",
       "      <td>1</td>\n",
       "      <td>1</td>\n",
       "      <td>1</td>\n",
       "    </tr>\n",
       "    <tr>\n",
       "      <th>1</th>\n",
       "      <td>A0006039</td>\n",
       "      <td>강남구</td>\n",
       "      <td>(주)동하힐탑셀프주유소</td>\n",
       "      <td>서울 강남구 논현로 640</td>\n",
       "      <td>2019-01-02</td>\n",
       "      <td>SK에너지</td>\n",
       "      <td>셀프</td>\n",
       "      <td>1673</td>\n",
       "      <td>1465</td>\n",
       "      <td>1365</td>\n",
       "      <td>0</td>\n",
       "      <td>1</td>\n",
       "      <td>2</td>\n",
       "      <td>2</td>\n",
       "    </tr>\n",
       "    <tr>\n",
       "      <th>2</th>\n",
       "      <td>A0006039</td>\n",
       "      <td>강남구</td>\n",
       "      <td>(주)동하힐탑셀프주유소</td>\n",
       "      <td>서울 강남구 논현로 640</td>\n",
       "      <td>2019-01-03</td>\n",
       "      <td>SK에너지</td>\n",
       "      <td>셀프</td>\n",
       "      <td>1673</td>\n",
       "      <td>1465</td>\n",
       "      <td>1365</td>\n",
       "      <td>0</td>\n",
       "      <td>1</td>\n",
       "      <td>3</td>\n",
       "      <td>3</td>\n",
       "    </tr>\n",
       "    <tr>\n",
       "      <th>3</th>\n",
       "      <td>A0006039</td>\n",
       "      <td>강남구</td>\n",
       "      <td>(주)동하힐탑셀프주유소</td>\n",
       "      <td>서울 강남구 논현로 640</td>\n",
       "      <td>2019-01-04</td>\n",
       "      <td>SK에너지</td>\n",
       "      <td>셀프</td>\n",
       "      <td>1673</td>\n",
       "      <td>1465</td>\n",
       "      <td>1365</td>\n",
       "      <td>0</td>\n",
       "      <td>1</td>\n",
       "      <td>4</td>\n",
       "      <td>4</td>\n",
       "    </tr>\n",
       "    <tr>\n",
       "      <th>4</th>\n",
       "      <td>A0006039</td>\n",
       "      <td>강남구</td>\n",
       "      <td>(주)동하힐탑셀프주유소</td>\n",
       "      <td>서울 강남구 논현로 640</td>\n",
       "      <td>2019-01-05</td>\n",
       "      <td>SK에너지</td>\n",
       "      <td>셀프</td>\n",
       "      <td>1673</td>\n",
       "      <td>1465</td>\n",
       "      <td>1365</td>\n",
       "      <td>0</td>\n",
       "      <td>1</td>\n",
       "      <td>5</td>\n",
       "      <td>5</td>\n",
       "    </tr>\n",
       "  </tbody>\n",
       "</table>\n",
       "</div>"
      ],
      "text/plain": [
       "         번호   지역            상호              주소         기간     상표 셀프여부  고급휘발유  \\\n",
       "0  A0006039  강남구  (주)동하힐탑셀프주유소  서울 강남구 논현로 640 2019-01-01  SK에너지   셀프   1673   \n",
       "1  A0006039  강남구  (주)동하힐탑셀프주유소  서울 강남구 논현로 640 2019-01-02  SK에너지   셀프   1673   \n",
       "2  A0006039  강남구  (주)동하힐탑셀프주유소  서울 강남구 논현로 640 2019-01-03  SK에너지   셀프   1673   \n",
       "3  A0006039  강남구  (주)동하힐탑셀프주유소  서울 강남구 논현로 640 2019-01-04  SK에너지   셀프   1673   \n",
       "4  A0006039  강남구  (주)동하힐탑셀프주유소  서울 강남구 논현로 640 2019-01-05  SK에너지   셀프   1673   \n",
       "\n",
       "    휘발유    경유  실내등유  월  일  요일  \n",
       "0  1465  1365     0  1  1   1  \n",
       "1  1465  1365     0  1  2   2  \n",
       "2  1465  1365     0  1  3   3  \n",
       "3  1465  1365     0  1  4   4  \n",
       "4  1465  1365     0  1  5   5  "
      ]
     },
     "execution_count": 69,
     "metadata": {},
     "output_type": "execute_result"
    }
   ],
   "source": [
    "gas.head()"
   ]
  },
  {
   "cell_type": "code",
   "execution_count": 118,
   "metadata": {},
   "outputs": [
    {
     "data": {
      "text/plain": [
       "2356"
      ]
     },
     "execution_count": 118,
     "metadata": {},
     "output_type": "execute_result"
    }
   ],
   "source": [
    "gas['휘발유'].max()"
   ]
  },
  {
   "cell_type": "code",
   "execution_count": 117,
   "metadata": {
    "ExecuteTime": {
     "end_time": "2020-08-16T12:00:18.691588Z",
     "start_time": "2020-08-16T12:00:18.585871Z"
    }
   },
   "outputs": [
    {
     "data": {
      "text/html": [
       "<div>\n",
       "<style scoped>\n",
       "    .dataframe tbody tr th:only-of-type {\n",
       "        vertical-align: middle;\n",
       "    }\n",
       "\n",
       "    .dataframe tbody tr th {\n",
       "        vertical-align: top;\n",
       "    }\n",
       "\n",
       "    .dataframe thead th {\n",
       "        text-align: right;\n",
       "    }\n",
       "</style>\n",
       "<table border=\"1\" class=\"dataframe\">\n",
       "  <thead>\n",
       "    <tr style=\"text-align: right;\">\n",
       "      <th></th>\n",
       "      <th>번호</th>\n",
       "      <th>지역</th>\n",
       "      <th>상호</th>\n",
       "      <th>주소</th>\n",
       "      <th>기간</th>\n",
       "      <th>상표</th>\n",
       "      <th>셀프여부</th>\n",
       "      <th>고급휘발유</th>\n",
       "      <th>휘발유</th>\n",
       "      <th>경유</th>\n",
       "      <th>실내등유</th>\n",
       "      <th>월</th>\n",
       "      <th>일</th>\n",
       "      <th>요일</th>\n",
       "    </tr>\n",
       "  </thead>\n",
       "  <tbody>\n",
       "    <tr>\n",
       "      <th>177210</th>\n",
       "      <td>A0000767</td>\n",
       "      <td>중구</td>\n",
       "      <td>서남주유소</td>\n",
       "      <td>서울 중구 통일로 30</td>\n",
       "      <td>2019-09-24</td>\n",
       "      <td>SK에너지</td>\n",
       "      <td>일반</td>\n",
       "      <td>2649</td>\n",
       "      <td>2356</td>\n",
       "      <td>2196</td>\n",
       "      <td>0</td>\n",
       "      <td>9</td>\n",
       "      <td>24</td>\n",
       "      <td>1</td>\n",
       "    </tr>\n",
       "    <tr>\n",
       "      <th>177216</th>\n",
       "      <td>A0000767</td>\n",
       "      <td>중구</td>\n",
       "      <td>서남주유소</td>\n",
       "      <td>서울 중구 통일로 30</td>\n",
       "      <td>2019-09-30</td>\n",
       "      <td>SK에너지</td>\n",
       "      <td>일반</td>\n",
       "      <td>2699</td>\n",
       "      <td>2356</td>\n",
       "      <td>2196</td>\n",
       "      <td>0</td>\n",
       "      <td>9</td>\n",
       "      <td>30</td>\n",
       "      <td>0</td>\n",
       "    </tr>\n",
       "    <tr>\n",
       "      <th>177217</th>\n",
       "      <td>A0000767</td>\n",
       "      <td>중구</td>\n",
       "      <td>서남주유소</td>\n",
       "      <td>서울 중구 통일로 30</td>\n",
       "      <td>2019-10-01</td>\n",
       "      <td>SK에너지</td>\n",
       "      <td>일반</td>\n",
       "      <td>2699</td>\n",
       "      <td>2356</td>\n",
       "      <td>2196</td>\n",
       "      <td>0</td>\n",
       "      <td>10</td>\n",
       "      <td>1</td>\n",
       "      <td>1</td>\n",
       "    </tr>\n",
       "    <tr>\n",
       "      <th>177211</th>\n",
       "      <td>A0000767</td>\n",
       "      <td>중구</td>\n",
       "      <td>서남주유소</td>\n",
       "      <td>서울 중구 통일로 30</td>\n",
       "      <td>2019-09-25</td>\n",
       "      <td>SK에너지</td>\n",
       "      <td>일반</td>\n",
       "      <td>2649</td>\n",
       "      <td>2356</td>\n",
       "      <td>2196</td>\n",
       "      <td>0</td>\n",
       "      <td>9</td>\n",
       "      <td>25</td>\n",
       "      <td>2</td>\n",
       "    </tr>\n",
       "    <tr>\n",
       "      <th>177212</th>\n",
       "      <td>A0000767</td>\n",
       "      <td>중구</td>\n",
       "      <td>서남주유소</td>\n",
       "      <td>서울 중구 통일로 30</td>\n",
       "      <td>2019-09-26</td>\n",
       "      <td>SK에너지</td>\n",
       "      <td>일반</td>\n",
       "      <td>2699</td>\n",
       "      <td>2356</td>\n",
       "      <td>2196</td>\n",
       "      <td>0</td>\n",
       "      <td>9</td>\n",
       "      <td>26</td>\n",
       "      <td>3</td>\n",
       "    </tr>\n",
       "  </tbody>\n",
       "</table>\n",
       "</div>"
      ],
      "text/plain": [
       "              번호  지역     상호            주소         기간     상표 셀프여부  고급휘발유   휘발유  \\\n",
       "177210  A0000767  중구  서남주유소  서울 중구 통일로 30 2019-09-24  SK에너지   일반   2649  2356   \n",
       "177216  A0000767  중구  서남주유소  서울 중구 통일로 30 2019-09-30  SK에너지   일반   2699  2356   \n",
       "177217  A0000767  중구  서남주유소  서울 중구 통일로 30 2019-10-01  SK에너지   일반   2699  2356   \n",
       "177211  A0000767  중구  서남주유소  서울 중구 통일로 30 2019-09-25  SK에너지   일반   2649  2356   \n",
       "177212  A0000767  중구  서남주유소  서울 중구 통일로 30 2019-09-26  SK에너지   일반   2699  2356   \n",
       "\n",
       "          경유  실내등유   월   일  요일  \n",
       "177210  2196     0   9  24   1  \n",
       "177216  2196     0   9  30   0  \n",
       "177217  2196     0  10   1   1  \n",
       "177211  2196     0   9  25   2  \n",
       "177212  2196     0   9  26   3  "
      ]
     },
     "execution_count": 117,
     "metadata": {},
     "output_type": "execute_result"
    }
   ],
   "source": [
    "# 휘발유 가격이 가장 비싼 5개 행 조회\n",
    "gas.sort_values('휘발유', ascending=False).head()\n",
    "\n"
   ]
  },
  {
   "cell_type": "code",
   "execution_count": 116,
   "metadata": {
    "ExecuteTime": {
     "end_time": "2020-08-16T12:00:18.816253Z",
     "start_time": "2020-08-16T12:00:18.694578Z"
    }
   },
   "outputs": [
    {
     "data": {
      "text/html": [
       "<div>\n",
       "<style scoped>\n",
       "    .dataframe tbody tr th:only-of-type {\n",
       "        vertical-align: middle;\n",
       "    }\n",
       "\n",
       "    .dataframe tbody tr th {\n",
       "        vertical-align: top;\n",
       "    }\n",
       "\n",
       "    .dataframe thead th {\n",
       "        text-align: right;\n",
       "    }\n",
       "</style>\n",
       "<table border=\"1\" class=\"dataframe\">\n",
       "  <thead>\n",
       "    <tr style=\"text-align: right;\">\n",
       "      <th></th>\n",
       "      <th>번호</th>\n",
       "      <th>지역</th>\n",
       "      <th>상호</th>\n",
       "      <th>주소</th>\n",
       "      <th>기간</th>\n",
       "      <th>상표</th>\n",
       "      <th>셀프여부</th>\n",
       "      <th>고급휘발유</th>\n",
       "      <th>휘발유</th>\n",
       "      <th>경유</th>\n",
       "      <th>실내등유</th>\n",
       "      <th>월</th>\n",
       "      <th>일</th>\n",
       "      <th>요일</th>\n",
       "    </tr>\n",
       "  </thead>\n",
       "  <tbody>\n",
       "    <tr>\n",
       "      <th>13148</th>\n",
       "      <td>A0033328</td>\n",
       "      <td>강서구</td>\n",
       "      <td>KH에너지(주)직영 KH외발산주유소</td>\n",
       "      <td>서울 강서구 방화대로 30</td>\n",
       "      <td>2019-02-07</td>\n",
       "      <td>SK에너지</td>\n",
       "      <td>셀프</td>\n",
       "      <td>1788</td>\n",
       "      <td>1255</td>\n",
       "      <td>1155</td>\n",
       "      <td>0</td>\n",
       "      <td>2</td>\n",
       "      <td>7</td>\n",
       "      <td>3</td>\n",
       "    </tr>\n",
       "    <tr>\n",
       "      <th>82475</th>\n",
       "      <td>A0000605</td>\n",
       "      <td>은평구</td>\n",
       "      <td>삼융주유소</td>\n",
       "      <td>서울 은평구 수색로 299 (수색동)</td>\n",
       "      <td>2019-01-31</td>\n",
       "      <td>SK에너지</td>\n",
       "      <td>일반</td>\n",
       "      <td>0</td>\n",
       "      <td>1260</td>\n",
       "      <td>1160</td>\n",
       "      <td>0</td>\n",
       "      <td>1</td>\n",
       "      <td>31</td>\n",
       "      <td>3</td>\n",
       "    </tr>\n",
       "    <tr>\n",
       "      <th>82474</th>\n",
       "      <td>A0000605</td>\n",
       "      <td>은평구</td>\n",
       "      <td>삼융주유소</td>\n",
       "      <td>서울 은평구 수색로 299 (수색동)</td>\n",
       "      <td>2019-01-30</td>\n",
       "      <td>SK에너지</td>\n",
       "      <td>일반</td>\n",
       "      <td>0</td>\n",
       "      <td>1260</td>\n",
       "      <td>1160</td>\n",
       "      <td>0</td>\n",
       "      <td>1</td>\n",
       "      <td>30</td>\n",
       "      <td>2</td>\n",
       "    </tr>\n",
       "    <tr>\n",
       "      <th>82476</th>\n",
       "      <td>A0000605</td>\n",
       "      <td>은평구</td>\n",
       "      <td>삼융주유소</td>\n",
       "      <td>서울 은평구 수색로 299 (수색동)</td>\n",
       "      <td>2019-02-01</td>\n",
       "      <td>SK에너지</td>\n",
       "      <td>일반</td>\n",
       "      <td>0</td>\n",
       "      <td>1260</td>\n",
       "      <td>1160</td>\n",
       "      <td>0</td>\n",
       "      <td>2</td>\n",
       "      <td>1</td>\n",
       "      <td>4</td>\n",
       "    </tr>\n",
       "    <tr>\n",
       "      <th>82998</th>\n",
       "      <td>A0000690</td>\n",
       "      <td>은평구</td>\n",
       "      <td>지에스칼텍스(주)수색뉴타운주유소</td>\n",
       "      <td>서울 은평구 수색로 350 (수색동)</td>\n",
       "      <td>2019-01-26</td>\n",
       "      <td>GS칼텍스</td>\n",
       "      <td>셀프</td>\n",
       "      <td>0</td>\n",
       "      <td>1265</td>\n",
       "      <td>1165</td>\n",
       "      <td>0</td>\n",
       "      <td>1</td>\n",
       "      <td>26</td>\n",
       "      <td>5</td>\n",
       "    </tr>\n",
       "  </tbody>\n",
       "</table>\n",
       "</div>"
      ],
      "text/plain": [
       "             번호   지역                   상호                    주소         기간  \\\n",
       "13148  A0033328  강서구  KH에너지(주)직영 KH외발산주유소        서울 강서구 방화대로 30 2019-02-07   \n",
       "82475  A0000605  은평구                삼융주유소  서울 은평구 수색로 299 (수색동) 2019-01-31   \n",
       "82474  A0000605  은평구                삼융주유소  서울 은평구 수색로 299 (수색동) 2019-01-30   \n",
       "82476  A0000605  은평구                삼융주유소  서울 은평구 수색로 299 (수색동) 2019-02-01   \n",
       "82998  A0000690  은평구    지에스칼텍스(주)수색뉴타운주유소  서울 은평구 수색로 350 (수색동) 2019-01-26   \n",
       "\n",
       "          상표 셀프여부  고급휘발유   휘발유    경유  실내등유  월   일  요일  \n",
       "13148  SK에너지   셀프   1788  1255  1155     0  2   7   3  \n",
       "82475  SK에너지   일반      0  1260  1160     0  1  31   3  \n",
       "82474  SK에너지   일반      0  1260  1160     0  1  30   2  \n",
       "82476  SK에너지   일반      0  1260  1160     0  2   1   4  \n",
       "82998  GS칼텍스   셀프      0  1265  1165     0  1  26   5  "
      ]
     },
     "execution_count": 116,
     "metadata": {},
     "output_type": "execute_result"
    }
   ],
   "source": [
    "# 휘발유 가격이 가장 저렴한 5개 행 조회 (단 0원인 주유소 제외)\n",
    "\n",
    "gas[(gas['휘발유']>0)].sort_values('휘발유').head()"
   ]
  },
  {
   "cell_type": "code",
   "execution_count": 119,
   "metadata": {},
   "outputs": [
    {
     "data": {
      "text/plain": [
       "2699"
      ]
     },
     "execution_count": 119,
     "metadata": {},
     "output_type": "execute_result"
    }
   ],
   "source": [
    "gas['고급휘발유'].max()"
   ]
  },
  {
   "cell_type": "code",
   "execution_count": 120,
   "metadata": {
    "ExecuteTime": {
     "end_time": "2020-08-16T12:00:18.893049Z",
     "start_time": "2020-08-16T12:00:18.820243Z"
    }
   },
   "outputs": [
    {
     "data": {
      "text/html": [
       "<div>\n",
       "<style scoped>\n",
       "    .dataframe tbody tr th:only-of-type {\n",
       "        vertical-align: middle;\n",
       "    }\n",
       "\n",
       "    .dataframe tbody tr th {\n",
       "        vertical-align: top;\n",
       "    }\n",
       "\n",
       "    .dataframe thead th {\n",
       "        text-align: right;\n",
       "    }\n",
       "</style>\n",
       "<table border=\"1\" class=\"dataframe\">\n",
       "  <thead>\n",
       "    <tr style=\"text-align: right;\">\n",
       "      <th></th>\n",
       "      <th>번호</th>\n",
       "      <th>지역</th>\n",
       "      <th>상호</th>\n",
       "      <th>주소</th>\n",
       "      <th>기간</th>\n",
       "      <th>상표</th>\n",
       "      <th>셀프여부</th>\n",
       "      <th>고급휘발유</th>\n",
       "      <th>휘발유</th>\n",
       "      <th>경유</th>\n",
       "      <th>실내등유</th>\n",
       "      <th>월</th>\n",
       "      <th>일</th>\n",
       "      <th>요일</th>\n",
       "    </tr>\n",
       "  </thead>\n",
       "  <tbody>\n",
       "    <tr>\n",
       "      <th>177217</th>\n",
       "      <td>A0000767</td>\n",
       "      <td>중구</td>\n",
       "      <td>서남주유소</td>\n",
       "      <td>서울 중구 통일로 30</td>\n",
       "      <td>2019-10-01</td>\n",
       "      <td>SK에너지</td>\n",
       "      <td>일반</td>\n",
       "      <td>2699</td>\n",
       "      <td>2356</td>\n",
       "      <td>2196</td>\n",
       "      <td>0</td>\n",
       "      <td>10</td>\n",
       "      <td>1</td>\n",
       "      <td>1</td>\n",
       "    </tr>\n",
       "    <tr>\n",
       "      <th>177212</th>\n",
       "      <td>A0000767</td>\n",
       "      <td>중구</td>\n",
       "      <td>서남주유소</td>\n",
       "      <td>서울 중구 통일로 30</td>\n",
       "      <td>2019-09-26</td>\n",
       "      <td>SK에너지</td>\n",
       "      <td>일반</td>\n",
       "      <td>2699</td>\n",
       "      <td>2356</td>\n",
       "      <td>2196</td>\n",
       "      <td>0</td>\n",
       "      <td>9</td>\n",
       "      <td>26</td>\n",
       "      <td>3</td>\n",
       "    </tr>\n",
       "    <tr>\n",
       "      <th>177213</th>\n",
       "      <td>A0000767</td>\n",
       "      <td>중구</td>\n",
       "      <td>서남주유소</td>\n",
       "      <td>서울 중구 통일로 30</td>\n",
       "      <td>2019-09-27</td>\n",
       "      <td>SK에너지</td>\n",
       "      <td>일반</td>\n",
       "      <td>2699</td>\n",
       "      <td>2356</td>\n",
       "      <td>2196</td>\n",
       "      <td>0</td>\n",
       "      <td>9</td>\n",
       "      <td>27</td>\n",
       "      <td>4</td>\n",
       "    </tr>\n",
       "    <tr>\n",
       "      <th>177214</th>\n",
       "      <td>A0000767</td>\n",
       "      <td>중구</td>\n",
       "      <td>서남주유소</td>\n",
       "      <td>서울 중구 통일로 30</td>\n",
       "      <td>2019-09-28</td>\n",
       "      <td>SK에너지</td>\n",
       "      <td>일반</td>\n",
       "      <td>2699</td>\n",
       "      <td>2356</td>\n",
       "      <td>2196</td>\n",
       "      <td>0</td>\n",
       "      <td>9</td>\n",
       "      <td>28</td>\n",
       "      <td>5</td>\n",
       "    </tr>\n",
       "    <tr>\n",
       "      <th>177215</th>\n",
       "      <td>A0000767</td>\n",
       "      <td>중구</td>\n",
       "      <td>서남주유소</td>\n",
       "      <td>서울 중구 통일로 30</td>\n",
       "      <td>2019-09-29</td>\n",
       "      <td>SK에너지</td>\n",
       "      <td>일반</td>\n",
       "      <td>2699</td>\n",
       "      <td>2356</td>\n",
       "      <td>2196</td>\n",
       "      <td>0</td>\n",
       "      <td>9</td>\n",
       "      <td>29</td>\n",
       "      <td>6</td>\n",
       "    </tr>\n",
       "  </tbody>\n",
       "</table>\n",
       "</div>"
      ],
      "text/plain": [
       "              번호  지역     상호            주소         기간     상표 셀프여부  고급휘발유   휘발유  \\\n",
       "177217  A0000767  중구  서남주유소  서울 중구 통일로 30 2019-10-01  SK에너지   일반   2699  2356   \n",
       "177212  A0000767  중구  서남주유소  서울 중구 통일로 30 2019-09-26  SK에너지   일반   2699  2356   \n",
       "177213  A0000767  중구  서남주유소  서울 중구 통일로 30 2019-09-27  SK에너지   일반   2699  2356   \n",
       "177214  A0000767  중구  서남주유소  서울 중구 통일로 30 2019-09-28  SK에너지   일반   2699  2356   \n",
       "177215  A0000767  중구  서남주유소  서울 중구 통일로 30 2019-09-29  SK에너지   일반   2699  2356   \n",
       "\n",
       "          경유  실내등유   월   일  요일  \n",
       "177217  2196     0  10   1   1  \n",
       "177212  2196     0   9  26   3  \n",
       "177213  2196     0   9  27   4  \n",
       "177214  2196     0   9  28   5  \n",
       "177215  2196     0   9  29   6  "
      ]
     },
     "execution_count": 120,
     "metadata": {},
     "output_type": "execute_result"
    }
   ],
   "source": [
    "# 고급휘발유 가격이 가장 비싼 5개 행 조회\n",
    "gas.sort_values('고급휘발유', ascending=False).head()"
   ]
  },
  {
   "cell_type": "code",
   "execution_count": 115,
   "metadata": {
    "ExecuteTime": {
     "end_time": "2020-08-16T12:00:18.971841Z",
     "start_time": "2020-08-16T12:00:18.896042Z"
    }
   },
   "outputs": [
    {
     "data": {
      "text/html": [
       "<div>\n",
       "<style scoped>\n",
       "    .dataframe tbody tr th:only-of-type {\n",
       "        vertical-align: middle;\n",
       "    }\n",
       "\n",
       "    .dataframe tbody tr th {\n",
       "        vertical-align: top;\n",
       "    }\n",
       "\n",
       "    .dataframe thead th {\n",
       "        text-align: right;\n",
       "    }\n",
       "</style>\n",
       "<table border=\"1\" class=\"dataframe\">\n",
       "  <thead>\n",
       "    <tr style=\"text-align: right;\">\n",
       "      <th></th>\n",
       "      <th>번호</th>\n",
       "      <th>지역</th>\n",
       "      <th>상호</th>\n",
       "      <th>주소</th>\n",
       "      <th>기간</th>\n",
       "      <th>상표</th>\n",
       "      <th>셀프여부</th>\n",
       "      <th>고급휘발유</th>\n",
       "      <th>휘발유</th>\n",
       "      <th>경유</th>\n",
       "      <th>실내등유</th>\n",
       "      <th>월</th>\n",
       "      <th>일</th>\n",
       "      <th>요일</th>\n",
       "    </tr>\n",
       "  </thead>\n",
       "  <tbody>\n",
       "    <tr>\n",
       "      <th>17460</th>\n",
       "      <td>A0000520</td>\n",
       "      <td>강서구</td>\n",
       "      <td>하이웨이주유소</td>\n",
       "      <td>서울특별시 강서구 공항대로 432(화곡동)</td>\n",
       "      <td>2019-01-15</td>\n",
       "      <td>S-OIL</td>\n",
       "      <td>셀프</td>\n",
       "      <td>1397</td>\n",
       "      <td>1275</td>\n",
       "      <td>1175</td>\n",
       "      <td>0</td>\n",
       "      <td>1</td>\n",
       "      <td>15</td>\n",
       "      <td>1</td>\n",
       "    </tr>\n",
       "    <tr>\n",
       "      <th>17459</th>\n",
       "      <td>A0000520</td>\n",
       "      <td>강서구</td>\n",
       "      <td>하이웨이주유소</td>\n",
       "      <td>서울특별시 강서구 공항대로 432(화곡동)</td>\n",
       "      <td>2019-01-14</td>\n",
       "      <td>S-OIL</td>\n",
       "      <td>셀프</td>\n",
       "      <td>1397</td>\n",
       "      <td>1275</td>\n",
       "      <td>1175</td>\n",
       "      <td>0</td>\n",
       "      <td>1</td>\n",
       "      <td>14</td>\n",
       "      <td>0</td>\n",
       "    </tr>\n",
       "    <tr>\n",
       "      <th>17458</th>\n",
       "      <td>A0000520</td>\n",
       "      <td>강서구</td>\n",
       "      <td>하이웨이주유소</td>\n",
       "      <td>서울특별시 강서구 공항대로 432(화곡동)</td>\n",
       "      <td>2019-01-13</td>\n",
       "      <td>S-OIL</td>\n",
       "      <td>셀프</td>\n",
       "      <td>1397</td>\n",
       "      <td>1275</td>\n",
       "      <td>1175</td>\n",
       "      <td>0</td>\n",
       "      <td>1</td>\n",
       "      <td>13</td>\n",
       "      <td>6</td>\n",
       "    </tr>\n",
       "    <tr>\n",
       "      <th>17457</th>\n",
       "      <td>A0000520</td>\n",
       "      <td>강서구</td>\n",
       "      <td>하이웨이주유소</td>\n",
       "      <td>서울특별시 강서구 공항대로 432(화곡동)</td>\n",
       "      <td>2019-01-12</td>\n",
       "      <td>S-OIL</td>\n",
       "      <td>셀프</td>\n",
       "      <td>1397</td>\n",
       "      <td>1275</td>\n",
       "      <td>1175</td>\n",
       "      <td>0</td>\n",
       "      <td>1</td>\n",
       "      <td>12</td>\n",
       "      <td>5</td>\n",
       "    </tr>\n",
       "    <tr>\n",
       "      <th>17456</th>\n",
       "      <td>A0000520</td>\n",
       "      <td>강서구</td>\n",
       "      <td>하이웨이주유소</td>\n",
       "      <td>서울특별시 강서구 공항대로 432(화곡동)</td>\n",
       "      <td>2019-01-11</td>\n",
       "      <td>S-OIL</td>\n",
       "      <td>셀프</td>\n",
       "      <td>1397</td>\n",
       "      <td>1275</td>\n",
       "      <td>1175</td>\n",
       "      <td>0</td>\n",
       "      <td>1</td>\n",
       "      <td>11</td>\n",
       "      <td>4</td>\n",
       "    </tr>\n",
       "  </tbody>\n",
       "</table>\n",
       "</div>"
      ],
      "text/plain": [
       "             번호   지역       상호                       주소         기간     상표 셀프여부  \\\n",
       "17460  A0000520  강서구  하이웨이주유소  서울특별시 강서구 공항대로 432(화곡동) 2019-01-15  S-OIL   셀프   \n",
       "17459  A0000520  강서구  하이웨이주유소  서울특별시 강서구 공항대로 432(화곡동) 2019-01-14  S-OIL   셀프   \n",
       "17458  A0000520  강서구  하이웨이주유소  서울특별시 강서구 공항대로 432(화곡동) 2019-01-13  S-OIL   셀프   \n",
       "17457  A0000520  강서구  하이웨이주유소  서울특별시 강서구 공항대로 432(화곡동) 2019-01-12  S-OIL   셀프   \n",
       "17456  A0000520  강서구  하이웨이주유소  서울특별시 강서구 공항대로 432(화곡동) 2019-01-11  S-OIL   셀프   \n",
       "\n",
       "       고급휘발유   휘발유    경유  실내등유  월   일  요일  \n",
       "17460   1397  1275  1175     0  1  15   1  \n",
       "17459   1397  1275  1175     0  1  14   0  \n",
       "17458   1397  1275  1175     0  1  13   6  \n",
       "17457   1397  1275  1175     0  1  12   5  \n",
       "17456   1397  1275  1175     0  1  11   4  "
      ]
     },
     "execution_count": 115,
     "metadata": {},
     "output_type": "execute_result"
    }
   ],
   "source": [
    "# 고급휘발유 가격이 가장 저렴한 5개 행 조회 (단 0원인 주유소 제외)\n",
    "gas[(gas['고급휘발유']>0)].sort_values('고급휘발유').head()"
   ]
  },
  {
   "cell_type": "code",
   "execution_count": 121,
   "metadata": {},
   "outputs": [
    {
     "data": {
      "text/plain": [
       "2196"
      ]
     },
     "execution_count": 121,
     "metadata": {},
     "output_type": "execute_result"
    }
   ],
   "source": [
    "gas['경유'].max()"
   ]
  },
  {
   "cell_type": "code",
   "execution_count": 123,
   "metadata": {
    "ExecuteTime": {
     "end_time": "2020-08-16T12:00:19.051630Z",
     "start_time": "2020-08-16T12:00:18.975826Z"
    }
   },
   "outputs": [
    {
     "data": {
      "text/html": [
       "<div>\n",
       "<style scoped>\n",
       "    .dataframe tbody tr th:only-of-type {\n",
       "        vertical-align: middle;\n",
       "    }\n",
       "\n",
       "    .dataframe tbody tr th {\n",
       "        vertical-align: top;\n",
       "    }\n",
       "\n",
       "    .dataframe thead th {\n",
       "        text-align: right;\n",
       "    }\n",
       "</style>\n",
       "<table border=\"1\" class=\"dataframe\">\n",
       "  <thead>\n",
       "    <tr style=\"text-align: right;\">\n",
       "      <th></th>\n",
       "      <th>번호</th>\n",
       "      <th>지역</th>\n",
       "      <th>상호</th>\n",
       "      <th>주소</th>\n",
       "      <th>기간</th>\n",
       "      <th>상표</th>\n",
       "      <th>셀프여부</th>\n",
       "      <th>고급휘발유</th>\n",
       "      <th>휘발유</th>\n",
       "      <th>경유</th>\n",
       "      <th>실내등유</th>\n",
       "      <th>월</th>\n",
       "      <th>일</th>\n",
       "      <th>요일</th>\n",
       "    </tr>\n",
       "  </thead>\n",
       "  <tbody>\n",
       "    <tr>\n",
       "      <th>177211</th>\n",
       "      <td>A0000767</td>\n",
       "      <td>중구</td>\n",
       "      <td>서남주유소</td>\n",
       "      <td>서울 중구 통일로 30</td>\n",
       "      <td>2019-09-25</td>\n",
       "      <td>SK에너지</td>\n",
       "      <td>일반</td>\n",
       "      <td>2649</td>\n",
       "      <td>2356</td>\n",
       "      <td>2196</td>\n",
       "      <td>0</td>\n",
       "      <td>9</td>\n",
       "      <td>25</td>\n",
       "      <td>2</td>\n",
       "    </tr>\n",
       "    <tr>\n",
       "      <th>177212</th>\n",
       "      <td>A0000767</td>\n",
       "      <td>중구</td>\n",
       "      <td>서남주유소</td>\n",
       "      <td>서울 중구 통일로 30</td>\n",
       "      <td>2019-09-26</td>\n",
       "      <td>SK에너지</td>\n",
       "      <td>일반</td>\n",
       "      <td>2699</td>\n",
       "      <td>2356</td>\n",
       "      <td>2196</td>\n",
       "      <td>0</td>\n",
       "      <td>9</td>\n",
       "      <td>26</td>\n",
       "      <td>3</td>\n",
       "    </tr>\n",
       "    <tr>\n",
       "      <th>177217</th>\n",
       "      <td>A0000767</td>\n",
       "      <td>중구</td>\n",
       "      <td>서남주유소</td>\n",
       "      <td>서울 중구 통일로 30</td>\n",
       "      <td>2019-10-01</td>\n",
       "      <td>SK에너지</td>\n",
       "      <td>일반</td>\n",
       "      <td>2699</td>\n",
       "      <td>2356</td>\n",
       "      <td>2196</td>\n",
       "      <td>0</td>\n",
       "      <td>10</td>\n",
       "      <td>1</td>\n",
       "      <td>1</td>\n",
       "    </tr>\n",
       "    <tr>\n",
       "      <th>177216</th>\n",
       "      <td>A0000767</td>\n",
       "      <td>중구</td>\n",
       "      <td>서남주유소</td>\n",
       "      <td>서울 중구 통일로 30</td>\n",
       "      <td>2019-09-30</td>\n",
       "      <td>SK에너지</td>\n",
       "      <td>일반</td>\n",
       "      <td>2699</td>\n",
       "      <td>2356</td>\n",
       "      <td>2196</td>\n",
       "      <td>0</td>\n",
       "      <td>9</td>\n",
       "      <td>30</td>\n",
       "      <td>0</td>\n",
       "    </tr>\n",
       "    <tr>\n",
       "      <th>177215</th>\n",
       "      <td>A0000767</td>\n",
       "      <td>중구</td>\n",
       "      <td>서남주유소</td>\n",
       "      <td>서울 중구 통일로 30</td>\n",
       "      <td>2019-09-29</td>\n",
       "      <td>SK에너지</td>\n",
       "      <td>일반</td>\n",
       "      <td>2699</td>\n",
       "      <td>2356</td>\n",
       "      <td>2196</td>\n",
       "      <td>0</td>\n",
       "      <td>9</td>\n",
       "      <td>29</td>\n",
       "      <td>6</td>\n",
       "    </tr>\n",
       "  </tbody>\n",
       "</table>\n",
       "</div>"
      ],
      "text/plain": [
       "              번호  지역     상호            주소         기간     상표 셀프여부  고급휘발유   휘발유  \\\n",
       "177211  A0000767  중구  서남주유소  서울 중구 통일로 30 2019-09-25  SK에너지   일반   2649  2356   \n",
       "177212  A0000767  중구  서남주유소  서울 중구 통일로 30 2019-09-26  SK에너지   일반   2699  2356   \n",
       "177217  A0000767  중구  서남주유소  서울 중구 통일로 30 2019-10-01  SK에너지   일반   2699  2356   \n",
       "177216  A0000767  중구  서남주유소  서울 중구 통일로 30 2019-09-30  SK에너지   일반   2699  2356   \n",
       "177215  A0000767  중구  서남주유소  서울 중구 통일로 30 2019-09-29  SK에너지   일반   2699  2356   \n",
       "\n",
       "          경유  실내등유   월   일  요일  \n",
       "177211  2196     0   9  25   2  \n",
       "177212  2196     0   9  26   3  \n",
       "177217  2196     0  10   1   1  \n",
       "177216  2196     0   9  30   0  \n",
       "177215  2196     0   9  29   6  "
      ]
     },
     "execution_count": 123,
     "metadata": {},
     "output_type": "execute_result"
    }
   ],
   "source": [
    "# 경유 가격이 가장 비싼 5개 행 조회\n",
    "gas.sort_values('경유', ascending=False).head(5)"
   ]
  },
  {
   "cell_type": "code",
   "execution_count": 113,
   "metadata": {
    "ExecuteTime": {
     "end_time": "2020-08-16T12:00:19.178286Z",
     "start_time": "2020-08-16T12:00:19.055613Z"
    },
    "scrolled": true
   },
   "outputs": [
    {
     "data": {
      "text/html": [
       "<div>\n",
       "<style scoped>\n",
       "    .dataframe tbody tr th:only-of-type {\n",
       "        vertical-align: middle;\n",
       "    }\n",
       "\n",
       "    .dataframe tbody tr th {\n",
       "        vertical-align: top;\n",
       "    }\n",
       "\n",
       "    .dataframe thead th {\n",
       "        text-align: right;\n",
       "    }\n",
       "</style>\n",
       "<table border=\"1\" class=\"dataframe\">\n",
       "  <thead>\n",
       "    <tr style=\"text-align: right;\">\n",
       "      <th></th>\n",
       "      <th>번호</th>\n",
       "      <th>지역</th>\n",
       "      <th>상호</th>\n",
       "      <th>주소</th>\n",
       "      <th>기간</th>\n",
       "      <th>상표</th>\n",
       "      <th>셀프여부</th>\n",
       "      <th>고급휘발유</th>\n",
       "      <th>휘발유</th>\n",
       "      <th>경유</th>\n",
       "      <th>실내등유</th>\n",
       "      <th>월</th>\n",
       "      <th>일</th>\n",
       "      <th>요일</th>\n",
       "    </tr>\n",
       "  </thead>\n",
       "  <tbody>\n",
       "    <tr>\n",
       "      <th>13148</th>\n",
       "      <td>A0033328</td>\n",
       "      <td>강서구</td>\n",
       "      <td>KH에너지(주)직영 KH외발산주유소</td>\n",
       "      <td>서울 강서구 방화대로 30</td>\n",
       "      <td>2019-02-07</td>\n",
       "      <td>SK에너지</td>\n",
       "      <td>셀프</td>\n",
       "      <td>1788</td>\n",
       "      <td>1255</td>\n",
       "      <td>1155</td>\n",
       "      <td>0</td>\n",
       "      <td>2</td>\n",
       "      <td>7</td>\n",
       "      <td>3</td>\n",
       "    </tr>\n",
       "    <tr>\n",
       "      <th>50707</th>\n",
       "      <td>A0011826</td>\n",
       "      <td>서초구</td>\n",
       "      <td>만남의광장주유소</td>\n",
       "      <td>서울 서초구 양재대로12길 73-71</td>\n",
       "      <td>2019-01-13</td>\n",
       "      <td>알뜰(ex)</td>\n",
       "      <td>셀프</td>\n",
       "      <td>0</td>\n",
       "      <td>1297</td>\n",
       "      <td>1157</td>\n",
       "      <td>0</td>\n",
       "      <td>1</td>\n",
       "      <td>13</td>\n",
       "      <td>6</td>\n",
       "    </tr>\n",
       "    <tr>\n",
       "      <th>82476</th>\n",
       "      <td>A0000605</td>\n",
       "      <td>은평구</td>\n",
       "      <td>삼융주유소</td>\n",
       "      <td>서울 은평구 수색로 299 (수색동)</td>\n",
       "      <td>2019-02-01</td>\n",
       "      <td>SK에너지</td>\n",
       "      <td>일반</td>\n",
       "      <td>0</td>\n",
       "      <td>1260</td>\n",
       "      <td>1160</td>\n",
       "      <td>0</td>\n",
       "      <td>2</td>\n",
       "      <td>1</td>\n",
       "      <td>4</td>\n",
       "    </tr>\n",
       "    <tr>\n",
       "      <th>82475</th>\n",
       "      <td>A0000605</td>\n",
       "      <td>은평구</td>\n",
       "      <td>삼융주유소</td>\n",
       "      <td>서울 은평구 수색로 299 (수색동)</td>\n",
       "      <td>2019-01-31</td>\n",
       "      <td>SK에너지</td>\n",
       "      <td>일반</td>\n",
       "      <td>0</td>\n",
       "      <td>1260</td>\n",
       "      <td>1160</td>\n",
       "      <td>0</td>\n",
       "      <td>1</td>\n",
       "      <td>31</td>\n",
       "      <td>3</td>\n",
       "    </tr>\n",
       "    <tr>\n",
       "      <th>82474</th>\n",
       "      <td>A0000605</td>\n",
       "      <td>은평구</td>\n",
       "      <td>삼융주유소</td>\n",
       "      <td>서울 은평구 수색로 299 (수색동)</td>\n",
       "      <td>2019-01-30</td>\n",
       "      <td>SK에너지</td>\n",
       "      <td>일반</td>\n",
       "      <td>0</td>\n",
       "      <td>1260</td>\n",
       "      <td>1160</td>\n",
       "      <td>0</td>\n",
       "      <td>1</td>\n",
       "      <td>30</td>\n",
       "      <td>2</td>\n",
       "    </tr>\n",
       "  </tbody>\n",
       "</table>\n",
       "</div>"
      ],
      "text/plain": [
       "             번호   지역                   상호                    주소         기간  \\\n",
       "13148  A0033328  강서구  KH에너지(주)직영 KH외발산주유소        서울 강서구 방화대로 30 2019-02-07   \n",
       "50707  A0011826  서초구             만남의광장주유소  서울 서초구 양재대로12길 73-71 2019-01-13   \n",
       "82476  A0000605  은평구                삼융주유소  서울 은평구 수색로 299 (수색동) 2019-02-01   \n",
       "82475  A0000605  은평구                삼융주유소  서울 은평구 수색로 299 (수색동) 2019-01-31   \n",
       "82474  A0000605  은평구                삼융주유소  서울 은평구 수색로 299 (수색동) 2019-01-30   \n",
       "\n",
       "           상표 셀프여부  고급휘발유   휘발유    경유  실내등유  월   일  요일  \n",
       "13148   SK에너지   셀프   1788  1255  1155     0  2   7   3  \n",
       "50707  알뜰(ex)   셀프      0  1297  1157     0  1  13   6  \n",
       "82476   SK에너지   일반      0  1260  1160     0  2   1   4  \n",
       "82475   SK에너지   일반      0  1260  1160     0  1  31   3  \n",
       "82474   SK에너지   일반      0  1260  1160     0  1  30   2  "
      ]
     },
     "execution_count": 113,
     "metadata": {},
     "output_type": "execute_result"
    }
   ],
   "source": [
    "# 경유 가격이 가장 저렴한 5개 행 조회 (단 0원인 주유소 제외)\n",
    "gas[(gas['경유']>0)].sort_values('경유').head()"
   ]
  },
  {
   "cell_type": "code",
   "execution_count": 140,
   "metadata": {
    "ExecuteTime": {
     "end_time": "2020-08-16T12:00:19.223166Z",
     "start_time": "2020-08-16T12:00:19.181279Z"
    }
   },
   "outputs": [
    {
     "data": {
      "text/html": [
       "<div>\n",
       "<style scoped>\n",
       "    .dataframe tbody tr th:only-of-type {\n",
       "        vertical-align: middle;\n",
       "    }\n",
       "\n",
       "    .dataframe tbody tr th {\n",
       "        vertical-align: top;\n",
       "    }\n",
       "\n",
       "    .dataframe thead th {\n",
       "        text-align: right;\n",
       "    }\n",
       "</style>\n",
       "<table border=\"1\" class=\"dataframe\">\n",
       "  <thead>\n",
       "    <tr style=\"text-align: right;\">\n",
       "      <th></th>\n",
       "      <th>휘발유</th>\n",
       "    </tr>\n",
       "    <tr>\n",
       "      <th>상표</th>\n",
       "      <th></th>\n",
       "    </tr>\n",
       "  </thead>\n",
       "  <tbody>\n",
       "    <tr>\n",
       "      <th>GS칼텍스</th>\n",
       "      <td>1564.03</td>\n",
       "    </tr>\n",
       "    <tr>\n",
       "      <th>NH-OIL</th>\n",
       "      <td>1449.09</td>\n",
       "    </tr>\n",
       "    <tr>\n",
       "      <th>S-OIL</th>\n",
       "      <td>1532.30</td>\n",
       "    </tr>\n",
       "    <tr>\n",
       "      <th>SK에너지</th>\n",
       "      <td>1612.15</td>\n",
       "    </tr>\n",
       "    <tr>\n",
       "      <th>알뜰(ex)</th>\n",
       "      <td>1431.35</td>\n",
       "    </tr>\n",
       "    <tr>\n",
       "      <th>알뜰주유소</th>\n",
       "      <td>1447.88</td>\n",
       "    </tr>\n",
       "    <tr>\n",
       "      <th>자가상표</th>\n",
       "      <td>1492.09</td>\n",
       "    </tr>\n",
       "    <tr>\n",
       "      <th>현대오일뱅크</th>\n",
       "      <td>1515.46</td>\n",
       "    </tr>\n",
       "  </tbody>\n",
       "</table>\n",
       "</div>"
      ],
      "text/plain": [
       "            휘발유\n",
       "상표             \n",
       "GS칼텍스   1564.03\n",
       "NH-OIL  1449.09\n",
       "S-OIL   1532.30\n",
       "SK에너지   1612.15\n",
       "알뜰(ex)  1431.35\n",
       "알뜰주유소   1447.88\n",
       "자가상표    1492.09\n",
       "현대오일뱅크  1515.46"
      ]
     },
     "execution_count": 140,
     "metadata": {},
     "output_type": "execute_result"
    }
   ],
   "source": [
    "# 상표별 휘발유 평균가격 조회\n",
    "gasmean = np.round(gas.groupby('상표')[['휘발유']].mean(),2)\n",
    "gasmean"
   ]
  },
  {
   "cell_type": "code",
   "execution_count": 157,
   "metadata": {
    "ExecuteTime": {
     "end_time": "2020-08-16T12:18:33.837103Z",
     "start_time": "2020-08-16T12:18:33.625672Z"
    },
    "scrolled": false
   },
   "outputs": [
    {
     "data": {
      "image/png": "[encoded data removed]",
      "text/plain": [
       "<Figure size 720x360 with 1 Axes>"
      ]
     },
     "metadata": {
      "needs_background": "light"
     },
     "output_type": "display_data"
    }
   ],
   "source": [
    "# 상표별 휘발유 평균가격 시각화\n",
    "plt.figure(figsize=(10,5))\n",
    "sns.barplot(x=gasmean.index, y='휘발유', data=gasmean)\n",
    "for idx, value in enumerate(gasmean['휘발유']):\n",
    "    plt.text(idx-0.3,value+3, value, size=15)\n",
    "plt.xticks(rotation=45)\n",
    "plt.show()"
   ]
  },
  {
   "cell_type": "code",
   "execution_count": 173,
   "metadata": {},
   "outputs": [
    {
     "data": {
      "image/png": "[encoded data removed]",
      "text/plain": [
       "<Figure size 720x360 with 1 Axes>"
      ]
     },
     "metadata": {
      "needs_background": "light"
     },
     "output_type": "display_data"
    }
   ],
   "source": [
    "plt.figure(figsize=(10,5))\n",
    "gasmean['휘발유'].plot.bar()\n",
    "for idx, value in enumerate(gasmean['휘발유']):\n",
    "    plt.text(idx-0.3,value+3, value, size=15)"
   ]
  },
  {
   "cell_type": "code",
   "execution_count": 144,
   "metadata": {},
   "outputs": [
    {
     "data": {
      "text/plain": [
       "<AxesSubplot:xlabel='상표', ylabel='휘발유'>"
      ]
     },
     "execution_count": 144,
     "metadata": {},
     "output_type": "execute_result"
    },
    {
     "data": {
      "image/png": "[encoded data removed]",
      "text/plain": [
       "<Figure size 720x360 with 1 Axes>"
      ]
     },
     "metadata": {
      "needs_background": "light"
     },
     "output_type": "display_data"
    }
   ],
   "source": [
    "plt.figure(figsize=(10,5))\n",
    "sns.lineplot(x=gasmean.index, y='휘발유', data=gasmean)"
   ]
  },
  {
   "cell_type": "code",
   "execution_count": 146,
   "metadata": {},
   "outputs": [
    {
     "data": {
      "text/plain": [
       "array(['셀프', '일반'], dtype=object)"
      ]
     },
     "execution_count": 146,
     "metadata": {},
     "output_type": "execute_result"
    }
   ],
   "source": [
    "gas['셀프여부'].unique()"
   ]
  },
  {
   "cell_type": "code",
   "execution_count": 152,
   "metadata": {
    "ExecuteTime": {
     "end_time": "2020-08-16T12:00:19.596166Z",
     "start_time": "2020-08-16T12:00:19.555280Z"
    }
   },
   "outputs": [
    {
     "data": {
      "text/plain": [
       "일반    108492\n",
       "셀프     73222\n",
       "Name: 셀프여부, dtype: int64"
      ]
     },
     "execution_count": 152,
     "metadata": {},
     "output_type": "execute_result"
    }
   ],
   "source": [
    "# 셀프주유소와 일반주유소 개수 확인\n",
    "gas['셀프여부'].value_counts()"
   ]
  },
  {
   "cell_type": "code",
   "execution_count": 160,
   "metadata": {
    "ExecuteTime": {
     "end_time": "2020-08-16T12:00:19.819570Z",
     "start_time": "2020-08-16T12:00:19.598165Z"
    }
   },
   "outputs": [
    {
     "data": {
      "image/png": "[encoded data removed]",
      "text/plain": [
       "<Figure size 720x360 with 1 Axes>"
      ]
     },
     "metadata": {
      "needs_background": "light"
     },
     "output_type": "display_data"
    }
   ],
   "source": [
    "# 셀프주유소와 일반주유소 개수 시각화\n",
    "plt.figure(figsize=(10,5))\n",
    "sns.countplot(x=gas['셀프여부'])\n",
    "plt.show()"
   ]
  },
  {
   "cell_type": "code",
   "execution_count": 163,
   "metadata": {
    "ExecuteTime": {
     "end_time": "2020-08-16T12:00:19.851487Z",
     "start_time": "2020-08-16T12:00:19.822565Z"
    }
   },
   "outputs": [
    {
     "data": {
      "text/html": [
       "<div>\n",
       "<style scoped>\n",
       "    .dataframe tbody tr th:only-of-type {\n",
       "        vertical-align: middle;\n",
       "    }\n",
       "\n",
       "    .dataframe tbody tr th {\n",
       "        vertical-align: top;\n",
       "    }\n",
       "\n",
       "    .dataframe thead th {\n",
       "        text-align: right;\n",
       "    }\n",
       "</style>\n",
       "<table border=\"1\" class=\"dataframe\">\n",
       "  <thead>\n",
       "    <tr style=\"text-align: right;\">\n",
       "      <th></th>\n",
       "      <th>고급휘발유</th>\n",
       "      <th>휘발유</th>\n",
       "      <th>경유</th>\n",
       "    </tr>\n",
       "    <tr>\n",
       "      <th>셀프여부</th>\n",
       "      <th></th>\n",
       "      <th></th>\n",
       "      <th></th>\n",
       "    </tr>\n",
       "  </thead>\n",
       "  <tbody>\n",
       "    <tr>\n",
       "      <th>셀프</th>\n",
       "      <td>586.65</td>\n",
       "      <td>1490.16</td>\n",
       "      <td>1360.84</td>\n",
       "    </tr>\n",
       "    <tr>\n",
       "      <th>일반</th>\n",
       "      <td>882.50</td>\n",
       "      <td>1619.11</td>\n",
       "      <td>1486.00</td>\n",
       "    </tr>\n",
       "  </tbody>\n",
       "</table>\n",
       "</div>"
      ],
      "text/plain": [
       "       고급휘발유      휘발유       경유\n",
       "셀프여부                          \n",
       "셀프    586.65  1490.16  1360.84\n",
       "일반    882.50  1619.11  1486.00"
      ]
     },
     "execution_count": 163,
     "metadata": {},
     "output_type": "execute_result"
    }
   ],
   "source": [
    "# 셀프 여부에 따른 휘발유 평균 가격 비교\n",
    "np.round(gas.groupby('셀프여부')[['고급휘발유','휘발유','경유']].mean(),2)"
   ]
  },
  {
   "cell_type": "code",
   "execution_count": 164,
   "metadata": {
    "ExecuteTime": {
     "end_time": "2020-08-16T12:00:19.943273Z",
     "start_time": "2020-08-16T12:00:19.856472Z"
    }
   },
   "outputs": [
    {
     "data": {
      "text/html": [
       "<div>\n",
       "<style scoped>\n",
       "    .dataframe tbody tr th:only-of-type {\n",
       "        vertical-align: middle;\n",
       "    }\n",
       "\n",
       "    .dataframe tbody tr th {\n",
       "        vertical-align: top;\n",
       "    }\n",
       "\n",
       "    .dataframe thead th {\n",
       "        text-align: right;\n",
       "    }\n",
       "</style>\n",
       "<table border=\"1\" class=\"dataframe\">\n",
       "  <thead>\n",
       "    <tr style=\"text-align: right;\">\n",
       "      <th></th>\n",
       "      <th></th>\n",
       "      <th>고급휘발유</th>\n",
       "      <th>휘발유</th>\n",
       "      <th>경유</th>\n",
       "    </tr>\n",
       "    <tr>\n",
       "      <th>상표</th>\n",
       "      <th>셀프여부</th>\n",
       "      <th></th>\n",
       "      <th></th>\n",
       "      <th></th>\n",
       "    </tr>\n",
       "  </thead>\n",
       "  <tbody>\n",
       "    <tr>\n",
       "      <th rowspan=\"2\" valign=\"top\">GS칼텍스</th>\n",
       "      <th>셀프</th>\n",
       "      <td>938.74</td>\n",
       "      <td>1481.41</td>\n",
       "      <td>1352.82</td>\n",
       "    </tr>\n",
       "    <tr>\n",
       "      <th>일반</th>\n",
       "      <td>1049.45</td>\n",
       "      <td>1610.06</td>\n",
       "      <td>1481.26</td>\n",
       "    </tr>\n",
       "    <tr>\n",
       "      <th>NH-OIL</th>\n",
       "      <th>일반</th>\n",
       "      <td>0.00</td>\n",
       "      <td>1449.09</td>\n",
       "      <td>1336.74</td>\n",
       "    </tr>\n",
       "    <tr>\n",
       "      <th rowspan=\"2\" valign=\"top\">S-OIL</th>\n",
       "      <th>셀프</th>\n",
       "      <td>342.78</td>\n",
       "      <td>1481.44</td>\n",
       "      <td>1348.80</td>\n",
       "    </tr>\n",
       "    <tr>\n",
       "      <th>일반</th>\n",
       "      <td>338.44</td>\n",
       "      <td>1579.45</td>\n",
       "      <td>1439.71</td>\n",
       "    </tr>\n",
       "    <tr>\n",
       "      <th rowspan=\"2\" valign=\"top\">SK에너지</th>\n",
       "      <th>셀프</th>\n",
       "      <td>602.76</td>\n",
       "      <td>1504.85</td>\n",
       "      <td>1377.60</td>\n",
       "    </tr>\n",
       "    <tr>\n",
       "      <th>일반</th>\n",
       "      <td>1156.16</td>\n",
       "      <td>1690.38</td>\n",
       "      <td>1556.69</td>\n",
       "    </tr>\n",
       "    <tr>\n",
       "      <th>알뜰(ex)</th>\n",
       "      <th>셀프</th>\n",
       "      <td>0.00</td>\n",
       "      <td>1431.35</td>\n",
       "      <td>1295.37</td>\n",
       "    </tr>\n",
       "    <tr>\n",
       "      <th rowspan=\"2\" valign=\"top\">알뜰주유소</th>\n",
       "      <th>셀프</th>\n",
       "      <td>0.00</td>\n",
       "      <td>1434.73</td>\n",
       "      <td>1304.76</td>\n",
       "    </tr>\n",
       "    <tr>\n",
       "      <th>일반</th>\n",
       "      <td>0.00</td>\n",
       "      <td>1455.37</td>\n",
       "      <td>1318.71</td>\n",
       "    </tr>\n",
       "    <tr>\n",
       "      <th rowspan=\"2\" valign=\"top\">자가상표</th>\n",
       "      <th>셀프</th>\n",
       "      <td>0.00</td>\n",
       "      <td>1494.41</td>\n",
       "      <td>1327.62</td>\n",
       "    </tr>\n",
       "    <tr>\n",
       "      <th>일반</th>\n",
       "      <td>0.00</td>\n",
       "      <td>1491.74</td>\n",
       "      <td>1369.35</td>\n",
       "    </tr>\n",
       "    <tr>\n",
       "      <th rowspan=\"2\" valign=\"top\">현대오일뱅크</th>\n",
       "      <th>셀프</th>\n",
       "      <td>359.92</td>\n",
       "      <td>1483.55</td>\n",
       "      <td>1351.96</td>\n",
       "    </tr>\n",
       "    <tr>\n",
       "      <th>일반</th>\n",
       "      <td>562.91</td>\n",
       "      <td>1534.25</td>\n",
       "      <td>1399.82</td>\n",
       "    </tr>\n",
       "  </tbody>\n",
       "</table>\n",
       "</div>"
      ],
      "text/plain": [
       "               고급휘발유      휘발유       경유\n",
       "상표     셀프여부                           \n",
       "GS칼텍스  셀프     938.74  1481.41  1352.82\n",
       "       일반    1049.45  1610.06  1481.26\n",
       "NH-OIL 일반       0.00  1449.09  1336.74\n",
       "S-OIL  셀프     342.78  1481.44  1348.80\n",
       "       일반     338.44  1579.45  1439.71\n",
       "SK에너지  셀프     602.76  1504.85  1377.60\n",
       "       일반    1156.16  1690.38  1556.69\n",
       "알뜰(ex) 셀프       0.00  1431.35  1295.37\n",
       "알뜰주유소  셀프       0.00  1434.73  1304.76\n",
       "       일반       0.00  1455.37  1318.71\n",
       "자가상표   셀프       0.00  1494.41  1327.62\n",
       "       일반       0.00  1491.74  1369.35\n",
       "현대오일뱅크 셀프     359.92  1483.55  1351.96\n",
       "       일반     562.91  1534.25  1399.82"
      ]
     },
     "execution_count": 164,
     "metadata": {},
     "output_type": "execute_result"
    }
   ],
   "source": [
    "# 상표별 일반/셀프 주유소의 휘발유 가격 평균 비교\n",
    "np.round(gas.groupby(['상표','셀프여부'])[['고급휘발유','휘발유','경유']].mean(),2)"
   ]
  },
  {
   "cell_type": "code",
   "execution_count": 181,
   "metadata": {},
   "outputs": [
    {
     "data": {
      "text/html": [
       "<div>\n",
       "<style scoped>\n",
       "    .dataframe tbody tr th:only-of-type {\n",
       "        vertical-align: middle;\n",
       "    }\n",
       "\n",
       "    .dataframe tbody tr th {\n",
       "        vertical-align: top;\n",
       "    }\n",
       "\n",
       "    .dataframe thead th {\n",
       "        text-align: right;\n",
       "    }\n",
       "</style>\n",
       "<table border=\"1\" class=\"dataframe\">\n",
       "  <thead>\n",
       "    <tr style=\"text-align: right;\">\n",
       "      <th></th>\n",
       "      <th>번호</th>\n",
       "      <th>지역</th>\n",
       "      <th>상호</th>\n",
       "      <th>주소</th>\n",
       "      <th>기간</th>\n",
       "      <th>상표</th>\n",
       "      <th>셀프여부</th>\n",
       "      <th>고급휘발유</th>\n",
       "      <th>휘발유</th>\n",
       "      <th>경유</th>\n",
       "      <th>실내등유</th>\n",
       "      <th>월</th>\n",
       "      <th>일</th>\n",
       "      <th>요일</th>\n",
       "    </tr>\n",
       "  </thead>\n",
       "  <tbody>\n",
       "    <tr>\n",
       "      <th>0</th>\n",
       "      <td>A0006039</td>\n",
       "      <td>강남구</td>\n",
       "      <td>(주)동하힐탑셀프주유소</td>\n",
       "      <td>서울 강남구 논현로 640</td>\n",
       "      <td>2019-01-01</td>\n",
       "      <td>SK에너지</td>\n",
       "      <td>셀프</td>\n",
       "      <td>1673</td>\n",
       "      <td>1465</td>\n",
       "      <td>1365</td>\n",
       "      <td>0</td>\n",
       "      <td>1</td>\n",
       "      <td>1</td>\n",
       "      <td>1</td>\n",
       "    </tr>\n",
       "    <tr>\n",
       "      <th>1</th>\n",
       "      <td>A0006039</td>\n",
       "      <td>강남구</td>\n",
       "      <td>(주)동하힐탑셀프주유소</td>\n",
       "      <td>서울 강남구 논현로 640</td>\n",
       "      <td>2019-01-02</td>\n",
       "      <td>SK에너지</td>\n",
       "      <td>셀프</td>\n",
       "      <td>1673</td>\n",
       "      <td>1465</td>\n",
       "      <td>1365</td>\n",
       "      <td>0</td>\n",
       "      <td>1</td>\n",
       "      <td>2</td>\n",
       "      <td>2</td>\n",
       "    </tr>\n",
       "    <tr>\n",
       "      <th>2</th>\n",
       "      <td>A0006039</td>\n",
       "      <td>강남구</td>\n",
       "      <td>(주)동하힐탑셀프주유소</td>\n",
       "      <td>서울 강남구 논현로 640</td>\n",
       "      <td>2019-01-03</td>\n",
       "      <td>SK에너지</td>\n",
       "      <td>셀프</td>\n",
       "      <td>1673</td>\n",
       "      <td>1465</td>\n",
       "      <td>1365</td>\n",
       "      <td>0</td>\n",
       "      <td>1</td>\n",
       "      <td>3</td>\n",
       "      <td>3</td>\n",
       "    </tr>\n",
       "    <tr>\n",
       "      <th>3</th>\n",
       "      <td>A0006039</td>\n",
       "      <td>강남구</td>\n",
       "      <td>(주)동하힐탑셀프주유소</td>\n",
       "      <td>서울 강남구 논현로 640</td>\n",
       "      <td>2019-01-04</td>\n",
       "      <td>SK에너지</td>\n",
       "      <td>셀프</td>\n",
       "      <td>1673</td>\n",
       "      <td>1465</td>\n",
       "      <td>1365</td>\n",
       "      <td>0</td>\n",
       "      <td>1</td>\n",
       "      <td>4</td>\n",
       "      <td>4</td>\n",
       "    </tr>\n",
       "    <tr>\n",
       "      <th>4</th>\n",
       "      <td>A0006039</td>\n",
       "      <td>강남구</td>\n",
       "      <td>(주)동하힐탑셀프주유소</td>\n",
       "      <td>서울 강남구 논현로 640</td>\n",
       "      <td>2019-01-05</td>\n",
       "      <td>SK에너지</td>\n",
       "      <td>셀프</td>\n",
       "      <td>1673</td>\n",
       "      <td>1465</td>\n",
       "      <td>1365</td>\n",
       "      <td>0</td>\n",
       "      <td>1</td>\n",
       "      <td>5</td>\n",
       "      <td>5</td>\n",
       "    </tr>\n",
       "  </tbody>\n",
       "</table>\n",
       "</div>"
      ],
      "text/plain": [
       "         번호   지역            상호              주소         기간     상표 셀프여부  고급휘발유  \\\n",
       "0  A0006039  강남구  (주)동하힐탑셀프주유소  서울 강남구 논현로 640 2019-01-01  SK에너지   셀프   1673   \n",
       "1  A0006039  강남구  (주)동하힐탑셀프주유소  서울 강남구 논현로 640 2019-01-02  SK에너지   셀프   1673   \n",
       "2  A0006039  강남구  (주)동하힐탑셀프주유소  서울 강남구 논현로 640 2019-01-03  SK에너지   셀프   1673   \n",
       "3  A0006039  강남구  (주)동하힐탑셀프주유소  서울 강남구 논현로 640 2019-01-04  SK에너지   셀프   1673   \n",
       "4  A0006039  강남구  (주)동하힐탑셀프주유소  서울 강남구 논현로 640 2019-01-05  SK에너지   셀프   1673   \n",
       "\n",
       "    휘발유    경유  실내등유  월  일  요일  \n",
       "0  1465  1365     0  1  1   1  \n",
       "1  1465  1365     0  1  2   2  \n",
       "2  1465  1365     0  1  3   3  \n",
       "3  1465  1365     0  1  4   4  \n",
       "4  1465  1365     0  1  5   5  "
      ]
     },
     "execution_count": 181,
     "metadata": {},
     "output_type": "execute_result"
    }
   ],
   "source": [
    "gas.head()"
   ]
  },
  {
   "cell_type": "code",
   "execution_count": null,
   "metadata": {},
   "outputs": [],
   "source": []
  },
  {
   "cell_type": "code",
   "execution_count": 194,
   "metadata": {
    "ExecuteTime": {
     "end_time": "2020-08-16T12:00:20.228476Z",
     "start_time": "2020-08-16T12:00:19.946232Z"
    }
   },
   "outputs": [
    {
     "data": {
      "image/png": "[encoded data removed]",
      "text/plain": [
       "<Figure size 504x504 with 1 Axes>"
      ]
     },
     "metadata": {
      "needs_background": "light"
     },
     "output_type": "display_data"
    }
   ],
   "source": [
    "# 상표별 일반/셀프 주유소의 휘발유 가격 평균 비교 시각화\n",
    "plt.figure(figsize=(7,7))\n",
    "sns.barplot(x='상표',y='휘발유', hue='셀프여부', data=gas)\n",
    "plt.xticks(rotation=45)\n",
    "plt.show()"
   ]
  },
  {
   "cell_type": "code",
   "execution_count": 176,
   "metadata": {},
   "outputs": [
    {
     "data": {
      "image/png": "[encoded data removed]",
      "text/plain": [
       "<Figure size 432x288 with 1 Axes>"
      ]
     },
     "metadata": {
      "needs_background": "light"
     },
     "output_type": "display_data"
    }
   ],
   "source": [
    "np.round(gas.groupby(['상표','셀프여부'])['휘발유'].mean(),2).plot.bar()\n",
    "plt.show()"
   ]
  },
  {
   "cell_type": "code",
   "execution_count": 193,
   "metadata": {
    "scrolled": false
   },
   "outputs": [
    {
     "data": {
      "image/png": "[encoded data removed]",
      "text/plain": [
       "<Figure size 432x288 with 1 Axes>"
      ]
     },
     "metadata": {
      "needs_background": "light"
     },
     "output_type": "display_data"
    }
   ],
   "source": [
    "np.round(gas.groupby(['상표','셀프여부'])[['고급휘발유','휘발유','경유']].mean(),2).plot.bar()\n",
    "plt.show()"
   ]
  },
  {
   "cell_type": "code",
   "execution_count": 201,
   "metadata": {
    "ExecuteTime": {
     "end_time": "2020-08-16T12:00:21.282664Z",
     "start_time": "2020-08-16T12:00:20.231469Z"
    },
    "scrolled": false
   },
   "outputs": [
    {
     "data": {
      "image/png": "[encoded data removed]",
      "text/plain": [
       "<Figure size 720x504 with 1 Axes>"
      ]
     },
     "metadata": {
      "needs_background": "light"
     },
     "output_type": "display_data"
    }
   ],
   "source": [
    "# 상표별 일반/셀프 주유소의 휘발유 가격에 대한 분포 확인 - boxplot으로 시각화\n",
    "plt.figure(figsize=(10,7))\n",
    "sns.boxplot(y='휘발유', x='상표',hue='셀프여부', data=gas)\n",
    "plt.xticks(rotation=45)\n",
    "plt.show()"
   ]
  },
  {
   "cell_type": "code",
   "execution_count": 205,
   "metadata": {
    "ExecuteTime": {
     "end_time": "2020-08-16T12:00:22.417164Z",
     "start_time": "2020-08-16T12:00:21.994261Z"
    }
   },
   "outputs": [
    {
     "data": {
      "image/png": "[encoded data removed]",
      "text/plain": [
       "<Figure size 720x504 with 1 Axes>"
      ]
     },
     "metadata": {
      "needs_background": "light"
     },
     "output_type": "display_data"
    }
   ],
   "source": [
    "# 상표별 휘발유 가격의 분포를 boxplot으로 시각화\n",
    "plt.figure(figsize=(10,7))\n",
    "sns.boxplot(x='상표',y='휘발유',data=gas)\n",
    "plt.xticks(rotation=45)\n",
    "plt.show()"
   ]
  },
  {
   "cell_type": "code",
   "execution_count": 208,
   "metadata": {
    "ExecuteTime": {
     "end_time": "2020-08-16T12:00:23.046447Z",
     "start_time": "2020-08-16T12:00:22.419127Z"
    }
   },
   "outputs": [
    {
     "data": {
      "image/png": "[encoded data removed]",
      "text/plain": [
       "<Figure size 720x504 with 1 Axes>"
      ]
     },
     "metadata": {
      "needs_background": "light"
     },
     "output_type": "display_data"
    }
   ],
   "source": [
    "# 상표별 휘발유 가격의 분포를 셀프여부로 나눠 boxplot으로 시각화\n",
    "plt.figure(figsize=(10,7))\n",
    "sns.boxplot(x='상표', y='휘발유', hue='셀프여부', data=gas)\n",
    "plt.xticks(rotation=45)\n",
    "plt.show()"
   ]
  },
  {
   "cell_type": "code",
   "execution_count": 209,
   "metadata": {
    "ExecuteTime": {
     "end_time": "2020-08-16T12:00:23.092358Z",
     "start_time": "2020-08-16T12:00:23.049440Z"
    }
   },
   "outputs": [
    {
     "data": {
      "text/plain": [
       "지역\n",
       "강남구     1713.093581\n",
       "강동구     1576.685264\n",
       "강북구     1453.517525\n",
       "강서구     1488.818088\n",
       "관악구     1518.128564\n",
       "광진구     1490.597054\n",
       "구로구     1525.410383\n",
       "금천구     1477.121992\n",
       "노원구     1531.221551\n",
       "도봉구     1494.171062\n",
       "동대문구    1506.833542\n",
       "동작구     1512.470911\n",
       "마포구     1689.755616\n",
       "서대문구    1528.943332\n",
       "서초구     1577.131304\n",
       "성동구     1583.659561\n",
       "성북구     1507.948267\n",
       "송파구     1518.957954\n",
       "양천구     1512.890261\n",
       "영등포구    1568.279506\n",
       "용산구     1882.049825\n",
       "은평구     1481.964026\n",
       "종로구     1838.554945\n",
       "중구      1976.948052\n",
       "중랑구     1469.009092\n",
       "Name: 휘발유, dtype: float64"
      ]
     },
     "execution_count": 209,
     "metadata": {},
     "output_type": "execute_result"
    }
   ],
   "source": [
    "# 구별 휘발유 가격의 평균\n",
    "gas.groupby('지역')['휘발유'].mean()"
   ]
  },
  {
   "cell_type": "code",
   "execution_count": null,
   "metadata": {},
   "outputs": [],
   "source": []
  },
  {
   "cell_type": "code",
   "execution_count": 216,
   "metadata": {
    "ExecuteTime": {
     "end_time": "2020-08-16T12:00:23.406484Z",
     "start_time": "2020-08-16T12:00:23.094319Z"
    }
   },
   "outputs": [
    {
     "data": {
      "image/png": "[encoded data removed]",
      "text/plain": [
       "<Figure size 720x1080 with 1 Axes>"
      ]
     },
     "metadata": {
      "needs_background": "light"
     },
     "output_type": "display_data"
    }
   ],
   "source": [
    "# 구별 휘발유 가격의 평균 시각화\n",
    "plt.figure(figsize=(10,15))\n",
    "gas.groupby('지역')['휘발유'].mean().plot.bar()\n",
    "\n",
    "plt.show()"
   ]
  },
  {
   "cell_type": "code",
   "execution_count": 275,
   "metadata": {},
   "outputs": [
    {
     "data": {
      "image/png": "[encoded data removed]",
      "text/plain": [
       "<Figure size 1440x720 with 1 Axes>"
      ]
     },
     "metadata": {
      "needs_background": "light"
     },
     "output_type": "display_data"
    }
   ],
   "source": [
    "# 구별 휘발유 가격의 평균 시각화\n",
    "plt.figure(figsize=(20,10))\n",
    "sns.barplot(x=gas['지역'],y=gas['휘발유'], data=gas)\n",
    "for idx, value in enumerate(np.round(gas.groupby('지역')['휘발유'].mean(),2)):\n",
    "    plt.text(idx-0.5, value+3, value,size=15)\n",
    "plt.xticks(rotation=45)\n",
    "plt.show()"
   ]
  },
  {
   "cell_type": "code",
   "execution_count": 221,
   "metadata": {},
   "outputs": [
    {
     "data": {
      "text/html": [
       "<div>\n",
       "<style scoped>\n",
       "    .dataframe tbody tr th:only-of-type {\n",
       "        vertical-align: middle;\n",
       "    }\n",
       "\n",
       "    .dataframe tbody tr th {\n",
       "        vertical-align: top;\n",
       "    }\n",
       "\n",
       "    .dataframe thead th {\n",
       "        text-align: right;\n",
       "    }\n",
       "</style>\n",
       "<table border=\"1\" class=\"dataframe\">\n",
       "  <thead>\n",
       "    <tr style=\"text-align: right;\">\n",
       "      <th></th>\n",
       "      <th>번호</th>\n",
       "      <th>지역</th>\n",
       "      <th>상호</th>\n",
       "      <th>주소</th>\n",
       "      <th>기간</th>\n",
       "      <th>상표</th>\n",
       "      <th>셀프여부</th>\n",
       "      <th>고급휘발유</th>\n",
       "      <th>휘발유</th>\n",
       "      <th>경유</th>\n",
       "      <th>실내등유</th>\n",
       "      <th>월</th>\n",
       "      <th>일</th>\n",
       "      <th>요일</th>\n",
       "    </tr>\n",
       "  </thead>\n",
       "  <tbody>\n",
       "    <tr>\n",
       "      <th>0</th>\n",
       "      <td>A0006039</td>\n",
       "      <td>강남구</td>\n",
       "      <td>(주)동하힐탑셀프주유소</td>\n",
       "      <td>서울 강남구 논현로 640</td>\n",
       "      <td>2019-01-01</td>\n",
       "      <td>SK에너지</td>\n",
       "      <td>셀프</td>\n",
       "      <td>1673</td>\n",
       "      <td>1465</td>\n",
       "      <td>1365</td>\n",
       "      <td>0</td>\n",
       "      <td>1</td>\n",
       "      <td>1</td>\n",
       "      <td>1</td>\n",
       "    </tr>\n",
       "    <tr>\n",
       "      <th>1</th>\n",
       "      <td>A0006039</td>\n",
       "      <td>강남구</td>\n",
       "      <td>(주)동하힐탑셀프주유소</td>\n",
       "      <td>서울 강남구 논현로 640</td>\n",
       "      <td>2019-01-02</td>\n",
       "      <td>SK에너지</td>\n",
       "      <td>셀프</td>\n",
       "      <td>1673</td>\n",
       "      <td>1465</td>\n",
       "      <td>1365</td>\n",
       "      <td>0</td>\n",
       "      <td>1</td>\n",
       "      <td>2</td>\n",
       "      <td>2</td>\n",
       "    </tr>\n",
       "    <tr>\n",
       "      <th>2</th>\n",
       "      <td>A0006039</td>\n",
       "      <td>강남구</td>\n",
       "      <td>(주)동하힐탑셀프주유소</td>\n",
       "      <td>서울 강남구 논현로 640</td>\n",
       "      <td>2019-01-03</td>\n",
       "      <td>SK에너지</td>\n",
       "      <td>셀프</td>\n",
       "      <td>1673</td>\n",
       "      <td>1465</td>\n",
       "      <td>1365</td>\n",
       "      <td>0</td>\n",
       "      <td>1</td>\n",
       "      <td>3</td>\n",
       "      <td>3</td>\n",
       "    </tr>\n",
       "    <tr>\n",
       "      <th>3</th>\n",
       "      <td>A0006039</td>\n",
       "      <td>강남구</td>\n",
       "      <td>(주)동하힐탑셀프주유소</td>\n",
       "      <td>서울 강남구 논현로 640</td>\n",
       "      <td>2019-01-04</td>\n",
       "      <td>SK에너지</td>\n",
       "      <td>셀프</td>\n",
       "      <td>1673</td>\n",
       "      <td>1465</td>\n",
       "      <td>1365</td>\n",
       "      <td>0</td>\n",
       "      <td>1</td>\n",
       "      <td>4</td>\n",
       "      <td>4</td>\n",
       "    </tr>\n",
       "    <tr>\n",
       "      <th>4</th>\n",
       "      <td>A0006039</td>\n",
       "      <td>강남구</td>\n",
       "      <td>(주)동하힐탑셀프주유소</td>\n",
       "      <td>서울 강남구 논현로 640</td>\n",
       "      <td>2019-01-05</td>\n",
       "      <td>SK에너지</td>\n",
       "      <td>셀프</td>\n",
       "      <td>1673</td>\n",
       "      <td>1465</td>\n",
       "      <td>1365</td>\n",
       "      <td>0</td>\n",
       "      <td>1</td>\n",
       "      <td>5</td>\n",
       "      <td>5</td>\n",
       "    </tr>\n",
       "  </tbody>\n",
       "</table>\n",
       "</div>"
      ],
      "text/plain": [
       "         번호   지역            상호              주소         기간     상표 셀프여부  고급휘발유  \\\n",
       "0  A0006039  강남구  (주)동하힐탑셀프주유소  서울 강남구 논현로 640 2019-01-01  SK에너지   셀프   1673   \n",
       "1  A0006039  강남구  (주)동하힐탑셀프주유소  서울 강남구 논현로 640 2019-01-02  SK에너지   셀프   1673   \n",
       "2  A0006039  강남구  (주)동하힐탑셀프주유소  서울 강남구 논현로 640 2019-01-03  SK에너지   셀프   1673   \n",
       "3  A0006039  강남구  (주)동하힐탑셀프주유소  서울 강남구 논현로 640 2019-01-04  SK에너지   셀프   1673   \n",
       "4  A0006039  강남구  (주)동하힐탑셀프주유소  서울 강남구 논현로 640 2019-01-05  SK에너지   셀프   1673   \n",
       "\n",
       "    휘발유    경유  실내등유  월  일  요일  \n",
       "0  1465  1365     0  1  1   1  \n",
       "1  1465  1365     0  1  2   2  \n",
       "2  1465  1365     0  1  3   3  \n",
       "3  1465  1365     0  1  4   4  \n",
       "4  1465  1365     0  1  5   5  "
      ]
     },
     "execution_count": 221,
     "metadata": {},
     "output_type": "execute_result"
    }
   ],
   "source": [
    "gas.head()"
   ]
  },
  {
   "cell_type": "code",
   "execution_count": 241,
   "metadata": {
    "ExecuteTime": {
     "end_time": "2020-08-16T12:00:23.454390Z",
     "start_time": "2020-08-16T12:00:23.408479Z"
    },
    "scrolled": false
   },
   "outputs": [
    {
     "data": {
      "text/plain": [
       "상표\n",
       "GS칼텍스     2091.866438\n",
       "S-OIL     1783.369863\n",
       "SK에너지     2060.617512\n",
       "알뜰주유소     1601.552743\n",
       "자가상표      1418.859375\n",
       "현대오일뱅크    1711.669903\n",
       "Name: 휘발유, dtype: float64"
      ]
     },
     "execution_count": 241,
     "metadata": {},
     "output_type": "execute_result"
    }
   ],
   "source": [
    "# 중구(평균이 가장높음)의 상표별 휘발유 평균가격\n",
    "gas.loc[gas['지역']=='중구'].groupby('상표')['휘발유'].mean()"
   ]
  },
  {
   "cell_type": "code",
   "execution_count": 248,
   "metadata": {
    "ExecuteTime": {
     "end_time": "2020-08-16T12:00:23.485274Z",
     "start_time": "2020-08-16T12:00:23.456351Z"
    }
   },
   "outputs": [
    {
     "data": {
      "text/plain": [
       "월\n",
       "1     1466.55\n",
       "2     1446.62\n",
       "3     1465.16\n",
       "4     1519.48\n",
       "5     1606.10\n",
       "6     1605.34\n",
       "7     1585.73\n",
       "8     1589.34\n",
       "9     1633.13\n",
       "10    1634.46\n",
       "11    1620.69\n",
       "12    1630.54\n",
       "Name: 휘발유, dtype: float64"
      ]
     },
     "execution_count": 248,
     "metadata": {},
     "output_type": "execute_result"
    }
   ],
   "source": [
    "# 월 평균 휘발유 가격의 평균\n",
    "np.round(gas.groupby('월')['휘발유'].mean(),2)"
   ]
  },
  {
   "cell_type": "code",
   "execution_count": 261,
   "metadata": {},
   "outputs": [
    {
     "data": {
      "text/plain": [
       "array([ 1,  2,  3,  4,  5,  6,  7,  8,  9, 10, 11, 12], dtype=int64)"
      ]
     },
     "execution_count": 261,
     "metadata": {},
     "output_type": "execute_result"
    }
   ],
   "source": [
    "a = gas['월'].unique()\n",
    "a"
   ]
  },
  {
   "cell_type": "code",
   "execution_count": null,
   "metadata": {},
   "outputs": [],
   "source": []
  },
  {
   "cell_type": "code",
   "execution_count": 264,
   "metadata": {
    "ExecuteTime": {
     "end_time": "2020-08-16T12:00:23.668816Z",
     "start_time": "2020-08-16T12:00:23.487268Z"
    }
   },
   "outputs": [
    {
     "data": {
      "image/png": "[encoded data removed]",
      "text/plain": [
       "<Figure size 504x504 with 1 Axes>"
      ]
     },
     "metadata": {
      "needs_background": "light"
     },
     "output_type": "display_data"
    }
   ],
   "source": [
    "# 월별 휘발유 가격 변화 추세 시각화\n",
    "plt.figure(figsize=(7,7))\n",
    "np.round(gas.groupby('월')['휘발유'].mean(),2).plot.line()\n",
    "\n",
    "plt.xticks(gas['월'].unique(),rotation=45)\n",
    "plt.show()"
   ]
  },
  {
   "cell_type": "code",
   "execution_count": 253,
   "metadata": {
    "ExecuteTime": {
     "end_time": "2020-08-16T12:00:23.844341Z",
     "start_time": "2020-08-16T12:00:23.671775Z"
    }
   },
   "outputs": [
    {
     "data": {
      "text/html": [
       "<div>\n",
       "<style scoped>\n",
       "    .dataframe tbody tr th:only-of-type {\n",
       "        vertical-align: middle;\n",
       "    }\n",
       "\n",
       "    .dataframe tbody tr th {\n",
       "        vertical-align: top;\n",
       "    }\n",
       "\n",
       "    .dataframe thead th {\n",
       "        text-align: right;\n",
       "    }\n",
       "</style>\n",
       "<table border=\"1\" class=\"dataframe\">\n",
       "  <thead>\n",
       "    <tr style=\"text-align: right;\">\n",
       "      <th></th>\n",
       "      <th>휘발유</th>\n",
       "    </tr>\n",
       "    <tr>\n",
       "      <th>지역</th>\n",
       "      <th></th>\n",
       "    </tr>\n",
       "  </thead>\n",
       "  <tbody>\n",
       "    <tr>\n",
       "      <th>강남구</th>\n",
       "      <td>1713.093581</td>\n",
       "    </tr>\n",
       "    <tr>\n",
       "      <th>강동구</th>\n",
       "      <td>1576.685264</td>\n",
       "    </tr>\n",
       "    <tr>\n",
       "      <th>강북구</th>\n",
       "      <td>1453.517525</td>\n",
       "    </tr>\n",
       "    <tr>\n",
       "      <th>강서구</th>\n",
       "      <td>1488.818088</td>\n",
       "    </tr>\n",
       "    <tr>\n",
       "      <th>관악구</th>\n",
       "      <td>1518.128564</td>\n",
       "    </tr>\n",
       "    <tr>\n",
       "      <th>광진구</th>\n",
       "      <td>1490.597054</td>\n",
       "    </tr>\n",
       "    <tr>\n",
       "      <th>구로구</th>\n",
       "      <td>1525.410383</td>\n",
       "    </tr>\n",
       "    <tr>\n",
       "      <th>금천구</th>\n",
       "      <td>1477.121992</td>\n",
       "    </tr>\n",
       "    <tr>\n",
       "      <th>노원구</th>\n",
       "      <td>1531.221551</td>\n",
       "    </tr>\n",
       "    <tr>\n",
       "      <th>도봉구</th>\n",
       "      <td>1494.171062</td>\n",
       "    </tr>\n",
       "    <tr>\n",
       "      <th>동대문구</th>\n",
       "      <td>1506.833542</td>\n",
       "    </tr>\n",
       "    <tr>\n",
       "      <th>동작구</th>\n",
       "      <td>1512.470911</td>\n",
       "    </tr>\n",
       "    <tr>\n",
       "      <th>마포구</th>\n",
       "      <td>1689.755616</td>\n",
       "    </tr>\n",
       "    <tr>\n",
       "      <th>서대문구</th>\n",
       "      <td>1528.943332</td>\n",
       "    </tr>\n",
       "    <tr>\n",
       "      <th>서초구</th>\n",
       "      <td>1577.131304</td>\n",
       "    </tr>\n",
       "    <tr>\n",
       "      <th>성동구</th>\n",
       "      <td>1583.659561</td>\n",
       "    </tr>\n",
       "    <tr>\n",
       "      <th>성북구</th>\n",
       "      <td>1507.948267</td>\n",
       "    </tr>\n",
       "    <tr>\n",
       "      <th>송파구</th>\n",
       "      <td>1518.957954</td>\n",
       "    </tr>\n",
       "    <tr>\n",
       "      <th>양천구</th>\n",
       "      <td>1512.890261</td>\n",
       "    </tr>\n",
       "    <tr>\n",
       "      <th>영등포구</th>\n",
       "      <td>1568.279506</td>\n",
       "    </tr>\n",
       "    <tr>\n",
       "      <th>용산구</th>\n",
       "      <td>1882.049825</td>\n",
       "    </tr>\n",
       "    <tr>\n",
       "      <th>은평구</th>\n",
       "      <td>1481.964026</td>\n",
       "    </tr>\n",
       "    <tr>\n",
       "      <th>종로구</th>\n",
       "      <td>1838.554945</td>\n",
       "    </tr>\n",
       "    <tr>\n",
       "      <th>중구</th>\n",
       "      <td>1976.948052</td>\n",
       "    </tr>\n",
       "    <tr>\n",
       "      <th>중랑구</th>\n",
       "      <td>1469.009092</td>\n",
       "    </tr>\n",
       "  </tbody>\n",
       "</table>\n",
       "</div>"
      ],
      "text/plain": [
       "              휘발유\n",
       "지역               \n",
       "강남구   1713.093581\n",
       "강동구   1576.685264\n",
       "강북구   1453.517525\n",
       "강서구   1488.818088\n",
       "관악구   1518.128564\n",
       "광진구   1490.597054\n",
       "구로구   1525.410383\n",
       "금천구   1477.121992\n",
       "노원구   1531.221551\n",
       "도봉구   1494.171062\n",
       "동대문구  1506.833542\n",
       "동작구   1512.470911\n",
       "마포구   1689.755616\n",
       "서대문구  1528.943332\n",
       "서초구   1577.131304\n",
       "성동구   1583.659561\n",
       "성북구   1507.948267\n",
       "송파구   1518.957954\n",
       "양천구   1512.890261\n",
       "영등포구  1568.279506\n",
       "용산구   1882.049825\n",
       "은평구   1481.964026\n",
       "종로구   1838.554945\n",
       "중구    1976.948052\n",
       "중랑구   1469.009092"
      ]
     },
     "execution_count": 253,
     "metadata": {},
     "output_type": "execute_result"
    }
   ],
   "source": [
    "# 각 구의 월별 평균 휘발유 가격 \n",
    "gas.groupby('지역')[['휘발유']].mean()"
   ]
  },
  {
   "cell_type": "code",
   "execution_count": 297,
   "metadata": {},
   "outputs": [
    {
     "data": {
      "text/plain": [
       "25"
      ]
     },
     "execution_count": 297,
     "metadata": {},
     "output_type": "execute_result"
    }
   ],
   "source": [
    "gas['지역'].unique().size"
   ]
  },
  {
   "cell_type": "code",
   "execution_count": 305,
   "metadata": {
    "ExecuteTime": {
     "end_time": "2020-08-16T12:00:24.291151Z",
     "start_time": "2020-08-16T12:00:23.846309Z"
    }
   },
   "outputs": [
    {
     "data": {
      "image/png": "[encoded data removed]",
      "text/plain": [
       "<Figure size 1080x720 with 1 Axes>"
      ]
     },
     "metadata": {
      "needs_background": "light"
     },
     "output_type": "display_data"
    }
   ],
   "source": [
    "# 각 구의 월별 평균가격의 변화추이 시각화\n",
    "#plt.figure(figsize=(50,10))\n",
    "gas.groupby('지역')[['휘발유']].mean().plot.line(figsize=(15,10))\n",
    "plt.xticks(ticks=range(gas['지역'].unique().size),labels=gas['지역'].unique(), rotation=90)\n",
    "plt.show()"
   ]
  },
  {
   "cell_type": "code",
   "execution_count": 284,
   "metadata": {
    "ExecuteTime": {
     "end_time": "2020-08-16T12:00:24.339023Z",
     "start_time": "2020-08-16T12:00:24.293112Z"
    },
    "scrolled": true
   },
   "outputs": [],
   "source": [
    "# 가장 휘발유가격이 비싼 주유소 상위 5 "
   ]
  },
  {
   "cell_type": "code",
   "execution_count": null,
   "metadata": {
    "ExecuteTime": {
     "end_time": "2020-08-16T12:00:24.434734Z",
     "start_time": "2020-08-16T12:00:24.340986Z"
    },
    "scrolled": true
   },
   "outputs": [],
   "source": [
    "# 가장 휘발유가격이 저렴한 주유소 상위 5 "
   ]
  },
  {
   "cell_type": "code",
   "execution_count": null,
   "metadata": {
    "ExecuteTime": {
     "end_time": "2020-08-16T12:00:24.510531Z",
     "start_time": "2020-08-16T12:00:24.439725Z"
    }
   },
   "outputs": [],
   "source": [
    "# 휘발유 비싼 주유소의 상위 5개의 상호, 지역, 주소 조회(중복제거-drop_duplicates())\n"
   ]
  },
  {
   "cell_type": "code",
   "execution_count": null,
   "metadata": {
    "ExecuteTime": {
     "end_time": "2020-08-16T12:00:24.587326Z",
     "start_time": "2020-08-16T12:00:24.515518Z"
    }
   },
   "outputs": [],
   "source": [
    "# 휘발유 저렴한 주유소의 상위 5개의 상호, 지역, 주소 조회(중복제거)\n"
   ]
  },
  {
   "cell_type": "code",
   "execution_count": null,
   "metadata": {},
   "outputs": [],
   "source": []
  },
  {
   "cell_type": "code",
   "execution_count": null,
   "metadata": {},
   "outputs": [],
   "source": []
  },
  {
   "cell_type": "code",
   "execution_count": null,
   "metadata": {},
   "outputs": [],
   "source": []
  },
  {
   "cell_type": "code",
   "execution_count": null,
   "metadata": {},
   "outputs": [],
   "source": []
  },
  {
   "cell_type": "code",
   "execution_count": null,
   "metadata": {},
   "outputs": [],
   "source": []
  },
  {
   "cell_type": "code",
   "execution_count": null,
   "metadata": {},
   "outputs": [],
   "source": []
  }
 ],
 "metadata": {
  "kernelspec": {
   "display_name": "Python 3",
   "language": "python",
   "name": "python3"
  },
  "language_info": {
   "codemirror_mode": {
    "name": "ipython",
    "version": 3
   },
   "file_extension": ".py",
   "mimetype": "text/x-python",
   "name": "python",
   "nbconvert_exporter": "python",
   "pygments_lexer": "ipython3",
   "version": "3.8.5"
  },
  "toc": {
   "base_numbering": 1,
   "nav_menu": {},
   "number_sections": true,
   "sideBar": true,
   "skip_h1_title": false,
   "title_cell": "Table of Contents",
   "title_sidebar": "Contents",
   "toc_cell": false,
   "toc_position": {},
   "toc_section_display": true,
   "toc_window_display": false
  },
  "varInspector": {
   "cols": {
    "lenName": 16,
    "lenType": 16,
    "lenVar": 40
   },
   "kernels_config": {
    "python": {
     "delete_cmd_postfix": "",
     "delete_cmd_prefix": "del ",
     "library": "var_list.py",
     "varRefreshCmd": "print(var_dic_list())"
    },
    "r": {
     "delete_cmd_postfix": ") ",
     "delete_cmd_prefix": "rm(",
     "library": "var_list.r",
     "varRefreshCmd": "cat(var_dic_list()) "
    }
   },
   "types_to_exclude": [
    "module",
    "function",
    "builtin_function_or_method",
    "instance",
    "_Feature"
   ],
   "window_display": false
  }
 },
 "nbformat": 4,
 "nbformat_minor": 4
}
