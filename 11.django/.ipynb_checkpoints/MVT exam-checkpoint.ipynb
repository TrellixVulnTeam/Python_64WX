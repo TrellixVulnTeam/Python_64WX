{
 "cells": [
  {
   "cell_type": "code",
   "execution_count": 2,
   "id": "6ded2668",
   "metadata": {},
   "outputs": [],
   "source": [
    "# 나눗셈 함수\n",
    "# 두개의 값을 받아서 나눈다음에 결과를 올림(ceil)해서 출력\n",
    "import math\n",
    "def divide(num1, num2):\n",
    "    #파라미터값 변환/검증\n",
    "    # 변환(num1, num2를 int(정수)로 변환)\n",
    "    num1, num2 = int(num1), int(num2)\n",
    "    # num2가 0인지 확인 -> 0 일 경우 예외 발생 ==> 파라미터 검증\n",
    "    if num2 == 0:\n",
    "        raise Exception(\"0으로 나눌수 없습니다.\")\n",
    "    # 나누고 올림 작업 - business logic (DB=>Model)\n",
    "    result = num1/num2\n",
    "    result = math.ceil(result)\n",
    "\n",
    "    # 결과 출력\n",
    "    print(\"=\"*50)\n",
    "    print(\"나누기 결과는 올림해서 정수로 출력합니다.\")\n",
    "    print(\"결과 : {}\".format(result))\n",
    "    print(\"=\" * 50)"
   ]
  },
  {
   "cell_type": "code",
   "execution_count": null,
   "id": "5d49db4c",
   "metadata": {},
   "outputs": [],
   "source": []
  },
  {
   "cell_type": "code",
   "execution_count": null,
   "id": "cce5a1e8",
   "metadata": {},
   "outputs": [],
   "source": []
  },
  {
   "cell_type": "code",
   "execution_count": 3,
   "id": "ac02f2a5",
   "metadata": {},
   "outputs": [],
   "source": [
    "def validator(num1, num2):\n",
    "    #파라미터값 변환/검증\n",
    "    #변환(num1,num2를 int(정수)로 변환)\n",
    "    num1, num2 = int(num1), int(num2)\n",
    "    # num2가 0인지 확인 -> 0 일 경우 예외 발생 ==> 파라미터 검증\n",
    "    if num2 == 0:\n",
    "        raise Exception(\"0으로 나눌수 없습니다.\")\n",
    "    return num1, num2"
   ]
  },
  {
   "cell_type": "code",
   "execution_count": 4,
   "id": "23c02920",
   "metadata": {},
   "outputs": [],
   "source": [
    "def Model(num1, num2):\n",
    "    # 나누고 올림 작업 - business logic (DB=>Model)\n",
    "    result = num1 / num2\n",
    "    result = math.ceil(result)\n",
    "    return result"
   ]
  },
  {
   "cell_type": "code",
   "execution_count": 5,
   "id": "168e0e70",
   "metadata": {},
   "outputs": [],
   "source": [
    "def Template(result):\n",
    "    # 결과 출력\n",
    "    print(\"=\"*50)\n",
    "    print(\"결과는 올림해서 정수로 출력합니다.\")\n",
    "    print(\"결과 : {}\".format(result))\n",
    "    print(\"=\" * 50)"
   ]
  },
  {
   "cell_type": "code",
   "execution_count": 6,
   "id": "feb272dc",
   "metadata": {},
   "outputs": [],
   "source": [
    "def divideView(num1, num2):\n",
    "    num1, num2 = validator(num1, num2)\n",
    "    result = Model(num1,num2)\n",
    "    Template(result)"
   ]
  },
  {
   "cell_type": "code",
   "execution_count": 7,
   "id": "fde61db4",
   "metadata": {},
   "outputs": [],
   "source": [
    "def plusView(num1, num2):\n",
    "    num1, num2 = validator(num1, num2)\n",
    "    result = PlusModel(num1,num2)\n",
    "    Template(result)"
   ]
  },
  {
   "cell_type": "code",
   "execution_count": 8,
   "id": "c1452d1b",
   "metadata": {},
   "outputs": [],
   "source": [
    "def PlusModel(num1, num2):\n",
    "    # 나누고 올림 작업 - business logic (DB=>Model)\n",
    "    result = num1 + num2\n",
    "    result = math.ceil(result)\n",
    "    return result"
   ]
  },
  {
   "cell_type": "code",
   "execution_count": 9,
   "id": "e66bba74",
   "metadata": {},
   "outputs": [
    {
     "name": "stdout",
     "output_type": "stream",
     "text": [
      "==================================================\n",
      "결과는 올림해서 정수로 출력합니다.\n",
      "결과 : 12\n",
      "==================================================\n"
     ]
    }
   ],
   "source": [
    "plusView(10,2)"
   ]
  },
  {
   "cell_type": "code",
   "execution_count": 10,
   "id": "16f02729",
   "metadata": {
    "scrolled": true
   },
   "outputs": [
    {
     "name": "stdout",
     "output_type": "stream",
     "text": [
      "==================================================\n",
      "결과는 올림해서 정수로 출력합니다.\n",
      "결과 : 5\n",
      "==================================================\n"
     ]
    }
   ],
   "source": [
    "divideView(10,2)"
   ]
  },
  {
   "cell_type": "code",
   "execution_count": null,
   "id": "42e624c8",
   "metadata": {},
   "outputs": [],
   "source": []
  },
  {
   "cell_type": "code",
   "execution_count": null,
   "id": "373cdb31",
   "metadata": {},
   "outputs": [],
   "source": []
  },
  {
   "cell_type": "code",
   "execution_count": null,
   "id": "34be9b77",
   "metadata": {},
   "outputs": [],
   "source": []
  },
  {
   "cell_type": "code",
   "execution_count": null,
   "id": "c22bdd2a",
   "metadata": {},
   "outputs": [],
   "source": []
  },
  {
   "cell_type": "code",
   "execution_count": null,
   "id": "1bd70aa7",
   "metadata": {},
   "outputs": [],
   "source": []
  },
  {
   "cell_type": "code",
   "execution_count": null,
   "id": "6b59cb74",
   "metadata": {},
   "outputs": [],
   "source": []
  },
  {
   "cell_type": "code",
   "execution_count": null,
   "id": "2f89a6a0",
   "metadata": {},
   "outputs": [],
   "source": []
  },
  {
   "cell_type": "code",
   "execution_count": null,
   "id": "4c631367",
   "metadata": {},
   "outputs": [],
   "source": []
  },
  {
   "cell_type": "code",
   "execution_count": null,
   "id": "ec53e595",
   "metadata": {},
   "outputs": [],
   "source": []
  },
  {
   "cell_type": "code",
   "execution_count": null,
   "id": "0dc57242",
   "metadata": {},
   "outputs": [],
   "source": []
  },
  {
   "cell_type": "code",
   "execution_count": null,
   "id": "e0cbd1a4",
   "metadata": {},
   "outputs": [],
   "source": []
  },
  {
   "cell_type": "code",
   "execution_count": null,
   "id": "ca5e9992",
   "metadata": {},
   "outputs": [],
   "source": []
  }
 ],
 "metadata": {
  "kernelspec": {
   "display_name": "Python 3",
   "language": "python",
   "name": "python3"
  },
  "language_info": {
   "codemirror_mode": {
    "name": "ipython",
    "version": 3
   },
   "file_extension": ".py",
   "mimetype": "text/x-python",
   "name": "python",
   "nbconvert_exporter": "python",
   "pygments_lexer": "ipython3",
   "version": "3.8.10"
  }
 },
 "nbformat": 4,
 "nbformat_minor": 5
}
