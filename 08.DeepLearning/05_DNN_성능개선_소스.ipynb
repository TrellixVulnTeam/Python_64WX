{
 "cells": [
  {
   "cell_type": "code",
   "execution_count": 3,
   "metadata": {
    "executionInfo": {
     "elapsed": 1964,
     "status": "ok",
     "timestamp": 1619071311375,
     "user": {
      "displayName": "Young-il Shin",
      "photoUrl": "",
      "userId": "16669823151846080287"
     },
     "user_tz": -540
    },
    "id": "w_Ri2tqaC1MO"
   },
   "outputs": [],
   "source": [
    "import numpy as np\n",
    "import matplotlib.pyplot as plt\n",
    "import tensorflow as tf\n",
    "from tensorflow import keras\n"
   ]
  },
  {
   "cell_type": "code",
   "execution_count": 4,
   "metadata": {
    "executionInfo": {
     "elapsed": 563,
     "status": "ok",
     "timestamp": 1619071313717,
     "user": {
      "displayName": "Young-il Shin",
      "photoUrl": "",
      "userId": "16669823151846080287"
     },
     "user_tz": -540
    },
    "id": "OXcEAssrKz4N"
   },
   "outputs": [],
   "source": [
    "keras.callbacks?"
   ]
  },
  {
   "cell_type": "code",
   "execution_count": null,
   "metadata": {
    "id": "rrCS0BYhDKtZ"
   },
   "outputs": [],
   "source": [
    "keras.callbacks.LearningRateScheduler?"
   ]
  },
  {
   "cell_type": "code",
   "execution_count": null,
   "metadata": {
    "colab": {
     "base_uri": "https://localhost:8080/",
     "height": 35
    },
    "executionInfo": {
     "elapsed": 2912,
     "status": "ok",
     "timestamp": 1618984435993,
     "user": {
      "displayName": "Young-il Shin",
      "photoUrl": "",
      "userId": "16669823151846080287"
     },
     "user_tz": -540
    },
    "id": "3GnnTHMXPU_m",
    "outputId": "dd221ae5-54bc-4856-981b-45ecdb3288d9"
   },
   "outputs": [
    {
     "data": {
      "application/vnd.google.colaboratory.intrinsic+json": {
       "type": "string"
      },
      "text/plain": [
       "'1.19.5'"
      ]
     },
     "execution_count": 3,
     "metadata": {
      "tags": []
     },
     "output_type": "execute_result"
    }
   ],
   "source": [
    "np.__version__"
   ]
  },
  {
   "cell_type": "code",
   "execution_count": null,
   "metadata": {
    "colab": {
     "base_uri": "https://localhost:8080/",
     "height": 35
    },
    "executionInfo": {
     "elapsed": 2909,
     "status": "ok",
     "timestamp": 1618984435994,
     "user": {
      "displayName": "Young-il Shin",
      "photoUrl": "",
      "userId": "16669823151846080287"
     },
     "user_tz": -540
    },
    "id": "owO8vzzcPXhj",
    "outputId": "1a5fae20-ab38-413b-a780-53cd94a6571c"
   },
   "outputs": [
    {
     "data": {
      "application/vnd.google.colaboratory.intrinsic+json": {
       "type": "string"
      },
      "text/plain": [
       "'2.4.1'"
      ]
     },
     "execution_count": 4,
     "metadata": {
      "tags": []
     },
     "output_type": "execute_result"
    }
   ],
   "source": [
    "tf.__version__"
   ]
  },
  {
   "cell_type": "code",
   "execution_count": null,
   "metadata": {
    "id": "bZgA9cSFC1MT"
   },
   "outputs": [],
   "source": [
    "np.random.seed(1)\n",
    "tf.random.set_seed(1)"
   ]
  },
  {
   "cell_type": "code",
   "execution_count": null,
   "metadata": {
    "id": "GvOLbi3kC1MU"
   },
   "outputs": [],
   "source": [
    "def plot_result(history, ymin=None, ymax=None):\n",
    "    plt.figure(figsize=(15,7))\n",
    "    plt.subplot(1,2,1)\n",
    "    plt.plot(range(1, N_EPOCHS+1), history.history['loss'], label='train_loss')\n",
    "    plt.plot(range(1, N_EPOCHS+1), history.history['val_loss'], label='validation_loss')\n",
    "    plt.title('Loss')\n",
    "    plt.xlabel('Epochs')\n",
    "    plt.ylabel('Loss')\n",
    "    if ymin!=None and ymax!=None:\n",
    "        plt.ylim(ymin,ymax)\n",
    "    plt.legend()\n",
    "\n",
    "    plt.subplot(1,2,2)\n",
    "    plt.plot(range(1, N_EPOCHS+1), history.history['accuracy'], label='train_accuracy')\n",
    "    plt.plot(range(1, N_EPOCHS+1), history.history['val_accuracy'], label='validation_acurracy')\n",
    "    plt.title('Accuracy')\n",
    "    plt.xlabel('Epochs')\n",
    "    plt.ylabel('Accuracy')\n",
    "    if ymin!=None and ymax!=None:\n",
    "        plt.ylim(ymin,ymax)\n",
    "    plt.legend()\n",
    "\n",
    "    plt.tight_layout()\n",
    "    plt.show()"
   ]
  },
  {
   "cell_type": "code",
   "execution_count": null,
   "metadata": {
    "id": "n073jTDfC1MV"
   },
   "outputs": [],
   "source": [
    "# 하이퍼 파라미터\n",
    "LEARNING_RATE = 0.001\n",
    "N_EPOCHS = 20\n",
    "N_BATCHS = 100"
   ]
  },
  {
   "cell_type": "code",
   "execution_count": null,
   "metadata": {
    "colab": {
     "base_uri": "https://localhost:8080/"
    },
    "executionInfo": {
     "elapsed": 3788,
     "status": "ok",
     "timestamp": 1618984436881,
     "user": {
      "displayName": "Young-il Shin",
      "photoUrl": "",
      "userId": "16669823151846080287"
     },
     "user_tz": -540
    },
    "id": "Lnp2cgosC1MV",
    "outputId": "4897fbc1-e2a5-4c45-cdb8-d74fd2f8c0b1"
   },
   "outputs": [
    {
     "name": "stdout",
     "output_type": "stream",
     "text": [
      "Downloading data from https://storage.googleapis.com/tensorflow/tf-keras-datasets/mnist.npz\n",
      "11493376/11490434 [==============================] - 0s 0us/step\n"
     ]
    },
    {
     "data": {
      "text/plain": [
       "((60000, 28, 28), (10000, 28, 28))"
      ]
     },
     "execution_count": 8,
     "metadata": {
      "tags": []
     },
     "output_type": "execute_result"
    }
   ],
   "source": [
    "# Data loading 및 Dataset 생성\n",
    "(train_image, train_label), (test_image, test_label) = keras.datasets.mnist.load_data()\n",
    "train_image.shape, test_image.shape\n"
   ]
  },
  {
   "cell_type": "code",
   "execution_count": null,
   "metadata": {
    "id": "ikzN_rWNC1MW"
   },
   "outputs": [],
   "source": [
    "N_TRAIN = train_image.shape[0]\n",
    "N_TEST = test_image.shape[0]\n",
    "IMAGE_SIZE = 28\n",
    "N_CLASS = 10\n"
   ]
  },
  {
   "cell_type": "code",
   "execution_count": null,
   "metadata": {
    "id": "QiVtfCtdC1MW"
   },
   "outputs": [],
   "source": [
    "X_train = train_image/255.\n",
    "X_test = test_image/255.\n",
    "y_train = keras.utils.to_categorical(train_label)\n",
    "y_test = keras.utils.to_categorical(test_label)"
   ]
  },
  {
   "cell_type": "code",
   "execution_count": null,
   "metadata": {
    "colab": {
     "base_uri": "https://localhost:8080/"
    },
    "executionInfo": {
     "elapsed": 3776,
     "status": "ok",
     "timestamp": 1618984436882,
     "user": {
      "displayName": "Young-il Shin",
      "photoUrl": "",
      "userId": "16669823151846080287"
     },
     "user_tz": -540
    },
    "id": "w6zFg4e8C1MW",
    "outputId": "befdbdb1-0a18-428b-f0be-0ac2761f7386"
   },
   "outputs": [
    {
     "data": {
      "text/plain": [
       "5"
      ]
     },
     "execution_count": 11,
     "metadata": {
      "tags": []
     },
     "output_type": "execute_result"
    }
   ],
   "source": [
    "train_label[0]\n"
   ]
  },
  {
   "cell_type": "code",
   "execution_count": null,
   "metadata": {
    "colab": {
     "base_uri": "https://localhost:8080/"
    },
    "executionInfo": {
     "elapsed": 3772,
     "status": "ok",
     "timestamp": 1618984436882,
     "user": {
      "displayName": "Young-il Shin",
      "photoUrl": "",
      "userId": "16669823151846080287"
     },
     "user_tz": -540
    },
    "id": "NXHXC1EOC1MW",
    "outputId": "f51634a4-3c72-4b7b-9632-2fafb9bdfe54"
   },
   "outputs": [
    {
     "data": {
      "text/plain": [
       "array([0., 0., 0., 0., 0., 1., 0., 0., 0., 0.], dtype=float32)"
      ]
     },
     "execution_count": 12,
     "metadata": {
      "tags": []
     },
     "output_type": "execute_result"
    }
   ],
   "source": [
    "y_train[0]"
   ]
  },
  {
   "cell_type": "code",
   "execution_count": null,
   "metadata": {
    "id": "_UbO7MDUC1MX"
   },
   "outputs": [],
   "source": [
    "# Dataset\n",
    "train_dataset = tf.data.Dataset.from_tensor_slices((X_train, y_train)).shuffle(N_TRAIN).batch(N_BATCHS, drop_remainder=True).repeat()\n",
    "val_dataset = tf.data.Dataset.from_tensor_slices((X_test, y_test)).batch(N_BATCHS)"
   ]
  },
  {
   "cell_type": "code",
   "execution_count": null,
   "metadata": {
    "id": "OHZxTCkrC1MX"
   },
   "outputs": [],
   "source": [
    "steps_per_epoch = N_TRAIN // N_BATCHS\n",
    "validation_steps = int(np.ceil(N_TEST/N_BATCHS))"
   ]
  },
  {
   "cell_type": "code",
   "execution_count": null,
   "metadata": {
    "colab": {
     "base_uri": "https://localhost:8080/"
    },
    "executionInfo": {
     "elapsed": 8852,
     "status": "ok",
     "timestamp": 1618984441969,
     "user": {
      "displayName": "Young-il Shin",
      "photoUrl": "",
      "userId": "16669823151846080287"
     },
     "user_tz": -540
    },
    "id": "_n9_7ZpiC1MX",
    "outputId": "7952308c-1358-4987-9cb5-88f2529e4fb1"
   },
   "outputs": [
    {
     "data": {
      "text/plain": [
       "600"
      ]
     },
     "execution_count": 15,
     "metadata": {
      "tags": []
     },
     "output_type": "execute_result"
    }
   ],
   "source": [
    "steps_per_epoch"
   ]
  },
  {
   "cell_type": "markdown",
   "metadata": {
    "id": "mH5jEhk3C1MX"
   },
   "source": [
    "## 모델의 크기 변경"
   ]
  },
  {
   "cell_type": "code",
   "execution_count": null,
   "metadata": {
    "id": "p5BXazj_C1MY"
   },
   "outputs": [],
   "source": [
    "# 작은모델 => layer층, units의 수가 적은것.\n",
    "def create_model():\n",
    "    model = keras.Sequential()\n",
    "    model.add(keras.layers.Input((IMAGE_SIZE,IMAGE_SIZE)))\n",
    "    model.add(keras.layers.Flatten()) # 1차원으로 변경\n",
    "    \n",
    "    # Hidden layer\n",
    "    model.add(keras.layers.Dense(8,activation='relu'))\n",
    "    \n",
    "    # Output layer\n",
    "    model.add(keras.layers.Dense(N_CLASS, activation='softmax'))\n",
    "    \n",
    "    # Compile\n",
    "    model.compile(optimizer=keras.optimizers.Adam(learning_rate=LEARNING_RATE),\n",
    "                  loss='categorical_crossentropy',\n",
    "                  metrics=['accuracy'])\n",
    "    return model"
   ]
  },
  {
   "cell_type": "code",
   "execution_count": null,
   "metadata": {
    "colab": {
     "base_uri": "https://localhost:8080/"
    },
    "executionInfo": {
     "elapsed": 8840,
     "status": "ok",
     "timestamp": 1618984441969,
     "user": {
      "displayName": "Young-il Shin",
      "photoUrl": "",
      "userId": "16669823151846080287"
     },
     "user_tz": -540
    },
    "id": "mOoeozcaC1MY",
    "outputId": "eee6b10b-c334-4c86-b5e0-0433365c251f"
   },
   "outputs": [
    {
     "name": "stdout",
     "output_type": "stream",
     "text": [
      "Model: \"sequential\"\n",
      "_________________________________________________________________\n",
      "Layer (type)                 Output Shape              Param #   \n",
      "=================================================================\n",
      "flatten (Flatten)            (None, 784)               0         \n",
      "_________________________________________________________________\n",
      "dense (Dense)                (None, 8)                 6280      \n",
      "_________________________________________________________________\n",
      "dense_1 (Dense)              (None, 10)                90        \n",
      "=================================================================\n",
      "Total params: 6,370\n",
      "Trainable params: 6,370\n",
      "Non-trainable params: 0\n",
      "_________________________________________________________________\n"
     ]
    }
   ],
   "source": [
    "model = create_model()\n",
    "model.summary()"
   ]
  },
  {
   "cell_type": "code",
   "execution_count": null,
   "metadata": {
    "colab": {
     "base_uri": "https://localhost:8080/"
    },
    "executionInfo": {
     "elapsed": 46917,
     "status": "ok",
     "timestamp": 1618984480049,
     "user": {
      "displayName": "Young-il Shin",
      "photoUrl": "",
      "userId": "16669823151846080287"
     },
     "user_tz": -540
    },
    "id": "g4d_JKGwC1MY",
    "outputId": "81cb944f-2a21-4a1b-fc05-e0bd676f6f1c"
   },
   "outputs": [
    {
     "name": "stdout",
     "output_type": "stream",
     "text": [
      "Epoch 1/20\n",
      "600/600 [==============================] - 5s 3ms/step - loss: 1.3855 - accuracy: 0.5793 - val_loss: 0.4234 - val_accuracy: 0.8837\n",
      "Epoch 2/20\n",
      "600/600 [==============================] - 2s 3ms/step - loss: 0.4011 - accuracy: 0.8877 - val_loss: 0.3323 - val_accuracy: 0.9096\n",
      "Epoch 3/20\n",
      "600/600 [==============================] - 2s 3ms/step - loss: 0.3259 - accuracy: 0.9069 - val_loss: 0.3055 - val_accuracy: 0.9150\n",
      "Epoch 4/20\n",
      "600/600 [==============================] - 2s 3ms/step - loss: 0.3025 - accuracy: 0.9154 - val_loss: 0.2922 - val_accuracy: 0.9191\n",
      "Epoch 5/20\n",
      "600/600 [==============================] - 2s 3ms/step - loss: 0.2817 - accuracy: 0.9201 - val_loss: 0.2804 - val_accuracy: 0.9227\n",
      "Epoch 6/20\n",
      "600/600 [==============================] - 2s 3ms/step - loss: 0.2820 - accuracy: 0.9208 - val_loss: 0.2761 - val_accuracy: 0.9239\n",
      "Epoch 7/20\n",
      "600/600 [==============================] - 2s 3ms/step - loss: 0.2704 - accuracy: 0.9244 - val_loss: 0.2732 - val_accuracy: 0.9239\n",
      "Epoch 8/20\n",
      "600/600 [==============================] - 2s 3ms/step - loss: 0.2655 - accuracy: 0.9268 - val_loss: 0.2717 - val_accuracy: 0.9231\n",
      "Epoch 9/20\n",
      "600/600 [==============================] - 2s 3ms/step - loss: 0.2604 - accuracy: 0.9270 - val_loss: 0.2640 - val_accuracy: 0.9271\n",
      "Epoch 10/20\n",
      "600/600 [==============================] - 2s 3ms/step - loss: 0.2523 - accuracy: 0.9285 - val_loss: 0.2616 - val_accuracy: 0.9261\n",
      "Epoch 11/20\n",
      "600/600 [==============================] - 2s 3ms/step - loss: 0.2516 - accuracy: 0.9286 - val_loss: 0.2585 - val_accuracy: 0.9282\n",
      "Epoch 12/20\n",
      "600/600 [==============================] - 2s 3ms/step - loss: 0.2420 - accuracy: 0.9318 - val_loss: 0.2596 - val_accuracy: 0.9271\n",
      "Epoch 13/20\n",
      "600/600 [==============================] - 2s 3ms/step - loss: 0.2482 - accuracy: 0.9319 - val_loss: 0.2599 - val_accuracy: 0.9260\n",
      "Epoch 14/20\n",
      "600/600 [==============================] - 2s 3ms/step - loss: 0.2372 - accuracy: 0.9335 - val_loss: 0.2546 - val_accuracy: 0.9277\n",
      "Epoch 15/20\n",
      "600/600 [==============================] - 2s 3ms/step - loss: 0.2331 - accuracy: 0.9348 - val_loss: 0.2593 - val_accuracy: 0.9255\n",
      "Epoch 16/20\n",
      "600/600 [==============================] - 2s 3ms/step - loss: 0.2364 - accuracy: 0.9335 - val_loss: 0.2546 - val_accuracy: 0.9283\n",
      "Epoch 17/20\n",
      "600/600 [==============================] - 2s 3ms/step - loss: 0.2362 - accuracy: 0.9329 - val_loss: 0.2518 - val_accuracy: 0.9285\n",
      "Epoch 18/20\n",
      "600/600 [==============================] - 2s 3ms/step - loss: 0.2276 - accuracy: 0.9369 - val_loss: 0.2521 - val_accuracy: 0.9292\n",
      "Epoch 19/20\n",
      "600/600 [==============================] - 2s 3ms/step - loss: 0.2333 - accuracy: 0.9339 - val_loss: 0.2512 - val_accuracy: 0.9280\n",
      "Epoch 20/20\n",
      "600/600 [==============================] - 2s 3ms/step - loss: 0.2337 - accuracy: 0.9352 - val_loss: 0.2550 - val_accuracy: 0.9278\n"
     ]
    }
   ],
   "source": [
    "# 학습\n",
    "history = model.fit(train_dataset,\n",
    "                    epochs=N_EPOCHS,\n",
    "                    steps_per_epoch=steps_per_epoch,\n",
    "                    validation_data = val_dataset,\n",
    "                    validation_steps=validation_steps)"
   ]
  },
  {
   "cell_type": "code",
   "execution_count": null,
   "metadata": {
    "colab": {
     "base_uri": "https://localhost:8080/",
     "height": 513
    },
    "executionInfo": {
     "elapsed": 48002,
     "status": "ok",
     "timestamp": 1618984481138,
     "user": {
      "displayName": "Young-il Shin",
      "photoUrl": "",
      "userId": "16669823151846080287"
     },
     "user_tz": -540
    },
    "id": "q_PaDloOC1MY",
    "outputId": "bdda9de0-962b-4827-a8ac-0ffe2c020aa7",
    "scrolled": false
   },
   "outputs": [
    {
     "data": {
      "image/png": "[encoded data removed]",
      "text/plain": [
       "<Figure size 1080x504 with 2 Axes>"
      ]
     },
     "metadata": {
      "needs_background": "light",
      "tags": []
     },
     "output_type": "display_data"
    }
   ],
   "source": [
    "plot_result(history)"
   ]
  },
  {
   "cell_type": "code",
   "execution_count": null,
   "metadata": {
    "id": "qSybl3cnC1MZ"
   },
   "outputs": [],
   "source": []
  },
  {
   "cell_type": "code",
   "execution_count": null,
   "metadata": {
    "id": "Sx090Ok7C1MZ"
   },
   "outputs": [],
   "source": [
    "# 큰모델\n",
    "# hidden layer : 4 - 256, 256, 128, 128\n",
    "def create_model():\n",
    "    model = keras.Sequential()\n",
    "    model.add(keras.layers.Input((IMAGE_SIZE,IMAGE_SIZE)))\n",
    "    model.add(keras.layers.Flatten()) # 1차원으로 변경\n",
    "    \n",
    "    # Hidden layer\n",
    "    model.add(keras.layers.Dense(512,activation='relu'))\n",
    "    model.add(keras.layers.Dense(256,activation='relu'))\n",
    "    model.add(keras.layers.Dense(128,activation='relu'))\n",
    "    model.add(keras.layers.Dense(128,activation='relu'))\n",
    "\n",
    "    \n",
    "    \n",
    "    # Output layer\n",
    "    model.add(keras.layers.Dense(N_CLASS, activation='softmax'))\n",
    "    \n",
    "    # Compile\n",
    "    model.compile(optimizer=keras.optimizers.Adam(learning_rate=LEARNING_RATE),\n",
    "                  loss='categorical_crossentropy',\n",
    "                  metrics=['accuracy'])\n",
    "    return model"
   ]
  },
  {
   "cell_type": "code",
   "execution_count": null,
   "metadata": {
    "id": "HlU2yU3IC1MZ"
   },
   "outputs": [],
   "source": [
    "model = create_model()"
   ]
  },
  {
   "cell_type": "code",
   "execution_count": null,
   "metadata": {
    "colab": {
     "base_uri": "https://localhost:8080/"
    },
    "executionInfo": {
     "elapsed": 47992,
     "status": "ok",
     "timestamp": 1618984481139,
     "user": {
      "displayName": "Young-il Shin",
      "photoUrl": "",
      "userId": "16669823151846080287"
     },
     "user_tz": -540
    },
    "id": "iJEmQiKEC1MZ",
    "outputId": "78ef0827-0f39-49c9-f55a-8100938ba4a9"
   },
   "outputs": [
    {
     "name": "stdout",
     "output_type": "stream",
     "text": [
      "Model: \"sequential_1\"\n",
      "_________________________________________________________________\n",
      "Layer (type)                 Output Shape              Param #   \n",
      "=================================================================\n",
      "flatten_1 (Flatten)          (None, 784)               0         \n",
      "_________________________________________________________________\n",
      "dense_2 (Dense)              (None, 512)               401920    \n",
      "_________________________________________________________________\n",
      "dense_3 (Dense)              (None, 256)               131328    \n",
      "_________________________________________________________________\n",
      "dense_4 (Dense)              (None, 128)               32896     \n",
      "_________________________________________________________________\n",
      "dense_5 (Dense)              (None, 128)               16512     \n",
      "_________________________________________________________________\n",
      "dense_6 (Dense)              (None, 10)                1290      \n",
      "=================================================================\n",
      "Total params: 583,946\n",
      "Trainable params: 583,946\n",
      "Non-trainable params: 0\n",
      "_________________________________________________________________\n"
     ]
    }
   ],
   "source": [
    "model.summary()"
   ]
  },
  {
   "cell_type": "code",
   "execution_count": null,
   "metadata": {
    "colab": {
     "base_uri": "https://localhost:8080/"
    },
    "executionInfo": {
     "elapsed": 97294,
     "status": "ok",
     "timestamp": 1618984530445,
     "user": {
      "displayName": "Young-il Shin",
      "photoUrl": "",
      "userId": "16669823151846080287"
     },
     "user_tz": -540
    },
    "id": "sg13tYzXC1MZ",
    "outputId": "0f31d8ea-8e23-41a3-f3cf-c7675f56eb7a"
   },
   "outputs": [
    {
     "name": "stdout",
     "output_type": "stream",
     "text": [
      "Epoch 1/20\n",
      "600/600 [==============================] - 2s 3ms/step - loss: 0.4465 - accuracy: 0.8715 - val_loss: 0.1145 - val_accuracy: 0.9636\n",
      "Epoch 2/20\n",
      "600/600 [==============================] - 2s 4ms/step - loss: 0.0934 - accuracy: 0.9709 - val_loss: 0.0837 - val_accuracy: 0.9727\n",
      "Epoch 3/20\n",
      "600/600 [==============================] - 3s 4ms/step - loss: 0.0560 - accuracy: 0.9823 - val_loss: 0.0766 - val_accuracy: 0.9758\n",
      "Epoch 4/20\n",
      "600/600 [==============================] - 2s 4ms/step - loss: 0.0451 - accuracy: 0.9860 - val_loss: 0.0926 - val_accuracy: 0.9724\n",
      "Epoch 5/20\n",
      "600/600 [==============================] - 2s 4ms/step - loss: 0.0384 - accuracy: 0.9877 - val_loss: 0.0880 - val_accuracy: 0.9747\n",
      "Epoch 6/20\n",
      "600/600 [==============================] - 2s 4ms/step - loss: 0.0292 - accuracy: 0.9905 - val_loss: 0.0752 - val_accuracy: 0.9789\n",
      "Epoch 7/20\n",
      "600/600 [==============================] - 3s 4ms/step - loss: 0.0245 - accuracy: 0.9920 - val_loss: 0.1096 - val_accuracy: 0.9757\n",
      "Epoch 8/20\n",
      "600/600 [==============================] - 2s 4ms/step - loss: 0.0226 - accuracy: 0.9928 - val_loss: 0.0655 - val_accuracy: 0.9824\n",
      "Epoch 9/20\n",
      "600/600 [==============================] - 2s 4ms/step - loss: 0.0183 - accuracy: 0.9939 - val_loss: 0.0664 - val_accuracy: 0.9819\n",
      "Epoch 10/20\n",
      "600/600 [==============================] - 2s 4ms/step - loss: 0.0146 - accuracy: 0.9955 - val_loss: 0.0754 - val_accuracy: 0.9809\n",
      "Epoch 11/20\n",
      "600/600 [==============================] - 2s 4ms/step - loss: 0.0168 - accuracy: 0.9949 - val_loss: 0.0790 - val_accuracy: 0.9795\n",
      "Epoch 12/20\n",
      "600/600 [==============================] - 3s 4ms/step - loss: 0.0170 - accuracy: 0.9946 - val_loss: 0.0763 - val_accuracy: 0.9811\n",
      "Epoch 13/20\n",
      "600/600 [==============================] - 3s 4ms/step - loss: 0.0129 - accuracy: 0.9959 - val_loss: 0.0753 - val_accuracy: 0.9816\n",
      "Epoch 14/20\n",
      "600/600 [==============================] - 3s 4ms/step - loss: 0.0101 - accuracy: 0.9970 - val_loss: 0.0735 - val_accuracy: 0.9833\n",
      "Epoch 15/20\n",
      "600/600 [==============================] - 2s 4ms/step - loss: 0.0118 - accuracy: 0.9963 - val_loss: 0.0803 - val_accuracy: 0.9806\n",
      "Epoch 16/20\n",
      "600/600 [==============================] - 3s 4ms/step - loss: 0.0107 - accuracy: 0.9963 - val_loss: 0.0782 - val_accuracy: 0.9832\n",
      "Epoch 17/20\n",
      "600/600 [==============================] - 2s 4ms/step - loss: 0.0091 - accuracy: 0.9973 - val_loss: 0.0789 - val_accuracy: 0.9836\n",
      "Epoch 18/20\n",
      "600/600 [==============================] - 2s 4ms/step - loss: 0.0085 - accuracy: 0.9976 - val_loss: 0.0870 - val_accuracy: 0.9813\n",
      "Epoch 19/20\n",
      "600/600 [==============================] - 3s 4ms/step - loss: 0.0097 - accuracy: 0.9971 - val_loss: 0.0765 - val_accuracy: 0.9817\n",
      "Epoch 20/20\n",
      "600/600 [==============================] - 2s 4ms/step - loss: 0.0068 - accuracy: 0.9980 - val_loss: 0.0876 - val_accuracy: 0.9810\n"
     ]
    }
   ],
   "source": [
    "# 학습\n",
    "history = model.fit(train_dataset,\n",
    "                    epochs=N_EPOCHS,\n",
    "                    steps_per_epoch=steps_per_epoch,\n",
    "                    validation_data = val_dataset,\n",
    "                    validation_steps=validation_steps)"
   ]
  },
  {
   "cell_type": "code",
   "execution_count": null,
   "metadata": {
    "colab": {
     "base_uri": "https://localhost:8080/",
     "height": 513
    },
    "executionInfo": {
     "elapsed": 98038,
     "status": "ok",
     "timestamp": 1618984531192,
     "user": {
      "displayName": "Young-il Shin",
      "photoUrl": "",
      "userId": "16669823151846080287"
     },
     "user_tz": -540
    },
    "id": "wNuvOhdTC1Ma",
    "outputId": "93139ae8-5448-4cb4-c9e2-b42c80eec318"
   },
   "outputs": [
    {
     "data": {
      "image/png": "[encoded data removed]",
      "text/plain": [
       "<Figure size 1080x504 with 2 Axes>"
      ]
     },
     "metadata": {
      "needs_background": "light",
      "tags": []
     },
     "output_type": "display_data"
    }
   ],
   "source": [
    "plot_result(history)"
   ]
  },
  {
   "cell_type": "markdown",
   "metadata": {
    "id": "2rat7BtMVSyL"
   },
   "source": [
    "# Dropout 적용\n",
    "- dropout layer는 적용하려는  layer 앞에 추가한다.\n",
    "- dropout 비율은 0 ~ 1 사이 실수로 지정는데 보통 0.2 ~ 0.5값을 지정한다.\n",
    "- dropout이 적용된 모델을 학습시킬때는 epoch수를 더 늘려서 사용한다."
   ]
  },
  {
   "cell_type": "code",
   "execution_count": null,
   "metadata": {
    "id": "l0wXhSx0C1Ma"
   },
   "outputs": [],
   "source": [
    "DROPOUT_RATE = 0.5\n",
    "def create_dropout_model():\n",
    "    model = keras.Sequential()\n",
    "    model.add(keras.layers.Input((IMAGE_SIZE,IMAGE_SIZE)))\n",
    "    model.add(keras.layers.Flatten()) # 1차원으로 변경\n",
    "    \n",
    "    # Hidden layer\n",
    "    model.add(keras.layers.Dropout(rate=DROPOUT_RATE))\n",
    "    model.add(keras.layers.Dense(512,activation='relu'))\n",
    "\n",
    "    model.add(keras.layers.Dropout(rate=DROPOUT_RATE))\n",
    "    model.add(keras.layers.Dense(256,activation='relu'))\n",
    "    \n",
    "    model.add(keras.layers.Dropout(rate=DROPOUT_RATE))\n",
    "    model.add(keras.layers.Dense(128,activation='relu'))\n",
    "\n",
    "    model.add(keras.layers.Dropout(rate=DROPOUT_RATE))\n",
    "    model.add(keras.layers.Dense(128,activation='relu'))\n",
    "    \n",
    "    # Output layer\n",
    "    model.add(keras.layers.Dropout(rate=DROPOUT_RATE))\n",
    "    model.add(keras.layers.Dense(N_CLASS, activation='softmax'))\n",
    "    \n",
    "    # Compile\n",
    "    model.compile(optimizer=keras.optimizers.Adam(learning_rate=LEARNING_RATE),\n",
    "                  loss='categorical_crossentropy',\n",
    "                  metrics=['accuracy'])\n",
    "    return model"
   ]
  },
  {
   "cell_type": "code",
   "execution_count": null,
   "metadata": {
    "colab": {
     "base_uri": "https://localhost:8080/"
    },
    "executionInfo": {
     "elapsed": 98033,
     "status": "ok",
     "timestamp": 1618984531193,
     "user": {
      "displayName": "Young-il Shin",
      "photoUrl": "",
      "userId": "16669823151846080287"
     },
     "user_tz": -540
    },
    "id": "fCId597zXGBN",
    "outputId": "616d5a39-8e14-4f76-8edc-f93aa42921fb"
   },
   "outputs": [
    {
     "name": "stdout",
     "output_type": "stream",
     "text": [
      "Model: \"sequential_2\"\n",
      "_________________________________________________________________\n",
      "Layer (type)                 Output Shape              Param #   \n",
      "=================================================================\n",
      "flatten_2 (Flatten)          (None, 784)               0         \n",
      "_________________________________________________________________\n",
      "dropout (Dropout)            (None, 784)               0         \n",
      "_________________________________________________________________\n",
      "dense_7 (Dense)              (None, 512)               401920    \n",
      "_________________________________________________________________\n",
      "dropout_1 (Dropout)          (None, 512)               0         \n",
      "_________________________________________________________________\n",
      "dense_8 (Dense)              (None, 256)               131328    \n",
      "_________________________________________________________________\n",
      "dropout_2 (Dropout)          (None, 256)               0         \n",
      "_________________________________________________________________\n",
      "dense_9 (Dense)              (None, 128)               32896     \n",
      "_________________________________________________________________\n",
      "dropout_3 (Dropout)          (None, 128)               0         \n",
      "_________________________________________________________________\n",
      "dense_10 (Dense)             (None, 128)               16512     \n",
      "_________________________________________________________________\n",
      "dropout_4 (Dropout)          (None, 128)               0         \n",
      "_________________________________________________________________\n",
      "dense_11 (Dense)             (None, 10)                1290      \n",
      "=================================================================\n",
      "Total params: 583,946\n",
      "Trainable params: 583,946\n",
      "Non-trainable params: 0\n",
      "_________________________________________________________________\n"
     ]
    }
   ],
   "source": [
    "model = create_dropout_model()\n",
    "model.summary()"
   ]
  },
  {
   "cell_type": "code",
   "execution_count": null,
   "metadata": {
    "id": "rgAwZ84mX75R"
   },
   "outputs": [],
   "source": [
    "from tensorflow.keras.utils import plot_model"
   ]
  },
  {
   "cell_type": "code",
   "execution_count": null,
   "metadata": {
    "colab": {
     "base_uri": "https://localhost:8080/",
     "height": 1000
    },
    "executionInfo": {
     "elapsed": 98772,
     "status": "ok",
     "timestamp": 1618984531937,
     "user": {
      "displayName": "Young-il Shin",
      "photoUrl": "",
      "userId": "16669823151846080287"
     },
     "user_tz": -540
    },
    "id": "IY4GnMMZXvJN",
    "outputId": "32c5fa76-75ac-4dbb-f2ec-e6953f8c3d97"
   },
   "outputs": [
    {
     "data": {
      "image/png": "[encoded data removed]",
      "text/plain": [
       "<IPython.core.display.Image object>"
      ]
     },
     "execution_count": 28,
     "metadata": {
      "tags": []
     },
     "output_type": "execute_result"
    }
   ],
   "source": [
    "plot_model(model,show_shapes=True)"
   ]
  },
  {
   "cell_type": "code",
   "execution_count": null,
   "metadata": {
    "colab": {
     "base_uri": "https://localhost:8080/"
    },
    "executionInfo": {
     "elapsed": 149801,
     "status": "ok",
     "timestamp": 1618984582970,
     "user": {
      "displayName": "Young-il Shin",
      "photoUrl": "",
      "userId": "16669823151846080287"
     },
     "user_tz": -540
    },
    "id": "bY0m3lZxXPgB",
    "outputId": "d3f13eef-52f0-4b23-f887-d29cdb931f0c"
   },
   "outputs": [
    {
     "name": "stdout",
     "output_type": "stream",
     "text": [
      "Epoch 1/20\n",
      "600/600 [==============================] - 3s 4ms/step - loss: 1.6123 - accuracy: 0.4216 - val_loss: 0.2891 - val_accuracy: 0.9239\n",
      "Epoch 2/20\n",
      "600/600 [==============================] - 2s 4ms/step - loss: 0.5473 - accuracy: 0.8462 - val_loss: 0.1956 - val_accuracy: 0.9436\n",
      "Epoch 3/20\n",
      "600/600 [==============================] - 2s 3ms/step - loss: 0.4243 - accuracy: 0.8848 - val_loss: 0.1605 - val_accuracy: 0.9556\n",
      "Epoch 4/20\n",
      "600/600 [==============================] - 2s 4ms/step - loss: 0.3504 - accuracy: 0.9049 - val_loss: 0.1400 - val_accuracy: 0.9627\n",
      "Epoch 5/20\n",
      "600/600 [==============================] - 3s 4ms/step - loss: 0.3131 - accuracy: 0.9146 - val_loss: 0.1366 - val_accuracy: 0.9623\n",
      "Epoch 6/20\n",
      "600/600 [==============================] - 3s 4ms/step - loss: 0.3045 - accuracy: 0.9186 - val_loss: 0.1218 - val_accuracy: 0.9646\n",
      "Epoch 7/20\n",
      "600/600 [==============================] - 3s 4ms/step - loss: 0.2786 - accuracy: 0.9240 - val_loss: 0.1088 - val_accuracy: 0.9702\n",
      "Epoch 8/20\n",
      "600/600 [==============================] - 3s 4ms/step - loss: 0.2750 - accuracy: 0.9288 - val_loss: 0.1098 - val_accuracy: 0.9686\n",
      "Epoch 9/20\n",
      "600/600 [==============================] - 3s 4ms/step - loss: 0.2698 - accuracy: 0.9266 - val_loss: 0.1070 - val_accuracy: 0.9704\n",
      "Epoch 10/20\n",
      "600/600 [==============================] - 3s 4ms/step - loss: 0.2462 - accuracy: 0.9336 - val_loss: 0.0968 - val_accuracy: 0.9735\n",
      "Epoch 11/20\n",
      "600/600 [==============================] - 3s 4ms/step - loss: 0.2419 - accuracy: 0.9341 - val_loss: 0.0989 - val_accuracy: 0.9710\n",
      "Epoch 12/20\n",
      "600/600 [==============================] - 3s 4ms/step - loss: 0.2448 - accuracy: 0.9357 - val_loss: 0.0979 - val_accuracy: 0.9729\n",
      "Epoch 13/20\n",
      "600/600 [==============================] - 3s 4ms/step - loss: 0.2361 - accuracy: 0.9373 - val_loss: 0.0931 - val_accuracy: 0.9745\n",
      "Epoch 14/20\n",
      "600/600 [==============================] - 3s 4ms/step - loss: 0.2408 - accuracy: 0.9362 - val_loss: 0.0931 - val_accuracy: 0.9738\n",
      "Epoch 15/20\n",
      "600/600 [==============================] - 3s 4ms/step - loss: 0.2255 - accuracy: 0.9403 - val_loss: 0.0938 - val_accuracy: 0.9755\n",
      "Epoch 16/20\n",
      "600/600 [==============================] - 3s 4ms/step - loss: 0.2155 - accuracy: 0.9434 - val_loss: 0.0898 - val_accuracy: 0.9736\n",
      "Epoch 17/20\n",
      "600/600 [==============================] - 3s 4ms/step - loss: 0.2206 - accuracy: 0.9412 - val_loss: 0.0851 - val_accuracy: 0.9765\n",
      "Epoch 18/20\n",
      "600/600 [==============================] - 3s 4ms/step - loss: 0.2090 - accuracy: 0.9444 - val_loss: 0.0840 - val_accuracy: 0.9759\n",
      "Epoch 19/20\n",
      "600/600 [==============================] - 3s 4ms/step - loss: 0.2108 - accuracy: 0.9438 - val_loss: 0.0872 - val_accuracy: 0.9754\n",
      "Epoch 20/20\n",
      "600/600 [==============================] - 3s 4ms/step - loss: 0.1949 - accuracy: 0.9468 - val_loss: 0.0835 - val_accuracy: 0.9758\n"
     ]
    }
   ],
   "source": [
    "# 학습\n",
    "history = model.fit(train_dataset,\n",
    "                    epochs=N_EPOCHS,\n",
    "                    steps_per_epoch=steps_per_epoch,\n",
    "                    validation_data = val_dataset,\n",
    "                    validation_steps=validation_steps)"
   ]
  },
  {
   "cell_type": "code",
   "execution_count": null,
   "metadata": {
    "colab": {
     "base_uri": "https://localhost:8080/",
     "height": 513
    },
    "executionInfo": {
     "elapsed": 150513,
     "status": "ok",
     "timestamp": 1618984583685,
     "user": {
      "displayName": "Young-il Shin",
      "photoUrl": "",
      "userId": "16669823151846080287"
     },
     "user_tz": -540
    },
    "id": "kUClWjhNYRCg",
    "outputId": "096a08ed-29ec-4165-9259-41e23fade2be"
   },
   "outputs": [
    {
     "data": {
      "image/png": "[encoded data removed]",
      "text/plain": [
       "<Figure size 1080x504 with 2 Axes>"
      ]
     },
     "metadata": {
      "needs_background": "light",
      "tags": []
     },
     "output_type": "display_data"
    }
   ],
   "source": [
    "plot_result(history)"
   ]
  },
  {
   "cell_type": "code",
   "execution_count": null,
   "metadata": {
    "colab": {
     "base_uri": "https://localhost:8080/"
    },
    "executionInfo": {
     "elapsed": 150509,
     "status": "ok",
     "timestamp": 1618984583685,
     "user": {
      "displayName": "Young-il Shin",
      "photoUrl": "",
      "userId": "16669823151846080287"
     },
     "user_tz": -540
    },
    "id": "EckNKmvibk4J",
    "outputId": "8aab9aa5-a835-4fac-da16-ba814510eab9"
   },
   "outputs": [
    {
     "name": "stdout",
     "output_type": "stream",
     "text": [
      "100/100 [==============================] - 0s 2ms/step - loss: 0.0835 - accuracy: 0.9758\n"
     ]
    },
    {
     "data": {
      "text/plain": [
       "[0.08348888903856277, 0.9757999777793884]"
      ]
     },
     "execution_count": 31,
     "metadata": {
      "tags": []
     },
     "output_type": "execute_result"
    }
   ],
   "source": [
    "model.evaluate(val_dataset)"
   ]
  },
  {
   "cell_type": "code",
   "execution_count": null,
   "metadata": {
    "colab": {
     "base_uri": "https://localhost:8080/"
    },
    "executionInfo": {
     "elapsed": 1004,
     "status": "ok",
     "timestamp": 1618985704992,
     "user": {
      "displayName": "Young-il Shin",
      "photoUrl": "",
      "userId": "16669823151846080287"
     },
     "user_tz": -540
    },
    "id": "a1xCF3YLeB9K",
    "outputId": "eb29b136-8846-41cc-df83-a94b8fdcf63b"
   },
   "outputs": [
    {
     "data": {
      "text/plain": [
       "(10000, 28, 28)"
      ]
     },
     "execution_count": 37,
     "metadata": {
      "tags": []
     },
     "output_type": "execute_result"
    }
   ],
   "source": [
    "X_test.shape"
   ]
  },
  {
   "cell_type": "code",
   "execution_count": null,
   "metadata": {
    "colab": {
     "base_uri": "https://localhost:8080/"
    },
    "executionInfo": {
     "elapsed": 150504,
     "status": "ok",
     "timestamp": 1618984583686,
     "user": {
      "displayName": "Young-il Shin",
      "photoUrl": "",
      "userId": "16669823151846080287"
     },
     "user_tz": -540
    },
    "id": "TScv6doNeRoJ",
    "outputId": "d2b726ea-7682-44d8-866e-c27217c3c7be"
   },
   "outputs": [
    {
     "data": {
      "text/plain": [
       "(5, 28, 28)"
      ]
     },
     "execution_count": 33,
     "metadata": {
      "tags": []
     },
     "output_type": "execute_result"
    }
   ],
   "source": [
    "\n",
    "pred_dataset = X_test[:5]\n",
    "pred_dataset.shape"
   ]
  },
  {
   "cell_type": "code",
   "execution_count": null,
   "metadata": {
    "id": "3dV0FIRTeWHS"
   },
   "outputs": [],
   "source": [
    "pred = model.predict(pred_dataset)"
   ]
  },
  {
   "cell_type": "code",
   "execution_count": null,
   "metadata": {
    "colab": {
     "base_uri": "https://localhost:8080/"
    },
    "executionInfo": {
     "elapsed": 150806,
     "status": "ok",
     "timestamp": 1618984583993,
     "user": {
      "displayName": "Young-il Shin",
      "photoUrl": "",
      "userId": "16669823151846080287"
     },
     "user_tz": -540
    },
    "id": "p4t2QfQ5eZsn",
    "outputId": "ae373753-ea32-44b9-dd2d-1ae04d4e93a4"
   },
   "outputs": [
    {
     "data": {
      "text/plain": [
       "array([7, 2, 1, 0, 4])"
      ]
     },
     "execution_count": 35,
     "metadata": {
      "tags": []
     },
     "output_type": "execute_result"
    }
   ],
   "source": [
    "np.argmax(pred, axis=1)"
   ]
  },
  {
   "cell_type": "code",
   "execution_count": null,
   "metadata": {
    "colab": {
     "base_uri": "https://localhost:8080/"
    },
    "executionInfo": {
     "elapsed": 150801,
     "status": "ok",
     "timestamp": 1618984583993,
     "user": {
      "displayName": "Young-il Shin",
      "photoUrl": "",
      "userId": "16669823151846080287"
     },
     "user_tz": -540
    },
    "id": "65PQ8aNrebyJ",
    "outputId": "e04abc62-35c5-4197-9931-f2a97a749a69"
   },
   "outputs": [
    {
     "data": {
      "text/plain": [
       "array([7, 2, 1, 0, 4], dtype=uint8)"
      ]
     },
     "execution_count": 36,
     "metadata": {
      "tags": []
     },
     "output_type": "execute_result"
    }
   ],
   "source": [
    "test_label[:5]"
   ]
  },
  {
   "cell_type": "markdown",
   "metadata": {
    "id": "QiWs0lj0Ecf5"
   },
   "source": [
    "# Batch Normalization"
   ]
  },
  {
   "cell_type": "code",
   "execution_count": null,
   "metadata": {
    "id": "qqxHEQs5edzS"
   },
   "outputs": [],
   "source": [
    "def create_BN_model():\n",
    "    model = keras.Sequential()\n",
    "    model.add(keras.layers.Input((IMAGE_SIZE, IMAGE_SIZE)))\n",
    "    model.add(keras.layers.Flatten())\n",
    "\n",
    "    # Hidden\n",
    "    model.add(keras.layers.Dense(256)) # Fully Connected Layer (Dense Layer)\n",
    "    # Batch Normalization, Dense layer와 activation layer 사이.\n",
    "    model.add(keras.layers.BatchNormalization())\n",
    "    model.add(keras.layers.ReLU()) # Activation Layer\n",
    "\n",
    "    model.add(keras.layers.Dense(256))\n",
    "    model.add(keras.layers.BatchNormalization())\n",
    "    model.add(keras.layers.ReLU())\n",
    "\n",
    "    model.add(keras.layers.Dense(128))\n",
    "    model.add(keras.layers.BatchNormalization())\n",
    "    model.add(keras.layers.ReLU())\n",
    "    \n",
    "    model.add(keras.layers.Dense(128))\n",
    "    model.add(keras.layers.BatchNormalization())\n",
    "    model.add(keras.layers.ReLU())\n",
    "\n",
    "    # Output\n",
    "    model.add(keras.layers.Dense(N_CLASS))\n",
    "    # Batch Normalization, Dense layer와 activation layer 사이.\n",
    "    model.add(keras.layers.BatchNormalization())\n",
    "    model.add(keras.layers.Softmax()) # keras.layers.Activation('sigmoid')# sigmoid는 함수가없다.\n",
    "\n",
    "    # Compile\n",
    "    model.compile(optimizer='Adam', loss='categorical_crossentropy', metrics=['accuracy'])\n",
    "\n",
    "    return model"
   ]
  },
  {
   "cell_type": "code",
   "execution_count": null,
   "metadata": {
    "colab": {
     "base_uri": "https://localhost:8080/"
    },
    "executionInfo": {
     "elapsed": 816,
     "status": "ok",
     "timestamp": 1618986509973,
     "user": {
      "displayName": "Young-il Shin",
      "photoUrl": "",
      "userId": "16669823151846080287"
     },
     "user_tz": -540
    },
    "id": "8xQps2u4HUjj",
    "outputId": "eb9bdb1b-7fa9-4cd6-e28d-98c322a28646"
   },
   "outputs": [
    {
     "name": "stdout",
     "output_type": "stream",
     "text": [
      "Model: \"sequential_3\"\n",
      "_________________________________________________________________\n",
      "Layer (type)                 Output Shape              Param #   \n",
      "=================================================================\n",
      "flatten_3 (Flatten)          (None, 784)               0         \n",
      "_________________________________________________________________\n",
      "dense_12 (Dense)             (None, 256)               200960    \n",
      "_________________________________________________________________\n",
      "batch_normalization (BatchNo (None, 256)               1024      \n",
      "_________________________________________________________________\n",
      "re_lu (ReLU)                 (None, 256)               0         \n",
      "_________________________________________________________________\n",
      "dense_13 (Dense)             (None, 256)               65792     \n",
      "_________________________________________________________________\n",
      "batch_normalization_1 (Batch (None, 256)               1024      \n",
      "_________________________________________________________________\n",
      "re_lu_1 (ReLU)               (None, 256)               0         \n",
      "_________________________________________________________________\n",
      "dense_14 (Dense)             (None, 128)               32896     \n",
      "_________________________________________________________________\n",
      "batch_normalization_2 (Batch (None, 128)               512       \n",
      "_________________________________________________________________\n",
      "re_lu_2 (ReLU)               (None, 128)               0         \n",
      "_________________________________________________________________\n",
      "dense_15 (Dense)             (None, 128)               16512     \n",
      "_________________________________________________________________\n",
      "batch_normalization_3 (Batch (None, 128)               512       \n",
      "_________________________________________________________________\n",
      "re_lu_3 (ReLU)               (None, 128)               0         \n",
      "_________________________________________________________________\n",
      "dense_16 (Dense)             (None, 10)                1290      \n",
      "_________________________________________________________________\n",
      "batch_normalization_4 (Batch (None, 10)                40        \n",
      "_________________________________________________________________\n",
      "softmax (Softmax)            (None, 10)                0         \n",
      "=================================================================\n",
      "Total params: 320,562\n",
      "Trainable params: 319,006\n",
      "Non-trainable params: 1,556\n",
      "_________________________________________________________________\n"
     ]
    }
   ],
   "source": [
    "model = create_BN_model()\n",
    "model.summary()"
   ]
  },
  {
   "cell_type": "code",
   "execution_count": null,
   "metadata": {
    "colab": {
     "base_uri": "https://localhost:8080/"
    },
    "executionInfo": {
     "elapsed": 53648,
     "status": "ok",
     "timestamp": 1618986737657,
     "user": {
      "displayName": "Young-il Shin",
      "photoUrl": "",
      "userId": "16669823151846080287"
     },
     "user_tz": -540
    },
    "id": "Y8F_7QZMHaLE",
    "outputId": "f76691bf-efe2-4430-88f1-0eaa6922bcdf"
   },
   "outputs": [
    {
     "name": "stdout",
     "output_type": "stream",
     "text": [
      "Epoch 1/20\n",
      "600/600 [==============================] - 4s 4ms/step - loss: 0.6068 - accuracy: 0.8782 - val_loss: 0.1994 - val_accuracy: 0.9696\n",
      "Epoch 2/20\n",
      "600/600 [==============================] - 3s 4ms/step - loss: 0.1778 - accuracy: 0.9721 - val_loss: 0.1113 - val_accuracy: 0.9784\n",
      "Epoch 3/20\n",
      "600/600 [==============================] - 3s 4ms/step - loss: 0.1116 - accuracy: 0.9795 - val_loss: 0.0901 - val_accuracy: 0.9795\n",
      "Epoch 4/20\n",
      "600/600 [==============================] - 3s 4ms/step - loss: 0.0791 - accuracy: 0.9838 - val_loss: 0.0757 - val_accuracy: 0.9829\n",
      "Epoch 5/20\n",
      "600/600 [==============================] - 3s 4ms/step - loss: 0.0568 - accuracy: 0.9877 - val_loss: 0.0839 - val_accuracy: 0.9767\n",
      "Epoch 6/20\n",
      "600/600 [==============================] - 3s 4ms/step - loss: 0.0477 - accuracy: 0.9895 - val_loss: 0.0737 - val_accuracy: 0.9802\n",
      "Epoch 7/20\n",
      "600/600 [==============================] - 3s 4ms/step - loss: 0.0378 - accuracy: 0.9913 - val_loss: 0.0620 - val_accuracy: 0.9841\n",
      "Epoch 8/20\n",
      "600/600 [==============================] - 3s 4ms/step - loss: 0.0306 - accuracy: 0.9928 - val_loss: 0.0846 - val_accuracy: 0.9761\n",
      "Epoch 9/20\n",
      "600/600 [==============================] - 3s 4ms/step - loss: 0.0253 - accuracy: 0.9935 - val_loss: 0.0621 - val_accuracy: 0.9816\n",
      "Epoch 10/20\n",
      "600/600 [==============================] - 3s 4ms/step - loss: 0.0230 - accuracy: 0.9942 - val_loss: 0.0640 - val_accuracy: 0.9815\n",
      "Epoch 11/20\n",
      "600/600 [==============================] - 3s 4ms/step - loss: 0.0242 - accuracy: 0.9931 - val_loss: 0.0699 - val_accuracy: 0.9807\n",
      "Epoch 12/20\n",
      "600/600 [==============================] - 3s 4ms/step - loss: 0.0185 - accuracy: 0.9958 - val_loss: 0.0674 - val_accuracy: 0.9814\n",
      "Epoch 13/20\n",
      "600/600 [==============================] - 3s 4ms/step - loss: 0.0168 - accuracy: 0.9953 - val_loss: 0.0635 - val_accuracy: 0.9832\n",
      "Epoch 14/20\n",
      "600/600 [==============================] - 3s 4ms/step - loss: 0.0159 - accuracy: 0.9952 - val_loss: 0.0733 - val_accuracy: 0.9804\n",
      "Epoch 15/20\n",
      "600/600 [==============================] - 3s 4ms/step - loss: 0.0155 - accuracy: 0.9952 - val_loss: 0.0608 - val_accuracy: 0.9825\n",
      "Epoch 16/20\n",
      "600/600 [==============================] - 3s 4ms/step - loss: 0.0149 - accuracy: 0.9957 - val_loss: 0.0701 - val_accuracy: 0.9817\n",
      "Epoch 17/20\n",
      "600/600 [==============================] - 3s 4ms/step - loss: 0.0126 - accuracy: 0.9966 - val_loss: 0.0722 - val_accuracy: 0.9805\n",
      "Epoch 18/20\n",
      "600/600 [==============================] - 3s 4ms/step - loss: 0.0134 - accuracy: 0.9959 - val_loss: 0.0629 - val_accuracy: 0.9838\n",
      "Epoch 19/20\n",
      "600/600 [==============================] - 3s 4ms/step - loss: 0.0120 - accuracy: 0.9968 - val_loss: 0.0730 - val_accuracy: 0.9806\n",
      "Epoch 20/20\n",
      "600/600 [==============================] - 3s 4ms/step - loss: 0.0118 - accuracy: 0.9961 - val_loss: 0.0735 - val_accuracy: 0.9815\n"
     ]
    }
   ],
   "source": [
    "histroy = model.fit(train_dataset,\n",
    "                     epochs = N_EPOCHS,\n",
    "                    steps_per_epoch= steps_per_epoch,\n",
    "                    validation_data= val_dataset,\n",
    "                    validation_steps=validation_steps)"
   ]
  },
  {
   "cell_type": "code",
   "execution_count": null,
   "metadata": {
    "colab": {
     "base_uri": "https://localhost:8080/",
     "height": 513
    },
    "executionInfo": {
     "elapsed": 1401,
     "status": "ok",
     "timestamp": 1618986790399,
     "user": {
      "displayName": "Young-il Shin",
      "photoUrl": "",
      "userId": "16669823151846080287"
     },
     "user_tz": -540
    },
    "id": "U51E-hOiIBz9",
    "outputId": "156243a7-ca35-493b-8ed7-042c83e38cc8"
   },
   "outputs": [
    {
     "data": {
      "image/png": "[encoded data removed]",
      "text/plain": [
       "<Figure size 1080x504 with 2 Axes>"
      ]
     },
     "metadata": {
      "needs_background": "light",
      "tags": []
     },
     "output_type": "display_data"
    }
   ],
   "source": [
    "plot_result(histroy)"
   ]
  },
  {
   "cell_type": "markdown",
   "metadata": {
    "id": "8YvDtrbnMIQJ"
   },
   "source": [
    "# 학습률 조절"
   ]
  },
  {
   "cell_type": "code",
   "execution_count": null,
   "metadata": {
    "id": "_kARbCm0Ia7x"
   },
   "outputs": [],
   "source": [
    "LEARNING_RATE = 0.001\n",
    "N_EPOCHS = 30\n",
    "\n",
    "\n",
    "def create_model():\n",
    "    model = keras.Sequential()\n",
    "    model.add(keras.layers.Input((IMAGE_SIZE,IMAGE_SIZE)))\n",
    "    model.add(keras.layers.Flatten())\n",
    "    model.add(keras.layers.Dense(256, activation=\"relu\"))\n",
    "    model.add(keras.layers.Dense(128, activation=\"relu\"))\n",
    "    model.add(keras.layers.Dense(128, activation=\"relu\"))\n",
    "\n",
    "    model.add(keras.layers.Dense(N_CLASS, activation='softmax'))\n",
    "\n",
    "    return model\n",
    "\n"
   ]
  },
  {
   "cell_type": "markdown",
   "metadata": {
    "id": "ZHvRYDVINGjE"
   },
   "source": [
    "## ExponentialDecay 를 사용\n",
    "- 일정한 step마다 일정한 비율로 학습률을 변경(줄여준다).\n",
    "- LearningRate Scaduler"
   ]
  },
  {
   "cell_type": "code",
   "execution_count": null,
   "metadata": {
    "id": "1dwYTKjlMuj7"
   },
   "outputs": [],
   "source": [
    "lr_scheduler = keras.optimizers.schedules.ExponentialDecay(\n",
    "            initial_learning_rate = LEARNING_RATE, # 시작 학습률\n",
    "            decay_steps=N_BATCHS*10, #학습률을 몇 step마다 변화(변경) 시킬 것 인지.\n",
    "            decay_rate = 0.5, # 학습율의 변화율, 기존학습률 * 지정한 값, \n",
    "            staircase=True, # True : 한번에 변경, False : 매 스탭마다 조금씩 변화, \n",
    "#            name=None\n",
    ") # optimizer의 학습률대신 lr_schduler를 설정."
   ]
  },
  {
   "cell_type": "code",
   "execution_count": null,
   "metadata": {
    "id": "NQm5tQZHQCwM"
   },
   "outputs": [],
   "source": [
    "model = create_model()"
   ]
  },
  {
   "cell_type": "code",
   "execution_count": null,
   "metadata": {
    "id": "x3B3ZNSzS7K2"
   },
   "outputs": [],
   "source": [
    "model.compile(optimizer=keras.optimizers.Adam(learning_rate=lr_scheduler), loss='categorical_crossentropy', metrics=['accuracy'])"
   ]
  },
  {
   "cell_type": "code",
   "execution_count": null,
   "metadata": {
    "colab": {
     "base_uri": "https://localhost:8080/"
    },
    "executionInfo": {
     "elapsed": 74897,
     "status": "ok",
     "timestamp": 1618990042410,
     "user": {
      "displayName": "Young-il Shin",
      "photoUrl": "",
      "userId": "16669823151846080287"
     },
     "user_tz": -540
    },
    "id": "qd2iV6P3TbYf",
    "outputId": "d60f5b51-5c4c-4611-fb3b-b8480c8090e7"
   },
   "outputs": [
    {
     "name": "stdout",
     "output_type": "stream",
     "text": [
      "Epoch 1/30\n",
      "600/600 [==============================] - 3s 4ms/step - loss: 0.4734 - accuracy: 0.8675 - val_loss: 0.1216 - val_accuracy: 0.9646\n",
      "Epoch 2/30\n",
      "600/600 [==============================] - 2s 4ms/step - loss: 0.0993 - accuracy: 0.9694 - val_loss: 0.0758 - val_accuracy: 0.9756\n",
      "Epoch 3/30\n",
      "600/600 [==============================] - 2s 4ms/step - loss: 0.0505 - accuracy: 0.9841 - val_loss: 0.0688 - val_accuracy: 0.9799\n",
      "Epoch 4/30\n",
      "600/600 [==============================] - 3s 4ms/step - loss: 0.0332 - accuracy: 0.9903 - val_loss: 0.0629 - val_accuracy: 0.9802\n",
      "Epoch 5/30\n",
      "600/600 [==============================] - 3s 4ms/step - loss: 0.0221 - accuracy: 0.9938 - val_loss: 0.0636 - val_accuracy: 0.9812\n",
      "Epoch 6/30\n",
      "600/600 [==============================] - 2s 4ms/step - loss: 0.0163 - accuracy: 0.9962 - val_loss: 0.0609 - val_accuracy: 0.9813\n",
      "Epoch 7/30\n",
      "600/600 [==============================] - 2s 4ms/step - loss: 0.0116 - accuracy: 0.9982 - val_loss: 0.0618 - val_accuracy: 0.9810\n",
      "Epoch 8/30\n",
      "600/600 [==============================] - 2s 4ms/step - loss: 0.0103 - accuracy: 0.9984 - val_loss: 0.0622 - val_accuracy: 0.9819\n",
      "Epoch 9/30\n",
      "600/600 [==============================] - 2s 4ms/step - loss: 0.0092 - accuracy: 0.9984 - val_loss: 0.0619 - val_accuracy: 0.9818\n",
      "Epoch 10/30\n",
      "600/600 [==============================] - 2s 4ms/step - loss: 0.0078 - accuracy: 0.9990 - val_loss: 0.0628 - val_accuracy: 0.9820\n",
      "Epoch 11/30\n",
      "600/600 [==============================] - 3s 4ms/step - loss: 0.0074 - accuracy: 0.9990 - val_loss: 0.0622 - val_accuracy: 0.9820\n",
      "Epoch 12/30\n",
      "600/600 [==============================] - 2s 4ms/step - loss: 0.0079 - accuracy: 0.9989 - val_loss: 0.0626 - val_accuracy: 0.9819\n",
      "Epoch 13/30\n",
      "600/600 [==============================] - 2s 4ms/step - loss: 0.0068 - accuracy: 0.9991 - val_loss: 0.0627 - val_accuracy: 0.9820\n",
      "Epoch 14/30\n",
      "600/600 [==============================] - 2s 3ms/step - loss: 0.0060 - accuracy: 0.9994 - val_loss: 0.0627 - val_accuracy: 0.9820\n",
      "Epoch 15/30\n",
      "600/600 [==============================] - 3s 4ms/step - loss: 0.0062 - accuracy: 0.9993 - val_loss: 0.0629 - val_accuracy: 0.9819\n",
      "Epoch 16/30\n",
      "600/600 [==============================] - 2s 4ms/step - loss: 0.0067 - accuracy: 0.9992 - val_loss: 0.0628 - val_accuracy: 0.9819\n",
      "Epoch 17/30\n",
      "600/600 [==============================] - 2s 4ms/step - loss: 0.0067 - accuracy: 0.9992 - val_loss: 0.0630 - val_accuracy: 0.9819\n",
      "Epoch 18/30\n",
      "600/600 [==============================] - 2s 4ms/step - loss: 0.0065 - accuracy: 0.9992 - val_loss: 0.0630 - val_accuracy: 0.9819\n",
      "Epoch 19/30\n",
      "600/600 [==============================] - 3s 4ms/step - loss: 0.0064 - accuracy: 0.9994 - val_loss: 0.0630 - val_accuracy: 0.9817\n",
      "Epoch 20/30\n",
      "600/600 [==============================] - 2s 4ms/step - loss: 0.0064 - accuracy: 0.9993 - val_loss: 0.0630 - val_accuracy: 0.9818\n",
      "Epoch 21/30\n",
      "600/600 [==============================] - 2s 4ms/step - loss: 0.0064 - accuracy: 0.9993 - val_loss: 0.0630 - val_accuracy: 0.9817\n",
      "Epoch 22/30\n",
      "600/600 [==============================] - 2s 4ms/step - loss: 0.0066 - accuracy: 0.9993 - val_loss: 0.0630 - val_accuracy: 0.9818\n",
      "Epoch 23/30\n",
      "600/600 [==============================] - 2s 4ms/step - loss: 0.0064 - accuracy: 0.9993 - val_loss: 0.0630 - val_accuracy: 0.9818\n",
      "Epoch 24/30\n",
      "600/600 [==============================] - 2s 4ms/step - loss: 0.0063 - accuracy: 0.9992 - val_loss: 0.0630 - val_accuracy: 0.9817\n",
      "Epoch 25/30\n",
      "600/600 [==============================] - 2s 4ms/step - loss: 0.0061 - accuracy: 0.9994 - val_loss: 0.0630 - val_accuracy: 0.9817\n",
      "Epoch 26/30\n",
      "600/600 [==============================] - 2s 4ms/step - loss: 0.0060 - accuracy: 0.9995 - val_loss: 0.0630 - val_accuracy: 0.9817\n",
      "Epoch 27/30\n",
      "600/600 [==============================] - 2s 4ms/step - loss: 0.0065 - accuracy: 0.9991 - val_loss: 0.0631 - val_accuracy: 0.9817\n",
      "Epoch 28/30\n",
      "600/600 [==============================] - 3s 4ms/step - loss: 0.0061 - accuracy: 0.9994 - val_loss: 0.0631 - val_accuracy: 0.9817\n",
      "Epoch 29/30\n",
      "600/600 [==============================] - 2s 4ms/step - loss: 0.0066 - accuracy: 0.9993 - val_loss: 0.0631 - val_accuracy: 0.9817\n",
      "Epoch 30/30\n",
      "600/600 [==============================] - 2s 4ms/step - loss: 0.0058 - accuracy: 0.9995 - val_loss: 0.0631 - val_accuracy: 0.9817\n"
     ]
    }
   ],
   "source": [
    "history = model.fit(train_dataset,\n",
    "                    epochs=N_EPOCHS,\n",
    "                    steps_per_epoch=steps_per_epoch,\n",
    "                    validation_data=val_dataset,\n",
    "                    validation_steps=validation_steps)"
   ]
  },
  {
   "cell_type": "code",
   "execution_count": null,
   "metadata": {
    "id": "mlMo-FVCTr7w"
   },
   "outputs": [],
   "source": []
  },
  {
   "cell_type": "markdown",
   "metadata": {
    "id": "cN7P-VM0Un-U"
   },
   "source": [
    "# LearningRate 조정과 관련된 callback사용.\n",
    "- Callback : 학습 도중 특정 이벤트(변화)가 발생하면 호출되는 기능\n",
    "\n",
    "## ReduceLROnPlateau callback\n",
    "- patience 에폭 동안 moniotr에 지정한 지표가 향샹되지 않으면 현재 learning rate에 factor(0 ~ 1 실수)를 곱해서 learning rate를 조정한다."
   ]
  },
  {
   "cell_type": "code",
   "execution_count": null,
   "metadata": {
    "id": "St1N1SeyWkOz"
   },
   "outputs": [],
   "source": [
    "model = create_model()\n",
    "model.compile(optimizer=keras.optimizers.Adam(learning_rate=LEARNING_RATE), \n",
    "              loss='categorical_crossentropy', \n",
    "              metrics=['accuracy'])"
   ]
  },
  {
   "cell_type": "code",
   "execution_count": null,
   "metadata": {
    "id": "PAwo5eZNXgl7"
   },
   "outputs": [],
   "source": [
    "# ReduceLROnPlateau callback 생성\n",
    "rlp_callback = keras.callbacks.ReduceLROnPlateau(monitor='val_loss', # validation loss의 지표가 향상되지 않으면,\n",
    "                                                 factor=0.5, # 현재 학습률에 0.5 곱한것을 새학습률로 조정.\n",
    "                                                 patience=3, # 10 에폭동안.\n",
    "                                                 verbose=1) # 학습률이 바뀌면 로그를 출력.\n",
    "\n",
    "# Callback은 fit할때 적용."
   ]
  },
  {
   "cell_type": "code",
   "execution_count": null,
   "metadata": {
    "colab": {
     "base_uri": "https://localhost:8080/"
    },
    "executionInfo": {
     "elapsed": 57030,
     "status": "ok",
     "timestamp": 1618991629940,
     "user": {
      "displayName": "Young-il Shin",
      "photoUrl": "",
      "userId": "16669823151846080287"
     },
     "user_tz": -540
    },
    "id": "Ix_8QuhuYezY",
    "outputId": "c671447a-5608-4c9a-80ba-68532bb87ab2"
   },
   "outputs": [
    {
     "name": "stdout",
     "output_type": "stream",
     "text": [
      "Epoch 1/30\n",
      "600/600 [==============================] - 2s 3ms/step - loss: 3.7504e-06 - accuracy: 1.0000 - val_loss: 0.0990 - val_accuracy: 0.9862\n",
      "Epoch 2/30\n",
      "600/600 [==============================] - 2s 3ms/step - loss: 2.9727e-06 - accuracy: 1.0000 - val_loss: 0.1011 - val_accuracy: 0.9864\n",
      "Epoch 3/30\n",
      "600/600 [==============================] - 2s 3ms/step - loss: 2.3199e-06 - accuracy: 1.0000 - val_loss: 0.1028 - val_accuracy: 0.9864\n",
      "Epoch 4/30\n",
      "600/600 [==============================] - 2s 3ms/step - loss: 1.7895e-06 - accuracy: 1.0000 - val_loss: 0.1051 - val_accuracy: 0.9865\n",
      "\n",
      "Epoch 00004: ReduceLROnPlateau reducing learning rate to 0.0001250000059371814.\n",
      "Epoch 5/30\n",
      "600/600 [==============================] - 2s 3ms/step - loss: 1.3430e-06 - accuracy: 1.0000 - val_loss: 0.1060 - val_accuracy: 0.9864\n",
      "Epoch 6/30\n",
      "600/600 [==============================] - 2s 3ms/step - loss: 1.1424e-06 - accuracy: 1.0000 - val_loss: 0.1072 - val_accuracy: 0.9862\n",
      "Epoch 7/30\n",
      "600/600 [==============================] - 2s 3ms/step - loss: 9.5979e-07 - accuracy: 1.0000 - val_loss: 0.1087 - val_accuracy: 0.9862\n",
      "\n",
      "Epoch 00007: ReduceLROnPlateau reducing learning rate to 6.25000029685907e-05.\n",
      "Epoch 8/30\n",
      "600/600 [==============================] - 2s 3ms/step - loss: 7.9524e-07 - accuracy: 1.0000 - val_loss: 0.1097 - val_accuracy: 0.9863\n",
      "Epoch 9/30\n",
      "600/600 [==============================] - 2s 3ms/step - loss: 7.1023e-07 - accuracy: 1.0000 - val_loss: 0.1106 - val_accuracy: 0.9863\n",
      "Epoch 10/30\n",
      "600/600 [==============================] - 2s 3ms/step - loss: 6.2261e-07 - accuracy: 1.0000 - val_loss: 0.1117 - val_accuracy: 0.9864\n",
      "\n",
      "Epoch 00010: ReduceLROnPlateau reducing learning rate to 3.125000148429535e-05.\n",
      "Epoch 11/30\n",
      "600/600 [==============================] - 2s 3ms/step - loss: 5.3600e-07 - accuracy: 1.0000 - val_loss: 0.1125 - val_accuracy: 0.9864\n",
      "Epoch 12/30\n",
      "600/600 [==============================] - 2s 3ms/step - loss: 4.9084e-07 - accuracy: 1.0000 - val_loss: 0.1132 - val_accuracy: 0.9862\n",
      "Epoch 13/30\n",
      "600/600 [==============================] - 2s 3ms/step - loss: 4.4666e-07 - accuracy: 1.0000 - val_loss: 0.1142 - val_accuracy: 0.9864\n",
      "\n",
      "Epoch 00013: ReduceLROnPlateau reducing learning rate to 1.5625000742147677e-05.\n",
      "Epoch 14/30\n",
      "600/600 [==============================] - 2s 3ms/step - loss: 3.9464e-07 - accuracy: 1.0000 - val_loss: 0.1147 - val_accuracy: 0.9862\n",
      "Epoch 15/30\n",
      "600/600 [==============================] - 2s 3ms/step - loss: 3.6837e-07 - accuracy: 1.0000 - val_loss: 0.1154 - val_accuracy: 0.9863\n",
      "Epoch 16/30\n",
      "600/600 [==============================] - 2s 3ms/step - loss: 3.4080e-07 - accuracy: 1.0000 - val_loss: 0.1160 - val_accuracy: 0.9863\n",
      "\n",
      "Epoch 00016: ReduceLROnPlateau reducing learning rate to 7.812500371073838e-06.\n",
      "Epoch 17/30\n",
      "600/600 [==============================] - 2s 3ms/step - loss: 3.1131e-07 - accuracy: 1.0000 - val_loss: 0.1164 - val_accuracy: 0.9862\n",
      "Epoch 18/30\n",
      "600/600 [==============================] - 2s 3ms/step - loss: 2.9605e-07 - accuracy: 1.0000 - val_loss: 0.1168 - val_accuracy: 0.9862\n",
      "Epoch 19/30\n",
      "600/600 [==============================] - 2s 3ms/step - loss: 2.8047e-07 - accuracy: 1.0000 - val_loss: 0.1173 - val_accuracy: 0.9863\n",
      "\n",
      "Epoch 00019: ReduceLROnPlateau reducing learning rate to 3.906250185536919e-06.\n",
      "Epoch 20/30\n",
      "600/600 [==============================] - 2s 3ms/step - loss: 2.6350e-07 - accuracy: 1.0000 - val_loss: 0.1175 - val_accuracy: 0.9863\n",
      "Epoch 21/30\n",
      "600/600 [==============================] - 2s 3ms/step - loss: 2.5533e-07 - accuracy: 1.0000 - val_loss: 0.1178 - val_accuracy: 0.9863\n",
      "Epoch 22/30\n",
      "600/600 [==============================] - 2s 3ms/step - loss: 2.4701e-07 - accuracy: 1.0000 - val_loss: 0.1181 - val_accuracy: 0.9863\n",
      "\n",
      "Epoch 00022: ReduceLROnPlateau reducing learning rate to 1.9531250927684596e-06.\n",
      "Epoch 23/30\n",
      "600/600 [==============================] - 2s 3ms/step - loss: 2.3841e-07 - accuracy: 1.0000 - val_loss: 0.1182 - val_accuracy: 0.9863\n",
      "Epoch 24/30\n",
      "600/600 [==============================] - 2s 3ms/step - loss: 2.3423e-07 - accuracy: 1.0000 - val_loss: 0.1184 - val_accuracy: 0.9863\n",
      "Epoch 25/30\n",
      "600/600 [==============================] - 2s 3ms/step - loss: 2.2997e-07 - accuracy: 1.0000 - val_loss: 0.1185 - val_accuracy: 0.9863\n",
      "\n",
      "Epoch 00025: ReduceLROnPlateau reducing learning rate to 9.765625463842298e-07.\n",
      "Epoch 26/30\n",
      "600/600 [==============================] - 2s 3ms/step - loss: 2.2577e-07 - accuracy: 1.0000 - val_loss: 0.1186 - val_accuracy: 0.9863\n",
      "Epoch 27/30\n",
      "600/600 [==============================] - 2s 3ms/step - loss: 2.2372e-07 - accuracy: 1.0000 - val_loss: 0.1187 - val_accuracy: 0.9863\n",
      "Epoch 28/30\n",
      "600/600 [==============================] - 2s 3ms/step - loss: 2.2167e-07 - accuracy: 1.0000 - val_loss: 0.1188 - val_accuracy: 0.9864\n",
      "\n",
      "Epoch 00028: ReduceLROnPlateau reducing learning rate to 4.882812731921149e-07.\n",
      "Epoch 29/30\n",
      "600/600 [==============================] - 2s 3ms/step - loss: 2.1963e-07 - accuracy: 1.0000 - val_loss: 0.1188 - val_accuracy: 0.9864\n",
      "Epoch 30/30\n",
      "600/600 [==============================] - 2s 3ms/step - loss: 2.1864e-07 - accuracy: 1.0000 - val_loss: 0.1188 - val_accuracy: 0.9864\n"
     ]
    }
   ],
   "source": [
    "history = model.fit(train_dataset,\n",
    "                    epochs=N_EPOCHS,\n",
    "                    steps_per_epoch=steps_per_epoch,\n",
    "                    validation_data=val_dataset,\n",
    "                    validation_steps=validation_steps,\n",
    "                    callbacks=[rlp_callback])"
   ]
  },
  {
   "cell_type": "markdown",
   "metadata": {
    "id": "ES_TOoR6bAbg"
   },
   "source": [
    "## LearningRateScheduler Callback 사용\n",
    "- 사용자 정의 학습률 조정함수를 만들어 적용.\n",
    "- 학습률 조정하는 함수를 만들어서 callback 생성시 등록.\n",
    "    - 매개변수\n",
    "        1. epoch\n",
    "        2. 현시점 learning rate\n",
    "    - 반환값\n",
    "        - 조정한 learning rate"
   ]
  },
  {
   "cell_type": "code",
   "execution_count": null,
   "metadata": {
    "id": "8UTqx0tPb3ci"
   },
   "outputs": [],
   "source": [
    "def user_lr(epoch, lr):\n",
    "    if epoch < 5:\n",
    "        return lr\n",
    "\n",
    "    elif epoch <10:\n",
    "        if epoch==6:\n",
    "            print(\"=================Change Learning Rate\", lr*0.5, \"Epoch: \", epoch)\n",
    "        return lr*0.5\n",
    "\n",
    "    elif epoch <20:\n",
    "        if epoch==11:\n",
    "            print(\"=================Change Learning Rate\", lr*0.5, \"Epoch: \", epoch)\n",
    "        return lr*0.5\n",
    "    else:\n",
    "        return lr"
   ]
  },
  {
   "cell_type": "code",
   "execution_count": null,
   "metadata": {
    "id": "Nwoj5x9odV1B"
   },
   "outputs": [],
   "source": [
    "lr_scheduler_callback = keras.callbacks.LearningRateScheduler(user_lr)\n",
    "\n",
    "model = create_model()\n",
    "model.compile(optimizer='Adam', loss='categorical_crossentropy', metrics=['accuracy'])"
   ]
  },
  {
   "cell_type": "code",
   "execution_count": null,
   "metadata": {
    "colab": {
     "base_uri": "https://localhost:8080/"
    },
    "executionInfo": {
     "elapsed": 58297,
     "status": "ok",
     "timestamp": 1618992674120,
     "user": {
      "displayName": "Young-il Shin",
      "photoUrl": "",
      "userId": "16669823151846080287"
     },
     "user_tz": -540
    },
    "id": "HmPIkg_Nd4oK",
    "outputId": "55c1215b-ac01-47a1-9315-ac4b2419f906"
   },
   "outputs": [
    {
     "name": "stdout",
     "output_type": "stream",
     "text": [
      "Epoch 1/30\n",
      "600/600 [==============================] - 2s 3ms/step - loss: 0.4564 - accuracy: 0.8708 - val_loss: 0.1323 - val_accuracy: 0.9595\n",
      "Epoch 2/30\n",
      "600/600 [==============================] - 2s 3ms/step - loss: 0.1013 - accuracy: 0.9686 - val_loss: 0.0865 - val_accuracy: 0.9727\n",
      "Epoch 3/30\n",
      "600/600 [==============================] - 2s 3ms/step - loss: 0.0601 - accuracy: 0.9813 - val_loss: 0.0807 - val_accuracy: 0.9750\n",
      "Epoch 4/30\n",
      "600/600 [==============================] - 2s 3ms/step - loss: 0.0424 - accuracy: 0.9862 - val_loss: 0.0903 - val_accuracy: 0.9751\n",
      "Epoch 5/30\n",
      "600/600 [==============================] - 2s 3ms/step - loss: 0.0339 - accuracy: 0.9889 - val_loss: 0.0690 - val_accuracy: 0.9795\n",
      "Epoch 6/30\n",
      "600/600 [==============================] - 2s 3ms/step - loss: 0.0171 - accuracy: 0.9950 - val_loss: 0.0718 - val_accuracy: 0.9816\n",
      "Epoch 7/30\n",
      "=================Change Learning Rate 0.0002500000118743628 Epoch:  6\n",
      "600/600 [==============================] - 2s 3ms/step - loss: 0.0065 - accuracy: 0.9982 - val_loss: 0.0607 - val_accuracy: 0.9842\n",
      "Epoch 8/30\n",
      "600/600 [==============================] - 2s 3ms/step - loss: 0.0037 - accuracy: 0.9993 - val_loss: 0.0635 - val_accuracy: 0.9836\n",
      "Epoch 9/30\n",
      "600/600 [==============================] - 2s 3ms/step - loss: 0.0024 - accuracy: 0.9998 - val_loss: 0.0653 - val_accuracy: 0.9835\n",
      "Epoch 10/30\n",
      "600/600 [==============================] - 2s 3ms/step - loss: 0.0022 - accuracy: 0.9997 - val_loss: 0.0655 - val_accuracy: 0.9838\n",
      "Epoch 11/30\n",
      "600/600 [==============================] - 2s 3ms/step - loss: 0.0020 - accuracy: 0.9998 - val_loss: 0.0658 - val_accuracy: 0.9837\n",
      "Epoch 12/30\n",
      "=================Change Learning Rate 7.812500371073838e-06 Epoch:  11\n",
      "600/600 [==============================] - 2s 3ms/step - loss: 0.0020 - accuracy: 0.9998 - val_loss: 0.0661 - val_accuracy: 0.9834\n",
      "Epoch 13/30\n",
      "600/600 [==============================] - 2s 3ms/step - loss: 0.0022 - accuracy: 0.9997 - val_loss: 0.0662 - val_accuracy: 0.9836\n",
      "Epoch 14/30\n",
      "600/600 [==============================] - 2s 3ms/step - loss: 0.0016 - accuracy: 0.9998 - val_loss: 0.0663 - val_accuracy: 0.9834\n",
      "Epoch 15/30\n",
      "600/600 [==============================] - 2s 3ms/step - loss: 0.0016 - accuracy: 0.9999 - val_loss: 0.0663 - val_accuracy: 0.9833\n",
      "Epoch 16/30\n",
      "600/600 [==============================] - 2s 3ms/step - loss: 0.0017 - accuracy: 0.9998 - val_loss: 0.0664 - val_accuracy: 0.9834\n",
      "Epoch 17/30\n",
      "600/600 [==============================] - 2s 3ms/step - loss: 0.0018 - accuracy: 0.9998 - val_loss: 0.0664 - val_accuracy: 0.9834\n",
      "Epoch 18/30\n",
      "600/600 [==============================] - 2s 3ms/step - loss: 0.0017 - accuracy: 0.9998 - val_loss: 0.0664 - val_accuracy: 0.9834\n",
      "Epoch 19/30\n",
      "600/600 [==============================] - 2s 3ms/step - loss: 0.0018 - accuracy: 0.9998 - val_loss: 0.0664 - val_accuracy: 0.9834\n",
      "Epoch 20/30\n",
      "600/600 [==============================] - 2s 3ms/step - loss: 0.0017 - accuracy: 0.9998 - val_loss: 0.0664 - val_accuracy: 0.9834\n",
      "Epoch 21/30\n",
      "600/600 [==============================] - 2s 3ms/step - loss: 0.0015 - accuracy: 0.9999 - val_loss: 0.0664 - val_accuracy: 0.9834\n",
      "Epoch 22/30\n",
      "600/600 [==============================] - 2s 3ms/step - loss: 0.0016 - accuracy: 0.9998 - val_loss: 0.0664 - val_accuracy: 0.9834\n",
      "Epoch 23/30\n",
      "600/600 [==============================] - 2s 3ms/step - loss: 0.0018 - accuracy: 0.9998 - val_loss: 0.0664 - val_accuracy: 0.9834\n",
      "Epoch 24/30\n",
      "600/600 [==============================] - 2s 3ms/step - loss: 0.0018 - accuracy: 0.9998 - val_loss: 0.0664 - val_accuracy: 0.9834\n",
      "Epoch 25/30\n",
      "600/600 [==============================] - 2s 3ms/step - loss: 0.0016 - accuracy: 0.9998 - val_loss: 0.0664 - val_accuracy: 0.9834\n",
      "Epoch 26/30\n",
      "600/600 [==============================] - 2s 3ms/step - loss: 0.0016 - accuracy: 0.9999 - val_loss: 0.0664 - val_accuracy: 0.9834\n",
      "Epoch 27/30\n",
      "600/600 [==============================] - 2s 3ms/step - loss: 0.0019 - accuracy: 0.9997 - val_loss: 0.0664 - val_accuracy: 0.9834\n",
      "Epoch 28/30\n",
      "600/600 [==============================] - 2s 3ms/step - loss: 0.0020 - accuracy: 0.9996 - val_loss: 0.0664 - val_accuracy: 0.9834\n",
      "Epoch 29/30\n",
      "600/600 [==============================] - 2s 3ms/step - loss: 0.0017 - accuracy: 0.9998 - val_loss: 0.0664 - val_accuracy: 0.9834\n",
      "Epoch 30/30\n",
      "600/600 [==============================] - 2s 3ms/step - loss: 0.0015 - accuracy: 0.9999 - val_loss: 0.0664 - val_accuracy: 0.9834\n"
     ]
    }
   ],
   "source": [
    "history = model.fit(train_dataset, \n",
    "                    epochs=N_EPOCHS, \n",
    "                    steps_per_epoch=steps_per_epoch, \n",
    "                    validation_data= val_dataset, \n",
    "                    validation_steps=validation_steps,\n",
    "                    callbacks=[lr_scheduler_callback])"
   ]
  },
  {
   "cell_type": "code",
   "execution_count": null,
   "metadata": {
    "id": "vbitbgHIeN7X"
   },
   "outputs": [],
   "source": []
  }
 ],
 "metadata": {
  "accelerator": "GPU",
  "colab": {
   "collapsed_sections": [],
   "name": "05_DNN_성능개선_소스.ipynb",
   "provenance": []
  },
  "kernelspec": {
   "display_name": "Python 3",
   "language": "python",
   "name": "python3"
  },
  "language_info": {
   "codemirror_mode": {
    "name": "ipython",
    "version": 3
   },
   "file_extension": ".py",
   "mimetype": "text/x-python",
   "name": "python",
   "nbconvert_exporter": "python",
   "pygments_lexer": "ipython3",
   "version": "3.8.10"
  }
 },
 "nbformat": 4,
 "nbformat_minor": 1
}
