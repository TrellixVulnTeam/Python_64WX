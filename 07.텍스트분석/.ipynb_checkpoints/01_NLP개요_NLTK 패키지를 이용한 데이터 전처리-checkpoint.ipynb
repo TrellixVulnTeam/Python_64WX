{
 "cells": [
  {
   "cell_type": "markdown",
   "metadata": {},
   "source": [
    "# NLP(Natural Language Processing) 자연어 처리란"
   ]
  },
  {
   "cell_type": "code",
   "execution_count": 1,
   "metadata": {},
   "outputs": [],
   "source": [
    "# 준정형 데이터\n",
    "# 정형, 준정형의 중간형태 : 형태가 있고 값들이 나눠져있으나, 그값이 무엇인지는 정확히 표현이 안되있는 xml, json 보통 markup 언어로 되어있는 형태"
   ]
  },
  {
   "cell_type": "markdown",
   "metadata": {},
   "source": [
    "## 자연어\n",
    "- 사람이 사용하는 고유한 언어\n",
    "- 인공언어의 반대 의미\n",
    "    - 인공언어: 특정 목적을 위해 인위적으로 만든 언어\n",
    "    - ex) 프로그래밍 언어"
   ]
  },
  {
   "cell_type": "markdown",
   "metadata": {},
   "source": [
    "## 자연어 처리\n",
    "- 사람이 사용하는 자연어를 컴퓨터가 사용할 수 있도록 처리하는 과정.\n",
    "- 자연어 처리 응용분야\n",
    "    - 번역 시스템\n",
    "    - 문서요약\n",
    "    - 감성분석\n",
    "    - 대화형 시스템(챗봇)\n",
    "    - 정보 검색 시스템\n",
    "    - 텍스트 마이닝\n",
    "    - 음성인식"
   ]
  },
  {
   "cell_type": "markdown",
   "metadata": {},
   "source": [
    "# 텍스트 분석 수행 프로세스\n",
    "\n",
    "1. 텍스트 전처리 \n",
    "    - 클렌징(cleansing)\n",
    "        - 특수문자, 기호 필요없는 문자 제거\n",
    "        - 대소문자 변경\n",
    "    - stop word(분석에 필요 없는 토큰) 제거\n",
    "    - 텍스트 토큰화\n",
    "        - 분석의 최소단위로 나누는 작업\n",
    "        - 보통 단어단위나 글자단위로 나눈다.\n",
    "    - 어근 추출(Stemming/Lemmatization)을 통한 텍스트 정규화 작업\n",
    "2. Feature vectorization   \n",
    "    - 문자열 비정형 데이터인 텍스트를 숫자타입의 정형데이터로 만드는 작업\n",
    "    - BOW와 Word2Vec\n",
    "3. 머신러닝 모델 수립, 학습, 예측, 평가"
   ]
  },
  {
   "cell_type": "markdown",
   "metadata": {},
   "source": [
    "# NLTK \n",
    "- Natural Language ToolKit\n",
    "- https://www.nltk.org/\n",
    "- 자연어 처리를 위한 파이썬 패키지\n",
    "\n",
    "## NLTK 설치\n",
    "- nltk 패키지 설치\n",
    "pip 설치\n",
    "```\n",
    "pip install nltk\n",
    "```\n",
    "conda 설치\n",
    "```\n",
    "conda install -y nltk\n",
    "```\n",
    "\n",
    "- NLTK 추가 패키지 설치\n",
    "```python\n",
    "import nltk\n",
    "nltk.download() # 설치 GUI 프로그램 실행\n",
    "nltk.download('패키지명')\n",
    "```"
   ]
  },
  {
   "cell_type": "markdown",
   "metadata": {},
   "source": [
    "## NLTK 주요기능\n",
    "- ### 말뭉치(corpus) 제공\n",
    "    - **말뭉치**: 언어 연구를 위해 텍스트를 컴퓨터가 읽을 수 있는 형태로 모아 놓은 언어 자료를 말한다.\n",
    "    - 예제용 말뭉치 데이터를 제공한다.\n",
    "- ### 텍스트 정규화를 위한 기능 제공\n",
    "    - 토큰 생성\n",
    "    - 여러 언어의 Stop word(불용어) 제공\n",
    "    - 형태소 분석\n",
    "        - 형태소\n",
    "            - 의미가 있는 가장 작은 말의 단위\n",
    "        - 형태소 분석\n",
    "            - 말뭉치에서 의미있는(분석시 필요한) 형태소들만 추출하는 것           \n",
    "        - 어간추출(Stemming)\n",
    "        - 원형복원(Lemmatization)\n",
    "        - 품사부착(POS tagging - Part Of Speech)\n",
    "- ### 분석기능을 제공해 주는 클래스 제공\n",
    "    - Text\n",
    "    - FreqDist"
   ]
  },
  {
   "cell_type": "code",
   "execution_count": null,
   "metadata": {},
   "outputs": [],
   "source": []
  },
  {
   "cell_type": "code",
   "execution_count": null,
   "metadata": {},
   "outputs": [],
   "source": []
  },
  {
   "cell_type": "markdown",
   "metadata": {},
   "source": [
    "# NLTK 텍스트 정규화 기본 문법\n",
    "\n",
    "## 텍스트 토큰화\n",
    "- 분석을 위해 문서를 작은 단위로 나누는 작업.\n",
    "- **토큰(Token)**\n",
    "    - 나뉜 문자열의 단위를 말한다. \n",
    "    - 정하기에 따라 문장, 단어일 수도 있고 문자일 수도 있다. \n",
    "- **Tokenizer**\n",
    "    - 문장을 token으로 나눠주는 함수\n",
    "    - NLTK 주요 tokenizer\n",
    "        - **sent_tokenize()** : 문장단위로 나눠준다.\n",
    "        - **word_tokenize()** : 단어단위로 나눠준다.\n",
    "        - **regexp_tokenize()** : 토큰의 단위를 정규표현식으로 지정\n",
    "        - 반환타입 : 토큰하나 하나를 원소로 하는 list"
   ]
  },
  {
   "cell_type": "markdown",
   "metadata": {},
   "source": [
    "import nltk  \n",
    "nltk.download()"
   ]
  },
  {
   "cell_type": "code",
   "execution_count": 2,
   "metadata": {},
   "outputs": [
    {
     "name": "stdout",
     "output_type": "stream",
     "text": [
      "The Zen of Python, by Tim Peters\n",
      "\n",
      "Beautiful is better than ugly.\n",
      "Explicit is better than implicit.\n",
      "Simple is better than complex.\n",
      "Complex is better than complicated.\n",
      "Flat is better than nested.\n",
      "Sparse is better than dense.\n",
      "Readability counts.\n",
      "Special cases aren't special enough to break the rules.\n",
      "Although practicality beats purity.\n",
      "Errors should never pass silently.\n",
      "Unless explicitly silenced.\n",
      "In the face of ambiguity, refuse the temptation to guess.\n",
      "There should be one-- and preferably only one --obvious way to do it.\n",
      "Although that way may not be obvious at first unless you're Dutch.\n",
      "Now is better than never.\n",
      "Although never is often better than *right* now.\n",
      "If the implementation is hard to explain, it's a bad idea.\n",
      "If the implementation is easy to explain, it may be a good idea.\n",
      "Namespaces are one honking great idea -- let's do more of those!\n"
     ]
    }
   ],
   "source": [
    "import this"
   ]
  },
  {
   "cell_type": "code",
   "execution_count": 3,
   "metadata": {},
   "outputs": [],
   "source": [
    "txt = \"\"\"Beautiful is better than ugly.\n",
    "Explicit is better than implicit.\n",
    "Simple is better than complex.\n",
    "Complex is better than complicated.\n",
    "Flat is better than nested.\n",
    "Sparse is better than dense.\n",
    "Readability counts.\n",
    "Special cases aren't special enough to break the rules.\n",
    "Although practicality beats purity.\n",
    "Errors should never pass silently.\n",
    "Unless explicitly silenced.\n",
    "In the face of ambiguity, refuse the temptation to guess.\n",
    "There should be one-- and preferably only one --obvious way to do it.\n",
    "Although that way may not be obvious at first unless you're Dutch.\n",
    "Now is better than never.\n",
    "Although never is often better than *right* now.\n",
    "If the implementation is hard to explain, it's a bad idea.\n",
    "If the implementation is easy to explain, it may be a good idea.\n",
    "Namespaces are one honking great idea -- let's do more of those!\"\"\""
   ]
  },
  {
   "cell_type": "code",
   "execution_count": 4,
   "metadata": {},
   "outputs": [
    {
     "data": {
      "text/plain": [
       "\"Beautiful is better than ugly.\\nExplicit is better than implicit.\\nSimple is better than complex.\\nComplex is better than complicated.\\nFlat is better than nested.\\nSparse is better than dense.\\nReadability counts.\\nSpecial cases aren't special enough to break the rules.\\nAlthough practicality beats purity.\\nErrors should never pass silently.\\nUnless explicitly silenced.\\nIn the face of ambiguity, refuse the temptation to guess.\\nThere should be one-- and preferably only one --obvious way to do it.\\nAlthough that way may not be obvious at first unless you're Dutch.\\nNow is better than never.\\nAlthough never is often better than *right* now.\\nIf the implementation is hard to explain, it's a bad idea.\\nIf the implementation is easy to explain, it may be a good idea.\\nNamespaces are one honking great idea -- let's do more of those!\""
      ]
     },
     "execution_count": 4,
     "metadata": {},
     "output_type": "execute_result"
    }
   ],
   "source": [
    "txt"
   ]
  },
  {
   "cell_type": "code",
   "execution_count": 5,
   "metadata": {},
   "outputs": [],
   "source": [
    "import nltk"
   ]
  },
  {
   "cell_type": "code",
   "execution_count": 6,
   "metadata": {
    "scrolled": true
   },
   "outputs": [
    {
     "name": "stderr",
     "output_type": "stream",
     "text": [
      "[nltk_data] Downloading package punkt to\n",
      "[nltk_data]     C:\\Users\\mein0\\AppData\\Roaming\\nltk_data...\n",
      "[nltk_data]   Package punkt is already up-to-date!\n"
     ]
    },
    {
     "data": {
      "text/plain": [
       "True"
      ]
     },
     "execution_count": 6,
     "metadata": {},
     "output_type": "execute_result"
    }
   ],
   "source": [
    "nltk.download('punkt')"
   ]
  },
  {
   "cell_type": "code",
   "execution_count": 7,
   "metadata": {},
   "outputs": [],
   "source": [
    "# 문장단위로 토큰화\n",
    "sent_list = nltk.sent_tokenize(txt) # 매개변수: 토큰화할 대상 문서(문자열)"
   ]
  },
  {
   "cell_type": "code",
   "execution_count": 8,
   "metadata": {},
   "outputs": [
    {
     "data": {
      "text/plain": [
       "(19, list)"
      ]
     },
     "execution_count": 8,
     "metadata": {},
     "output_type": "execute_result"
    }
   ],
   "source": [
    "len(sent_list), type(sent_list)"
   ]
  },
  {
   "cell_type": "code",
   "execution_count": 9,
   "metadata": {},
   "outputs": [
    {
     "data": {
      "text/plain": [
       "['Beautiful is better than ugly.',\n",
       " 'Explicit is better than implicit.',\n",
       " 'Simple is better than complex.',\n",
       " 'Complex is better than complicated.',\n",
       " 'Flat is better than nested.',\n",
       " 'Sparse is better than dense.',\n",
       " 'Readability counts.',\n",
       " \"Special cases aren't special enough to break the rules.\",\n",
       " 'Although practicality beats purity.',\n",
       " 'Errors should never pass silently.',\n",
       " 'Unless explicitly silenced.',\n",
       " 'In the face of ambiguity, refuse the temptation to guess.',\n",
       " 'There should be one-- and preferably only one --obvious way to do it.',\n",
       " \"Although that way may not be obvious at first unless you're Dutch.\",\n",
       " 'Now is better than never.',\n",
       " 'Although never is often better than *right* now.',\n",
       " \"If the implementation is hard to explain, it's a bad idea.\",\n",
       " 'If the implementation is easy to explain, it may be a good idea.',\n",
       " \"Namespaces are one honking great idea -- let's do more of those!\"]"
      ]
     },
     "execution_count": 9,
     "metadata": {},
     "output_type": "execute_result"
    }
   ],
   "source": [
    "sent_list"
   ]
  },
  {
   "cell_type": "code",
   "execution_count": 10,
   "metadata": {},
   "outputs": [],
   "source": [
    "# 단어단위 토큰화 (공백기준)\n",
    "word_list = nltk.word_tokenize(txt)"
   ]
  },
  {
   "cell_type": "code",
   "execution_count": 11,
   "metadata": {},
   "outputs": [
    {
     "data": {
      "text/plain": [
       "(167, list)"
      ]
     },
     "execution_count": 11,
     "metadata": {},
     "output_type": "execute_result"
    }
   ],
   "source": [
    "len(word_list), type(word_list)"
   ]
  },
  {
   "cell_type": "code",
   "execution_count": 12,
   "metadata": {},
   "outputs": [
    {
     "data": {
      "text/plain": [
       "['Beautiful',\n",
       " 'is',\n",
       " 'better',\n",
       " 'than',\n",
       " 'ugly',\n",
       " '.',\n",
       " 'Explicit',\n",
       " 'is',\n",
       " 'better',\n",
       " 'than',\n",
       " 'implicit',\n",
       " '.',\n",
       " 'Simple',\n",
       " 'is',\n",
       " 'better',\n",
       " 'than',\n",
       " 'complex',\n",
       " '.',\n",
       " 'Complex',\n",
       " 'is',\n",
       " 'better',\n",
       " 'than',\n",
       " 'complicated',\n",
       " '.',\n",
       " 'Flat',\n",
       " 'is',\n",
       " 'better',\n",
       " 'than',\n",
       " 'nested',\n",
       " '.',\n",
       " 'Sparse',\n",
       " 'is',\n",
       " 'better',\n",
       " 'than',\n",
       " 'dense',\n",
       " '.',\n",
       " 'Readability',\n",
       " 'counts',\n",
       " '.',\n",
       " 'Special',\n",
       " 'cases',\n",
       " 'are',\n",
       " \"n't\",\n",
       " 'special',\n",
       " 'enough',\n",
       " 'to',\n",
       " 'break',\n",
       " 'the',\n",
       " 'rules',\n",
       " '.',\n",
       " 'Although',\n",
       " 'practicality',\n",
       " 'beats',\n",
       " 'purity',\n",
       " '.',\n",
       " 'Errors',\n",
       " 'should',\n",
       " 'never',\n",
       " 'pass',\n",
       " 'silently',\n",
       " '.',\n",
       " 'Unless',\n",
       " 'explicitly',\n",
       " 'silenced',\n",
       " '.',\n",
       " 'In',\n",
       " 'the',\n",
       " 'face',\n",
       " 'of',\n",
       " 'ambiguity',\n",
       " ',',\n",
       " 'refuse',\n",
       " 'the',\n",
       " 'temptation',\n",
       " 'to',\n",
       " 'guess',\n",
       " '.',\n",
       " 'There',\n",
       " 'should',\n",
       " 'be',\n",
       " 'one',\n",
       " '--',\n",
       " 'and',\n",
       " 'preferably',\n",
       " 'only',\n",
       " 'one',\n",
       " '--',\n",
       " 'obvious',\n",
       " 'way',\n",
       " 'to',\n",
       " 'do',\n",
       " 'it',\n",
       " '.',\n",
       " 'Although',\n",
       " 'that',\n",
       " 'way',\n",
       " 'may',\n",
       " 'not',\n",
       " 'be',\n",
       " 'obvious',\n",
       " 'at',\n",
       " 'first',\n",
       " 'unless',\n",
       " 'you',\n",
       " \"'re\",\n",
       " 'Dutch',\n",
       " '.',\n",
       " 'Now',\n",
       " 'is',\n",
       " 'better',\n",
       " 'than',\n",
       " 'never',\n",
       " '.',\n",
       " 'Although',\n",
       " 'never',\n",
       " 'is',\n",
       " 'often',\n",
       " 'better',\n",
       " 'than',\n",
       " '*',\n",
       " 'right',\n",
       " '*',\n",
       " 'now',\n",
       " '.',\n",
       " 'If',\n",
       " 'the',\n",
       " 'implementation',\n",
       " 'is',\n",
       " 'hard',\n",
       " 'to',\n",
       " 'explain',\n",
       " ',',\n",
       " 'it',\n",
       " \"'s\",\n",
       " 'a',\n",
       " 'bad',\n",
       " 'idea',\n",
       " '.',\n",
       " 'If',\n",
       " 'the',\n",
       " 'implementation',\n",
       " 'is',\n",
       " 'easy',\n",
       " 'to',\n",
       " 'explain',\n",
       " ',',\n",
       " 'it',\n",
       " 'may',\n",
       " 'be',\n",
       " 'a',\n",
       " 'good',\n",
       " 'idea',\n",
       " '.',\n",
       " 'Namespaces',\n",
       " 'are',\n",
       " 'one',\n",
       " 'honking',\n",
       " 'great',\n",
       " 'idea',\n",
       " '--',\n",
       " 'let',\n",
       " \"'s\",\n",
       " 'do',\n",
       " 'more',\n",
       " 'of',\n",
       " 'those',\n",
       " '!']"
      ]
     },
     "execution_count": 12,
     "metadata": {},
     "output_type": "execute_result"
    }
   ],
   "source": [
    "word_list"
   ]
  },
  {
   "cell_type": "code",
   "execution_count": 13,
   "metadata": {},
   "outputs": [
    {
     "data": {
      "text/plain": [
       "140"
      ]
     },
     "execution_count": 13,
     "metadata": {},
     "output_type": "execute_result"
    }
   ],
   "source": [
    "# 토큰의 형식(패턴)을 정규표현식으로 지정.\n",
    "reg_list = nltk.regexp_tokenize(txt,'\\w+') # \\w : 0-9a-zA-Z가-힣_ , +: 1글자 이상\n",
    "len(reg_list)"
   ]
  },
  {
   "cell_type": "code",
   "execution_count": 14,
   "metadata": {},
   "outputs": [
    {
     "data": {
      "text/plain": [
       "['Beautiful',\n",
       " 'is',\n",
       " 'better',\n",
       " 'than',\n",
       " 'ugly',\n",
       " 'Explicit',\n",
       " 'is',\n",
       " 'better',\n",
       " 'than',\n",
       " 'implicit',\n",
       " 'Simple',\n",
       " 'is',\n",
       " 'better',\n",
       " 'than',\n",
       " 'complex',\n",
       " 'Complex',\n",
       " 'is',\n",
       " 'better',\n",
       " 'than',\n",
       " 'complicated',\n",
       " 'Flat',\n",
       " 'is',\n",
       " 'better',\n",
       " 'than',\n",
       " 'nested',\n",
       " 'Sparse',\n",
       " 'is',\n",
       " 'better',\n",
       " 'than',\n",
       " 'dense',\n",
       " 'Readability',\n",
       " 'counts',\n",
       " 'Special',\n",
       " 'cases',\n",
       " 'aren',\n",
       " 't',\n",
       " 'special',\n",
       " 'enough',\n",
       " 'to',\n",
       " 'break',\n",
       " 'the',\n",
       " 'rules',\n",
       " 'Although',\n",
       " 'practicality',\n",
       " 'beats',\n",
       " 'purity',\n",
       " 'Errors',\n",
       " 'should',\n",
       " 'never',\n",
       " 'pass',\n",
       " 'silently',\n",
       " 'Unless',\n",
       " 'explicitly',\n",
       " 'silenced',\n",
       " 'In',\n",
       " 'the',\n",
       " 'face',\n",
       " 'of',\n",
       " 'ambiguity',\n",
       " 'refuse',\n",
       " 'the',\n",
       " 'temptation',\n",
       " 'to',\n",
       " 'guess',\n",
       " 'There',\n",
       " 'should',\n",
       " 'be',\n",
       " 'one',\n",
       " 'and',\n",
       " 'preferably',\n",
       " 'only',\n",
       " 'one',\n",
       " 'obvious',\n",
       " 'way',\n",
       " 'to',\n",
       " 'do',\n",
       " 'it',\n",
       " 'Although',\n",
       " 'that',\n",
       " 'way',\n",
       " 'may',\n",
       " 'not',\n",
       " 'be',\n",
       " 'obvious',\n",
       " 'at',\n",
       " 'first',\n",
       " 'unless',\n",
       " 'you',\n",
       " 're',\n",
       " 'Dutch',\n",
       " 'Now',\n",
       " 'is',\n",
       " 'better',\n",
       " 'than',\n",
       " 'never',\n",
       " 'Although',\n",
       " 'never',\n",
       " 'is',\n",
       " 'often',\n",
       " 'better',\n",
       " 'than',\n",
       " 'right',\n",
       " 'now',\n",
       " 'If',\n",
       " 'the',\n",
       " 'implementation',\n",
       " 'is',\n",
       " 'hard',\n",
       " 'to',\n",
       " 'explain',\n",
       " 'it',\n",
       " 's',\n",
       " 'a',\n",
       " 'bad',\n",
       " 'idea',\n",
       " 'If',\n",
       " 'the',\n",
       " 'implementation',\n",
       " 'is',\n",
       " 'easy',\n",
       " 'to',\n",
       " 'explain',\n",
       " 'it',\n",
       " 'may',\n",
       " 'be',\n",
       " 'a',\n",
       " 'good',\n",
       " 'idea',\n",
       " 'Namespaces',\n",
       " 'are',\n",
       " 'one',\n",
       " 'honking',\n",
       " 'great',\n",
       " 'idea',\n",
       " 'let',\n",
       " 's',\n",
       " 'do',\n",
       " 'more',\n",
       " 'of',\n",
       " 'those']"
      ]
     },
     "execution_count": 14,
     "metadata": {},
     "output_type": "execute_result"
    }
   ],
   "source": [
    "reg_list"
   ]
  },
  {
   "cell_type": "markdown",
   "metadata": {},
   "source": [
    "## Stopword (불용어)\n",
    "- 문장내에서는 많이 사용되지만 문장의 전체 맥락과는 상관없는 단어들.\n",
    "    - ex) 조사, 접미사, 접속사, 대명사 등\n",
    "- Stopword 단어들을 List로 묶어서 관리한다.\n",
    "    - nltk가 언어별로 Stop word 제공.\n",
    "    - 실제 분석대상에 맞는 Stop word 를 만들어서 사용한다. "
   ]
  },
  {
   "cell_type": "code",
   "execution_count": 15,
   "metadata": {},
   "outputs": [
    {
     "name": "stderr",
     "output_type": "stream",
     "text": [
      "[nltk_data] Downloading package stopwords to\n",
      "[nltk_data]     C:\\Users\\mein0\\AppData\\Roaming\\nltk_data...\n",
      "[nltk_data]   Package stopwords is already up-to-date!\n"
     ]
    },
    {
     "data": {
      "text/plain": [
       "True"
      ]
     },
     "execution_count": 15,
     "metadata": {},
     "output_type": "execute_result"
    }
   ],
   "source": [
    "nltk.download('stopwords')"
   ]
  },
  {
   "cell_type": "code",
   "execution_count": 16,
   "metadata": {},
   "outputs": [
    {
     "name": "stdout",
     "output_type": "stream",
     "text": [
      "['arabic', 'azerbaijani', 'danish', 'dutch', 'english', 'finnish', 'french', 'german', 'greek', 'hungarian', 'indonesian', 'italian', 'kazakh', 'nepali', 'norwegian', 'portuguese', 'romanian', 'russian', 'slovene', 'spanish', 'swedish', 'tajik', 'turkish']\n"
     ]
    }
   ],
   "source": [
    "from nltk.corpus import stopwords\n",
    "print(stopwords.fileids())"
   ]
  },
  {
   "cell_type": "code",
   "execution_count": 17,
   "metadata": {},
   "outputs": [
    {
     "name": "stdout",
     "output_type": "stream",
     "text": [
      "248 <class 'list'>\n"
     ]
    },
    {
     "data": {
      "text/plain": [
       "['إذ',\n",
       " 'إذا',\n",
       " 'إذما',\n",
       " 'إذن',\n",
       " 'أف',\n",
       " 'أقل',\n",
       " 'أكثر',\n",
       " 'ألا',\n",
       " 'إلا',\n",
       " 'التي',\n",
       " 'الذي',\n",
       " 'الذين',\n",
       " 'اللاتي',\n",
       " 'اللائي',\n",
       " 'اللتان',\n",
       " 'اللتيا',\n",
       " 'اللتين',\n",
       " 'اللذان',\n",
       " 'اللذين',\n",
       " 'اللواتي',\n",
       " 'إلى',\n",
       " 'إليك',\n",
       " 'إليكم',\n",
       " 'إليكما',\n",
       " 'إليكن',\n",
       " 'أم',\n",
       " 'أما',\n",
       " 'أما',\n",
       " 'إما',\n",
       " 'أن',\n",
       " 'إن',\n",
       " 'إنا',\n",
       " 'أنا',\n",
       " 'أنت',\n",
       " 'أنتم',\n",
       " 'أنتما',\n",
       " 'أنتن',\n",
       " 'إنما',\n",
       " 'إنه',\n",
       " 'أنى',\n",
       " 'أنى',\n",
       " 'آه',\n",
       " 'آها',\n",
       " 'أو',\n",
       " 'أولاء',\n",
       " 'أولئك',\n",
       " 'أوه',\n",
       " 'آي',\n",
       " 'أي',\n",
       " 'أيها',\n",
       " 'إي',\n",
       " 'أين',\n",
       " 'أين',\n",
       " 'أينما',\n",
       " 'إيه',\n",
       " 'بخ',\n",
       " 'بس',\n",
       " 'بعد',\n",
       " 'بعض',\n",
       " 'بك',\n",
       " 'بكم',\n",
       " 'بكم',\n",
       " 'بكما',\n",
       " 'بكن',\n",
       " 'بل',\n",
       " 'بلى',\n",
       " 'بما',\n",
       " 'بماذا',\n",
       " 'بمن',\n",
       " 'بنا',\n",
       " 'به',\n",
       " 'بها',\n",
       " 'بهم',\n",
       " 'بهما',\n",
       " 'بهن',\n",
       " 'بي',\n",
       " 'بين',\n",
       " 'بيد',\n",
       " 'تلك',\n",
       " 'تلكم',\n",
       " 'تلكما',\n",
       " 'ته',\n",
       " 'تي',\n",
       " 'تين',\n",
       " 'تينك',\n",
       " 'ثم',\n",
       " 'ثمة',\n",
       " 'حاشا',\n",
       " 'حبذا',\n",
       " 'حتى',\n",
       " 'حيث',\n",
       " 'حيثما',\n",
       " 'حين',\n",
       " 'خلا',\n",
       " 'دون',\n",
       " 'ذا',\n",
       " 'ذات',\n",
       " 'ذاك',\n",
       " 'ذان',\n",
       " 'ذانك',\n",
       " 'ذلك',\n",
       " 'ذلكم',\n",
       " 'ذلكما',\n",
       " 'ذلكن',\n",
       " 'ذه',\n",
       " 'ذو',\n",
       " 'ذوا',\n",
       " 'ذواتا',\n",
       " 'ذواتي',\n",
       " 'ذي',\n",
       " 'ذين',\n",
       " 'ذينك',\n",
       " 'ريث',\n",
       " 'سوف',\n",
       " 'سوى',\n",
       " 'شتان',\n",
       " 'عدا',\n",
       " 'عسى',\n",
       " 'عل',\n",
       " 'على',\n",
       " 'عليك',\n",
       " 'عليه',\n",
       " 'عما',\n",
       " 'عن',\n",
       " 'عند',\n",
       " 'غير',\n",
       " 'فإذا',\n",
       " 'فإن',\n",
       " 'فلا',\n",
       " 'فمن',\n",
       " 'في',\n",
       " 'فيم',\n",
       " 'فيما',\n",
       " 'فيه',\n",
       " 'فيها',\n",
       " 'قد',\n",
       " 'كأن',\n",
       " 'كأنما',\n",
       " 'كأي',\n",
       " 'كأين',\n",
       " 'كذا',\n",
       " 'كذلك',\n",
       " 'كل',\n",
       " 'كلا',\n",
       " 'كلاهما',\n",
       " 'كلتا',\n",
       " 'كلما',\n",
       " 'كليكما',\n",
       " 'كليهما',\n",
       " 'كم',\n",
       " 'كم',\n",
       " 'كما',\n",
       " 'كي',\n",
       " 'كيت',\n",
       " 'كيف',\n",
       " 'كيفما',\n",
       " 'لا',\n",
       " 'لاسيما',\n",
       " 'لدى',\n",
       " 'لست',\n",
       " 'لستم',\n",
       " 'لستما',\n",
       " 'لستن',\n",
       " 'لسن',\n",
       " 'لسنا',\n",
       " 'لعل',\n",
       " 'لك',\n",
       " 'لكم',\n",
       " 'لكما',\n",
       " 'لكن',\n",
       " 'لكنما',\n",
       " 'لكي',\n",
       " 'لكيلا',\n",
       " 'لم',\n",
       " 'لما',\n",
       " 'لن',\n",
       " 'لنا',\n",
       " 'له',\n",
       " 'لها',\n",
       " 'لهم',\n",
       " 'لهما',\n",
       " 'لهن',\n",
       " 'لو',\n",
       " 'لولا',\n",
       " 'لوما',\n",
       " 'لي',\n",
       " 'لئن',\n",
       " 'ليت',\n",
       " 'ليس',\n",
       " 'ليسا',\n",
       " 'ليست',\n",
       " 'ليستا',\n",
       " 'ليسوا',\n",
       " 'ما',\n",
       " 'ماذا',\n",
       " 'متى',\n",
       " 'مذ',\n",
       " 'مع',\n",
       " 'مما',\n",
       " 'ممن',\n",
       " 'من',\n",
       " 'منه',\n",
       " 'منها',\n",
       " 'منذ',\n",
       " 'مه',\n",
       " 'مهما',\n",
       " 'نحن',\n",
       " 'نحو',\n",
       " 'نعم',\n",
       " 'ها',\n",
       " 'هاتان',\n",
       " 'هاته',\n",
       " 'هاتي',\n",
       " 'هاتين',\n",
       " 'هاك',\n",
       " 'هاهنا',\n",
       " 'هذا',\n",
       " 'هذان',\n",
       " 'هذه',\n",
       " 'هذي',\n",
       " 'هذين',\n",
       " 'هكذا',\n",
       " 'هل',\n",
       " 'هلا',\n",
       " 'هم',\n",
       " 'هما',\n",
       " 'هن',\n",
       " 'هنا',\n",
       " 'هناك',\n",
       " 'هنالك',\n",
       " 'هو',\n",
       " 'هؤلاء',\n",
       " 'هي',\n",
       " 'هيا',\n",
       " 'هيت',\n",
       " 'هيهات',\n",
       " 'والذي',\n",
       " 'والذين',\n",
       " 'وإذ',\n",
       " 'وإذا',\n",
       " 'وإن',\n",
       " 'ولا',\n",
       " 'ولكن',\n",
       " 'ولو',\n",
       " 'وما',\n",
       " 'ومن',\n",
       " 'وهو',\n",
       " 'يا']"
      ]
     },
     "execution_count": 17,
     "metadata": {},
     "output_type": "execute_result"
    }
   ],
   "source": [
    "# 언어별 불용어 사전 loading\n",
    "sw_arabic = stopwords.words('arabic')\n",
    "print(len(sw_arabic), type(sw_arabic))\n",
    "sw_arabic"
   ]
  },
  {
   "cell_type": "code",
   "execution_count": 18,
   "metadata": {},
   "outputs": [
    {
     "data": {
      "text/plain": [
       "179"
      ]
     },
     "execution_count": 18,
     "metadata": {},
     "output_type": "execute_result"
    }
   ],
   "source": [
    "sw = stopwords.words('english')\n",
    "len(sw)"
   ]
  },
  {
   "cell_type": "code",
   "execution_count": 19,
   "metadata": {},
   "outputs": [
    {
     "data": {
      "text/plain": [
       "False"
      ]
     },
     "execution_count": 19,
     "metadata": {},
     "output_type": "execute_result"
    }
   ],
   "source": [
    "\"test\" in sw"
   ]
  },
  {
   "cell_type": "code",
   "execution_count": 20,
   "metadata": {},
   "outputs": [],
   "source": [
    "sw.append('test')"
   ]
  },
  {
   "cell_type": "code",
   "execution_count": 21,
   "metadata": {},
   "outputs": [
    {
     "data": {
      "text/plain": [
       "['i',\n",
       " 'me',\n",
       " 'my',\n",
       " 'myself',\n",
       " 'we',\n",
       " 'our',\n",
       " 'ours',\n",
       " 'ourselves',\n",
       " 'you',\n",
       " \"you're\",\n",
       " \"you've\",\n",
       " \"you'll\",\n",
       " \"you'd\",\n",
       " 'your',\n",
       " 'yours',\n",
       " 'yourself',\n",
       " 'yourselves',\n",
       " 'he',\n",
       " 'him',\n",
       " 'his',\n",
       " 'himself',\n",
       " 'she',\n",
       " \"she's\",\n",
       " 'her',\n",
       " 'hers',\n",
       " 'herself',\n",
       " 'it',\n",
       " \"it's\",\n",
       " 'its',\n",
       " 'itself',\n",
       " 'they',\n",
       " 'them',\n",
       " 'their',\n",
       " 'theirs',\n",
       " 'themselves',\n",
       " 'what',\n",
       " 'which',\n",
       " 'who',\n",
       " 'whom',\n",
       " 'this',\n",
       " 'that',\n",
       " \"that'll\",\n",
       " 'these',\n",
       " 'those',\n",
       " 'am',\n",
       " 'is',\n",
       " 'are',\n",
       " 'was',\n",
       " 'were',\n",
       " 'be',\n",
       " 'been',\n",
       " 'being',\n",
       " 'have',\n",
       " 'has',\n",
       " 'had',\n",
       " 'having',\n",
       " 'do',\n",
       " 'does',\n",
       " 'did',\n",
       " 'doing',\n",
       " 'a',\n",
       " 'an',\n",
       " 'the',\n",
       " 'and',\n",
       " 'but',\n",
       " 'if',\n",
       " 'or',\n",
       " 'because',\n",
       " 'as',\n",
       " 'until',\n",
       " 'while',\n",
       " 'of',\n",
       " 'at',\n",
       " 'by',\n",
       " 'for',\n",
       " 'with',\n",
       " 'about',\n",
       " 'against',\n",
       " 'between',\n",
       " 'into',\n",
       " 'through',\n",
       " 'during',\n",
       " 'before',\n",
       " 'after',\n",
       " 'above',\n",
       " 'below',\n",
       " 'to',\n",
       " 'from',\n",
       " 'up',\n",
       " 'down',\n",
       " 'in',\n",
       " 'out',\n",
       " 'on',\n",
       " 'off',\n",
       " 'over',\n",
       " 'under',\n",
       " 'again',\n",
       " 'further',\n",
       " 'then',\n",
       " 'once',\n",
       " 'here',\n",
       " 'there',\n",
       " 'when',\n",
       " 'where',\n",
       " 'why',\n",
       " 'how',\n",
       " 'all',\n",
       " 'any',\n",
       " 'both',\n",
       " 'each',\n",
       " 'few',\n",
       " 'more',\n",
       " 'most',\n",
       " 'other',\n",
       " 'some',\n",
       " 'such',\n",
       " 'no',\n",
       " 'nor',\n",
       " 'not',\n",
       " 'only',\n",
       " 'own',\n",
       " 'same',\n",
       " 'so',\n",
       " 'than',\n",
       " 'too',\n",
       " 'very',\n",
       " 's',\n",
       " 't',\n",
       " 'can',\n",
       " 'will',\n",
       " 'just',\n",
       " 'don',\n",
       " \"don't\",\n",
       " 'should',\n",
       " \"should've\",\n",
       " 'now',\n",
       " 'd',\n",
       " 'll',\n",
       " 'm',\n",
       " 'o',\n",
       " 're',\n",
       " 've',\n",
       " 'y',\n",
       " 'ain',\n",
       " 'aren',\n",
       " \"aren't\",\n",
       " 'couldn',\n",
       " \"couldn't\",\n",
       " 'didn',\n",
       " \"didn't\",\n",
       " 'doesn',\n",
       " \"doesn't\",\n",
       " 'hadn',\n",
       " \"hadn't\",\n",
       " 'hasn',\n",
       " \"hasn't\",\n",
       " 'haven',\n",
       " \"haven't\",\n",
       " 'isn',\n",
       " \"isn't\",\n",
       " 'ma',\n",
       " 'mightn',\n",
       " \"mightn't\",\n",
       " 'mustn',\n",
       " \"mustn't\",\n",
       " 'needn',\n",
       " \"needn't\",\n",
       " 'shan',\n",
       " \"shan't\",\n",
       " 'shouldn',\n",
       " \"shouldn't\",\n",
       " 'wasn',\n",
       " \"wasn't\",\n",
       " 'weren',\n",
       " \"weren't\",\n",
       " 'won',\n",
       " \"won't\",\n",
       " 'wouldn',\n",
       " \"wouldn't\",\n",
       " 'test']"
      ]
     },
     "execution_count": 21,
     "metadata": {},
     "output_type": "execute_result"
    }
   ],
   "source": [
    "sw"
   ]
  },
  {
   "cell_type": "code",
   "execution_count": null,
   "metadata": {},
   "outputs": [],
   "source": []
  },
  {
   "cell_type": "code",
   "execution_count": null,
   "metadata": {},
   "outputs": [],
   "source": []
  },
  {
   "cell_type": "code",
   "execution_count": null,
   "metadata": {},
   "outputs": [],
   "source": []
  },
  {
   "cell_type": "markdown",
   "metadata": {},
   "source": [
    "### tokenize_text()  함수 구현\n",
    "- 문장별 토큰화 시키는 함수 구현\n",
    "- 쉼표,마침표등 구두점(punctuation)은 공백처리한다.\n",
    "- stopword를 제외한다."
   ]
  },
  {
   "cell_type": "code",
   "execution_count": 22,
   "metadata": {},
   "outputs": [],
   "source": [
    "def tokenize_text(doc):\n",
    "    \"\"\"\n",
    "    하나의 문서를 받아서 토큰화 해서 받환하는 함수.\n",
    "    문장별로 단어리스트를 2차원 배열형태로 반환.\n",
    "    구두점/특수문자, 숫자, 불용어(stopword)들은 모두 제거.\n",
    "    모두 소문자로 구성.\n",
    "    [매개변수]\n",
    "        doc: 변환대상 문서\n",
    "    [반환값]\n",
    "        list: 2차원 형태의 리스트.(문장, 단어)\n",
    "    \"\"\"\n",
    "    result_list = []# 최종결과를 담을 리스트\n",
    "    \n",
    "    # 받은 문장을 다 소문자로 변환\n",
    "    text = doc.lower()\n",
    "    \n",
    "    # 문장단위로 토큰화\n",
    "    sent_token = nltk.sent_tokenize(text)\n",
    "    \n",
    "    # stopword 리스트 생성\n",
    "    sw = stopwords.words('english')\n",
    "    sw.extend(['although', 'unless']) # stopword(불용어) 추가\n",
    "\n",
    "    \n",
    "    # 문장별로 단어단위 토큰화\n",
    "    for sent in sent_token:\n",
    "        # 문장 단위 토큰화 작업. 불용어 제거, 특수문자/숫자 제거\n",
    "        tmp_words = nltk.regexp_tokenize(sent, '[a-zA-Z가-힣]+')\n",
    "        # 불용어 제거\n",
    "        word_list = [ w for w in tmp_words if w not in sw]\n",
    "        result_list.append(word_list)\n",
    "    return result_list"
   ]
  },
  {
   "cell_type": "code",
   "execution_count": 23,
   "metadata": {
    "scrolled": true
   },
   "outputs": [
    {
     "data": {
      "text/plain": [
       "[['beautiful', 'better', 'ugly'],\n",
       " ['explicit', 'better', 'implicit'],\n",
       " ['simple', 'better', 'complex'],\n",
       " ['complex', 'better', 'complicated'],\n",
       " ['flat', 'better', 'nested'],\n",
       " ['sparse', 'better', 'dense'],\n",
       " ['readability', 'counts'],\n",
       " ['special', 'cases', 'special', 'enough', 'break', 'rules'],\n",
       " ['practicality', 'beats', 'purity'],\n",
       " ['errors', 'never', 'pass', 'silently'],\n",
       " ['explicitly', 'silenced'],\n",
       " ['face', 'ambiguity', 'refuse', 'temptation', 'guess'],\n",
       " ['one', 'preferably', 'one', 'obvious', 'way'],\n",
       " ['way', 'may', 'obvious', 'first', 'dutch'],\n",
       " ['better', 'never'],\n",
       " ['never', 'often', 'better', 'right'],\n",
       " ['implementation', 'hard', 'explain', 'bad', 'idea'],\n",
       " ['implementation', 'easy', 'explain', 'may', 'good', 'idea'],\n",
       " ['namespaces', 'one', 'honking', 'great', 'idea', 'let']]"
      ]
     },
     "execution_count": 23,
     "metadata": {},
     "output_type": "execute_result"
    }
   ],
   "source": [
    "tokens = tokenize_text(txt)\n",
    "tokens"
   ]
  },
  {
   "cell_type": "markdown",
   "metadata": {
    "ExecuteTime": {
     "end_time": "2020-09-07T22:13:03.097464Z",
     "start_time": "2020-09-07T22:13:03.035595Z"
    },
    "scrolled": true
   },
   "source": [
    "tokens = tokenize_text(text_sample)\n",
    "tokens"
   ]
  },
  {
   "cell_type": "markdown",
   "metadata": {},
   "source": [
    "- 결과\n",
    "```\n",
    "[['beautiful', 'better', 'ugly'],\n",
    " ['explicit', 'better', 'implicit'],\n",
    " ['simple', 'better', 'complex'],\n",
    " ['complex', 'better', 'complicated'],\n",
    " ['flat', 'better', 'nested'],\n",
    " ['sparse', 'better', 'dense'],\n",
    " ['readability', 'counts'],\n",
    " ['special', 'cases', 'special', 'enough', 'break', 'rules'],\n",
    " ['although', 'practicality', 'beats', 'purity'],\n",
    " ['errors', 'never', 'pass', 'silently'],\n",
    " ['unless', 'explicitly', 'silenced'],\n",
    " ['face', 'ambiguity', 'refuse', 'temptation', 'guess'],\n",
    " ['one', 'preferably', 'one', 'obvious', 'way'],\n",
    " ['although', 'way', 'may', 'obvious', 'first', 'unless', 'dutch'],\n",
    " ['better', 'never'],\n",
    " ['although', 'never', 'often', 'better', 'right'],\n",
    " ['implementation', 'hard', 'explain', 'bad', 'idea'],\n",
    " ['implementation', 'easy', 'explain', 'may', 'good', 'idea']]\n",
    "```"
   ]
  },
  {
   "cell_type": "markdown",
   "metadata": {},
   "source": [
    "## 형태소 분석\n",
    "- 형태소\n",
    "    - 일정한 의미가 있는 가장 작은 말의 단위\n",
    "- 형태소 분석  \n",
    "    - 말뭉치에서 의미있는(분석에 필요한) 형태소들만 추출하는 것\n",
    "    - 보통 단어로 부터 어근, 접두사, 접미사, 품사등 언어적 속성을 파악하여 처리한다. \n",
    "- 형태소 분석을 위한 기법\n",
    "    - 어간추출(Stemming)\n",
    "    - 원형(기본형) 복원 (Lemmatization)\n",
    "    - 품사부착 (POS tagging - Part Of Speech)"
   ]
  },
  {
   "cell_type": "markdown",
   "metadata": {},
   "source": [
    "### 어간추출(Stemming)\n",
    "- 어간: 활용어에서 변하지 않는 부분\n",
    "    - painted, paint, painting => 어간: paint\n",
    "    - 보다, 보니, 보고=>어간 보-\n",
    "- 어간 추출 \n",
    "    - 단어에서 어미를 제거하고 어간을 추출하는 작업\n",
    "- 목적\n",
    "    - 같은 의미를 가지는 단어의 여러가지 활용이 있을 경우 다른 단어로 카운트 되는 문제점을 해결한다.\n",
    "        - flower, flowers 가 두개의 단어로 카운트 되는 것을 flower로 통일한다.        \n",
    "- nltk의 주요 어간 추출 알고리즘\n",
    "    - Porter Stemmer\n",
    "    - Lancaster Stemmer\n",
    "    - Snowball Stemmer\n",
    "- 메소드\n",
    "    - `stemmer객체.stem(단어)`\n",
    "- stemming의 문제\n",
    "    - 완벽하지 않다는 것이 문제이다.        \n",
    "        - ex) new와 news는 다른 단어 인데 둘다 new로 처리한다.\n",
    "    - 처리후 눈으로 직접 확인해야 한다."
   ]
  },
  {
   "cell_type": "code",
   "execution_count": 24,
   "metadata": {},
   "outputs": [],
   "source": [
    "from nltk import PorterStemmer, LancasterStemmer, SnowballStemmer"
   ]
  },
  {
   "cell_type": "code",
   "execution_count": 25,
   "metadata": {},
   "outputs": [],
   "source": [
    "# stemming은 단어들을 모두 소문자로 변환한 후 처리.\n",
    "words =  [\n",
    "    'Working', 'Works','Worked',\n",
    "    'Painting', 'Paints', 'Painted',\n",
    "    'happy','happier','happiness'#'happiest'\n",
    "]"
   ]
  },
  {
   "cell_type": "code",
   "execution_count": 26,
   "metadata": {},
   "outputs": [],
   "source": [
    "# 1. stemmer 객체를 생성\n",
    "# 2. stem(단어)을 호출해서 단어별로 어간추출 작업 진행.\n"
   ]
  },
  {
   "cell_type": "code",
   "execution_count": 27,
   "metadata": {},
   "outputs": [
    {
     "data": {
      "text/plain": [
       "['work',\n",
       " 'work',\n",
       " 'work',\n",
       " 'paint',\n",
       " 'paint',\n",
       " 'paint',\n",
       " 'happi',\n",
       " 'happier',\n",
       " 'happi']"
      ]
     },
     "execution_count": 27,
     "metadata": {},
     "output_type": "execute_result"
    }
   ],
   "source": [
    "ps = PorterStemmer()\n",
    "[ ps.stem(word) for word in words ]"
   ]
  },
  {
   "cell_type": "code",
   "execution_count": 28,
   "metadata": {
    "scrolled": false
   },
   "outputs": [
    {
     "data": {
      "text/plain": [
       "['work', 'work', 'work', 'paint', 'paint', 'paint', 'happy', 'happy', 'happy']"
      ]
     },
     "execution_count": 28,
     "metadata": {},
     "output_type": "execute_result"
    }
   ],
   "source": [
    "ls = LancasterStemmer()\n",
    "[ls.stem(word) for word in words]"
   ]
  },
  {
   "cell_type": "code",
   "execution_count": 29,
   "metadata": {},
   "outputs": [
    {
     "data": {
      "text/plain": [
       "['work',\n",
       " 'work',\n",
       " 'work',\n",
       " 'paint',\n",
       " 'paint',\n",
       " 'paint',\n",
       " 'happi',\n",
       " 'happier',\n",
       " 'happi']"
      ]
     },
     "execution_count": 29,
     "metadata": {},
     "output_type": "execute_result"
    }
   ],
   "source": [
    "ss = SnowballStemmer('english')\n",
    "[ ss.stem(word) for word in words]"
   ]
  },
  {
   "cell_type": "markdown",
   "metadata": {},
   "source": [
    "### 원형(기본형)복원(Lemmatization)\n",
    "- 단어의 기본형을 반환한다.\n",
    "    - ex) am, is, are => be\n",
    "- 단어의 품사를 지정하면 정확한 결과를 얻을 수 있다. \n",
    "- `WordNetLemmatizer객체.lemmatize(단어 [, pos=품사])`\n",
    "\n",
    "> 어간추출과 원형복원은 문법적 또는 의미적으로 변한 단어의 원형을 찾는 역할은 동일하다.<br>\n",
    "> **원형복원**은 품사와 같은 문법적요소와 문장내에서의 의미적인 부분을 감안해 찾기 때문에 어간추출 방식보다 더 정교하다. "
   ]
  },
  {
   "cell_type": "code",
   "execution_count": 30,
   "metadata": {},
   "outputs": [],
   "source": [
    "from nltk.stem import WordNetLemmatizer"
   ]
  },
  {
   "cell_type": "code",
   "execution_count": 33,
   "metadata": {},
   "outputs": [
    {
     "name": "stderr",
     "output_type": "stream",
     "text": [
      "[nltk_data] Downloading package wordnet to\n",
      "[nltk_data]     C:\\Users\\mein0\\AppData\\Roaming\\nltk_data...\n",
      "[nltk_data]   Unzipping corpora\\wordnet.zip.\n"
     ]
    },
    {
     "data": {
      "text/plain": [
       "True"
      ]
     },
     "execution_count": 33,
     "metadata": {},
     "output_type": "execute_result"
    }
   ],
   "source": [
    "nltk.download('wordnet')"
   ]
  },
  {
   "cell_type": "code",
   "execution_count": 31,
   "metadata": {},
   "outputs": [],
   "source": [
    "words = ['is','are','am','has','had','have']"
   ]
  },
  {
   "cell_type": "code",
   "execution_count": 34,
   "metadata": {},
   "outputs": [
    {
     "data": {
      "text/plain": [
       "'be'"
      ]
     },
     "execution_count": 34,
     "metadata": {},
     "output_type": "execute_result"
    }
   ],
   "source": [
    "lemm = WordNetLemmatizer()\n",
    "lemm.lemmatize('are', pos='v')"
   ]
  },
  {
   "cell_type": "code",
   "execution_count": 35,
   "metadata": {
    "scrolled": true
   },
   "outputs": [
    {
     "data": {
      "text/plain": [
       "['be', 'be', 'be', 'have', 'have', 'have']"
      ]
     },
     "execution_count": 35,
     "metadata": {},
     "output_type": "execute_result"
    }
   ],
   "source": [
    "[lemm.lemmatize(word, pos='v') for word in words]"
   ]
  },
  {
   "cell_type": "code",
   "execution_count": 69,
   "metadata": {},
   "outputs": [],
   "source": [
    "words2 = ['happy', 'happier', 'happiest'] # 형용사 = a"
   ]
  },
  {
   "cell_type": "code",
   "execution_count": 38,
   "metadata": {
    "scrolled": true
   },
   "outputs": [
    {
     "data": {
      "text/plain": [
       "['happy', 'happy', 'happy']"
      ]
     },
     "execution_count": 38,
     "metadata": {},
     "output_type": "execute_result"
    }
   ],
   "source": [
    "[lemm.lemmatize(word, pos='a') for word in words2]"
   ]
  },
  {
   "cell_type": "code",
   "execution_count": 42,
   "metadata": {},
   "outputs": [
    {
     "data": {
      "text/plain": [
       "('meet', 'meet')"
      ]
     },
     "execution_count": 42,
     "metadata": {},
     "output_type": "execute_result"
    }
   ],
   "source": [
    "lemm.lemmatize('meeting',pos='v'), lemm.lemmatize('meet')"
   ]
  },
  {
   "cell_type": "code",
   "execution_count": 40,
   "metadata": {},
   "outputs": [
    {
     "data": {
      "text/plain": [
       "('meet', 'meet')"
      ]
     },
     "execution_count": 40,
     "metadata": {},
     "output_type": "execute_result"
    }
   ],
   "source": [
    "ss.stem('meeting'), ss.stem('meet')"
   ]
  },
  {
   "cell_type": "code",
   "execution_count": null,
   "metadata": {},
   "outputs": [],
   "source": []
  },
  {
   "cell_type": "code",
   "execution_count": null,
   "metadata": {},
   "outputs": [],
   "source": []
  },
  {
   "cell_type": "markdown",
   "metadata": {},
   "source": [
    "### 품사부착-POS Tagging(Part-Of-Speech Tagging)\n",
    "- 형태소에 품사를 붙이는 작업.\n",
    "    - 품사의 구분이나 표현은 언어, 학자마다 다르다. \n",
    "- NLTK는 펜 트리뱅크 태그세트(Penn Treebank Tagset) 이용\n",
    "    - 명사 : N으로 시작 (NN-일반명사, NNP-고유명사)\n",
    "    - 형용사 : J로 시작(JJ, JJR-비교급, JJS-최상급)\n",
    "    - 동사: V로 시작 (VB-동사, VBP-현재형 동사)\n",
    "    - 부사: R로 시작 (RB-부사)\n",
    "    - `nltk.help.upenn_tagset(['키워드'])` : 도움말\n",
    "- `pos_tag(단어_리스트)`    \n",
    "    - 단어와 품사를 튜플로 묶은 리스트를 반환"
   ]
  },
  {
   "cell_type": "code",
   "execution_count": 44,
   "metadata": {
    "collapsed": true
   },
   "outputs": [
    {
     "name": "stderr",
     "output_type": "stream",
     "text": [
      "[nltk_data] Downloading package tagsets to\n",
      "[nltk_data]     C:\\Users\\mein0\\AppData\\Roaming\\nltk_data...\n",
      "[nltk_data]   Unzipping help\\tagsets.zip.\n",
      "[nltk_data] Downloading package averaged_perceptron_tagger to\n",
      "[nltk_data]     C:\\Users\\mein0\\AppData\\Roaming\\nltk_data...\n",
      "[nltk_data]   Unzipping taggers\\averaged_perceptron_tagger.zip.\n"
     ]
    },
    {
     "data": {
      "text/plain": [
       "True"
      ]
     },
     "execution_count": 44,
     "metadata": {},
     "output_type": "execute_result"
    }
   ],
   "source": [
    "\n",
    "nltk.download('tagsets')\n",
    "nltk.download('averaged_perceptron_tagger')"
   ]
  },
  {
   "cell_type": "code",
   "execution_count": 45,
   "metadata": {
    "collapsed": true
   },
   "outputs": [
    {
     "name": "stdout",
     "output_type": "stream",
     "text": [
      "$: dollar\n",
      "    $ -$ --$ A$ C$ HK$ M$ NZ$ S$ U.S.$ US$\n",
      "'': closing quotation mark\n",
      "    ' ''\n",
      "(: opening parenthesis\n",
      "    ( [ {\n",
      "): closing parenthesis\n",
      "    ) ] }\n",
      ",: comma\n",
      "    ,\n",
      "--: dash\n",
      "    --\n",
      ".: sentence terminator\n",
      "    . ! ?\n",
      ":: colon or ellipsis\n",
      "    : ; ...\n",
      "CC: conjunction, coordinating\n",
      "    & 'n and both but either et for less minus neither nor or plus so\n",
      "    therefore times v. versus vs. whether yet\n",
      "CD: numeral, cardinal\n",
      "    mid-1890 nine-thirty forty-two one-tenth ten million 0.5 one forty-\n",
      "    seven 1987 twenty '79 zero two 78-degrees eighty-four IX '60s .025\n",
      "    fifteen 271,124 dozen quintillion DM2,000 ...\n",
      "DT: determiner\n",
      "    all an another any both del each either every half la many much nary\n",
      "    neither no some such that the them these this those\n",
      "EX: existential there\n",
      "    there\n",
      "FW: foreign word\n",
      "    gemeinschaft hund ich jeux habeas Haementeria Herr K'ang-si vous\n",
      "    lutihaw alai je jour objets salutaris fille quibusdam pas trop Monte\n",
      "    terram fiche oui corporis ...\n",
      "IN: preposition or conjunction, subordinating\n",
      "    astride among uppon whether out inside pro despite on by throughout\n",
      "    below within for towards near behind atop around if like until below\n",
      "    next into if beside ...\n",
      "JJ: adjective or numeral, ordinal\n",
      "    third ill-mannered pre-war regrettable oiled calamitous first separable\n",
      "    ectoplasmic battery-powered participatory fourth still-to-be-named\n",
      "    multilingual multi-disciplinary ...\n",
      "JJR: adjective, comparative\n",
      "    bleaker braver breezier briefer brighter brisker broader bumper busier\n",
      "    calmer cheaper choosier cleaner clearer closer colder commoner costlier\n",
      "    cozier creamier crunchier cuter ...\n",
      "JJS: adjective, superlative\n",
      "    calmest cheapest choicest classiest cleanest clearest closest commonest\n",
      "    corniest costliest crassest creepiest crudest cutest darkest deadliest\n",
      "    dearest deepest densest dinkiest ...\n",
      "LS: list item marker\n",
      "    A A. B B. C C. D E F First G H I J K One SP-44001 SP-44002 SP-44005\n",
      "    SP-44007 Second Third Three Two * a b c d first five four one six three\n",
      "    two\n",
      "MD: modal auxiliary\n",
      "    can cannot could couldn't dare may might must need ought shall should\n",
      "    shouldn't will would\n",
      "NN: noun, common, singular or mass\n",
      "    common-carrier cabbage knuckle-duster Casino afghan shed thermostat\n",
      "    investment slide humour falloff slick wind hyena override subhumanity\n",
      "    machinist ...\n",
      "NNP: noun, proper, singular\n",
      "    Motown Venneboerger Czestochwa Ranzer Conchita Trumplane Christos\n",
      "    Oceanside Escobar Kreisler Sawyer Cougar Yvette Ervin ODI Darryl CTCA\n",
      "    Shannon A.K.C. Meltex Liverpool ...\n",
      "NNPS: noun, proper, plural\n",
      "    Americans Americas Amharas Amityvilles Amusements Anarcho-Syndicalists\n",
      "    Andalusians Andes Andruses Angels Animals Anthony Antilles Antiques\n",
      "    Apache Apaches Apocrypha ...\n",
      "NNS: noun, common, plural\n",
      "    undergraduates scotches bric-a-brac products bodyguards facets coasts\n",
      "    divestitures storehouses designs clubs fragrances averages\n",
      "    subjectivists apprehensions muses factory-jobs ...\n",
      "PDT: pre-determiner\n",
      "    all both half many quite such sure this\n",
      "POS: genitive marker\n",
      "    ' 's\n",
      "PRP: pronoun, personal\n",
      "    hers herself him himself hisself it itself me myself one oneself ours\n",
      "    ourselves ownself self she thee theirs them themselves they thou thy us\n",
      "PRP$: pronoun, possessive\n",
      "    her his mine my our ours their thy your\n",
      "RB: adverb\n",
      "    occasionally unabatingly maddeningly adventurously professedly\n",
      "    stirringly prominently technologically magisterially predominately\n",
      "    swiftly fiscally pitilessly ...\n",
      "RBR: adverb, comparative\n",
      "    further gloomier grander graver greater grimmer harder harsher\n",
      "    healthier heavier higher however larger later leaner lengthier less-\n",
      "    perfectly lesser lonelier longer louder lower more ...\n",
      "RBS: adverb, superlative\n",
      "    best biggest bluntest earliest farthest first furthest hardest\n",
      "    heartiest highest largest least less most nearest second tightest worst\n",
      "RP: particle\n",
      "    aboard about across along apart around aside at away back before behind\n",
      "    by crop down ever fast for forth from go high i.e. in into just later\n",
      "    low more off on open out over per pie raising start teeth that through\n",
      "    under unto up up-pp upon whole with you\n",
      "SYM: symbol\n",
      "    % & ' '' ''. ) ). * + ,. < = > @ A[fj] U.S U.S.S.R * ** ***\n",
      "TO: \"to\" as preposition or infinitive marker\n",
      "    to\n",
      "UH: interjection\n",
      "    Goodbye Goody Gosh Wow Jeepers Jee-sus Hubba Hey Kee-reist Oops amen\n",
      "    huh howdy uh dammit whammo shucks heck anyways whodunnit honey golly\n",
      "    man baby diddle hush sonuvabitch ...\n",
      "VB: verb, base form\n",
      "    ask assemble assess assign assume atone attention avoid bake balkanize\n",
      "    bank begin behold believe bend benefit bevel beware bless boil bomb\n",
      "    boost brace break bring broil brush build ...\n",
      "VBD: verb, past tense\n",
      "    dipped pleaded swiped regummed soaked tidied convened halted registered\n",
      "    cushioned exacted snubbed strode aimed adopted belied figgered\n",
      "    speculated wore appreciated contemplated ...\n",
      "VBG: verb, present participle or gerund\n",
      "    telegraphing stirring focusing angering judging stalling lactating\n",
      "    hankerin' alleging veering capping approaching traveling besieging\n",
      "    encrypting interrupting erasing wincing ...\n",
      "VBN: verb, past participle\n",
      "    multihulled dilapidated aerosolized chaired languished panelized used\n",
      "    experimented flourished imitated reunifed factored condensed sheared\n",
      "    unsettled primed dubbed desired ...\n",
      "VBP: verb, present tense, not 3rd person singular\n",
      "    predominate wrap resort sue twist spill cure lengthen brush terminate\n",
      "    appear tend stray glisten obtain comprise detest tease attract\n",
      "    emphasize mold postpone sever return wag ...\n",
      "VBZ: verb, present tense, 3rd person singular\n",
      "    bases reconstructs marks mixes displeases seals carps weaves snatches\n",
      "    slumps stretches authorizes smolders pictures emerges stockpiles\n",
      "    seduces fizzes uses bolsters slaps speaks pleads ...\n",
      "WDT: WH-determiner\n",
      "    that what whatever which whichever\n",
      "WP: WH-pronoun\n",
      "    that what whatever whatsoever which who whom whosoever\n",
      "WP$: WH-pronoun, possessive\n",
      "    whose\n",
      "WRB: Wh-adverb\n",
      "    how however whence whenever where whereby whereever wherein whereof why\n",
      "``: opening quotation mark\n",
      "    ` ``\n"
     ]
    }
   ],
   "source": [
    "nltk.help.upenn_tagset()"
   ]
  },
  {
   "cell_type": "code",
   "execution_count": 56,
   "metadata": {
    "collapsed": true
   },
   "outputs": [
    {
     "name": "stdout",
     "output_type": "stream",
     "text": [
      "RB: adverb\n",
      "    occasionally unabatingly maddeningly adventurously professedly\n",
      "    stirringly prominently technologically magisterially predominately\n",
      "    swiftly fiscally pitilessly ...\n"
     ]
    }
   ],
   "source": [
    "nltk.help.upenn_tagset('RB')"
   ]
  },
  {
   "cell_type": "code",
   "execution_count": 48,
   "metadata": {},
   "outputs": [],
   "source": [
    "from nltk.tag import pos_tag"
   ]
  },
  {
   "cell_type": "code",
   "execution_count": 63,
   "metadata": {},
   "outputs": [],
   "source": [
    "words=['Book','book','car','go','American','have','good']"
   ]
  },
  {
   "cell_type": "code",
   "execution_count": 64,
   "metadata": {
    "collapsed": true
   },
   "outputs": [
    {
     "data": {
      "text/plain": [
       "[('Book', 'NNP'),\n",
       " ('book', 'NN'),\n",
       " ('car', 'NN'),\n",
       " ('go', 'VBP'),\n",
       " ('American', 'JJ'),\n",
       " ('have', 'VBP'),\n",
       " ('good', 'JJ')]"
      ]
     },
     "execution_count": 64,
     "metadata": {},
     "output_type": "execute_result"
    }
   ],
   "source": [
    "pos_tag(words)"
   ]
  },
  {
   "cell_type": "markdown",
   "metadata": {},
   "source": [
    "## txt 원형 복원\n",
    "- 각 token에 품사를 부착\n",
    "- 원형복원 처리"
   ]
  },
  {
   "cell_type": "code",
   "execution_count": 71,
   "metadata": {
    "scrolled": true
   },
   "outputs": [],
   "source": [
    "tokens = tokenize_text(txt)\n",
    "tokens = [ word for word_list in tokens for word in word_list]"
   ]
  },
  {
   "cell_type": "code",
   "execution_count": 72,
   "metadata": {
    "collapsed": true
   },
   "outputs": [
    {
     "data": {
      "text/plain": [
       "['beautiful',\n",
       " 'better',\n",
       " 'ugly',\n",
       " 'explicit',\n",
       " 'better',\n",
       " 'implicit',\n",
       " 'simple',\n",
       " 'better',\n",
       " 'complex',\n",
       " 'complex',\n",
       " 'better',\n",
       " 'complicated',\n",
       " 'flat',\n",
       " 'better',\n",
       " 'nested',\n",
       " 'sparse',\n",
       " 'better',\n",
       " 'dense',\n",
       " 'readability',\n",
       " 'counts',\n",
       " 'special',\n",
       " 'cases',\n",
       " 'special',\n",
       " 'enough',\n",
       " 'break',\n",
       " 'rules',\n",
       " 'practicality',\n",
       " 'beats',\n",
       " 'purity',\n",
       " 'errors',\n",
       " 'never',\n",
       " 'pass',\n",
       " 'silently',\n",
       " 'explicitly',\n",
       " 'silenced',\n",
       " 'face',\n",
       " 'ambiguity',\n",
       " 'refuse',\n",
       " 'temptation',\n",
       " 'guess',\n",
       " 'one',\n",
       " 'preferably',\n",
       " 'one',\n",
       " 'obvious',\n",
       " 'way',\n",
       " 'way',\n",
       " 'may',\n",
       " 'obvious',\n",
       " 'first',\n",
       " 'dutch',\n",
       " 'better',\n",
       " 'never',\n",
       " 'never',\n",
       " 'often',\n",
       " 'better',\n",
       " 'right',\n",
       " 'implementation',\n",
       " 'hard',\n",
       " 'explain',\n",
       " 'bad',\n",
       " 'idea',\n",
       " 'implementation',\n",
       " 'easy',\n",
       " 'explain',\n",
       " 'may',\n",
       " 'good',\n",
       " 'idea',\n",
       " 'namespaces',\n",
       " 'one',\n",
       " 'honking',\n",
       " 'great',\n",
       " 'idea',\n",
       " 'let']"
      ]
     },
     "execution_count": 72,
     "metadata": {},
     "output_type": "execute_result"
    }
   ],
   "source": [
    "tokens"
   ]
  },
  {
   "cell_type": "code",
   "execution_count": 75,
   "metadata": {
    "collapsed": true
   },
   "outputs": [
    {
     "data": {
      "text/plain": [
       "[('beautiful', 'JJ'),\n",
       " ('better', 'JJR'),\n",
       " ('ugly', 'RB'),\n",
       " ('explicit', 'JJ'),\n",
       " ('better', 'RBR'),\n",
       " ('implicit', 'JJ'),\n",
       " ('simple', 'JJ'),\n",
       " ('better', 'RBR'),\n",
       " ('complex', 'JJ'),\n",
       " ('complex', 'JJ'),\n",
       " ('better', 'RBR'),\n",
       " ('complicated', 'VBN'),\n",
       " ('flat', 'JJ'),\n",
       " ('better', 'RBR'),\n",
       " ('nested', 'JJ'),\n",
       " ('sparse', 'NN'),\n",
       " ('better', 'RBR'),\n",
       " ('dense', 'NN'),\n",
       " ('readability', 'NN'),\n",
       " ('counts', 'VBZ'),\n",
       " ('special', 'JJ'),\n",
       " ('cases', 'NNS'),\n",
       " ('special', 'JJ'),\n",
       " ('enough', 'JJ'),\n",
       " ('break', 'NN'),\n",
       " ('rules', 'NNS'),\n",
       " ('practicality', 'NN'),\n",
       " ('beats', 'VBP'),\n",
       " ('purity', 'NN'),\n",
       " ('errors', 'NNS'),\n",
       " ('never', 'RB'),\n",
       " ('pass', 'VBP'),\n",
       " ('silently', 'RB'),\n",
       " ('explicitly', 'RB'),\n",
       " ('silenced', 'VBN'),\n",
       " ('face', 'NN'),\n",
       " ('ambiguity', 'NN'),\n",
       " ('refuse', 'VBP'),\n",
       " ('temptation', 'NN'),\n",
       " ('guess', 'NN'),\n",
       " ('one', 'CD'),\n",
       " ('preferably', 'RB'),\n",
       " ('one', 'CD'),\n",
       " ('obvious', 'JJ'),\n",
       " ('way', 'NN'),\n",
       " ('way', 'NN'),\n",
       " ('may', 'MD'),\n",
       " ('obvious', 'VB'),\n",
       " ('first', 'JJ'),\n",
       " ('dutch', 'NN'),\n",
       " ('better', 'RBR'),\n",
       " ('never', 'RB'),\n",
       " ('never', 'RB'),\n",
       " ('often', 'RB'),\n",
       " ('better', 'RB'),\n",
       " ('right', 'JJ'),\n",
       " ('implementation', 'NN'),\n",
       " ('hard', 'RB'),\n",
       " ('explain', 'VBP'),\n",
       " ('bad', 'JJ'),\n",
       " ('idea', 'NN'),\n",
       " ('implementation', 'NN'),\n",
       " ('easy', 'JJ'),\n",
       " ('explain', 'NN'),\n",
       " ('may', 'MD'),\n",
       " ('good', 'VB'),\n",
       " ('idea', 'NN'),\n",
       " ('namespaces', 'NNS'),\n",
       " ('one', 'CD'),\n",
       " ('honking', 'VBG'),\n",
       " ('great', 'JJ'),\n",
       " ('idea', 'NN'),\n",
       " ('let', 'NN')]"
      ]
     },
     "execution_count": 75,
     "metadata": {},
     "output_type": "execute_result"
    }
   ],
   "source": [
    "# 품사부착\n",
    "pos_tagged_tokens = pos_tag(tokens)\n"
   ]
  },
  {
   "cell_type": "code",
   "execution_count": 78,
   "metadata": {
    "collapsed": true
   },
   "outputs": [
    {
     "data": {
      "text/plain": [
       "[('beautiful', 'JJ'),\n",
       " ('better', 'JJR'),\n",
       " ('ugly', 'RB'),\n",
       " ('explicit', 'JJ'),\n",
       " ('better', 'RBR'),\n",
       " ('implicit', 'JJ'),\n",
       " ('simple', 'JJ'),\n",
       " ('better', 'RBR'),\n",
       " ('complex', 'JJ'),\n",
       " ('complex', 'JJ'),\n",
       " ('better', 'RBR'),\n",
       " ('complicated', 'VBN'),\n",
       " ('flat', 'JJ'),\n",
       " ('better', 'RBR'),\n",
       " ('nested', 'JJ'),\n",
       " ('sparse', 'NN'),\n",
       " ('better', 'RBR'),\n",
       " ('dense', 'NN'),\n",
       " ('readability', 'NN'),\n",
       " ('counts', 'VBZ'),\n",
       " ('special', 'JJ'),\n",
       " ('cases', 'NNS'),\n",
       " ('special', 'JJ'),\n",
       " ('enough', 'JJ'),\n",
       " ('break', 'NN'),\n",
       " ('rules', 'NNS'),\n",
       " ('practicality', 'NN'),\n",
       " ('beats', 'VBP'),\n",
       " ('purity', 'NN'),\n",
       " ('errors', 'NNS'),\n",
       " ('never', 'RB'),\n",
       " ('pass', 'VBP'),\n",
       " ('silently', 'RB'),\n",
       " ('explicitly', 'RB'),\n",
       " ('silenced', 'VBN'),\n",
       " ('face', 'NN'),\n",
       " ('ambiguity', 'NN'),\n",
       " ('refuse', 'VBP'),\n",
       " ('temptation', 'NN'),\n",
       " ('guess', 'NN'),\n",
       " ('one', 'CD'),\n",
       " ('preferably', 'RB'),\n",
       " ('one', 'CD'),\n",
       " ('obvious', 'JJ'),\n",
       " ('way', 'NN'),\n",
       " ('way', 'NN'),\n",
       " ('may', 'MD'),\n",
       " ('obvious', 'VB'),\n",
       " ('first', 'JJ'),\n",
       " ('dutch', 'NN'),\n",
       " ('better', 'RBR'),\n",
       " ('never', 'RB'),\n",
       " ('never', 'RB'),\n",
       " ('often', 'RB'),\n",
       " ('better', 'RB'),\n",
       " ('right', 'JJ'),\n",
       " ('implementation', 'NN'),\n",
       " ('hard', 'RB'),\n",
       " ('explain', 'VBP'),\n",
       " ('bad', 'JJ'),\n",
       " ('idea', 'NN'),\n",
       " ('implementation', 'NN'),\n",
       " ('easy', 'JJ'),\n",
       " ('explain', 'NN'),\n",
       " ('may', 'MD'),\n",
       " ('good', 'VB'),\n",
       " ('idea', 'NN'),\n",
       " ('namespaces', 'NNS'),\n",
       " ('one', 'CD'),\n",
       " ('honking', 'VBG'),\n",
       " ('great', 'JJ'),\n",
       " ('idea', 'NN'),\n",
       " ('let', 'NN')]"
      ]
     },
     "execution_count": 78,
     "metadata": {},
     "output_type": "execute_result"
    }
   ],
   "source": [
    "pos_tagged_tokens"
   ]
  },
  {
   "cell_type": "code",
   "execution_count": 76,
   "metadata": {},
   "outputs": [],
   "source": [
    "def get_wordnet_postag(pos_tag):\n",
    "    \"\"\"\n",
    "    펜 트리뱅크 테그셋의 품사를 (pos_tag()반환 형식)을 WordNetLemmatizer(원형복원처리객체)가 사용하는 품사 형식으로 변환\n",
    "    - n: 명사, a: 형용사, v: 동사, r: 부사\n",
    "    \"\"\"\n",
    "    if pos_tag.startswith('J'):\n",
    "        return 'a'\n",
    "    elif pos_tag.startswith('N'):\n",
    "        return 'n'\n",
    "    elif pos_tag.startswith('V'):\n",
    "        return 'v'\n",
    "    elif pos_tag.startswith('R'):\n",
    "        return 'r'\n",
    "    else:\n",
    "        return None"
   ]
  },
  {
   "cell_type": "code",
   "execution_count": 80,
   "metadata": {},
   "outputs": [],
   "source": [
    "wordNet_pos_tagged_tokens = [(word, get_wordnet_postag(tag)) for word, tag in pos_tagged_tokens if get_wordnet_postag(tag)!=None]"
   ]
  },
  {
   "cell_type": "code",
   "execution_count": 81,
   "metadata": {
    "collapsed": true
   },
   "outputs": [
    {
     "data": {
      "text/plain": [
       "[('beautiful', 'a'),\n",
       " ('better', 'a'),\n",
       " ('ugly', 'r'),\n",
       " ('explicit', 'a'),\n",
       " ('better', 'r'),\n",
       " ('implicit', 'a'),\n",
       " ('simple', 'a'),\n",
       " ('better', 'r'),\n",
       " ('complex', 'a'),\n",
       " ('complex', 'a'),\n",
       " ('better', 'r'),\n",
       " ('complicated', 'v'),\n",
       " ('flat', 'a'),\n",
       " ('better', 'r'),\n",
       " ('nested', 'a'),\n",
       " ('sparse', 'n'),\n",
       " ('better', 'r'),\n",
       " ('dense', 'n'),\n",
       " ('readability', 'n'),\n",
       " ('counts', 'v'),\n",
       " ('special', 'a'),\n",
       " ('cases', 'n'),\n",
       " ('special', 'a'),\n",
       " ('enough', 'a'),\n",
       " ('break', 'n'),\n",
       " ('rules', 'n'),\n",
       " ('practicality', 'n'),\n",
       " ('beats', 'v'),\n",
       " ('purity', 'n'),\n",
       " ('errors', 'n'),\n",
       " ('never', 'r'),\n",
       " ('pass', 'v'),\n",
       " ('silently', 'r'),\n",
       " ('explicitly', 'r'),\n",
       " ('silenced', 'v'),\n",
       " ('face', 'n'),\n",
       " ('ambiguity', 'n'),\n",
       " ('refuse', 'v'),\n",
       " ('temptation', 'n'),\n",
       " ('guess', 'n'),\n",
       " ('preferably', 'r'),\n",
       " ('obvious', 'a'),\n",
       " ('way', 'n'),\n",
       " ('way', 'n'),\n",
       " ('obvious', 'v'),\n",
       " ('first', 'a'),\n",
       " ('dutch', 'n'),\n",
       " ('better', 'r'),\n",
       " ('never', 'r'),\n",
       " ('never', 'r'),\n",
       " ('often', 'r'),\n",
       " ('better', 'r'),\n",
       " ('right', 'a'),\n",
       " ('implementation', 'n'),\n",
       " ('hard', 'r'),\n",
       " ('explain', 'v'),\n",
       " ('bad', 'a'),\n",
       " ('idea', 'n'),\n",
       " ('implementation', 'n'),\n",
       " ('easy', 'a'),\n",
       " ('explain', 'n'),\n",
       " ('good', 'v'),\n",
       " ('idea', 'n'),\n",
       " ('namespaces', 'n'),\n",
       " ('honking', 'v'),\n",
       " ('great', 'a'),\n",
       " ('idea', 'n'),\n",
       " ('let', 'n')]"
      ]
     },
     "execution_count": 81,
     "metadata": {},
     "output_type": "execute_result"
    }
   ],
   "source": [
    "wordNet_pos_tagged_tokens"
   ]
  },
  {
   "cell_type": "code",
   "execution_count": 82,
   "metadata": {},
   "outputs": [],
   "source": [
    "from nltk.stem import WordNetLemmatizer\n",
    "\n",
    "lemm = WordNetLemmatizer()\n",
    "token_lemm = [lemm.lemmatize(word, pos=tag)for word, tag in wordNet_pos_tagged_tokens]"
   ]
  },
  {
   "cell_type": "code",
   "execution_count": 83,
   "metadata": {
    "collapsed": true
   },
   "outputs": [
    {
     "data": {
      "text/plain": [
       "['beautiful',\n",
       " 'good',\n",
       " 'ugly',\n",
       " 'explicit',\n",
       " 'well',\n",
       " 'implicit',\n",
       " 'simple',\n",
       " 'well',\n",
       " 'complex',\n",
       " 'complex',\n",
       " 'well',\n",
       " 'complicate',\n",
       " 'flat',\n",
       " 'well',\n",
       " 'nested',\n",
       " 'sparse',\n",
       " 'well',\n",
       " 'dense',\n",
       " 'readability',\n",
       " 'count',\n",
       " 'special',\n",
       " 'case',\n",
       " 'special',\n",
       " 'enough',\n",
       " 'break',\n",
       " 'rule',\n",
       " 'practicality',\n",
       " 'beat',\n",
       " 'purity',\n",
       " 'error',\n",
       " 'never',\n",
       " 'pass',\n",
       " 'silently',\n",
       " 'explicitly',\n",
       " 'silence',\n",
       " 'face',\n",
       " 'ambiguity',\n",
       " 'refuse',\n",
       " 'temptation',\n",
       " 'guess',\n",
       " 'preferably',\n",
       " 'obvious',\n",
       " 'way',\n",
       " 'way',\n",
       " 'obvious',\n",
       " 'first',\n",
       " 'dutch',\n",
       " 'well',\n",
       " 'never',\n",
       " 'never',\n",
       " 'often',\n",
       " 'well',\n",
       " 'right',\n",
       " 'implementation',\n",
       " 'hard',\n",
       " 'explain',\n",
       " 'bad',\n",
       " 'idea',\n",
       " 'implementation',\n",
       " 'easy',\n",
       " 'explain',\n",
       " 'good',\n",
       " 'idea',\n",
       " 'namespaces',\n",
       " 'honk',\n",
       " 'great',\n",
       " 'idea',\n",
       " 'let']"
      ]
     },
     "execution_count": 83,
     "metadata": {},
     "output_type": "execute_result"
    }
   ],
   "source": [
    "token_lemm"
   ]
  },
  {
   "cell_type": "code",
   "execution_count": 87,
   "metadata": {},
   "outputs": [],
   "source": [
    "#### 명사 추출\n",
    "token_lemm1 = [lemm.lemmatize(word, pos=tag)for word, tag in wordNet_pos_tagged_tokens if tag =='n']"
   ]
  },
  {
   "cell_type": "code",
   "execution_count": 89,
   "metadata": {
    "collapsed": true
   },
   "outputs": [
    {
     "data": {
      "text/plain": [
       "['sparse',\n",
       " 'dense',\n",
       " 'readability',\n",
       " 'cases',\n",
       " 'break',\n",
       " 'rules',\n",
       " 'practicality',\n",
       " 'purity',\n",
       " 'errors',\n",
       " 'face',\n",
       " 'ambiguity',\n",
       " 'temptation',\n",
       " 'guess',\n",
       " 'way',\n",
       " 'way',\n",
       " 'dutch',\n",
       " 'implementation',\n",
       " 'idea',\n",
       " 'implementation',\n",
       " 'explain',\n",
       " 'idea',\n",
       " 'namespaces',\n",
       " 'idea',\n",
       " 'let']"
      ]
     },
     "execution_count": 89,
     "metadata": {},
     "output_type": "execute_result"
    }
   ],
   "source": [
    "nouns = [word for word, tag in pos_tagged_tokens if get_wordnet_postag(tag) == 'n'] \n",
    "nouns"
   ]
  },
  {
   "cell_type": "code",
   "execution_count": 88,
   "metadata": {
    "collapsed": true
   },
   "outputs": [
    {
     "data": {
      "text/plain": [
       "['sparse',\n",
       " 'dense',\n",
       " 'readability',\n",
       " 'case',\n",
       " 'break',\n",
       " 'rule',\n",
       " 'practicality',\n",
       " 'purity',\n",
       " 'error',\n",
       " 'face',\n",
       " 'ambiguity',\n",
       " 'temptation',\n",
       " 'guess',\n",
       " 'way',\n",
       " 'way',\n",
       " 'dutch',\n",
       " 'implementation',\n",
       " 'idea',\n",
       " 'implementation',\n",
       " 'explain',\n",
       " 'idea',\n",
       " 'namespaces',\n",
       " 'idea',\n",
       " 'let']"
      ]
     },
     "execution_count": 88,
     "metadata": {},
     "output_type": "execute_result"
    }
   ],
   "source": [
    "token_lemm1"
   ]
  },
  {
   "cell_type": "code",
   "execution_count": null,
   "metadata": {},
   "outputs": [],
   "source": []
  },
  {
   "cell_type": "code",
   "execution_count": null,
   "metadata": {},
   "outputs": [],
   "source": [
    "lemm.lemmatize('good', pos='VB')"
   ]
  },
  {
   "cell_type": "markdown",
   "metadata": {},
   "source": [
    "## 텍스트 전처리 프로세스\n",
    "- 클렌징(cleansing)\n",
    "    - 특수문자, 기호 필요없는 문자 제거\n",
    "    - 대소문자 변경\n",
    "- stop word(분석에 필요 없는 토큰) 제거\n",
    "- 텍스트 토큰화\n",
    "    - 분석의 최소단위로 나누는 작업\n",
    "    - 보통 단어단위나 글자단위로 나눈다.\n",
    "- 어근 추출(Stemming/Lemmatization)을 통한 텍스트 정규화 작업"
   ]
  },
  {
   "cell_type": "markdown",
   "metadata": {},
   "source": [
    "## TODO \n",
    "- tokenize_text에 stemming 추가"
   ]
  },
  {
   "cell_type": "code",
   "execution_count": 145,
   "metadata": {},
   "outputs": [],
   "source": [
    "def tokenize_text2(doc):\n",
    "    \"\"\"\n",
    "    tokenize_text()함수 + 원형복원을 추가\n",
    "    \"\"\"\n",
    "\n",
    "    #abc = tokenize_text(doc)\n",
    "    # 소문자 변환\n",
    "    text = doc.lower()\n",
    "    \n",
    "    # 문장단위 토큰화\n",
    "    sent_tokens = nltk.sent_tokenize(text)\n",
    "    \n",
    "    # stopwords 리스트 load\n",
    "    sw = stopwords.words('english')\n",
    "    sw.extend(['although', 'unless']) # stopword 추가\n",
    "    \n",
    "    # WordnetLemmatization 객체 생성\n",
    "    lemm = WordNetLemmatizer()\n",
    "    \n",
    "    #최종결과 저장 list\n",
    "    result_list = []\n",
    "        \n",
    "    # 단어단위 토큰화\n",
    "    for sentence in sent_tokens:\n",
    "        # 단어단위 토큰화\n",
    "        word_tokens = nltk.regexp_tokenize(sentence, r'[a-zA-Z]+')\n",
    "        \n",
    "        # 불용어(stopword) 제거\n",
    "        word_tokens = [word for word in word_tokens if word not in sw]\n",
    "        \n",
    "        #원형복원\n",
    "        # 1. pos_tag\n",
    "        word_tokens = pos_tag(word_tokens)\n",
    "        # 2. WordNet이 사용하는 품사태그로 변화\n",
    "        word_tokens = [(word, get_wordnet_postag(tag)) for word, tag in word_tokens if get_wordnet_postag(tag)!=None]\n",
    "        # 3. 원형복워\n",
    "        word_tokens = [lemm.lemmatize(word, pos=tag) for word, tag in word_tokens]\n",
    "        result_list.append(word_tokens)\n",
    "    return result_list"
   ]
  },
  {
   "cell_type": "code",
   "execution_count": 138,
   "metadata": {},
   "outputs": [],
   "source": [
    "def tokenize_text3(doc):\n",
    "    \"\"\"\n",
    "    tokenize_text()함수 + 원형복원을 추가\n",
    "    \"\"\"\n",
    "    result_list = []\n",
    "    #abc = tokenize_text(doc)\n",
    "    # 소문자 변환\n",
    "    lower = doc.lower()\n",
    "    # 문장단위 토큰화\n",
    "    sen_t = nltk.sent_tokenize(lower)\n",
    "    # 단어단위 토큰화\n",
    "        # 불용어(stopword) 제거\n",
    "    stopword = stopwords.words('english')\n",
    "    for sent in sen_t:\n",
    "        tmp_word = nltk.regexp_tokenize(sent, '[a-zA-Z]+')\n",
    "        sw = [w for w in tmp_word if w not in stopword]\n",
    "        pt = pos_tag(sw)\n",
    "        #print(pt)\n",
    "        # 원형복원\n",
    "        lm1 = [lemm.lemmatize(word, get_wordnet_postag(tag)) for word, tag in pt if get_wordnet_postag(tag) != None]\n",
    "        #token_lm = [lemm.lemmatize(word, pos=tag) for word,tag in lm1]\n",
    "        result_list.append(lm1)\n",
    "    return result_list"
   ]
  },
  {
   "cell_type": "code",
   "execution_count": 146,
   "metadata": {},
   "outputs": [],
   "source": [
    "mm = tokenize_text2(txt)"
   ]
  },
  {
   "cell_type": "code",
   "execution_count": 147,
   "metadata": {},
   "outputs": [
    {
     "data": {
      "text/plain": [
       "[['beautiful', 'good', 'ugly'],\n",
       " ['explicit', 'well', 'implicit'],\n",
       " ['simple', 'well', 'complex'],\n",
       " ['complex', 'well', 'complicate'],\n",
       " ['flat', 'well', 'nest'],\n",
       " ['sparse', 'well', 'dense'],\n",
       " ['readability', 'count'],\n",
       " ['special', 'case', 'special', 'enough', 'break', 'rule'],\n",
       " ['practicality', 'beat', 'purity'],\n",
       " ['error', 'never', 'pass', 'silently'],\n",
       " ['explicitly', 'silence'],\n",
       " ['face', 'ambiguity', 'refuse', 'temptation', 'guess'],\n",
       " ['preferably', 'obvious', 'way'],\n",
       " ['way', 'obvious', 'first', 'dutch'],\n",
       " ['well', 'never'],\n",
       " ['never', 'often', 'good', 'right'],\n",
       " ['implementation', 'hard', 'explain', 'bad', 'idea'],\n",
       " ['implementation', 'easy', 'explain', 'good', 'idea'],\n",
       " ['namespaces', 'honk', 'great', 'idea', 'let']]"
      ]
     },
     "execution_count": 147,
     "metadata": {},
     "output_type": "execute_result"
    }
   ],
   "source": [
    "mm"
   ]
  },
  {
   "cell_type": "code",
   "execution_count": null,
   "metadata": {
    "ExecuteTime": {
     "end_time": "2020-09-07T22:13:03.286922Z",
     "start_time": "2020-09-07T22:13:03.266976Z"
    },
    "scrolled": true
   },
   "outputs": [],
   "source": [
    "tokenize_text2(text_sample)"
   ]
  },
  {
   "cell_type": "markdown",
   "metadata": {},
   "source": [
    "- 결과\n",
    "```\n",
    "[['beautiful', 'good', 'ugly'],\n",
    " ['explicit', 'well', 'implicit'],\n",
    " ['simple', 'well', 'complex'],\n",
    " ['complex', 'well', 'complicate'],\n",
    " ['flat', 'well', 'nest'],\n",
    " ['sparse', 'well', 'dense'],\n",
    " ['readability', 'count'],\n",
    " ['special', 'case', 'special', 'enough', 'break', 'rule'],\n",
    " ['practicality', 'beat', 'purity'],\n",
    " ['error', 'never', 'pass', 'silently'],\n",
    " ['explicitly', 'silence'],\n",
    " ['face', 'ambiguity', 'refuse', 'temptation', 'guess'],\n",
    " ['preferably', 'obvious', 'way'],\n",
    " ['way', 'obvious', 'first', 'dutch'],\n",
    " ['well', 'never'],\n",
    " ['never', 'often', 'good', 'right'],\n",
    " ['implementation', 'hard', 'explain', 'bad', 'idea'],\n",
    " ['implementation', 'easy', 'explain', 'good', 'idea']]\n",
    "```"
   ]
  },
  {
   "cell_type": "markdown",
   "metadata": {},
   "source": [
    "## news.txt"
   ]
  },
  {
   "cell_type": "code",
   "execution_count": 149,
   "metadata": {},
   "outputs": [
    {
     "data": {
      "text/plain": [
       "'Sitting in his parents’ hair salon, Min-Kyu is buried in his computer game.\\nWearing his gray soccer kit, his boots constantly clicking against the tiled floor, the 11-year-old is lost in a parallel universe, far from the distracting noise of electric clippers and the faint smell of hairspray.\\nBut then, as seems to happen so often in this part of the world -- that is, New Malden in suburban southwest London --  ears prick up when the name “Mr. Son” is mentioned.\\nMr. Son, as he is affectionately known here, is actually Son Heung-Min, the South Korean Tottenham football star and national hero. That he is referred to as Mr. Son is a sign of the high esteem in which he is held.\\nFor Min-Kyu, Son, whose instantly recognizable face was broadcast across the world when he scored the first ever goal at Tottenham’s new $1.3 billion stadium,  is a shining example of how an insatiable work ethic yields success. His strike in the 1-0 win over Manchester City in the first leg of the Champions League quarterfinal only served to enhance his reputation.\\n“It’s hard to explain how he makes me feel but I think more than anything Son makes me feel proud,” he said.\\n“It’s so hard to become a professional football player but he’s moved from Korea, to Germany and to England, where he has become one of the best players.\\n“He’s Korea’s best player of all time. Park Ji-Sung was good but Son is at a different level. He works so hard, he scores goals, he always gives 100%.\\n“He is a living example of what I have always said; that hard work will always beat talent.\\n“When I see that Son has done it, it gives me the belief that I can do it too.”\\nFor Min-Kyu, like so many other South Koreans across the diaspora, Son’s success has become a source of national pride.\\nBorn in Chuncheon, northeast of the capital Seoul, Son made his name first in Germany after moving to Europe as a teenager with Hamburg. His success earned him a move to Bayer Leverkusen in 2013 where he caught the eye, persuading Tottenham to pay a reported $28 million for the forward. That fee has been more than repaid since, with Son scoring 18 goals in 53 appearances last season alone. His performance and achievements have established Son as one of the most exciting players in the Premier League, while earning him huge popularity both in Korea and much nearer his new home.\\nBut perhaps for the Korean community of New Malden, or as local councillor Jaesung Ha calls it, “Little Seoul,” the pride is even greater. This corner of the United Kingdom, home to the largest Korean community in Europe, retains huge affection for the country, especially when it comes to sport.\\nAccording to Ha, the first Korean councillor to be elected in London, there are approximately 12,000 South, North and Chinese Koreans living in the local borough, with around 9,000 in New Malden.\\nSituated just over a 20-minute train ride from London’s Waterloo station, the leafy suburb of New Malden is home to the largest Korean community in the UK. “I came here because it was easy to acclimatize,” Ha, who represents the Liberal Democrats, said with a smile. “You could talk in Korean, read in Korean, eat Korean food, and that appealed to me.”\\nLike many older members of the Korean community, Jaesung moved to the UK in the 1980s, originally hoping to live close to the Korean Embassy in Wimbledon. Such a dream proved too expensive and instead, New Malden, with its beautifully manicured residential streets, good schools and excellent transport links, proved far more economical than the rather more luxurious Wimbledon, which is four miles away.\\nOthers followed both for work and study, and once Korean businesses began to move in, New Malden’s reputation as a home away from home began to take shape, with grocery shops, bakeries and restaurants all catering for the local clientele.\\nWalking along the high street, it’s difficult to disagree with Ha’s assessment. Korean menus are plastered across windows, each restaurant offering a different deal with locals spoiled for choice. Ask for a recommendation and you could spend half a day arguing about which restaurant offers the best cuisine.\\nIt’s not just restaurants, though. There’s a Korean community theater, a welcoming center for older Koreans, a Korean travel agent, a language school, and dotted between the traditional fish and chip shops and pubs, are posters advertising Chelsea’s women’s team and its star South Korean player Ji So-Yun.\\nJust off the high street is one of Ji’s favorite restaurants, You Me, named after You Mie, the owner’s daughter.\\nWalk through the doors of the restaurant and it\\'s suddenly apparent that this is not just a place for the locals, it’s the place where South Korea\\'s footballers, including Son, come for a taste of home.\\nStanding proudly by the tables, You Mie points to the hundreds of photos of her with stars of South Korean football, while signed shirts adorn the walls of her family\\'s restaurant.\\n\"I wasn\\'t here when Son visited, but my father says he liked the barbecue,\" she says while talking through the photos of the Tottenham player.\\nYou Mie, a Korean football journalist and a part-time waitress at her parents\\' restaurant in New Malden, has spent the past couple of years writing extensively about Son\\'s success. Her phone does not stop ringing with people begging her for tickets. \"I don\\'t know how they got my number, but I think my mum has been throwing it around and telling everyone I know Son,\" she says with a laugh.\\\\\\nYou Mie whose parents came to Britain in the 1980s, grew up in New Malden. She has witnessed a sea change in attitudes toward football from the South Korean community, first with the arrival of Ji-Sung Park at Manchester United, and then with the national team\\'s success at the 2002 World Cup, where it reached the semifinal as co-hosts.\\nBut she believes it is the success of Son that has sparked a new wave of hysteria, patriotism and pride.\\n\"Son\\'s success has inspired the younger generation here,\" she says. \"You see them now with his name on the back of their shirts, which you never had before.\\n\"Now the kids are reading newspapers just to see if Son is in there. I have parents asking me how to get their child into football. They see how hard he works, his work ethic and people admire that about him.\\n\"People want their kids to follow in his footsteps and fans want to watch him. You see more and more Korean fans going on the Underground and buses to Tottenham games. You see them waving Korean flags on television. Having grown up in London, it does feel a bit strange but I think it\\'s a great thing for Korea.\"\\nSon’s achievements in England are a source of pride, but it was his success in securing victory for South Korea at the 2018 Asian Games that made him headline news.\\nIn South Korea, all men who are deemed physically capable are required to complete 21 months of military service. The only exemptions offered are to those who win gold at the Asian Games or a medal of any color at the Olympic Games.\\nFortunately, for Son, he secured the much-needed gold medal, leading South Korea to a 2-1 victory over Japan and ending speculation over whether he would halt his career to serve in the military.\\n“The military is something that is really sensitive,” You Mie added.\\n“I think that everyone wanted him not to go so he could prolong his career but I know there were some people who said he shouldn’t be given an exemption.\\n“Normally there is a specific reason for people not to go and I don’t think people wanted him to get an exemption just because he’s Son. I think the government thought that too. They were thinking, ‘If we give him an exemption just because he’s Son, then we’ll have to do it for other houses as well.’\\n“Baseball is really big, why not do it for them? I think getting the gold medal and doing it the proper way was the best it could turn out.”\\nSon is not the first South Korean to play in the Premier League, but his impact is being felt far and wide. Park, who won four Premier League titles and the European Champions League with Manchester United between 2005 and 2012 was a pioneer, but his achievements were often overshadowed by playing alongside the likes of Cristiano Ronaldo and Wayne Rooney.\\nOthers such as Seol Ki-Hyun, Lee Young-Pyo and Kim Bo-Kyung, all of whom played in the Premier League and dined at You Me, failed to have quite the same impact as Park.\\nMaking an impact has not appeared to have been a problem for Son, whose goal-scoring exploits have propelled him into the spotlight at Tottenham. Such is his appeal that many South Koreans are flying to London just to watch him in action, according to local travel agent Sukchan Daniel Kim.\\nKim says it\\'s not unusual for football supporters to fly in just for a day to catch a glimpse of their hero, often paying over $915 for flights in addition to accommodation, food, transport and a match ticket.\\n“I know a few people who have flown over from Korea, stayed for a day to watch Son and then flown home again. It’s not unusual.\\n“The problem for people in Korea is getting tickets. They often ask me or members of the Korean community here in the UK to get tickets for them.\\nTravel agent Sukchan Daniel Kim\\n“Sometimes though those tickets can end up going on secondary websites and end up going for two or three times the price.\\n“Ji-Sung Park was the starting point for all this but now Son has appeared and interest has rocketed again.\"\\nPark\\'s success at United inspired a whole new generation of Manchester United supporters throughout the Korean community. Many like Sam Ji, who owns a local hair salon in New Malden, supported United during Park\\'s time at Old Trafford but are now proud Tottenham supporters. He says that for many within the community, it\\'s about supporting the player, not the club.\\n\"When I supported United it was about Park but now everyone is for Tottenham because of Son,\" he said. \"If Son moved from Tottenham and then went to play for Chelsea, would I follow him? Yes, I probably would.”\\nHoil Choi, a local dentist, agrees. When asked if he would consider switching allegiance to Arsenal if Son moved to Tottenham\\'s deadliest rival, he laughs: \"Yes, I think I would.\"\\nDentist Hoil Choi waits to get a haircut at Sam & Sunny Hair Salon in New Malden.\\nIn the hair salon and on the football field, Son\\'s success has struck a chord. Byeong Park, a local pastor who also runs a local Korean football team and works for the UK branch of the Korean Sports Council, says Son\\'s exploits have given the local community great pride.\\nBut while he admires Son\\'s technical and physical attributes, it is the work ethic, instilled by Son\\'s father and former player, Son Woon-Jung, that has made him an example to the next generation.\\n\"I think that the work ethic and the way Son was prepared for life by his parents was a real example,\" Park told CNN.\\nHyoon-Gyun Oh, chairman of the UK’s Korea Sports Council, right, pins a symbol of the Korean Sport & Olympic Committee onto Byeong Park’s lapel.\\n\"We would like to see other youngsters follow in Son\\'s footsteps and perhaps see a second or third \\'Son\\' in the UK in the future. But it\\'s not easy for young Korean footballers to adapt. The language barrier is often raised as one of the most difficult obstacles and it\\'s difficult to get visas and bring the family.\"\\nWhile many Korean footballers have struggled to make an impact in England\\'s Premier League, there is a generation of British-born Koreans who are hoping to forge a path of their own.\\nWatching from the side of the field, Min Kyu’s father, Sam, looks on with a smile as his son takes the ball on his right foot and then his left, appearing comfortable on either foot during a training drill.\\nSam, who was a keen footballer during his teenage years in Seoul, knows the challenges his son will face if he is to become a professional footballer.\\nSam Ji, father of Min-Kyu, cuts a young customer’s hair in the salon he and his wife run in New Malden.\\nHe came to the country in the 1980s after winning a place at the Sassoon hairdressing academy in London, where he met his wife, Sunny. The couple own a salon in New Malden often working long hours to provide for their two children. With his daughter a successful junior golfer, and his son pursuing football, Sam says it is difficult to support Min-Kyu’s commitments.\\nHe says at least two Premier League clubs have asked about taking Min-Kyu on trial, but the travel that would require would make it difficult for him to find cover at work and he’s unable to make such sacrifices. But that doesn’t mean he’s giving up.\\nMin-Kyu-Ji, center, sits among teammates during a training session in New Malden.\\n\"My son loves football but it\\'s hard when you have work,\" he says. \"Min-Kyu is always with a football, he eats while sitting with a football.\\n\"So for us, Son is like a miracle. He’s brilliant. He’s a great example for our children.\\n“I think Son’s success is inspiring my son. I guess we just have to wait and see.”'"
      ]
     },
     "execution_count": 149,
     "metadata": {},
     "output_type": "execute_result"
    }
   ],
   "source": [
    "with open('news.txt', encoding = 'utf-8') as f:\n",
    "    new_text = f.read()\n",
    "new_text"
   ]
  },
  {
   "cell_type": "code",
   "execution_count": 150,
   "metadata": {},
   "outputs": [],
   "source": [
    "news_tokens = tokenize_text2(new_text)"
   ]
  },
  {
   "cell_type": "code",
   "execution_count": 151,
   "metadata": {},
   "outputs": [
    {
     "data": {
      "text/plain": [
       "[['sit', 'parent', 'hair', 'salon', 'min', 'kyu', 'bury', 'computer', 'game'],\n",
       " ['wear',\n",
       "  'gray',\n",
       "  'soccer',\n",
       "  'kit',\n",
       "  'boot',\n",
       "  'constantly',\n",
       "  'click',\n",
       "  'tile',\n",
       "  'floor',\n",
       "  'year',\n",
       "  'old',\n",
       "  'lose',\n",
       "  'parallel',\n",
       "  'universe',\n",
       "  'far',\n",
       "  'distract',\n",
       "  'noise',\n",
       "  'electric',\n",
       "  'clipper',\n",
       "  'faint',\n",
       "  'smell',\n",
       "  'hairspray'],\n",
       " ['seem',\n",
       "  'happen',\n",
       "  'often',\n",
       "  'part',\n",
       "  'world',\n",
       "  'new',\n",
       "  'malden',\n",
       "  'suburban',\n",
       "  'southwest',\n",
       "  'london',\n",
       "  'ears',\n",
       "  'prick',\n",
       "  'name',\n",
       "  'mr'],\n",
       " ['son', 'mention'],\n",
       " ['mr',\n",
       "  'son',\n",
       "  'affectionately',\n",
       "  'know',\n",
       "  'actually',\n",
       "  'son',\n",
       "  'heung',\n",
       "  'min',\n",
       "  'south',\n",
       "  'korean',\n",
       "  'tottenham',\n",
       "  'football',\n",
       "  'star',\n",
       "  'national',\n",
       "  'hero'],\n",
       " ['refer', 'mr', 'son', 'sign', 'high', 'esteem', 'hold'],\n",
       " ['min',\n",
       "  'kyu',\n",
       "  'son',\n",
       "  'instantly',\n",
       "  'recognizable',\n",
       "  'face',\n",
       "  'broadcast',\n",
       "  'world',\n",
       "  'score',\n",
       "  'first',\n",
       "  'ever',\n",
       "  'goal',\n",
       "  'tottenham',\n",
       "  'new',\n",
       "  'stadium',\n",
       "  'shin',\n",
       "  'example',\n",
       "  'insatiable',\n",
       "  'work',\n",
       "  'ethic',\n",
       "  'yield',\n",
       "  'success'],\n",
       " ['strike',\n",
       "  'win',\n",
       "  'manchester',\n",
       "  'city',\n",
       "  'first',\n",
       "  'leg',\n",
       "  'champion',\n",
       "  'league',\n",
       "  'quarterfinal',\n",
       "  'serve',\n",
       "  'enhance',\n",
       "  'reputation'],\n",
       " ['hard',\n",
       "  'explain',\n",
       "  'make',\n",
       "  'feel',\n",
       "  'think',\n",
       "  'anything',\n",
       "  'son',\n",
       "  'make',\n",
       "  'feel',\n",
       "  'proud',\n",
       "  'say'],\n",
       " ['hard',\n",
       "  'become',\n",
       "  'professional',\n",
       "  'football',\n",
       "  'player',\n",
       "  'move',\n",
       "  'korea',\n",
       "  'germany',\n",
       "  'england',\n",
       "  'become',\n",
       "  'best',\n",
       "  'player'],\n",
       " ['korea', 'best', 'player', 'time'],\n",
       " ['park', 'ji', 'sing', 'good', 'son', 'different', 'level'],\n",
       " ['work', 'hard', 'score', 'goal', 'always', 'give'],\n",
       " ['live',\n",
       "  'example',\n",
       "  'always',\n",
       "  'say',\n",
       "  'hard',\n",
       "  'work',\n",
       "  'always',\n",
       "  'beat',\n",
       "  'talent'],\n",
       " ['see',\n",
       "  'son',\n",
       "  'do',\n",
       "  'give',\n",
       "  'belief',\n",
       "  'min',\n",
       "  'kyu',\n",
       "  'many',\n",
       "  'south',\n",
       "  'korean',\n",
       "  'diaspora',\n",
       "  'son',\n",
       "  'success',\n",
       "  'become',\n",
       "  'source',\n",
       "  'national',\n",
       "  'pride'],\n",
       " ['bear',\n",
       "  'chuncheon',\n",
       "  'northeast',\n",
       "  'capital',\n",
       "  'seoul',\n",
       "  'son',\n",
       "  'make',\n",
       "  'name',\n",
       "  'first',\n",
       "  'germany',\n",
       "  'move',\n",
       "  'europe',\n",
       "  'teenager',\n",
       "  'hamburg'],\n",
       " ['success',\n",
       "  'earn',\n",
       "  'move',\n",
       "  'bayer',\n",
       "  'leverkusen',\n",
       "  'catch',\n",
       "  'eye',\n",
       "  'persuade',\n",
       "  'tottenham',\n",
       "  'pay',\n",
       "  'report',\n",
       "  'forward'],\n",
       " ['fee',\n",
       "  'repaid',\n",
       "  'son',\n",
       "  'score',\n",
       "  'goal',\n",
       "  'appearance',\n",
       "  'last',\n",
       "  'season',\n",
       "  'alone'],\n",
       " ['performance',\n",
       "  'achievement',\n",
       "  'establish',\n",
       "  'son',\n",
       "  'exciting',\n",
       "  'player',\n",
       "  'premier',\n",
       "  'league',\n",
       "  'earn',\n",
       "  'huge',\n",
       "  'popularity',\n",
       "  'korea',\n",
       "  'much',\n",
       "  'near',\n",
       "  'new',\n",
       "  'home'],\n",
       " ['perhaps',\n",
       "  'korean',\n",
       "  'community',\n",
       "  'new',\n",
       "  'malden',\n",
       "  'local',\n",
       "  'councillor',\n",
       "  'jaesung',\n",
       "  'ha',\n",
       "  'call',\n",
       "  'little',\n",
       "  'seoul',\n",
       "  'pride',\n",
       "  'even',\n",
       "  'great'],\n",
       " ['corner',\n",
       "  'united',\n",
       "  'kingdom',\n",
       "  'home',\n",
       "  'large',\n",
       "  'korean',\n",
       "  'community',\n",
       "  'europe',\n",
       "  'retain',\n",
       "  'huge',\n",
       "  'affection',\n",
       "  'country',\n",
       "  'especially',\n",
       "  'come',\n",
       "  'sport'],\n",
       " ['accord',\n",
       "  'ha',\n",
       "  'first',\n",
       "  'korean',\n",
       "  'councillor',\n",
       "  'elect',\n",
       "  'london',\n",
       "  'approximately',\n",
       "  'south',\n",
       "  'north',\n",
       "  'chinese',\n",
       "  'korean',\n",
       "  'live',\n",
       "  'local',\n",
       "  'borough',\n",
       "  'new',\n",
       "  'malden'],\n",
       " ['situate',\n",
       "  'minute',\n",
       "  'train',\n",
       "  'ride',\n",
       "  'london',\n",
       "  'waterloo',\n",
       "  'station',\n",
       "  'leafy',\n",
       "  'suburb',\n",
       "  'new',\n",
       "  'malden',\n",
       "  'home',\n",
       "  'large',\n",
       "  'korean',\n",
       "  'community',\n",
       "  'uk'],\n",
       " ['come',\n",
       "  'easy',\n",
       "  'acclimatize',\n",
       "  'ha',\n",
       "  'represent',\n",
       "  'liberal',\n",
       "  'democrat',\n",
       "  'say',\n",
       "  'smile'],\n",
       " ['talk',\n",
       "  'korean',\n",
       "  'read',\n",
       "  'korean',\n",
       "  'eat',\n",
       "  'korean',\n",
       "  'food',\n",
       "  'appeal',\n",
       "  'many',\n",
       "  'old',\n",
       "  'member',\n",
       "  'korean',\n",
       "  'community',\n",
       "  'jaesung',\n",
       "  'move',\n",
       "  'uk',\n",
       "  'originally',\n",
       "  'hop',\n",
       "  'live',\n",
       "  'close',\n",
       "  'korean',\n",
       "  'embassy',\n",
       "  'wimbledon'],\n",
       " ['dream',\n",
       "  'prove',\n",
       "  'expensive',\n",
       "  'instead',\n",
       "  'new',\n",
       "  'malden',\n",
       "  'beautifully',\n",
       "  'manicure',\n",
       "  'residential',\n",
       "  'street',\n",
       "  'good',\n",
       "  'school',\n",
       "  'excellent',\n",
       "  'transport',\n",
       "  'link',\n",
       "  'prove',\n",
       "  'far',\n",
       "  'economical',\n",
       "  'rather',\n",
       "  'luxurious',\n",
       "  'wimbledon',\n",
       "  'mile',\n",
       "  'away'],\n",
       " ['others',\n",
       "  'follow',\n",
       "  'work',\n",
       "  'study',\n",
       "  'korean',\n",
       "  'business',\n",
       "  'begin',\n",
       "  'move',\n",
       "  'new',\n",
       "  'malden',\n",
       "  'reputation',\n",
       "  'home',\n",
       "  'away',\n",
       "  'home',\n",
       "  'begin',\n",
       "  'take',\n",
       "  'shape',\n",
       "  'grocery',\n",
       "  'shop',\n",
       "  'bakeries',\n",
       "  'restaurant',\n",
       "  'cater',\n",
       "  'local',\n",
       "  'clientele'],\n",
       " ['walk',\n",
       "  'along',\n",
       "  'high',\n",
       "  'street',\n",
       "  'difficult',\n",
       "  'disagree',\n",
       "  'ha',\n",
       "  'assessment'],\n",
       " ['korean',\n",
       "  'menu',\n",
       "  'plaster',\n",
       "  'window',\n",
       "  'restaurant',\n",
       "  'offer',\n",
       "  'different',\n",
       "  'deal',\n",
       "  'local',\n",
       "  'spoil',\n",
       "  'choice'],\n",
       " ['ask',\n",
       "  'recommendation',\n",
       "  'spend',\n",
       "  'half',\n",
       "  'day',\n",
       "  'argue',\n",
       "  'restaurant',\n",
       "  'offer',\n",
       "  'best',\n",
       "  'cuisine'],\n",
       " ['restaurant'],\n",
       " ['korean',\n",
       "  'community',\n",
       "  'theater',\n",
       "  'welcome',\n",
       "  'center',\n",
       "  'old',\n",
       "  'korean',\n",
       "  'korean',\n",
       "  'travel',\n",
       "  'agent',\n",
       "  'language',\n",
       "  'school',\n",
       "  'dot',\n",
       "  'traditional',\n",
       "  'fish',\n",
       "  'chip',\n",
       "  'shop',\n",
       "  'pubs',\n",
       "  'poster',\n",
       "  'advertise',\n",
       "  'chelsea',\n",
       "  'woman',\n",
       "  'team',\n",
       "  'star',\n",
       "  'south',\n",
       "  'korean',\n",
       "  'player',\n",
       "  'ji',\n",
       "  'yun'],\n",
       " ['high',\n",
       "  'street',\n",
       "  'ji',\n",
       "  'favorite',\n",
       "  'restaurant',\n",
       "  'name',\n",
       "  'mie',\n",
       "  'owner',\n",
       "  'daughter'],\n",
       " ['walk',\n",
       "  'door',\n",
       "  'restaurant',\n",
       "  'suddenly',\n",
       "  'apparent',\n",
       "  'place',\n",
       "  'local',\n",
       "  'place',\n",
       "  'south',\n",
       "  'korea',\n",
       "  'footballer',\n",
       "  'include',\n",
       "  'son',\n",
       "  'come',\n",
       "  'taste',\n",
       "  'home'],\n",
       " ['stand',\n",
       "  'proudly',\n",
       "  'table',\n",
       "  'mie',\n",
       "  'point',\n",
       "  'hundred',\n",
       "  'photos',\n",
       "  'star',\n",
       "  'south',\n",
       "  'korean',\n",
       "  'football',\n",
       "  'sign',\n",
       "  'shirt',\n",
       "  'adorn',\n",
       "  'wall',\n",
       "  'family',\n",
       "  'restaurant'],\n",
       " ['son',\n",
       "  'visit',\n",
       "  'father',\n",
       "  'say',\n",
       "  'like',\n",
       "  'barbecue',\n",
       "  'say',\n",
       "  'talk',\n",
       "  'photo',\n",
       "  'tottenham',\n",
       "  'player'],\n",
       " ['mie',\n",
       "  'korean',\n",
       "  'football',\n",
       "  'journalist',\n",
       "  'part',\n",
       "  'time',\n",
       "  'waitress',\n",
       "  'parent',\n",
       "  'restaurant',\n",
       "  'new',\n",
       "  'malden',\n",
       "  'spent',\n",
       "  'couple',\n",
       "  'year',\n",
       "  'write',\n",
       "  'extensively',\n",
       "  'son',\n",
       "  'success'],\n",
       " ['phone', 'stop', 'ring', 'people', 'beg', 'ticket'],\n",
       " ['know',\n",
       "  'get',\n",
       "  'number',\n",
       "  'think',\n",
       "  'mum',\n",
       "  'throw',\n",
       "  'tell',\n",
       "  'everyone',\n",
       "  'know',\n",
       "  'son',\n",
       "  'say',\n",
       "  'mie',\n",
       "  'parent',\n",
       "  'come',\n",
       "  'britain',\n",
       "  'grow',\n",
       "  'new',\n",
       "  'malden'],\n",
       " ['witnessed',\n",
       "  'sea',\n",
       "  'change',\n",
       "  'attitudes',\n",
       "  'football',\n",
       "  'south',\n",
       "  'korean',\n",
       "  'community',\n",
       "  'first',\n",
       "  'arrival',\n",
       "  'ji',\n",
       "  'sung',\n",
       "  'park',\n",
       "  'manchester',\n",
       "  'unite',\n",
       "  'national',\n",
       "  'team',\n",
       "  'success',\n",
       "  'world',\n",
       "  'cup',\n",
       "  'reach',\n",
       "  'semifinal',\n",
       "  'co',\n",
       "  'host'],\n",
       " ['believe',\n",
       "  'success',\n",
       "  'son',\n",
       "  'spark',\n",
       "  'new',\n",
       "  'wave',\n",
       "  'hysteria',\n",
       "  'patriotism',\n",
       "  'pride'],\n",
       " ['son', 'success', 'inspire', 'young', 'generation', 'say'],\n",
       " ['see', 'name', 'back', 'shirt', 'never'],\n",
       " ['kid', 'read', 'newspaper', 'see', 'son'],\n",
       " ['parent', 'ask', 'get', 'child', 'football'],\n",
       " ['see', 'hard', 'work', 'work', 'ethic', 'people', 'admire'],\n",
       " ['people', 'want', 'kid', 'follow', 'footstep', 'fan', 'want', 'watch'],\n",
       " ['see', 'korean', 'fan', 'go', 'underground', 'bus', 'tottenham', 'game'],\n",
       " ['see', 'waving', 'korean', 'flag', 'television'],\n",
       " ['grown', 'london', 'feel', 'strange', 'think', 'great', 'thing', 'korea'],\n",
       " ['son',\n",
       "  'achievement',\n",
       "  'england',\n",
       "  'source',\n",
       "  'pride',\n",
       "  'success',\n",
       "  'secure',\n",
       "  'victory',\n",
       "  'south',\n",
       "  'korea',\n",
       "  'asian',\n",
       "  'game',\n",
       "  'make',\n",
       "  'headline',\n",
       "  'news'],\n",
       " ['south',\n",
       "  'korea',\n",
       "  'men',\n",
       "  'deem',\n",
       "  'physically',\n",
       "  'capable',\n",
       "  'required',\n",
       "  'complete',\n",
       "  'month',\n",
       "  'military',\n",
       "  'service'],\n",
       " ['exemption',\n",
       "  'offer',\n",
       "  'win',\n",
       "  'gold',\n",
       "  'asian',\n",
       "  'game',\n",
       "  'medal',\n",
       "  'color',\n",
       "  'olympic',\n",
       "  'game'],\n",
       " ['fortunately',\n",
       "  'son',\n",
       "  'secure',\n",
       "  'much',\n",
       "  'need',\n",
       "  'gold',\n",
       "  'medal',\n",
       "  'lead',\n",
       "  'south',\n",
       "  'korea',\n",
       "  'victory',\n",
       "  'japan',\n",
       "  'end',\n",
       "  'speculation',\n",
       "  'halt',\n",
       "  'career',\n",
       "  'serve',\n",
       "  'military'],\n",
       " ['military', 'something', 'really', 'sensitive', 'mie', 'add'],\n",
       " ['think',\n",
       "  'everyone',\n",
       "  'want',\n",
       "  'go',\n",
       "  'prolong',\n",
       "  'career',\n",
       "  'people',\n",
       "  'say',\n",
       "  'give',\n",
       "  'exemption'],\n",
       " ['normally',\n",
       "  'specific',\n",
       "  'reason',\n",
       "  'people',\n",
       "  'go',\n",
       "  'think',\n",
       "  'people',\n",
       "  'want',\n",
       "  'get',\n",
       "  'exemption',\n",
       "  'son'],\n",
       " ['think', 'government', 'thought'],\n",
       " ['think',\n",
       "  'give',\n",
       "  'exemption',\n",
       "  'son',\n",
       "  'house',\n",
       "  'well',\n",
       "  'baseball',\n",
       "  'really',\n",
       "  'big'],\n",
       " ['think',\n",
       "  'get',\n",
       "  'gold',\n",
       "  'medal',\n",
       "  'proper',\n",
       "  'way',\n",
       "  'best',\n",
       "  'turn',\n",
       "  'son',\n",
       "  'first',\n",
       "  'south',\n",
       "  'korean',\n",
       "  'play',\n",
       "  'premier',\n",
       "  'league',\n",
       "  'impact',\n",
       "  'felt',\n",
       "  'far',\n",
       "  'wide'],\n",
       " ['park',\n",
       "  'premier',\n",
       "  'league',\n",
       "  'title',\n",
       "  'european',\n",
       "  'champion',\n",
       "  'league',\n",
       "  'manchester',\n",
       "  'unite',\n",
       "  'pioneer',\n",
       "  'achievement',\n",
       "  'often',\n",
       "  'overshadow',\n",
       "  'play',\n",
       "  'alongside',\n",
       "  'like',\n",
       "  'cristiano',\n",
       "  'ronaldo',\n",
       "  'wayne',\n",
       "  'rooney'],\n",
       " ['others',\n",
       "  'seol',\n",
       "  'ki',\n",
       "  'hyun',\n",
       "  'lee',\n",
       "  'young',\n",
       "  'pyo',\n",
       "  'kim',\n",
       "  'bo',\n",
       "  'kyung',\n",
       "  'play',\n",
       "  'premier',\n",
       "  'league',\n",
       "  'din',\n",
       "  'fail',\n",
       "  'quite',\n",
       "  'impact',\n",
       "  'park'],\n",
       " ['make',\n",
       "  'impact',\n",
       "  'appear',\n",
       "  'problem',\n",
       "  'son',\n",
       "  'goal',\n",
       "  'score',\n",
       "  'exploit',\n",
       "  'propel',\n",
       "  'spotlight',\n",
       "  'tottenham'],\n",
       " ['appeal',\n",
       "  'many',\n",
       "  'south',\n",
       "  'korean',\n",
       "  'fly',\n",
       "  'london',\n",
       "  'watch',\n",
       "  'action',\n",
       "  'accord',\n",
       "  'local',\n",
       "  'travel',\n",
       "  'agent',\n",
       "  'sukchan',\n",
       "  'daniel',\n",
       "  'kim'],\n",
       " ['kim',\n",
       "  'say',\n",
       "  'unusual',\n",
       "  'football',\n",
       "  'supporter',\n",
       "  'fly',\n",
       "  'day',\n",
       "  'catch',\n",
       "  'glimpse',\n",
       "  'hero',\n",
       "  'often',\n",
       "  'pay',\n",
       "  'flight',\n",
       "  'addition',\n",
       "  'accommodation',\n",
       "  'food',\n",
       "  'transport',\n",
       "  'match',\n",
       "  'ticket'],\n",
       " ['know',\n",
       "  'people',\n",
       "  'fly',\n",
       "  'korea',\n",
       "  'stayed',\n",
       "  'day',\n",
       "  'watch',\n",
       "  'son',\n",
       "  'fly',\n",
       "  'home'],\n",
       " ['unusual'],\n",
       " ['problem', 'people', 'korea', 'get', 'ticket'],\n",
       " ['often', 'ask', 'member', 'korean', 'community', 'uk', 'get', 'ticket'],\n",
       " ['travel',\n",
       "  'agent',\n",
       "  'sukchan',\n",
       "  'daniel',\n",
       "  'kim',\n",
       "  'sometimes',\n",
       "  'ticket',\n",
       "  'end',\n",
       "  'go',\n",
       "  'secondary',\n",
       "  'website',\n",
       "  'end',\n",
       "  'go',\n",
       "  'time',\n",
       "  'price'],\n",
       " ['ji',\n",
       "  'sung',\n",
       "  'park',\n",
       "  'start',\n",
       "  'point',\n",
       "  'son',\n",
       "  'appear',\n",
       "  'interest',\n",
       "  'rocket'],\n",
       " ['park',\n",
       "  'success',\n",
       "  'unite',\n",
       "  'inspired',\n",
       "  'whole',\n",
       "  'new',\n",
       "  'generation',\n",
       "  'manchester',\n",
       "  'unite',\n",
       "  'supporter',\n",
       "  'korean',\n",
       "  'community'],\n",
       " ['many',\n",
       "  'sam',\n",
       "  'ji',\n",
       "  'own',\n",
       "  'local',\n",
       "  'hair',\n",
       "  'salon',\n",
       "  'new',\n",
       "  'malden',\n",
       "  'support',\n",
       "  'united',\n",
       "  'park',\n",
       "  'time',\n",
       "  'old',\n",
       "  'trafford',\n",
       "  'proud',\n",
       "  'tottenham',\n",
       "  'supporter'],\n",
       " ['say', 'many', 'community', 'support', 'player', 'club'],\n",
       " ['support', 'united', 'park', 'everyone', 'tottenham', 'son', 'say'],\n",
       " ['son', 'move', 'tottenham', 'go', 'play', 'chelsea', 'follow'],\n",
       " ['yes', 'probably', 'hoil', 'choi', 'local', 'dentist', 'agrees'],\n",
       " ['ask',\n",
       "  'consider',\n",
       "  'switch',\n",
       "  'allegiance',\n",
       "  'arsenal',\n",
       "  'son',\n",
       "  'move',\n",
       "  'tottenham',\n",
       "  'deadly',\n",
       "  'rival',\n",
       "  'laugh',\n",
       "  'yes',\n",
       "  'think'],\n",
       " ['dentist',\n",
       "  'hoil',\n",
       "  'choi',\n",
       "  'wait',\n",
       "  'get',\n",
       "  'haircut',\n",
       "  'sam',\n",
       "  'sunny',\n",
       "  'hair',\n",
       "  'salon',\n",
       "  'new',\n",
       "  'malden'],\n",
       " ['hair', 'salon', 'football', 'field', 'son', 'success', 'strike', 'chord'],\n",
       " ['byeong',\n",
       "  'park',\n",
       "  'local',\n",
       "  'pastor',\n",
       "  'also',\n",
       "  'run',\n",
       "  'local',\n",
       "  'korean',\n",
       "  'football',\n",
       "  'team',\n",
       "  'work',\n",
       "  'uk',\n",
       "  'branch',\n",
       "  'korean',\n",
       "  'sport',\n",
       "  'council',\n",
       "  'say',\n",
       "  'son',\n",
       "  'exploit',\n",
       "  'give',\n",
       "  'local',\n",
       "  'community',\n",
       "  'great',\n",
       "  'pride'],\n",
       " ['admires',\n",
       "  'son',\n",
       "  'technical',\n",
       "  'physical',\n",
       "  'attribute',\n",
       "  'work',\n",
       "  'ethic',\n",
       "  'instill',\n",
       "  'son',\n",
       "  'father',\n",
       "  'former',\n",
       "  'player',\n",
       "  'son',\n",
       "  'woon',\n",
       "  'jung',\n",
       "  'make',\n",
       "  'example',\n",
       "  'next',\n",
       "  'generation'],\n",
       " ['think',\n",
       "  'work',\n",
       "  'ethic',\n",
       "  'way',\n",
       "  'son',\n",
       "  'prepare',\n",
       "  'life',\n",
       "  'parent',\n",
       "  'real',\n",
       "  'example',\n",
       "  'park',\n",
       "  'tell',\n",
       "  'cnn'],\n",
       " ['hyoon',\n",
       "  'gyun',\n",
       "  'chairman',\n",
       "  'uk',\n",
       "  'korea',\n",
       "  'sport',\n",
       "  'council',\n",
       "  'right',\n",
       "  'pin',\n",
       "  'symbol',\n",
       "  'korean',\n",
       "  'sport',\n",
       "  'olympic',\n",
       "  'committee',\n",
       "  'byeong',\n",
       "  'park',\n",
       "  'lapel'],\n",
       " ['like',\n",
       "  'see',\n",
       "  'youngster',\n",
       "  'follow',\n",
       "  'son',\n",
       "  'footstep',\n",
       "  'perhaps',\n",
       "  'see',\n",
       "  'second',\n",
       "  'third',\n",
       "  'son',\n",
       "  'uk',\n",
       "  'future'],\n",
       " ['easy', 'young', 'korean', 'footballer', 'adapt'],\n",
       " ['language',\n",
       "  'barrier',\n",
       "  'often',\n",
       "  'raise',\n",
       "  'difficult',\n",
       "  'obstacle',\n",
       "  'difficult',\n",
       "  'get',\n",
       "  'visas',\n",
       "  'bring',\n",
       "  'family'],\n",
       " ['many',\n",
       "  'korean',\n",
       "  'footballer',\n",
       "  'struggle',\n",
       "  'make',\n",
       "  'impact',\n",
       "  'england',\n",
       "  'premier',\n",
       "  'league',\n",
       "  'generation',\n",
       "  'british',\n",
       "  'bear',\n",
       "  'korean',\n",
       "  'hop',\n",
       "  'forge',\n",
       "  'path'],\n",
       " ['watch',\n",
       "  'side',\n",
       "  'field',\n",
       "  'min',\n",
       "  'kyu',\n",
       "  'father',\n",
       "  'sam',\n",
       "  'look',\n",
       "  'smile',\n",
       "  'son',\n",
       "  'take',\n",
       "  'ball',\n",
       "  'right',\n",
       "  'foot',\n",
       "  'leave',\n",
       "  'appear',\n",
       "  'comfortable',\n",
       "  'foot',\n",
       "  'training',\n",
       "  'drill'],\n",
       " ['sam',\n",
       "  'keen',\n",
       "  'footballer',\n",
       "  'teenage',\n",
       "  'year',\n",
       "  'seoul',\n",
       "  'know',\n",
       "  'challenge',\n",
       "  'son',\n",
       "  'face',\n",
       "  'become',\n",
       "  'professional',\n",
       "  'footballer'],\n",
       " ['sam',\n",
       "  'ji',\n",
       "  'father',\n",
       "  'min',\n",
       "  'kyu',\n",
       "  'cut',\n",
       "  'young',\n",
       "  'customer',\n",
       "  'hair',\n",
       "  'salon',\n",
       "  'wife',\n",
       "  'run',\n",
       "  'new',\n",
       "  'malden'],\n",
       " ['come',\n",
       "  'country',\n",
       "  'win',\n",
       "  'place',\n",
       "  'sassoon',\n",
       "  'hairdressing',\n",
       "  'academy',\n",
       "  'london',\n",
       "  'meet',\n",
       "  'wife',\n",
       "  'sunny'],\n",
       " ['couple',\n",
       "  'salon',\n",
       "  'new',\n",
       "  'malden',\n",
       "  'often',\n",
       "  'work',\n",
       "  'long',\n",
       "  'hour',\n",
       "  'provide',\n",
       "  'child'],\n",
       " ['daughter',\n",
       "  'successful',\n",
       "  'junior',\n",
       "  'golfer',\n",
       "  'son',\n",
       "  'pursue',\n",
       "  'football',\n",
       "  'sam',\n",
       "  'say',\n",
       "  'difficult',\n",
       "  'support',\n",
       "  'min',\n",
       "  'kyu',\n",
       "  'commitment'],\n",
       " ['say',\n",
       "  'least',\n",
       "  'premier',\n",
       "  'league',\n",
       "  'club',\n",
       "  'ask',\n",
       "  'take',\n",
       "  'min',\n",
       "  'trial',\n",
       "  'travel',\n",
       "  'require',\n",
       "  'make',\n",
       "  'difficult',\n",
       "  'find',\n",
       "  'cover',\n",
       "  'work',\n",
       "  'unable',\n",
       "  'make',\n",
       "  'sacrifice'],\n",
       " ['mean', 'give'],\n",
       " ['min',\n",
       "  'kyu',\n",
       "  'ji',\n",
       "  'center',\n",
       "  'sit',\n",
       "  'teammate',\n",
       "  'train',\n",
       "  'session',\n",
       "  'new',\n",
       "  'malden'],\n",
       " ['son', 'love', 'football', 'hard', 'work', 'say'],\n",
       " ['min', 'kyu', 'always', 'football', 'eats', 'sit', 'football'],\n",
       " ['son', 'miracle'],\n",
       " ['brilliant'],\n",
       " ['great', 'example', 'child'],\n",
       " ['think', 'son', 'success', 'inspire', 'son'],\n",
       " ['guess', 'wait', 'see']]"
      ]
     },
     "execution_count": 151,
     "metadata": {},
     "output_type": "execute_result"
    }
   ],
   "source": [
    "news_tokens"
   ]
  },
  {
   "cell_type": "markdown",
   "metadata": {},
   "source": [
    "# 분석을 위한 클래스들\n",
    "## Text클래스\n",
    "- 문서 분석에 유용한 여러 메소드 제공\n",
    "- **토큰 리스트**을 입력해 객체생성 후 제공되는 메소드를 이용해 분석한다.\n",
    "- ### 생성\n",
    "    - Text(토큰리스트, [name=이름])\n",
    "- ### 주요 메소드\n",
    "    - count(단어)\n",
    "        - 매개변수로 전달한 단어의 빈도수\n",
    "    - plot(N)\n",
    "        - 빈도수 상위 N개 단어를 선그래프로 시각화\n",
    "    - dispersion_plot(단어리스트)\n",
    "        - 매개변수로 전달한 단어들이 전체 말뭉치의 어느 부분에 나오는지 시각화"
   ]
  },
  {
   "cell_type": "code",
   "execution_count": 152,
   "metadata": {},
   "outputs": [],
   "source": [
    "news_words = [word for word_list in news_tokens for word in word_list]"
   ]
  },
  {
   "cell_type": "code",
   "execution_count": 154,
   "metadata": {},
   "outputs": [
    {
     "data": {
      "text/plain": [
       "1197"
      ]
     },
     "execution_count": 154,
     "metadata": {},
     "output_type": "execute_result"
    }
   ],
   "source": [
    "len(news_words)"
   ]
  },
  {
   "cell_type": "code",
   "execution_count": 171,
   "metadata": {},
   "outputs": [],
   "source": [
    "news_words2 = []\n",
    "for word_list in news_tokens:\n",
    "    #news_words2 = news_words2 +  word_list\n",
    "    news_words2 += word_list"
   ]
  },
  {
   "cell_type": "code",
   "execution_count": 172,
   "metadata": {},
   "outputs": [
    {
     "data": {
      "text/plain": [
       "1197"
      ]
     },
     "execution_count": 172,
     "metadata": {},
     "output_type": "execute_result"
    }
   ],
   "source": [
    "len(news_words2)"
   ]
  },
  {
   "cell_type": "code",
   "execution_count": 173,
   "metadata": {},
   "outputs": [],
   "source": [
    "from nltk import Text\n",
    "import matplotlib.pyplot as plt"
   ]
  },
  {
   "cell_type": "code",
   "execution_count": 176,
   "metadata": {},
   "outputs": [
    {
     "data": {
      "text/plain": [
       "<Text: 손흥민뉴스>"
      ]
     },
     "execution_count": 176,
     "metadata": {},
     "output_type": "execute_result"
    }
   ],
   "source": [
    "# Text 객체 생성\n",
    "news_text = Text(news_words, name='손흥민뉴스')\n",
    "news_text"
   ]
  },
  {
   "cell_type": "code",
   "execution_count": 184,
   "metadata": {},
   "outputs": [
    {
     "data": {
      "text/plain": [
       "45"
      ]
     },
     "execution_count": 184,
     "metadata": {},
     "output_type": "execute_result"
    }
   ],
   "source": [
    "# text.count(단어): 단어의 빈도수를 조회\n",
    "news_text.count('son')"
   ]
  },
  {
   "cell_type": "code",
   "execution_count": 202,
   "metadata": {},
   "outputs": [
    {
     "data": {
      "image/png": "[encoded data removed]",
      "text/plain": [
       "<Figure size 1080x504 with 1 Axes>"
      ]
     },
     "metadata": {
      "needs_background": "light"
     },
     "output_type": "display_data"
    }
   ],
   "source": [
    "# 빈도수 상위단어들에 대한 그래프.\n",
    "plt.figure(figsize=(15,7))\n",
    "news_text.plot(20)\n",
    "plt.show()"
   ]
  },
  {
   "cell_type": "code",
   "execution_count": 200,
   "metadata": {
    "scrolled": false
   },
   "outputs": [
    {
     "data": {
      "image/png": "[encoded data removed]",
      "text/plain": [
       "<Figure size 1080x504 with 1 Axes>"
      ]
     },
     "metadata": {
      "needs_background": "light"
     },
     "output_type": "display_data"
    }
   ],
   "source": [
    "plt.figure(figsize=(15,7))\n",
    "news_text.dispersion_plot(['son', 'korean','say'])\n",
    "plt.show()"
   ]
  },
  {
   "cell_type": "code",
   "execution_count": null,
   "metadata": {},
   "outputs": [],
   "source": []
  },
  {
   "cell_type": "code",
   "execution_count": null,
   "metadata": {},
   "outputs": [],
   "source": []
  },
  {
   "cell_type": "markdown",
   "metadata": {},
   "source": [
    "## FreqDist\n",
    "- document에서 사용된 토큰(단어)의 사용빈도 데이터를 가지는 클래스\n",
    "    - 토큰(단어)를 key, 개수를 value로 가지는 딕셔너리 형태\n",
    "- 생성\n",
    "    - Text 객체의 vocab() 메소드로 조회한다.\n",
    "    - 생성자(Initializer)에 토큰 List를 직접 넣어 생성가능\n",
    "- 주요 메소드\n",
    "    - B(): 출연한 고유 단어의 개수\n",
    "        - [Apple, Apple] -> 1\n",
    "    - N(): 총 단어수 \n",
    "        - [Apple, Apple] -> 2\n",
    "    - get(단어) 또는 FreqDist['단어'] : 특정 단어의 출연 빈도수\n",
    "    - freq(단어): 총 단어수 대비 특정단어의 출연비율\n",
    "    - most_common() : 빈도수 순서로 정렬하여 리스트로 반환"
   ]
  },
  {
   "cell_type": "code",
   "execution_count": null,
   "metadata": {},
   "outputs": [],
   "source": []
  },
  {
   "cell_type": "code",
   "execution_count": null,
   "metadata": {},
   "outputs": [],
   "source": []
  },
  {
   "cell_type": "code",
   "execution_count": null,
   "metadata": {},
   "outputs": [],
   "source": []
  },
  {
   "cell_type": "code",
   "execution_count": null,
   "metadata": {},
   "outputs": [],
   "source": []
  },
  {
   "cell_type": "code",
   "execution_count": null,
   "metadata": {},
   "outputs": [],
   "source": []
  },
  {
   "cell_type": "markdown",
   "metadata": {},
   "source": [
    "## wordcloud"
   ]
  },
  {
   "cell_type": "code",
   "execution_count": null,
   "metadata": {},
   "outputs": [],
   "source": []
  },
  {
   "cell_type": "code",
   "execution_count": null,
   "metadata": {},
   "outputs": [],
   "source": []
  },
  {
   "cell_type": "code",
   "execution_count": null,
   "metadata": {},
   "outputs": [],
   "source": []
  },
  {
   "cell_type": "code",
   "execution_count": null,
   "metadata": {},
   "outputs": [],
   "source": []
  },
  {
   "cell_type": "code",
   "execution_count": null,
   "metadata": {},
   "outputs": [],
   "source": []
  },
  {
   "cell_type": "code",
   "execution_count": null,
   "metadata": {},
   "outputs": [],
   "source": []
  },
  {
   "cell_type": "markdown",
   "metadata": {},
   "source": [
    "## scikit-learn의 CountVectorizer를 이용해 TDM 만들기\n",
    "\n",
    "- ### TDM\n",
    "    - Term-Document-Matrix\n",
    "    - 문서안에서 문서를 구성하는 단어들이 몇번 나왔는지를 표현하는 행렬\n",
    "- TDM 행렬 반환\n",
    "    - 행: 문서\n",
    "    - 컬럼: 고유단어\n",
    "    - Value: 개수\n",
    "- 학습: fit(raw document)\n",
    "    - raw document - 문장을 원소로 가지는 1차원 배열형태 문서\n",
    "    - 전체 문장들(corpus)에서 고유단어들을 찾아낸뒤 index를 붙인다.\n",
    "- 변환: transform(raw document)\n",
    "    - 문장별(원소) 단어 count\n",
    "- CountVectorizer 주요 속성, 메소드\n",
    "    - cv.vocabulary_\n",
    "        - 단어-index 반환(딕셔너리)\n",
    "    - get_feature_names()\n",
    "        - index순서대로 단어들 반환"
   ]
  },
  {
   "cell_type": "code",
   "execution_count": null,
   "metadata": {},
   "outputs": [],
   "source": []
  },
  {
   "cell_type": "code",
   "execution_count": null,
   "metadata": {},
   "outputs": [],
   "source": []
  },
  {
   "cell_type": "code",
   "execution_count": null,
   "metadata": {},
   "outputs": [],
   "source": []
  },
  {
   "cell_type": "code",
   "execution_count": null,
   "metadata": {},
   "outputs": [],
   "source": []
  },
  {
   "cell_type": "markdown",
   "metadata": {},
   "source": [
    "## news.txt\n",
    "- news.txt를 읽고 TDM 생성 후 csv파일로 저장"
   ]
  },
  {
   "cell_type": "code",
   "execution_count": null,
   "metadata": {},
   "outputs": [],
   "source": []
  },
  {
   "cell_type": "code",
   "execution_count": null,
   "metadata": {},
   "outputs": [],
   "source": []
  },
  {
   "cell_type": "code",
   "execution_count": null,
   "metadata": {},
   "outputs": [],
   "source": []
  },
  {
   "cell_type": "code",
   "execution_count": null,
   "metadata": {},
   "outputs": [],
   "source": []
  },
  {
   "cell_type": "code",
   "execution_count": null,
   "metadata": {},
   "outputs": [],
   "source": []
  },
  {
   "cell_type": "code",
   "execution_count": null,
   "metadata": {},
   "outputs": [],
   "source": []
  }
 ],
 "metadata": {
  "kernelspec": {
   "display_name": "Python 3",
   "language": "python",
   "name": "python3"
  },
  "language_info": {
   "codemirror_mode": {
    "name": "ipython",
    "version": 3
   },
   "file_extension": ".py",
   "mimetype": "text/x-python",
   "name": "python",
   "nbconvert_exporter": "python",
   "pygments_lexer": "ipython3",
   "version": "3.7.10"
  },
  "toc": {
   "base_numbering": 1,
   "nav_menu": {},
   "number_sections": false,
   "sideBar": true,
   "skip_h1_title": false,
   "title_cell": "Table of Contents",
   "title_sidebar": "Contents",
   "toc_cell": false,
   "toc_position": {},
   "toc_section_display": true,
   "toc_window_display": false
  },
  "varInspector": {
   "cols": {
    "lenName": 16,
    "lenType": 16,
    "lenVar": 40
   },
   "kernels_config": {
    "python": {
     "delete_cmd_postfix": "",
     "delete_cmd_prefix": "del ",
     "library": "var_list.py",
     "varRefreshCmd": "print(var_dic_list())"
    },
    "r": {
     "delete_cmd_postfix": ") ",
     "delete_cmd_prefix": "rm(",
     "library": "var_list.r",
     "varRefreshCmd": "cat(var_dic_list()) "
    }
   },
   "types_to_exclude": [
    "module",
    "function",
    "builtin_function_or_method",
    "instance",
    "_Feature"
   ],
   "window_display": false
  }
 },
 "nbformat": 4,
 "nbformat_minor": 2
}
