{
 "cells": [
  {
   "cell_type": "code",
   "execution_count": 50,
   "metadata": {},
   "outputs": [],
   "source": [
    "class Solution:\n",
    "    def solution(self, weights, maxWeight):\n",
    "        count=0\n",
    "        addweights=0\n",
    "        l = len(weights)\n",
    "        if not weights:#책이 없을때.\n",
    "            return 0\n",
    "        for index, i in enumerate(weights):\n",
    "            addweights += i\n",
    "            if maxWeight > addweights: #책이 박스보다 무게가 적을때 \n",
    "                continue\n",
    "            elif maxWeight == addweights: # 책이 박스에 남은 무게와 같을때.\n",
    "                if index == len(weights)-1:# 책이 박스에 남은 무게와 같고 마지막권일때.\n",
    "                    continue\n",
    "                else:\n",
    "                    count+=1\n",
    "                    addweights = 0\n",
    "            else: # 책이 박스에 남은 무게보다 무거울때.\n",
    "                addweight = i\n",
    "                count+=1\n",
    "        return count+1"
   ]
  },
  {
   "cell_type": "code",
   "execution_count": 51,
   "metadata": {},
   "outputs": [
    {
     "data": {
      "text/plain": [
       "3"
      ]
     },
     "execution_count": 51,
     "metadata": {},
     "output_type": "execute_result"
    }
   ],
   "source": [
    "weights = [5,5,5,5,5,5]\n",
    "maxWeight = 10\n",
    "a = Solution()\n",
    "a.solution(weights, maxWeight)"
   ]
  },
  {
   "cell_type": "code",
   "execution_count": 52,
   "metadata": {},
   "outputs": [
    {
     "ename": "SyntaxError",
     "evalue": "unexpected EOF while parsing (<ipython-input-52-5f7d26ae991b>, line 3)",
     "output_type": "error",
     "traceback": [
      "\u001b[1;36m  File \u001b[1;32m\"<ipython-input-52-5f7d26ae991b>\"\u001b[1;36m, line \u001b[1;32m3\u001b[0m\n\u001b[1;33m    \u001b[0m\n\u001b[1;37m    ^\u001b[0m\n\u001b[1;31mSyntaxError\u001b[0m\u001b[1;31m:\u001b[0m unexpected EOF while parsing\n"
     ]
    }
   ],
   "source": [
    "class Solution:\n",
    "    def solution(self, weights, maxWeight):\n",
    "        "
   ]
  },
  {
   "cell_type": "code",
   "execution_count": 224,
   "metadata": {},
   "outputs": [
    {
     "name": "stdout",
     "output_type": "stream",
     "text": [
      "3\n"
     ]
    }
   ],
   "source": [
    "count = 0\n",
    "addweights = 0\n",
    "maxWeight = 9\n",
    "weights = [1,1,1,1,1,9,1,3]\n",
    "for index, i in enumerate(weights):\n",
    "    addweights = addweights + i\n",
    "    if maxWeight > addweights: #책이 박스보다 무게가 적을때 \n",
    "        continue\n",
    "    elif maxWeight == addweights: # 책이 박스에 남은 무게와 같을때.\n",
    "        if index == len(weights)-1:# 책이 박스에 남은 무게와 같고 마지막권일때.\n",
    "            continue\n",
    "        else:\n",
    "            count+=1\n",
    "            addweights == 0\n",
    "    else: # 책이 박스에 남은 무게보다 무거울때.\n",
    "        addweights = i\n",
    "        count+=1\n",
    "print(count+1)"
   ]
  },
  {
   "cell_type": "code",
   "execution_count": null,
   "metadata": {},
   "outputs": [],
   "source": []
  },
  {
   "cell_type": "code",
   "execution_count": null,
   "metadata": {},
   "outputs": [],
   "source": []
  },
  {
   "cell_type": "markdown",
   "metadata": {},
   "source": [
    "```\n",
    "행운의 번호는 2*n 자릿수를 가진 숫자인데, 왼쪽에서부터 n 개의 숫자의 합이 오른쪽에서부터 n 개의 숫자의 합과 같다.\n",
    "당신에게 0을 제외한 숫자로만 이루어진 문자열 string s가 주어진다. 이 문자열의 부분문자열 중 가장 긴 행운의 번호의 길이를 구하시오. 만약 행운의 번호가 없다면 0을 반환하시오.\n",
    "참고 / 제약 사항\n",
    "S의 길이는 1이상 50이하다.\n",
    "S는 0이 아닌 숫자로만 이루어져있다 (1-9).\n",
    "```\n"
   ]
  },
  {
   "cell_type": "code",
   "execution_count": 169,
   "metadata": {},
   "outputs": [],
   "source": [
    "class Solution:\n",
    "    def solution(self, s):# 반으로 나눈후 합비교, 다시 반으로 나눈후 합비교.반복 오른쪽 왼쪽으로 반복실행.\n",
    "        l = len(s)\n",
    "        a = len(s)\n",
    "        maxlen = 0\n",
    "        for i in range(l//2):\n",
    "            if(sum(k[:len(k)//2])) == (sum(k[:len(k)//2])):\n",
    "                return len(k)\n",
    "            else:\n",
    "                a-=2\n",
    "        return maxlen"
   ]
  },
  {
   "cell_type": "code",
   "execution_count": 229,
   "metadata": {
    "scrolled": true
   },
   "outputs": [
    {
     "ename": "TypeError",
     "evalue": "unsupported operand type(s) for //: 'str' and 'int'",
     "output_type": "error",
     "traceback": [
      "\u001b[1;31m---------------------------------------------------------------------------\u001b[0m",
      "\u001b[1;31mTypeError\u001b[0m                                 Traceback (most recent call last)",
      "\u001b[1;32m<ipython-input-229-b1aea6ce294b>\u001b[0m in \u001b[0;36m<module>\u001b[1;34m\u001b[0m\n\u001b[0;32m      4\u001b[0m \u001b[1;31m# int(S)\u001b[0m\u001b[1;33m\u001b[0m\u001b[1;33m\u001b[0m\u001b[1;33m\u001b[0m\u001b[0m\n\u001b[0;32m      5\u001b[0m \u001b[0mk\u001b[0m\u001b[1;33m=\u001b[0m\u001b[1;36m0\u001b[0m\u001b[1;33m\u001b[0m\u001b[1;33m\u001b[0m\u001b[0m\n\u001b[1;32m----> 6\u001b[1;33m \u001b[1;32mfor\u001b[0m \u001b[0mi\u001b[0m \u001b[1;32min\u001b[0m \u001b[0ms\u001b[0m\u001b[1;33m//\u001b[0m\u001b[1;36m2\u001b[0m\u001b[1;33m:\u001b[0m\u001b[1;33m\u001b[0m\u001b[1;33m\u001b[0m\u001b[0m\n\u001b[0m\u001b[0;32m      7\u001b[0m     \u001b[0mk\u001b[0m \u001b[1;33m+=\u001b[0m\u001b[0mint\u001b[0m\u001b[1;33m(\u001b[0m\u001b[0mi\u001b[0m\u001b[1;33m)\u001b[0m\u001b[1;33m\u001b[0m\u001b[1;33m\u001b[0m\u001b[0m\n\u001b[0;32m      8\u001b[0m \u001b[0mprint\u001b[0m\u001b[1;33m(\u001b[0m\u001b[0mk\u001b[0m\u001b[1;33m)\u001b[0m\u001b[1;33m\u001b[0m\u001b[1;33m\u001b[0m\u001b[0m\n",
      "\u001b[1;31mTypeError\u001b[0m: unsupported operand type(s) for //: 'str' and 'int'"
     ]
    }
   ],
   "source": [
    "s = \"123231\"\n",
    "# m = Solution()\n",
    "# m.solution(s)\n",
    "# int(S)\n",
    "k=0\n",
    "for i in s2:\n",
    "    k +=int(i)\n",
    "print(k) \n",
    "a = lst"
   ]
  },
  {
   "cell_type": "code",
   "execution_count": 196,
   "metadata": {},
   "outputs": [
    {
     "name": "stdout",
     "output_type": "stream",
     "text": [
      "123\n"
     ]
    },
    {
     "ename": "TypeError",
     "evalue": "'int' object is not iterable",
     "output_type": "error",
     "traceback": [
      "\u001b[1;31m---------------------------------------------------------------------------\u001b[0m",
      "\u001b[1;31mTypeError\u001b[0m                                 Traceback (most recent call last)",
      "\u001b[1;32m<ipython-input-196-73ea3e56d665>\u001b[0m in \u001b[0;36m<module>\u001b[1;34m\u001b[0m\n\u001b[0;32m      4\u001b[0m \u001b[0mint\u001b[0m\u001b[1;33m(\u001b[0m\u001b[0ms\u001b[0m\u001b[1;33m[\u001b[0m\u001b[1;36m1\u001b[0m\u001b[1;33m]\u001b[0m\u001b[1;33m)\u001b[0m \u001b[1;33m+\u001b[0m \u001b[0mint\u001b[0m\u001b[1;33m(\u001b[0m\u001b[0ms\u001b[0m\u001b[1;33m[\u001b[0m\u001b[1;36m2\u001b[0m\u001b[1;33m]\u001b[0m\u001b[1;33m)\u001b[0m\u001b[1;33m\u001b[0m\u001b[1;33m\u001b[0m\u001b[0m\n\u001b[0;32m      5\u001b[0m \u001b[1;33m\u001b[0m\u001b[0m\n\u001b[1;32m----> 6\u001b[1;33m \u001b[0msum\u001b[0m\u001b[1;33m(\u001b[0m\u001b[0mint\u001b[0m\u001b[1;33m(\u001b[0m\u001b[0ms\u001b[0m\u001b[1;33m[\u001b[0m\u001b[1;36m2\u001b[0m\u001b[1;33m]\u001b[0m\u001b[1;33m)\u001b[0m\u001b[1;33m)\u001b[0m\u001b[1;33m\u001b[0m\u001b[1;33m\u001b[0m\u001b[0m\n\u001b[0m",
      "\u001b[1;31mTypeError\u001b[0m: 'int' object is not iterable"
     ]
    }
   ],
   "source": [
    "l = int(s[0:3:1])\n",
    "print(l)\n",
    "l+l\n",
    "int(s[1]) + int(s[2])\n",
    "\n"
   ]
  },
  {
   "cell_type": "code",
   "execution_count": 82,
   "metadata": {
    "scrolled": true
   },
   "outputs": [
    {
     "name": "stdout",
     "output_type": "stream",
     "text": [
      "74233285\n",
      "74233285\n",
      "742332\n",
      "233285\n",
      "7423\n",
      "3285\n",
      "74\n",
      "85\n"
     ]
    }
   ],
   "source": [
    "s = \"74233285\"\n",
    "a = len(s)\n",
    "b = 0\n",
    "s = pop(len(s)), pop(0),\n",
    "for i in range(len(s)//2):\n",
    "    print(s[:a:])\n",
    "    print(s[b::])\n",
    "    b+=2\n",
    "    a-=2\n",
    "    "
   ]
  },
  {
   "cell_type": "code",
   "execution_count": 116,
   "metadata": {},
   "outputs": [
    {
     "name": "stdout",
     "output_type": "stream",
     "text": [
      "2\n"
     ]
    },
    {
     "ename": "NameError",
     "evalue": "name 'QWERTYTREWQ' is not defined",
     "output_type": "error",
     "traceback": [
      "\u001b[1;31m---------------------------------------------------------------------------\u001b[0m",
      "\u001b[1;31mNameError\u001b[0m                                 Traceback (most recent call last)",
      "\u001b[1;32m<ipython-input-116-6348ab6720c3>\u001b[0m in \u001b[0;36m<module>\u001b[1;34m\u001b[0m\n\u001b[0;32m      8\u001b[0m     \u001b[0mprint\u001b[0m\u001b[1;33m(\u001b[0m\u001b[1;34m\"2\"\u001b[0m\u001b[1;33m)\u001b[0m\u001b[1;33m\u001b[0m\u001b[1;33m\u001b[0m\u001b[0m\n\u001b[0;32m      9\u001b[0m \u001b[1;33m\u001b[0m\u001b[0m\n\u001b[1;32m---> 10\u001b[1;33m     \u001b[0mQWERTYTREWQ\u001b[0m\u001b[1;33m\u001b[0m\u001b[1;33m\u001b[0m\u001b[0m\n\u001b[0m\u001b[0;32m     11\u001b[0m     \u001b[0mQYTWERTY\u001b[0m\u001b[1;33m\u001b[0m\u001b[1;33m\u001b[0m\u001b[0m\n",
      "\u001b[1;31mNameError\u001b[0m: name 'QWERTYTREWQ' is not defined"
     ]
    }
   ],
   "source": [
    "A = \"ABABAB\"\n",
    "a = \"148566655554\"\n",
    "|\n",
    "if a == a[::-1]:\n",
    "    print(\"1\")\n",
    "else:\n",
    "    print(\"2\")\n",
    "    \n",
    "    QWERTYTREWQ\n",
    "    QYTWERTY"
   ]
  },
  {
   "cell_type": "code",
   "execution_count": 140,
   "metadata": {},
   "outputs": [
    {
     "name": "stdout",
     "output_type": "stream",
     "text": [
      "9\n",
      "b\n"
     ]
    }
   ],
   "source": [
    "a = \"asberhvab\"\n",
    "print(len(a))\n",
    "print(a[8])\n",
    "if a[-1:] in a[2+1:5]:\n",
    "    print(a.index(a[-1:]))"
   ]
  },
  {
   "cell_type": "markdown",
   "metadata": {},
   "source": [
    "```\n",
    "선희와 영수는 대학에서 문자열 이론을 공부하고 있다. 영수는 팰린드롬을 아주 좋아한다. 팰린드롬은 앞에부터 읽어도, 뒤에서부터 읽어도 같은 단어를 말한다. 선희는 영수를 임의의 문자열 s로 팰린드롬을 만들어 영수를 깜짝 놀래켜주고 싶어한다. 이때 선희은 문자열 s 뒤에 0개 이상의 문자를 추가해 팰린드롬을 생성하려 한다. 선희가 생성할 수 있는 가장 짧은 팰린드롬의 길이를 반환하라.\n",
    "\n",
    "참고 / 제약 사항\n",
    "s : 영어 소문자 ('a' ~ 'z')로 구성된 1~50글자의 문자열\n",
    "테스트 케이스\n",
    "s = \"abab\"리턴(정답): 5\n",
    "\"ababa\"가 선희가 구할 수 있는 가장 짧은 팰린드롬입니다.\n",
    "\n",
    "s = \"abacaba\"리턴(정답): 7\n",
    "입력 자체가 이미 팰린드롬입니다.\n",
    "\n",
    "s = \"qwerty\"리턴(정답): 11\n",
    "모든 문자가 다릅니다.\n",
    "```"
   ]
  },
  {
   "cell_type": "code",
   "execution_count": null,
   "metadata": {},
   "outputs": [],
   "source": [
    "class Solution:\n",
    "    def solution(self, s):\n",
    "        i = -1\n",
    "        start = 0\n",
    "        while True:\n",
    "            if s[i:] in s[start::]:\n",
    "                start = s.index(s[i:])\n",
    "                i-=1\n",
    "                if s\n",
    "        for\n",
    "        return 0"
   ]
  },
  {
   "cell_type": "code",
   "execution_count": 152,
   "metadata": {},
   "outputs": [],
   "source": [
    "class Solution:\n",
    "    def solution(self, s):\n",
    "        i = 0\n",
    "        j = len(s)-1\n",
    "        count = 0\n",
    "        while i<=j:\n",
    "            if s[i] == s[j]:\n",
    "                i +=1\n",
    "                j -=1\n",
    "            else:\n",
    "                i+=1\n",
    "                count+=1\n",
    "        return len(s)+count"
   ]
  },
  {
   "cell_type": "code",
   "execution_count": 153,
   "metadata": {},
   "outputs": [
    {
     "data": {
      "text/plain": [
       "11"
      ]
     },
     "execution_count": 153,
     "metadata": {},
     "output_type": "execute_result"
    }
   ],
   "source": [
    "s = \"qwerty\"\n",
    "a = Solution()\n",
    "a.solution(s)\n"
   ]
  },
  {
   "cell_type": "code",
   "execution_count": null,
   "metadata": {},
   "outputs": [],
   "source": [
    "addcacd"
   ]
  },
  {
   "cell_type": "code",
   "execution_count": null,
   "metadata": {},
   "outputs": [],
   "source": []
  },
  {
   "cell_type": "code",
   "execution_count": null,
   "metadata": {},
   "outputs": [],
   "source": []
  },
  {
   "cell_type": "markdown",
   "metadata": {},
   "source": [
    "```\n",
    "문제 설명\n",
    "최신 마이크로콘트롤러를 최대한 저렴하게 만들기 위해 매우 간단한 캐쉬를 설계했다. 프로세서는 0에서부터 n-1로 숫자가 매겨진 n개의 바이트를 가진 느린 메모리 시스템과 연결된다. 캐쉬는 빠른 접근을 위해 이 중에서 k개의 카피를 한번에 가지고 있다. 캐쉬는 base address를 가지고 있으며 base, base+1, ..., base+k-1로 숫자 매겨진 바이트들의 카피를 가지고 있다. 프로그램이 바이트를 읽을 때, 캐쉬 제어기는 다음과 같은 알고리즘을 따라 동작한다:\n",
    "\n",
    "- 기존의 base address와 차이를 최소화하여서 필요한 바이트를 가진 k개의 새로운 범위의 바이트를 찾는다. 필요한 바이트가 이미 캐쉬에 존재한다면 base address는 그대로 유지됨을 유의하라.\n",
    "- 기존의 범위에는 포함이 안되고 새로운 범위에만 포함되는 바이트들을 메모리에서 읽어서 캐쉬를 새 범위로 업데이트하고 새로운 범위에는 없고 기존의 범위에만 있는 바이트들을 버린다.\n",
    "- 필요한 바이트를 프로그램에 반환한다.\n",
    "\n",
    "당신은 프로그램의 성능을 테스트하기 위해 얼마나 많은 바이트들이 메모리에서 읽어지는지 확인하고 싶다. 프로그램이 읽는 바이트의 개수는 읽어들이는 순서에 맞게 addresses에 주어져있다. 프로그램이 시작할 때 base address는 0이다.\n",
    "\n",
    "참고 / 제약 사항\n",
    "n은 최소값 1, 최대값 1,000,000의 범위를 가진다.\n",
    "k는 최소값 1, 최대값 n의 범위를 가진다. addresses는 최소 1개, 최대 50개의 요소를 가진다.\n",
    "addresses의 각 요소는 최소값 0, 최대값 n-1의 범위를 가진다.\n",
    "테스트 케이스\n",
    "n = 100\n",
    "k = 5   ##### base = 0 so base +4 = 4\n",
    "addresses = [6,0,3,20,22,16]리턴(정답): 13  ####4 8 12 16 20 24\n",
    "프로그램이 시작할 때 캐쉬는 0에서 4까지 가지고 있다.6에 접근할 때는 2에서 6까지로 범위를 업데이트하며 두 개의 바이트를 읽어들인다. 0에 점근할 때 범위는 다시 0에서 4로 리셋되며 두 개의 바이트를 읽어들인다. 3은 이미 캐쉬에 있기 때문에 3에 접근할 때는 아무 변화가 없다. 20과 22에 접근할 때 7개의 바이트를 읽으며 캐쉬는 18에서 22까지 가지고 있다. 마지막으로 16에 접근할 때 캐쉬는 2개의 바이트를 읽어 16에서 20까지 가지게 된다.\n",
    "\n",
    "n = 100\n",
    "k = 1  0\n",
    "addresses = [0,4,6,6,4,10]리턴(정답): 4\n",
    "캐쉬가 하나의 바이트만을 가질 때, 이미 가지고 있는 바이트를 제외하고 모든 접근은 읽기를 필요로 한다.\n",
    "\n",
    "n = 1000\n",
    "k = 999 0~998\n",
    "addresses = [0,4,123,987,999,500,0]리턴(정답): 2\n",
    "이 경우에는 오직 한 바이트씩 읽어 들인다.\n",
    "\n",
    "n = 1\n",
    "k = 1\n",
    "addresses = [0]리턴(정답): 0\n",
    "```"
   ]
  },
  {
   "cell_type": "code",
   "execution_count": null,
   "metadata": {},
   "outputs": [],
   "source": []
  },
  {
   "cell_type": "code",
   "execution_count": null,
   "metadata": {},
   "outputs": [],
   "source": []
  },
  {
   "cell_type": "markdown",
   "metadata": {},
   "source": [
    "```\n",
    "5/5 둥근 길\n",
    "시간 제한 : 2초메모리 제한 : 256MB\n",
    "문제 설명\n",
    "엘보니아의 왕은 width미터 * length미터 넓이의 궁전에서 살고 있다. 그는 신하들을 진흙 위에 살고 있게 하였기 때문에 인기 있는 왕은 아니었다. 그는 방문자들이 그를 접견하기 위해 오래 걷게 만들고 싶어서 궁전을 나누고 싶어했다. 왕의 보안 고문은 나선형으로 나누자고 제안했다. 방문자는 남서쪽 모서리에서 입궁하여 동쪽으로 걷는다. 방문자 앞에 벽이 나타나면 왼쪽으로 방향을 바꾼다. 나선형 복도의 너비는 1미터이다.\n",
    "\n",
    "아래 다이어그램은 나선형 길의 한 예제이다:\n",
    "방문객은 a (남서쪽 모서리)에서 출발하여 알파벳 순서대로 x (왕좌)까지 이동한다.\n",
    "nmlkji\n",
    "oxwvuh\n",
    "pqrstg\n",
    "abcdef\n",
    "\n",
    "왕은 궁전의 길을 새로 만들기 전에 그의 왕좌를 먼저 정확한 위치로 옮기고 싶어하기 때문에 나선형의 길이 어디서 끝날지 알아야 한다. 왕좌의 좌표를 두개의 정수로 리턴하시오.\n",
    "\n",
    "남서쪽 모서리는 (0, 0)이고 남동쪽 모서리는 (width - 1, 0), 그리고 북동쪽 모서리는 (width - 1, length - 1)이다.\n",
    "\n",
    "참고 / 제약 사항\n",
    "width와 length는 둘 다 최소값 1, 최대값 5000의 범위를 가진다.\n",
    "테스트 케이스\n",
    "width = 6\n",
    "length = 4리턴(정답): [1,2]\n",
    "문제 내용에 언급된 예제이다.\n",
    "\n",
    "width = 6\n",
    "length = 5리턴(정답): [3,2]\n",
    "width = 1\n",
    "length = 11리턴(정답): [0,10]\n",
    "width = 12\n",
    "length = 50리턴(정답): [5,6]\n",
    "width = 50\n",
    "length = 50리턴(정답): [24,25]\n",
    "```\n"
   ]
  },
  {
   "cell_type": "code",
   "execution_count": null,
   "metadata": {},
   "outputs": [],
   "source": [
    "class Solution:\n",
    "    def solution(self, width, length):\n",
    "        for \n",
    "        d = \n",
    "        return 0"
   ]
  },
  {
   "cell_type": "code",
   "execution_count": 69,
   "metadata": {},
   "outputs": [
    {
     "name": "stderr",
     "output_type": "stream",
     "text": [
      "<>:2: SyntaxWarning: list indices must be integers or slices, not tuple; perhaps you missed a comma?\n",
      "<>:2: SyntaxWarning: list indices must be integers or slices, not tuple; perhaps you missed a comma?\n",
      "<ipython-input-69-e5767dfecd22>:2: SyntaxWarning: list indices must be integers or slices, not tuple; perhaps you missed a comma?\n",
      "  [1,2,3]\n"
     ]
    },
    {
     "ename": "TypeError",
     "evalue": "list indices must be integers or slices, not tuple",
     "output_type": "error",
     "traceback": [
      "\u001b[1;31m---------------------------------------------------------------------------\u001b[0m",
      "\u001b[1;31mTypeError\u001b[0m                                 Traceback (most recent call last)",
      "\u001b[1;32m<ipython-input-69-e5767dfecd22>\u001b[0m in \u001b[0;36m<module>\u001b[1;34m\u001b[0m\n\u001b[0;32m      1\u001b[0m l = [\n\u001b[1;32m----> 2\u001b[1;33m     \u001b[1;33m[\u001b[0m\u001b[1;36m1\u001b[0m\u001b[1;33m,\u001b[0m\u001b[1;36m2\u001b[0m\u001b[1;33m,\u001b[0m\u001b[1;36m3\u001b[0m\u001b[1;33m]\u001b[0m\u001b[1;33m\u001b[0m\u001b[1;33m\u001b[0m\u001b[0m\n\u001b[0m\u001b[0;32m      3\u001b[0m     \u001b[1;33m[\u001b[0m\u001b[1;36m4\u001b[0m\u001b[1;33m,\u001b[0m\u001b[1;36m5\u001b[0m\u001b[1;33m,\u001b[0m\u001b[1;36m6\u001b[0m\u001b[1;33m]\u001b[0m\u001b[1;33m\u001b[0m\u001b[1;33m\u001b[0m\u001b[0m\n\u001b[0;32m      4\u001b[0m ]\n",
      "\u001b[1;31mTypeError\u001b[0m: list indices must be integers or slices, not tuple"
     ]
    }
   ],
   "source": [
    "l = [\n",
    "    [1,2,3]\n",
    "    [4,5,6]\n",
    "]"
   ]
  },
  {
   "cell_type": "code",
   "execution_count": null,
   "metadata": {},
   "outputs": [],
   "source": []
  }
 ],
 "metadata": {
  "kernelspec": {
   "display_name": "Python 3",
   "language": "python",
   "name": "python3"
  },
  "language_info": {
   "codemirror_mode": {
    "name": "ipython",
    "version": 3
   },
   "file_extension": ".py",
   "mimetype": "text/x-python",
   "name": "python",
   "nbconvert_exporter": "python",
   "pygments_lexer": "ipython3",
   "version": "3.8.5"
  }
 },
 "nbformat": 4,
 "nbformat_minor": 4
}
