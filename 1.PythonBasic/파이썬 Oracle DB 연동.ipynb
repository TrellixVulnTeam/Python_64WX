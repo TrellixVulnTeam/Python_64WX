{
 "cells": [
  {
   "cell_type": "markdown",
   "metadata": {
    "slideshow": {
     "slide_type": "slide"
    }
   },
   "source": [
    "# cx_Oracle 모듈\n",
    "- 파이썬에서 오라클 DBMS와 연동는 다양한 함수를 제공하는 모듈\n",
    "- Python DB API 2.0 표준을 따른다. \n",
    "\n",
    "## 참고\n",
    "- [cx_Oracle 모듈 홈페이지](https://oracle.github.io/python-cx_Oracle/)\n",
    "- [Python DB API](https://docs.python.org/ko/3/library/sqlite3.html)"
   ]
  },
  {
   "cell_type": "markdown",
   "metadata": {
    "slideshow": {
     "slide_type": "slide"
    }
   },
   "source": [
    "## cx_Oracle 모듈 설치\n",
    "- [설치 튜토리얼](https://cx-oracle.readthedocs.io/en/latest/user_guide/installation.html)\n",
    "- 패키지 설치\n",
    "```\n",
    "conda install cx_oracle\n",
    "pip install cx_Oracle --upgrade\n",
    "```"
   ]
  },
  {
   "cell_type": "code",
   "execution_count": null,
   "metadata": {},
   "outputs": [],
   "source": [
    "pip install cx-Oracle"
   ]
  },
  {
   "cell_type": "markdown",
   "metadata": {
    "slideshow": {
     "slide_type": "slide"
    }
   },
   "source": [
    "## 코딩 절차\n",
    "1. cx_Oracle 모듈 import"
   ]
  },
  {
   "cell_type": "markdown",
   "metadata": {
    "slideshow": {
     "slide_type": "fragment"
    }
   },
   "source": [
    "2. cx_Oracle모듈의 connect() 함수를 이용해 디비연결"
   ]
  },
  {
   "cell_type": "markdown",
   "metadata": {
    "slideshow": {
     "slide_type": "fragment"
    }
   },
   "source": [
    "3. Connection 객체의 cursor() 메소드를 이용해 Cursor객체 조회.\n",
    "    - Cursor객체: sql문을 전송하고 select결과 조회 기능을 제공하는 객체"
   ]
  },
  {
   "cell_type": "markdown",
   "metadata": {
    "slideshow": {
     "slide_type": "fragment"
    }
   },
   "source": [
    "4. Cursor 의 execute() 메소드를 이용해 SQL문 전송"
   ]
  },
  {
   "cell_type": "markdown",
   "metadata": {
    "slideshow": {
     "slide_type": "fragment"
    }
   },
   "source": [
    "5. SELECT 의 경우 결과 조회.\n",
    "    - 조회결과 한행씩 반환받아 사용\n",
    "    - 조회결과 한번에 반환받아 사용"
   ]
  },
  {
   "cell_type": "markdown",
   "metadata": {
    "slideshow": {
     "slide_type": "fragment"
    }
   },
   "source": [
    "6. INSERT/DELETE/UPDATE의 경우  SQL 문 실행 후 Connection의 commit() 메소드를 이용해 Transaction 처리"
   ]
  },
  {
   "cell_type": "markdown",
   "metadata": {
    "slideshow": {
     "slide_type": "fragment"
    }
   },
   "source": [
    "7. Cursor, Connection 연결 닫기"
   ]
  },
  {
   "cell_type": "markdown",
   "metadata": {
    "slideshow": {
     "slide_type": "slide"
    }
   },
   "source": [
    "### DB 연결\n",
    "- connect() 함수를 이용하며 연결 후 Connection 객체를 받는다.\n",
    "- 연결시 필요한 값\n",
    "    - **host**\n",
    "    - **port번호**\n",
    "    - **SID(DB이름)**\n",
    "    - **user name**\n",
    "    - **password**\n",
    "\n",
    "### Connection 주요 메소드\n",
    "- commit(): 커밋\n",
    "- rollback(): 롤백\n",
    "- close(): 연결 닫기"
   ]
  },
  {
   "cell_type": "code",
   "execution_count": 11,
   "metadata": {},
   "outputs": [
    {
     "name": "stdout",
     "output_type": "stream",
     "text": [
      "<class 'cx_Oracle.Connection'>\n"
     ]
    }
   ],
   "source": [
    "import cx_Oracle\n",
    "username = 'c##scott_join'\n",
    "password = 'tiger'\n",
    "url = 'localhost:1521/XE'  # host:port/sid\n",
    "conn = cx_Oracle.connect(username, password, url) #연결시도.\n",
    "print(type(conn))\n",
    "conn.close()"
   ]
  },
  {
   "cell_type": "code",
   "execution_count": 12,
   "metadata": {},
   "outputs": [
    {
     "name": "stdout",
     "output_type": "stream",
     "text": [
      "<class 'cx_Oracle.Connection'>\n"
     ]
    }
   ],
   "source": [
    "conn2 = cx_Oracle.connect(\"c##scott_join/tiger@localhost:1521/XE\")\n",
    "print(type(conn2))\n",
    "conn2.close()"
   ]
  },
  {
   "cell_type": "markdown",
   "metadata": {
    "slideshow": {
     "slide_type": "slide"
    }
   },
   "source": [
    "#### DSN (Data Source Name) 을 이용한 연결\n",
    "- DSN: DBMS를 연결하기 위한 정보를 모아 놓은 것. (서로 다른 DBMS의 연결정보를 통일하기 위해서 방식)\n",
    "- makedsn(host, port번호, SID) 함수 이용해 생성한다."
   ]
  },
  {
   "cell_type": "code",
   "execution_count": 13,
   "metadata": {},
   "outputs": [
    {
     "name": "stdout",
     "output_type": "stream",
     "text": [
      "(DESCRIPTION=(ADDRESS=(PROTOCOL=TCP)(HOST=localhost)(PORT=1521))(CONNECT_DATA=(SID=XE)))\n",
      "<class 'cx_Oracle.Connection'>\n"
     ]
    }
   ],
   "source": [
    "username = 'c##scott_join'\n",
    "password = 'tiger'\n",
    "host = 'localhost'\n",
    "port = 1521\n",
    "sid = 'XE'\n",
    "dsn = cx_Oracle.makedsn(host, port, sid)\n",
    "print(dsn)\n",
    "conn3 = cx_Oracle.connect(username, password, dsn)\n",
    "print(type(conn3))\n",
    "conn3.close()"
   ]
  },
  {
   "cell_type": "code",
   "execution_count": 15,
   "metadata": {},
   "outputs": [],
   "source": [
    "# with block을 빠져나오면 자동으로 close() 처리\n",
    "with cx_Oracle.connect(username, password, dsn) as conn4:\n",
    "    # db관련작업 conn4.xxxxx()\n",
    "    pass"
   ]
  },
  {
   "cell_type": "markdown",
   "metadata": {
    "slideshow": {
     "slide_type": "slide"
    }
   },
   "source": [
    "## Cursor 객체\n",
    "- SQL문을 전송하고 select결과를 조회하는 메소드들을 제공한다.\n",
    "- Connection객체의 cursor() 메소드로 받아온다."
   ]
  },
  {
   "cell_type": "markdown",
   "metadata": {
    "slideshow": {
     "slide_type": "subslide"
    }
   },
   "source": [
    "### Cursor의 주요 메소드\n",
    "#### SQL 실행 메소드\n",
    "- execute(sql) : 하나의 sql 문 실행. \n",
    "- executemany(sql): insert, update, delete 배치 처리\n",
    "    - insert, update, delete는 다 처리후 conn.commit()으로 커밋 처리해야한다.\n",
    "    "
   ]
  },
  {
   "cell_type": "markdown",
   "metadata": {
    "slideshow": {
     "slide_type": "fragment"
    }
   },
   "source": [
    "#### select 결과 조회 메소드\n",
    "- execute()로 실행한 SQL이 select인 경우 다음 메소드로 조회한다.\n",
    "- fetchall()  : 조회된 모든 행을 한번에 가져올 때 사용한다. 결과를 tuple들을 묶은 리스트로 반환\n",
    "- fetchone()  : 호출시 마다 한행씩 반환한다. PK로 조회한 경우 많이 사용한다.\n",
    "- fetchmany(n): n행만큼 조회한다. n기본값-100. 특정개수반큼 반복문을 이용해 가져올때 사용."
   ]
  },
  {
   "cell_type": "code",
   "execution_count": 1,
   "metadata": {},
   "outputs": [],
   "source": [
    "import cx_Oracle\n",
    "from pprint import pprint # 자료구조를 보기좋게 출력해주는 print함수."
   ]
  },
  {
   "cell_type": "code",
   "execution_count": 25,
   "metadata": {
    "scrolled": true
   },
   "outputs": [
    {
     "name": "stdout",
     "output_type": "stream",
     "text": [
      "연결완료\n",
      "<class 'list'> <class 'tuple'>\n",
      "114\n",
      "[(1502, 'HONG', 'FI_ACCOUNT'),\n",
      " (1503, 'HONG', 'FI_ACCOUNT'),\n",
      " (2001, '이순신', 'FI_ACCOUNT'),\n",
      " (100, 'Steven', 'AD_PRES'),\n",
      " (101, 'Neena', 'AD_VP'),\n",
      " (102, 'Lex', 'AD_VP'),\n",
      " (103, 'Alexander', 'IT_PROG'),\n",
      " (104, 'Bruce', 'IT_PROG'),\n",
      " (105, 'David', 'IT_PROG'),\n",
      " (106, 'Valli', 'IT_PROG'),\n",
      " (107, 'Diana', 'IT_PROG'),\n",
      " (108, 'Nancy', 'FI_MGR'),\n",
      " (109, 'Daniel', 'FI_ACCOUNT'),\n",
      " (110, 'John', 'FI_ACCOUNT'),\n",
      " (111, 'Ismael', 'FI_ACCOUNT'),\n",
      " (112, 'Jose Manuel', 'FI_ACCOUNT'),\n",
      " (113, 'Luis', 'FI_ACCOUNT'),\n",
      " (114, 'Den', 'PU_MAN'),\n",
      " (115, 'Alexander', 'PU_MAN'),\n",
      " (116, 'Shelli', 'PU_CLERK'),\n",
      " (117, 'Sigal', 'PU_CLERK'),\n",
      " (118, 'Guy', 'PU_CLERK'),\n",
      " (119, 'Karen', 'PU_CLERK'),\n",
      " (120, 'Matthew', 'ST_MAN'),\n",
      " (121, 'Adam', 'ST_MAN'),\n",
      " (122, 'Payam', 'ST_MAN'),\n",
      " (123, 'Shanta', 'ST_MAN'),\n",
      " (124, 'Kevin', 'ST_MAN'),\n",
      " (125, 'Julia', 'ST_CLERK'),\n",
      " (126, 'Irene', 'ST_CLERK'),\n",
      " (127, 'James', 'ST_CLERK'),\n",
      " (128, 'Steven', 'ST_CLERK'),\n",
      " (129, 'Laura', 'ST_CLERK'),\n",
      " (130, 'Mozhe', None),\n",
      " (131, 'James', None),\n",
      " (132, 'TJ', 'ST_CLERK'),\n",
      " (133, 'Jason', 'ST_CLERK'),\n",
      " (134, 'Michael', 'ST_CLERK'),\n",
      " (135, 'Ki', 'ST_CLERK'),\n",
      " (136, 'Hazel', 'ST_CLERK'),\n",
      " (137, 'Renske', 'ST_CLERK'),\n",
      " (138, 'Stephen', 'ST_CLERK'),\n",
      " (139, 'John', 'ST_CLERK'),\n",
      " (140, 'Joshua', None),\n",
      " (141, 'Trenna', 'ST_CLERK'),\n",
      " (142, 'Curtis', 'ST_CLERK'),\n",
      " (143, 'Randall', 'ST_CLERK'),\n",
      " (144, 'Peter', 'ST_CLERK'),\n",
      " (145, 'John', 'SA_MAN'),\n",
      " (146, 'Karen', 'SA_MAN'),\n",
      " (147, 'Alberto', 'SA_MAN'),\n",
      " (148, 'Gerald', 'SA_MAN'),\n",
      " (149, 'Eleni', 'SA_MAN'),\n",
      " (150, 'Peter', 'SA_REP'),\n",
      " (151, 'David', 'SA_REP'),\n",
      " (152, 'Peter', 'SA_REP'),\n",
      " (153, 'Christopher', 'SA_REP'),\n",
      " (154, 'Nanette', 'SA_REP'),\n",
      " (155, 'Oliver', 'SA_REP'),\n",
      " (156, 'Janette', 'SA_REP'),\n",
      " (157, 'Patrick', 'SA_REP'),\n",
      " (158, 'Allan', 'SA_REP'),\n",
      " (159, 'Lindsey', 'SA_REP'),\n",
      " (160, 'Louise', 'SA_REP'),\n",
      " (161, 'Sarath', 'SA_REP'),\n",
      " (162, 'Clara', 'SA_REP'),\n",
      " (163, 'Danielle', 'SA_REP'),\n",
      " (164, 'Mattea', 'SA_REP'),\n",
      " (165, 'David', 'SA_REP'),\n",
      " (166, 'Sundar', 'SA_REP'),\n",
      " (167, 'Amit', 'SA_REP'),\n",
      " (168, 'Lisa', 'SA_REP'),\n",
      " (169, 'Harrison', 'SA_REP'),\n",
      " (170, 'Tayler', 'SA_REP'),\n",
      " (171, 'William', 'SA_REP'),\n",
      " (172, 'Elizabeth', 'SA_REP'),\n",
      " (173, 'Sundita', 'SA_REP'),\n",
      " (174, 'Ellen', 'SA_REP'),\n",
      " (175, 'Alyssa', 'SA_REP'),\n",
      " (176, 'Jonathon', 'SA_REP'),\n",
      " (177, 'Jack', 'SA_REP'),\n",
      " (178, 'Kimberely', 'SA_REP'),\n",
      " (179, 'Charles', 'SA_REP'),\n",
      " (180, 'Winston', 'SH_CLERK'),\n",
      " (181, 'Jean', 'SH_CLERK'),\n",
      " (182, 'Martha', 'SH_CLERK'),\n",
      " (183, 'Girard', 'SH_CLERK'),\n",
      " (184, 'Nandita', 'SH_CLERK'),\n",
      " (185, 'Alexis', 'SH_CLERK'),\n",
      " (186, 'Julia', 'SH_CLERK'),\n",
      " (187, 'Anthony', None),\n",
      " (188, 'Kelly', 'SH_CLERK'),\n",
      " (189, 'Jennifer', 'SH_CLERK'),\n",
      " (190, 'Timothy', None),\n",
      " (191, 'Randall', None),\n",
      " (192, 'Sarah', 'SH_CLERK'),\n",
      " (193, 'Britney', 'SH_CLERK'),\n",
      " (194, 'Samuel', 'SH_CLERK'),\n",
      " (195, 'Vance', 'SH_CLERK'),\n",
      " (196, 'Alana', 'SH_CLERK'),\n",
      " (197, 'Kevin', 'SH_CLERK'),\n",
      " (198, 'Donald', 'SH_CLERK'),\n",
      " (199, 'Douglas', 'SH_CLERK'),\n",
      " (200, 'Jennifer', 'AD_ASST'),\n",
      " (201, 'Michael', 'MK_MAN'),\n",
      " (202, 'Pat', 'MK_REP'),\n",
      " (203, 'Susan', 'HR_REP'),\n",
      " (204, 'Hermann', 'PR_REP'),\n",
      " (205, 'Shelley', 'AC_MGR'),\n",
      " (206, 'William', 'AC_ACCOUNT'),\n",
      " (1200, '강길동', 'FI_ACCOUNT'),\n",
      " (1500, 'HONG', 'FI_ACCOUNT'),\n",
      " (1501, 'HONG', 'FI_ACCOUNT'),\n",
      " (2000, '이순신', 'FI_ACCOUNT')]\n"
     ]
    }
   ],
   "source": [
    "# sql문: 문자열로 작성. 대소문자 구분안한다. (sql의 keyword들은 보통 대문자, 컬럼명/테이블명은 소문자)\n",
    "# ';' 은 뒤에 붙이지 않는다.\n",
    "select_sql = \"SELECT emp_id, emp_name, job_id FROM emp\"\n",
    "insert_sql = \"INSERT INTO emp VALUES (1503, 'HONG', 'FI_ACCOUNT','101', to_date('2021/02/15','yyyy/mm/dd'), 30000, 0.2,100)\"\n",
    "conn = None # Connection을 대입할 변수\n",
    "cursor = None # Cursor 객체를 대입할 변수\n",
    "\n",
    "try:\n",
    "    #1. 연결\n",
    "    conn = cx_Oracle.connect(\"c##scott_join/tiger@localhost:1521/XE\")\n",
    "    print(\"연결완료\")\n",
    "    #2. Cursor생성\n",
    "    cursor = conn.cursor()\n",
    "\n",
    "    #3. sql 실행\n",
    "    #cursor.execute(insert_sql)\n",
    "    cursor.execute(select_sql)\n",
    "    \n",
    "    #4. select 결과 조회\n",
    "    result = cursor.fetchall() # 조회결과를 한번에 반환. 한행-tuple, 리스트로 tuple들을 묶어서 반환.\n",
    "    print(type(result), type(result[0]))\n",
    "    print(len(result))\n",
    "    pprint(result)\n",
    "    \n",
    "    #5.insert/update/delete를 실행한 경우 commit처리\n",
    "    conn.commit()\n",
    "    \n",
    "except Exception as e:\n",
    "    print(e)\n",
    "\n",
    "finally:\n",
    "    #6. 연결닫기 cursor/connection\n",
    "    if cursor != None:\n",
    "        cursor.close()\n",
    "    if conn != None:\n",
    "        conn.close()\n",
    "    "
   ]
  },
  {
   "cell_type": "markdown",
   "metadata": {
    "slideshow": {
     "slide_type": "slide"
    }
   },
   "source": [
    "## placeholder(자리표시자)를 이용해 sql 실행\n",
    "- SQL에 값이 들어갈 자리에 값을 대신할 문자 **`:순번` 또는 `:이름`** 를 넣고 SQL 실행시 값을 전달\n",
    "> placehold 는 DBMS마다 다르다. \n",
    "- execute(SQL, placeholder에 들어갈 값)\n",
    "    - 딕셔너리: placeholder의 이름-값 형식\n",
    "    - 리스트나 튜플: placeholder 순서"
   ]
  },
  {
   "cell_type": "code",
   "execution_count": 16,
   "metadata": {},
   "outputs": [],
   "source": [
    "import cx_Oracle\n",
    "from pprint import pprint"
   ]
  },
  {
   "cell_type": "code",
   "execution_count": 24,
   "metadata": {},
   "outputs": [
    {
     "name": "stdout",
     "output_type": "stream",
     "text": [
      "15000 ~ 20000 사이 salary 조회\n",
      "[(2001,\n",
      "  '이순신',\n",
      "  'FI_ACCOUNT',\n",
      "  101,\n",
      "  datetime.datetime(2021, 2, 13, 0, 0),\n",
      "  18888.0,\n",
      "  None,\n",
      "  110),\n",
      " (101,\n",
      "  'Neena',\n",
      "  'AD_VP',\n",
      "  100,\n",
      "  datetime.datetime(2005, 9, 21, 0, 0),\n",
      "  17000.0,\n",
      "  None,\n",
      "  90),\n",
      " (102,\n",
      "  'Lex',\n",
      "  'AD_VP',\n",
      "  100,\n",
      "  datetime.datetime(2001, 1, 13, 0, 0),\n",
      "  17000.0,\n",
      "  None,\n",
      "  90),\n",
      " (2000,\n",
      "  '이순신',\n",
      "  'FI_ACCOUNT',\n",
      "  101,\n",
      "  datetime.datetime(2021, 2, 13, 0, 0),\n",
      "  19990.0,\n",
      "  None,\n",
      "  110)]\n",
      "2000 ~ 3000 사이 salary 조회\n",
      "[(116,\n",
      "  'Shelli',\n",
      "  'PU_CLERK',\n",
      "  114,\n",
      "  datetime.datetime(2005, 12, 24, 0, 0),\n",
      "  2900.0,\n",
      "  None,\n",
      "  30),\n",
      " (117,\n",
      "  'Sigal',\n",
      "  'PU_CLERK',\n",
      "  114,\n",
      "  datetime.datetime(2005, 7, 24, 0, 0),\n",
      "  2800.0,\n",
      "  None,\n",
      "  30),\n",
      " (118,\n",
      "  'Guy',\n",
      "  'PU_CLERK',\n",
      "  114,\n",
      "  datetime.datetime(2006, 11, 15, 0, 0),\n",
      "  2600.0,\n",
      "  None,\n",
      "  30),\n",
      " (119,\n",
      "  'Karen',\n",
      "  'PU_CLERK',\n",
      "  114,\n",
      "  datetime.datetime(2007, 8, 10, 0, 0),\n",
      "  2500.0,\n",
      "  None,\n",
      "  30),\n",
      " (126,\n",
      "  'Irene',\n",
      "  'ST_CLERK',\n",
      "  120,\n",
      "  datetime.datetime(2006, 9, 28, 0, 0),\n",
      "  2700.0,\n",
      "  None,\n",
      "  50),\n",
      " (127,\n",
      "  'James',\n",
      "  'ST_CLERK',\n",
      "  120,\n",
      "  datetime.datetime(2007, 1, 14, 0, 0),\n",
      "  2400.0,\n",
      "  None,\n",
      "  50),\n",
      " (128,\n",
      "  'Steven',\n",
      "  'ST_CLERK',\n",
      "  120,\n",
      "  datetime.datetime(2008, 3, 8, 0, 0),\n",
      "  2200.0,\n",
      "  None,\n",
      "  50),\n",
      " (130,\n",
      "  'Mozhe',\n",
      "  None,\n",
      "  121,\n",
      "  datetime.datetime(2005, 7, 16, 0, 0),\n",
      "  2800.0,\n",
      "  None,\n",
      "  50),\n",
      " (131,\n",
      "  'James',\n",
      "  None,\n",
      "  121,\n",
      "  datetime.datetime(2005, 2, 16, 0, 0),\n",
      "  2500.0,\n",
      "  None,\n",
      "  50),\n",
      " (132,\n",
      "  'TJ',\n",
      "  'ST_CLERK',\n",
      "  121,\n",
      "  datetime.datetime(2007, 4, 10, 0, 0),\n",
      "  2100.0,\n",
      "  None,\n",
      "  50),\n",
      " (134,\n",
      "  'Michael',\n",
      "  'ST_CLERK',\n",
      "  122,\n",
      "  datetime.datetime(2006, 8, 26, 0, 0),\n",
      "  2900.0,\n",
      "  None,\n",
      "  50),\n",
      " (135,\n",
      "  'Ki',\n",
      "  'ST_CLERK',\n",
      "  122,\n",
      "  datetime.datetime(2007, 12, 12, 0, 0),\n",
      "  2400.0,\n",
      "  None,\n",
      "  50),\n",
      " (136,\n",
      "  'Hazel',\n",
      "  'ST_CLERK',\n",
      "  122,\n",
      "  datetime.datetime(2008, 2, 6, 0, 0),\n",
      "  2200.0,\n",
      "  None,\n",
      "  50),\n",
      " (139,\n",
      "  'John',\n",
      "  'ST_CLERK',\n",
      "  123,\n",
      "  datetime.datetime(2008, 2, 6, 0, 0),\n",
      "  2700.0,\n",
      "  None,\n",
      "  50),\n",
      " (140,\n",
      "  'Joshua',\n",
      "  None,\n",
      "  123,\n",
      "  datetime.datetime(2008, 2, 6, 0, 0),\n",
      "  2500.0,\n",
      "  None,\n",
      "  50),\n",
      " (143,\n",
      "  'Randall',\n",
      "  'ST_CLERK',\n",
      "  124,\n",
      "  datetime.datetime(2006, 3, 15, 0, 0),\n",
      "  2600.0,\n",
      "  None,\n",
      "  50),\n",
      " (144,\n",
      "  'Peter',\n",
      "  'ST_CLERK',\n",
      "  124,\n",
      "  datetime.datetime(2006, 7, 9, 0, 0),\n",
      "  2500.0,\n",
      "  None,\n",
      "  50),\n",
      " (182,\n",
      "  'Martha',\n",
      "  'SH_CLERK',\n",
      "  120,\n",
      "  datetime.datetime(2007, 6, 21, 0, 0),\n",
      "  2500.0,\n",
      "  None,\n",
      "  50),\n",
      " (183,\n",
      "  'Girard',\n",
      "  'SH_CLERK',\n",
      "  120,\n",
      "  datetime.datetime(2008, 2, 3, 0, 0),\n",
      "  2800.0,\n",
      "  None,\n",
      "  None),\n",
      " (187,\n",
      "  'Anthony',\n",
      "  None,\n",
      "  121,\n",
      "  datetime.datetime(2007, 2, 7, 0, 0),\n",
      "  3000.0,\n",
      "  None,\n",
      "  50),\n",
      " (190,\n",
      "  'Timothy',\n",
      "  None,\n",
      "  122,\n",
      "  datetime.datetime(2006, 7, 11, 0, 0),\n",
      "  2900.0,\n",
      "  None,\n",
      "  50),\n",
      " (191,\n",
      "  'Randall',\n",
      "  None,\n",
      "  122,\n",
      "  datetime.datetime(2007, 6, 21, 0, 0),\n",
      "  2500.0,\n",
      "  None,\n",
      "  50),\n",
      " (195,\n",
      "  'Vance',\n",
      "  'SH_CLERK',\n",
      "  123,\n",
      "  datetime.datetime(2007, 6, 21, 0, 0),\n",
      "  2800.0,\n",
      "  None,\n",
      "  50),\n",
      " (197,\n",
      "  'Kevin',\n",
      "  'SH_CLERK',\n",
      "  124,\n",
      "  datetime.datetime(2006, 5, 23, 0, 0),\n",
      "  3000.0,\n",
      "  None,\n",
      "  50),\n",
      " (198,\n",
      "  'Donald',\n",
      "  'SH_CLERK',\n",
      "  124,\n",
      "  datetime.datetime(2007, 6, 21, 0, 0),\n",
      "  2600.0,\n",
      "  None,\n",
      "  50),\n",
      " (199,\n",
      "  'Douglas',\n",
      "  'SH_CLERK',\n",
      "  124,\n",
      "  datetime.datetime(2007, 6, 21, 0, 0),\n",
      "  2600.0,\n",
      "  None,\n",
      "  50)]\n"
     ]
    }
   ],
   "source": [
    "select_sql = \"SELECT * FROM emp WHERE salary BETWEEN :1 AND :2\"\n",
    "insert_sql = \"INSERT INTO emp VALUES(:id, :name, :job_id, :mgr_id, to_date(:hire_date,'yyyymmdd'),:salary, :comm_pct, :dept_id)\"\n",
    "\n",
    "conn = None\n",
    "cursor = None\n",
    "try:\n",
    "    conn = cx_Oracle.connect(\"c##scott_join/tiger@localhost:1521/XE\")\n",
    "    cursor = conn.cursor()\n",
    "    # sql 문 실행\n",
    "    # varchar2/char/nvarchar/nchar - str\n",
    "    # number(정수/실수) - int/double\n",
    "    # date : datetime\n",
    "    # null - None\n",
    "\n",
    "    param_dict = {\n",
    "        'id':2001,\n",
    "        'name':'이순신',\n",
    "        'job_id': 'FI_ACCOUNT',\n",
    "        'mgr_id': 101,\n",
    "        'hire_date':'20210213',\n",
    "        'salary': 18888,\n",
    "        'comm_pct': None,\n",
    "        'dept_id':110\n",
    "    }\n",
    "    \n",
    "    cursor.execute(insert_sql, param_dict)\n",
    "\n",
    "    cursor.execute(select_sql, [15000,20000])\n",
    "    result1 = cursor.fetchall()\n",
    "    print(\"15000 ~ 20000 사이 salary 조회\")\n",
    "    pprint(result1)\n",
    "\n",
    "    cursor.execute(select_sql, [2000,3000])\n",
    "    result2 = cursor.fetchall()\n",
    "    print(\"2000 ~ 3000 사이 salary 조회\")\n",
    "    pprint(result2)\n",
    "    \n",
    "    conn.commit()\n",
    "except Exception as e:\n",
    "    print(e)\n",
    "finally:\n",
    "    if cursor:\n",
    "        cursor.close()\n",
    "    if conn:\n",
    "        conn.close()"
   ]
  },
  {
   "cell_type": "markdown",
   "metadata": {
    "slideshow": {
     "slide_type": "slide"
    }
   },
   "source": [
    "## SELECT  결과 조회\n",
    "\n",
    "### fetchone()\n",
    "- 조회결과 한행씩 반환한다.\n",
    "- PK로 조회시 사용한다."
   ]
  },
  {
   "cell_type": "markdown",
   "metadata": {
    "slideshow": {
     "slide_type": "fragment"
    }
   },
   "source": [
    "### fetchall()\n",
    "- 조회한 전체 결과셋을 반환한다.\n",
    "- 한 row를 Tuple로 묶고 그 Tuple들을 List로 묶어서 반환한다."
   ]
  },
  {
   "cell_type": "markdown",
   "metadata": {
    "slideshow": {
     "slide_type": "fragment"
    }
   },
   "source": [
    "### fetchmany(n)\n",
    "- n 행씩 조회할 때 사용\n",
    "- n 기본값 100"
   ]
  },
  {
   "cell_type": "code",
   "execution_count": 26,
   "metadata": {},
   "outputs": [],
   "source": [
    "import cx_Oracle\n",
    "\n",
    "def select_emp_by_id(emp_id):\n",
    "    sql = \"SELECT * FROM emp WHERE emp_id = :1\"\n",
    "    # conn, cursor = None, None\n",
    "\n",
    "    with cx_Oracle.connect(\"c##scott_join/tiger@localhost:1521/XE\") as conn:\n",
    "        with conn.cursor() as cursor:\n",
    "            # sql 실행\n",
    "            cursor.execute(sql, [emp_id])\n",
    "            result = cursor.fetchone()  # 1행만 조회. 조회결과가 없으면 None을 반환\n",
    "            return result"
   ]
  },
  {
   "cell_type": "code",
   "execution_count": 27,
   "metadata": {},
   "outputs": [
    {
     "name": "stdout",
     "output_type": "stream",
     "text": [
      "(100, 'Steven', 'AD_PRES', 100, datetime.datetime(2003, 6, 17, 0, 0), 27000.0, 0.2, 90) id: 100 이름: Steven\n"
     ]
    }
   ],
   "source": [
    "r = select_emp_by_id(100)\n",
    "print(r,\"id:\", r[0],'이름:', r[1])"
   ]
  },
  {
   "cell_type": "code",
   "execution_count": 28,
   "metadata": {},
   "outputs": [
    {
     "name": "stdout",
     "output_type": "stream",
     "text": [
      "조회결과가 없습니다. None\n"
     ]
    }
   ],
   "source": [
    "r= select_emp_by_id(3000)\n",
    "if r:\n",
    "    print(r)\n",
    "else:\n",
    "    print(\"조회결과가 없습니다.\", r)"
   ]
  },
  {
   "cell_type": "code",
   "execution_count": 32,
   "metadata": {},
   "outputs": [
    {
     "name": "stdout",
     "output_type": "stream",
     "text": [
      "[(100, 'Steven', 'AD_PRES', 100, datetime.datetime(2003, 6, 17, 0, 0), 27000.0, 0.2, 90), (101, 'Neena', 'AD_VP', 100, datetime.datetime(2005, 9, 21, 0, 0), 17000.0, None, 90), (102, 'Lex', 'AD_VP', 100, datetime.datetime(2001, 1, 13, 0, 0), 17000.0, None, 90), (103, 'Alexander', 'IT_PROG', 102, datetime.datetime(2006, 1, 3, 0, 0), 9000.0, None, 60), (104, 'Bruce', 'IT_PROG', 103, datetime.datetime(2007, 5, 21, 0, 0), 6000.0, None, 60), (105, 'David', 'IT_PROG', 103, datetime.datetime(2005, 6, 25, 0, 0), 4800.0, None, 60), (106, 'Valli', 'IT_PROG', 103, datetime.datetime(2006, 2, 5, 0, 0), 4800.0, None, 60), (107, 'Diana', 'IT_PROG', 103, datetime.datetime(2007, 2, 7, 0, 0), 4200.0, None, 60), (108, 'Nancy', 'FI_MGR', 101, datetime.datetime(2002, 8, 17, 0, 0), 12008.0, None, 100), (109, 'Daniel', 'FI_ACCOUNT', 108, datetime.datetime(2002, 8, 16, 0, 0), 9000.0, None, 100)]\n",
      "[(110, 'John', 'FI_ACCOUNT', 108, datetime.datetime(2005, 9, 28, 0, 0), 8200.0, None, 100), (111, 'Ismael', 'FI_ACCOUNT', 108, datetime.datetime(2005, 9, 30, 0, 0), 7700.0, None, 100), (112, 'Jose Manuel', 'FI_ACCOUNT', 108, datetime.datetime(2006, 3, 7, 0, 0), 7800.0, None, 100), (113, 'Luis', 'FI_ACCOUNT', 108, datetime.datetime(2007, 12, 7, 0, 0), 6900.0, None, 100), (114, 'Den', 'PU_MAN', 100, datetime.datetime(2002, 12, 7, 0, 0), 11000.0, None, 30), (115, 'Alexander', 'PU_MAN', 100, datetime.datetime(2003, 5, 18, 0, 0), 9100.0, None, 30), (116, 'Shelli', 'PU_CLERK', 114, datetime.datetime(2005, 12, 24, 0, 0), 2900.0, None, 30), (117, 'Sigal', 'PU_CLERK', 114, datetime.datetime(2005, 7, 24, 0, 0), 2800.0, None, 30), (118, 'Guy', 'PU_CLERK', 114, datetime.datetime(2006, 11, 15, 0, 0), 2600.0, None, 30), (119, 'Karen', 'PU_CLERK', 114, datetime.datetime(2007, 8, 10, 0, 0), 2500.0, None, 30)]\n"
     ]
    }
   ],
   "source": [
    "sql = \"SELECT * FROM emp order by emp_id\"\n",
    "with cx_Oracle.connect('c##scott_join/tiger@localhost:1521/XE') as conn2:\n",
    "    with conn2.cursor() as cursor2:\n",
    "        cursor2.execute(sql)\n",
    "        #result1 = cursor2.fetchall()\n",
    "        result1 = cursor2.fetchmany(10)  # default 값은 100개. \n",
    "        print(result1)\n",
    "        \n",
    "        result1 = cursor2.fetchmany(10) # 10개 출력후 그이후 10개 출력.\n",
    "        print(result1)\n",
    "\n"
   ]
  },
  {
   "cell_type": "code",
   "execution_count": null,
   "metadata": {},
   "outputs": [],
   "source": []
  },
  {
   "cell_type": "markdown",
   "metadata": {},
   "source": [
    "### cursor를 for in 문을 이용해 select결과 조회\n",
    "- select후 cursor는 Iterable 한 객체.\n",
    "- cursor는 반복시마다 조회한 한행을 반환."
   ]
  },
  {
   "cell_type": "code",
   "execution_count": 33,
   "metadata": {},
   "outputs": [
    {
     "name": "stdout",
     "output_type": "stream",
     "text": [
      "1. (100, 'Steven', 'AD_PRES', 100, datetime.datetime(2003, 6, 17, 0, 0), 27000.0, 0.2, 90)\n",
      "2. (145, 'John', 'SA_MAN', 100, datetime.datetime(2004, 10, 1, 0, 0), 14000.0, 0.4, 80)\n",
      "3. (146, 'Karen', 'SA_MAN', 100, datetime.datetime(2004, 10, 1, 0, 0), 13500.0, 0.3, 80)\n",
      "4. (147, 'Alberto', 'SA_MAN', 100, datetime.datetime(2005, 3, 10, 0, 0), 12000.0, 0.3, 80)\n",
      "5. (148, 'Gerald', 'SA_MAN', 100, datetime.datetime(2007, 10, 15, 0, 0), 11000.0, 0.3, 80)\n",
      "6. (149, 'Eleni', 'SA_MAN', 100, datetime.datetime(2007, 10, 15, 0, 0), 10500.0, 0.2, 80)\n",
      "7. (150, 'Peter', 'SA_REP', 145, datetime.datetime(2007, 10, 15, 0, 0), 10000.0, 0.3, 80)\n",
      "8. (151, 'David', 'SA_REP', 145, datetime.datetime(2005, 3, 24, 0, 0), 9500.0, 0.25, 80)\n",
      "9. (152, 'Peter', 'SA_REP', 145, datetime.datetime(2005, 8, 20, 0, 0), 9000.0, 0.25, 80)\n",
      "10. (153, 'Christopher', 'SA_REP', 145, datetime.datetime(2006, 3, 30, 0, 0), 8000.0, 0.2, 80)\n",
      "11. (154, 'Nanette', 'SA_REP', 145, datetime.datetime(2006, 12, 9, 0, 0), 7500.0, 0.2, 80)\n",
      "12. (155, 'Oliver', 'SA_REP', 145, datetime.datetime(2007, 11, 23, 0, 0), 7000.0, 0.15, 80)\n",
      "13. (156, 'Janette', 'SA_REP', 146, datetime.datetime(2004, 1, 30, 0, 0), 10000.0, 0.35, 80)\n",
      "14. (157, 'Patrick', 'SA_REP', 146, datetime.datetime(2004, 3, 4, 0, 0), 9500.0, 0.35, 80)\n",
      "15. (158, 'Allan', 'SA_REP', 146, datetime.datetime(2004, 8, 1, 0, 0), 9000.0, 0.35, 80)\n",
      "16. (159, 'Lindsey', 'SA_REP', 146, datetime.datetime(2005, 3, 10, 0, 0), 8000.0, 0.3, 80)\n",
      "17. (160, 'Louise', 'SA_REP', 146, datetime.datetime(2005, 12, 15, 0, 0), 7500.0, 0.3, 80)\n",
      "18. (161, 'Sarath', 'SA_REP', 146, datetime.datetime(2006, 11, 3, 0, 0), 7000.0, 0.25, 80)\n",
      "19. (162, 'Clara', 'SA_REP', 147, datetime.datetime(2005, 11, 11, 0, 0), 10500.0, 0.25, 80)\n",
      "20. (163, 'Danielle', 'SA_REP', 147, datetime.datetime(2007, 3, 19, 0, 0), 9500.0, 0.15, 80)\n",
      "21. (164, 'Mattea', 'SA_REP', 147, datetime.datetime(2008, 1, 24, 0, 0), 7200.0, 0.1, 80)\n",
      "22. (165, 'David', 'SA_REP', 147, datetime.datetime(2008, 2, 23, 0, 0), 6800.0, 0.1, 80)\n",
      "23. (166, 'Sundar', 'SA_REP', 147, datetime.datetime(2008, 3, 24, 0, 0), 6400.0, 0.1, 80)\n",
      "24. (167, 'Amit', 'SA_REP', 147, datetime.datetime(2008, 4, 21, 0, 0), 6200.0, 0.1, 80)\n",
      "25. (168, 'Lisa', 'SA_REP', 148, datetime.datetime(2005, 3, 11, 0, 0), 11500.0, 0.25, 80)\n",
      "26. (169, 'Harrison', 'SA_REP', 148, datetime.datetime(2006, 3, 23, 0, 0), 10000.0, 0.2, 80)\n",
      "27. (170, 'Tayler', 'SA_REP', 148, datetime.datetime(2006, 1, 24, 0, 0), 9600.0, 0.2, 80)\n",
      "28. (171, 'William', 'SA_REP', 148, datetime.datetime(2007, 2, 23, 0, 0), 7400.0, 0.15, 80)\n",
      "29. (172, 'Elizabeth', 'SA_REP', 148, datetime.datetime(2007, 3, 24, 0, 0), 7300.0, 0.15, 80)\n",
      "30. (173, 'Sundita', 'SA_REP', 148, datetime.datetime(2008, 4, 21, 0, 0), 6100.0, 0.1, 80)\n",
      "31. (174, 'Ellen', 'SA_REP', 149, datetime.datetime(2004, 5, 11, 0, 0), 11000.0, 0.3, 80)\n",
      "32. (175, 'Alyssa', 'SA_REP', 149, datetime.datetime(2005, 3, 19, 0, 0), 8800.0, 0.25, None)\n",
      "33. (176, 'Jonathon', 'SA_REP', 149, datetime.datetime(2006, 3, 24, 0, 0), 8600.0, 0.2, 80)\n",
      "34. (177, 'Jack', 'SA_REP', 149, datetime.datetime(2006, 4, 23, 0, 0), 8400.0, 0.2, 80)\n",
      "35. (178, 'Kimberely', 'SA_REP', 149, datetime.datetime(2007, 5, 24, 0, 0), 7000.0, 0.15, None)\n",
      "36. (179, 'Charles', 'SA_REP', 149, datetime.datetime(2008, 1, 4, 0, 0), 6200.0, 0.1, 80)\n",
      "37. (1500, 'HONG', 'FI_ACCOUNT', 101, datetime.datetime(2021, 2, 15, 0, 0), 30000.0, 0.2, 100)\n",
      "38. (1501, 'HONG', 'FI_ACCOUNT', 101, datetime.datetime(2021, 2, 15, 0, 0), 30000.0, 0.2, 100)\n",
      "39. (1502, 'HONG', 'FI_ACCOUNT', 101, datetime.datetime(2021, 2, 15, 0, 0), 30000.0, 0.2, 100)\n",
      "40. (1503, 'HONG', 'FI_ACCOUNT', 101, datetime.datetime(2021, 2, 15, 0, 0), 30000.0, 0.2, 100)\n"
     ]
    }
   ],
   "source": [
    "import cx_Oracle\n",
    "\n",
    "sql = \"SELECT * FROM emp WHERE comm_pct  IS NOT NULL ORDER BY emp_id\"\n",
    "\n",
    "with cx_Oracle.connect(\"c##scott_join/tiger@localhost:1521/XE\") as conn:\n",
    "    with conn.cursor() as cursor:\n",
    "        cursor.execute(sql)\n",
    "        #r = cursor.fetchone()\n",
    "        # while r != None:\n",
    "        #     print(r)\n",
    "        #     print(\"--------------------------\")\n",
    "        #     r = cursor.fetchone()\n",
    "        # 한행씩 조회한 뒤에 처리하는 경우.\n",
    "        for idx, row in enumerate(cursor, start=1):\n",
    "            print(f'{idx}. {row}')\n",
    "        #print(cursor.fetchone())\n",
    "        #print(\"--------------------------\")"
   ]
  },
  {
   "cell_type": "code",
   "execution_count": 35,
   "metadata": {
    "scrolled": true
   },
   "outputs": [
    {
     "name": "stdout",
     "output_type": "stream",
     "text": [
      "[('FI_ACCOUNT', 205478, 17123.17),\n",
      " ('AD_VP', 34000, 17000),\n",
      " ('PU_CLERK', 10800, 2700),\n",
      " ('SH_CLERK', 55900, 3288.24),\n",
      " ('HR_REP', 6500, 6500),\n",
      " ('PU_MAN', 20100, 10050),\n",
      " ('AC_MGR', 12008, 12008),\n",
      " ('ST_CLERK', 47900, 2817.65),\n",
      " ('AD_ASST', 5500, 5500),\n",
      " ('IT_PROG', 28800, 5760),\n",
      " (None, 16200, 2700),\n",
      " ('SA_MAN', 61000, 12200),\n",
      " ('AC_ACCOUNT', 8300, 8300),\n",
      " ('FI_MGR', 12008, 12008),\n",
      " ('ST_MAN', 36400, 7280),\n",
      " ('AD_PRES', 27000, 27000),\n",
      " ('MK_MAN', 13000, 13000),\n",
      " ('SA_REP', 250500, 8350),\n",
      " ('MK_REP', 6000, 6000),\n",
      " ('PR_REP', 10000, 10000)]\n"
     ]
    }
   ],
   "source": [
    "sql = \"SELECT job_id, sum(salary), round(avg(salary),2) FROM emp GROUP BY job_id\"\n",
    "with cx_Oracle.connect(\"c##scott_join/tiger@localhost:1521/XE\") as conn:\n",
    "    with conn.cursor() as cursor:\n",
    "        cursor.execute(sql)\n",
    "        result = cursor.fetchall()\n",
    "        pprint(result)"
   ]
  },
  {
   "cell_type": "code",
   "execution_count": 38,
   "metadata": {},
   "outputs": [
    {
     "name": "stdout",
     "output_type": "stream",
     "text": [
      "[('Jennifer', 'Administration'),\n",
      " ('강길동', 'Administration'),\n",
      " ('Michael', 'Marketing'),\n",
      " ('Pat', 'Marketing'),\n",
      " ('Den', 'Purchasing'),\n",
      " ('Alexander', 'Purchasing'),\n",
      " ('Shelli', 'Purchasing'),\n",
      " ('Sigal', 'Purchasing'),\n",
      " ('Guy', 'Purchasing'),\n",
      " ('Karen', 'Purchasing'),\n",
      " ('Susan', 'Human Resources'),\n",
      " ('Matthew', 'Shipping'),\n",
      " ('Adam', 'Shipping'),\n",
      " ('Payam', 'Shipping'),\n",
      " ('Shanta', 'Shipping'),\n",
      " ('Kevin', 'Shipping'),\n",
      " ('Julia', 'Shipping'),\n",
      " ('Irene', 'Shipping'),\n",
      " ('James', 'Shipping'),\n",
      " ('Steven', 'Shipping'),\n",
      " ('Laura', 'Shipping'),\n",
      " ('Mozhe', 'Shipping'),\n",
      " ('James', 'Shipping'),\n",
      " ('TJ', 'Shipping'),\n",
      " ('Jason', 'Shipping'),\n",
      " ('Michael', 'Shipping'),\n",
      " ('Ki', 'Shipping'),\n",
      " ('Hazel', 'Shipping'),\n",
      " ('Renske', 'Shipping'),\n",
      " ('Stephen', 'Shipping'),\n",
      " ('John', 'Shipping'),\n",
      " ('Joshua', 'Shipping'),\n",
      " ('Trenna', 'Shipping'),\n",
      " ('Curtis', 'Shipping'),\n",
      " ('Randall', 'Shipping'),\n",
      " ('Peter', 'Shipping'),\n",
      " ('Winston', 'Shipping'),\n",
      " ('Jean', 'Shipping'),\n",
      " ('Martha', 'Shipping'),\n",
      " ('Julia', 'Shipping'),\n",
      " ('Anthony', 'Shipping'),\n",
      " ('Kelly', 'Shipping'),\n",
      " ('Jennifer', 'Shipping'),\n",
      " ('Timothy', 'Shipping'),\n",
      " ('Randall', 'Shipping'),\n",
      " ('Sarah', 'Shipping'),\n",
      " ('Britney', 'Shipping'),\n",
      " ('Samuel', 'Shipping'),\n",
      " ('Vance', 'Shipping'),\n",
      " ('Alana', 'Shipping'),\n",
      " ('Kevin', 'Shipping'),\n",
      " ('Donald', 'Shipping'),\n",
      " ('Douglas', 'Shipping'),\n",
      " ('Alexander', 'IT'),\n",
      " ('Bruce', 'IT'),\n",
      " ('David', 'IT'),\n",
      " ('Valli', 'IT'),\n",
      " ('Diana', 'IT'),\n",
      " ('Hermann', 'Public Relations'),\n",
      " ('John', 'Sales'),\n",
      " ('Karen', 'Sales'),\n",
      " ('Alberto', 'Sales'),\n",
      " ('Gerald', 'Sales'),\n",
      " ('Eleni', 'Sales'),\n",
      " ('Peter', 'Sales'),\n",
      " ('David', 'Sales'),\n",
      " ('Peter', 'Sales'),\n",
      " ('Christopher', 'Sales'),\n",
      " ('Nanette', 'Sales'),\n",
      " ('Oliver', 'Sales'),\n",
      " ('Janette', 'Sales'),\n",
      " ('Patrick', 'Sales'),\n",
      " ('Allan', 'Sales'),\n",
      " ('Lindsey', 'Sales'),\n",
      " ('Louise', 'Sales'),\n",
      " ('Sarath', 'Sales'),\n",
      " ('Clara', 'Sales'),\n",
      " ('Danielle', 'Sales'),\n",
      " ('Mattea', 'Sales'),\n",
      " ('David', 'Sales'),\n",
      " ('Sundar', 'Sales'),\n",
      " ('Amit', 'Sales'),\n",
      " ('Lisa', 'Sales'),\n",
      " ('Harrison', 'Sales'),\n",
      " ('Tayler', 'Sales'),\n",
      " ('William', 'Sales'),\n",
      " ('Elizabeth', 'Sales'),\n",
      " ('Sundita', 'Sales'),\n",
      " ('Ellen', 'Sales'),\n",
      " ('Jonathon', 'Sales'),\n",
      " ('Jack', 'Sales'),\n",
      " ('Charles', 'Sales'),\n",
      " ('Steven', 'Executive'),\n",
      " ('Neena', 'Executive'),\n",
      " ('Lex', 'Executive'),\n",
      " ('HONG', 'Finance'),\n",
      " ('HONG', 'Finance'),\n",
      " ('Nancy', 'Finance'),\n",
      " ('Daniel', 'Finance'),\n",
      " ('John', 'Finance'),\n",
      " ('Ismael', 'Finance'),\n",
      " ('Jose Manuel', 'Finance'),\n",
      " ('Luis', 'Finance'),\n",
      " ('HONG', 'Finance'),\n",
      " ('HONG', 'Finance'),\n",
      " ('이순신', 'Accounting'),\n",
      " ('Shelley', 'Accounting'),\n",
      " ('William', 'Accounting'),\n",
      " ('이순신', 'Accounting'),\n",
      " ('Alyssa', None),\n",
      " ('Kimberely', None),\n",
      " ('Girard', None),\n",
      " ('Nandita', None),\n",
      " ('Alexis', None)]\n"
     ]
    }
   ],
   "source": [
    "sql = \"SELECT e.emp_name, d.dept_name FROM emp e left join dept d ON e.dept_id = d.dept_id\"\n",
    "with cx_Oracle.connect(\"c##scott_join/tiger@localhost:1521/XE\") as conn:\n",
    "    with conn.cursor() as cursor:\n",
    "        cursor.execute(sql)\n",
    "        result = cursor.fetchall()\n",
    "        pprint(result)"
   ]
  },
  {
   "cell_type": "markdown",
   "metadata": {
    "slideshow": {
     "slide_type": "slide"
    }
   },
   "source": [
    "## INSERT / UPDATE/ DELETE\n",
    "- SQL 실행 후 Connection객체의 commit()을 호출 해야 최종적으로 적용된다.\n",
    "- commit()\n",
    "    - 최종 적용\n",
    "- rollback()\n",
    "    - 변경전 상태로 되돌리기\n",
    "\n",
    "### 사용할 테이블\n",
    "```sql\n",
    "create table test(\n",
    "    id varchar2(10),\n",
    "    name varchar2(100),\n",
    "    age number(3));\n",
    "```"
   ]
  },
  {
   "cell_type": "code",
   "execution_count": 39,
   "metadata": {},
   "outputs": [
    {
     "name": "stdout",
     "output_type": "stream",
     "text": [
      "ORA-00955: 기존의 객체가 이름을 사용하고 있습니다.\n"
     ]
    }
   ],
   "source": [
    "import cx_Oracle\n",
    "\n",
    "create_sql = 'create table test(id varchar2(10), name varchar2(100), age number(3))'\n",
    "insert_sql = 'INSERT INTO test VALUES (:1,:2,:3)'\n",
    "\n",
    "with cx_Oracle.connect(\"c##scott_join/tiger@localhost:1521/XE\") as conn:\n",
    "    with conn.cursor() as cursor:\n",
    "        try:\n",
    "            # Create\n",
    "            cursor.execute(create_sql)\n",
    "        except Exception as e:\n",
    "            print(e)\n",
    "        # Insert\n",
    "        cursor.execute(insert_sql, [1, '이름1', 20])\n",
    "        cursor.execute(insert_sql, [2, '이름2', 30])\n",
    "        cursor.execute(insert_sql, [3, '이름3', 40])\n",
    "        conn.commit()  # commit 처리"
   ]
  },
  {
   "cell_type": "code",
   "execution_count": 50,
   "metadata": {},
   "outputs": [
    {
     "name": "stdout",
     "output_type": "stream",
     "text": [
      "[('2', '새이름', 30),\n",
      " ('3', '새이름', 40),\n",
      " ('2', '새이름', 30),\n",
      " ('3', '새이름', 40),\n",
      " ('a-1', '이름1', 20),\n",
      " ('a-2', '이름2', 30),\n",
      " ('a-3', '이름3', 40),\n",
      " ('a-4', '이름4', 50),\n",
      " ('a-1', '이름1', 20),\n",
      " ('a-2', '이름2', 30),\n",
      " ('a-3', '이름3', 40),\n",
      " ('a-4', '이름4', 50)]\n"
     ]
    }
   ],
   "source": [
    "select_sql = \"select * from test\"\n",
    "with cx_Oracle.connect(\"c##scott_join/tiger@localhost:1521/XE\") as conn:\n",
    "    with conn.cursor() as cursor:\n",
    "        cursor.execute(select_sql)\n",
    "        pprint(cursor.fetchall())"
   ]
  },
  {
   "cell_type": "code",
   "execution_count": 41,
   "metadata": {},
   "outputs": [],
   "source": [
    "delete_sql = \"DELETE FROM test WHERE name =:1\"\n",
    "with cx_Oracle.connect(\"c##scott_join/tiger@localhost:1521/XE\") as conn:\n",
    "    with conn.cursor() as cursor:\n",
    "        cursor.execute(delete_sql, ['이름1'])\n",
    "        conn.commit()"
   ]
  },
  {
   "cell_type": "code",
   "execution_count": 44,
   "metadata": {},
   "outputs": [],
   "source": [
    "update_sql = \"UPDATE test SET name = :1\"\n",
    "with cx_Oracle.connect(\"c##scott_join/tiger@localhost:1521/XE\") as conn:\n",
    "    with conn.cursor() as cursor:\n",
    "        cursor.execute(update_sql, ['새이름'])\n",
    "        conn.commit()"
   ]
  },
  {
   "cell_type": "markdown",
   "metadata": {
    "slideshow": {
     "slide_type": "slide"
    }
   },
   "source": [
    "## batch(일괄작업) 처리\n",
    "- 한번에 메소드 호출로 다수 행을 처리한다.\n",
    "- executemany(sql, placeholder에 전달할값)\n",
    "    - placeholder에 전달할 값을 list로 묶어서 전달하면 sql문이 그 개수만큼 한번에 처리된다."
   ]
  },
  {
   "cell_type": "code",
   "execution_count": 49,
   "metadata": {},
   "outputs": [],
   "source": [
    "insert_sql = \"INSERT INTO test VALUES (:1,:2,:3)\"\n",
    "param = [\n",
    "    ['a-1','이름1',20],\n",
    "    ['a-2','이름2',30],\n",
    "    ['a-3','이름3',40],\n",
    "    ['a-4','이름4',50]\n",
    "]\n",
    "\n",
    "with cx_Oracle.connect(\"c##scott_join/tiger@localhost:1521/XE\") as conn:\n",
    "    with conn.cursor() as cursor:\n",
    "        cursor.executemany(insert_sql, param)\n",
    "        conn.commit()"
   ]
  },
  {
   "cell_type": "code",
   "execution_count": null,
   "metadata": {},
   "outputs": [],
   "source": []
  },
  {
   "cell_type": "markdown",
   "metadata": {},
   "source": [
    "## TODO : 매개변수로 dept_id를 받아서 EMP 테이블에서 그 부서의 직원들의 salary를 두배 update하는 함수."
   ]
  },
  {
   "cell_type": "code",
   "execution_count": 76,
   "metadata": {},
   "outputs": [
    {
     "name": "stdout",
     "output_type": "stream",
     "text": [
      "[('Jennifer', 5500.0), ('강길동', 7000.0)]\n"
     ]
    }
   ],
   "source": [
    "select_sql = 'select emp_name, salary from emp where dept_id = 10'\n",
    "with cx_Oracle.connect(\"c##scott_join/tiger@localhost:1521/XE\") as conn:\n",
    "    with conn.cursor() as cursor:\n",
    "        cursor.execute(select_sql)\n",
    "        pprint(cursor.fetchall())"
   ]
  },
  {
   "cell_type": "code",
   "execution_count": 77,
   "metadata": {},
   "outputs": [],
   "source": [
    "\n",
    "def update_salary_by_dept_id(dept_id): \n",
    "    update_sql = 'UPDATE emp SET salary = salary * 2 WHERE dept_id in :1'\n",
    "    select_sql = 'select emp_name, salary from emp where dept_id = :1'\n",
    "    with cx_Oracle.connect(\"c##scott_join/tiger@localhost:1521/XE\") as conn:\n",
    "        with conn.cursor() as cursor:\n",
    "            cursor.execute(update_sql, [dept_id])\n",
    "            cursor.execute(select_sql, [dept_id])\n",
    "            pprint(cursor.fetchall())\n",
    "        "
   ]
  },
  {
   "cell_type": "code",
   "execution_count": 79,
   "metadata": {},
   "outputs": [
    {
     "name": "stdout",
     "output_type": "stream",
     "text": [
      "[('Jennifer', 11000.0), ('강길동', 14000.0)]\n"
     ]
    }
   ],
   "source": [
    "update_salary_by_dept_id(10)"
   ]
  },
  {
   "cell_type": "code",
   "execution_count": null,
   "metadata": {},
   "outputs": [],
   "source": []
  },
  {
   "cell_type": "markdown",
   "metadata": {},
   "source": [
    "## TODO : 매개변수로 job_id를 받아서 그 업무를 하는 직원들을 EMP 테이블에서 삭제하는 함수."
   ]
  },
  {
   "cell_type": "code",
   "execution_count": 86,
   "metadata": {},
   "outputs": [
    {
     "name": "stdout",
     "output_type": "stream",
     "text": [
      "[(2,)]\n"
     ]
    }
   ],
   "source": [
    "select_sql = \"select count(*) from emp where job_id in 'AD_VP'\"\n",
    "with cx_Oracle.connect(\"c##scott_join/tiger@localhost:1521/XE\") as conn:\n",
    "    with conn.cursor() as cursor:\n",
    "        cursor.execute(select_sql)\n",
    "        pprint(cursor.fetchall())"
   ]
  },
  {
   "cell_type": "code",
   "execution_count": 88,
   "metadata": {},
   "outputs": [],
   "source": [
    "def delete_emp_by_job_id(job_id):\n",
    "    delete_sql = 'DELETE FROM emp WHERE job_id = :1'\n",
    "    select_sql = \"select count(*) from emp\"\n",
    "    with cx_Oracle.connect(\"c##scott_join/tiger@localhost:1521/XE\") as conn:\n",
    "        with conn.cursor() as cursor:\n",
    "            cursor.execute(delete_sql,[job_id])\n",
    "            cursor.execute(select_sql)\n",
    "            print(cursor.fetchall())"
   ]
  },
  {
   "cell_type": "code",
   "execution_count": 89,
   "metadata": {},
   "outputs": [
    {
     "name": "stdout",
     "output_type": "stream",
     "text": [
      "[(112,)]\n"
     ]
    }
   ],
   "source": [
    "delete_emp_by_job_id('AD_VP')"
   ]
  },
  {
   "cell_type": "code",
   "execution_count": null,
   "metadata": {},
   "outputs": [],
   "source": []
  },
  {
   "cell_type": "markdown",
   "metadata": {
    "slideshow": {
     "slide_type": "slide"
    }
   },
   "source": [
    "# TODO : 매개변수로 직원 이름을 입력받아 EMP 테이블에서 그  직원들의 전체 정보를 조회결과를 출력하는 함수."
   ]
  },
  {
   "cell_type": "code",
   "execution_count": 90,
   "metadata": {},
   "outputs": [],
   "source": [
    "def select_by_emp_name(emp_name):\n",
    "    select_sql = \"SELECT * FROM emp WHERE emp_name in :1\"\n",
    "    with cx_Oracle.connect(\"c##scott_join/tiger@localhost:1521/XE\") as conn:\n",
    "        with conn.cursor() as cursor:\n",
    "            cursor.execute(select_sql,[emp_name])\n",
    "            print(cursor.fetchall())"
   ]
  },
  {
   "cell_type": "code",
   "execution_count": 91,
   "metadata": {},
   "outputs": [
    {
     "name": "stdout",
     "output_type": "stream",
     "text": [
      "[(2001, '이순신', 'FI_ACCOUNT', 101, datetime.datetime(2021, 2, 13, 0, 0), 18888.0, None, 110), (2000, '이순신', 'FI_ACCOUNT', 101, datetime.datetime(2021, 2, 13, 0, 0), 19990.0, None, 110)]\n"
     ]
    }
   ],
   "source": [
    "select_by_emp_name('이순신')"
   ]
  },
  {
   "cell_type": "markdown",
   "metadata": {
    "slideshow": {
     "slide_type": "slide"
    }
   },
   "source": [
    "# TODO: 사용자로 부터 직원정보를 입력받아 EMP 테이블에 입력한다.\n",
    "- emp_id, emp_name, job_id, mgr_id, hire_date, salary, comm_pct, dept_id 를 하나씩 입력받는다.\n",
    "- job_id, mgr_id, comm_pct, dept_id 을 입력하지 않은 경우 NULL 을 넣는다. (placehold 사용시 None을 대입)\n",
    "- 입력된 값을 EMP 테이블에 insert 한다.\n",
    "- 주의 job_id, mgr_id, dept_id는 FK 컬럼이므로 부모테이블의 PK값을 넣어야 한다."
   ]
  },
  {
   "cell_type": "code",
   "execution_count": null,
   "metadata": {},
   "outputs": [],
   "source": []
  },
  {
   "cell_type": "code",
   "execution_count": null,
   "metadata": {},
   "outputs": [],
   "source": []
  }
 ],
 "metadata": {
  "kernelspec": {
   "display_name": "Python 3",
   "language": "python",
   "name": "python3"
  },
  "language_info": {
   "codemirror_mode": {
    "name": "ipython",
    "version": 3
   },
   "file_extension": ".py",
   "mimetype": "text/x-python",
   "name": "python",
   "nbconvert_exporter": "python",
   "pygments_lexer": "ipython3",
   "version": "3.8.5"
  },
  "toc": {
   "base_numbering": 1,
   "nav_menu": {},
   "number_sections": true,
   "sideBar": true,
   "skip_h1_title": false,
   "title_cell": "Table of Contents",
   "title_sidebar": "Contents",
   "toc_cell": false,
   "toc_position": {},
   "toc_section_display": true,
   "toc_window_display": false
  },
  "varInspector": {
   "cols": {
    "lenName": 16,
    "lenType": 16,
    "lenVar": 40
   },
   "kernels_config": {
    "python": {
     "delete_cmd_postfix": "",
     "delete_cmd_prefix": "del ",
     "library": "var_list.py",
     "varRefreshCmd": "print(var_dic_list())"
    },
    "r": {
     "delete_cmd_postfix": ") ",
     "delete_cmd_prefix": "rm(",
     "library": "var_list.r",
     "varRefreshCmd": "cat(var_dic_list()) "
    }
   },
   "types_to_exclude": [
    "module",
    "function",
    "builtin_function_or_method",
    "instance",
    "_Feature"
   ],
   "window_display": false
  }
 },
 "nbformat": 4,
 "nbformat_minor": 2
}
