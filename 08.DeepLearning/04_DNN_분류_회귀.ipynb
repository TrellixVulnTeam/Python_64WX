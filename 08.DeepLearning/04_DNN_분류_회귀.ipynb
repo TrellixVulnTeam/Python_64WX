{
 "cells": [
  {
   "cell_type": "markdown",
   "metadata": {},
   "source": [
    "# 데이터셋 API\n",
    "- 데이터 입력 파이프라인을 위한 패키지\n",
    "- tf.data 패키지에서 제공\n",
    "- tf.data.Dataset 추상클래스에서 상속된 여러가지 클래스 객체를 사용 또는 만들어 쓴다.\n",
    "\n",
    "## 데이터 입력 파이프라인이란\n",
    "**모델에 공급**되는 데이터에 대한 전처리 작업과 공급을 담당한다.    \n",
    "- 이미지 데이터의 경우\n",
    "    - 분산 파일시스템으로 부터 이미지를 모으는 작업, \n",
    "    - 이미지에 노이즈를 주거나 변형하는 작업, \n",
    "    - 배치 학습을 위해 무작위로 데이터를 선택하여 배치데이터를 만드는 작업\n",
    "- 텍스트 데이터 경우\n",
    "    - 원문을 토큰화하는 작업\n",
    "    - 임베딩하는 작업\n",
    "    - 길이가 다른 데이터를 패딩하여 합치는 작업 \n",
    "\n",
    "\n",
    "## 데이터셋 API 사용 세단계\n",
    "1. 데이터셋 생성\n",
    "    - from_tensor_slices(), from_generator() 클래스 메소드, tf.data.TFRecordDataset 클래스를 사용해 메모리나 파일에 있는 데이터를 데이터소스로 만든다.\n",
    "    - from_tensor_slices(): 리스트 넘파이배열, 텐서플로 자료형에서 데이터를 생성한다.\n",
    "2. 데이터셋 변형: map(), filter(), batch() 등 메소드를 이용해 데이터 소스를 변형한다.\n",
    "3. for 반복문에서 iterate를 통해 데이터셋 사용\n",
    "\n",
    "## Dataset의 주요 메소드\n",
    "- map(함수) : dataset의 각 원소들을 함수로 처리한다.\n",
    "- shuffle(크기): dataset의 원소들의 순서를 섞는다. 크기는 섞는 공간의 크기로  **데이터보다 크거나 같으면** 완전셔플, **적으면 일부만 가져와서 섞어** 완전셔플이 안된다.=>데이터가 너무너무 많으면 적게 주기도 한다.)\n",
    "- batch(size) : 반복시 제공할 데이터 수. 지정한 batch size만큼 data를 꺼내준다."
   ]
  },
  {
   "cell_type": "code",
   "execution_count": 1,
   "metadata": {},
   "outputs": [],
   "source": [
    "import tensorflow as tf\n",
    "import numpy as np\n"
   ]
  },
  {
   "cell_type": "code",
   "execution_count": 2,
   "metadata": {},
   "outputs": [],
   "source": [
    "arr = np.arange(9) # 0~8"
   ]
  },
  {
   "cell_type": "code",
   "execution_count": 6,
   "metadata": {},
   "outputs": [
    {
     "data": {
      "text/plain": [
       "array([0, 1, 2, 3, 4, 5, 6, 7, 8])"
      ]
     },
     "execution_count": 6,
     "metadata": {},
     "output_type": "execute_result"
    }
   ],
   "source": [
    "arr"
   ]
  },
  {
   "cell_type": "code",
   "execution_count": 41,
   "metadata": {},
   "outputs": [],
   "source": [
    "# 메모리에 ndarray로 저장된 데이트를 이용해 Dataset객체를 생성\n",
    "dataset = tf.data.Dataset.from_tensor_slices(arr)"
   ]
  },
  {
   "cell_type": "code",
   "execution_count": 42,
   "metadata": {},
   "outputs": [
    {
     "data": {
      "text/plain": [
       "tensorflow.python.data.ops.dataset_ops.TensorSliceDataset"
      ]
     },
     "execution_count": 42,
     "metadata": {},
     "output_type": "execute_result"
    }
   ],
   "source": [
    "type(dataset)"
   ]
  },
  {
   "cell_type": "code",
   "execution_count": 34,
   "metadata": {},
   "outputs": [],
   "source": [
    "#  각각의 원소를 변환 작업을 Dataset 추가. - Dataset.map(변환함수)\n",
    "dataset = dataset.map(lambda x : x**2)"
   ]
  },
  {
   "cell_type": "code",
   "execution_count": 35,
   "metadata": {},
   "outputs": [
    {
     "data": {
      "text/plain": [
       "tensorflow.python.data.ops.dataset_ops.MapDataset"
      ]
     },
     "execution_count": 35,
     "metadata": {},
     "output_type": "execute_result"
    }
   ],
   "source": [
    "type(dataset)"
   ]
  },
  {
   "cell_type": "code",
   "execution_count": null,
   "metadata": {},
   "outputs": [],
   "source": []
  },
  {
   "cell_type": "code",
   "execution_count": 29,
   "metadata": {},
   "outputs": [],
   "source": [
    "#  각각의 원소를 변환 작업을 Dataset 추가. - Dataset.filter(변환함수), false true 로 데이터 거르기.\n",
    "#dataset = dataset.filter(lambda x:x%2==0)"
   ]
  },
  {
   "cell_type": "code",
   "execution_count": 47,
   "metadata": {},
   "outputs": [],
   "source": [
    "# 각각의 원소를 변환 작업을 Dataset 추가. - Dataset.shuffle(n)\n",
    "dataset = dataset.shuffle(9)"
   ]
  },
  {
   "cell_type": "code",
   "execution_count": 52,
   "metadata": {},
   "outputs": [],
   "source": [
    "dataset = dataset.batch(3) # 한번에 지정한 개수만큼 제공"
   ]
  },
  {
   "cell_type": "code",
   "execution_count": 53,
   "metadata": {
    "scrolled": true
   },
   "outputs": [
    {
     "name": "stdout",
     "output_type": "stream",
     "text": [
      "tf.Tensor([4 2 1], shape=(3,), dtype=int32)\n",
      "tf.Tensor([3 8 6], shape=(3,), dtype=int32)\n",
      "tf.Tensor([5 0 7], shape=(3,), dtype=int32)\n"
     ]
    }
   ],
   "source": [
    "# Dataset에서 제공되는 값들을 조회.\n",
    "for a in dataset:\n",
    "    print(a)"
   ]
  },
  {
   "cell_type": "code",
   "execution_count": 54,
   "metadata": {},
   "outputs": [
    {
     "data": {
      "text/plain": [
       "((10,), (10,))"
      ]
     },
     "execution_count": 54,
     "metadata": {},
     "output_type": "execute_result"
    }
   ],
   "source": [
    "x = np.arange(10)\n",
    "y = np.arange(10, 20)\n",
    "x.shape, y.shape"
   ]
  },
  {
   "cell_type": "code",
   "execution_count": 55,
   "metadata": {},
   "outputs": [],
   "source": [
    "ds = tf.data.Dataset.from_tensor_slices((x, y))"
   ]
  },
  {
   "cell_type": "code",
   "execution_count": 56,
   "metadata": {},
   "outputs": [
    {
     "name": "stdout",
     "output_type": "stream",
     "text": [
      "(<tf.Tensor: shape=(), dtype=int32, numpy=0>, <tf.Tensor: shape=(), dtype=int32, numpy=10>)\n",
      "(<tf.Tensor: shape=(), dtype=int32, numpy=1>, <tf.Tensor: shape=(), dtype=int32, numpy=11>)\n",
      "(<tf.Tensor: shape=(), dtype=int32, numpy=2>, <tf.Tensor: shape=(), dtype=int32, numpy=12>)\n",
      "(<tf.Tensor: shape=(), dtype=int32, numpy=3>, <tf.Tensor: shape=(), dtype=int32, numpy=13>)\n",
      "(<tf.Tensor: shape=(), dtype=int32, numpy=4>, <tf.Tensor: shape=(), dtype=int32, numpy=14>)\n",
      "(<tf.Tensor: shape=(), dtype=int32, numpy=5>, <tf.Tensor: shape=(), dtype=int32, numpy=15>)\n",
      "(<tf.Tensor: shape=(), dtype=int32, numpy=6>, <tf.Tensor: shape=(), dtype=int32, numpy=16>)\n",
      "(<tf.Tensor: shape=(), dtype=int32, numpy=7>, <tf.Tensor: shape=(), dtype=int32, numpy=17>)\n",
      "(<tf.Tensor: shape=(), dtype=int32, numpy=8>, <tf.Tensor: shape=(), dtype=int32, numpy=18>)\n",
      "(<tf.Tensor: shape=(), dtype=int32, numpy=9>, <tf.Tensor: shape=(), dtype=int32, numpy=19>)\n"
     ]
    }
   ],
   "source": [
    "for a in ds:\n",
    "    print(a)"
   ]
  },
  {
   "cell_type": "code",
   "execution_count": 57,
   "metadata": {},
   "outputs": [],
   "source": [
    "ds2 = ds.map(lambda x, y : (x**2, y**3))   #x:2제곱, y: 3제곱\n",
    "# def map_func(x, y): #dataset에 두개의 배열을 넣었을 경우 변수 두개로 각각 받는다. \n",
    "#     return (x**2, y**3)"
   ]
  },
  {
   "cell_type": "code",
   "execution_count": 58,
   "metadata": {},
   "outputs": [
    {
     "name": "stdout",
     "output_type": "stream",
     "text": [
      "(<tf.Tensor: shape=(), dtype=int32, numpy=0>, <tf.Tensor: shape=(), dtype=int32, numpy=1000>)\n",
      "(<tf.Tensor: shape=(), dtype=int32, numpy=1>, <tf.Tensor: shape=(), dtype=int32, numpy=1331>)\n",
      "(<tf.Tensor: shape=(), dtype=int32, numpy=4>, <tf.Tensor: shape=(), dtype=int32, numpy=1728>)\n",
      "(<tf.Tensor: shape=(), dtype=int32, numpy=9>, <tf.Tensor: shape=(), dtype=int32, numpy=2197>)\n",
      "(<tf.Tensor: shape=(), dtype=int32, numpy=16>, <tf.Tensor: shape=(), dtype=int32, numpy=2744>)\n",
      "(<tf.Tensor: shape=(), dtype=int32, numpy=25>, <tf.Tensor: shape=(), dtype=int32, numpy=3375>)\n",
      "(<tf.Tensor: shape=(), dtype=int32, numpy=36>, <tf.Tensor: shape=(), dtype=int32, numpy=4096>)\n",
      "(<tf.Tensor: shape=(), dtype=int32, numpy=49>, <tf.Tensor: shape=(), dtype=int32, numpy=4913>)\n",
      "(<tf.Tensor: shape=(), dtype=int32, numpy=64>, <tf.Tensor: shape=(), dtype=int32, numpy=5832>)\n",
      "(<tf.Tensor: shape=(), dtype=int32, numpy=81>, <tf.Tensor: shape=(), dtype=int32, numpy=6859>)\n"
     ]
    }
   ],
   "source": [
    "for a in ds2:\n",
    "    print(a)"
   ]
  },
  {
   "cell_type": "code",
   "execution_count": 59,
   "metadata": {},
   "outputs": [],
   "source": [
    "ds3 = ds2.shuffle(10)"
   ]
  },
  {
   "cell_type": "code",
   "execution_count": 60,
   "metadata": {},
   "outputs": [
    {
     "name": "stdout",
     "output_type": "stream",
     "text": [
      "(<tf.Tensor: shape=(), dtype=int32, numpy=9>, <tf.Tensor: shape=(), dtype=int32, numpy=2197>)\n",
      "(<tf.Tensor: shape=(), dtype=int32, numpy=25>, <tf.Tensor: shape=(), dtype=int32, numpy=3375>)\n",
      "(<tf.Tensor: shape=(), dtype=int32, numpy=4>, <tf.Tensor: shape=(), dtype=int32, numpy=1728>)\n",
      "(<tf.Tensor: shape=(), dtype=int32, numpy=1>, <tf.Tensor: shape=(), dtype=int32, numpy=1331>)\n",
      "(<tf.Tensor: shape=(), dtype=int32, numpy=0>, <tf.Tensor: shape=(), dtype=int32, numpy=1000>)\n",
      "(<tf.Tensor: shape=(), dtype=int32, numpy=36>, <tf.Tensor: shape=(), dtype=int32, numpy=4096>)\n",
      "(<tf.Tensor: shape=(), dtype=int32, numpy=16>, <tf.Tensor: shape=(), dtype=int32, numpy=2744>)\n",
      "(<tf.Tensor: shape=(), dtype=int32, numpy=49>, <tf.Tensor: shape=(), dtype=int32, numpy=4913>)\n",
      "(<tf.Tensor: shape=(), dtype=int32, numpy=64>, <tf.Tensor: shape=(), dtype=int32, numpy=5832>)\n",
      "(<tf.Tensor: shape=(), dtype=int32, numpy=81>, <tf.Tensor: shape=(), dtype=int32, numpy=6859>)\n"
     ]
    }
   ],
   "source": [
    "for a in ds3:\n",
    "    print(a)"
   ]
  },
  {
   "cell_type": "code",
   "execution_count": 61,
   "metadata": {},
   "outputs": [],
   "source": [
    "ds4 = ds3.batch(4)"
   ]
  },
  {
   "cell_type": "code",
   "execution_count": 62,
   "metadata": {},
   "outputs": [
    {
     "name": "stdout",
     "output_type": "stream",
     "text": [
      "(<tf.Tensor: shape=(4,), dtype=int32, numpy=array([ 0, 49, 64,  1])>, <tf.Tensor: shape=(4,), dtype=int32, numpy=array([1000, 4913, 5832, 1331])>)\n",
      "(<tf.Tensor: shape=(4,), dtype=int32, numpy=array([81, 16,  4, 36])>, <tf.Tensor: shape=(4,), dtype=int32, numpy=array([6859, 2744, 1728, 4096])>)\n",
      "(<tf.Tensor: shape=(2,), dtype=int32, numpy=array([25,  9])>, <tf.Tensor: shape=(2,), dtype=int32, numpy=array([3375, 2197])>)\n"
     ]
    }
   ],
   "source": [
    "for a in ds4:\n",
    "    print(a)"
   ]
  },
  {
   "cell_type": "code",
   "execution_count": 63,
   "metadata": {},
   "outputs": [
    {
     "name": "stdout",
     "output_type": "stream",
     "text": [
      "(<tf.Tensor: shape=(4,), dtype=int32, numpy=array([16, 49, 64, 25])>, <tf.Tensor: shape=(4,), dtype=int32, numpy=array([2744, 4913, 5832, 3375])>)\n",
      "(<tf.Tensor: shape=(4,), dtype=int32, numpy=array([ 1, 36,  0,  9])>, <tf.Tensor: shape=(4,), dtype=int32, numpy=array([1331, 4096, 1000, 2197])>)\n",
      "(<tf.Tensor: shape=(2,), dtype=int32, numpy=array([ 4, 81])>, <tf.Tensor: shape=(2,), dtype=int32, numpy=array([1728, 6859])>)\n",
      "(<tf.Tensor: shape=(4,), dtype=int32, numpy=array([ 4, 49, 25,  1])>, <tf.Tensor: shape=(4,), dtype=int32, numpy=array([1728, 4913, 3375, 1331])>)\n",
      "(<tf.Tensor: shape=(4,), dtype=int32, numpy=array([64,  9,  0, 36])>, <tf.Tensor: shape=(4,), dtype=int32, numpy=array([5832, 2197, 1000, 4096])>)\n",
      "(<tf.Tensor: shape=(2,), dtype=int32, numpy=array([81, 16])>, <tf.Tensor: shape=(2,), dtype=int32, numpy=array([6859, 2744])>)\n",
      "(<tf.Tensor: shape=(4,), dtype=int32, numpy=array([ 0, 49,  9, 36])>, <tf.Tensor: shape=(4,), dtype=int32, numpy=array([1000, 4913, 2197, 4096])>)\n",
      "(<tf.Tensor: shape=(4,), dtype=int32, numpy=array([ 1,  4, 25, 16])>, <tf.Tensor: shape=(4,), dtype=int32, numpy=array([1331, 1728, 3375, 2744])>)\n",
      "(<tf.Tensor: shape=(2,), dtype=int32, numpy=array([81, 64])>, <tf.Tensor: shape=(2,), dtype=int32, numpy=array([6859, 5832])>)\n"
     ]
    }
   ],
   "source": [
    "for a in ds4.repeat(3): #dataset.repeat(count) count횟수만큼 반복. count생략시 무한제공\n",
    "    print(a)"
   ]
  },
  {
   "cell_type": "code",
   "execution_count": 64,
   "metadata": {},
   "outputs": [],
   "source": [
    "dataset = tf.data.Dataset.from_tensor_slices((x, y)).map(lambda x, y : (x**2, y**3)).shuffle(10).batch(4)#.repeat(3)"
   ]
  },
  {
   "cell_type": "code",
   "execution_count": 65,
   "metadata": {},
   "outputs": [
    {
     "name": "stdout",
     "output_type": "stream",
     "text": [
      "(<tf.Tensor: shape=(4,), dtype=int32, numpy=array([ 4,  1,  9, 64])>, <tf.Tensor: shape=(4,), dtype=int32, numpy=array([1728, 1331, 2197, 5832])>)\n",
      "(<tf.Tensor: shape=(4,), dtype=int32, numpy=array([ 0, 16, 49, 81])>, <tf.Tensor: shape=(4,), dtype=int32, numpy=array([1000, 2744, 4913, 6859])>)\n",
      "(<tf.Tensor: shape=(2,), dtype=int32, numpy=array([36, 25])>, <tf.Tensor: shape=(2,), dtype=int32, numpy=array([4096, 3375])>)\n"
     ]
    }
   ],
   "source": [
    "for a in dataset:\n",
    "    print(a)"
   ]
  },
  {
   "cell_type": "code",
   "execution_count": 66,
   "metadata": {},
   "outputs": [],
   "source": [
    "dataset = tf.data.Dataset.from_tensor_slices((x, y)).map(lambda x, y : (x**2, y**3)).shuffle(10).batch(4, drop_remainder=True)#.repeat(3)"
   ]
  },
  {
   "cell_type": "code",
   "execution_count": 67,
   "metadata": {},
   "outputs": [
    {
     "name": "stdout",
     "output_type": "stream",
     "text": [
      "(<tf.Tensor: shape=(4,), dtype=int32, numpy=array([16, 49,  9,  0])>, <tf.Tensor: shape=(4,), dtype=int32, numpy=array([2744, 4913, 2197, 1000])>)\n",
      "(<tf.Tensor: shape=(4,), dtype=int32, numpy=array([25,  1,  4, 81])>, <tf.Tensor: shape=(4,), dtype=int32, numpy=array([3375, 1331, 1728, 6859])>)\n"
     ]
    }
   ],
   "source": [
    "for a in dataset:\n",
    "    print(a)"
   ]
  },
  {
   "cell_type": "markdown",
   "metadata": {},
   "source": [
    "# 1. 회귀 - Boston Housing Dataset\n",
    "보스턴 주택가격 dataset은 다음과 같은 속성을 바탕으로 해당 타운 주택 가격의 중앙값을 예측하는 문제.\n",
    "- CRIM: 범죄율\n",
    "- ZN: 25,000 평방피트당 주거지역 비율\n",
    "- INDUS: 비소매 상업지구 비율\n",
    "- CHAS: 찰스강에 인접해 있는지 여부(인접:1, 아니면:0)\n",
    "- NOX: 일산화질소 농도(단위: 0.1ppm)\n",
    "- RM: 주택당 방의 수\n",
    "- AGE: 1940년 이전에 건설된 주택의 비율\n",
    "- DIS: 5개의 보스턴 직업고용센터와의 거리(가중 평균)\n",
    "- RAD: 고속도로 접근성\n",
    "- TAX: 재산세율\n",
    "- PTRATIO: 학생/교사 비율\n",
    "- B: 흑인 비율\n",
    "- LSTAT: 하위 계층 비율\n",
    "\n",
    "예측해야하는 것\n",
    "- MEDV: 타운의 주택가격 중앙값(단위: 1,000달러)"
   ]
  },
  {
   "cell_type": "code",
   "execution_count": 6,
   "metadata": {},
   "outputs": [],
   "source": [
    "import numpy as np\n",
    "import tensorflow as tf\n",
    "from tensorflow import keras"
   ]
  },
  {
   "cell_type": "code",
   "execution_count": 2,
   "metadata": {},
   "outputs": [],
   "source": [
    "# random seed\n",
    "np.random.seed(1)\n",
    "tf.random.set_seed(1)"
   ]
  },
  {
   "cell_type": "code",
   "execution_count": 3,
   "metadata": {},
   "outputs": [
    {
     "data": {
      "text/plain": [
       "((404, 13), (102, 13))"
      ]
     },
     "execution_count": 3,
     "metadata": {},
     "output_type": "execute_result"
    }
   ],
   "source": [
    "# 데이터셋 로딩\n",
    "(X_train, y_train), (X_test, y_test) = keras.datasets.boston_housing.load_data()\n",
    "X_train.shape, X_test.shape"
   ]
  },
  {
   "cell_type": "code",
   "execution_count": 4,
   "metadata": {},
   "outputs": [
    {
     "data": {
      "text/plain": [
       "array([15.2, 42.3, 50. , 21.1, 17.7])"
      ]
     },
     "execution_count": 4,
     "metadata": {},
     "output_type": "execute_result"
    }
   ],
   "source": [
    "y_train[:5] #회귀(Regression)"
   ]
  },
  {
   "cell_type": "code",
   "execution_count": 5,
   "metadata": {},
   "outputs": [
    {
     "data": {
      "text/plain": [
       "array([  1.23247,   0.     ,   8.14   ,   0.     ,   0.538  ,   6.142  ,\n",
       "        91.7    ,   3.9769 ,   4.     , 307.     ,  21.     , 396.9    ,\n",
       "        18.72   ])"
      ]
     },
     "execution_count": 5,
     "metadata": {},
     "output_type": "execute_result"
    }
   ],
   "source": [
    "X_train[0]"
   ]
  },
  {
   "cell_type": "code",
   "execution_count": 6,
   "metadata": {},
   "outputs": [],
   "source": [
    "# 하이퍼파라미터 값들을 설정\n",
    "LEARNING_RATE = 0.001 #학습률\n",
    "N_EPOCHS = 200 #에폭 횟수. 1 epoch 전체 데이터셋을 한번 사용한것.\n",
    "N_BATCHS = 32  #batch_size. 32개 데이터셋 마다 파라미터들(가중치) 업데이트. \n",
    "\n",
    "N_TRAIN = X_train.shape[0] #train set의 개수\n",
    "N_TEST = X_test.shape[0]  #test set 의 개수\n",
    "N_FEATURES = X_train.shape[1] #input data의  feature(컬럼) 개수"
   ]
  },
  {
   "cell_type": "code",
   "execution_count": 7,
   "metadata": {},
   "outputs": [],
   "source": [
    "# Dataset 생성\n",
    "# drop_remainder=True: 마지막에 batch size보다 제공할 데이터가 적으면 학습시 제공하지 말고 버려라.\n",
    "# repeat(): 여러 epoch을 돌때마다 계속 데이터를 제공하게 하기 위해.  repeat()를 지정하지 않으면 1 에폭후 데이터를 제공하지 못한다.\n",
    "train_dataset = tf.data.Dataset.from_tensor_slices((X_train, y_train)).shuffle(N_TRAIN).batch(N_BATCHS, drop_remainder=True).repeat()\n",
    "val_dataset = tf.data.Dataset.from_tensor_slices((X_test, y_test)).batch(N_BATCHS)"
   ]
  },
  {
   "cell_type": "code",
   "execution_count": 8,
   "metadata": {},
   "outputs": [],
   "source": [
    "# 모델 생성\n",
    "def create_model():\n",
    "    model = keras.Sequential()\n",
    "    # 입력 Layer를 따로 정의.\n",
    "    # 첫번째 Layer를 만들때 input_shape(1개의 입력데이터의 형태)를 지정하면 입력 Layer층이 자동으로 생성된다.\n",
    "    model.add(keras.layers.Dense(units=16, activation='relu', input_shape=(N_FEATURES,))) \n",
    "    model.add(keras.layers.Dense(units=8, activation='relu'))\n",
    "    # 출력 Layer \n",
    "    model.add(keras.layers.Dense(units=1)) #회귀의 출력층: units수는 1, activation 함수는 사용하지 않는다.\n",
    "    \n",
    "    # 모델 컴파일\n",
    "    model.compile(optimizer=tf.keras.optimizers.Adam(learning_rate=LEARNING_RATE), # optimizer의 하이퍼파라미터를 기본값으로 쓸경우 문자열로 \"adam\"으로 선언하면됨.\n",
    "                  loss='mse') #회귀의 Loss 함수: mse\n",
    "    return model"
   ]
  },
  {
   "cell_type": "code",
   "execution_count": 9,
   "metadata": {},
   "outputs": [],
   "source": [
    "#tf.keras.optimizers.Adam?"
   ]
  },
  {
   "cell_type": "code",
   "execution_count": 10,
   "metadata": {},
   "outputs": [],
   "source": [
    "model = create_model()"
   ]
  },
  {
   "cell_type": "code",
   "execution_count": 11,
   "metadata": {},
   "outputs": [
    {
     "name": "stdout",
     "output_type": "stream",
     "text": [
      "Model: \"sequential\"\n",
      "_________________________________________________________________\n",
      "Layer (type)                 Output Shape              Param #   \n",
      "=================================================================\n",
      "dense (Dense)                (None, 16)                224       \n",
      "_________________________________________________________________\n",
      "dense_1 (Dense)              (None, 8)                 136       \n",
      "_________________________________________________________________\n",
      "dense_2 (Dense)              (None, 1)                 9         \n",
      "=================================================================\n",
      "Total params: 369\n",
      "Trainable params: 369\n",
      "Non-trainable params: 0\n",
      "_________________________________________________________________\n"
     ]
    }
   ],
   "source": [
    "model.summary()"
   ]
  },
  {
   "cell_type": "code",
   "execution_count": 12,
   "metadata": {},
   "outputs": [],
   "source": [
    "# 1 step: 한번 가중치를 업데이트. batch size\n",
    "# 1 epoch: 전체 train 데이터를 한번 학습\n",
    "steps_per_epoch = N_TRAIN // N_BATCHS  # 학습데이터개수 // 배치수\n",
    "validation_steps = int(np.ceil(N_TEST/N_BATCHS))"
   ]
  },
  {
   "cell_type": "code",
   "execution_count": 13,
   "metadata": {},
   "outputs": [
    {
     "name": "stdout",
     "output_type": "stream",
     "text": [
      "Train for 12 steps, validate for 4 steps\n",
      "Epoch 1/200\n",
      "12/12 [==============================] - 0s 25ms/step - loss: 402.1756 - val_loss: 239.0792\n",
      "Epoch 2/200\n",
      "12/12 [==============================] - 0s 2ms/step - loss: 151.8999 - val_loss: 120.9074\n",
      "Epoch 3/200\n",
      "12/12 [==============================] - 0s 1ms/step - loss: 81.3070 - val_loss: 104.4387\n",
      "Epoch 4/200\n",
      "12/12 [==============================] - 0s 1ms/step - loss: 77.1330 - val_loss: 99.5287\n",
      "Epoch 5/200\n",
      "12/12 [==============================] - 0s 1ms/step - loss: 73.2870 - val_loss: 102.3875\n",
      "Epoch 6/200\n",
      "12/12 [==============================] - 0s 1ms/step - loss: 73.6594 - val_loss: 96.8372\n",
      "Epoch 7/200\n",
      "12/12 [==============================] - 0s 1ms/step - loss: 68.5961 - val_loss: 105.7052\n",
      "Epoch 8/200\n",
      "12/12 [==============================] - 0s 1ms/step - loss: 68.1735 - val_loss: 96.7148\n",
      "Epoch 9/200\n",
      "12/12 [==============================] - 0s 1ms/step - loss: 64.4891 - val_loss: 99.6242\n",
      "Epoch 10/200\n",
      "12/12 [==============================] - 0s 1ms/step - loss: 64.8099 - val_loss: 94.7956\n",
      "Epoch 11/200\n",
      "12/12 [==============================] - 0s 1ms/step - loss: 65.4377 - val_loss: 93.5170\n",
      "Epoch 12/200\n",
      "12/12 [==============================] - 0s 1ms/step - loss: 62.9740 - val_loss: 92.2850\n",
      "Epoch 13/200\n",
      "12/12 [==============================] - 0s 1ms/step - loss: 63.7099 - val_loss: 90.6814\n",
      "Epoch 14/200\n",
      "12/12 [==============================] - 0s 1ms/step - loss: 65.0336 - val_loss: 90.3487\n",
      "Epoch 15/200\n",
      "12/12 [==============================] - 0s 1ms/step - loss: 63.9684 - val_loss: 90.3885\n",
      "Epoch 16/200\n",
      "12/12 [==============================] - 0s 1ms/step - loss: 62.0394 - val_loss: 88.6108\n",
      "Epoch 17/200\n",
      "12/12 [==============================] - 0s 1ms/step - loss: 62.4096 - val_loss: 93.4703\n",
      "Epoch 18/200\n",
      "12/12 [==============================] - 0s 1ms/step - loss: 59.5260 - val_loss: 85.1806\n",
      "Epoch 19/200\n",
      "12/12 [==============================] - 0s 1ms/step - loss: 61.3428 - val_loss: 86.0758\n",
      "Epoch 20/200\n",
      "12/12 [==============================] - 0s 1ms/step - loss: 58.3867 - val_loss: 86.5942\n",
      "Epoch 21/200\n",
      "12/12 [==============================] - 0s 1ms/step - loss: 59.8239 - val_loss: 83.0461\n",
      "Epoch 22/200\n",
      "12/12 [==============================] - 0s 1ms/step - loss: 60.4442 - val_loss: 81.0010\n",
      "Epoch 23/200\n",
      "12/12 [==============================] - 0s 1ms/step - loss: 57.6439 - val_loss: 86.8079\n",
      "Epoch 24/200\n",
      "12/12 [==============================] - 0s 1ms/step - loss: 58.5588 - val_loss: 80.0078\n",
      "Epoch 25/200\n",
      "12/12 [==============================] - 0s 1ms/step - loss: 55.6146 - val_loss: 80.8006\n",
      "Epoch 26/200\n",
      "12/12 [==============================] - 0s 1ms/step - loss: 55.1755 - val_loss: 86.5272\n",
      "Epoch 27/200\n",
      "12/12 [==============================] - 0s 1ms/step - loss: 56.7222 - val_loss: 76.9069\n",
      "Epoch 28/200\n",
      "12/12 [==============================] - 0s 1ms/step - loss: 55.2426 - val_loss: 80.4709\n",
      "Epoch 29/200\n",
      "12/12 [==============================] - 0s 1ms/step - loss: 56.0066 - val_loss: 76.2385\n",
      "Epoch 30/200\n",
      "12/12 [==============================] - 0s 1ms/step - loss: 55.0820 - val_loss: 81.3397\n",
      "Epoch 31/200\n",
      "12/12 [==============================] - 0s 1ms/step - loss: 54.4144 - val_loss: 74.7921\n",
      "Epoch 32/200\n",
      "12/12 [==============================] - 0s 1ms/step - loss: 53.5696 - val_loss: 79.9436\n",
      "Epoch 33/200\n",
      "12/12 [==============================] - 0s 1ms/step - loss: 51.9430 - val_loss: 74.4227\n",
      "Epoch 34/200\n",
      "12/12 [==============================] - 0s 1ms/step - loss: 50.8528 - val_loss: 74.4612\n",
      "Epoch 35/200\n",
      "12/12 [==============================] - 0s 1ms/step - loss: 52.0572 - val_loss: 72.3950\n",
      "Epoch 36/200\n",
      "12/12 [==============================] - 0s 1ms/step - loss: 56.3639 - val_loss: 75.0957\n",
      "Epoch 37/200\n",
      "12/12 [==============================] - 0s 1ms/step - loss: 58.0538 - val_loss: 72.7176\n",
      "Epoch 38/200\n",
      "12/12 [==============================] - 0s 1ms/step - loss: 55.8469 - val_loss: 85.8494\n",
      "Epoch 39/200\n",
      "12/12 [==============================] - 0s 1ms/step - loss: 50.7781 - val_loss: 71.2032\n",
      "Epoch 40/200\n",
      "12/12 [==============================] - 0s 1ms/step - loss: 50.5251 - val_loss: 69.4461\n",
      "Epoch 41/200\n",
      "12/12 [==============================] - 0s 1ms/step - loss: 50.2312 - val_loss: 71.2047\n",
      "Epoch 42/200\n",
      "12/12 [==============================] - 0s 1ms/step - loss: 51.1090 - val_loss: 72.6919\n",
      "Epoch 43/200\n",
      "12/12 [==============================] - 0s 1ms/step - loss: 47.1106 - val_loss: 69.0461\n",
      "Epoch 44/200\n",
      "12/12 [==============================] - 0s 1ms/step - loss: 46.9172 - val_loss: 68.4505\n",
      "Epoch 45/200\n",
      "12/12 [==============================] - 0s 1ms/step - loss: 49.1659 - val_loss: 67.5604\n",
      "Epoch 46/200\n",
      "12/12 [==============================] - 0s 1ms/step - loss: 49.5845 - val_loss: 66.6459\n",
      "Epoch 47/200\n",
      "12/12 [==============================] - 0s 1ms/step - loss: 49.9568 - val_loss: 67.4414\n",
      "Epoch 48/200\n",
      "12/12 [==============================] - 0s 1ms/step - loss: 47.2701 - val_loss: 66.8274\n",
      "Epoch 49/200\n",
      "12/12 [==============================] - 0s 1ms/step - loss: 48.2489 - val_loss: 67.0387\n",
      "Epoch 50/200\n",
      "12/12 [==============================] - 0s 1ms/step - loss: 50.1579 - val_loss: 64.6146\n",
      "Epoch 51/200\n",
      "12/12 [==============================] - 0s 1ms/step - loss: 45.3427 - val_loss: 64.9218\n",
      "Epoch 52/200\n",
      "12/12 [==============================] - 0s 1ms/step - loss: 45.7545 - val_loss: 65.2818\n",
      "Epoch 53/200\n",
      "12/12 [==============================] - 0s 1ms/step - loss: 42.2191 - val_loss: 63.4426\n",
      "Epoch 54/200\n",
      "12/12 [==============================] - 0s 1ms/step - loss: 45.6220 - val_loss: 63.8125\n",
      "Epoch 55/200\n",
      "12/12 [==============================] - 0s 1ms/step - loss: 44.3202 - val_loss: 62.9416\n",
      "Epoch 56/200\n",
      "12/12 [==============================] - 0s 1ms/step - loss: 44.7217 - val_loss: 68.6659\n",
      "Epoch 57/200\n",
      "12/12 [==============================] - 0s 1ms/step - loss: 47.4383 - val_loss: 66.9072\n",
      "Epoch 58/200\n",
      "12/12 [==============================] - 0s 1ms/step - loss: 46.6368 - val_loss: 61.3961\n",
      "Epoch 59/200\n",
      "12/12 [==============================] - 0s 1ms/step - loss: 43.9872 - val_loss: 60.6247\n",
      "Epoch 60/200\n",
      "12/12 [==============================] - 0s 1ms/step - loss: 45.9647 - val_loss: 60.7900\n",
      "Epoch 61/200\n",
      "12/12 [==============================] - 0s 1ms/step - loss: 45.2187 - val_loss: 60.5362\n",
      "Epoch 62/200\n",
      "12/12 [==============================] - 0s 1ms/step - loss: 42.1026 - val_loss: 60.4174\n",
      "Epoch 63/200\n",
      "12/12 [==============================] - 0s 1ms/step - loss: 41.8696 - val_loss: 59.3985\n",
      "Epoch 64/200\n",
      "12/12 [==============================] - 0s 1ms/step - loss: 43.5113 - val_loss: 59.2489\n",
      "Epoch 65/200\n",
      "12/12 [==============================] - 0s 1ms/step - loss: 43.1631 - val_loss: 63.9554\n",
      "Epoch 66/200\n",
      "12/12 [==============================] - 0s 1ms/step - loss: 42.6488 - val_loss: 58.7775\n",
      "Epoch 67/200\n",
      "12/12 [==============================] - 0s 1ms/step - loss: 42.6960 - val_loss: 66.3218\n",
      "Epoch 68/200\n",
      "12/12 [==============================] - 0s 1ms/step - loss: 43.9614 - val_loss: 58.9223\n",
      "Epoch 69/200\n",
      "12/12 [==============================] - 0s 1ms/step - loss: 41.6969 - val_loss: 57.4759\n",
      "Epoch 70/200\n",
      "12/12 [==============================] - 0s 1ms/step - loss: 40.7622 - val_loss: 59.4052\n",
      "Epoch 71/200\n",
      "12/12 [==============================] - 0s 1ms/step - loss: 40.9530 - val_loss: 56.1775\n",
      "Epoch 72/200\n",
      "12/12 [==============================] - 0s 1ms/step - loss: 42.1056 - val_loss: 59.9877\n",
      "Epoch 73/200\n",
      "12/12 [==============================] - 0s 1ms/step - loss: 41.6055 - val_loss: 59.9041\n",
      "Epoch 74/200\n",
      "12/12 [==============================] - 0s 1ms/step - loss: 38.9769 - val_loss: 58.0634\n",
      "Epoch 75/200\n",
      "12/12 [==============================] - 0s 1ms/step - loss: 41.9724 - val_loss: 54.7375\n",
      "Epoch 76/200\n",
      "12/12 [==============================] - 0s 1ms/step - loss: 39.4093 - val_loss: 56.1887\n",
      "Epoch 77/200\n",
      "12/12 [==============================] - 0s 1ms/step - loss: 39.9596 - val_loss: 60.2336\n",
      "Epoch 78/200\n",
      "12/12 [==============================] - 0s 1ms/step - loss: 39.3306 - val_loss: 55.4171\n",
      "Epoch 79/200\n",
      "12/12 [==============================] - 0s 1ms/step - loss: 41.4842 - val_loss: 57.4870\n",
      "Epoch 80/200\n",
      "12/12 [==============================] - 0s 1ms/step - loss: 35.7655 - val_loss: 53.9507\n"
     ]
    },
    {
     "name": "stdout",
     "output_type": "stream",
     "text": [
      "Epoch 81/200\n",
      "12/12 [==============================] - 0s 1ms/step - loss: 40.6395 - val_loss: 53.9090\n",
      "Epoch 82/200\n",
      "12/12 [==============================] - 0s 1ms/step - loss: 41.8409 - val_loss: 63.6542\n",
      "Epoch 83/200\n",
      "12/12 [==============================] - 0s 1ms/step - loss: 41.3784 - val_loss: 53.3382\n",
      "Epoch 84/200\n",
      "12/12 [==============================] - 0s 1ms/step - loss: 39.6774 - val_loss: 55.3795\n",
      "Epoch 85/200\n",
      "12/12 [==============================] - 0s 1ms/step - loss: 41.2063 - val_loss: 53.4620\n",
      "Epoch 86/200\n",
      "12/12 [==============================] - 0s 1ms/step - loss: 40.0407 - val_loss: 50.9151\n",
      "Epoch 87/200\n",
      "12/12 [==============================] - 0s 1ms/step - loss: 35.3876 - val_loss: 57.0340\n",
      "Epoch 88/200\n",
      "12/12 [==============================] - 0s 1ms/step - loss: 40.0827 - val_loss: 55.3768\n",
      "Epoch 89/200\n",
      "12/12 [==============================] - 0s 1ms/step - loss: 41.4325 - val_loss: 53.9549\n",
      "Epoch 90/200\n",
      "12/12 [==============================] - 0s 1ms/step - loss: 36.9179 - val_loss: 51.1429\n",
      "Epoch 91/200\n",
      "12/12 [==============================] - 0s 1ms/step - loss: 38.8322 - val_loss: 50.9436\n",
      "Epoch 92/200\n",
      "12/12 [==============================] - 0s 1ms/step - loss: 39.3039 - val_loss: 50.9130\n",
      "Epoch 93/200\n",
      "12/12 [==============================] - 0s 1ms/step - loss: 39.6712 - val_loss: 50.6565\n",
      "Epoch 94/200\n",
      "12/12 [==============================] - 0s 1ms/step - loss: 38.1553 - val_loss: 51.8271\n",
      "Epoch 95/200\n",
      "12/12 [==============================] - 0s 1ms/step - loss: 36.1023 - val_loss: 49.4534\n",
      "Epoch 96/200\n",
      "12/12 [==============================] - 0s 1ms/step - loss: 41.5881 - val_loss: 50.9062\n",
      "Epoch 97/200\n",
      "12/12 [==============================] - 0s 1ms/step - loss: 38.6762 - val_loss: 49.2382\n",
      "Epoch 98/200\n",
      "12/12 [==============================] - 0s 1ms/step - loss: 39.1162 - val_loss: 49.8827\n",
      "Epoch 99/200\n",
      "12/12 [==============================] - 0s 1ms/step - loss: 36.4666 - val_loss: 51.2218\n",
      "Epoch 100/200\n",
      "12/12 [==============================] - 0s 1ms/step - loss: 34.7881 - val_loss: 49.5943\n",
      "Epoch 101/200\n",
      "12/12 [==============================] - 0s 1ms/step - loss: 38.8773 - val_loss: 48.7423\n",
      "Epoch 102/200\n",
      "12/12 [==============================] - 0s 1ms/step - loss: 38.0816 - val_loss: 49.0095\n",
      "Epoch 103/200\n",
      "12/12 [==============================] - 0s 1ms/step - loss: 35.2724 - val_loss: 47.9767\n",
      "Epoch 104/200\n",
      "12/12 [==============================] - 0s 1ms/step - loss: 37.3092 - val_loss: 51.0182\n",
      "Epoch 105/200\n",
      "12/12 [==============================] - 0s 1ms/step - loss: 37.7346 - val_loss: 47.8397\n",
      "Epoch 106/200\n",
      "12/12 [==============================] - 0s 1ms/step - loss: 37.8885 - val_loss: 47.5388\n",
      "Epoch 107/200\n",
      "12/12 [==============================] - 0s 1ms/step - loss: 38.4336 - val_loss: 48.4857\n",
      "Epoch 108/200\n",
      "12/12 [==============================] - 0s 1ms/step - loss: 38.6801 - val_loss: 46.7804\n",
      "Epoch 109/200\n",
      "12/12 [==============================] - 0s 1ms/step - loss: 36.5863 - val_loss: 48.7671\n",
      "Epoch 110/200\n",
      "12/12 [==============================] - 0s 1ms/step - loss: 35.7232 - val_loss: 49.9738\n",
      "Epoch 111/200\n",
      "12/12 [==============================] - 0s 1ms/step - loss: 36.3928 - val_loss: 48.0733\n",
      "Epoch 112/200\n",
      "12/12 [==============================] - 0s 1ms/step - loss: 35.2898 - val_loss: 50.4938\n",
      "Epoch 113/200\n",
      "12/12 [==============================] - 0s 1ms/step - loss: 37.6640 - val_loss: 49.3602\n",
      "Epoch 114/200\n",
      "12/12 [==============================] - 0s 1ms/step - loss: 36.7590 - val_loss: 50.6795\n",
      "Epoch 115/200\n",
      "12/12 [==============================] - 0s 1ms/step - loss: 36.8201 - val_loss: 45.8221\n",
      "Epoch 116/200\n",
      "12/12 [==============================] - 0s 1ms/step - loss: 36.3729 - val_loss: 46.2563\n",
      "Epoch 117/200\n",
      "12/12 [==============================] - 0s 1ms/step - loss: 36.4167 - val_loss: 46.5439\n",
      "Epoch 118/200\n",
      "12/12 [==============================] - 0s 1ms/step - loss: 34.5780 - val_loss: 46.5030\n",
      "Epoch 119/200\n",
      "12/12 [==============================] - 0s 1ms/step - loss: 37.6742 - val_loss: 46.3432\n",
      "Epoch 120/200\n",
      "12/12 [==============================] - 0s 1ms/step - loss: 38.4758 - val_loss: 51.2388\n",
      "Epoch 121/200\n",
      "12/12 [==============================] - 0s 1ms/step - loss: 36.2951 - val_loss: 45.6070\n",
      "Epoch 122/200\n",
      "12/12 [==============================] - 0s 1ms/step - loss: 36.6792 - val_loss: 45.8387\n",
      "Epoch 123/200\n",
      "12/12 [==============================] - 0s 1ms/step - loss: 35.6400 - val_loss: 46.1335\n",
      "Epoch 124/200\n",
      "12/12 [==============================] - 0s 1ms/step - loss: 37.0662 - val_loss: 43.7563\n",
      "Epoch 125/200\n",
      "12/12 [==============================] - 0s 1ms/step - loss: 37.2502 - val_loss: 45.1508\n",
      "Epoch 126/200\n",
      "12/12 [==============================] - 0s 1ms/step - loss: 36.9472 - val_loss: 46.3436\n",
      "Epoch 127/200\n",
      "12/12 [==============================] - 0s 1ms/step - loss: 36.2343 - val_loss: 46.8887\n",
      "Epoch 128/200\n",
      "12/12 [==============================] - 0s 1ms/step - loss: 34.9077 - val_loss: 44.7797\n",
      "Epoch 129/200\n",
      "12/12 [==============================] - 0s 1ms/step - loss: 36.0079 - val_loss: 44.3926\n",
      "Epoch 130/200\n",
      "12/12 [==============================] - 0s 1ms/step - loss: 35.8052 - val_loss: 48.6851\n",
      "Epoch 131/200\n",
      "12/12 [==============================] - 0s 1ms/step - loss: 36.5315 - val_loss: 44.6947\n",
      "Epoch 132/200\n",
      "12/12 [==============================] - 0s 1ms/step - loss: 35.1258 - val_loss: 45.5119\n",
      "Epoch 133/200\n",
      "12/12 [==============================] - 0s 1ms/step - loss: 37.3060 - val_loss: 45.5628\n",
      "Epoch 134/200\n",
      "12/12 [==============================] - 0s 1ms/step - loss: 35.4222 - val_loss: 44.5694\n",
      "Epoch 135/200\n",
      "12/12 [==============================] - 0s 1ms/step - loss: 33.0794 - val_loss: 43.5407\n",
      "Epoch 136/200\n",
      "12/12 [==============================] - 0s 1ms/step - loss: 34.5928 - val_loss: 45.8809\n",
      "Epoch 137/200\n",
      "12/12 [==============================] - 0s 1ms/step - loss: 35.3102 - val_loss: 45.6709\n",
      "Epoch 138/200\n",
      "12/12 [==============================] - 0s 1ms/step - loss: 36.0494 - val_loss: 43.6592\n",
      "Epoch 139/200\n",
      "12/12 [==============================] - 0s 1ms/step - loss: 31.6362 - val_loss: 46.0003\n",
      "Epoch 140/200\n",
      "12/12 [==============================] - 0s 1ms/step - loss: 35.6327 - val_loss: 44.8853\n",
      "Epoch 141/200\n",
      "12/12 [==============================] - 0s 1ms/step - loss: 35.7827 - val_loss: 46.7908\n",
      "Epoch 142/200\n",
      "12/12 [==============================] - 0s 1ms/step - loss: 35.2612 - val_loss: 44.0635\n",
      "Epoch 143/200\n",
      "12/12 [==============================] - 0s 1ms/step - loss: 35.2580 - val_loss: 42.9544\n",
      "Epoch 144/200\n",
      "12/12 [==============================] - 0s 1ms/step - loss: 36.3229 - val_loss: 42.8787\n",
      "Epoch 145/200\n",
      "12/12 [==============================] - 0s 1ms/step - loss: 35.0171 - val_loss: 43.1785\n",
      "Epoch 146/200\n",
      "12/12 [==============================] - 0s 1ms/step - loss: 32.7783 - val_loss: 45.3316\n",
      "Epoch 147/200\n",
      "12/12 [==============================] - 0s 1ms/step - loss: 35.4734 - val_loss: 42.2680\n",
      "Epoch 148/200\n",
      "12/12 [==============================] - 0s 1ms/step - loss: 35.7032 - val_loss: 48.9488\n",
      "Epoch 149/200\n",
      "12/12 [==============================] - 0s 1ms/step - loss: 35.7452 - val_loss: 44.0936\n",
      "Epoch 150/200\n",
      "12/12 [==============================] - 0s 1ms/step - loss: 36.4798 - val_loss: 42.6408\n",
      "Epoch 151/200\n",
      "12/12 [==============================] - 0s 1ms/step - loss: 34.7162 - val_loss: 45.1105\n",
      "Epoch 152/200\n",
      "12/12 [==============================] - 0s 1ms/step - loss: 35.9736 - val_loss: 43.5559\n",
      "Epoch 153/200\n",
      "12/12 [==============================] - 0s 1ms/step - loss: 32.8387 - val_loss: 42.6934\n",
      "Epoch 154/200\n",
      "12/12 [==============================] - 0s 1ms/step - loss: 33.9922 - val_loss: 42.2322\n",
      "Epoch 155/200\n",
      "12/12 [==============================] - 0s 1ms/step - loss: 35.4931 - val_loss: 42.3189\n",
      "Epoch 156/200\n",
      "12/12 [==============================] - 0s 1ms/step - loss: 34.7526 - val_loss: 42.6368\n",
      "Epoch 157/200\n",
      "12/12 [==============================] - 0s 1ms/step - loss: 34.6434 - val_loss: 42.7124\n",
      "Epoch 158/200\n",
      "12/12 [==============================] - 0s 1ms/step - loss: 33.3328 - val_loss: 41.7090\n",
      "Epoch 159/200\n",
      "12/12 [==============================] - 0s 2ms/step - loss: 34.2025 - val_loss: 42.8938\n",
      "Epoch 160/200\n",
      "12/12 [==============================] - 0s 1ms/step - loss: 33.3250 - val_loss: 42.3829\n",
      "Epoch 161/200\n",
      "12/12 [==============================] - 0s 1ms/step - loss: 33.8451 - val_loss: 43.0780\n",
      "Epoch 162/200\n",
      "12/12 [==============================] - 0s 1ms/step - loss: 34.4304 - val_loss: 42.0786\n",
      "Epoch 163/200\n",
      "12/12 [==============================] - 0s 1ms/step - loss: 33.9570 - val_loss: 42.5185\n",
      "Epoch 164/200\n",
      "12/12 [==============================] - 0s 1ms/step - loss: 35.2657 - val_loss: 42.1646\n",
      "Epoch 165/200\n",
      "12/12 [==============================] - 0s 1ms/step - loss: 35.4410 - val_loss: 42.4210\n",
      "Epoch 166/200\n",
      "12/12 [==============================] - 0s 1ms/step - loss: 33.9625 - val_loss: 42.6780\n",
      "Epoch 167/200\n",
      "12/12 [==============================] - 0s 1ms/step - loss: 34.1748 - val_loss: 43.0065\n",
      "Epoch 168/200\n",
      "12/12 [==============================] - 0s 1ms/step - loss: 36.5509 - val_loss: 43.5831\n",
      "Epoch 169/200\n",
      "12/12 [==============================] - 0s 1ms/step - loss: 32.7472 - val_loss: 41.8438\n",
      "Epoch 170/200\n",
      "12/12 [==============================] - 0s 1ms/step - loss: 32.7444 - val_loss: 40.8912\n",
      "Epoch 171/200\n",
      "12/12 [==============================] - 0s 1ms/step - loss: 33.2411 - val_loss: 41.8906\n",
      "Epoch 172/200\n",
      "12/12 [==============================] - 0s 1ms/step - loss: 34.6768 - val_loss: 43.4840\n",
      "Epoch 173/200\n",
      "12/12 [==============================] - 0s 1ms/step - loss: 34.8062 - val_loss: 41.1269\n",
      "Epoch 174/200\n",
      "12/12 [==============================] - 0s 1ms/step - loss: 33.0958 - val_loss: 41.2675\n",
      "Epoch 175/200\n",
      "12/12 [==============================] - 0s 1ms/step - loss: 34.4120 - val_loss: 40.7267\n",
      "Epoch 176/200\n",
      "12/12 [==============================] - 0s 1ms/step - loss: 33.5598 - val_loss: 43.7371\n",
      "Epoch 177/200\n",
      "12/12 [==============================] - 0s 1ms/step - loss: 34.2061 - val_loss: 43.0726\n",
      "Epoch 178/200\n",
      "12/12 [==============================] - 0s 1ms/step - loss: 34.7221 - val_loss: 40.5014\n",
      "Epoch 179/200\n",
      "12/12 [==============================] - 0s 1ms/step - loss: 33.3808 - val_loss: 43.0057\n",
      "Epoch 180/200\n",
      "12/12 [==============================] - 0s 1ms/step - loss: 33.4244 - val_loss: 40.7363\n",
      "Epoch 181/200\n",
      "12/12 [==============================] - 0s 1ms/step - loss: 35.0616 - val_loss: 41.3751\n",
      "Epoch 182/200\n",
      "12/12 [==============================] - 0s 1ms/step - loss: 34.1833 - val_loss: 44.5758\n",
      "Epoch 183/200\n",
      "12/12 [==============================] - 0s 1ms/step - loss: 35.8915 - val_loss: 41.7643\n",
      "Epoch 184/200\n",
      "12/12 [==============================] - 0s 1ms/step - loss: 34.8062 - val_loss: 43.7791\n",
      "Epoch 185/200\n",
      "12/12 [==============================] - 0s 1ms/step - loss: 33.8466 - val_loss: 40.9773\n",
      "Epoch 186/200\n",
      "12/12 [==============================] - 0s 1ms/step - loss: 32.5418 - val_loss: 43.7229\n",
      "Epoch 187/200\n",
      "12/12 [==============================] - 0s 1ms/step - loss: 33.7945 - val_loss: 40.0882\n",
      "Epoch 188/200\n",
      "12/12 [==============================] - 0s 1ms/step - loss: 36.1498 - val_loss: 45.5055\n",
      "Epoch 189/200\n",
      "12/12 [==============================] - 0s 1ms/step - loss: 36.4542 - val_loss: 42.6976\n",
      "Epoch 190/200\n",
      "12/12 [==============================] - 0s 1ms/step - loss: 33.8898 - val_loss: 40.5609\n",
      "Epoch 191/200\n",
      "12/12 [==============================] - 0s 1ms/step - loss: 35.1105 - val_loss: 40.3852\n",
      "Epoch 192/200\n",
      "12/12 [==============================] - 0s 1ms/step - loss: 35.8341 - val_loss: 40.4043\n",
      "Epoch 193/200\n",
      "12/12 [==============================] - 0s 1ms/step - loss: 33.4818 - val_loss: 43.2756\n",
      "Epoch 194/200\n",
      "12/12 [==============================] - 0s 1ms/step - loss: 34.0635 - val_loss: 43.2661\n",
      "Epoch 195/200\n",
      "12/12 [==============================] - 0s 1ms/step - loss: 34.8828 - val_loss: 39.8638\n",
      "Epoch 196/200\n",
      "12/12 [==============================] - 0s 1ms/step - loss: 33.3723 - val_loss: 40.8599\n",
      "Epoch 197/200\n",
      "12/12 [==============================] - 0s 1ms/step - loss: 34.1927 - val_loss: 40.8968\n",
      "Epoch 198/200\n",
      "12/12 [==============================] - 0s 1ms/step - loss: 33.5358 - val_loss: 39.9343\n",
      "Epoch 199/200\n",
      "12/12 [==============================] - 0s 1ms/step - loss: 33.6734 - val_loss: 40.1557\n",
      "Epoch 200/200\n",
      "12/12 [==============================] - 0s 1ms/step - loss: 32.8767 - val_loss: 51.7618\n"
     ]
    }
   ],
   "source": [
    "history = model.fit(train_dataset,  #train dataset (X_train, y_train)\n",
    "                    epochs=N_EPOCHS, \n",
    "                    steps_per_epoch=steps_per_epoch, #1에폭당 step 수,  tf2.4 step수 지정은 생략가능.\n",
    "                    validation_data=val_dataset, #검증 Dataset 지정.\n",
    "                    validation_steps=validation_steps)"
   ]
  },
  {
   "cell_type": "code",
   "execution_count": 14,
   "metadata": {},
   "outputs": [
    {
     "data": {
      "text/plain": [
       "dict_keys(['loss', 'val_loss'])"
      ]
     },
     "execution_count": 14,
     "metadata": {},
     "output_type": "execute_result"
    }
   ],
   "source": [
    "history.history.keys()"
   ]
  },
  {
   "cell_type": "code",
   "execution_count": 15,
   "metadata": {},
   "outputs": [
    {
     "data": {
      "text/plain": [
       "{'loss': [402.17555236816406,\n",
       "  151.89988708496094,\n",
       "  81.30701605478923,\n",
       "  77.1330057779948,\n",
       "  73.28704738616943,\n",
       "  73.6594025293986,\n",
       "  68.596053759257,\n",
       "  68.17345539728801,\n",
       "  64.48908933003743,\n",
       "  64.80986658732097,\n",
       "  65.4376614888509,\n",
       "  62.97397804260254,\n",
       "  63.709852854410805,\n",
       "  65.0336332321167,\n",
       "  63.96837139129639,\n",
       "  62.03938500086466,\n",
       "  62.40960677464803,\n",
       "  59.52604913711548,\n",
       "  61.342807610829674,\n",
       "  58.38674354553223,\n",
       "  59.82391389211019,\n",
       "  60.44420703252157,\n",
       "  57.643922646840416,\n",
       "  58.55880053838094,\n",
       "  55.614603996276855,\n",
       "  55.175476710001625,\n",
       "  56.722180684407554,\n",
       "  55.24263827006022,\n",
       "  56.00655094782511,\n",
       "  55.08198515574137,\n",
       "  54.41442314783732,\n",
       "  53.56960678100586,\n",
       "  51.943007151285805,\n",
       "  50.85278860727946,\n",
       "  52.05717674891154,\n",
       "  56.36386521657308,\n",
       "  58.05383412043253,\n",
       "  55.846919218699135,\n",
       "  50.77808539072672,\n",
       "  50.52508672078451,\n",
       "  50.23121984799703,\n",
       "  51.10896762212118,\n",
       "  47.1106063524882,\n",
       "  46.91719404856364,\n",
       "  49.1659369468689,\n",
       "  49.58452129364014,\n",
       "  49.95680697758993,\n",
       "  47.270089626312256,\n",
       "  48.24892552693685,\n",
       "  50.15785034497579,\n",
       "  45.34266885121664,\n",
       "  45.754543940226235,\n",
       "  42.21909236907959,\n",
       "  45.62203868230184,\n",
       "  44.32019583384196,\n",
       "  44.72174151738485,\n",
       "  47.43828868865967,\n",
       "  46.63680044809977,\n",
       "  43.98723332087199,\n",
       "  45.96466906865438,\n",
       "  45.21868880589803,\n",
       "  42.102604389190674,\n",
       "  41.869603315989174,\n",
       "  43.511275927225746,\n",
       "  43.16305589675903,\n",
       "  42.64875523249308,\n",
       "  42.69603808720907,\n",
       "  43.96143356959025,\n",
       "  41.69685443242391,\n",
       "  40.762219270070396,\n",
       "  40.95298361778259,\n",
       "  42.10564057032267,\n",
       "  41.60549386342367,\n",
       "  38.97692267100016,\n",
       "  41.9723752339681,\n",
       "  39.40934991836548,\n",
       "  39.95960760116577,\n",
       "  39.330641746520996,\n",
       "  41.4841996828715,\n",
       "  35.76547813415527,\n",
       "  40.639538606007896,\n",
       "  41.84092458089193,\n",
       "  41.3783532778422,\n",
       "  39.67740376790365,\n",
       "  41.206333001454674,\n",
       "  40.040712197621666,\n",
       "  35.38755337397257,\n",
       "  40.082748572031655,\n",
       "  41.4324525197347,\n",
       "  36.91785558064779,\n",
       "  38.832248051961265,\n",
       "  39.303894440333046,\n",
       "  39.67121394475301,\n",
       "  38.15530284245809,\n",
       "  36.10233521461487,\n",
       "  41.58814414342245,\n",
       "  38.67624060312907,\n",
       "  39.116199811299644,\n",
       "  36.46662759780884,\n",
       "  34.788050969441734,\n",
       "  38.87733697891235,\n",
       "  38.08164755503336,\n",
       "  35.27240403493246,\n",
       "  37.30921649932861,\n",
       "  37.734584172566734,\n",
       "  37.8884654045105,\n",
       "  38.433550675710045,\n",
       "  38.680115699768066,\n",
       "  36.586339235305786,\n",
       "  35.72321844100952,\n",
       "  36.39283609390259,\n",
       "  35.289849837621055,\n",
       "  37.66398620605469,\n",
       "  36.75901778539022,\n",
       "  36.82005023956299,\n",
       "  36.372901916503906,\n",
       "  36.416679541269936,\n",
       "  34.57797431945801,\n",
       "  37.67422819137573,\n",
       "  38.47576888402303,\n",
       "  36.2950713634491,\n",
       "  36.67918054262797,\n",
       "  35.640010356903076,\n",
       "  37.06617911656698,\n",
       "  37.250173250834145,\n",
       "  36.94715801874796,\n",
       "  36.234259605407715,\n",
       "  34.90768098831177,\n",
       "  36.007920026779175,\n",
       "  35.80522314707438,\n",
       "  36.53145615259806,\n",
       "  35.125775496164955,\n",
       "  37.305951277414955,\n",
       "  35.422248125076294,\n",
       "  33.07943979899088,\n",
       "  34.592784563700356,\n",
       "  35.31021277109782,\n",
       "  36.04942758878072,\n",
       "  31.63617976506551,\n",
       "  35.63269297281901,\n",
       "  35.782727559407554,\n",
       "  35.26120567321777,\n",
       "  35.25796031951904,\n",
       "  36.322927951812744,\n",
       "  35.01711893081665,\n",
       "  32.778348763783775,\n",
       "  35.4734091758728,\n",
       "  35.70323038101196,\n",
       "  35.745155811309814,\n",
       "  36.47976700464884,\n",
       "  34.71618111928304,\n",
       "  35.97360404332479,\n",
       "  32.838740825653076,\n",
       "  33.99223279953003,\n",
       "  35.49308101336161,\n",
       "  34.75263420740763,\n",
       "  34.643375078837074,\n",
       "  33.33280420303345,\n",
       "  34.20252672831217,\n",
       "  33.32500902811686,\n",
       "  33.84509801864624,\n",
       "  34.43043295542399,\n",
       "  33.957026402155556,\n",
       "  35.265674432118736,\n",
       "  35.44098472595215,\n",
       "  33.962502320607506,\n",
       "  34.17483146985372,\n",
       "  36.550933599472046,\n",
       "  32.747184912363686,\n",
       "  32.744383811950684,\n",
       "  33.24112923940023,\n",
       "  34.676753203074135,\n",
       "  34.806247075398765,\n",
       "  33.09579531351725,\n",
       "  34.412048975626625,\n",
       "  33.55978377660116,\n",
       "  34.20609505971273,\n",
       "  34.72210439046224,\n",
       "  33.38080437978109,\n",
       "  33.42438634236654,\n",
       "  35.06161403656006,\n",
       "  34.183279037475586,\n",
       "  35.89150857925415,\n",
       "  34.8061531384786,\n",
       "  33.84657287597656,\n",
       "  32.54181877772013,\n",
       "  33.79452975591024,\n",
       "  36.14982159932455,\n",
       "  36.454208532969155,\n",
       "  33.88976526260376,\n",
       "  35.11048777898153,\n",
       "  35.83411192893982,\n",
       "  33.48175970713297,\n",
       "  34.063546339670815,\n",
       "  34.88276425997416,\n",
       "  33.37226176261902,\n",
       "  34.192727406819664,\n",
       "  33.53583256403605,\n",
       "  33.67342201868693,\n",
       "  32.876686334609985],\n",
       " 'val_loss': [239.0791893005371,\n",
       "  120.90738010406494,\n",
       "  104.4386568069458,\n",
       "  99.52873229980469,\n",
       "  102.38753128051758,\n",
       "  96.83719253540039,\n",
       "  105.70522212982178,\n",
       "  96.71476745605469,\n",
       "  99.6241626739502,\n",
       "  94.79560375213623,\n",
       "  93.51695346832275,\n",
       "  92.28504753112793,\n",
       "  90.68140983581543,\n",
       "  90.34868717193604,\n",
       "  90.38853454589844,\n",
       "  88.61077499389648,\n",
       "  93.47031688690186,\n",
       "  85.18062782287598,\n",
       "  86.07575416564941,\n",
       "  86.59419536590576,\n",
       "  83.04612159729004,\n",
       "  81.00099468231201,\n",
       "  86.80790901184082,\n",
       "  80.00779724121094,\n",
       "  80.8005599975586,\n",
       "  86.52715492248535,\n",
       "  76.90688133239746,\n",
       "  80.47087097167969,\n",
       "  76.2384729385376,\n",
       "  81.33969688415527,\n",
       "  74.79212474822998,\n",
       "  79.94355487823486,\n",
       "  74.4226541519165,\n",
       "  74.4611988067627,\n",
       "  72.39502716064453,\n",
       "  75.09574127197266,\n",
       "  72.71759128570557,\n",
       "  85.8494005203247,\n",
       "  71.20321559906006,\n",
       "  69.44611740112305,\n",
       "  71.20471954345703,\n",
       "  72.69186305999756,\n",
       "  69.04606056213379,\n",
       "  68.45052528381348,\n",
       "  67.5604419708252,\n",
       "  66.64587020874023,\n",
       "  67.44143295288086,\n",
       "  66.82737350463867,\n",
       "  67.03874397277832,\n",
       "  64.61458683013916,\n",
       "  64.9217586517334,\n",
       "  65.28184604644775,\n",
       "  63.442625999450684,\n",
       "  63.812472343444824,\n",
       "  62.94158744812012,\n",
       "  68.66589879989624,\n",
       "  66.90724849700928,\n",
       "  61.39607048034668,\n",
       "  60.62471961975098,\n",
       "  60.79004955291748,\n",
       "  60.53615856170654,\n",
       "  60.41743326187134,\n",
       "  59.39851665496826,\n",
       "  59.24886131286621,\n",
       "  63.95542526245117,\n",
       "  58.77747344970703,\n",
       "  66.32181358337402,\n",
       "  58.92225217819214,\n",
       "  57.475948333740234,\n",
       "  59.405184268951416,\n",
       "  56.177502155303955,\n",
       "  59.9877405166626,\n",
       "  59.90406513214111,\n",
       "  58.06341743469238,\n",
       "  54.73746299743652,\n",
       "  56.18870544433594,\n",
       "  60.23358345031738,\n",
       "  55.41706323623657,\n",
       "  57.4870171546936,\n",
       "  53.95069456100464,\n",
       "  53.90895462036133,\n",
       "  63.65421104431152,\n",
       "  53.338197231292725,\n",
       "  55.37949800491333,\n",
       "  53.46204090118408,\n",
       "  50.91506862640381,\n",
       "  57.03404474258423,\n",
       "  55.376776695251465,\n",
       "  53.95491123199463,\n",
       "  51.14289093017578,\n",
       "  50.94362449645996,\n",
       "  50.91300630569458,\n",
       "  50.65646553039551,\n",
       "  51.827106952667236,\n",
       "  49.4533805847168,\n",
       "  50.90621566772461,\n",
       "  49.238229274749756,\n",
       "  49.88273859024048,\n",
       "  51.221800327301025,\n",
       "  49.59429216384888,\n",
       "  48.742321491241455,\n",
       "  49.00953388214111,\n",
       "  47.976688385009766,\n",
       "  51.01816987991333,\n",
       "  47.839685916900635,\n",
       "  47.53881216049194,\n",
       "  48.48569059371948,\n",
       "  46.780357360839844,\n",
       "  48.76707983016968,\n",
       "  49.9737868309021,\n",
       "  48.073326587677,\n",
       "  50.49376440048218,\n",
       "  49.36018419265747,\n",
       "  50.6794753074646,\n",
       "  45.822123527526855,\n",
       "  46.25631237030029,\n",
       "  46.54386615753174,\n",
       "  46.50299263000488,\n",
       "  46.343199729919434,\n",
       "  51.23883533477783,\n",
       "  45.60697269439697,\n",
       "  45.83873987197876,\n",
       "  46.133506298065186,\n",
       "  43.756327629089355,\n",
       "  45.150837421417236,\n",
       "  46.3435640335083,\n",
       "  46.888662338256836,\n",
       "  44.77971363067627,\n",
       "  44.392616271972656,\n",
       "  48.685147285461426,\n",
       "  44.69474792480469,\n",
       "  45.51189374923706,\n",
       "  45.562788009643555,\n",
       "  44.56936597824097,\n",
       "  43.54069185256958,\n",
       "  45.8809232711792,\n",
       "  45.67093801498413,\n",
       "  43.65924787521362,\n",
       "  46.000304222106934,\n",
       "  44.885279178619385,\n",
       "  46.79082107543945,\n",
       "  44.06351709365845,\n",
       "  42.954448223114014,\n",
       "  42.87873363494873,\n",
       "  43.17853260040283,\n",
       "  45.331570625305176,\n",
       "  42.26804828643799,\n",
       "  48.94878101348877,\n",
       "  44.093634605407715,\n",
       "  42.64077806472778,\n",
       "  45.11046552658081,\n",
       "  43.55586910247803,\n",
       "  42.69336462020874,\n",
       "  42.23219680786133,\n",
       "  42.318861961364746,\n",
       "  42.63679790496826,\n",
       "  42.712449073791504,\n",
       "  41.70903730392456,\n",
       "  42.893752098083496,\n",
       "  42.38285446166992,\n",
       "  43.077991008758545,\n",
       "  42.078622341156006,\n",
       "  42.518494606018066,\n",
       "  42.16464138031006,\n",
       "  42.4209942817688,\n",
       "  42.67800426483154,\n",
       "  43.006505489349365,\n",
       "  43.583102226257324,\n",
       "  41.84378671646118,\n",
       "  40.89116287231445,\n",
       "  41.89057540893555,\n",
       "  43.483957290649414,\n",
       "  41.126949310302734,\n",
       "  41.267457008361816,\n",
       "  40.72667121887207,\n",
       "  43.737101554870605,\n",
       "  43.07262563705444,\n",
       "  40.50141620635986,\n",
       "  43.005690574645996,\n",
       "  40.73626184463501,\n",
       "  41.37509250640869,\n",
       "  44.57577991485596,\n",
       "  41.76430130004883,\n",
       "  43.77907657623291,\n",
       "  40.9772572517395,\n",
       "  43.72285270690918,\n",
       "  40.08819770812988,\n",
       "  45.50545835494995,\n",
       "  42.69760513305664,\n",
       "  40.560912132263184,\n",
       "  40.3851523399353,\n",
       "  40.40430402755737,\n",
       "  43.27560377120972,\n",
       "  43.26609420776367,\n",
       "  39.86379623413086,\n",
       "  40.85993528366089,\n",
       "  40.89683771133423,\n",
       "  39.93431806564331,\n",
       "  40.15567207336426,\n",
       "  51.76180124282837]}"
      ]
     },
     "execution_count": 15,
     "metadata": {},
     "output_type": "execute_result"
    }
   ],
   "source": [
    "history.history"
   ]
  },
  {
   "cell_type": "code",
   "execution_count": 16,
   "metadata": {},
   "outputs": [
    {
     "data": {
      "text/plain": [
       "[239.0791893005371,\n",
       " 120.90738010406494,\n",
       " 104.4386568069458,\n",
       " 99.52873229980469,\n",
       " 102.38753128051758,\n",
       " 96.83719253540039,\n",
       " 105.70522212982178,\n",
       " 96.71476745605469,\n",
       " 99.6241626739502,\n",
       " 94.79560375213623,\n",
       " 93.51695346832275,\n",
       " 92.28504753112793,\n",
       " 90.68140983581543,\n",
       " 90.34868717193604,\n",
       " 90.38853454589844,\n",
       " 88.61077499389648,\n",
       " 93.47031688690186,\n",
       " 85.18062782287598,\n",
       " 86.07575416564941,\n",
       " 86.59419536590576,\n",
       " 83.04612159729004,\n",
       " 81.00099468231201,\n",
       " 86.80790901184082,\n",
       " 80.00779724121094,\n",
       " 80.8005599975586,\n",
       " 86.52715492248535,\n",
       " 76.90688133239746,\n",
       " 80.47087097167969,\n",
       " 76.2384729385376,\n",
       " 81.33969688415527,\n",
       " 74.79212474822998,\n",
       " 79.94355487823486,\n",
       " 74.4226541519165,\n",
       " 74.4611988067627,\n",
       " 72.39502716064453,\n",
       " 75.09574127197266,\n",
       " 72.71759128570557,\n",
       " 85.8494005203247,\n",
       " 71.20321559906006,\n",
       " 69.44611740112305,\n",
       " 71.20471954345703,\n",
       " 72.69186305999756,\n",
       " 69.04606056213379,\n",
       " 68.45052528381348,\n",
       " 67.5604419708252,\n",
       " 66.64587020874023,\n",
       " 67.44143295288086,\n",
       " 66.82737350463867,\n",
       " 67.03874397277832,\n",
       " 64.61458683013916,\n",
       " 64.9217586517334,\n",
       " 65.28184604644775,\n",
       " 63.442625999450684,\n",
       " 63.812472343444824,\n",
       " 62.94158744812012,\n",
       " 68.66589879989624,\n",
       " 66.90724849700928,\n",
       " 61.39607048034668,\n",
       " 60.62471961975098,\n",
       " 60.79004955291748,\n",
       " 60.53615856170654,\n",
       " 60.41743326187134,\n",
       " 59.39851665496826,\n",
       " 59.24886131286621,\n",
       " 63.95542526245117,\n",
       " 58.77747344970703,\n",
       " 66.32181358337402,\n",
       " 58.92225217819214,\n",
       " 57.475948333740234,\n",
       " 59.405184268951416,\n",
       " 56.177502155303955,\n",
       " 59.9877405166626,\n",
       " 59.90406513214111,\n",
       " 58.06341743469238,\n",
       " 54.73746299743652,\n",
       " 56.18870544433594,\n",
       " 60.23358345031738,\n",
       " 55.41706323623657,\n",
       " 57.4870171546936,\n",
       " 53.95069456100464,\n",
       " 53.90895462036133,\n",
       " 63.65421104431152,\n",
       " 53.338197231292725,\n",
       " 55.37949800491333,\n",
       " 53.46204090118408,\n",
       " 50.91506862640381,\n",
       " 57.03404474258423,\n",
       " 55.376776695251465,\n",
       " 53.95491123199463,\n",
       " 51.14289093017578,\n",
       " 50.94362449645996,\n",
       " 50.91300630569458,\n",
       " 50.65646553039551,\n",
       " 51.827106952667236,\n",
       " 49.4533805847168,\n",
       " 50.90621566772461,\n",
       " 49.238229274749756,\n",
       " 49.88273859024048,\n",
       " 51.221800327301025,\n",
       " 49.59429216384888,\n",
       " 48.742321491241455,\n",
       " 49.00953388214111,\n",
       " 47.976688385009766,\n",
       " 51.01816987991333,\n",
       " 47.839685916900635,\n",
       " 47.53881216049194,\n",
       " 48.48569059371948,\n",
       " 46.780357360839844,\n",
       " 48.76707983016968,\n",
       " 49.9737868309021,\n",
       " 48.073326587677,\n",
       " 50.49376440048218,\n",
       " 49.36018419265747,\n",
       " 50.6794753074646,\n",
       " 45.822123527526855,\n",
       " 46.25631237030029,\n",
       " 46.54386615753174,\n",
       " 46.50299263000488,\n",
       " 46.343199729919434,\n",
       " 51.23883533477783,\n",
       " 45.60697269439697,\n",
       " 45.83873987197876,\n",
       " 46.133506298065186,\n",
       " 43.756327629089355,\n",
       " 45.150837421417236,\n",
       " 46.3435640335083,\n",
       " 46.888662338256836,\n",
       " 44.77971363067627,\n",
       " 44.392616271972656,\n",
       " 48.685147285461426,\n",
       " 44.69474792480469,\n",
       " 45.51189374923706,\n",
       " 45.562788009643555,\n",
       " 44.56936597824097,\n",
       " 43.54069185256958,\n",
       " 45.8809232711792,\n",
       " 45.67093801498413,\n",
       " 43.65924787521362,\n",
       " 46.000304222106934,\n",
       " 44.885279178619385,\n",
       " 46.79082107543945,\n",
       " 44.06351709365845,\n",
       " 42.954448223114014,\n",
       " 42.87873363494873,\n",
       " 43.17853260040283,\n",
       " 45.331570625305176,\n",
       " 42.26804828643799,\n",
       " 48.94878101348877,\n",
       " 44.093634605407715,\n",
       " 42.64077806472778,\n",
       " 45.11046552658081,\n",
       " 43.55586910247803,\n",
       " 42.69336462020874,\n",
       " 42.23219680786133,\n",
       " 42.318861961364746,\n",
       " 42.63679790496826,\n",
       " 42.712449073791504,\n",
       " 41.70903730392456,\n",
       " 42.893752098083496,\n",
       " 42.38285446166992,\n",
       " 43.077991008758545,\n",
       " 42.078622341156006,\n",
       " 42.518494606018066,\n",
       " 42.16464138031006,\n",
       " 42.4209942817688,\n",
       " 42.67800426483154,\n",
       " 43.006505489349365,\n",
       " 43.583102226257324,\n",
       " 41.84378671646118,\n",
       " 40.89116287231445,\n",
       " 41.89057540893555,\n",
       " 43.483957290649414,\n",
       " 41.126949310302734,\n",
       " 41.267457008361816,\n",
       " 40.72667121887207,\n",
       " 43.737101554870605,\n",
       " 43.07262563705444,\n",
       " 40.50141620635986,\n",
       " 43.005690574645996,\n",
       " 40.73626184463501,\n",
       " 41.37509250640869,\n",
       " 44.57577991485596,\n",
       " 41.76430130004883,\n",
       " 43.77907657623291,\n",
       " 40.9772572517395,\n",
       " 43.72285270690918,\n",
       " 40.08819770812988,\n",
       " 45.50545835494995,\n",
       " 42.69760513305664,\n",
       " 40.560912132263184,\n",
       " 40.3851523399353,\n",
       " 40.40430402755737,\n",
       " 43.27560377120972,\n",
       " 43.26609420776367,\n",
       " 39.86379623413086,\n",
       " 40.85993528366089,\n",
       " 40.89683771133423,\n",
       " 39.93431806564331,\n",
       " 40.15567207336426,\n",
       " 51.76180124282837]"
      ]
     },
     "execution_count": 16,
     "metadata": {},
     "output_type": "execute_result"
    }
   ],
   "source": [
    "history.history['val_loss']"
   ]
  },
  {
   "cell_type": "code",
   "execution_count": 17,
   "metadata": {},
   "outputs": [
    {
     "data": {
      "image/png": "[encoded data removed]",
      "text/plain": [
       "<Figure size 720x504 with 1 Axes>"
      ]
     },
     "metadata": {
      "needs_background": "light"
     },
     "output_type": "display_data"
    }
   ],
   "source": [
    "# epoch당 loss와 val_loss  변화에 대해 선그래프 그리기.\n",
    "import matplotlib.pyplot as plt\n",
    "plt.figure(figsize=(10,7))\n",
    "\n",
    "plt.plot(range(1, N_EPOCHS+1), history.history['loss'], label='Train loss')\n",
    "plt.plot(range(1, N_EPOCHS+1), history.history['val_loss'], label='Validation loss')\n",
    "\n",
    "plt.xlabel('Epochs')\n",
    "plt.ylabel('Loss(MSE)')\n",
    "plt.ylim(0, 150)\n",
    "plt.legend()\n",
    "plt.grid(True)\n",
    "plt.show()"
   ]
  },
  {
   "cell_type": "code",
   "execution_count": 18,
   "metadata": {},
   "outputs": [
    {
     "name": "stdout",
     "output_type": "stream",
     "text": [
      "4/4 [==============================] - 0s 1ms/step - loss: 51.7618\n"
     ]
    },
    {
     "data": {
      "text/plain": [
       "51.76180124282837"
      ]
     },
     "execution_count": 18,
     "metadata": {},
     "output_type": "execute_result"
    }
   ],
   "source": [
    "#평가\n",
    "model.evaluate(val_dataset)"
   ]
  },
  {
   "cell_type": "markdown",
   "metadata": {},
   "source": [
    "## 2. Classification\n",
    "\n",
    "### Fashion MNIST(MNIST) Dataset"
   ]
  },
  {
   "cell_type": "markdown",
   "metadata": {},
   "source": [
    "10개의 범주(category)와 70,000개의 흑백 이미지로 구성된 [패션 MNIST](https://github.com/zalandoresearch/fashion-mnist) 데이터셋. \n",
    "이미지는 해상도(28x28 픽셀)가 낮고 다음처럼 개별 의류 품목을 나타낸다:\n",
    "\n",
    "<table>\n",
    "  <tr><td>\n",
    "    <img src=\"https://tensorflow.org/images/fashion-mnist-sprite.png\"\n",
    "         alt=\"Fashion MNIST sprite\"  width=\"600\">\n",
    "  </td></tr>\n",
    "  <tr><td align=\"center\">\n",
    "    <b>그림</b> <a href=\"https://github.com/zalandoresearch/fashion-mnist\">패션-MNIST 샘플</a> (Zalando, MIT License).<br/>&nbsp;\n",
    "  </td></tr>\n",
    "</table>\n",
    "\n",
    "패션 MNIST와 손글씨 MNIST는  비교적 작기 때문에 알고리즘의 작동 여부를 확인하기 위해 사용되곤 하며 코드를 테스트하고 디버깅하는 용도로 좋다."
   ]
  },
  {
   "cell_type": "markdown",
   "metadata": {},
   "source": [
    "이미지는 28x28 크기의 넘파이 배열이고 픽셀 값은 0과 255 사이이다. *레이블*(label)은 0에서 9까지의 정수 배열이다. 아래 표는 이미지에 있는 의류의 **클래스**(class)를 나낸다.\n",
    "\n",
    "<table>\n",
    "  <tr>\n",
    "    <th>레이블</th>\n",
    "    <th>클래스</th>\n",
    "  </tr>\n",
    "  <tr>\n",
    "    <td>0</td>\n",
    "    <td>T-shirt/top</td>\n",
    "  </tr>\n",
    "  <tr>\n",
    "    <td>1</td>\n",
    "    <td>Trousers</td>\n",
    "  </tr>\n",
    "    <tr>\n",
    "    <td>2</td>\n",
    "    <td>Pullover</td>\n",
    "  </tr>\n",
    "    <tr>\n",
    "    <td>3</td>\n",
    "    <td>Dress</td>\n",
    "  </tr>\n",
    "    <tr>\n",
    "    <td>4</td>\n",
    "    <td>Coat</td>\n",
    "  </tr>\n",
    "    <tr>\n",
    "    <td>5</td>\n",
    "    <td>Sandal</td>\n",
    "  </tr>\n",
    "    <tr>\n",
    "    <td>6</td>\n",
    "    <td>Shirt</td>\n",
    "  </tr>\n",
    "    <tr>\n",
    "    <td>7</td>\n",
    "    <td>Sneaker</td>\n",
    "  </tr>\n",
    "    <tr>\n",
    "    <td>8</td>\n",
    "    <td>Bag</td>\n",
    "  </tr>\n",
    "    <tr>\n",
    "    <td>9</td>\n",
    "    <td>Ankle boot</td>\n",
    "  </tr>\n",
    "</table>\n",
    "\n",
    "각 이미지는 하나의 레이블에 매핑되어 있다. 데이터셋에 클래스 이름이 들어있지 않기 때문에 나중에 이미지를 출력할 때 사용하기 위해 별도의 변수를 만들어 저장한다."
   ]
  },
  {
   "cell_type": "code",
   "execution_count": 31,
   "metadata": {},
   "outputs": [],
   "source": [
    "class_names = ['T-shirt/top', 'Trousers', 'Pullover', 'Dress', 'Coat', 'Sandal', 'Shirt', 'Sneaker', 'Bag', 'Ankle boot']"
   ]
  },
  {
   "cell_type": "code",
   "execution_count": 5,
   "metadata": {},
   "outputs": [],
   "source": [
    "import numpy as np\n",
    "import tensorflow as tf\n",
    "from tensorflow import keras\n",
    "\n",
    "np.random.seed(1)\n",
    "tf.random.set_seed(1)"
   ]
  },
  {
   "cell_type": "code",
   "execution_count": 20,
   "metadata": {},
   "outputs": [
    {
     "name": "stdout",
     "output_type": "stream",
     "text": [
      "Downloading data from https://storage.googleapis.com/tensorflow/tf-keras-datasets/train-labels-idx1-ubyte.gz\n",
      "32768/29515 [=================================] - 0s 0us/step\n",
      "Downloading data from https://storage.googleapis.com/tensorflow/tf-keras-datasets/train-images-idx3-ubyte.gz\n",
      "26427392/26421880 [==============================] - 2s 0us/step\n",
      "Downloading data from https://storage.googleapis.com/tensorflow/tf-keras-datasets/t10k-labels-idx1-ubyte.gz\n",
      "8192/5148 [===============================================] - 0s 0s/step\n",
      "Downloading data from https://storage.googleapis.com/tensorflow/tf-keras-datasets/t10k-images-idx3-ubyte.gz\n",
      "4423680/4422102 [==============================] - 0s 0us/step\n"
     ]
    }
   ],
   "source": [
    "(X_train, y_train), (X_test, y_test) = keras.datasets.fashion_mnist.load_data()"
   ]
  },
  {
   "cell_type": "code",
   "execution_count": 21,
   "metadata": {},
   "outputs": [
    {
     "data": {
      "text/plain": [
       "((60000, 28, 28), (60000,), (10000, 28, 28), (10000,))"
      ]
     },
     "execution_count": 21,
     "metadata": {},
     "output_type": "execute_result"
    }
   ],
   "source": [
    "X_train.shape, y_train.shape, X_test.shape, y_test.shape"
   ]
  },
  {
   "cell_type": "code",
   "execution_count": 65,
   "metadata": {},
   "outputs": [
    {
     "data": {
      "text/plain": [
       "60000"
      ]
     },
     "execution_count": 65,
     "metadata": {},
     "output_type": "execute_result"
    }
   ],
   "source": [
    "X_train.shape[0]"
   ]
  },
  {
   "cell_type": "code",
   "execution_count": 23,
   "metadata": {},
   "outputs": [
    {
     "data": {
      "text/plain": [
       "(array([0, 1, 2, 3, 4, 5, 6, 7, 8, 9], dtype=uint8),\n",
       " array([6000, 6000, 6000, 6000, 6000, 6000, 6000, 6000, 6000, 6000],\n",
       "       dtype=int64))"
      ]
     },
     "execution_count": 23,
     "metadata": {},
     "output_type": "execute_result"
    }
   ],
   "source": [
    "np.unique(y_train, return_counts=True)"
   ]
  },
  {
   "cell_type": "code",
   "execution_count": 24,
   "metadata": {},
   "outputs": [
    {
     "data": {
      "text/plain": [
       "(array([0, 1, 2, 3, 4, 5, 6, 7, 8, 9], dtype=uint8),\n",
       " array([1000, 1000, 1000, 1000, 1000, 1000, 1000, 1000, 1000, 1000],\n",
       "       dtype=int64))"
      ]
     },
     "execution_count": 24,
     "metadata": {},
     "output_type": "execute_result"
    }
   ],
   "source": [
    "np.unique(y_test, return_counts=True)"
   ]
  },
  {
   "cell_type": "code",
   "execution_count": 39,
   "metadata": {},
   "outputs": [
    {
     "data": {
      "image/png": "[encoded data removed]",
      "text/plain": [
       "<Figure size 1080x1080 with 25 Axes>"
      ]
     },
     "metadata": {
      "needs_background": "light"
     },
     "output_type": "display_data"
    }
   ],
   "source": [
    "# 이미지 확인\n",
    "import matplotlib.pyplot as plt\n",
    "plt.figure(figsize=(15,15))\n",
    "for i in range(25):\n",
    "    plt.subplot(5,5,i+1)\n",
    "    plt.imshow(X_train[i], cmap='gray')\n",
    "    plt.title(class_names[y_train[i]])\n",
    "    plt.axis('off')\n",
    "\n",
    "plt.tight_layout()\n",
    "plt.show()"
   ]
  },
  {
   "cell_type": "code",
   "execution_count": null,
   "metadata": {},
   "outputs": [],
   "source": []
  },
  {
   "cell_type": "code",
   "execution_count": 68,
   "metadata": {},
   "outputs": [
    {
     "data": {
      "text/plain": [
       "404"
      ]
     },
     "execution_count": 68,
     "metadata": {},
     "output_type": "execute_result"
    }
   ],
   "source": [
    "N_TRAIN"
   ]
  },
  {
   "cell_type": "code",
   "execution_count": 69,
   "metadata": {},
   "outputs": [],
   "source": [
    "# 하이퍼 파라미터 설정\n",
    "LEARNING_RATE = 0.001\n",
    "N_EPOCHS = 50\n",
    "N_BATCHS = 100\n",
    "\n",
    "N_CLASS = 10 # CLASS CATEGORY의 개수\n",
    "N_TRAIN = X_train.shape[0]\n",
    "N_TEST = X_test.shape[0]\n",
    "IMAGE_SIZE = 28\n"
   ]
  },
  {
   "cell_type": "code",
   "execution_count": 67,
   "metadata": {},
   "outputs": [],
   "source": [
    "# 데이터 전처리\n",
    "# X(이미지) : 0 ~ 255\n",
    "X_train = X_train / 255.0\n",
    "X_test = X_test / 255.0\n",
    "\n",
    "# Y (labels) => 다중분류: OneHotEncoding\n",
    "y_train = keras.utils.to_categorical(y_train)\n",
    "y_test = keras.utils.to_categorical(y_test)"
   ]
  },
  {
   "cell_type": "code",
   "execution_count": 42,
   "metadata": {},
   "outputs": [
    {
     "data": {
      "text/plain": [
       "(1.0, 0.0)"
      ]
     },
     "execution_count": 42,
     "metadata": {},
     "output_type": "execute_result"
    }
   ],
   "source": [
    "np.max(X_train), np.min(X_train)"
   ]
  },
  {
   "cell_type": "code",
   "execution_count": 43,
   "metadata": {},
   "outputs": [
    {
     "data": {
      "text/plain": [
       "(60000, 10)"
      ]
     },
     "execution_count": 43,
     "metadata": {},
     "output_type": "execute_result"
    }
   ],
   "source": [
    "y_train.shape"
   ]
  },
  {
   "cell_type": "code",
   "execution_count": 45,
   "metadata": {},
   "outputs": [],
   "source": [
    "# Dataset\n",
    "train_dataset = tf.data.Dataset.from_tensor_slices((X_train, y_train))\\\n",
    "                               .shuffle(N_TRAIN)\\\n",
    "                               .batch(N_BATCHS, drop_remainder=True)\\\n",
    "                               .repeat()"
   ]
  },
  {
   "cell_type": "code",
   "execution_count": 46,
   "metadata": {},
   "outputs": [],
   "source": [
    "val_dataset = tf.data.Dataset.from_tensor_slices((X_test, y_test)).batch(N_BATCHS)"
   ]
  },
  {
   "cell_type": "code",
   "execution_count": null,
   "metadata": {},
   "outputs": [],
   "source": [
    "# from tensorflow.keras.layers import Flatten, Dense, Input\n",
    "\n",
    "# model.add(Input((28,28)))\n",
    "# model.add(Flatten())\n",
    "# model.add(Dense(...))"
   ]
  },
  {
   "cell_type": "code",
   "execution_count": 55,
   "metadata": {},
   "outputs": [],
   "source": [
    "# 모델 구현\n",
    "def create_model():\n",
    "    model = keras.Sequential()\n",
    "    \n",
    "    #  입력층 (Input layer)\n",
    "    model.add(keras.layers.Input((28,28)))\n",
    "#     model.add(keras.layers.Flatten(input_shape=(28,28)))\n",
    "    model.add(keras.layers.Flatten())\n",
    "    \n",
    "    # 은닉층(Hidden layer)\n",
    "    model.add(keras.layers.Dense(256, activation='relu'))\n",
    "    model.add(keras.layers.Dense(128, activation='relu'))\n",
    "    model.add(keras.layers.Dense(64, activation='relu'))\n",
    "    \n",
    "    # 출력층(Output layer)\n",
    "    # 다중 분류: units-class category 개수, activation-softmax => 각 클래스별 확률\n",
    "    model.add(keras.layers.Dense(N_CLASS, activation='softmax')) \n",
    "    \n",
    "    # 컴파일, 다중분류: loss-categorical_crossentropy (y를 one hot encodig을 한 경우), \n",
    "    #                   sparse_categorical_entropy (y를 one hot encoding을 안한 경우)\n",
    "    model.compile(optimizer=tf.keras.optimizers.Adam(learning_rate=LEARNING_RATE),\n",
    "                  loss='categorical_crossentropy',\n",
    "                  metrics=['accuracy'])\n",
    "    \n",
    "    return model"
   ]
  },
  {
   "cell_type": "code",
   "execution_count": 56,
   "metadata": {},
   "outputs": [],
   "source": [
    "model = create_model()"
   ]
  },
  {
   "cell_type": "code",
   "execution_count": 57,
   "metadata": {},
   "outputs": [
    {
     "name": "stdout",
     "output_type": "stream",
     "text": [
      "Model: \"sequential_5\"\n",
      "_________________________________________________________________\n",
      "Layer (type)                 Output Shape              Param #   \n",
      "=================================================================\n",
      "flatten_4 (Flatten)          (None, 784)               0         \n",
      "_________________________________________________________________\n",
      "dense_19 (Dense)             (None, 256)               200960    \n",
      "_________________________________________________________________\n",
      "dense_20 (Dense)             (None, 128)               32896     \n",
      "_________________________________________________________________\n",
      "dense_21 (Dense)             (None, 64)                8256      \n",
      "_________________________________________________________________\n",
      "dense_22 (Dense)             (None, 10)                650       \n",
      "=================================================================\n",
      "Total params: 242,762\n",
      "Trainable params: 242,762\n",
      "Non-trainable params: 0\n",
      "_________________________________________________________________\n"
     ]
    }
   ],
   "source": [
    "model.summary()"
   ]
  },
  {
   "cell_type": "code",
   "execution_count": 58,
   "metadata": {},
   "outputs": [
    {
     "data": {
      "image/png": "[encoded data removed]",
      "text/plain": [
       "<IPython.core.display.Image object>"
      ]
     },
     "execution_count": 58,
     "metadata": {},
     "output_type": "execute_result"
    }
   ],
   "source": [
    "from tensorflow.keras.utils import plot_model\n",
    "plot_model(model, to_file='fmm.png', show_shapes=True)"
   ]
  },
  {
   "cell_type": "code",
   "execution_count": 70,
   "metadata": {},
   "outputs": [],
   "source": [
    "# 학습\n",
    "## 에폭당 step 수 계산\n",
    "steps_per_epoch = N_TRAIN // N_BATCHS\n",
    "validation_steps = int(np.ceil(N_TEST / N_BATCHS))"
   ]
  },
  {
   "cell_type": "code",
   "execution_count": 71,
   "metadata": {},
   "outputs": [
    {
     "name": "stdout",
     "output_type": "stream",
     "text": [
      "600 100\n"
     ]
    }
   ],
   "source": [
    "print(steps_per_epoch, validation_steps)"
   ]
  },
  {
   "cell_type": "code",
   "execution_count": 72,
   "metadata": {},
   "outputs": [
    {
     "name": "stdout",
     "output_type": "stream",
     "text": [
      "Train for 600 steps, validate for 100 steps\n",
      "Epoch 1/50\n",
      "600/600 [==============================] - 2s 3ms/step - loss: 0.5197 - accuracy: 0.8149 - val_loss: 0.4652 - val_accuracy: 0.8314\n",
      "Epoch 2/50\n",
      "600/600 [==============================] - 1s 2ms/step - loss: 0.3686 - accuracy: 0.8654 - val_loss: 0.4048 - val_accuracy: 0.8532\n",
      "Epoch 3/50\n",
      "600/600 [==============================] - 1s 2ms/step - loss: 0.3334 - accuracy: 0.8765 - val_loss: 0.3603 - val_accuracy: 0.8676\n",
      "Epoch 4/50\n",
      "600/600 [==============================] - 1s 2ms/step - loss: 0.3053 - accuracy: 0.8857 - val_loss: 0.3513 - val_accuracy: 0.8706\n",
      "Epoch 5/50\n",
      "600/600 [==============================] - 1s 2ms/step - loss: 0.2861 - accuracy: 0.8929 - val_loss: 0.3355 - val_accuracy: 0.8753\n",
      "Epoch 6/50\n",
      "600/600 [==============================] - 1s 2ms/step - loss: 0.2683 - accuracy: 0.8990 - val_loss: 0.3422 - val_accuracy: 0.8768\n",
      "Epoch 7/50\n",
      "600/600 [==============================] - 1s 2ms/step - loss: 0.2558 - accuracy: 0.9040 - val_loss: 0.3352 - val_accuracy: 0.8781\n",
      "Epoch 8/50\n",
      "600/600 [==============================] - 1s 2ms/step - loss: 0.2435 - accuracy: 0.9092 - val_loss: 0.3407 - val_accuracy: 0.8762\n",
      "Epoch 9/50\n",
      "600/600 [==============================] - 1s 2ms/step - loss: 0.2363 - accuracy: 0.9118 - val_loss: 0.3357 - val_accuracy: 0.8790\n",
      "Epoch 10/50\n",
      "600/600 [==============================] - 1s 2ms/step - loss: 0.2280 - accuracy: 0.9140 - val_loss: 0.3538 - val_accuracy: 0.8811\n",
      "Epoch 11/50\n",
      "600/600 [==============================] - 1s 2ms/step - loss: 0.2151 - accuracy: 0.9192 - val_loss: 0.3393 - val_accuracy: 0.8861\n",
      "Epoch 12/50\n",
      "600/600 [==============================] - 1s 2ms/step - loss: 0.2074 - accuracy: 0.9212 - val_loss: 0.3508 - val_accuracy: 0.8821\n",
      "Epoch 13/50\n",
      "600/600 [==============================] - 1s 2ms/step - loss: 0.1993 - accuracy: 0.9244 - val_loss: 0.3424 - val_accuracy: 0.8876\n",
      "Epoch 14/50\n",
      "600/600 [==============================] - 1s 2ms/step - loss: 0.1931 - accuracy: 0.9266 - val_loss: 0.3571 - val_accuracy: 0.8829\n",
      "Epoch 15/50\n",
      "600/600 [==============================] - 1s 2ms/step - loss: 0.1865 - accuracy: 0.9293 - val_loss: 0.3650 - val_accuracy: 0.8899\n",
      "Epoch 16/50\n",
      "600/600 [==============================] - 1s 2ms/step - loss: 0.1780 - accuracy: 0.9320 - val_loss: 0.3384 - val_accuracy: 0.8856\n",
      "Epoch 17/50\n",
      "600/600 [==============================] - 1s 2ms/step - loss: 0.1740 - accuracy: 0.9333 - val_loss: 0.3661 - val_accuracy: 0.8921\n",
      "Epoch 18/50\n",
      "600/600 [==============================] - 1s 2ms/step - loss: 0.1664 - accuracy: 0.9368 - val_loss: 0.3614 - val_accuracy: 0.8867\n",
      "Epoch 19/50\n",
      "600/600 [==============================] - 1s 2ms/step - loss: 0.1627 - accuracy: 0.9376 - val_loss: 0.3903 - val_accuracy: 0.8845\n",
      "Epoch 20/50\n",
      "600/600 [==============================] - 1s 2ms/step - loss: 0.1554 - accuracy: 0.9405 - val_loss: 0.3816 - val_accuracy: 0.8859\n",
      "Epoch 21/50\n",
      "600/600 [==============================] - 1s 2ms/step - loss: 0.1517 - accuracy: 0.9415 - val_loss: 0.4017 - val_accuracy: 0.8812\n",
      "Epoch 22/50\n",
      "600/600 [==============================] - 1s 2ms/step - loss: 0.1485 - accuracy: 0.9436 - val_loss: 0.4287 - val_accuracy: 0.8881\n",
      "Epoch 23/50\n",
      "600/600 [==============================] - 1s 2ms/step - loss: 0.1411 - accuracy: 0.9461 - val_loss: 0.4028 - val_accuracy: 0.8869\n",
      "Epoch 24/50\n",
      "600/600 [==============================] - 1s 2ms/step - loss: 0.1365 - accuracy: 0.9466 - val_loss: 0.3996 - val_accuracy: 0.8869\n",
      "Epoch 25/50\n",
      "600/600 [==============================] - 1s 2ms/step - loss: 0.1350 - accuracy: 0.9483 - val_loss: 0.4363 - val_accuracy: 0.8834\n",
      "Epoch 26/50\n",
      "600/600 [==============================] - 1s 2ms/step - loss: 0.1279 - accuracy: 0.9512 - val_loss: 0.4510 - val_accuracy: 0.8897\n",
      "Epoch 27/50\n",
      "600/600 [==============================] - 1s 2ms/step - loss: 0.1272 - accuracy: 0.9517 - val_loss: 0.4324 - val_accuracy: 0.8913\n",
      "Epoch 28/50\n",
      "600/600 [==============================] - 1s 2ms/step - loss: 0.1203 - accuracy: 0.9539 - val_loss: 0.4661 - val_accuracy: 0.8876\n",
      "Epoch 29/50\n",
      "600/600 [==============================] - 1s 2ms/step - loss: 0.1168 - accuracy: 0.9555 - val_loss: 0.4653 - val_accuracy: 0.8866\n",
      "Epoch 30/50\n",
      "600/600 [==============================] - 1s 2ms/step - loss: 0.1206 - accuracy: 0.9542 - val_loss: 0.4988 - val_accuracy: 0.8882\n",
      "Epoch 31/50\n",
      "600/600 [==============================] - 1s 2ms/step - loss: 0.1132 - accuracy: 0.9568 - val_loss: 0.4848 - val_accuracy: 0.8887\n",
      "Epoch 32/50\n",
      "600/600 [==============================] - 1s 2ms/step - loss: 0.1089 - accuracy: 0.9588 - val_loss: 0.5145 - val_accuracy: 0.8834\n",
      "Epoch 33/50\n",
      "600/600 [==============================] - 1s 2ms/step - loss: 0.1011 - accuracy: 0.9609 - val_loss: 0.5382 - val_accuracy: 0.8859\n",
      "Epoch 34/50\n",
      "600/600 [==============================] - 1s 2ms/step - loss: 0.1054 - accuracy: 0.9593 - val_loss: 0.4837 - val_accuracy: 0.8847\n",
      "Epoch 35/50\n",
      "600/600 [==============================] - 1s 2ms/step - loss: 0.1003 - accuracy: 0.9616 - val_loss: 0.5146 - val_accuracy: 0.8826\n",
      "Epoch 36/50\n",
      "600/600 [==============================] - 1s 2ms/step - loss: 0.0944 - accuracy: 0.9642 - val_loss: 0.5689 - val_accuracy: 0.8813\n",
      "Epoch 37/50\n",
      "600/600 [==============================] - 1s 2ms/step - loss: 0.0957 - accuracy: 0.9628 - val_loss: 0.5670 - val_accuracy: 0.8875\n",
      "Epoch 38/50\n",
      "600/600 [==============================] - 1s 2ms/step - loss: 0.0940 - accuracy: 0.9640 - val_loss: 0.5889 - val_accuracy: 0.8802\n",
      "Epoch 39/50\n",
      "600/600 [==============================] - 1s 2ms/step - loss: 0.0947 - accuracy: 0.9639 - val_loss: 0.5927 - val_accuracy: 0.8827\n",
      "Epoch 40/50\n",
      "600/600 [==============================] - 1s 2ms/step - loss: 0.0902 - accuracy: 0.9661 - val_loss: 0.6094 - val_accuracy: 0.8811\n",
      "Epoch 41/50\n",
      "600/600 [==============================] - 1s 2ms/step - loss: 0.0901 - accuracy: 0.9651 - val_loss: 0.5915 - val_accuracy: 0.8843\n",
      "Epoch 42/50\n",
      "600/600 [==============================] - 1s 2ms/step - loss: 0.0834 - accuracy: 0.9685 - val_loss: 0.5965 - val_accuracy: 0.8882\n",
      "Epoch 43/50\n",
      "600/600 [==============================] - 1s 2ms/step - loss: 0.0838 - accuracy: 0.9677 - val_loss: 0.6141 - val_accuracy: 0.8855\n",
      "Epoch 44/50\n",
      "600/600 [==============================] - 1s 2ms/step - loss: 0.0813 - accuracy: 0.9688 - val_loss: 0.6249 - val_accuracy: 0.8865\n",
      "Epoch 45/50\n",
      "600/600 [==============================] - 1s 2ms/step - loss: 0.0851 - accuracy: 0.9668 - val_loss: 0.6579 - val_accuracy: 0.8883\n",
      "Epoch 46/50\n",
      "600/600 [==============================] - 1s 2ms/step - loss: 0.0833 - accuracy: 0.9681 - val_loss: 0.6340 - val_accuracy: 0.8844\n",
      "Epoch 47/50\n",
      "600/600 [==============================] - 1s 2ms/step - loss: 0.0763 - accuracy: 0.9709 - val_loss: 0.6258 - val_accuracy: 0.8892\n",
      "Epoch 48/50\n",
      "600/600 [==============================] - 1s 2ms/step - loss: 0.0825 - accuracy: 0.9690 - val_loss: 0.6410 - val_accuracy: 0.8816\n",
      "Epoch 49/50\n",
      "600/600 [==============================] - 1s 2ms/step - loss: 0.0817 - accuracy: 0.9685 - val_loss: 0.6414 - val_accuracy: 0.8881\n",
      "Epoch 50/50\n",
      "600/600 [==============================] - 1s 2ms/step - loss: 0.0683 - accuracy: 0.9736 - val_loss: 0.6818 - val_accuracy: 0.8860\n"
     ]
    }
   ],
   "source": [
    "##학습\n",
    "history = model.fit(train_dataset,\n",
    "                    epochs=N_EPOCHS,\n",
    "                    steps_per_epoch=steps_per_epoch,\n",
    "                    validation_data= val_dataset,\n",
    "                    validation_steps=validation_steps)"
   ]
  },
  {
   "cell_type": "code",
   "execution_count": 73,
   "metadata": {},
   "outputs": [
    {
     "name": "stdout",
     "output_type": "stream",
     "text": [
      "100/100 [==============================] - 0s 1ms/step - loss: 0.6818 - accuracy: 0.8860\n"
     ]
    },
    {
     "data": {
      "text/plain": [
       "[0.6818432302772999, 0.886]"
      ]
     },
     "execution_count": 73,
     "metadata": {},
     "output_type": "execute_result"
    }
   ],
   "source": [
    "## 평가 - test set\n",
    "model.evaluate(val_dataset)"
   ]
  },
  {
   "cell_type": "code",
   "execution_count": null,
   "metadata": {},
   "outputs": [],
   "source": [
    "# 결과 시각화(loss와 지젖ㅇ한  평가지표의 epoch당 변화를 시각화)"
   ]
  },
  {
   "cell_type": "code",
   "execution_count": 74,
   "metadata": {},
   "outputs": [
    {
     "data": {
      "text/plain": [
       "dict_keys(['loss', 'accuracy', 'val_loss', 'val_accuracy'])"
      ]
     },
     "execution_count": 74,
     "metadata": {},
     "output_type": "execute_result"
    }
   ],
   "source": [
    "history.history.keys()"
   ]
  },
  {
   "cell_type": "code",
   "execution_count": 84,
   "metadata": {
    "scrolled": false
   },
   "outputs": [
    {
     "data": {
      "image/png": "[encoded data removed]",
      "text/plain": [
       "<Figure size 1440x1440 with 4 Axes>"
      ]
     },
     "metadata": {
      "needs_background": "light"
     },
     "output_type": "display_data"
    }
   ],
   "source": [
    "import matplotlib.pyplot as plt\n",
    "plt.figure(figsize=(20,20))\n",
    "plt.subplot(2,2,1)\n",
    "plt.plot(range(1, N_EPOCHS+1), history.history['loss'], label='train_loss')\n",
    "plt.plot(range(1, N_EPOCHS+1), history.history['val_loss'], label='validation_loss')\n",
    "plt.title('Loss')\n",
    "plt.legend()\n",
    "\n",
    "plt.subplot(2,2,2)\n",
    "plt.plot(range(1, N_EPOCHS+1), history.history['accuracy'], label='train_accuracy')\n",
    "plt.plot(range(1, N_EPOCHS+1), history.history['val_accuracy'], label='validation_acurracy')\n",
    "plt.title('Accuracy')\n",
    "\n",
    "plt.subplot(2,2,3)\n",
    "plt.plot(range(1, N_EPOCHS+1), history.history['loss'], label='train_loss')\n",
    "plt.plot(range(1, N_EPOCHS+1), history.history['accuracy'], label='train_acurracy')\n",
    "plt.title('Train')\n",
    "\n",
    "plt.subplot(2,2,4)\n",
    "plt.plot(range(1, N_EPOCHS+1), history.history['val_loss'], label='val_loss')\n",
    "plt.plot(range(1, N_EPOCHS+1), history.history['val_accuracy'], label='val_acurracy')\n",
    "plt.title('validation')\n",
    "\n",
    "plt.legend()\n",
    "plt.show()"
   ]
  },
  {
   "cell_type": "markdown",
   "metadata": {},
   "source": [
    "## IMDB 감성분성\n",
    "### 이진분류(Binary Classification)\n",
    "- 영화 댓글 - 부정(0) /  긍정(1)"
   ]
  },
  {
   "cell_type": "code",
   "execution_count": null,
   "metadata": {},
   "outputs": [],
   "source": []
  },
  {
   "cell_type": "code",
   "execution_count": 1,
   "metadata": {},
   "outputs": [],
   "source": [
    "import tensorflow as tf\n",
    "from tensorflow import keras"
   ]
  },
  {
   "cell_type": "code",
   "execution_count": 2,
   "metadata": {},
   "outputs": [],
   "source": [
    "import pickle\n",
    "\n",
    "# dataload\n",
    "with open('imdb_dataset/x_train.pkl','rb') as f:\n",
    "    X_train = pickle.load(f)\n",
    "    \n",
    "with open('imdb_dataset/x_test.pkl','rb') as f:\n",
    "    X_test = pickle.load(f)\n",
    "    \n",
    "with open('imdb_dataset/y_train.pkl','rb') as f:\n",
    "    y_train = pickle.load(f)\n",
    "    \n",
    "with open('imdb_dataset/y_test.pkl','rb') as f:\n",
    "    y_test = pickle.load(f)"
   ]
  },
  {
   "cell_type": "code",
   "execution_count": 3,
   "metadata": {},
   "outputs": [
    {
     "data": {
      "text/plain": [
       "25000"
      ]
     },
     "execution_count": 3,
     "metadata": {},
     "output_type": "execute_result"
    }
   ],
   "source": [
    "len(X_train)"
   ]
  },
  {
   "cell_type": "code",
   "execution_count": 4,
   "metadata": {},
   "outputs": [
    {
     "data": {
      "text/plain": [
       "array([1, 0, 1, 0, 0])"
      ]
     },
     "execution_count": 4,
     "metadata": {},
     "output_type": "execute_result"
    }
   ],
   "source": [
    "y_train[:5]"
   ]
  },
  {
   "cell_type": "code",
   "execution_count": 5,
   "metadata": {},
   "outputs": [],
   "source": [
    "# X -> 백터화(숫자 변경)\n",
    "from sklearn.feature_extraction.text import TfidfVectorizer\n",
    "# tfidf = TfidfVectorizer(max_features=10000)\n",
    "tfidf = TfidfVectorizer(max_features=50000)\n",
    "tfidf.fit(X_train+X_test)\n",
    "X_train_tfidf = tfidf.transform(X_train)\n",
    "X_test_tfidf = tfidf.transform(X_test)"
   ]
  },
  {
   "cell_type": "code",
   "execution_count": 6,
   "metadata": {},
   "outputs": [
    {
     "data": {
      "text/plain": [
       "((25000, 50000), (25000, 50000))"
      ]
     },
     "execution_count": 6,
     "metadata": {},
     "output_type": "execute_result"
    }
   ],
   "source": [
    "X_train_tfidf.shape, X_test_tfidf.shape"
   ]
  },
  {
   "cell_type": "code",
   "execution_count": 7,
   "metadata": {},
   "outputs": [],
   "source": [
    "#하이퍼 파라미터 설정\n",
    "LEARNING_RATE = 0.001\n",
    "N_EPOCHS = 10\n",
    "N_BATCHS = 50\n",
    "\n",
    "N_TRAIN = X_train_tfidf.shape[0]\n",
    "N_TEST = X_test_tfidf.shape[0]\n",
    "N_FEATURE = X_train_tfidf.shape[1]"
   ]
  },
  {
   "cell_type": "code",
   "execution_count": 8,
   "metadata": {},
   "outputs": [
    {
     "data": {
      "text/plain": [
       "25000"
      ]
     },
     "execution_count": 8,
     "metadata": {},
     "output_type": "execute_result"
    }
   ],
   "source": [
    "N_TRAIN"
   ]
  },
  {
   "cell_type": "code",
   "execution_count": 9,
   "metadata": {},
   "outputs": [],
   "source": [
    "# dataset 생성 - y: 이진분류시 - one hot encoding(X)\n",
    "# sparse matrix = ndarray\n",
    "train_dataset = tf.data.Dataset.from_tensor_slices((X_train_tfidf.toarray(), y_train)).shuffle(N_TRAIN).batch(N_BATCHS, drop_remainder=True).repeat()\n",
    "val_dataset = tf.data.Dataset.from_tensor_slices((X_test_tfidf.toarray(), y_test)).batch(N_BATCHS)"
   ]
  },
  {
   "cell_type": "code",
   "execution_count": 10,
   "metadata": {},
   "outputs": [
    {
     "data": {
      "text/plain": [
       "<RepeatDataset shapes: ((50, 50000), (50,)), types: (tf.float64, tf.int32)>"
      ]
     },
     "execution_count": 10,
     "metadata": {},
     "output_type": "execute_result"
    }
   ],
   "source": [
    "train_dataset"
   ]
  },
  {
   "cell_type": "code",
   "execution_count": 11,
   "metadata": {},
   "outputs": [],
   "source": [
    "def create_model():\n",
    "    model = keras.Sequential()\n",
    "    \n",
    "    # input layer\n",
    "    model.add(keras.layers.Input((N_FEATURE,)))\n",
    "    \n",
    "    # HIDDEN LAYER\n",
    "    model.add(keras.layers.Dense(512, activation='relu'))\n",
    "    model.add(keras.layers.Dense(256, activation='relu'))\n",
    "    model.add(keras.layers.Dense(256, activation='relu'))\n",
    "    model.add(keras.layers.Dense(128, activation='relu'))\n",
    "    \n",
    "    #Output layer: 이진분류: units=1, activation='sigmoid' : logistic 함수\\\n",
    "    model.add(keras.layers.Dense(1, activation='sigmoid'))\n",
    "    \n",
    "    # 컴파일: 이진분류 - activation: sigmoid => loss: binary_crossentropy\n",
    "    model.compile(optimizer=keras.optimizers.Adam(learning_rate=LEARNING_RATE),\n",
    "                  loss='binary_crossentropy',\n",
    "                  metrics=['accuracy'])\n",
    "    return model"
   ]
  },
  {
   "cell_type": "code",
   "execution_count": 12,
   "metadata": {},
   "outputs": [],
   "source": [
    "model = create_model()"
   ]
  },
  {
   "cell_type": "code",
   "execution_count": 13,
   "metadata": {},
   "outputs": [
    {
     "name": "stdout",
     "output_type": "stream",
     "text": [
      "Model: \"sequential\"\n",
      "_________________________________________________________________\n",
      "Layer (type)                 Output Shape              Param #   \n",
      "=================================================================\n",
      "dense (Dense)                (None, 512)               25600512  \n",
      "_________________________________________________________________\n",
      "dense_1 (Dense)              (None, 256)               131328    \n",
      "_________________________________________________________________\n",
      "dense_2 (Dense)              (None, 256)               65792     \n",
      "_________________________________________________________________\n",
      "dense_3 (Dense)              (None, 128)               32896     \n",
      "_________________________________________________________________\n",
      "dense_4 (Dense)              (None, 1)                 129       \n",
      "=================================================================\n",
      "Total params: 25,830,657\n",
      "Trainable params: 25,830,657\n",
      "Non-trainable params: 0\n",
      "_________________________________________________________________\n"
     ]
    }
   ],
   "source": [
    "model.summary()"
   ]
  },
  {
   "cell_type": "code",
   "execution_count": 14,
   "metadata": {},
   "outputs": [],
   "source": [
    "from tensorflow.keras.utils import plot_model"
   ]
  },
  {
   "cell_type": "code",
   "execution_count": 15,
   "metadata": {
    "scrolled": false
   },
   "outputs": [
    {
     "data": {
      "image/png": "[encoded data removed]",
      "text/plain": [
       "<IPython.core.display.Image object>"
      ]
     },
     "execution_count": 15,
     "metadata": {},
     "output_type": "execute_result"
    }
   ],
   "source": [
    "plot_model(model, show_shapes=True)"
   ]
  },
  {
   "cell_type": "code",
   "execution_count": 16,
   "metadata": {},
   "outputs": [],
   "source": [
    "import numpy as np"
   ]
  },
  {
   "cell_type": "code",
   "execution_count": 17,
   "metadata": {},
   "outputs": [],
   "source": [
    "# 학습\n",
    "steps_per_epoch = N_TRAIN // N_BATCHS\n",
    "validation_steps = int(np.ceil(N_TEST/N_BATCHS))"
   ]
  },
  {
   "cell_type": "code",
   "execution_count": 18,
   "metadata": {},
   "outputs": [
    {
     "data": {
      "text/plain": [
       "(500, 500)"
      ]
     },
     "execution_count": 18,
     "metadata": {},
     "output_type": "execute_result"
    }
   ],
   "source": [
    "steps_per_epoch,validation_steps"
   ]
  },
  {
   "cell_type": "code",
   "execution_count": 19,
   "metadata": {
    "scrolled": true
   },
   "outputs": [
    {
     "name": "stdout",
     "output_type": "stream",
     "text": [
      "Train for 500 steps, validate for 500 steps\n",
      "Epoch 1/10\n",
      "500/500 [==============================] - 26s 53ms/step - loss: 0.3222 - accuracy: 0.8625 - val_loss: 0.3277 - val_accuracy: 0.8578\n",
      "Epoch 2/10\n",
      "500/500 [==============================] - 21s 41ms/step - loss: 0.0913 - accuracy: 0.9652 - val_loss: 0.5353 - val_accuracy: 0.8393\n",
      "Epoch 3/10\n",
      "500/500 [==============================] - 22s 43ms/step - loss: 0.0255 - accuracy: 0.9910 - val_loss: 0.8439 - val_accuracy: 0.8348\n",
      "Epoch 4/10\n",
      "500/500 [==============================] - 22s 45ms/step - loss: 0.0071 - accuracy: 0.9976 - val_loss: 1.3436 - val_accuracy: 0.8370\n",
      "Epoch 5/10\n",
      "500/500 [==============================] - 28s 55ms/step - loss: 0.0045 - accuracy: 0.9986 - val_loss: 1.2437 - val_accuracy: 0.8343\n",
      "Epoch 6/10\n",
      "500/500 [==============================] - 25s 50ms/step - loss: 0.0035 - accuracy: 0.9991 - val_loss: 1.2894 - val_accuracy: 0.8388\n",
      "Epoch 7/10\n",
      "500/500 [==============================] - 20s 39ms/step - loss: 1.4674e-04 - accuracy: 1.0000 - val_loss: 1.8497 - val_accuracy: 0.8358\n",
      "Epoch 8/10\n",
      "500/500 [==============================] - 22s 44ms/step - loss: 1.6467e-06 - accuracy: 1.0000 - val_loss: 1.8956 - val_accuracy: 0.8373\n",
      "Epoch 9/10\n",
      "500/500 [==============================] - 18s 36ms/step - loss: 6.7068e-07 - accuracy: 1.0000 - val_loss: 1.9360 - val_accuracy: 0.8375\n",
      "Epoch 10/10\n",
      "500/500 [==============================] - 23s 45ms/step - loss: 4.6705e-07 - accuracy: 1.0000 - val_loss: 1.9735 - val_accuracy: 0.8376\n"
     ]
    }
   ],
   "source": [
    "history = model.fit(train_dataset, epochs=N_EPOCHS, steps_per_epoch=steps_per_epoch, validation_data=val_dataset, validation_steps=validation_steps)"
   ]
  },
  {
   "cell_type": "code",
   "execution_count": 19,
   "metadata": {
    "scrolled": false
   },
   "outputs": [
    {
     "name": "stdout",
     "output_type": "stream",
     "text": [
      "Train for 500 steps, validate for 500 steps\n",
      "Epoch 1/10\n",
      "500/500 [==============================] - 5s 11ms/step - loss: 0.3300 - accuracy: 0.8577 - val_loss: 0.3558 - val_accuracy: 0.8461\n",
      "Epoch 2/10\n",
      "500/500 [==============================] - 4s 8ms/step - loss: 0.1469 - accuracy: 0.9452 - val_loss: 0.4379 - val_accuracy: 0.8440\n",
      "Epoch 3/10\n",
      "500/500 [==============================] - 4s 9ms/step - loss: 0.0349 - accuracy: 0.9876 - val_loss: 0.7948 - val_accuracy: 0.8415\n",
      "Epoch 4/10\n",
      "500/500 [==============================] - 4s 9ms/step - loss: 0.0069 - accuracy: 0.9981 - val_loss: 0.9407 - val_accuracy: 0.8420\n",
      "Epoch 5/10\n",
      "500/500 [==============================] - 4s 9ms/step - loss: 0.0020 - accuracy: 0.9992 - val_loss: 1.1747 - val_accuracy: 0.8438\n",
      "Epoch 6/10\n",
      "500/500 [==============================] - 4s 9ms/step - loss: 0.0022 - accuracy: 0.9996 - val_loss: 0.9679 - val_accuracy: 0.8400\n",
      "Epoch 7/10\n",
      "500/500 [==============================] - 5s 9ms/step - loss: 0.0041 - accuracy: 0.9985 - val_loss: 1.2414 - val_accuracy: 0.8441\n",
      "Epoch 8/10\n",
      "500/500 [==============================] - 5s 9ms/step - loss: 0.0032 - accuracy: 0.9991 - val_loss: 1.2814 - val_accuracy: 0.8451\n",
      "Epoch 9/10\n",
      "500/500 [==============================] - 5s 10ms/step - loss: 0.0015 - accuracy: 0.9995 - val_loss: 1.6429 - val_accuracy: 0.8446\n",
      "Epoch 10/10\n",
      "500/500 [==============================] - 5s 10ms/step - loss: 4.5392e-04 - accuracy: 0.9998 - val_loss: 1.8331 - val_accuracy: 0.8427\n"
     ]
    }
   ],
   "source": [
    "history = model.fit(train_dataset, epochs=N_EPOCHS, steps_per_epoch=steps_per_epoch, validation_data=val_dataset, validation_steps=validation_steps)"
   ]
  },
  {
   "cell_type": "code",
   "execution_count": 20,
   "metadata": {},
   "outputs": [
    {
     "name": "stdout",
     "output_type": "stream",
     "text": [
      "500/500 [==============================] - 1s 2ms/step - loss: 1.8331 - accuracy: 0.8427\n"
     ]
    },
    {
     "data": {
      "text/plain": [
       "[1.8330664391964675, 0.84272]"
      ]
     },
     "execution_count": 20,
     "metadata": {},
     "output_type": "execute_result"
    }
   ],
   "source": [
    "# 평가\n",
    "model.evaluate(val_dataset)"
   ]
  },
  {
   "cell_type": "code",
   "execution_count": 20,
   "metadata": {},
   "outputs": [
    {
     "data": {
      "image/png": "[encoded data removed]",
      "text/plain": [
       "<Figure size 1080x720 with 2 Axes>"
      ]
     },
     "metadata": {
      "needs_background": "light"
     },
     "output_type": "display_data"
    }
   ],
   "source": [
    "import matplotlib.pyplot as plt\n",
    "plt.figure(figsize=(15,10))\n",
    "plt.subplot(1,2,1)\n",
    "plt.plot(range(1, N_EPOCHS+1), history.history['loss'], label='train_loss')\n",
    "plt.plot(range(1, N_EPOCHS+1), history.history['val_loss'], label='validation_loss')\n",
    "plt.title('Loss')\n",
    "plt.legend()\n",
    "\n",
    "plt.subplot(1,2,2)\n",
    "plt.plot(range(1, N_EPOCHS+1), history.history['accuracy'], label='train_accuracy')\n",
    "plt.plot(range(1, N_EPOCHS+1), history.history['val_accuracy'], label='validation_acurracy')\n",
    "plt.title('Accuracy')\n",
    "\n",
    "# plt.subplot(2,2,3)\n",
    "# plt.plot(range(1, N_EPOCHS+1), history.history['loss'], label='train_loss')\n",
    "# plt.plot(range(1, N_EPOCHS+1), history.history['accuracy'], label='train_acurracy')\n",
    "# plt.title('Train')\n",
    "\n",
    "# plt.subplot(2,2,4)\n",
    "# plt.plot(range(1, N_EPOCHS+1), history.history['val_loss'], label='val_loss')\n",
    "# plt.plot(range(1, N_EPOCHS+1), history.history['val_accuracy'], label='val_acurracy')\n",
    "# plt.title('validation')\n",
    "\n",
    "plt.legend()\n",
    "plt.show()"
   ]
  },
  {
   "cell_type": "code",
   "execution_count": null,
   "metadata": {},
   "outputs": [],
   "source": []
  },
  {
   "cell_type": "code",
   "execution_count": null,
   "metadata": {},
   "outputs": [],
   "source": []
  },
  {
   "cell_type": "code",
   "execution_count": null,
   "metadata": {},
   "outputs": [],
   "source": []
  }
 ],
 "metadata": {
  "kernelspec": {
   "display_name": "Python 3",
   "language": "python",
   "name": "python3"
  },
  "language_info": {
   "codemirror_mode": {
    "name": "ipython",
    "version": 3
   },
   "file_extension": ".py",
   "mimetype": "text/x-python",
   "name": "python",
   "nbconvert_exporter": "python",
   "pygments_lexer": "ipython3",
   "version": "3.7.10"
  },
  "toc": {
   "base_numbering": 1,
   "nav_menu": {},
   "number_sections": false,
   "sideBar": true,
   "skip_h1_title": false,
   "title_cell": "Table of Contents",
   "title_sidebar": "Contents",
   "toc_cell": false,
   "toc_position": {},
   "toc_section_display": true,
   "toc_window_display": false
  },
  "varInspector": {
   "cols": {
    "lenName": 16,
    "lenType": 16,
    "lenVar": 40
   },
   "kernels_config": {
    "python": {
     "delete_cmd_postfix": "",
     "delete_cmd_prefix": "del ",
     "library": "var_list.py",
     "varRefreshCmd": "print(var_dic_list())"
    },
    "r": {
     "delete_cmd_postfix": ") ",
     "delete_cmd_prefix": "rm(",
     "library": "var_list.r",
     "varRefreshCmd": "cat(var_dic_list()) "
    }
   },
   "types_to_exclude": [
    "module",
    "function",
    "builtin_function_or_method",
    "instance",
    "_Feature"
   ],
   "window_display": false
  }
 },
 "nbformat": 4,
 "nbformat_minor": 2
}
