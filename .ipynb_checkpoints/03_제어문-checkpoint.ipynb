{
 "cells": [
  {
   "cell_type": "markdown",
   "metadata": {},
   "source": [
    "# 제어문\n",
    "- 조건문\n",
    "    - if else\n",
    "- 반복문\n",
    "    - while\n",
    "    - for in\n",
    "- 컴프리핸션(comprehension)"
   ]
  },
  {
   "cell_type": "code",
   "execution_count": 4,
   "metadata": {},
   "outputs": [
    {
     "data": {
      "text/plain": [
       "False"
      ]
     },
     "execution_count": 4,
     "metadata": {},
     "output_type": "execute_result"
    }
   ],
   "source": [
    "bool(0) #자료구조 원소가 0 = false 이상이면 true"
   ]
  },
  {
   "cell_type": "code",
   "execution_count": 1,
   "metadata": {},
   "outputs": [
    {
     "name": "stdout",
     "output_type": "stream",
     "text": [
      "0 입니다.\n",
      "It's zero.\n",
      "End\n"
     ]
    }
   ],
   "source": [
    "num = 0\n",
    "if (num == 0 or num == 10):\n",
    "    print(\"0 입니다.\")\n",
    "    print(\"It's zero.\")\n",
    "else:\n",
    "    print(\"No\")\n",
    "print(\"End\")"
   ]
  },
  {
   "cell_type": "code",
   "execution_count": 2,
   "metadata": {},
   "outputs": [
    {
     "name": "stdout",
     "output_type": "stream",
     "text": [
      "No\n",
      "End\n"
     ]
    }
   ],
   "source": [
    "num = -1\n",
    "if not num:\n",
    "    print(\"0 입니다.\")\n",
    "    print(\"It's zero.\")\n",
    "else:\n",
    "    print(\"No\")\n",
    "print(\"End\")"
   ]
  },
  {
   "cell_type": "code",
   "execution_count": 36,
   "metadata": {},
   "outputs": [
    {
     "name": "stdout",
     "output_type": "stream",
     "text": [
      "City name: 부산\n",
      "부산광역시\n"
     ]
    }
   ],
   "source": [
    "city = input(\"City name: \").strip()\n",
    "if city == \"서울\":\n",
    "    print(city,\"특별시\",sep=\"\") # print(f\"{city}특별시\")\n",
    "#elif city or \"인천\"or city ==\"부산\" or city ==\"대구\"\\\n",
    "#or city ==\"광주\" or city ==\"울산\":\n",
    "#    print(city + \"광역시\")\n",
    "elif city in [\"인천\",\"부산\",\"대구\",\"광주\",\"울산\"]:\n",
    "    print(city + \"광역시\")\n",
    "else:\n",
    "    print(city + \"일반시\")"
   ]
  },
  {
   "cell_type": "markdown",
   "metadata": {},
   "source": [
    "# 반복문\n",
    "- while\n",
    "    - 조건이 true인 동안 반복\n",
    "- for in 문\n",
    "    - 문자열, 자료구조(리스트, 튜플, 셋, 딕셔너리)의 원소들을 하나씩 모두 조회할때 사용"
   ]
  },
  {
   "cell_type": "code",
   "execution_count": 51,
   "metadata": {},
   "outputs": [],
   "source": [
    "lst = [1,7,9,11,15,17]"
   ]
  },
  {
   "cell_type": "code",
   "execution_count": 62,
   "metadata": {},
   "outputs": [
    {
     "name": "stdout",
     "output_type": "stream",
     "text": [
      "1 7 9 11 15 17 "
     ]
    }
   ],
   "source": [
    "for i in lst:\n",
    "    print(i,end=\" \")"
   ]
  },
  {
   "cell_type": "code",
   "execution_count": 55,
   "metadata": {},
   "outputs": [
    {
     "name": "stdout",
     "output_type": "stream",
     "text": [
      "1 7 9 11 15 17 "
     ]
    }
   ],
   "source": [
    "num = 0\n",
    "while num<len(lst):\n",
    "    print(lst[num],end=\" \")\n",
    "    num +=1\n",
    "    "
   ]
  },
  {
   "cell_type": "code",
   "execution_count": 87,
   "metadata": {
    "scrolled": true
   },
   "outputs": [
    {
     "name": "stdout",
     "output_type": "stream",
     "text": [
      "5 10 15 20 25 30 35 40 45 50 55 60 65 70 75 80 85 90 95 100 "
     ]
    }
   ],
   "source": [
    "num1 = 1\n",
    "while num1 in range(0,101):\n",
    "    if num1 % 5 == 0:\n",
    "        print(num1, end=\" \")\n",
    "    num1+=1\n",
    "    \n",
    "    "
   ]
  },
  {
   "cell_type": "code",
   "execution_count": 88,
   "metadata": {},
   "outputs": [
    {
     "name": "stdout",
     "output_type": "stream",
     "text": [
      "5 10 15 20 25 30 35 40 45 50 55 60 65 70 75 80 85 90 95 100 "
     ]
    }
   ],
   "source": [
    "num2 = 1\n",
    "flag = True\n",
    "while flag:\n",
    "    if num2 % 5 == 0:\n",
    "        print(num2, end=\" \")\n",
    "    if num2 >100:\n",
    "        flag = False\n",
    "    num2+=1"
   ]
  },
  {
   "cell_type": "code",
   "execution_count": 98,
   "metadata": {},
   "outputs": [
    {
     "name": "stdout",
     "output_type": "stream",
     "text": [
      "0 5 10 15 20 25 30 35 40 45 50 55 60 65 70 75 80 85 90 95 100 "
     ]
    }
   ],
   "source": [
    "for i in range(0,101,5):\n",
    "    print(i, end=\" \")"
   ]
  },
  {
   "cell_type": "markdown",
   "metadata": {},
   "source": [
    "## for in \n",
    "```python\n",
    "- for 변수 in iterable:\n",
    "    반복할 구문\n",
    "```"
   ]
  },
  {
   "cell_type": "code",
   "execution_count": 105,
   "metadata": {},
   "outputs": [],
   "source": [
    "fruits = ['apple', 'peach', 'orange','melon','pear','cherry']"
   ]
  },
  {
   "cell_type": "code",
   "execution_count": 111,
   "metadata": {},
   "outputs": [
    {
     "name": "stdout",
     "output_type": "stream",
     "text": [
      "apple orange pear "
     ]
    }
   ],
   "source": [
    "index = 0\n",
    "while index < len(fruits):\n",
    "    print(fruits[index],end=\" \")\n",
    "    index += 2\n"
   ]
  },
  {
   "cell_type": "code",
   "execution_count": 117,
   "metadata": {},
   "outputs": [
    {
     "name": "stdout",
     "output_type": "stream",
     "text": [
      "apple peach orange melon pear cherry "
     ]
    }
   ],
   "source": [
    "for i in fruits:\n",
    "    print(i, end=\" \")"
   ]
  },
  {
   "cell_type": "code",
   "execution_count": 118,
   "metadata": {},
   "outputs": [
    {
     "name": "stdout",
     "output_type": "stream",
     "text": [
      "apple orange pear "
     ]
    }
   ],
   "source": [
    "for i in range(0,len(fruits),2):\n",
    "    print(fruits[i],end=\" \")  "
   ]
  },
  {
   "cell_type": "code",
   "execution_count": 130,
   "metadata": {},
   "outputs": [
    {
     "name": "stdout",
     "output_type": "stream",
     "text": [
      "a b c "
     ]
    }
   ],
   "source": [
    "dic = {\"a\":10,\"b\":20,\"c\":30}\n",
    "for key in dic:\n",
    "    print(key,end=\" \")"
   ]
  },
  {
   "cell_type": "code",
   "execution_count": 131,
   "metadata": {},
   "outputs": [
    {
     "name": "stdout",
     "output_type": "stream",
     "text": [
      "10 20 30 "
     ]
    }
   ],
   "source": [
    "for key in dic:\n",
    "    print(dic[key],end=\" \")"
   ]
  },
  {
   "cell_type": "code",
   "execution_count": 128,
   "metadata": {},
   "outputs": [
    {
     "name": "stdout",
     "output_type": "stream",
     "text": [
      "10 20 30 a b c "
     ]
    }
   ],
   "source": [
    "for v in dic.values():\n",
    "    print(v,end=\" \")\n",
    "for v in dic.keys():\n",
    "    print(v,end=\" \")"
   ]
  },
  {
   "cell_type": "code",
   "execution_count": 127,
   "metadata": {},
   "outputs": [
    {
     "name": "stdout",
     "output_type": "stream",
     "text": [
      "('a', 10)\n",
      "('b', 20)\n",
      "('c', 30)\n",
      "20\n",
      "20\n"
     ]
    }
   ],
   "source": [
    "for v in dic.items():\n",
    "    print(v)\n",
    "\n",
    "for v in dic.items():\n",
    "    if v[0]=='b':\n",
    "        print(v[1])\n",
    "\n",
    "for key, value in dic.items():\n",
    "    if key ==\"b\":\n",
    "        print(value)"
   ]
  },
  {
   "cell_type": "code",
   "execution_count": 132,
   "metadata": {},
   "outputs": [],
   "source": [
    "Nlist = [\n",
    "    [1,2,3],\n",
    "    [10,20,30],\n",
    "    [100,200,300]\n",
    "]"
   ]
  },
  {
   "cell_type": "code",
   "execution_count": 134,
   "metadata": {},
   "outputs": [
    {
     "name": "stdout",
     "output_type": "stream",
     "text": [
      "1-2-3 | 10-20-30 | 100-200-300 | "
     ]
    }
   ],
   "source": [
    "for v1, v2, v3 in Nlist:\n",
    "    print(v1, v2, v3, sep=\"-\", end=\" | \")"
   ]
  },
  {
   "cell_type": "code",
   "execution_count": 152,
   "metadata": {},
   "outputs": [
    {
     "name": "stdout",
     "output_type": "stream",
     "text": [
      "1 2 3 2 /10 20 30 20 /100 200 300 200 /"
     ]
    }
   ],
   "source": [
    "for nl in Nlist:\n",
    "    for v in nl:\n",
    "        print(v,end=\" \")\n",
    "    print(nl[1],end=\" /\")"
   ]
  },
  {
   "cell_type": "code",
   "execution_count": 155,
   "metadata": {},
   "outputs": [
    {
     "name": "stdout",
     "output_type": "stream",
     "text": [
      "a b s d f k e f 가 나 "
     ]
    }
   ],
   "source": [
    "for s in \"absdfkef가나라다라아가\":\n",
    "    print(s,end=\" \")\n",
    "    if s == \"나\":\n",
    "        break"
   ]
  },
  {
   "cell_type": "code",
   "execution_count": 158,
   "metadata": {},
   "outputs": [
    {
     "name": "stdout",
     "output_type": "stream",
     "text": [
      "5 10 15 20 25 30 35 40 45 50 55 60 65 70 75 80 85 90 95 100 "
     ]
    }
   ],
   "source": [
    "for i in range(1,101):\n",
    "    if(i%5 !=0):\n",
    "        continue\n",
    "    print(i,end=\" \")"
   ]
  },
  {
   "cell_type": "code",
   "execution_count": 161,
   "metadata": {},
   "outputs": [
    {
     "name": "stdout",
     "output_type": "stream",
     "text": [
      "3\n",
      "6\n"
     ]
    }
   ],
   "source": [
    "for i in [1,2,3,4,5,6,7,8,9,10]:\n",
    "    if i % 3 !=0:\n",
    "        continue\n",
    "    elif i == 9:\n",
    "        break\n",
    "    print(i)"
   ]
  },
  {
   "cell_type": "code",
   "execution_count": 1,
   "metadata": {},
   "outputs": [
    {
     "name": "stdout",
     "output_type": "stream",
     "text": [
      "enter: adsf\n",
      "enter: efe\n",
      "enter: 393493\n",
      "enter: gi\n",
      "enter: quit\n"
     ]
    }
   ],
   "source": [
    "while True:\n",
    "    Uinput = input(\"enter: \")\n",
    "    if Uinput ==\"quit\":\n",
    "        break"
   ]
  },
  {
   "cell_type": "markdown",
   "metadata": {},
   "source": [
    "## for in 관련 내장함수\n",
    "- range()\n",
    "- enumerage()\n",
    "- zip()"
   ]
  },
  {
   "cell_type": "markdown",
   "metadata": {},
   "source": [
    "### range([start],end, [increase]) - [] not mandatory"
   ]
  },
  {
   "cell_type": "code",
   "execution_count": 2,
   "metadata": {},
   "outputs": [
    {
     "name": "stdout",
     "output_type": "stream",
     "text": [
      "1 3 5 7 9 "
     ]
    }
   ],
   "source": [
    "#range 1 ~ 10-1, increae 2. 1,3,5,7,9\n",
    "for i in range(1,10,2):\n",
    "    print(i, end=\" \")"
   ]
  },
  {
   "cell_type": "code",
   "execution_count": 8,
   "metadata": {},
   "outputs": [
    {
     "data": {
      "text/plain": [
       "[10, 9, 8, 7, 6, 5, 4, 3, 2, 1, 0, -1, -2, -3, -4]"
      ]
     },
     "execution_count": 8,
     "metadata": {},
     "output_type": "execute_result"
    }
   ],
   "source": [
    "lst = list(range(10,-5,-1))\n",
    "lst"
   ]
  },
  {
   "cell_type": "code",
   "execution_count": 6,
   "metadata": {},
   "outputs": [
    {
     "data": {
      "text/plain": [
       "(0, 1, 2, 3, 4, 5, 6, 7, 8, 9, 10, 11, 12, 13, 14, 15, 16, 17, 18, 19)"
      ]
     },
     "execution_count": 6,
     "metadata": {},
     "output_type": "execute_result"
    }
   ],
   "source": [
    "tu = tuple(range(20))\n",
    "tu"
   ]
  },
  {
   "cell_type": "code",
   "execution_count": 7,
   "metadata": {},
   "outputs": [
    {
     "data": {
      "text/plain": [
       "{0, 1, 2, 3, 4, 5, 6, 7, 8, 9, 10, 11, 12, 13, 14, 15, 16, 17, 18, 19}"
      ]
     },
     "execution_count": 7,
     "metadata": {},
     "output_type": "execute_result"
    }
   ],
   "source": [
    "se = set(range(20))\n",
    "se"
   ]
  },
  {
   "cell_type": "code",
   "execution_count": 13,
   "metadata": {},
   "outputs": [
    {
     "name": "stdout",
     "output_type": "stream",
     "text": [
      "hello\n",
      "hello\n",
      "hello\n",
      "hello\n",
      "hello\n",
      "hello\n",
      "hello\n",
      "hello\n",
      "hello\n",
      "hello\n"
     ]
    }
   ],
   "source": [
    "#변수를 '_': 반복문 내에서 사용하지 않겠다. => 관례\n",
    "for _ in range(10):\n",
    "    print(\"hello\")"
   ]
  },
  {
   "cell_type": "markdown",
   "metadata": {},
   "source": [
    "### enumerate(iterable , start=startNum )  start: not mandatory\n",
    "    "
   ]
  },
  {
   "cell_type": "code",
   "execution_count": 15,
   "metadata": {},
   "outputs": [
    {
     "name": "stdout",
     "output_type": "stream",
     "text": [
      "(0, 'a')\n",
      "(1, 'b')\n",
      "(2, 'c')\n",
      "(3, 'd')\n",
      "(4, 'e')\n"
     ]
    }
   ],
   "source": [
    "str_list = [\"a\",\"b\",\"c\",\"d\",\"e\"]\n",
    "for s in enumerate(str_list):\n",
    "    print(s)"
   ]
  },
  {
   "cell_type": "code",
   "execution_count": 18,
   "metadata": {},
   "outputs": [
    {
     "name": "stdout",
     "output_type": "stream",
     "text": [
      "0 a\n",
      "1 b\n",
      "2 c\n",
      "3 d\n",
      "d\n",
      "4 e\n"
     ]
    }
   ],
   "source": [
    "for idx, s in enumerate(str_list):\n",
    "    print(idx, s)\n",
    "    if idx ==3:\n",
    "        print(s)"
   ]
  },
  {
   "cell_type": "code",
   "execution_count": 21,
   "metadata": {},
   "outputs": [
    {
     "name": "stdout",
     "output_type": "stream",
     "text": [
      "1 a\n",
      "2 b\n",
      "3 c\n",
      "4 d\n",
      "5 e\n"
     ]
    }
   ],
   "source": [
    "for idx, s in enumerate(str_list,start=1):#index numbering. start with 1.\n",
    "    print(idx, s)"
   ]
  },
  {
   "cell_type": "markdown",
   "metadata": {},
   "source": [
    "### zip(iterable, iterable[,...])"
   ]
  },
  {
   "cell_type": "code",
   "execution_count": 23,
   "metadata": {},
   "outputs": [],
   "source": [
    "a1 =[1,2,3]\n",
    "b1 = [10,20,30]\n",
    "c1 = 100,200,300\n",
    "d1 = {'a','b','c'}"
   ]
  },
  {
   "cell_type": "code",
   "execution_count": 24,
   "metadata": {},
   "outputs": [
    {
     "name": "stdout",
     "output_type": "stream",
     "text": [
      "(1, 10, 100, 'c')\n",
      "(2, 20, 200, 'b')\n",
      "(3, 30, 300, 'a')\n"
     ]
    }
   ],
   "source": [
    "for v in zip(a1,b1,c1,d1):\n",
    "    print(v)"
   ]
  },
  {
   "cell_type": "code",
   "execution_count": 25,
   "metadata": {},
   "outputs": [],
   "source": [
    "names = ['Hong', 'Lee','Park']\n",
    "ages = [20,30,40]\n",
    "heights = [170,180,190]"
   ]
  },
  {
   "cell_type": "code",
   "execution_count": 26,
   "metadata": {},
   "outputs": [
    {
     "name": "stdout",
     "output_type": "stream",
     "text": [
      "('Hong', 20, 170)\n",
      "('Lee', 30, 180)\n",
      "('Park', 40, 190)\n"
     ]
    }
   ],
   "source": [
    "for info in zip(names,ages,heights):\n",
    "    print(info)"
   ]
  },
  {
   "cell_type": "code",
   "execution_count": 27,
   "metadata": {},
   "outputs": [
    {
     "name": "stdout",
     "output_type": "stream",
     "text": [
      "Hong 20 170\n",
      "Lee 30 180\n",
      "Park 40 190\n"
     ]
    }
   ],
   "source": [
    "for name, age, height in zip(names,ages,heights):\n",
    "    print(name,age,height)"
   ]
  },
  {
   "cell_type": "markdown",
   "metadata": {},
   "source": [
    "# Comprehension"
   ]
  },
  {
   "cell_type": "code",
   "execution_count": 31,
   "metadata": {},
   "outputs": [],
   "source": [
    "clist = [1,2,3,4,5]\n",
    "#clist의 원소들에 10을 더한 값들을 원소로 가지는 리스트를 생성. \n",
    "#clist [11,12,13,14,15]"
   ]
  },
  {
   "cell_type": "code",
   "execution_count": 32,
   "metadata": {},
   "outputs": [
    {
     "data": {
      "text/plain": [
       "[11, 12, 13, 14, 15]"
      ]
     },
     "execution_count": 32,
     "metadata": {},
     "output_type": "execute_result"
    }
   ],
   "source": [
    "clist2 = []\n",
    "for num in clist:\n",
    "    clist2.append(num + 10)\n",
    "clist2"
   ]
  },
  {
   "cell_type": "code",
   "execution_count": 38,
   "metadata": {},
   "outputs": [
    {
     "data": {
      "text/plain": [
       "([21, 22, 23, 24, 25], list)"
      ]
     },
     "execution_count": 38,
     "metadata": {},
     "output_type": "execute_result"
    }
   ],
   "source": [
    "result = [num + 20 for num in clist]\n",
    "result, type(result)"
   ]
  },
  {
   "cell_type": "code",
   "execution_count": 40,
   "metadata": {},
   "outputs": [
    {
     "data": {
      "text/plain": [
       "({21, 22, 23, 24, 25}, set)"
      ]
     },
     "execution_count": 40,
     "metadata": {},
     "output_type": "execute_result"
    }
   ],
   "source": [
    "result2 = {num + 20 for num in clist}\n",
    "result2, type(result2)"
   ]
  },
  {
   "cell_type": "code",
   "execution_count": 39,
   "metadata": {},
   "outputs": [
    {
     "data": {
      "text/plain": [
       "({1: 'a', 2: 'a', 3: 'a', 4: 'a', 5: 'a'}, dict)"
      ]
     },
     "execution_count": 39,
     "metadata": {},
     "output_type": "execute_result"
    }
   ],
   "source": [
    "result1 = {num:'a' for num in clist}\n",
    "result1, type(result1)"
   ]
  },
  {
   "cell_type": "code",
   "execution_count": 36,
   "metadata": {},
   "outputs": [
    {
     "name": "stdout",
     "output_type": "stream",
     "text": [
      "(0, 11)\n",
      "(1, 12)\n",
      "(2, 13)\n",
      "(3, 14)\n",
      "(4, 15)\n"
     ]
    }
   ],
   "source": [
    "for num in enumerate(clist2):\n",
    "    print(num)"
   ]
  },
  {
   "cell_type": "code",
   "execution_count": 37,
   "metadata": {},
   "outputs": [
    {
     "name": "stdout",
     "output_type": "stream",
     "text": [
      "{0: 11, 1: 12, 2: 13, 3: 14, 4: 15}\n"
     ]
    },
    {
     "data": {
      "text/plain": [
       "dict"
      ]
     },
     "execution_count": 37,
     "metadata": {},
     "output_type": "execute_result"
    }
   ],
   "source": [
    "dic3 = {idx:num for idx,num in enumerate(clist2)}\n",
    "print(dic3)\n",
    "type(dic3)"
   ]
  },
  {
   "cell_type": "code",
   "execution_count": 42,
   "metadata": {},
   "outputs": [
    {
     "data": {
      "text/plain": [
       "({0: 11, 1: 12, 2: 13, 3: 14, 4: 15}, dict)"
      ]
     },
     "execution_count": 42,
     "metadata": {},
     "output_type": "execute_result"
    }
   ],
   "source": [
    "dic4 = {}\n",
    "for idx, num in enumerate(clist2):\n",
    "    dic4[idx]= num\n",
    "dic4, type(dic4)"
   ]
  },
  {
   "cell_type": "code",
   "execution_count": 43,
   "metadata": {},
   "outputs": [],
   "source": [
    "num_list =  list(range(100))"
   ]
  },
  {
   "cell_type": "code",
   "execution_count": 46,
   "metadata": {},
   "outputs": [
    {
     "data": {
      "text/plain": [
       "([0, 10, 20, 30, 40, 50, 60, 70, 80, 90], list)"
      ]
     },
     "execution_count": 46,
     "metadata": {},
     "output_type": "execute_result"
    }
   ],
   "source": [
    "result3 = []\n",
    "for num in num_list:\n",
    "    if num %10 == 0:\n",
    "        result3.append(num)\n",
    "result3, type(result3)"
   ]
  },
  {
   "cell_type": "markdown",
   "metadata": {},
   "source": [
    "```python\n",
    "[변수 for 변수 in iterable [for in 'or' if] [for in 'or' if] ...]\n",
    "```"
   ]
  },
  {
   "cell_type": "code",
   "execution_count": 47,
   "metadata": {},
   "outputs": [
    {
     "data": {
      "text/plain": [
       "([0, 10, 20, 30, 40, 50, 60, 70, 80, 90], list)"
      ]
     },
     "execution_count": 47,
     "metadata": {},
     "output_type": "execute_result"
    }
   ],
   "source": [
    "result4 = [num for num in num_list if num%10==0]\n",
    "result4, type(result4)"
   ]
  },
  {
   "cell_type": "code",
   "execution_count": 18,
   "metadata": {},
   "outputs": [
    {
     "name": "stdout",
     "output_type": "stream",
     "text": [
      "Score60\n",
      "F\n"
     ]
    }
   ],
   "source": [
    "#(1) 다음 점수 구간에 맞게 학점을 출력하세요.\n",
    "# 91 ~ 100 : A학점\n",
    "# 81 ~ 90 :  B학점\n",
    "# 71 ~ 80 :  C학점\n",
    "# 61 ~ 70 :  D학점\n",
    "# 60이하   :  F학점\n",
    "score = int(input(\"Score\"))\n",
    "if score <0 or score > 100:\n",
    "    print(\"Invalid number\")\n",
    "elif score > 90 and score <=100:\n",
    "    print(\"A\")\n",
    "elif score >80:\n",
    "    print(\"B\")\n",
    "elif score >70:\n",
    "    print(\"C\")\n",
    "elif score >60:\n",
    "    print(\"D\")\n",
    "else:\n",
    "    print(\"F\")\n",
    "\n"
   ]
  },
  {
   "cell_type": "code",
   "execution_count": 32,
   "metadata": {},
   "outputs": [
    {
     "name": "stdout",
     "output_type": "stream",
     "text": [
      "89.0\n",
      "89.0\n"
     ]
    }
   ],
   "source": [
    "#(2) 아래 리스트의 평균을 구하시오.\n",
    "jumsu = [100, 90, 100, 80, 70, 100, 80, 90, 95, 85]\n",
    "sumall = 0\n",
    "for j in jumsu:\n",
    "    sumall += j\n",
    "avg = sumall/len(jumsu)\n",
    "print(avg)\n",
    "print(sum(jumsu)/len(jumsu))\n"
   ]
  },
  {
   "cell_type": "code",
   "execution_count": 33,
   "metadata": {},
   "outputs": [
    {
     "name": "stdout",
     "output_type": "stream",
     "text": [
      "0 pass\n",
      "1 pass\n",
      "2 pass\n",
      "3-fail\n",
      "4-fail\n",
      "5 pass\n",
      "6-fail\n",
      "7 pass\n",
      "8 pass\n",
      "9-fail\n"
     ]
    }
   ],
   "source": [
    "#(3) 위 jumsu리스트에서 평균점수이상은 pass, 미만은 fail을 index번호와 함께 출력하시오. (ex: 0-pass, 1-pass, 2-fail)\n",
    "for idx, score in enumerate(jumsu):\n",
    "    if score >= avg:\n",
    "        print(idx, \"pass\")\n",
    "    else:\n",
    "        print(f\"{idx}-fail\")"
   ]
  },
  {
   "cell_type": "code",
   "execution_count": 44,
   "metadata": {},
   "outputs": [
    {
     "name": "stdout",
     "output_type": "stream",
     "text": [
      "최대값: 95\n",
      "최대값: 95\n",
      "최소값: 55\n"
     ]
    }
   ],
   "source": [
    "#(4) 아래 리스트 값들 중 최대값을 조회해 출력\n",
    "jumsu = [60, 90, 80, 80, 70, 55, 80, 90, 95, 85]\n",
    "i = 0;\n",
    "maxNum = jumsu[0];\n",
    "#while i < len(jumsu)-1:\n",
    "#    if jumsu[i] < jumsu[i+1]:\n",
    "#        maxNum = jumsu[i+1]\n",
    "#    i+=1\n",
    "#print(maxNum)\n",
    "\n",
    "for num in jumsu:\n",
    "    if num > maxNum:\n",
    "        maxNum=num\n",
    "print(f\"최대값: {maxNum}\")\n",
    "print(f\"최대값: {max(jumsu)}\")\n",
    "print(f\"최소값: {min(jumsu)}\")"
   ]
  },
  {
   "cell_type": "code",
   "execution_count": 45,
   "metadata": {},
   "outputs": [
    {
     "data": {
      "text/plain": [
       "['갑', '을', '병']"
      ]
     },
     "execution_count": 45,
     "metadata": {},
     "output_type": "execute_result"
    }
   ],
   "source": [
    "#(5) 다음 리스트 중에서 '정' 글자를 제외하고 출력하세요.\n",
    "str_list = [\"갑\", \"을\", \"병\", \"정\"]\n",
    "str = [n for n in str_list if n not in \"정\"]\n",
    "str"
   ]
  },
  {
   "cell_type": "code",
   "execution_count": 52,
   "metadata": {},
   "outputs": [
    {
     "name": "stdout",
     "output_type": "stream",
     "text": [
      "number8\n",
      "8 X 1 = 8\n",
      "8 X 2 = 16\n",
      "8 X 3 = 24\n",
      "8 X 4 = 32\n",
      "8 X 5 = 40\n",
      "8 X 6 = 48\n",
      "8 X 7 = 56\n",
      "8 X 8 = 64\n",
      "8 X 9 = 72\n"
     ]
    }
   ],
   "source": [
    "#(6) 사용자로부터 정수를 입력받아 그 단의 구구단을 출력하시오.\n",
    "# ex) 단을 입력하시오 : 2\n",
    "# 2 x 1 = 2\n",
    "# 2 x 2 = 4\n",
    "#..\n",
    "# 2 x 9 = 18\n",
    "num = int(input(\"number\"))\n",
    "#num2 = [\"{} X {} = {}\".format(num, i, num*i) for i in range(1,10)]\n",
    "#print(num2)\n",
    "#for j in num2:\n",
    "#    print(j)\n",
    "for i in range(1,10):\n",
    "    #print(f\"{num} X {i} = {num*i}\")\n",
    "    #print(\"{} X {} = {}\".format(num, i, num*i))\n",
    "    print(\"%d X %d = %d\" % (num, i, num*i))"
   ]
  },
  {
   "cell_type": "code",
   "execution_count": 63,
   "metadata": {},
   "outputs": [
    {
     "name": "stdout",
     "output_type": "stream",
     "text": [
      "2 X 1 = 2\t3 X 1 = 3\t4 X 1 = 4\t5 X 1 = 5\t6 X 1 = 6\t7 X 1 = 7\t8 X 1 = 8\t9 X 1 = 9\t\n",
      "2 X 2 = 4\t3 X 2 = 6\t4 X 2 = 8\t5 X 2 = 10\t6 X 2 = 12\t7 X 2 = 14\t8 X 2 = 16\t9 X 2 = 18\t\n",
      "2 X 3 = 6\t3 X 3 = 9\t4 X 3 = 12\t5 X 3 = 15\t6 X 3 = 18\t7 X 3 = 21\t8 X 3 = 24\t9 X 3 = 27\t\n",
      "2 X 4 = 8\t3 X 4 = 12\t4 X 4 = 16\t5 X 4 = 20\t6 X 4 = 24\t7 X 4 = 28\t8 X 4 = 32\t9 X 4 = 36\t\n",
      "2 X 5 = 10\t3 X 5 = 15\t4 X 5 = 20\t5 X 5 = 25\t6 X 5 = 30\t7 X 5 = 35\t8 X 5 = 40\t9 X 5 = 45\t\n",
      "2 X 6 = 12\t3 X 6 = 18\t4 X 6 = 24\t5 X 6 = 30\t6 X 6 = 36\t7 X 6 = 42\t8 X 6 = 48\t9 X 6 = 54\t\n",
      "2 X 7 = 14\t3 X 7 = 21\t4 X 7 = 28\t5 X 7 = 35\t6 X 7 = 42\t7 X 7 = 49\t8 X 7 = 56\t9 X 7 = 63\t\n",
      "2 X 8 = 16\t3 X 8 = 24\t4 X 8 = 32\t5 X 8 = 40\t6 X 8 = 48\t7 X 8 = 56\t8 X 8 = 64\t9 X 8 = 72\t\n",
      "2 X 9 = 18\t3 X 9 = 27\t4 X 9 = 36\t5 X 9 = 45\t6 X 9 = 54\t7 X 9 = 63\t8 X 9 = 72\t9 X 9 = 81\t\n"
     ]
    }
   ],
   "source": [
    "#구구단표 만들기. 마지막 print()다음라인\n",
    "for i in range(1,10):\n",
    "    for j in range(2,10):\n",
    "        print((f\"{j} X {i} = {i*j}\"),end=\"\\t\")\n",
    "    print()"
   ]
  },
  {
   "cell_type": "code",
   "execution_count": 66,
   "metadata": {},
   "outputs": [
    {
     "data": {
      "text/plain": [
       "[20, 60, 140, 10, 240, 1400, 2, 70]"
      ]
     },
     "execution_count": 66,
     "metadata": {},
     "output_type": "execute_result"
    }
   ],
   "source": [
    "#컴프리헨션\n",
    "#(7) 다음 리스트가 가진 값에 두배(* 2)를 가지는 새로운 리스트를 만드시오. (리스트 컴프리헨션 이용)\n",
    "lst = [10, 30, 70, 5, 120, 700, 1, 35]\n",
    "lst2 = [num*2 for num in lst] #mapping\n",
    "lst2"
   ]
  },
  {
   "cell_type": "code",
   "execution_count": 67,
   "metadata": {},
   "outputs": [
    {
     "data": {
      "text/plain": [
       "[(10, 100),\n",
       " (30, 300),\n",
       " (70, 700),\n",
       " (5, 50),\n",
       " (5, 50),\n",
       " (120, 1200),\n",
       " (700, 7000),\n",
       " (1, 10),\n",
       " (35, 350),\n",
       " (35, 350)]"
      ]
     },
     "execution_count": 67,
     "metadata": {},
     "output_type": "execute_result"
    }
   ],
   "source": [
    "#(8) 다음 리스트가 가진 값에 10배의 값을 가지는 값을 (원래값, 10배값) 의 튜플묶음으로 가지는 리스트를 만드시오 (리스트 컴프리헨션 이용)\n",
    "# Ex) [(10,100), (30,300), .., (35, 350)]\n",
    "lst = [10, 30, 70, 5, 5, 120, 700, 1, 35, 35]\n",
    "lstx = [ (l, l * 10) for l in lst]\n",
    "#for z in zip(lst, lstx):\n",
    "#    print(z)\n",
    "lstx"
   ]
  },
  {
   "cell_type": "code",
   "execution_count": 68,
   "metadata": {},
   "outputs": [
    {
     "data": {
      "text/plain": [
       "[3, 33, 21, 33, 60, 120]"
      ]
     },
     "execution_count": 68,
     "metadata": {},
     "output_type": "execute_result"
    }
   ],
   "source": [
    "#(9) 다음 리스트가 가진 값들 중 3의 배수만 가지는 리스트를 만드시오. (리스트 컴프리헨션 이용)\n",
    "lst2 = [ 3, 20, 33, 21, 33, 8, 11, 10, 7, 17, 60, 120, 2]\n",
    "lst3 = [num for num in lst2 if num%3 == 0] #filtering\n",
    "lst3"
   ]
  },
  {
   "cell_type": "code",
   "execution_count": 68,
   "metadata": {},
   "outputs": [
    {
     "data": {
      "text/plain": [
       "['a.exe', 'function.exe', 'b.exe', 'run.exe']"
      ]
     },
     "execution_count": 68,
     "metadata": {},
     "output_type": "execute_result"
    }
   ],
   "source": [
    "#(10) 다음 파일이름들을 담은 리스트에서 확장자가 exe인 파일만 골라서 새로운 리스트에 담으시오.(string의 endswith()함수 이용)\n",
    "file_name=[\"test.txt\", \"a.exe\", \"jupyter.bat\", \"function.exe\", \"b.exe\", \"cat.jpg\", \"dog.png\", \"run.exe\", \"i.dll\"]\n",
    "\n",
    "f1 = [file for file in file_name if file.endswith(\".exe\")]\n",
    "f1"
   ]
  },
  {
   "cell_type": "code",
   "execution_count": 73,
   "metadata": {},
   "outputs": [
    {
     "data": {
      "text/plain": [
       "['mystroy.txt', 'jupyter.bat', 'function.exe']"
      ]
     },
     "execution_count": 73,
     "metadata": {},
     "output_type": "execute_result"
    }
   ],
   "source": [
    "#(11) 다음 중 10글자 이상인 파일명(확장자포함)만 가지는 리스트를 만드시오.\n",
    "file_name=[\"mystroy.txt\", \"a.exe\", \"jupyter.bat\", \"function.exe\", \"b.exe\", \"cat.jpg\", \"dog.png\", \"run.exe\", \"i.dll\"]\n",
    "f2 = [file for file in file_name if len(file)>= 10] \n",
    "f2"
   ]
  },
  {
   "cell_type": "code",
   "execution_count": 74,
   "metadata": {},
   "outputs": [
    {
     "data": {
      "text/plain": [
       "{'mystroy.txt': 11, 'jupyter.bat': 11, 'function.exe': 12}"
      ]
     },
     "execution_count": 74,
     "metadata": {},
     "output_type": "execute_result"
    }
   ],
   "source": [
    "#딕셔너리로 파일명 :글자수\n",
    "f3 = {file:len(file)for file in file_name if len(file)>= 10}\n",
    "f3"
   ]
  },
  {
   "cell_type": "code",
   "execution_count": 100,
   "metadata": {
    "scrolled": true
   },
   "outputs": [
    {
     "name": "stdout",
     "output_type": "stream",
     "text": [
      "9\n",
      "- 1번째 시도\n",
      "- 1 ~ 100 사이 숫자를 입력하세요: 1\n",
      ">>> 1보다 더 큰숫자를 입력하세요.\n",
      "==================================================\n",
      "- 2번째 시도\n",
      "- 1 ~ 100 사이 숫자를 입력하세요: 50\n",
      ">>>50보다 더 작은 숫자를 입력하세요.\n",
      "==================================================\n",
      "- 3번째 시도\n",
      "- 1 ~ 100 사이 숫자를 입력하세요: 4\n",
      ">>> 4보다 더 큰숫자를 입력하세요.\n",
      "==================================================\n",
      "- 4번째 시도\n",
      "- 1 ~ 100 사이 숫자를 입력하세요: 5\n",
      ">>> 5보다 더 큰숫자를 입력하세요.\n",
      "==================================================\n",
      "- 5번째 시도\n",
      "- 1 ~ 100 사이 숫자를 입력하세요: 6\n",
      ">>> 6보다 더 큰숫자를 입력하세요.\n",
      "- 실패하셨습니다. 숫자는 9이였습니다.\n",
      "==================================================\n"
     ]
    }
   ],
   "source": [
    "#최대 시도 횟수 10\n",
    "import random\n",
    "num = random.randint(1,100) # 1~100(포함) random integer number return.\n",
    "print(num)\n",
    "chance = 1\n",
    "maxTry = 5\n",
    "while True:\n",
    "    print(f\"- {chance}번째 시도\")\n",
    "    guessNum = int(input(\"- 1 ~ 100 사이 숫자를 입력하세요: \"))\n",
    "    if(guessNum > num):\n",
    "        print(f\">>> {guessNum}보다 더 작은 숫자를 입력하세요.\")\n",
    "\n",
    "    elif(guessNum < num):\n",
    "        print(f\">>> {guessNum}보다 더 큰숫자를 입력하세요.\")\n",
    "\n",
    "    elif(guessNum == num):\n",
    "        print(f\"- {chance}번째 성공.\")\n",
    "        break\n",
    "    if(maxTry == chance):\n",
    "        print(\"=\"*50)\n",
    "        print(f\"- 실패하셨습니다. 숫자는 {num}이였습니다.\")\n",
    "        print(\"=\"*50)\n",
    "        break\n",
    "    chance += 1\n",
    "    print(\"=\"*50)"
   ]
  },
  {
   "cell_type": "code",
   "execution_count": null,
   "metadata": {},
   "outputs": [],
   "source": []
  },
  {
   "cell_type": "code",
   "execution_count": null,
   "metadata": {},
   "outputs": [],
   "source": []
  },
  {
   "cell_type": "code",
   "execution_count": null,
   "metadata": {},
   "outputs": [],
   "source": []
  },
  {
   "cell_type": "code",
   "execution_count": null,
   "metadata": {},
   "outputs": [],
   "source": []
  },
  {
   "cell_type": "code",
   "execution_count": null,
   "metadata": {},
   "outputs": [],
   "source": []
  },
  {
   "cell_type": "code",
   "execution_count": null,
   "metadata": {},
   "outputs": [],
   "source": []
  },
  {
   "cell_type": "code",
   "execution_count": null,
   "metadata": {},
   "outputs": [],
   "source": []
  },
  {
   "cell_type": "code",
   "execution_count": null,
   "metadata": {},
   "outputs": [],
   "source": []
  },
  {
   "cell_type": "code",
   "execution_count": null,
   "metadata": {},
   "outputs": [],
   "source": []
  },
  {
   "cell_type": "code",
   "execution_count": null,
   "metadata": {},
   "outputs": [],
   "source": []
  },
  {
   "cell_type": "code",
   "execution_count": null,
   "metadata": {},
   "outputs": [],
   "source": []
  },
  {
   "cell_type": "code",
   "execution_count": null,
   "metadata": {},
   "outputs": [],
   "source": []
  },
  {
   "cell_type": "code",
   "execution_count": null,
   "metadata": {},
   "outputs": [],
   "source": []
  },
  {
   "cell_type": "code",
   "execution_count": null,
   "metadata": {},
   "outputs": [],
   "source": []
  },
  {
   "cell_type": "code",
   "execution_count": null,
   "metadata": {},
   "outputs": [],
   "source": []
  },
  {
   "cell_type": "code",
   "execution_count": null,
   "metadata": {},
   "outputs": [],
   "source": []
  },
  {
   "cell_type": "code",
   "execution_count": null,
   "metadata": {},
   "outputs": [],
   "source": []
  },
  {
   "cell_type": "code",
   "execution_count": null,
   "metadata": {},
   "outputs": [],
   "source": []
  },
  {
   "cell_type": "code",
   "execution_count": null,
   "metadata": {},
   "outputs": [],
   "source": []
  },
  {
   "cell_type": "code",
   "execution_count": null,
   "metadata": {},
   "outputs": [],
   "source": []
  },
  {
   "cell_type": "code",
   "execution_count": null,
   "metadata": {},
   "outputs": [],
   "source": []
  },
  {
   "cell_type": "code",
   "execution_count": null,
   "metadata": {},
   "outputs": [],
   "source": []
  },
  {
   "cell_type": "code",
   "execution_count": null,
   "metadata": {},
   "outputs": [],
   "source": []
  },
  {
   "cell_type": "code",
   "execution_count": null,
   "metadata": {},
   "outputs": [],
   "source": []
  },
  {
   "cell_type": "code",
   "execution_count": null,
   "metadata": {},
   "outputs": [],
   "source": []
  },
  {
   "cell_type": "code",
   "execution_count": null,
   "metadata": {},
   "outputs": [],
   "source": []
  },
  {
   "cell_type": "code",
   "execution_count": null,
   "metadata": {},
   "outputs": [],
   "source": []
  },
  {
   "cell_type": "code",
   "execution_count": null,
   "metadata": {},
   "outputs": [],
   "source": []
  },
  {
   "cell_type": "code",
   "execution_count": null,
   "metadata": {},
   "outputs": [],
   "source": []
  },
  {
   "cell_type": "code",
   "execution_count": null,
   "metadata": {},
   "outputs": [],
   "source": []
  }
 ],
 "metadata": {
  "kernelspec": {
   "display_name": "Python 3",
   "language": "python",
   "name": "python3"
  },
  "language_info": {
   "codemirror_mode": {
    "name": "ipython",
    "version": 3
   },
   "file_extension": ".py",
   "mimetype": "text/x-python",
   "name": "python",
   "nbconvert_exporter": "python",
   "pygments_lexer": "ipython3",
   "version": "3.8.5"
  }
 },
 "nbformat": 4,
 "nbformat_minor": 4
}
