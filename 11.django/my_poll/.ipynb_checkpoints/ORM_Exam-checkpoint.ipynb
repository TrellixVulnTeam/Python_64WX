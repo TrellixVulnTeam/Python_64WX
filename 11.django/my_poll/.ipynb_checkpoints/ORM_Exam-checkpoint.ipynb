{
 "cells": [
  {
   "cell_type": "code",
   "execution_count": 1,
   "id": "9621f6a0",
   "metadata": {},
   "outputs": [],
   "source": [
    "# 프로젝트 디렉토리에서 실행.\n",
    "# jupyter notebook에서 django shell을 사용할수 있도록 환경변수 설정."
   ]
  },
  {
   "cell_type": "code",
   "execution_count": 1,
   "id": "941221ae",
   "metadata": {},
   "outputs": [],
   "source": [
    "import os\n",
    "os.environ['DJANGO_SETTINGS_MODULE'] = 'config.settings'\n",
    "os.environ['DJANGO_ALLOW_ASYNC_UNSAFE'] = 'true'\n",
    "\n",
    "import django\n",
    "django.setup()"
   ]
  },
  {
   "cell_type": "code",
   "execution_count": 7,
   "id": "3dc451cf",
   "metadata": {},
   "outputs": [],
   "source": [
    "from polls.models import Question, Choice, SubChoice"
   ]
  },
  {
   "cell_type": "markdown",
   "id": "ad9265f2",
   "metadata": {},
   "source": [
    "# 전체조회\n",
    "- all()"
   ]
  },
  {
   "cell_type": "code",
   "execution_count": 3,
   "id": "b0300562",
   "metadata": {},
   "outputs": [
    {
     "data": {
      "text/plain": [
       "<QuerySet [<Question: 좋아하는 색깔은 무엇입니까?>, <Question: 좋아하는 동물은 무엇입니까?>, <Question: 가고 싶은 나라를 선택하세요>]>"
      ]
     },
     "execution_count": 3,
     "metadata": {},
     "output_type": "execute_result"
    }
   ],
   "source": [
    "# Model클래스이름.objects.XXXXXXX\n",
    "qs = Question.objects.all()\n",
    "qs"
   ]
  },
  {
   "cell_type": "code",
   "execution_count": 10,
   "id": "bac93ac1",
   "metadata": {
    "scrolled": true
   },
   "outputs": [
    {
     "data": {
      "text/plain": [
       "<QuerySet [<SubChoice: 검은색이다>, <SubChoice: 파랑색이다>, <SubChoice: 빨강색이다>, <SubChoice: 우리나라다>, <SubChoice: 가고싶은나라다>, <SubChoice: 신분세탁국가다>, <SubChoice: 강아지는 귀엽다>, <SubChoice: 고양이는 귀엽다>, <SubChoice: 거북이는 느리다>, <SubChoice: 보드카의나라다>, <SubChoice: 놀러가고싶은나라다>]>"
      ]
     },
     "execution_count": 10,
     "metadata": {},
     "output_type": "execute_result"
    }
   ],
   "source": [
    "qs = SubChoice.objects.all()\n",
    "qs"
   ]
  },
  {
   "cell_type": "code",
   "execution_count": 26,
   "id": "5c18a803",
   "metadata": {},
   "outputs": [
    {
     "name": "stdout",
     "output_type": "stream",
     "text": [
      "SELECT \"polls_question\".\"id\", \"polls_question\".\"question_text\", \"polls_question\".\"pub_date\" FROM \"polls_question\"\n"
     ]
    }
   ],
   "source": [
    "# QuerySet.query : sql문 조회\n",
    "print(qs.query)"
   ]
  },
  {
   "cell_type": "code",
   "execution_count": 29,
   "id": "b2f3b21f",
   "metadata": {},
   "outputs": [
    {
     "name": "stdout",
     "output_type": "stream",
     "text": [
      "좋아하는 색깔은 무엇입니까? <class 'polls.models.Question'>\n",
      "좋아하는 동물은 무엇입니까? <class 'polls.models.Question'>\n",
      "가고 싶은 나라를 선택하세요 <class 'polls.models.Question'>\n"
     ]
    }
   ],
   "source": [
    "for q in qs:\n",
    "    print(q,type(q))"
   ]
  },
  {
   "cell_type": "code",
   "execution_count": 31,
   "id": "4c3d2c06",
   "metadata": {},
   "outputs": [
    {
     "data": {
      "text/plain": [
       "(<Question: 좋아하는 색깔은 무엇입니까?>,\n",
       " [<Question: 좋아하는 동물은 무엇입니까?>, <Question: 가고 싶은 나라를 선택하세요>])"
      ]
     },
     "execution_count": 31,
     "metadata": {},
     "output_type": "execute_result"
    }
   ],
   "source": [
    "# 특정 조회 결과 하나 조회 - indexing\n",
    "# 범위 조회: slicing / 음수 인덱스는 사용불가.\n",
    "qs[0], qs[1:]"
   ]
  },
  {
   "cell_type": "code",
   "execution_count": 33,
   "id": "f1b883d7",
   "metadata": {},
   "outputs": [
    {
     "data": {
      "text/plain": [
       "(<Question: 가고 싶은 나라를 선택하세요>, <Question: 좋아하는 색깔은 무엇입니까?>)"
      ]
     },
     "execution_count": 33,
     "metadata": {},
     "output_type": "execute_result"
    }
   ],
   "source": [
    "qs.last(), qs.first()"
   ]
  },
  {
   "cell_type": "code",
   "execution_count": 34,
   "id": "67c8569f",
   "metadata": {},
   "outputs": [
    {
     "data": {
      "text/plain": [
       "<QuerySet [<Choice: 검정색>, <Choice: 파랑색>, <Choice: 빨강색>, <Choice: 한국>, <Choice: 미국>, <Choice: 영국>, <Choice: 강아지>, <Choice: 고양이>, <Choice: 거북이>, <Choice: 러시아>, <Choice: 오스트레일리아>]>"
      ]
     },
     "execution_count": 34,
     "metadata": {},
     "output_type": "execute_result"
    }
   ],
   "source": [
    "qs = Choice.objects.all()\n",
    "qs"
   ]
  },
  {
   "cell_type": "code",
   "execution_count": 35,
   "id": "38330719",
   "metadata": {},
   "outputs": [
    {
     "data": {
      "text/plain": [
       "<QuerySet [<Choice: 강아지>, <Choice: 거북이>, <Choice: 검정색>, <Choice: 고양이>, <Choice: 러시아>, <Choice: 미국>, <Choice: 빨강색>, <Choice: 영국>, <Choice: 오스트레일리아>, <Choice: 파랑색>, <Choice: 한국>]>"
      ]
     },
     "execution_count": 35,
     "metadata": {},
     "output_type": "execute_result"
    }
   ],
   "source": [
    "qs.order_by('choice_text') # asc"
   ]
  },
  {
   "cell_type": "code",
   "execution_count": 36,
   "id": "9202d89d",
   "metadata": {},
   "outputs": [
    {
     "data": {
      "text/plain": [
       "<QuerySet [<Choice: 한국>, <Choice: 파랑색>, <Choice: 오스트레일리아>, <Choice: 영국>, <Choice: 빨강색>, <Choice: 미국>, <Choice: 러시아>, <Choice: 고양이>, <Choice: 검정색>, <Choice: 거북이>, <Choice: 강아지>]>"
      ]
     },
     "execution_count": 36,
     "metadata": {},
     "output_type": "execute_result"
    }
   ],
   "source": [
    "qs.order_by('-choice_text') # dsc"
   ]
  },
  {
   "cell_type": "code",
   "execution_count": 28,
   "id": "891d588f",
   "metadata": {},
   "outputs": [
    {
     "data": {
      "text/plain": [
       "<QuerySet [<Choice: 검정색>, <Choice: 파랑색>, <Choice: 빨강색>, <Choice: 한국>, <Choice: 미국>, <Choice: 영국>, <Choice: 강아지>, <Choice: 고양이>, <Choice: 거북이>, <Choice: 러시아>, <Choice: 스페인>]>"
      ]
     },
     "execution_count": 28,
     "metadata": {},
     "output_type": "execute_result"
    }
   ],
   "source": [
    "qs = Choice.objects.all().order_by('id')\n",
    "qs"
   ]
  },
  {
   "cell_type": "code",
   "execution_count": 21,
   "id": "e1611b35",
   "metadata": {},
   "outputs": [
    {
     "name": "stdout",
     "output_type": "stream",
     "text": [
      "SELECT \"polls_choice\".\"id\", \"polls_choice\".\"choice_text\", \"polls_choice\".\"vote\", \"polls_choice\".\"question_id\" FROM \"polls_choice\" ORDER BY \"polls_choice\".\"choice_text\" DESC\n"
     ]
    }
   ],
   "source": [
    "print(qs.query)"
   ]
  },
  {
   "cell_type": "code",
   "execution_count": 41,
   "id": "a13098e6",
   "metadata": {},
   "outputs": [
    {
     "name": "stdout",
     "output_type": "stream",
     "text": [
      "<class 'polls.models.Choice'>\n"
     ]
    }
   ],
   "source": [
    "c = qs.first()\n",
    "print(type(c))"
   ]
  },
  {
   "cell_type": "code",
   "execution_count": 43,
   "id": "9feed368",
   "metadata": {},
   "outputs": [
    {
     "data": {
      "text/plain": [
       "(4, '한국', 0, <Question: 가고 싶은 나라를 선택하세요>, 3)"
      ]
     },
     "execution_count": 43,
     "metadata": {},
     "output_type": "execute_result"
    }
   ],
   "source": [
    "# 조회한 Model의 속성을 조회 -> 특정 컬럼값 조회\n",
    "# Choice: id(pk), choice_text, vote, question_id\n",
    "c.id, c.choice_text, c.vote, c.question, c.question_id"
   ]
  },
  {
   "cell_type": "code",
   "execution_count": 27,
   "id": "0f9f732e",
   "metadata": {
    "scrolled": true
   },
   "outputs": [
    {
     "name": "stdout",
     "output_type": "stream",
     "text": [
      "1 1 검정색 검은색이다\n",
      "2 2 파랑색 파랑색이다\n",
      "3 3 빨강색 빨강색이다\n",
      "4 4 한국 우리나라다\n",
      "5 5 미국 가고싶은나라다\n",
      "6 6 영국 신분세탁국가다\n",
      "7 7 강아지 강아지는 귀엽다\n",
      "8 8 고양이 고양이는 귀엽다\n",
      "9 9 거북이 거북이는 느리다\n",
      "10 10 러시아 보드카의나라다\n",
      "11 11 스페인 놀러가고싶은나라다\n"
     ]
    }
   ],
   "source": [
    "sc = SubChoice.objects.all().order_by('sub_choice_id')\n",
    "for c in sc:\n",
    "    print(c.sub_id, c.sub_choice_id, c.sub_choice, c.description)"
   ]
  },
  {
   "cell_type": "code",
   "execution_count": 15,
   "id": "6a68eb84",
   "metadata": {},
   "outputs": [
    {
     "name": "stdout",
     "output_type": "stream",
     "text": [
      "SELECT \"polls_subchoice\".\"sub_id\", \"polls_subchoice\".\"sub_choice_id\", \"polls_subchoice\".\"description\" FROM \"polls_subchoice\"\n"
     ]
    }
   ],
   "source": [
    "print(sc.query)"
   ]
  },
  {
   "cell_type": "code",
   "execution_count": 35,
   "id": "bf6ee491",
   "metadata": {},
   "outputs": [
    {
     "name": "stdout",
     "output_type": "stream",
     "text": [
      "1\t검정색\t0\t좋아하는 색깔은 무엇입니까?\t1\t1\t검정색\t검은색이다\n",
      "2\t파랑색\t0\t좋아하는 색깔은 무엇입니까?\t1\t2\t파랑색\t파랑색이다\n",
      "3\t빨강색\t0\t좋아하는 색깔은 무엇입니까?\t1\t3\t빨강색\t빨강색이다\n"
     ]
    }
   ],
   "source": [
    "for c,s in zip(qs,sc):\n",
    "    if c.question_id==1:\n",
    "        print(c.id, c.choice_text, c.vote, c.question, c.question_id, s.sub_id, s.sub_choice, s.description, sep='\\t')"
   ]
  },
  {
   "cell_type": "markdown",
   "id": "97012f38",
   "metadata": {},
   "source": [
    "# where 절\n",
    "- filter(조회조건)\n",
    "    - 조회조건을 만족하는 0개 이상의 행을 조회\n",
    "- exclude(조회조건)\n",
    "    - filter의 반대. 조회조건을 만족하지 않는 0개 이상의 행을 조회(not)\n",
    "- get(조회조건)\n",
    "    - 조회조건을 만족하는 1개 행을 조회\n",
    "- filter/exclude : QuerySet으로 반환\n",
    "- get: Model 객체를 반환"
   ]
  },
  {
   "cell_type": "code",
   "execution_count": 50,
   "id": "5799e93b",
   "metadata": {},
   "outputs": [
    {
     "data": {
      "text/plain": [
       "(<QuerySet [<Question: 좋아하는 동물은 무엇입니까?>]>,\n",
       " <QuerySet [<Question: 좋아하는 동물은 무엇입니까?>]>)"
      ]
     },
     "execution_count": 50,
     "metadata": {},
     "output_type": "execute_result"
    }
   ],
   "source": [
    "# where id = 1\n",
    "qs = Question.objects.filter(id=2)\n",
    "# primary key 컬럼 조회: 컬럼명, pk\n",
    "qs1 = Question.objects.filter(pk=2)\n",
    "qs, qs1"
   ]
  },
  {
   "cell_type": "code",
   "execution_count": 51,
   "id": "76be93ea",
   "metadata": {},
   "outputs": [
    {
     "name": "stdout",
     "output_type": "stream",
     "text": [
      "2021-05-25 05:20:01.945546+00:00\n"
     ]
    }
   ],
   "source": [
    "print(qs.first().pub_date)"
   ]
  },
  {
   "cell_type": "code",
   "execution_count": 53,
   "id": "7e91ff08",
   "metadata": {},
   "outputs": [
    {
     "name": "stdout",
     "output_type": "stream",
     "text": [
      "<class 'polls.models.Question'> 좋아하는 동물은 무엇입니까?\n"
     ]
    }
   ],
   "source": [
    "quest = Question.objects.get(pk=2) # get(): pk로 조회\n",
    "print(type(quest), quest)"
   ]
  },
  {
   "cell_type": "code",
   "execution_count": 56,
   "id": "d8f31336",
   "metadata": {},
   "outputs": [
    {
     "name": "stdout",
     "output_type": "stream",
     "text": [
      "2021-05-25 05:18:55.578487+00:00\n"
     ]
    }
   ],
   "source": [
    "try:\n",
    "    r = Question.objects.get(pk=1)\n",
    "    print(r.pub_date)\n",
    "except:\n",
    "    print('조회결과가 없습니다')"
   ]
  },
  {
   "cell_type": "code",
   "execution_count": 58,
   "id": "9f62ad13",
   "metadata": {},
   "outputs": [
    {
     "ename": "MultipleObjectsReturned",
     "evalue": "get() returned more than one Question -- it returned 2!",
     "output_type": "error",
     "traceback": [
      "\u001b[1;31m---------------------------------------------------------------------------\u001b[0m",
      "\u001b[1;31mMultipleObjectsReturned\u001b[0m                   Traceback (most recent call last)",
      "\u001b[1;32m<ipython-input-58-e9ae818c923a>\u001b[0m in \u001b[0;36m<module>\u001b[1;34m\u001b[0m\n\u001b[1;32m----> 1\u001b[1;33m \u001b[0mQuestion\u001b[0m\u001b[1;33m.\u001b[0m\u001b[0mobjects\u001b[0m\u001b[1;33m.\u001b[0m\u001b[0mget\u001b[0m\u001b[1;33m(\u001b[0m\u001b[0mid__gt\u001b[0m\u001b[1;33m=\u001b[0m\u001b[1;36m1\u001b[0m\u001b[1;33m)\u001b[0m \u001b[1;31m# id >1\u001b[0m\u001b[1;33m\u001b[0m\u001b[1;33m\u001b[0m\u001b[0m\n\u001b[0m",
      "\u001b[1;32m~\\anaconda3\\envs\\django\\lib\\site-packages\\django\\db\\models\\manager.py\u001b[0m in \u001b[0;36mmanager_method\u001b[1;34m(self, *args, **kwargs)\u001b[0m\n\u001b[0;32m     83\u001b[0m         \u001b[1;32mdef\u001b[0m \u001b[0mcreate_method\u001b[0m\u001b[1;33m(\u001b[0m\u001b[0mname\u001b[0m\u001b[1;33m,\u001b[0m \u001b[0mmethod\u001b[0m\u001b[1;33m)\u001b[0m\u001b[1;33m:\u001b[0m\u001b[1;33m\u001b[0m\u001b[1;33m\u001b[0m\u001b[0m\n\u001b[0;32m     84\u001b[0m             \u001b[1;32mdef\u001b[0m \u001b[0mmanager_method\u001b[0m\u001b[1;33m(\u001b[0m\u001b[0mself\u001b[0m\u001b[1;33m,\u001b[0m \u001b[1;33m*\u001b[0m\u001b[0margs\u001b[0m\u001b[1;33m,\u001b[0m \u001b[1;33m**\u001b[0m\u001b[0mkwargs\u001b[0m\u001b[1;33m)\u001b[0m\u001b[1;33m:\u001b[0m\u001b[1;33m\u001b[0m\u001b[1;33m\u001b[0m\u001b[0m\n\u001b[1;32m---> 85\u001b[1;33m                 \u001b[1;32mreturn\u001b[0m \u001b[0mgetattr\u001b[0m\u001b[1;33m(\u001b[0m\u001b[0mself\u001b[0m\u001b[1;33m.\u001b[0m\u001b[0mget_queryset\u001b[0m\u001b[1;33m(\u001b[0m\u001b[1;33m)\u001b[0m\u001b[1;33m,\u001b[0m \u001b[0mname\u001b[0m\u001b[1;33m)\u001b[0m\u001b[1;33m(\u001b[0m\u001b[1;33m*\u001b[0m\u001b[0margs\u001b[0m\u001b[1;33m,\u001b[0m \u001b[1;33m**\u001b[0m\u001b[0mkwargs\u001b[0m\u001b[1;33m)\u001b[0m\u001b[1;33m\u001b[0m\u001b[1;33m\u001b[0m\u001b[0m\n\u001b[0m\u001b[0;32m     86\u001b[0m             \u001b[0mmanager_method\u001b[0m\u001b[1;33m.\u001b[0m\u001b[0m__name__\u001b[0m \u001b[1;33m=\u001b[0m \u001b[0mmethod\u001b[0m\u001b[1;33m.\u001b[0m\u001b[0m__name__\u001b[0m\u001b[1;33m\u001b[0m\u001b[1;33m\u001b[0m\u001b[0m\n\u001b[0;32m     87\u001b[0m             \u001b[0mmanager_method\u001b[0m\u001b[1;33m.\u001b[0m\u001b[0m__doc__\u001b[0m \u001b[1;33m=\u001b[0m \u001b[0mmethod\u001b[0m\u001b[1;33m.\u001b[0m\u001b[0m__doc__\u001b[0m\u001b[1;33m\u001b[0m\u001b[1;33m\u001b[0m\u001b[0m\n",
      "\u001b[1;32m~\\anaconda3\\envs\\django\\lib\\site-packages\\django\\db\\models\\query.py\u001b[0m in \u001b[0;36mget\u001b[1;34m(self, *args, **kwargs)\u001b[0m\n\u001b[0;32m    437\u001b[0m                 \u001b[0mself\u001b[0m\u001b[1;33m.\u001b[0m\u001b[0mmodel\u001b[0m\u001b[1;33m.\u001b[0m\u001b[0m_meta\u001b[0m\u001b[1;33m.\u001b[0m\u001b[0mobject_name\u001b[0m\u001b[1;33m\u001b[0m\u001b[1;33m\u001b[0m\u001b[0m\n\u001b[0;32m    438\u001b[0m             )\n\u001b[1;32m--> 439\u001b[1;33m         raise self.model.MultipleObjectsReturned(\n\u001b[0m\u001b[0;32m    440\u001b[0m             'get() returned more than one %s -- it returned %s!' % (\n\u001b[0;32m    441\u001b[0m                 \u001b[0mself\u001b[0m\u001b[1;33m.\u001b[0m\u001b[0mmodel\u001b[0m\u001b[1;33m.\u001b[0m\u001b[0m_meta\u001b[0m\u001b[1;33m.\u001b[0m\u001b[0mobject_name\u001b[0m\u001b[1;33m,\u001b[0m\u001b[1;33m\u001b[0m\u001b[1;33m\u001b[0m\u001b[0m\n",
      "\u001b[1;31mMultipleObjectsReturned\u001b[0m: get() returned more than one Question -- it returned 2!"
     ]
    }
   ],
   "source": [
    "Question.objects.get(id__gt=1) # id >1"
   ]
  },
  {
   "cell_type": "code",
   "execution_count": 59,
   "id": "6793dfe5",
   "metadata": {},
   "outputs": [
    {
     "name": "stdout",
     "output_type": "stream",
     "text": [
      "조회결과가 없습니다\n"
     ]
    }
   ],
   "source": [
    "try:\n",
    "    Question.objects.get(id__gt=1) # id >1\n",
    "except:\n",
    "    print('조회결과가 없습니다')"
   ]
  },
  {
   "cell_type": "code",
   "execution_count": 67,
   "id": "d5a95daf",
   "metadata": {},
   "outputs": [
    {
     "name": "stdout",
     "output_type": "stream",
     "text": [
      "1 검정색\n",
      "2 파랑색\n",
      "3 빨강색\n",
      "4 한국\n"
     ]
    }
   ],
   "source": [
    "# 조회 조건\n",
    "# qs = Choice.objects.filter(id__gt=7) # id > 7\n",
    "# qs = Choice.objects.filter(id__gte=7)\n",
    "qs = Choice.objects.filter(id__lt=5)\n",
    "# qs = Choice.objects.filter(id__lte=5)\n",
    "for q in qs:\n",
    "    print(q.id, q.choice_text)"
   ]
  },
  {
   "cell_type": "code",
   "execution_count": 78,
   "id": "1237f4f6",
   "metadata": {},
   "outputs": [
    {
     "name": "stdout",
     "output_type": "stream",
     "text": [
      "1 좋아하는 색깔은 무엇입니까?\n",
      "2 좋아하는 동물은 무엇입니까?\n"
     ]
    }
   ],
   "source": [
    "qs = Question.objects.filter(question_text__startswith = '가고') # q_t like '가고%'\n",
    "qs = Question.objects.filter(question_text__endswith = '하세요') # q_t like '%하세요'\n",
    "qs = Question.objects.filter(question_text__contains = '하는') # q_t like '%하는%'\n",
    "for q in qs:\n",
    "    print(q.id, q.question_text)"
   ]
  },
  {
   "cell_type": "code",
   "execution_count": 82,
   "id": "30f4979d",
   "metadata": {},
   "outputs": [
    {
     "name": "stdout",
     "output_type": "stream",
     "text": [
      "SELECT \"polls_choice\".\"id\", \"polls_choice\".\"choice_text\", \"polls_choice\".\"vote\", \"polls_choice\".\"question_id\" FROM \"polls_choice\" WHERE \"polls_choice\".\"id\" BETWEEN 3 AND 7\n",
      "3 빨강색\n",
      "4 한국\n",
      "5 미국\n",
      "6 영국\n",
      "7 강아지\n"
     ]
    }
   ],
   "source": [
    "qs = Choice.objects.filter(id__in = [2,5,7,9,20]) # where id in [2,5,7,9,20]\n",
    "qs = Choice.objects.filter(id__range=(3,7)) # between 3 and 7\n",
    "print(qs.query)\n",
    "for q in qs:\n",
    "    print(q.id, q.choice_text)"
   ]
  },
  {
   "cell_type": "markdown",
   "id": "4b840913",
   "metadata": {},
   "source": [
    "### and 조건"
   ]
  },
  {
   "cell_type": "code",
   "execution_count": 86,
   "id": "e2fa3700",
   "metadata": {},
   "outputs": [
    {
     "data": {
      "text/plain": [
       "(3, '빨강색')"
      ]
     },
     "execution_count": 86,
     "metadata": {},
     "output_type": "execute_result"
    }
   ],
   "source": [
    "qs = Choice.objects.filter(pk=3, choice_text='빨강색')\n",
    "qs.first().id, qs.first().choice_text"
   ]
  },
  {
   "cell_type": "code",
   "execution_count": 88,
   "id": "870883ff",
   "metadata": {},
   "outputs": [
    {
     "name": "stdout",
     "output_type": "stream",
     "text": [
      "1 검정색\n",
      "2 파랑색\n",
      "3 빨강색\n"
     ]
    }
   ],
   "source": [
    "qs = Choice.objects.filter(pk__lt=5, choice_text__contains='색')\n",
    "for q in qs:\n",
    "    print(q.id, q.choice_text)"
   ]
  },
  {
   "cell_type": "code",
   "execution_count": 93,
   "id": "9cf8b07b",
   "metadata": {},
   "outputs": [
    {
     "name": "stdout",
     "output_type": "stream",
     "text": [
      "SELECT \"polls_choice\".\"id\", \"polls_choice\".\"choice_text\", \"polls_choice\".\"vote\", \"polls_choice\".\"question_id\" FROM \"polls_choice\" WHERE NOT (\"polls_choice\".\"id\" = 5)\n",
      "1 검정색\n",
      "2 파랑색\n",
      "3 빨강색\n",
      "4 한국\n",
      "6 영국\n",
      "7 강아지\n",
      "8 고양이\n",
      "9 거북이\n",
      "10 러시아\n",
      "11 스페인\n"
     ]
    }
   ],
   "source": [
    "# OR조건 Q(), ~Q()\n",
    "from django.db.models import Q\n",
    "# qs = Choice.objects.filter(Q(pk__gt=5)|Q(choice_text__contains='색'))\n",
    "# qs = Choice.objects.filter(Q(pk__gt=5)|~Q(choice_text__contains='색')) # Not\n",
    "qs = Choice.objects.filter(~Q(pk=5))\n",
    "print(qs.query)\n",
    "for q in qs:\n",
    "    print(q.id, q.choice_text)"
   ]
  },
  {
   "cell_type": "code",
   "execution_count": 95,
   "id": "828725f4",
   "metadata": {},
   "outputs": [
    {
     "name": "stdout",
     "output_type": "stream",
     "text": [
      "SELECT \"polls_choice\".\"id\", \"polls_choice\".\"choice_text\", \"polls_choice\".\"vote\", \"polls_choice\".\"question_id\" FROM \"polls_choice\" WHERE NOT (\"polls_choice\".\"id\" < 5)\n",
      "5 미국\n",
      "6 영국\n",
      "7 강아지\n",
      "8 고양이\n",
      "9 거북이\n",
      "10 러시아\n",
      "11 스페인\n"
     ]
    }
   ],
   "source": [
    "qs = Choice.objects.exclude(pk=5)\n",
    "qs = Choice.objects.exclude(pk__lt=5)\n",
    "print(qs.query)\n",
    "for q in qs:\n",
    "    print(q.id, q.choice_text)"
   ]
  },
  {
   "cell_type": "markdown",
   "id": "a68eea68",
   "metadata": {},
   "source": [
    "# 컬럼 선택\n",
    "select 컬럼, 컬럼\n",
    "- values(field이름,....)\n",
    "    - 개별 조회결과를 Dictionary에 넣어서 반환."
   ]
  },
  {
   "cell_type": "code",
   "execution_count": 103,
   "id": "dd1e404d",
   "metadata": {},
   "outputs": [
    {
     "name": "stdout",
     "output_type": "stream",
     "text": [
      "SELECT \"polls_choice\".\"id\", \"polls_choice\".\"choice_text\" FROM \"polls_choice\" ORDER BY \"polls_choice\".\"id\" DESC\n",
      "11 스페인\n",
      "10 러시아\n",
      "9 거북이\n",
      "8 고양이\n",
      "7 강아지\n",
      "6 영국\n",
      "5 미국\n",
      "4 한국\n",
      "3 빨강색\n",
      "2 파랑색\n",
      "1 검정색\n"
     ]
    }
   ],
   "source": [
    "qs = Choice.objects.all().values('id', 'choice_text').order_by('-id')\n",
    "print(qs.query)\n",
    "for q in qs:\n",
    "    print(q['id'], q['choice_text'])"
   ]
  },
  {
   "cell_type": "code",
   "execution_count": null,
   "id": "06b7c424",
   "metadata": {},
   "outputs": [],
   "source": []
  },
  {
   "cell_type": "code",
   "execution_count": null,
   "id": "3d6703f6",
   "metadata": {},
   "outputs": [],
   "source": []
  },
  {
   "cell_type": "code",
   "execution_count": null,
   "id": "c5626832",
   "metadata": {},
   "outputs": [],
   "source": []
  },
  {
   "cell_type": "code",
   "execution_count": null,
   "id": "85301271",
   "metadata": {},
   "outputs": [],
   "source": []
  },
  {
   "cell_type": "code",
   "execution_count": null,
   "id": "bfd740c6",
   "metadata": {},
   "outputs": [],
   "source": []
  },
  {
   "cell_type": "code",
   "execution_count": null,
   "id": "dbffd842",
   "metadata": {},
   "outputs": [],
   "source": []
  },
  {
   "cell_type": "code",
   "execution_count": null,
   "id": "188a3c90",
   "metadata": {},
   "outputs": [],
   "source": []
  }
 ],
 "metadata": {
  "kernelspec": {
   "display_name": "Python 3",
   "language": "python",
   "name": "python3"
  },
  "language_info": {
   "codemirror_mode": {
    "name": "ipython",
    "version": 3
   },
   "file_extension": ".py",
   "mimetype": "text/x-python",
   "name": "python",
   "nbconvert_exporter": "python",
   "pygments_lexer": "ipython3",
   "version": "3.8.10"
  }
 },
 "nbformat": 4,
 "nbformat_minor": 5
}
