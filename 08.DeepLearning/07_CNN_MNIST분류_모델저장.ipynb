{
 "cells": [
  {
   "cell_type": "markdown",
   "metadata": {
    "id": "MV6hCG4i2Ehe"
   },
   "source": [
    "# Convolutional Neural Network 구현\n",
    "- MNIST 손글씨 data를 이용하여 CNN을 학습하고 MLP와 결과와 비교."
   ]
  },
  {
   "cell_type": "code",
   "execution_count": 1,
   "metadata": {
    "ExecuteTime": {
     "end_time": "2020-09-20T14:28:26.719876Z",
     "start_time": "2020-09-20T14:28:26.452592Z"
    },
    "executionInfo": {
     "elapsed": 607,
     "status": "ok",
     "timestamp": 1619157566758,
     "user": {
      "displayName": "Young-il Shin",
      "photoUrl": "",
      "userId": "16669823151846080287"
     },
     "user_tz": -540
    },
    "id": "CkKW4tWW2Ehj"
   },
   "outputs": [],
   "source": [
    "import matplotlib.pyplot as plt\n",
    "# 학습결과 그래프 함수\n",
    "# loss 그래프\n",
    "def plot_loss(history):\n",
    "#     plt.figure(figsize=(10,7))\n",
    "    plt.plot(history.history['loss'], label='Train loss')\n",
    "    plt.plot(history.history['val_loss'], label='Validation loss')\n",
    "    plt.title('Loss')\n",
    "    plt.xlabel('epoch')\n",
    "    plt.ylabel('loss')\n",
    "    plt.legend()\n",
    "    plt.show()"
   ]
  },
  {
   "cell_type": "code",
   "execution_count": 2,
   "metadata": {
    "ExecuteTime": {
     "end_time": "2020-09-20T03:36:49.147163Z",
     "start_time": "2020-09-20T03:36:49.133201Z"
    },
    "executionInfo": {
     "elapsed": 595,
     "status": "ok",
     "timestamp": 1619157568216,
     "user": {
      "displayName": "Young-il Shin",
      "photoUrl": "",
      "userId": "16669823151846080287"
     },
     "user_tz": -540
    },
    "id": "9JddSJxx2Ehk"
   },
   "outputs": [],
   "source": [
    "# accuracy 그래프\n",
    "def plot_accuracy(history):\n",
    "#     plt.figure(figsize=(10,7))\n",
    "    plt.plot(history.history['accuracy'], label='Train accuracy')\n",
    "    plt.plot(history.history['val_accuracy'], label='Validation accuracy')\n",
    "    plt.title('Accuracy')\n",
    "    plt.xlabel('epoch')\n",
    "    plt.ylabel('accuracy')\n",
    "    plt.legend()\n",
    "    plt.show()"
   ]
  },
  {
   "cell_type": "markdown",
   "metadata": {
    "id": "oMlhXgV42Ehk"
   },
   "source": [
    "# MNIST CNN 적용"
   ]
  },
  {
   "cell_type": "code",
   "execution_count": 3,
   "metadata": {
    "executionInfo": {
     "elapsed": 554,
     "status": "ok",
     "timestamp": 1619157693857,
     "user": {
      "displayName": "Young-il Shin",
      "photoUrl": "",
      "userId": "16669823151846080287"
     },
     "user_tz": -540
    },
    "id": "ngmyYw3J2Ehl"
   },
   "outputs": [],
   "source": [
    "import tensorflow as tf\n",
    "from tensorflow import keras\n",
    "from tensorflow.keras import layers\n",
    "# from tensorflow.keras.layers import Dense, Conv2D, MaxPool2D, Flatten, Input\n",
    "import numpy as np"
   ]
  },
  {
   "cell_type": "code",
   "execution_count": 4,
   "metadata": {
    "executionInfo": {
     "elapsed": 615,
     "status": "ok",
     "timestamp": 1619157711799,
     "user": {
      "displayName": "Young-il Shin",
      "photoUrl": "",
      "userId": "16669823151846080287"
     },
     "user_tz": -540
    },
    "id": "rif9Mq7j2Ehl"
   },
   "outputs": [],
   "source": [
    "np.random.seed(1)\n",
    "tf.random.set_seed(1)"
   ]
  },
  {
   "cell_type": "code",
   "execution_count": 5,
   "metadata": {
    "executionInfo": {
     "elapsed": 860,
     "status": "ok",
     "timestamp": 1619157755913,
     "user": {
      "displayName": "Young-il Shin",
      "photoUrl": "",
      "userId": "16669823151846080287"
     },
     "user_tz": -540
    },
    "id": "9NPpjLpDUiaL"
   },
   "outputs": [],
   "source": [
    "# 하이퍼파라미터 설정\n",
    "LEARNING_RATE = 0.001\n",
    "N_EPOCHS = 20\n",
    "N_BATCHS = 100\n",
    "N_CLASS = 10"
   ]
  },
  {
   "cell_type": "code",
   "execution_count": 6,
   "metadata": {
    "colab": {
     "base_uri": "https://localhost:8080/"
    },
    "executionInfo": {
     "elapsed": 922,
     "status": "ok",
     "timestamp": 1619157787561,
     "user": {
      "displayName": "Young-il Shin",
      "photoUrl": "",
      "userId": "16669823151846080287"
     },
     "user_tz": -540
    },
    "id": "REOIodDQUiXv",
    "outputId": "a15927ca-f926-4c10-9962-32ed36567e35"
   },
   "outputs": [
    {
     "name": "stdout",
     "output_type": "stream",
     "text": [
      "Downloading data from https://storage.googleapis.com/tensorflow/tf-keras-datasets/mnist.npz\n",
      "11493376/11490434 [==============================] - 0s 0us/step\n"
     ]
    }
   ],
   "source": [
    "# 데이터셋 로드\n",
    "(train_image, train_label), (test_image, test_label) = keras.datasets.mnist.load_data()"
   ]
  },
  {
   "cell_type": "code",
   "execution_count": 22,
   "metadata": {
    "colab": {
     "base_uri": "https://localhost:8080/"
    },
    "executionInfo": {
     "elapsed": 587,
     "status": "ok",
     "timestamp": 1619159530023,
     "user": {
      "displayName": "Young-il Shin",
      "photoUrl": "",
      "userId": "16669823151846080287"
     },
     "user_tz": -540
    },
    "id": "96k5Z5oBUiVJ",
    "outputId": "81e9dc7f-b29a-42fb-ba14-7f4f511af4cf"
   },
   "outputs": [
    {
     "data": {
      "text/plain": [
       "((60000, 28, 28), (60000,), (10000, 28, 28), (10000,))"
      ]
     },
     "execution_count": 22,
     "metadata": {
      "tags": []
     },
     "output_type": "execute_result"
    }
   ],
   "source": [
    "train_image.shape, train_label.shape, test_image.shape, test_label.shape"
   ]
  },
  {
   "cell_type": "code",
   "execution_count": 8,
   "metadata": {
    "executionInfo": {
     "elapsed": 754,
     "status": "ok",
     "timestamp": 1619157826810,
     "user": {
      "displayName": "Young-il Shin",
      "photoUrl": "",
      "userId": "16669823151846080287"
     },
     "user_tz": -540
    },
    "id": "05T6gNJGUiQv"
   },
   "outputs": [],
   "source": [
    "#추가 변수 설정\n",
    "N_TRAIN = train_image.shape[0]\n",
    "N_TEST = test_image.shape[0]"
   ]
  },
  {
   "cell_type": "code",
   "execution_count": 29,
   "metadata": {
    "executionInfo": {
     "elapsed": 570,
     "status": "ok",
     "timestamp": 1619160253559,
     "user": {
      "displayName": "Young-il Shin",
      "photoUrl": "",
      "userId": "16669823151846080287"
     },
     "user_tz": -540
    },
    "id": "vplQGEcLUiMV"
   },
   "outputs": [],
   "source": [
    "# 전처리 : 이미지 - 정규화(0~1)\n",
    "#          label - one hot encoding(생략- loss: sparse_categorical_crossentropy)\n",
    "X_train, X_test = train_image/255., test_image/255.\n",
    "X_train =X_train[..., np.newaxis] # channel의 축을 늘리는 작업 (28,28) => (28,28,1)\n",
    "y_train, y_test = train_label, test_label\n",
    "X_test = X_test[..., np.newaxis]\n"
   ]
  },
  {
   "cell_type": "code",
   "execution_count": 30,
   "metadata": {
    "colab": {
     "base_uri": "https://localhost:8080/"
    },
    "executionInfo": {
     "elapsed": 581,
     "status": "ok",
     "timestamp": 1619160254534,
     "user": {
      "displayName": "Young-il Shin",
      "photoUrl": "",
      "userId": "16669823151846080287"
     },
     "user_tz": -540
    },
    "id": "QumGqsAbd6oH",
    "outputId": "a44c0bc3-78bd-428a-be2f-b444185e004d"
   },
   "outputs": [
    {
     "data": {
      "text/plain": [
       "(60000, 28, 28, 1)"
      ]
     },
     "execution_count": 30,
     "metadata": {
      "tags": []
     },
     "output_type": "execute_result"
    }
   ],
   "source": [
    "X_train.shape"
   ]
  },
  {
   "cell_type": "code",
   "execution_count": null,
   "metadata": {
    "id": "eRD1fI-6d84_"
   },
   "outputs": [],
   "source": []
  },
  {
   "cell_type": "code",
   "execution_count": 31,
   "metadata": {
    "executionInfo": {
     "elapsed": 579,
     "status": "ok",
     "timestamp": 1619160286390,
     "user": {
      "displayName": "Young-il Shin",
      "photoUrl": "",
      "userId": "16669823151846080287"
     },
     "user_tz": -540
    },
    "id": "RH-RVBzOUiKG"
   },
   "outputs": [],
   "source": [
    "# 데이터셋 구성\n",
    "train_dataset = tf.data.Dataset.from_tensor_slices((X_train, y_train)).shuffle(N_TRAIN).batch(N_BATCHS, drop_remainder=True).repeat()"
   ]
  },
  {
   "cell_type": "code",
   "execution_count": 32,
   "metadata": {
    "executionInfo": {
     "elapsed": 708,
     "status": "ok",
     "timestamp": 1619160287668,
     "user": {
      "displayName": "Young-il Shin",
      "photoUrl": "",
      "userId": "16669823151846080287"
     },
     "user_tz": -540
    },
    "id": "Ucsr7AxkUiHb"
   },
   "outputs": [],
   "source": [
    "test_dataset = tf.data.Dataset.from_tensor_slices((X_test, y_test)).batch(N_BATCHS)"
   ]
  },
  {
   "cell_type": "markdown",
   "metadata": {
    "id": "8E-W7awaVwQN"
   },
   "source": [
    "# CNN 모델 구성\n",
    "- Convolution layer의 filter 개수는 적은 개수에서 증가시켜 간다. (뒤로 갈수록 찾아야할 패턴이 늘어나기 때문에. filter는 패턴을 찾는 매개체)\n",
    "- input shape(입력 이미지의 size) : 3차원(height, width, channel)\n",
    "    - 흑백 : (height, width, 1)\n",
    "    - 컬러 : (height, width, 3)"
   ]
  },
  {
   "cell_type": "code",
   "execution_count": 18,
   "metadata": {
    "executionInfo": {
     "elapsed": 581,
     "status": "ok",
     "timestamp": 1619159295159,
     "user": {
      "displayName": "Young-il Shin",
      "photoUrl": "",
      "userId": "16669823151846080287"
     },
     "user_tz": -540
    },
    "id": "rMxL6mXd2Ehl"
   },
   "outputs": [],
   "source": [
    "def create_model():\n",
    "    model = keras.Sequential()\n",
    "    model.add(layers.Input((28,28,1))) # input shape\n",
    "    # Convolution layer : Conv2D -> MaxPool2D\n",
    "    model.add(layers.Conv2D(filters=32, # filter의 개수\n",
    "                            kernel_size=(3,3), # filter(kernel)의 height, width, h/w가 같은경우에는 정수)\n",
    "                            padding='same', # Padding방식: 'valid', 'same' - 대소문자는 상관없다.)\n",
    "                            strides=(1,1), # Stride설정: (상하, 좌우). 상하/좌우 같은 값이면 정수.\n",
    "                            activation='relu'))\n",
    "    # Max Pooling layer => MaxPool2D\n",
    "    model.add(layers.MaxPool2D(pool_size=(2,2),# 영역 height, width 크기 지정. h/w 같으면 정수 default=(2,2) : 2=Feature map size를 절반으로 줄인다.\n",
    "                               strides=(2,2), #default:None => pool_size를 사용. 두개값이 같으면 정수\n",
    "                               padding='same')) # 'valid' - 뒤에 남는 것은 버린다.\n",
    "    model.add(layers.Conv2D(filters=64,\n",
    "                            kernel_size=3,\n",
    "                            padding='same',\n",
    "                            strides=1,\n",
    "                            activation='relu'))\n",
    "    model.add(layers.MaxPool2D(padding='same')) # pool_size, strides : default값으로 설정.\n",
    "\n",
    "    # Classification Layer -> Fully Connected Layer\n",
    "    # Conv 거친 Feature map은 3차원 배열 => Flatten() : 1차원 배열로 변환\n",
    "    model.add(layers.Flatten())\n",
    "    model.add(layers.Dense(256, activation='relu'))\n",
    "    # 출력\n",
    "    model.add(layers.Dense(N_CLASS, activation='softmax'))\n",
    "\n",
    "    return model"
   ]
  },
  {
   "cell_type": "code",
   "execution_count": 19,
   "metadata": {
    "colab": {
     "base_uri": "https://localhost:8080/"
    },
    "executionInfo": {
     "elapsed": 588,
     "status": "ok",
     "timestamp": 1619159295387,
     "user": {
      "displayName": "Young-il Shin",
      "photoUrl": "",
      "userId": "16669823151846080287"
     },
     "user_tz": -540
    },
    "id": "3aG-yeYT2Ehl",
    "outputId": "ee9f0c44-4d6f-4438-85ea-b3eb6e8321fc"
   },
   "outputs": [
    {
     "name": "stdout",
     "output_type": "stream",
     "text": [
      "Model: \"sequential_1\"\n",
      "_________________________________________________________________\n",
      "Layer (type)                 Output Shape              Param #   \n",
      "=================================================================\n",
      "conv2d_1 (Conv2D)            (None, 28, 28, 32)        320       \n",
      "_________________________________________________________________\n",
      "max_pooling2d_1 (MaxPooling2 (None, 14, 14, 32)        0         \n",
      "_________________________________________________________________\n",
      "conv2d_2 (Conv2D)            (None, 14, 14, 64)        18496     \n",
      "_________________________________________________________________\n",
      "max_pooling2d_2 (MaxPooling2 (None, 7, 7, 64)          0         \n",
      "_________________________________________________________________\n",
      "flatten (Flatten)            (None, 3136)              0         \n",
      "_________________________________________________________________\n",
      "dense (Dense)                (None, 256)               803072    \n",
      "_________________________________________________________________\n",
      "dense_1 (Dense)              (None, 10)                2570      \n",
      "=================================================================\n",
      "Total params: 824,458\n",
      "Trainable params: 824,458\n",
      "Non-trainable params: 0\n",
      "_________________________________________________________________\n"
     ]
    }
   ],
   "source": [
    "model = create_model()\n",
    "model.summary()"
   ]
  },
  {
   "cell_type": "code",
   "execution_count": 20,
   "metadata": {
    "colab": {
     "base_uri": "https://localhost:8080/",
     "height": 865
    },
    "executionInfo": {
     "elapsed": 1255,
     "status": "ok",
     "timestamp": 1619159326085,
     "user": {
      "displayName": "Young-il Shin",
      "photoUrl": "",
      "userId": "16669823151846080287"
     },
     "user_tz": -540
    },
    "id": "z3go3GAi2Ehl",
    "outputId": "7b8bbb16-5dd6-4181-a49c-de806a0a0073"
   },
   "outputs": [
    {
     "data": {
      "image/png": "[encoded data removed]",
      "text/plain": [
       "<IPython.core.display.Image object>"
      ]
     },
     "execution_count": 20,
     "metadata": {
      "tags": []
     },
     "output_type": "execute_result"
    }
   ],
   "source": [
    "keras.utils.plot_model(model, show_shapes=True)"
   ]
  },
  {
   "cell_type": "code",
   "execution_count": 33,
   "metadata": {
    "executionInfo": {
     "elapsed": 566,
     "status": "ok",
     "timestamp": 1619160296418,
     "user": {
      "displayName": "Young-il Shin",
      "photoUrl": "",
      "userId": "16669823151846080287"
     },
     "user_tz": -540
    },
    "id": "lo5T0zbi2Ehl"
   },
   "outputs": [],
   "source": [
    "model.compile(optimizer=keras.optimizers.Adam(learning_rate=LEARNING_RATE),\n",
    "              loss='sparse_categorical_crossentropy', # sparse_categorical_crossentropy: y가 one hot encoding이 안된 경우 사용.\n",
    "              metrics=['accuracy'])"
   ]
  },
  {
   "cell_type": "code",
   "execution_count": 34,
   "metadata": {
    "colab": {
     "base_uri": "https://localhost:8080/"
    },
    "executionInfo": {
     "elapsed": 92155,
     "status": "ok",
     "timestamp": 1619160390411,
     "user": {
      "displayName": "Young-il Shin",
      "photoUrl": "",
      "userId": "16669823151846080287"
     },
     "user_tz": -540
    },
    "id": "tCQr3s8_2Ehl",
    "outputId": "74603418-3e67-4bb4-dc0f-4dc74fdd80e4"
   },
   "outputs": [
    {
     "name": "stdout",
     "output_type": "stream",
     "text": [
      "Epoch 1/20\n",
      "600/600 [==============================] - 35s 5ms/step - loss: 0.3541 - accuracy: 0.8904 - val_loss: 0.0493 - val_accuracy: 0.9830\n",
      "Epoch 2/20\n",
      "600/600 [==============================] - 3s 5ms/step - loss: 0.0453 - accuracy: 0.9855 - val_loss: 0.0453 - val_accuracy: 0.9849\n",
      "Epoch 3/20\n",
      "600/600 [==============================] - 3s 5ms/step - loss: 0.0290 - accuracy: 0.9915 - val_loss: 0.0381 - val_accuracy: 0.9872\n",
      "Epoch 4/20\n",
      "600/600 [==============================] - 3s 5ms/step - loss: 0.0220 - accuracy: 0.9930 - val_loss: 0.0259 - val_accuracy: 0.9904\n",
      "Epoch 5/20\n",
      "600/600 [==============================] - 3s 5ms/step - loss: 0.0150 - accuracy: 0.9953 - val_loss: 0.0284 - val_accuracy: 0.9909\n",
      "Epoch 6/20\n",
      "600/600 [==============================] - 3s 5ms/step - loss: 0.0112 - accuracy: 0.9965 - val_loss: 0.0277 - val_accuracy: 0.9916\n",
      "Epoch 7/20\n",
      "600/600 [==============================] - 3s 5ms/step - loss: 0.0085 - accuracy: 0.9975 - val_loss: 0.0263 - val_accuracy: 0.9919\n",
      "Epoch 8/20\n",
      "600/600 [==============================] - 3s 5ms/step - loss: 0.0079 - accuracy: 0.9974 - val_loss: 0.0340 - val_accuracy: 0.9888\n",
      "Epoch 9/20\n",
      "600/600 [==============================] - 3s 5ms/step - loss: 0.0063 - accuracy: 0.9979 - val_loss: 0.0384 - val_accuracy: 0.9891\n",
      "Epoch 10/20\n",
      "600/600 [==============================] - 3s 5ms/step - loss: 0.0064 - accuracy: 0.9978 - val_loss: 0.0474 - val_accuracy: 0.9890\n",
      "Epoch 11/20\n",
      "600/600 [==============================] - 3s 5ms/step - loss: 0.0054 - accuracy: 0.9983 - val_loss: 0.0352 - val_accuracy: 0.9914\n",
      "Epoch 12/20\n",
      "600/600 [==============================] - 3s 5ms/step - loss: 0.0033 - accuracy: 0.9989 - val_loss: 0.0301 - val_accuracy: 0.9923\n",
      "Epoch 13/20\n",
      "600/600 [==============================] - 3s 5ms/step - loss: 0.0034 - accuracy: 0.9992 - val_loss: 0.0365 - val_accuracy: 0.9914\n",
      "Epoch 14/20\n",
      "600/600 [==============================] - 3s 5ms/step - loss: 0.0046 - accuracy: 0.9986 - val_loss: 0.0316 - val_accuracy: 0.9908\n",
      "Epoch 15/20\n",
      "600/600 [==============================] - 3s 5ms/step - loss: 0.0026 - accuracy: 0.9992 - val_loss: 0.0442 - val_accuracy: 0.9901\n",
      "Epoch 16/20\n",
      "600/600 [==============================] - 3s 5ms/step - loss: 0.0052 - accuracy: 0.9985 - val_loss: 0.0515 - val_accuracy: 0.9883\n",
      "Epoch 17/20\n",
      "600/600 [==============================] - 3s 5ms/step - loss: 0.0030 - accuracy: 0.9990 - val_loss: 0.0420 - val_accuracy: 0.9909\n",
      "Epoch 18/20\n",
      "600/600 [==============================] - 3s 5ms/step - loss: 0.0022 - accuracy: 0.9994 - val_loss: 0.0344 - val_accuracy: 0.9920\n",
      "Epoch 19/20\n",
      "600/600 [==============================] - 3s 5ms/step - loss: 0.0012 - accuracy: 0.9997 - val_loss: 0.0400 - val_accuracy: 0.9909\n",
      "Epoch 20/20\n",
      "600/600 [==============================] - 3s 5ms/step - loss: 0.0029 - accuracy: 0.9988 - val_loss: 0.0438 - val_accuracy: 0.9913\n"
     ]
    }
   ],
   "source": [
    "steps_per_epoch = N_TRAIN//N_BATCHS\n",
    "validation_steps = int(np.ceil(N_TEST/N_BATCHS))\n",
    "\n",
    "history = model.fit(train_dataset,\n",
    "                    epochs=N_EPOCHS,\n",
    "                    steps_per_epoch=steps_per_epoch,\n",
    "                    validation_data=test_dataset,\n",
    "                    validation_steps=validation_steps)"
   ]
  },
  {
   "cell_type": "code",
   "execution_count": 35,
   "metadata": {
    "colab": {
     "base_uri": "https://localhost:8080/",
     "height": 295
    },
    "executionInfo": {
     "elapsed": 705,
     "status": "ok",
     "timestamp": 1619160485719,
     "user": {
      "displayName": "Young-il Shin",
      "photoUrl": "",
      "userId": "16669823151846080287"
     },
     "user_tz": -540
    },
    "id": "jR7EYAE8fBW3",
    "outputId": "1765abd7-83c1-416f-a0ed-da1c1502b9c9"
   },
   "outputs": [
    {
     "data": {
      "image/png": "[encoded data removed]",
      "text/plain": [
       "<Figure size 432x288 with 1 Axes>"
      ]
     },
     "metadata": {
      "needs_background": "light",
      "tags": []
     },
     "output_type": "display_data"
    }
   ],
   "source": [
    "plot_loss(history)"
   ]
  },
  {
   "cell_type": "code",
   "execution_count": 36,
   "metadata": {
    "colab": {
     "base_uri": "https://localhost:8080/",
     "height": 295
    },
    "executionInfo": {
     "elapsed": 658,
     "status": "ok",
     "timestamp": 1619160492897,
     "user": {
      "displayName": "Young-il Shin",
      "photoUrl": "",
      "userId": "16669823151846080287"
     },
     "user_tz": -540
    },
    "id": "PXiZYJG3fBUp",
    "outputId": "bedad9b2-a251-4194-dfe6-d6434f0337e1"
   },
   "outputs": [
    {
     "data": {
      "image/png": "[encoded data removed]",
      "text/plain": [
       "<Figure size 432x288 with 1 Axes>"
      ]
     },
     "metadata": {
      "needs_background": "light",
      "tags": []
     },
     "output_type": "display_data"
    }
   ],
   "source": [
    "plot_accuracy(history)"
   ]
  },
  {
   "cell_type": "code",
   "execution_count": 37,
   "metadata": {
    "colab": {
     "base_uri": "https://localhost:8080/"
    },
    "executionInfo": {
     "elapsed": 746,
     "status": "ok",
     "timestamp": 1619160522279,
     "user": {
      "displayName": "Young-il Shin",
      "photoUrl": "",
      "userId": "16669823151846080287"
     },
     "user_tz": -540
    },
    "id": "YldWR41UfBRs",
    "outputId": "a53e1817-f03a-4069-a235-bd98179f92f0"
   },
   "outputs": [
    {
     "data": {
      "text/plain": [
       "(5, 28, 28, 1)"
      ]
     },
     "execution_count": 37,
     "metadata": {
      "tags": []
     },
     "output_type": "execute_result"
    }
   ],
   "source": [
    "X_test[:5].shape"
   ]
  },
  {
   "cell_type": "code",
   "execution_count": 38,
   "metadata": {
    "colab": {
     "base_uri": "https://localhost:8080/"
    },
    "executionInfo": {
     "elapsed": 1101,
     "status": "ok",
     "timestamp": 1619160547999,
     "user": {
      "displayName": "Young-il Shin",
      "photoUrl": "",
      "userId": "16669823151846080287"
     },
     "user_tz": -540
    },
    "id": "FWLTPmhmfRlo",
    "outputId": "93f29a48-ab1a-401d-890f-35320e45ea4a"
   },
   "outputs": [
    {
     "name": "stdout",
     "output_type": "stream",
     "text": [
      "100/100 [==============================] - 0s 3ms/step - loss: 0.0438 - accuracy: 0.9913\n"
     ]
    },
    {
     "data": {
      "text/plain": [
       "[0.04380021244287491, 0.9912999868392944]"
      ]
     },
     "execution_count": 38,
     "metadata": {
      "tags": []
     },
     "output_type": "execute_result"
    }
   ],
   "source": [
    "model.evaluate(test_dataset)"
   ]
  },
  {
   "cell_type": "code",
   "execution_count": null,
   "metadata": {
    "id": "aSBvsRNgfBLT"
   },
   "outputs": [],
   "source": [
    "X_test[:10]"
   ]
  },
  {
   "cell_type": "code",
   "execution_count": 39,
   "metadata": {
    "executionInfo": {
     "elapsed": 590,
     "status": "ok",
     "timestamp": 1619160610472,
     "user": {
      "displayName": "Young-il Shin",
      "photoUrl": "",
      "userId": "16669823151846080287"
     },
     "user_tz": -540
    },
    "id": "r3SUbHg-fXft"
   },
   "outputs": [],
   "source": [
    "# 새로운 데이터 추론\n",
    "pred = model.predict(X_test[:10])"
   ]
  },
  {
   "cell_type": "code",
   "execution_count": 42,
   "metadata": {
    "executionInfo": {
     "elapsed": 628,
     "status": "ok",
     "timestamp": 1619160643783,
     "user": {
      "displayName": "Young-il Shin",
      "photoUrl": "",
      "userId": "16669823151846080287"
     },
     "user_tz": -540
    },
    "id": "Jwx9e0XlfZZa"
   },
   "outputs": [],
   "source": [
    "pred_class = np.argmax(pred, axis=1)"
   ]
  },
  {
   "cell_type": "code",
   "execution_count": 43,
   "metadata": {
    "colab": {
     "base_uri": "https://localhost:8080/"
    },
    "executionInfo": {
     "elapsed": 756,
     "status": "ok",
     "timestamp": 1619160654022,
     "user": {
      "displayName": "Young-il Shin",
      "photoUrl": "",
      "userId": "16669823151846080287"
     },
     "user_tz": -540
    },
    "id": "kzkIhzWpfXX1",
    "outputId": "4b801e6a-6e83-451e-9e05-f3dce31a42a7"
   },
   "outputs": [
    {
     "data": {
      "text/plain": [
       "(array([7, 2, 1, 0, 4, 1, 4, 9, 5, 9]),\n",
       " array([7, 2, 1, 0, 4, 1, 4, 9, 5, 9], dtype=uint8))"
      ]
     },
     "execution_count": 43,
     "metadata": {
      "tags": []
     },
     "output_type": "execute_result"
    }
   ],
   "source": [
    "pred_class, y_test[:10]"
   ]
  },
  {
   "cell_type": "markdown",
   "metadata": {
    "id": "Hm85XGYA2Ehm"
   },
   "source": [
    "### prediction error가 발생한 example 확인"
   ]
  },
  {
   "cell_type": "code",
   "execution_count": 44,
   "metadata": {
    "colab": {
     "base_uri": "https://localhost:8080/"
    },
    "executionInfo": {
     "elapsed": 959,
     "status": "ok",
     "timestamp": 1619161115650,
     "user": {
      "displayName": "Young-il Shin",
      "photoUrl": "",
      "userId": "16669823151846080287"
     },
     "user_tz": -540
    },
    "id": "lBOk0Dm12Ehm",
    "outputId": "3300337e-36ec-4080-de66-cc91973616a2"
   },
   "outputs": [
    {
     "data": {
      "text/plain": [
       "array([7, 2, 1, 0, 4, 1, 4, 9, 5, 9])"
      ]
     },
     "execution_count": 44,
     "metadata": {
      "tags": []
     },
     "output_type": "execute_result"
    }
   ],
   "source": [
    "pred = model.predict(X_test)\n",
    "pred_class = np.argmax(pred, axis=1)\n",
    "pred_class[:10]"
   ]
  },
  {
   "cell_type": "code",
   "execution_count": 53,
   "metadata": {
    "colab": {
     "base_uri": "https://localhost:8080/"
    },
    "executionInfo": {
     "elapsed": 568,
     "status": "ok",
     "timestamp": 1619161683015,
     "user": {
      "displayName": "Young-il Shin",
      "photoUrl": "",
      "userId": "16669823151846080287"
     },
     "user_tz": -540
    },
    "id": "tx6j_YTDjoQn",
    "outputId": "c6eee21f-1b90-40b4-92ba-fe9a0af0c03a"
   },
   "outputs": [
    {
     "data": {
      "text/plain": [
       "(array([ 115,  247,  321,  445,  646,  659,  674,  938,  947, 1014, 1033,\n",
       "        1039, 1112, 1226, 1232, 1242, 1247, 1319, 1393, 1414, 1549, 1554,\n",
       "        1709, 1732, 1878, 1901, 1982, 2035, 2098, 2118, 2129, 2130, 2135,\n",
       "        2293, 2387, 2414, 2462, 2597, 2648, 2654, 2659, 2678, 2771, 2810,\n",
       "        2896, 2939, 2953, 3030, 3369, 3422, 3503, 3520, 3558, 3762, 3767,\n",
       "        3780, 3808, 3941, 4176, 4201, 4265, 4284, 4360, 4497, 4740, 4761,\n",
       "        4823, 4838, 4860, 5331, 5937, 6166, 6173, 6560, 6597, 6625, 6651,\n",
       "        7849, 8325, 9009, 9015, 9024, 9587, 9642, 9669, 9692, 9729]),)"
      ]
     },
     "execution_count": 53,
     "metadata": {
      "tags": []
     },
     "output_type": "execute_result"
    }
   ],
   "source": [
    "np.where(pred_class!=y_test)"
   ]
  },
  {
   "cell_type": "code",
   "execution_count": 48,
   "metadata": {
    "executionInfo": {
     "elapsed": 575,
     "status": "ok",
     "timestamp": 1619161238138,
     "user": {
      "displayName": "Young-il Shin",
      "photoUrl": "",
      "userId": "16669823151846080287"
     },
     "user_tz": -540
    },
    "id": "QzjwhasX2Ehm"
   },
   "outputs": [],
   "source": [
    "# pred_class: 예측결과, y_test: 실제 정답\n",
    "# 예측이 틀린 index를 조회\n",
    "#y_test[:10]\n",
    "error_idx = np.where(pred_class!=y_test)[0]"
   ]
  },
  {
   "cell_type": "code",
   "execution_count": 50,
   "metadata": {
    "colab": {
     "base_uri": "https://localhost:8080/"
    },
    "executionInfo": {
     "elapsed": 574,
     "status": "ok",
     "timestamp": 1619161262200,
     "user": {
      "displayName": "Young-il Shin",
      "photoUrl": "",
      "userId": "16669823151846080287"
     },
     "user_tz": -540
    },
    "id": "iOt2Ptq92Ehm",
    "outputId": "e53e3e35-c4c3-492a-9fe9-514370c3b86a"
   },
   "outputs": [
    {
     "data": {
      "text/plain": [
       "(87, array([ 115,  247,  321,  445,  646,  659,  674,  938,  947, 1014, 1033,\n",
       "        1039, 1112, 1226, 1232, 1242, 1247, 1319, 1393, 1414, 1549, 1554,\n",
       "        1709, 1732, 1878, 1901, 1982, 2035, 2098, 2118, 2129, 2130, 2135,\n",
       "        2293, 2387, 2414, 2462, 2597, 2648, 2654, 2659, 2678, 2771, 2810,\n",
       "        2896, 2939, 2953, 3030, 3369, 3422, 3503, 3520, 3558, 3762, 3767,\n",
       "        3780, 3808, 3941, 4176, 4201, 4265, 4284, 4360, 4497, 4740, 4761,\n",
       "        4823, 4838, 4860, 5331, 5937, 6166, 6173, 6560, 6597, 6625, 6651,\n",
       "        7849, 8325, 9009, 9015, 9024, 9587, 9642, 9669, 9692, 9729]))"
      ]
     },
     "execution_count": 50,
     "metadata": {
      "tags": []
     },
     "output_type": "execute_result"
    }
   ],
   "source": [
    "error_idx.size, error_idx"
   ]
  },
  {
   "cell_type": "code",
   "execution_count": 52,
   "metadata": {
    "colab": {
     "base_uri": "https://localhost:8080/",
     "height": 561
    },
    "executionInfo": {
     "elapsed": 959,
     "status": "ok",
     "timestamp": 1619161430756,
     "user": {
      "displayName": "Young-il Shin",
      "photoUrl": "",
      "userId": "16669823151846080287"
     },
     "user_tz": -540
    },
    "id": "BtLJaihch_Bg",
    "outputId": "685befa3-6e1b-4fce-a825-c23cbd36267c"
   },
   "outputs": [
    {
     "data": {
      "image/png": "[encoded data removed]",
      "text/plain": [
       "<Figure size 1080x720 with 10 Axes>"
      ]
     },
     "metadata": {
      "needs_background": "light",
      "tags": []
     },
     "output_type": "display_data"
    }
   ],
   "source": [
    "# 틀린것 10개 확인\n",
    "plt.figure(figsize=(15,10))\n",
    "for i in range(10):\n",
    "    err = error_idx[i]\n",
    "    plt.subplot(2,5,i+1)\n",
    "    plt.imshow(test_image[err], cmap='gray')\n",
    "    plt.title(f'label:{y_test[err]}, pred:{pred_class[err]}')\n",
    "    plt.axis('off')\n",
    "plt.tight_layout()\n",
    "plt.show()"
   ]
  },
  {
   "cell_type": "code",
   "execution_count": null,
   "metadata": {
    "id": "PIXzD2g5h-9V"
   },
   "outputs": [],
   "source": []
  },
  {
   "cell_type": "markdown",
   "metadata": {
    "id": "qvuK2m9T2Ehm"
   },
   "source": [
    "# 모델 저장\n",
    "1. 학습이 끝난 모델의 파라미터만 저장\n",
    "1. 모델 전체 저장\n",
    "1. Callback 함수를 이용해 학습시 가장 좋은 지표의 모델 저장"
   ]
  },
  {
   "cell_type": "markdown",
   "metadata": {
    "id": "e5i2RMFj2Ehm"
   },
   "source": [
    "## 텐서플로 파일 타입\n",
    "- checkpoint \n",
    "    - 모델의 weight를 저장하기 위한 파일타입\n",
    "- SavedModel \n",
    "    - 모델의 구조와 파라미터들을 모두 저장하는 형식"
   ]
  },
  {
   "cell_type": "markdown",
   "metadata": {
    "id": "EouT-NhL2Ehm"
   },
   "source": [
    "## 학습한 Weight (파라미터) 저장 및 불러오기\n",
    "- 가중치를 저장하여 나중에 재학습 없이 학습된 가중치를 사용할 수 있다.\n",
    "- 저장: `model.save_weights(\"저장경로\")`\n",
    "- 불러오기: `model.load_weights('불러올경로')`\n",
    "- 저장형식\n",
    "    - Tensorflow Checkpoint (기본방식)\n",
    "    - HDF5\n",
    "        - `save_weights(.., save_format='h5')`"
   ]
  },
  {
   "cell_type": "code",
   "execution_count": null,
   "metadata": {
    "id": "VBSmQJjz2Ehn"
   },
   "outputs": [],
   "source": []
  },
  {
   "cell_type": "code",
   "execution_count": 54,
   "metadata": {
    "colab": {
     "base_uri": "https://localhost:8080/"
    },
    "executionInfo": {
     "elapsed": 27275,
     "status": "ok",
     "timestamp": 1619162132168,
     "user": {
      "displayName": "Young-il Shin",
      "photoUrl": "",
      "userId": "16669823151846080287"
     },
     "user_tz": -540
    },
    "id": "jzjnuXI8lK_L",
    "outputId": "b29ed129-fd60-412f-cfbc-3e5126afcea7"
   },
   "outputs": [
    {
     "name": "stdout",
     "output_type": "stream",
     "text": [
      "Mounted at /content/drive\n"
     ]
    }
   ],
   "source": [
    "from google.colab import drive\n",
    "drive.mount('/content/drive')"
   ]
  },
  {
   "cell_type": "code",
   "execution_count": 57,
   "metadata": {
    "colab": {
     "base_uri": "https://localhost:8080/"
    },
    "executionInfo": {
     "elapsed": 618,
     "status": "ok",
     "timestamp": 1619162445369,
     "user": {
      "displayName": "Young-il Shin",
      "photoUrl": "",
      "userId": "16669823151846080287"
     },
     "user_tz": -540
    },
    "id": "rdjizGA12Ehn",
    "outputId": "12fd993d-7353-47d0-8e1d-eab36fd7499d"
   },
   "outputs": [
    {
     "name": "stdout",
     "output_type": "stream",
     "text": [
      "/content/drive/MyDrive/saved_models/mnist/weights\n"
     ]
    }
   ],
   "source": [
    "# 저장할 경로를 생성\n",
    "import os\n",
    "base_dir = '/content/drive/MyDrive/saved_models' # 모델 / 파라미터들을 저장할 root\n",
    "weight_dir = os.path.join(base_dir, 'mnist', 'weights')\n",
    "print(weight_dir)\n",
    "if not os.path.isdir(weight_dir):\n",
    "    os.makedirs(weight_dir, exist_ok=True) # makedirs: 마지막 하위폴더만 생성하는게 아닌 전체경로의 미생성폴더를 생성, mkdir: 마지막폴더만 생성.\n",
    "    # exist_ok=False(기본): 이미경로가 있으면 예외를 발생. True: 예외를 발생\n",
    "weight_path = os.path.join(weight_dir, 'mnist_cnn_weights.ckpt') # 저장할 디렉토리 + 파일명."
   ]
  },
  {
   "cell_type": "code",
   "execution_count": 58,
   "metadata": {
    "executionInfo": {
     "elapsed": 592,
     "status": "ok",
     "timestamp": 1619162466845,
     "user": {
      "displayName": "Young-il Shin",
      "photoUrl": "",
      "userId": "16669823151846080287"
     },
     "user_tz": -540
    },
    "id": "wOGTXTI32Ehn"
   },
   "outputs": [],
   "source": [
    "model.save_weights(weight_path)"
   ]
  },
  {
   "cell_type": "code",
   "execution_count": 59,
   "metadata": {
    "executionInfo": {
     "elapsed": 571,
     "status": "ok",
     "timestamp": 1619162542894,
     "user": {
      "displayName": "Young-il Shin",
      "photoUrl": "",
      "userId": "16669823151846080287"
     },
     "user_tz": -540
    },
    "id": "M4DFBHVQ2Ehn"
   },
   "outputs": [],
   "source": [
    "new_model1 = create_model()\n",
    "new_model1.compile(optimizer=keras.optimizers.Adam(learning_rate=LEARNING_RATE),\n",
    "              loss='sparse_categorical_crossentropy', # sparse_categorical_crossentropy: y가 one hot encoding이 안된 경우 사용.\n",
    "              metrics=['accuracy'])"
   ]
  },
  {
   "cell_type": "code",
   "execution_count": 60,
   "metadata": {
    "colab": {
     "base_uri": "https://localhost:8080/"
    },
    "executionInfo": {
     "elapsed": 953,
     "status": "ok",
     "timestamp": 1619162554320,
     "user": {
      "displayName": "Young-il Shin",
      "photoUrl": "",
      "userId": "16669823151846080287"
     },
     "user_tz": -540
    },
    "id": "vpyIHFsv2Ehn",
    "outputId": "2119e04f-8f46-4c1d-b6a1-d7f949fa1ebe"
   },
   "outputs": [
    {
     "name": "stdout",
     "output_type": "stream",
     "text": [
      "100/100 [==============================] - 1s 3ms/step - loss: 2.2990 - accuracy: 0.1396\n"
     ]
    },
    {
     "data": {
      "text/plain": [
       "[2.2997958660125732, 0.13109999895095825]"
      ]
     },
     "execution_count": 60,
     "metadata": {
      "tags": []
     },
     "output_type": "execute_result"
    }
   ],
   "source": [
    "new_model1.evaluate(test_dataset)"
   ]
  },
  {
   "cell_type": "code",
   "execution_count": 61,
   "metadata": {
    "colab": {
     "base_uri": "https://localhost:8080/"
    },
    "executionInfo": {
     "elapsed": 584,
     "status": "ok",
     "timestamp": 1619162599904,
     "user": {
      "displayName": "Young-il Shin",
      "photoUrl": "",
      "userId": "16669823151846080287"
     },
     "user_tz": -540
    },
    "id": "oP1J9kr-nB3U",
    "outputId": "3e0f4689-625f-4891-b0a6-e278def6b894"
   },
   "outputs": [
    {
     "data": {
      "text/plain": [
       "<tensorflow.python.training.tracking.util.CheckpointLoadStatus at 0x7fe2561e9250>"
      ]
     },
     "execution_count": 61,
     "metadata": {
      "tags": []
     },
     "output_type": "execute_result"
    }
   ],
   "source": [
    "# 저장된 weight들을 생성된 모델(네트워크)에 저장\n",
    "new_model1.load_weights(weight_path)"
   ]
  },
  {
   "cell_type": "code",
   "execution_count": 62,
   "metadata": {
    "colab": {
     "base_uri": "https://localhost:8080/"
    },
    "executionInfo": {
     "elapsed": 993,
     "status": "ok",
     "timestamp": 1619162610977,
     "user": {
      "displayName": "Young-il Shin",
      "photoUrl": "",
      "userId": "16669823151846080287"
     },
     "user_tz": -540
    },
    "id": "ToM9mxipnB1G",
    "outputId": "0c831cba-d4d2-40b3-cb3b-291dd1ee08aa"
   },
   "outputs": [
    {
     "name": "stdout",
     "output_type": "stream",
     "text": [
      "100/100 [==============================] - 0s 3ms/step - loss: 0.0438 - accuracy: 0.9913\n"
     ]
    },
    {
     "data": {
      "text/plain": [
       "[0.04380021244287491, 0.9912999868392944]"
      ]
     },
     "execution_count": 62,
     "metadata": {
      "tags": []
     },
     "output_type": "execute_result"
    }
   ],
   "source": [
    "new_model1.evaluate(test_dataset)"
   ]
  },
  {
   "cell_type": "code",
   "execution_count": null,
   "metadata": {
    "id": "-ygD0RkanByq"
   },
   "outputs": [],
   "source": [
    "# new_model1.fit() # 이어서 학습"
   ]
  },
  {
   "cell_type": "code",
   "execution_count": 64,
   "metadata": {
    "colab": {
     "base_uri": "https://localhost:8080/"
    },
    "executionInfo": {
     "elapsed": 574,
     "status": "ok",
     "timestamp": 1619163085121,
     "user": {
      "displayName": "Young-il Shin",
      "photoUrl": "",
      "userId": "16669823151846080287"
     },
     "user_tz": -540
    },
    "id": "IW-T5vwTnBq2",
    "outputId": "519269e8-763f-4623-e31c-61ee73e4487a"
   },
   "outputs": [
    {
     "name": "stdout",
     "output_type": "stream",
     "text": [
      "<class 'str'> /content/drive/MyDrive/saved_models/mnist/weight_h5/mnist_cnn_weight.h5\n"
     ]
    }
   ],
   "source": [
    "# hdf5 형식으로 저장/ 불러오기\n",
    "weight_h5_dir = os.path.join(base_dir, 'mnist', 'weight_h5')\n",
    "if not os.path.isdir(weight_h5_dir):\n",
    "    os.makedirs(weight_h5_dir)\n",
    "\n",
    "weight_h5_path = os.path.join(weight_h5_dir,'mnist_cnn_weight.h5')\n",
    "print(type(weight_h5_path), weight_h5_path)"
   ]
  },
  {
   "cell_type": "code",
   "execution_count": 65,
   "metadata": {
    "executionInfo": {
     "elapsed": 640,
     "status": "ok",
     "timestamp": 1619163105732,
     "user": {
      "displayName": "Young-il Shin",
      "photoUrl": "",
      "userId": "16669823151846080287"
     },
     "user_tz": -540
    },
    "id": "gOGsZfp4pAt7"
   },
   "outputs": [],
   "source": [
    "model.save_weights(weight_h5_path, save_format='h5')"
   ]
  },
  {
   "cell_type": "code",
   "execution_count": 66,
   "metadata": {
    "executionInfo": {
     "elapsed": 635,
     "status": "ok",
     "timestamp": 1619163144185,
     "user": {
      "displayName": "Young-il Shin",
      "photoUrl": "",
      "userId": "16669823151846080287"
     },
     "user_tz": -540
    },
    "id": "POwXaxU0pAr6"
   },
   "outputs": [],
   "source": [
    "new_model2 = create_model()\n",
    "new_model2.compile(optimizer=keras.optimizers.Adam(learning_rate=LEARNING_RATE),\n",
    "              loss='sparse_categorical_crossentropy', # sparse_categorical_crossentropy: y가 one hot encoding이 안된 경우 사용.\n",
    "              metrics=['accuracy'])"
   ]
  },
  {
   "cell_type": "code",
   "execution_count": 67,
   "metadata": {
    "colab": {
     "base_uri": "https://localhost:8080/"
    },
    "executionInfo": {
     "elapsed": 934,
     "status": "ok",
     "timestamp": 1619163155117,
     "user": {
      "displayName": "Young-il Shin",
      "photoUrl": "",
      "userId": "16669823151846080287"
     },
     "user_tz": -540
    },
    "id": "tCx7qsEJpApb",
    "outputId": "85b5ff92-7aa4-4da6-c66b-5652758bf15f"
   },
   "outputs": [
    {
     "name": "stdout",
     "output_type": "stream",
     "text": [
      "100/100 [==============================] - 1s 3ms/step - loss: 2.3123 - accuracy: 0.0928\n"
     ]
    },
    {
     "data": {
      "text/plain": [
       "[2.3145878314971924, 0.0908999964594841]"
      ]
     },
     "execution_count": 67,
     "metadata": {
      "tags": []
     },
     "output_type": "execute_result"
    }
   ],
   "source": [
    "new_model2.evaluate(test_dataset)"
   ]
  },
  {
   "cell_type": "code",
   "execution_count": 68,
   "metadata": {
    "colab": {
     "base_uri": "https://localhost:8080/"
    },
    "executionInfo": {
     "elapsed": 1547,
     "status": "ok",
     "timestamp": 1619163186634,
     "user": {
      "displayName": "Young-il Shin",
      "photoUrl": "",
      "userId": "16669823151846080287"
     },
     "user_tz": -540
    },
    "id": "7YqH2cF_pAnA",
    "outputId": "087a3590-3a3c-4d9e-eff1-dfcf33173197"
   },
   "outputs": [
    {
     "name": "stdout",
     "output_type": "stream",
     "text": [
      "100/100 [==============================] - 0s 3ms/step - loss: 0.0438 - accuracy: 0.9913\n"
     ]
    },
    {
     "data": {
      "text/plain": [
       "[0.04380021244287491, 0.9912999868392944]"
      ]
     },
     "execution_count": 68,
     "metadata": {
      "tags": []
     },
     "output_type": "execute_result"
    }
   ],
   "source": [
    "new_model2.load_weights(weight_h5_path)\n",
    "new_model2.evaluate(test_dataset)"
   ]
  },
  {
   "cell_type": "code",
   "execution_count": null,
   "metadata": {
    "id": "wp6BN0nwpAkn"
   },
   "outputs": [],
   "source": []
  },
  {
   "cell_type": "code",
   "execution_count": null,
   "metadata": {
    "id": "-9acASkDpAXm"
   },
   "outputs": [],
   "source": []
  },
  {
   "cell_type": "markdown",
   "metadata": {
    "id": "ONbBAydI2Ehn"
   },
   "source": [
    "## 전체 모델 저장하고 불러오기\n",
    "- 저장: `model.save('저장할디렉토리')`\n",
    "- 불러오기: `tf.keras.models.load_model('저장파일경로')`\n",
    "- 저장 형식\n",
    "    - Tensorflow SavedModel 형식(기본방식)\n",
    "        - 모델 아키텍처 및 훈련 구성(옵티마이저, 손실 및 메트릭 포함)은 saved_model.pb 에 저장된다.\n",
    "        - 파라미터는 variables/ 디렉토리에 저장된다.\n",
    "        - https://www.tensorflow.org/guide/saved_model?hl=ko#the_savedmodel_format_on_disk\n",
    "    - HDF5 형식\n",
    "        - `save(..., save_format='h5')` 로 지정한다.\n",
    "    "
   ]
  },
  {
   "cell_type": "code",
   "execution_count": 70,
   "metadata": {
    "colab": {
     "base_uri": "https://localhost:8080/"
    },
    "executionInfo": {
     "elapsed": 557,
     "status": "ok",
     "timestamp": 1619163389987,
     "user": {
      "displayName": "Young-il Shin",
      "photoUrl": "",
      "userId": "16669823151846080287"
     },
     "user_tz": -540
    },
    "id": "VeqZCS8P2Ehn",
    "outputId": "387028fc-9ad1-4699-edb6-b8af323a52a2"
   },
   "outputs": [
    {
     "name": "stdout",
     "output_type": "stream",
     "text": [
      "/content/drive/MyDrive/saved_models/mnist/models/saved_model\n"
     ]
    }
   ],
   "source": [
    "model_dir = os.path.join(base_dir, 'mnist', 'models', 'saved_model')\n",
    "if not os.path.isdir(model_dir):\n",
    "    os.makedirs(model_dir, exist_ok=True)\n",
    "print(model_dir)"
   ]
  },
  {
   "cell_type": "code",
   "execution_count": 71,
   "metadata": {
    "colab": {
     "base_uri": "https://localhost:8080/"
    },
    "executionInfo": {
     "elapsed": 1395,
     "status": "ok",
     "timestamp": 1619163414539,
     "user": {
      "displayName": "Young-il Shin",
      "photoUrl": "",
      "userId": "16669823151846080287"
     },
     "user_tz": -540
    },
    "id": "W17HqWibqJXm",
    "outputId": "425b2881-da75-4332-ca2e-1660d72368a3"
   },
   "outputs": [
    {
     "name": "stdout",
     "output_type": "stream",
     "text": [
      "INFO:tensorflow:Assets written to: /content/drive/MyDrive/saved_models/mnist/models/saved_model/assets\n"
     ]
    }
   ],
   "source": [
    "model.save(model_dir) # SavedModel 형식으로 저장시 디렉토리를 지정."
   ]
  },
  {
   "cell_type": "code",
   "execution_count": 72,
   "metadata": {
    "executionInfo": {
     "elapsed": 1203,
     "status": "ok",
     "timestamp": 1619163515478,
     "user": {
      "displayName": "Young-il Shin",
      "photoUrl": "",
      "userId": "16669823151846080287"
     },
     "user_tz": -540
    },
    "id": "UB5cFwkN2Ehn"
   },
   "outputs": [],
   "source": [
    "new_model3 = keras.models.load_model(model_dir)"
   ]
  },
  {
   "cell_type": "code",
   "execution_count": 73,
   "metadata": {
    "colab": {
     "base_uri": "https://localhost:8080/"
    },
    "executionInfo": {
     "elapsed": 874,
     "status": "ok",
     "timestamp": 1619163522052,
     "user": {
      "displayName": "Young-il Shin",
      "photoUrl": "",
      "userId": "16669823151846080287"
     },
     "user_tz": -540
    },
    "id": "TvScCbp02Eho",
    "outputId": "b1e8dc1d-b41d-4bf4-9350-16dbf0b5e30d"
   },
   "outputs": [
    {
     "name": "stdout",
     "output_type": "stream",
     "text": [
      "Model: \"sequential_1\"\n",
      "_________________________________________________________________\n",
      "Layer (type)                 Output Shape              Param #   \n",
      "=================================================================\n",
      "conv2d_1 (Conv2D)            (None, 28, 28, 32)        320       \n",
      "_________________________________________________________________\n",
      "max_pooling2d_1 (MaxPooling2 (None, 14, 14, 32)        0         \n",
      "_________________________________________________________________\n",
      "conv2d_2 (Conv2D)            (None, 14, 14, 64)        18496     \n",
      "_________________________________________________________________\n",
      "max_pooling2d_2 (MaxPooling2 (None, 7, 7, 64)          0         \n",
      "_________________________________________________________________\n",
      "flatten (Flatten)            (None, 3136)              0         \n",
      "_________________________________________________________________\n",
      "dense (Dense)                (None, 256)               803072    \n",
      "_________________________________________________________________\n",
      "dense_1 (Dense)              (None, 10)                2570      \n",
      "=================================================================\n",
      "Total params: 824,458\n",
      "Trainable params: 824,458\n",
      "Non-trainable params: 0\n",
      "_________________________________________________________________\n"
     ]
    }
   ],
   "source": [
    "new_model3.summary()"
   ]
  },
  {
   "cell_type": "code",
   "execution_count": 74,
   "metadata": {
    "colab": {
     "base_uri": "https://localhost:8080/"
    },
    "executionInfo": {
     "elapsed": 945,
     "status": "ok",
     "timestamp": 1619163531380,
     "user": {
      "displayName": "Young-il Shin",
      "photoUrl": "",
      "userId": "16669823151846080287"
     },
     "user_tz": -540
    },
    "id": "cXKbkwsy2Eho",
    "outputId": "f9eaa405-045a-4c8e-9fd9-e160acc2414b"
   },
   "outputs": [
    {
     "name": "stdout",
     "output_type": "stream",
     "text": [
      "100/100 [==============================] - 0s 3ms/step - loss: 0.0438 - accuracy: 0.9913\n"
     ]
    },
    {
     "data": {
      "text/plain": [
       "[0.04380021244287491, 0.9912999868392944]"
      ]
     },
     "execution_count": 74,
     "metadata": {
      "tags": []
     },
     "output_type": "execute_result"
    }
   ],
   "source": [
    "new_model3.evaluate(test_dataset)"
   ]
  },
  {
   "cell_type": "code",
   "execution_count": 79,
   "metadata": {
    "executionInfo": {
     "elapsed": 587,
     "status": "ok",
     "timestamp": 1619163719141,
     "user": {
      "displayName": "Young-il Shin",
      "photoUrl": "",
      "userId": "16669823151846080287"
     },
     "user_tz": -540
    },
    "id": "XoFkaE2A2Eho"
   },
   "outputs": [],
   "source": [
    "# h5 형식으로 저장 / 불러오기ㅏ\n",
    "model_h5_dir = os.path.join(base_dir, 'mnist', 'models','h5_model')\n",
    "if os.path.isdir(model_h5_dir):\n",
    "    os.makedirs(model_h5_dir, exist_ok=True)\n",
    "\n",
    "# h5 형식으로 저장할때 파일명까지 지정\n",
    "model_h5_path = os.path.join(model_h5_dir, 'mnist_cnn_model.h5')"
   ]
  },
  {
   "cell_type": "code",
   "execution_count": 80,
   "metadata": {
    "executionInfo": {
     "elapsed": 494,
     "status": "ok",
     "timestamp": 1619163720184,
     "user": {
      "displayName": "Young-il Shin",
      "photoUrl": "",
      "userId": "16669823151846080287"
     },
     "user_tz": -540
    },
    "id": "bSMF4doWqwAh"
   },
   "outputs": [],
   "source": [
    "model.save(model_h5_path, save_format='h5')"
   ]
  },
  {
   "cell_type": "code",
   "execution_count": 81,
   "metadata": {
    "executionInfo": {
     "elapsed": 1436,
     "status": "ok",
     "timestamp": 1619163736602,
     "user": {
      "displayName": "Young-il Shin",
      "photoUrl": "",
      "userId": "16669823151846080287"
     },
     "user_tz": -540
    },
    "id": "s6wtkP4jqv-K"
   },
   "outputs": [],
   "source": [
    "new_model4 = keras.models.load_model(model_h5_path)"
   ]
  },
  {
   "cell_type": "code",
   "execution_count": 82,
   "metadata": {
    "colab": {
     "base_uri": "https://localhost:8080/"
    },
    "executionInfo": {
     "elapsed": 569,
     "status": "ok",
     "timestamp": 1619163744310,
     "user": {
      "displayName": "Young-il Shin",
      "photoUrl": "",
      "userId": "16669823151846080287"
     },
     "user_tz": -540
    },
    "id": "ZdhqBx2Aqv7_",
    "outputId": "c7f43b78-4157-489f-9f57-e3efa2651aee"
   },
   "outputs": [
    {
     "name": "stdout",
     "output_type": "stream",
     "text": [
      "Model: \"sequential_1\"\n",
      "_________________________________________________________________\n",
      "Layer (type)                 Output Shape              Param #   \n",
      "=================================================================\n",
      "conv2d_1 (Conv2D)            (None, 28, 28, 32)        320       \n",
      "_________________________________________________________________\n",
      "max_pooling2d_1 (MaxPooling2 (None, 14, 14, 32)        0         \n",
      "_________________________________________________________________\n",
      "conv2d_2 (Conv2D)            (None, 14, 14, 64)        18496     \n",
      "_________________________________________________________________\n",
      "max_pooling2d_2 (MaxPooling2 (None, 7, 7, 64)          0         \n",
      "_________________________________________________________________\n",
      "flatten (Flatten)            (None, 3136)              0         \n",
      "_________________________________________________________________\n",
      "dense (Dense)                (None, 256)               803072    \n",
      "_________________________________________________________________\n",
      "dense_1 (Dense)              (None, 10)                2570      \n",
      "=================================================================\n",
      "Total params: 824,458\n",
      "Trainable params: 824,458\n",
      "Non-trainable params: 0\n",
      "_________________________________________________________________\n"
     ]
    }
   ],
   "source": [
    "new_model4.summary()"
   ]
  },
  {
   "cell_type": "code",
   "execution_count": 84,
   "metadata": {
    "colab": {
     "base_uri": "https://localhost:8080/"
    },
    "executionInfo": {
     "elapsed": 996,
     "status": "ok",
     "timestamp": 1619163756142,
     "user": {
      "displayName": "Young-il Shin",
      "photoUrl": "",
      "userId": "16669823151846080287"
     },
     "user_tz": -540
    },
    "id": "bSROQgg9qv5X",
    "outputId": "1facbfae-83c9-49af-c443-b3bd17f25dc8"
   },
   "outputs": [
    {
     "name": "stdout",
     "output_type": "stream",
     "text": [
      "100/100 [==============================] - 0s 3ms/step - loss: 0.0438 - accuracy: 0.9913\n"
     ]
    },
    {
     "data": {
      "text/plain": [
       "[0.04380021244287491, 0.9912999868392944]"
      ]
     },
     "execution_count": 84,
     "metadata": {
      "tags": []
     },
     "output_type": "execute_result"
    }
   ],
   "source": [
    "new_model4.evaluate(test_dataset)"
   ]
  },
  {
   "cell_type": "code",
   "execution_count": null,
   "metadata": {
    "id": "VzQJ6egPqv3I"
   },
   "outputs": [],
   "source": []
  },
  {
   "cell_type": "markdown",
   "metadata": {
    "id": "VWVYKn7Z2Eho"
   },
   "source": [
    "## Callback을 사용한 모델 저장 및 Early Stopping\n",
    "- callback은 학습하는 도중 특정 이벤트 발생시 호출되는 다양한 함수를 제공하여 자동화 처리를 지원한다. (cf: 프로그래밍의 콜백함수)\n",
    "- 다양한 콜백 클래스가 제공된다.\n",
    "    - https://www.tensorflow.org/api_docs/python/tf/keras/callbacks\n",
    "- `EarlyStopping`: Validation set에 대한 평가지표가  더 이상 개선되지 않을 때 학습을 자동으로 멈춤\n",
    "    - `monitor`: 모니터링할 평가지표 지정. (ex: accuracy)\n",
    "    - `patience`: epoch 수 지정. validation 평가 지표가 개선이 안되더라도 지정한 epoch만큼 반복한다. 지정한 epoch만큼 반복 후에도 개선이 되지 않으면 중단한다. \n",
    "- `ModelCheckpoint`: 지정한 평가지표(예:validation loss)가 가장 좋을 때 모델과 weight를 저장하여 overfitting이 발생하기 전의 model을 나중에 불러들여 사용할 수 있음\n",
    "    - `save_best_only=True`: monitoring 중인 measure를 기준으로 최적의 모형의 weight만 저장 \n",
    "- **callback 객체들을 리스트로 묶은 뒤 fit()의 callback 매개변수에 전달한다.**"
   ]
  },
  {
   "cell_type": "code",
   "execution_count": 88,
   "metadata": {
    "executionInfo": {
     "elapsed": 567,
     "status": "ok",
     "timestamp": 1619164724165,
     "user": {
      "displayName": "Young-il Shin",
      "photoUrl": "",
      "userId": "16669823151846080287"
     },
     "user_tz": -540
    },
    "id": "gCa8FqOV2Eho"
   },
   "outputs": [],
   "source": [
    "model2 = create_model()\n",
    "model2.compile(optimizer='adam', loss='sparse_categorical_crossentropy', metrics=['accuracy'])"
   ]
  },
  {
   "cell_type": "code",
   "execution_count": 89,
   "metadata": {
    "colab": {
     "base_uri": "https://localhost:8080/"
    },
    "executionInfo": {
     "elapsed": 1211,
     "status": "ok",
     "timestamp": 1619164725932,
     "user": {
      "displayName": "Young-il Shin",
      "photoUrl": "",
      "userId": "16669823151846080287"
     },
     "user_tz": -540
    },
    "id": "DV7WF8HU2Eho",
    "outputId": "46cda13c-5d6d-425f-9003-ef45a37d4c0a"
   },
   "outputs": [
    {
     "name": "stdout",
     "output_type": "stream",
     "text": [
      "100/100 [==============================] - 1s 3ms/step - loss: 2.3024 - accuracy: 0.1100\n"
     ]
    },
    {
     "data": {
      "text/plain": [
       "[2.301098108291626, 0.11620000004768372]"
      ]
     },
     "execution_count": 89,
     "metadata": {
      "tags": []
     },
     "output_type": "execute_result"
    }
   ],
   "source": [
    "model2.evaluate(test_dataset)"
   ]
  },
  {
   "cell_type": "code",
   "execution_count": 92,
   "metadata": {
    "executionInfo": {
     "elapsed": 547,
     "status": "ok",
     "timestamp": 1619165151743,
     "user": {
      "displayName": "Young-il Shin",
      "photoUrl": "",
      "userId": "16669823151846080287"
     },
     "user_tz": -540
    },
    "id": "dbu3cSEt2Eho"
   },
   "outputs": [],
   "source": [
    "callback_dir = os.path.join(base_dir, 'mnist','models','callback')\n",
    "if not os.path.isdir(callback_dir):\n",
    "    os.makedirs(callback_dir, exist_ok=True)\n",
    "\n",
    "callback_path = os.path.join(callback_dir, 'save_model_{epoch:02d}.ckpt') #{epoch:02d} - 포맷문자열, 몇번째 에폭때 저장인지."
   ]
  },
  {
   "cell_type": "code",
   "execution_count": 91,
   "metadata": {
    "colab": {
     "base_uri": "https://localhost:8080/",
     "height": 35
    },
    "executionInfo": {
     "elapsed": 561,
     "status": "ok",
     "timestamp": 1619165119565,
     "user": {
      "displayName": "Young-il Shin",
      "photoUrl": "",
      "userId": "16669823151846080287"
     },
     "user_tz": -540
    },
    "id": "QtfqgfniwnJB",
    "outputId": "c551dbef-accb-4cba-cd55-fdb10c12e674"
   },
   "outputs": [
    {
     "data": {
      "application/vnd.google.colaboratory.intrinsic+json": {
       "type": "string"
      },
      "text/plain": [
       "'22,00003'"
      ]
     },
     "execution_count": 91,
     "metadata": {
      "tags": []
     },
     "output_type": "execute_result"
    }
   ],
   "source": [
    "'{age},{price:05d}'.format(age=22, price=3) #채울값(0)자리수(5)정수(d)"
   ]
  },
  {
   "cell_type": "code",
   "execution_count": 103,
   "metadata": {
    "executionInfo": {
     "elapsed": 574,
     "status": "ok",
     "timestamp": 1619165870172,
     "user": {
      "displayName": "Young-il Shin",
      "photoUrl": "",
      "userId": "16669823151846080287"
     },
     "user_tz": -540
    },
    "id": "iaZ-kUSA2Ehp"
   },
   "outputs": [],
   "source": [
    "# ModelCheckpoint callback 생성\n",
    "mc_callback = keras.callbacks.ModelCheckpoint(filepath=callback_path, # 학습 도중의 모델/파라미터를 저장할 경로\n",
    "                                              save_weights_only=True, # True: 가중치 저장, False(default): 모델 + 가중치 \n",
    "                                              save_best_only=True, # True: 가장 성능이 좋았을때만 저장, False(default): 매 에폭마다 저장\n",
    "                                              monitor='val_loss', # save_best_only=True 일때 성능을 확인할 평가 지표.\n",
    "                                              verbose=1) # 저장할때 마다 로그를 출력)\n",
    "\n",
    "# EarlyStopping callback 생성\n",
    "es_callback = keras.callbacks.EarlyStopping(monitor='val_loss',\n",
    "                                            patience=5) # 5번 에폭을 학습하는 동안 val_loss가 좋아지지 않으면 학습을 멈춘다.\n",
    "                                            "
   ]
  },
  {
   "cell_type": "code",
   "execution_count": 104,
   "metadata": {
    "colab": {
     "base_uri": "https://localhost:8080/"
    },
    "executionInfo": {
     "elapsed": 18576,
     "status": "ok",
     "timestamp": 1619165908829,
     "user": {
      "displayName": "Young-il Shin",
      "photoUrl": "",
      "userId": "16669823151846080287"
     },
     "user_tz": -540
    },
    "id": "hdJXMWVI2Ehp",
    "outputId": "bc875698-a24d-4f24-e389-490f6423fa67"
   },
   "outputs": [
    {
     "name": "stdout",
     "output_type": "stream",
     "text": [
      "Epoch 1/20\n",
      "600/600 [==============================] - 3s 5ms/step - loss: 3.9733e-06 - accuracy: 1.0000 - val_loss: 0.0463 - val_accuracy: 0.9922\n",
      "\n",
      "Epoch 00001: val_loss improved from inf to 0.04628, saving model to /content/drive/MyDrive/saved_models/mnist/models/callback/save_model_01.ckpt\n",
      "Epoch 2/20\n",
      "600/600 [==============================] - 3s 5ms/step - loss: 2.8440e-06 - accuracy: 1.0000 - val_loss: 0.0468 - val_accuracy: 0.9923\n",
      "\n",
      "Epoch 00002: val_loss did not improve from 0.04628\n",
      "Epoch 3/20\n",
      "600/600 [==============================] - 3s 5ms/step - loss: 2.1404e-06 - accuracy: 1.0000 - val_loss: 0.0471 - val_accuracy: 0.9923\n",
      "\n",
      "Epoch 00003: val_loss did not improve from 0.04628\n",
      "Epoch 4/20\n",
      "600/600 [==============================] - 3s 5ms/step - loss: 1.6238e-06 - accuracy: 1.0000 - val_loss: 0.0477 - val_accuracy: 0.9922\n",
      "\n",
      "Epoch 00004: val_loss did not improve from 0.04628\n",
      "Epoch 5/20\n",
      "600/600 [==============================] - 3s 5ms/step - loss: 1.2326e-06 - accuracy: 1.0000 - val_loss: 0.0481 - val_accuracy: 0.9922\n",
      "\n",
      "Epoch 00005: val_loss did not improve from 0.04628\n",
      "Epoch 6/20\n",
      "600/600 [==============================] - 3s 5ms/step - loss: 9.3774e-07 - accuracy: 1.0000 - val_loss: 0.0486 - val_accuracy: 0.9924\n",
      "\n",
      "Epoch 00006: val_loss did not improve from 0.04628\n"
     ]
    },
    {
     "data": {
      "text/plain": [
       "<tensorflow.python.keras.callbacks.History at 0x7fe250e45210>"
      ]
     },
     "execution_count": 104,
     "metadata": {
      "tags": []
     },
     "output_type": "execute_result"
    }
   ],
   "source": [
    "model2.fit(train_dataset,\n",
    "           epochs=N_EPOCHS,\n",
    "           steps_per_epoch=steps_per_epoch,\n",
    "           validation_data= test_dataset,\n",
    "           validation_steps=validation_steps,\n",
    "           callbacks=[mc_callback, es_callback])"
   ]
  },
  {
   "cell_type": "code",
   "execution_count": 105,
   "metadata": {
    "executionInfo": {
     "elapsed": 588,
     "status": "ok",
     "timestamp": 1619165967657,
     "user": {
      "displayName": "Young-il Shin",
      "photoUrl": "",
      "userId": "16669823151846080287"
     },
     "user_tz": -540
    },
    "id": "KPBjC5742Ehp"
   },
   "outputs": [],
   "source": [
    "# 저장된 weight loading\n",
    "new_model5 = create_model()\n",
    "new_model5.compile(optimizer='adam', loss='sparse_categorical_crossentropy', metrics=['accuracy'])"
   ]
  },
  {
   "cell_type": "code",
   "execution_count": 106,
   "metadata": {
    "executionInfo": {
     "elapsed": 554,
     "status": "ok",
     "timestamp": 1619165969041,
     "user": {
      "displayName": "Young-il Shin",
      "photoUrl": "",
      "userId": "16669823151846080287"
     },
     "user_tz": -540
    },
    "id": "lA8B9JAc2Ehp"
   },
   "outputs": [],
   "source": [
    "best_weights = tf.train.latest_checkpoint(callback_dir) # weight들이 저장된 디렉토리를 지정하면 마지막 에폭에서 저장된 weight를 불러온다."
   ]
  },
  {
   "cell_type": "code",
   "execution_count": 107,
   "metadata": {
    "colab": {
     "base_uri": "https://localhost:8080/"
    },
    "executionInfo": {
     "elapsed": 596,
     "status": "ok",
     "timestamp": 1619165974876,
     "user": {
      "displayName": "Young-il Shin",
      "photoUrl": "",
      "userId": "16669823151846080287"
     },
     "user_tz": -540
    },
    "id": "8GsUjBT42Ehp",
    "outputId": "b7c1aefb-81cb-4279-f6e5-0926396c0af9"
   },
   "outputs": [
    {
     "data": {
      "text/plain": [
       "<tensorflow.python.training.tracking.util.CheckpointLoadStatus at 0x7fe2504288d0>"
      ]
     },
     "execution_count": 107,
     "metadata": {
      "tags": []
     },
     "output_type": "execute_result"
    }
   ],
   "source": [
    "new_model5.load_weights(best_weights)"
   ]
  },
  {
   "cell_type": "code",
   "execution_count": 102,
   "metadata": {
    "colab": {
     "base_uri": "https://localhost:8080/"
    },
    "executionInfo": {
     "elapsed": 1009,
     "status": "ok",
     "timestamp": 1619165737897,
     "user": {
      "displayName": "Young-il Shin",
      "photoUrl": "",
      "userId": "16669823151846080287"
     },
     "user_tz": -540
    },
    "id": "CnvMqNKL2Ehp",
    "outputId": "2c7ce394-1a5f-4880-e497-6e9ba3e55c19"
   },
   "outputs": [
    {
     "name": "stdout",
     "output_type": "stream",
     "text": [
      "100/100 [==============================] - 1s 3ms/step - loss: 0.0455 - accuracy: 0.9907\n"
     ]
    },
    {
     "data": {
      "text/plain": [
       "[0.035407233983278275, 0.9926999807357788]"
      ]
     },
     "execution_count": 102,
     "metadata": {
      "tags": []
     },
     "output_type": "execute_result"
    }
   ],
   "source": [
    "new_model5.evaluate(test_dataset)"
   ]
  },
  {
   "cell_type": "code",
   "execution_count": 108,
   "metadata": {
    "colab": {
     "base_uri": "https://localhost:8080/"
    },
    "executionInfo": {
     "elapsed": 1262,
     "status": "ok",
     "timestamp": 1619165977667,
     "user": {
      "displayName": "Young-il Shin",
      "photoUrl": "",
      "userId": "16669823151846080287"
     },
     "user_tz": -540
    },
    "id": "wTSiFnCR2Ehp",
    "outputId": "8fda7ee2-b327-46ce-e3fc-0a3da07f3aaa"
   },
   "outputs": [
    {
     "name": "stdout",
     "output_type": "stream",
     "text": [
      "100/100 [==============================] - 1s 4ms/step - loss: 0.0565 - accuracy: 0.9902\n"
     ]
    },
    {
     "data": {
      "text/plain": [
       "[0.046275295317173004, 0.9922000169754028]"
      ]
     },
     "execution_count": 108,
     "metadata": {
      "tags": []
     },
     "output_type": "execute_result"
    }
   ],
   "source": [
    "new_model5.evaluate(test_dataset)"
   ]
  },
  {
   "cell_type": "code",
   "execution_count": null,
   "metadata": {
    "id": "w8HuCh7yzS6s"
   },
   "outputs": [],
   "source": []
  },
  {
   "cell_type": "code",
   "execution_count": null,
   "metadata": {
    "id": "SDOd2SNtzS4Y"
   },
   "outputs": [],
   "source": []
  },
  {
   "cell_type": "code",
   "execution_count": null,
   "metadata": {
    "id": "Xj4XlV45zS1u"
   },
   "outputs": [],
   "source": []
  },
  {
   "cell_type": "code",
   "execution_count": null,
   "metadata": {
    "id": "7bGOK928zSzd"
   },
   "outputs": [],
   "source": []
  },
  {
   "cell_type": "code",
   "execution_count": null,
   "metadata": {
    "id": "bp_10lTCzSxF"
   },
   "outputs": [],
   "source": []
  },
  {
   "cell_type": "code",
   "execution_count": null,
   "metadata": {
    "id": "b70OTUQZzSui"
   },
   "outputs": [],
   "source": []
  },
  {
   "cell_type": "code",
   "execution_count": null,
   "metadata": {
    "id": "BNysc24czSsX"
   },
   "outputs": [],
   "source": []
  },
  {
   "cell_type": "code",
   "execution_count": null,
   "metadata": {
    "id": "iKi6wI83zSpm"
   },
   "outputs": [],
   "source": []
  },
  {
   "cell_type": "code",
   "execution_count": null,
   "metadata": {
    "id": "9Y33kIcCzSm5"
   },
   "outputs": [],
   "source": []
  },
  {
   "cell_type": "code",
   "execution_count": null,
   "metadata": {
    "id": "DIZvH2JszSkc"
   },
   "outputs": [],
   "source": []
  },
  {
   "cell_type": "code",
   "execution_count": null,
   "metadata": {
    "id": "LDNusV4tzSfy"
   },
   "outputs": [],
   "source": []
  },
  {
   "cell_type": "code",
   "execution_count": null,
   "metadata": {
    "id": "WdBn9TWc2Ehp"
   },
   "outputs": [],
   "source": []
  }
 ],
 "metadata": {
  "accelerator": "GPU",
  "colab": {
   "collapsed_sections": [
    "e5i2RMFj2Ehm"
   ],
   "name": "07_CNN_MNIST분류_모델저장.ipynb",
   "provenance": [],
   "toc_visible": true
  },
  "kernelspec": {
   "display_name": "Python 3",
   "language": "python",
   "name": "python3"
  },
  "language_info": {
   "codemirror_mode": {
    "name": "ipython",
    "version": 3
   },
   "file_extension": ".py",
   "mimetype": "text/x-python",
   "name": "python",
   "nbconvert_exporter": "python",
   "pygments_lexer": "ipython3",
   "version": "3.8.10"
  },
  "toc": {
   "base_numbering": 1,
   "nav_menu": {},
   "number_sections": true,
   "sideBar": true,
   "skip_h1_title": false,
   "title_cell": "Table of Contents",
   "title_sidebar": "Contents",
   "toc_cell": false,
   "toc_position": {},
   "toc_section_display": true,
   "toc_window_display": false
  },
  "varInspector": {
   "cols": {
    "lenName": 16,
    "lenType": 16,
    "lenVar": 40
   },
   "kernels_config": {
    "python": {
     "delete_cmd_postfix": "",
     "delete_cmd_prefix": "del ",
     "library": "var_list.py",
     "varRefreshCmd": "print(var_dic_list())"
    },
    "r": {
     "delete_cmd_postfix": ") ",
     "delete_cmd_prefix": "rm(",
     "library": "var_list.r",
     "varRefreshCmd": "cat(var_dic_list()) "
    }
   },
   "types_to_exclude": [
    "module",
    "function",
    "builtin_function_or_method",
    "instance",
    "_Feature"
   ],
   "window_display": false
  }
 },
 "nbformat": 4,
 "nbformat_minor": 1
}
