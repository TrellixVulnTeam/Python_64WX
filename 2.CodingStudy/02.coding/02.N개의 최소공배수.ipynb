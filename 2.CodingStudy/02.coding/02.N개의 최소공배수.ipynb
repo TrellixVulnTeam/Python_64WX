{
 "cells": [
  {
   "cell_type": "code",
   "execution_count": 2,
   "metadata": {},
   "outputs": [],
   "source": [
    "#N개의 최소공배수\n",
    "def solution(arr):\n",
    "    answer = max(arr)\n",
    "\n",
    "    while True:\n",
    "        answer +=1\n",
    "        l = len(arr)\n",
    "        for i in arr1:\n",
    "            if answer % i ==0:\n",
    "                l -= 1\n",
    "        if l == 0:\n",
    "            break\n",
    "    return answer"
   ]
  },
  {
   "cell_type": "code",
   "execution_count": null,
   "metadata": {},
   "outputs": [],
   "source": []
  }
 ],
 "metadata": {
  "kernelspec": {
   "display_name": "Python 3",
   "language": "python",
   "name": "python3"
  },
  "language_info": {
   "codemirror_mode": {
    "name": "ipython",
    "version": 3
   },
   "file_extension": ".py",
   "mimetype": "text/x-python",
   "name": "python",
   "nbconvert_exporter": "python",
   "pygments_lexer": "ipython3",
   "version": "3.8.5"
  }
 },
 "nbformat": 4,
 "nbformat_minor": 4
}
