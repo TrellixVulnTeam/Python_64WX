{
 "cells": [
  {
   "cell_type": "markdown",
   "metadata": {},
   "source": [
    "##  파일의 경로 (PATH)\n",
    "- 절대경로(Absolute path): 시작 디렉토리(Root directory)부터 자원의 전체경로를 표현하는 방식.\n",
    "    - windows: c:\\text\\python\\io.txt - c:\\ <= Root directory. 경로구분자: \\ (역슬러시)\n",
    "    - linux/Unix: /text/python/io.txt - / <= Root directory. 경로구분자: / (슬러시)\n",
    "    \n",
    "- 상대경로: 현재 디렉토리에서부터 찾아가는 경로 표현방식\n",
    "    - `.` : 현재 디렉토리\n",
    "    - `..` : 상위 디렉토리\n",
    "    - `/` : 경로 구분자\n",
    "    \n",
    "    \n",
    "## OS 모듈\n",
    "- 표준 모듈 (설치는 필요없지만 import는 해야한다)\n",
    "- 운영체제(os)에서 제공한는 기능들을 파이썬 프로그램에서 사용할 수 있도록 도와주는 모듈."
   ]
  },
  {
   "cell_type": "code",
   "execution_count": 2,
   "metadata": {},
   "outputs": [],
   "source": [
    "import os"
   ]
  },
  {
   "cell_type": "code",
   "execution_count": 3,
   "metadata": {},
   "outputs": [
    {
     "name": "stdout",
     "output_type": "stream",
     "text": [
      "C:\\Users\\mein0\\1.JupyterNoteCodes\n"
     ]
    }
   ],
   "source": [
    "# 현재 디렉토리를 문자열로 반환\n",
    "curr_dir = os.getcwd() # current work directory\n",
    "print(curr_dir) # 주피터 노트북: 현재 작성하는 ipynb 파일이 위치한 경로."
   ]
  },
  {
   "cell_type": "code",
   "execution_count": 31,
   "metadata": {},
   "outputs": [],
   "source": [
    "# 현재 디렉토리를 변경 3가지 방법\n",
    "os.chdir(\"C:\\\\temp\\\\a\") # mac : os.chdir(\"/home/temp/a\")\n",
    "# os.chdir(r\"C:\\temp\\a\") # raw string 이용시.\n",
    "#os.chdir(r\"C:/temp/a\") # 파이썬은 /를 인식함."
   ]
  },
  {
   "cell_type": "code",
   "execution_count": 32,
   "metadata": {
    "scrolled": true
   },
   "outputs": [
    {
     "data": {
      "text/plain": [
       "'C:\\\\temp\\\\a'"
      ]
     },
     "execution_count": 32,
     "metadata": {},
     "output_type": "execute_result"
    }
   ],
   "source": [
    "os.getcwd()"
   ]
  },
  {
   "cell_type": "code",
   "execution_count": 34,
   "metadata": {},
   "outputs": [
    {
     "data": {
      "text/plain": [
       "'C:\\\\Users\\\\mein0\\\\1.JupyterNoteCodes'"
      ]
     },
     "execution_count": 34,
     "metadata": {},
     "output_type": "execute_result"
    }
   ],
   "source": [
    "os.chdir(curr_dir)\n",
    "os.getcwd()"
   ]
  },
  {
   "cell_type": "markdown",
   "metadata": {},
   "source": [
    "####  Escape 문자\n",
    "- `\\문자` 로 시작하는 문자. text로 표현하지 못하는 문자를 표현하는 문자.\n",
    "- `\\n` : enter\n",
    "- `\\t` : tab\n",
    "- `\\b` : back space\n",
    "- `\\\\` : \\"
   ]
  },
  {
   "cell_type": "code",
   "execution_count": 27,
   "metadata": {},
   "outputs": [
    {
     "name": "stdout",
     "output_type": "stream",
     "text": [
      "1. c\n",
      "d\n",
      "2. c\td\n",
      "3. c\bd\n",
      "c:\\src\\a.py\n",
      "c:/src/a.py\n",
      "c:\\src\\a.py\n"
     ]
    }
   ],
   "source": [
    "print(\"1. c\\nd\")\n",
    "print(\"2. c\\td\")\n",
    "print(\"3. c\\bd\")\n",
    "print(\"c:\\\\src\\\\a.py\")\n",
    "# 파이썬에서 문자열로 파일 경로 표시할때 windows라고 해도 \"/\"(슬러시)를 사용해도 인식함.\n",
    "print(\"c:/src/a.py\")\n",
    "print(r\"c:\\src\\a.py\") # r : raw string => \\를 escape문자의 접두어로 인식하지 않는다."
   ]
  },
  {
   "cell_type": "code",
   "execution_count": 35,
   "metadata": {},
   "outputs": [
    {
     "data": {
      "text/plain": [
       "['.git',\n",
       " '.gitattributes',\n",
       " '.ipynb_checkpoints',\n",
       " '01_변수_데이터타입.ipynb',\n",
       " '02_자료구조.ipynb',\n",
       " '03_제어문.ipynb',\n",
       " '04_Function(함수).ipynb',\n",
       " '05_객체지향프로그래밍.ipynb',\n",
       " '06_module_package_import.ipynb',\n",
       " '07_예외와 예외처리.ipynb',\n",
       " '08_입출력_IO.ipynb',\n",
       " 'CodingStudy.ipynb',\n",
       " 'my_module.py',\n",
       " 'my_package',\n",
       " 'playdataSrc',\n",
       " 'test.py',\n",
       " '__pycache__']"
      ]
     },
     "execution_count": 35,
     "metadata": {},
     "output_type": "execute_result"
    }
   ],
   "source": [
    "# 특정 디렉토리 안에 있는 하위디렉토리나 파일들의 이름을 리스트에 담아서 반환.\n",
    "# path를 지정하거나 생략하면 현재 디렉토리 내의 내용을 반환\n",
    "path_list = os.listdir()\n",
    "path_list"
   ]
  },
  {
   "cell_type": "code",
   "execution_count": 38,
   "metadata": {},
   "outputs": [
    {
     "data": {
      "text/plain": [
       "['01_변수_데이터타입.ipynb',\n",
       " '02_자료구조.ipynb',\n",
       " '03_제어문.ipynb',\n",
       " '04_Function(함수).ipynb',\n",
       " '05_객체지향프로그래밍.ipynb',\n",
       " '06_module_package_import.ipynb',\n",
       " '07_예외와 예외처리.ipynb',\n",
       " '08_입출력_IO.ipynb',\n",
       " 'CodingStudy.ipynb']"
      ]
     },
     "execution_count": 38,
     "metadata": {},
     "output_type": "execute_result"
    }
   ],
   "source": [
    "# ipynb 파일들만 가진 리스트.\n",
    "[filename for filename in os.listdir() if filename.endswith('ipynb')]"
   ]
  },
  {
   "cell_type": "code",
   "execution_count": 46,
   "metadata": {},
   "outputs": [],
   "source": [
    "# 디렉토리 만들기\n",
    "os.mkdir(\"test\") # os.mkdir(\"./test\") # 현재디렉토리에 test 디렉토리를 만든다."
   ]
  },
  {
   "cell_type": "code",
   "execution_count": 72,
   "metadata": {},
   "outputs": [],
   "source": [
    "# os.mkdir(r\"test1\")\n",
    "# os.mkdir(r\"test1\\test2\")\n",
    "# os.mkdir(r\"test1\\test2\\test3\")\n",
    "# 여러 하위폴더를 경로에 만들때 makedirs\n",
    "os.makedirs(r\"test1\\test2\\test3\")"
   ]
  },
  {
   "cell_type": "code",
   "execution_count": 74,
   "metadata": {},
   "outputs": [],
   "source": [
    "# 디렉토리 삭제\n",
    "os.rmdir(r\"test1\\test2\\test3\") #rmdir() 빈 디렉토리만 삭제가능."
   ]
  },
  {
   "cell_type": "code",
   "execution_count": 75,
   "metadata": {},
   "outputs": [],
   "source": [
    "# 하위 디렉토리를 삭제하고 싶을때\n",
    "# test1밑에 test2만 있으면 test1, test2 모두 삭제\n",
    "# But, test1밑에 test2외에 다른 디렉토리/파일이 있으면 test2만 삭제.\n",
    "os.removedirs(r\"test1/test2\")"
   ]
  },
  {
   "cell_type": "code",
   "execution_count": 73,
   "metadata": {},
   "outputs": [],
   "source": [
    "# 파일 삭제\n",
    "os.remove(r\"test1\\test2\\test3\\a.txt\")"
   ]
  },
  {
   "cell_type": "markdown",
   "metadata": {},
   "source": [
    "### os.path 모듈\n",
    "- 경로 관련 처리를 하는 모듈"
   ]
  },
  {
   "cell_type": "code",
   "execution_count": 16,
   "metadata": {},
   "outputs": [],
   "source": [
    "import os"
   ]
  },
  {
   "cell_type": "code",
   "execution_count": 77,
   "metadata": {},
   "outputs": [
    {
     "data": {
      "text/plain": [
       "(False, True)"
      ]
     },
     "execution_count": 77,
     "metadata": {},
     "output_type": "execute_result"
    }
   ],
   "source": [
    "# 파일이나 디렉토리가 있는지 여부\n",
    "os.path.exists(\"a.txt\"), os.path.exists(\"my_module.py\")"
   ]
  },
  {
   "cell_type": "code",
   "execution_count": 87,
   "metadata": {},
   "outputs": [
    {
     "data": {
      "text/plain": [
       "(False, True, False)"
      ]
     },
     "execution_count": 87,
     "metadata": {},
     "output_type": "execute_result"
    }
   ],
   "source": [
    "# 디렉토리인지의 여부 (없으면 false)\n",
    "os.path.isdir(\"my_module.py\"), os.path.isdir(\"my_package\"), os.path.isdir(\"aaa\")\n"
   ]
  },
  {
   "cell_type": "code",
   "execution_count": 88,
   "metadata": {},
   "outputs": [
    {
     "data": {
      "text/plain": [
       "(True, False, False)"
      ]
     },
     "execution_count": 88,
     "metadata": {},
     "output_type": "execute_result"
    }
   ],
   "source": [
    "# 파일인지의 여부 (없으면 False)\n",
    "os.path.isfile(\"my_module.py\"), os.path.isfile(\"my_package\"), os.path.isfile(\"aaa\")"
   ]
  },
  {
   "cell_type": "code",
   "execution_count": 89,
   "metadata": {},
   "outputs": [],
   "source": [
    "# isdir 활용.\n",
    "path = 'test'\n",
    "if not os.path.isdir(path):\n",
    "    os.mkdir(path)"
   ]
  },
  {
   "cell_type": "code",
   "execution_count": 100,
   "metadata": {},
   "outputs": [
    {
     "name": "stdout",
     "output_type": "stream",
     "text": [
      "C:\\Project\\data\\image\n"
     ]
    }
   ],
   "source": [
    "# 경로를 문자열로 조합해주는 \"join\" 함수\n",
    "# r\"c:\\project\\data\\image\" 를 문자열로 만들고싶을때.\n",
    "path = os.path.join(\"C:\\Project\",\"data\", \"image\")\n",
    "print(path)\n",
    "\n",
    "# 프로젝트 경로 : C:\\Project  \n",
    "#     데이터들을 저장할 경로 : data\n",
    "#         이미지 데이터 : img\n",
    "#         텍스트 데이터 :  txt\n",
    "#     소스경로 : src\n",
    "base_dir = r\"C:\\Project\"\n",
    "src_dir = os.path.join(base_dir, \"src\")\n",
    "data_dir = os.path.join(base_dir, \"data\")\n",
    "data_img_dir = os.path.join(data_dir, \"img\")\n",
    "data_txt_dir = os.path.join(data_dir, \"txt\")\n",
    "\n",
    "#파일경로를 추가\n",
    "img1_file = os.path.join(data_img_dir, '1.jpg')"
   ]
  },
  {
   "cell_type": "code",
   "execution_count": 101,
   "metadata": {},
   "outputs": [
    {
     "data": {
      "text/plain": [
       "('C:\\\\Project\\\\data\\\\img',\n",
       " 'C:\\\\Project\\\\data\\\\txt',\n",
       " 'C:\\\\Project\\\\data\\\\img\\\\1.jpg')"
      ]
     },
     "execution_count": 101,
     "metadata": {},
     "output_type": "execute_result"
    }
   ],
   "source": [
    "data_img_dir, data_txt_dir, img1_file"
   ]
  },
  {
   "cell_type": "code",
   "execution_count": 8,
   "metadata": {},
   "outputs": [
    {
     "name": "stdout",
     "output_type": "stream",
     "text": [
      " C 드라이브의 볼륨에는 이름이 없습니다.\n",
      " 볼륨 일련 번호: 7C7B-9F35\n",
      "\n",
      " C:\\Users\\mein0\\1.JupyterNoteCodes 디렉터리\n",
      "\n",
      "2021-01-19  오후 02:16    <DIR>          .\n",
      "2021-01-19  오후 02:16    <DIR>          ..\n",
      "2021-01-18  오후 12:14                66 .gitattributes\n",
      "2021-01-19  오전 10:22    <DIR>          .ipynb_checkpoints\n",
      "2021-01-13  오후 08:16            37,237 01_변수_데이터타입.ipynb\n",
      "2021-01-13  오후 06:06            38,014 02_자료구조.ipynb\n",
      "2021-01-13  오후 09:59            37,606 03_제어문.ipynb\n",
      "2021-01-13  오후 09:06            46,237 04_Function(함수).ipynb\n",
      "2021-01-15  오후 04:55            62,133 05_객체지향프로그래밍.ipynb\n",
      "2021-01-18  오후 03:46             7,269 06_module_package_import.ipynb\n",
      "2021-01-19  오전 10:22            23,980 07_예외와 예외처리.ipynb\n",
      "2021-01-19  오후 02:16            11,966 08_입출력_IO.ipynb\n",
      "2021-01-18  오후 12:31            18,893 CodingStudy.ipynb\n",
      "2021-01-15  오후 04:52               493 my_module.py\n",
      "2021-01-15  오후 04:33    <DIR>          my_package\n",
      "2021-01-14  오전 09:16    <DIR>          playdataSrc\n",
      "2021-01-19  오후 12:27    <DIR>          test\n",
      "2021-01-15  오전 11:45                99 test.py\n",
      "2021-01-15  오후 04:22    <DIR>          __pycache__\n",
      "              12개 파일             283,993 바이트\n",
      "               7개 디렉터리  315,455,401,984 바이트 남음\n"
     ]
    }
   ],
   "source": [
    "# 주피터 노트북에서 명령프롬프트(터미널) 명령이 실행\n",
    "# !명령어\n",
    "!dir"
   ]
  },
  {
   "cell_type": "code",
   "execution_count": 7,
   "metadata": {},
   "outputs": [
    {
     "name": "stdout",
     "output_type": "stream",
     "text": [
      "C:\\Users\\mein0\\1.JupyterNoteCodes\n"
     ]
    }
   ],
   "source": [
    "#mac : !pwd\n",
    "!cd "
   ]
  },
  {
   "cell_type": "markdown",
   "metadata": {},
   "source": [
    "#  텍스트 파일 입출력\n",
    "1. 입력 - open()\n",
    "    - 목적이 무엇인지와 타입을 명시\n",
    "2. 입출력 - read() /  write()\n",
    "3. 연결 닫기 - close()"
   ]
  },
  {
   "cell_type": "code",
   "execution_count": 10,
   "metadata": {},
   "outputs": [],
   "source": [
    "# 현재 디렉토리안에 있는 a.txt과 연결\n",
    "# wt: 쓰기 /  텍스트 모드\n",
    "# encoding 생략: os 기본인코딩 : win: cp949, 유닉스(맥)/리눅스: utf-8\n",
    "f = open(\"a.txt\", 'wt') # 'w' == 'wt' t는 기본이므로 생략가능."
   ]
  },
  {
   "cell_type": "code",
   "execution_count": 11,
   "metadata": {
    "scrolled": true
   },
   "outputs": [
    {
     "data": {
      "text/plain": [
       "17"
      ]
     },
     "execution_count": 11,
     "metadata": {},
     "output_type": "execute_result"
    }
   ],
   "source": [
    "# 출력\n",
    "txt = \"\"\"안녕하세요\n",
    "ABCDE\n",
    "12345\"\"\"\n",
    "f.write(txt) # return값은 글자수."
   ]
  },
  {
   "cell_type": "code",
   "execution_count": 12,
   "metadata": {},
   "outputs": [
    {
     "data": {
      "text/plain": [
       "8"
      ]
     },
     "execution_count": 12,
     "metadata": {},
     "output_type": "execute_result"
    }
   ],
   "source": [
    "f.write(\"두번째로 쓴내용\")"
   ]
  },
  {
   "cell_type": "code",
   "execution_count": 14,
   "metadata": {},
   "outputs": [],
   "source": [
    "#연결 닫기\n",
    "f.close()"
   ]
  },
  {
   "cell_type": "code",
   "execution_count": 17,
   "metadata": {},
   "outputs": [
    {
     "data": {
      "text/plain": [
       "'C:\\\\Users\\\\mein0\\\\1.JupyterNoteCodes'"
      ]
     },
     "execution_count": 17,
     "metadata": {},
     "output_type": "execute_result"
    }
   ],
   "source": [
    "os.getcwd()"
   ]
  },
  {
   "cell_type": "code",
   "execution_count": 20,
   "metadata": {},
   "outputs": [
    {
     "name": "stdout",
     "output_type": "stream",
     "text": [
      "C:\\Users\\mein0\\1.JupyterNoteCodes\\my_text.txt\n"
     ]
    }
   ],
   "source": [
    "file = os.path.join(os.getcwd(), \"my_text.txt\")\n",
    "print(file)\n",
    "# 출력 모드일때 파일이 없으면 파일을 생성한다.\n",
    "# w : 덮어쓰기.\n",
    "# 연결\n",
    "f = open(file, \"wt\")\n",
    "# 출력\n",
    "f.write(\"첫번째줄\\n\")\n",
    "f.write(\"두번째줄\\n\")\n",
    "f.write(\"세번째줄.\")\n",
    "\n",
    "#연결닫기\n",
    "f.close() # 최종 출력"
   ]
  },
  {
   "cell_type": "code",
   "execution_count": 28,
   "metadata": {},
   "outputs": [
    {
     "name": "stdout",
     "output_type": "stream",
     "text": [
      "C:\\Users\\mein0\\1.JupyterNoteCodes\\my_text2.txt\n"
     ]
    }
   ],
   "source": [
    "file = os.path.join(os.getcwd(), \"my_text2.txt\")\n",
    "print(file)\n",
    "# 출력 모드일때 파일이 없으면 파일을 생성한다.\n",
    "# a : (출력) 이어쓰기.\n",
    "# 연결\n",
    "f = open(file, \"at\")\n",
    "# 출력\n",
    "f.write(\"첫번째줄\\n\")\n",
    "f.write(\"두번째줄\\n\")\n",
    "f.write(\"세번째줄.\")\n",
    "\n",
    "#연결닫기\n",
    "f.close()"
   ]
  },
  {
   "cell_type": "code",
   "execution_count": 30,
   "metadata": {},
   "outputs": [
    {
     "name": "stdout",
     "output_type": "stream",
     "text": [
      "C:\\Users\\mein0\\1.JupyterNoteCodes\\my_text3.txt\n"
     ]
    }
   ],
   "source": [
    "file = os.path.join(os.getcwd(), \"my_text3.txt\")\n",
    "print(file)\n",
    "# 출력 모드일때 파일이 없으면 파일을 생성한다.\n",
    "# a : (출력) 이어쓰기.\n",
    "# 연결\n",
    "f = open(file, \"at\")\n",
    "# 출력\n",
    "f.write(\"첫번째줄\\n\")\n",
    "# flush()\n",
    "f.flush() \n",
    "f.write(\"두번째줄\\n\")\n",
    "f.flush()\n",
    "f.write(\"세번째줄.\")\n",
    "\n",
    "#연결닫기\n",
    "f.close()"
   ]
  },
  {
   "cell_type": "code",
   "execution_count": 35,
   "metadata": {},
   "outputs": [
    {
     "name": "stdout",
     "output_type": "stream",
     "text": [
      "연결성공\n",
      "첫번째줄\n",
      "두번째줄\n",
      "세번째줄.첫번째줄\n",
      "두번째줄\n",
      "세번째줄.\n"
     ]
    }
   ],
   "source": [
    "#file = \"test.txt\"\n",
    "file = \"my_text3.txt\"\n",
    "# 읽기/텍스트\n",
    "# 읽기 모드인 경우 파일이 반드시 존재해야 한다.\n",
    "#if os.path.exists(file):\n",
    "try:\n",
    "    #연결\n",
    "    fi = open(file, 'rt') # fi = open(file) 'rt'생략 가능.\n",
    "    print(\"연결성공\")\n",
    "    #읽기\n",
    "    txt = fi.read() # 파일에서 읽은 데이터(텍스트)를 반환. read(): 한번에 전체를 읽음.\n",
    "    print(txt)\n",
    "except:\n",
    "    print(f\"파일 {file}를 읽는 도중 오류 발생\")\n",
    "finally:\n",
    "    # 연결 닫기는 finally에서 처리\n",
    "    fi.close()"
   ]
  },
  {
   "cell_type": "code",
   "execution_count": 36,
   "metadata": {},
   "outputs": [
    {
     "name": "stdout",
     "output_type": "stream",
     "text": [
      "<class 'list'>\n",
      "['첫번째줄\\n', '두번째줄\\n', '세번째줄.첫번째줄\\n', '두번째줄\\n', '세번째줄.']\n"
     ]
    }
   ],
   "source": [
    "try:\n",
    "    fi = open('my_text3.txt') # rt 모드 rt생략\n",
    "    #txt = fi.read() #전체를 읽어온다.\n",
    "    txt_list = fi.readlines() \n",
    "    print(type(txt_list))\n",
    "    print(txt_list)\n",
    "    \n",
    "except:\n",
    "    print(\"Error\")\n",
    "    \n",
    "finally:\n",
    "    fi.close()"
   ]
  },
  {
   "cell_type": "code",
   "execution_count": 3,
   "metadata": {},
   "outputs": [
    {
     "name": "stdout",
     "output_type": "stream",
     "text": [
      "1. 첫번째줄\n",
      "2. 두번째줄\n",
      "3. 세번째줄.첫번째줄\n",
      "4. 두번째줄\n",
      "5. 세번째줄."
     ]
    }
   ],
   "source": [
    "try:\n",
    "    fi = open('my_text3.txt')\n",
    "    # 입력 Stream (fi)은 iterable. for in 문에서 사용시 한번에 한줄씩 반환.\n",
    "#     for index, line_text in enumerate(fi, start=1):\n",
    "#         print(f\"{index}. {line_text}\")\n",
    "    for index, line_text in enumerate(fi, start=1):\n",
    "        #if \"첫\" in line_text:\n",
    "        print(f\"{index}. {line_text}\", end=\"\")          \n",
    "              \n",
    "except:\n",
    "    print(\"Error\")\n",
    "    \n",
    "finally:\n",
    "    fi.close()"
   ]
  },
  {
   "cell_type": "code",
   "execution_count": null,
   "metadata": {},
   "outputs": [],
   "source": [
    "try:\n",
    "    1. 연결\n",
    "    2. 입출력\n",
    "\n",
    "except:\n",
    "    연결, 입출력시 발생한 예외 처리\n",
    "    \n",
    "finally:\n",
    "    3. 연결닫기"
   ]
  },
  {
   "cell_type": "code",
   "execution_count": null,
   "metadata": {},
   "outputs": [],
   "source": [
    "# Try사용한 구문과 아래 with 구문은 같은 역할. with는 close가 필요없다.\n",
    "try:\n",
    "    fi = open('my_text3.txt')\n",
    "    x = fi.read()\n",
    "    print(x)\n",
    "finally:\n",
    "    fi.close()"
   ]
  },
  {
   "cell_type": "markdown",
   "metadata": {},
   "source": [
    "### with문\n",
    "    - 파일과 입출력 작업이 다 끝나면 반드시 연결을 닫아야 한다. 매번 닫는 작업을하는 것이 번거롭고 실수로 안 닫을 경우 문제가 생길 수있다. 그래서 작업이 끝난 뒤 자동으로 닫도록 해주는 구문이 with문이다."
   ]
  },
  {
   "cell_type": "code",
   "execution_count": null,
   "metadata": {},
   "outputs": [],
   "source": [
    "with open('my_text3.txt') as fi:\n",
    "    x = fi.read()\n",
    "    print(x)\n",
    "\n",
    "# with 블럭의 실행이 끝나면 자동으로 close해준다. "
   ]
  },
  {
   "cell_type": "code",
   "execution_count": null,
   "metadata": {},
   "outputs": [],
   "source": [
    "# 아래코드와 같은역할. with는 finally에서 close할 필요가 없다.\n",
    "try:\n",
    "    fi = open('my_text3.txt')\n",
    "    x = fi.read()\n",
    "    print(x)\n",
    "except:\n",
    "    pass\n",
    "finally:\n",
    "    fi.close()"
   ]
  },
  {
   "cell_type": "code",
   "execution_count": null,
   "metadata": {},
   "outputs": [],
   "source": [
    "try:\n",
    "    with open('my_text3.txt') as fi:\n",
    "        x = fi.read()\n",
    "        print(x)\n",
    "except:\n",
    "    pass"
   ]
  },
  {
   "cell_type": "markdown",
   "metadata": {},
   "source": [
    "# TODO"
   ]
  },
  {
   "cell_type": "code",
   "execution_count": null,
   "metadata": {},
   "outputs": [],
   "source": [
    "TODO - 간단한 메모장    \n",
    "사용자로부터 파일명을 입력받는다.      \n",
    "사용자로 부터 파일에 저장할 문장을 입력받아서 파일에 저장한다.     \n",
    "사용자가 !q 를 입력하면 종료한다.    \n",
    "사용자가 저장한 파일을 읽어서 출력한다.     \n",
    "\n",
    "# input() 사용자로부터  text를 입력받는다."
   ]
  },
  {
   "cell_type": "code",
   "execution_count": 50,
   "metadata": {
    "scrolled": true
   },
   "outputs": [
    {
     "name": "stdout",
     "output_type": "stream",
     "text": [
      "파일명: afef\n",
      "저장할 문장: egetr\n",
      "저장할 문장: wetewtg\n",
      "저장할 문장: vvv\n",
      "저장할 문장: !q\n"
     ]
    }
   ],
   "source": [
    "try:\n",
    "    file = input(\"파일명: \")\n",
    "    fi = open(file,'wt')\n",
    "    sentence = input(\"저장할 문장: \")\n",
    "    while sentence != \"!q\":\n",
    "        fi.write(sentence+'\\n')\n",
    "        sentence = input(\"저장할 문장: \")\n",
    "except:\n",
    "    print(\"실행도중 오류 발생\")\n",
    "finally:\n",
    "    fi.close()"
   ]
  },
  {
   "cell_type": "code",
   "execution_count": 53,
   "metadata": {},
   "outputs": [
    {
     "name": "stdout",
     "output_type": "stream",
     "text": [
      "파일명: ttt.txt\n",
      "저장할 문장: eif3\n",
      "저장할 문장: fhgi3\n",
      "저장할 문장: !q\n"
     ]
    }
   ],
   "source": [
    "file = input(\"파일명: \")\n",
    "with open (file, 'wt') as fw:\n",
    "    sentence = input(\"저장할 문장: \")\n",
    "    while sentence != \"!q\":\n",
    "        fw.write(sentence+'\\n')\n",
    "        sentence = input(\"저장할 문장: \")"
   ]
  },
  {
   "cell_type": "code",
   "execution_count": 35,
   "metadata": {},
   "outputs": [],
   "source": [
    "def simple_memo():\n",
    "    \n",
    "    global file\n",
    "    file = input(\"파일명: \")\n",
    "    try:\n",
    "        with open (file, 'wt') as fw:\n",
    "            while True:\n",
    "                line = input()\n",
    "                if line == '!q':\n",
    "                    break\n",
    "                fw.write(line+\"\\n\")\n",
    "            print(\"종료\")\n",
    "\n",
    "    except:\n",
    "        print(\"실행도중 오류 발생\") \n",
    "        \n",
    "    "
   ]
  },
  {
   "cell_type": "code",
   "execution_count": 36,
   "metadata": {},
   "outputs": [
    {
     "name": "stdout",
     "output_type": "stream",
     "text": [
      "파일명: 333.txt\n",
      "3\n",
      "4\n",
      "5\n",
      "6\n",
      "!q\n",
      "종료\n"
     ]
    }
   ],
   "source": [
    "simple_memo()"
   ]
  },
  {
   "cell_type": "code",
   "execution_count": 37,
   "metadata": {},
   "outputs": [
    {
     "name": "stdout",
     "output_type": "stream",
     "text": [
      "3\n",
      "4\n",
      "5\n",
      "6\n",
      "\n"
     ]
    }
   ],
   "source": [
    "try:\n",
    "    with open (file, 'rt') as fi:\n",
    "        memo = fi.read()\n",
    "        print(memo)\n",
    "    \n",
    "except:\n",
    "    print(\"실행도중 오류 발생\")     "
   ]
  },
  {
   "cell_type": "markdown",
   "metadata": {},
   "source": [
    "## csv(Comma Separated Value) 파일\n",
    "- 정형 데이터(테이블-표 형태)를 파일에 저장하는 방식 \n",
    "- 한개의 데이터를 한줄에 표시\n",
    "- 한개의 데이터를 구성하는 값(속성)은 `,` 로 구분\n",
    "    - tsv(Tab Separated Value) - 속성값을 tab으로 구분\n",
    "- 텍스트파일 기반\n",
    "- 파일 확장자는 `.csv`, `.tsv` 를 사용"
   ]
  },
  {
   "cell_type": "code",
   "execution_count": null,
   "metadata": {},
   "outputs": [],
   "source": [
    "TODO - csv 파일을 읽어서 각 열의 값을 배열에 담는다.  \n",
    "이름,나이,주소  형태의 csv를 읽어   \n",
    "names = []   \n",
    "ages =[]   \n",
    "address =[]   \n",
    "배열에 넣는다. 라인이 index가 된다.    \n",
    "홍길동,20,서울    \n",
    "박영희,30,인천   \n",
    "김영수,17,부산   \n",
    "이경수,20,서울   \n",
    "장경철,22,인천    "
   ]
  },
  {
   "cell_type": "code",
   "execution_count": null,
   "metadata": {},
   "outputs": [],
   "source": [
    "data.csv"
   ]
  },
  {
   "cell_type": "code",
   "execution_count": 106,
   "metadata": {},
   "outputs": [],
   "source": [
    "names=[]\n",
    "ages=[]\n",
    "address=[]\n",
    "\n",
    "with open('data1.csv', 'rt', encoding='utf-8') as fi: #cp에러면 encoding='utf-8' 추가\n",
    "\n",
    "    for info in fi:\n",
    "        split_list = info.split(',')\n",
    "        names.append(split_list[0])\n",
    "        ages.append(split_list[1])\n",
    "        address.append(split_list[2].replace('\\n',\"\"))\n",
    "#         print(info, i)\n",
    "#         names += info.split(',')\n",
    "#         ages += info.split(',')\n",
    "#         address += info.split(',')\n",
    "#         i +=1\n",
    "#         a = info.split(',')\n",
    "#         b = info.split(',')\n",
    "#         c = info.split(',')\n",
    "#         a = info.endswith(',')\n",
    "#         names.append(a)\n",
    "#         ages.append(b)\n",
    "#         address.append(c)"
   ]
  },
  {
   "cell_type": "code",
   "execution_count": 74,
   "metadata": {},
   "outputs": [],
   "source": [
    "names=[]\n",
    "ages=[]\n",
    "address=[]\n",
    "\n",
    "try:\n",
    "    with open('data3.csv', 'rt', encoding='utf-8') as fi:\n",
    "        for line in fi:\n",
    "            name, age, addr = line.split(',')\n",
    "            names.append(name.strip())\n",
    "            ages.append(age.strip())\n",
    "            address.append(addr.strip())\n",
    "\n",
    "    \n",
    "except Exception as e:\n",
    "    print(\"오류발생\", e)"
   ]
  },
  {
   "cell_type": "code",
   "execution_count": 84,
   "metadata": {},
   "outputs": [],
   "source": [
    "with open(\"member.csv\", 'wt', encoding='utf-8') as fw:\n",
    "    for mem in zip(names, ages, address):\n",
    "        fw.writelines(\",\".join(mem)+\"\\n\")"
   ]
  },
  {
   "cell_type": "code",
   "execution_count": 82,
   "metadata": {},
   "outputs": [
    {
     "data": {
      "text/plain": [
       "'홍길동,20,서울'"
      ]
     },
     "execution_count": 82,
     "metadata": {},
     "output_type": "execute_result"
    }
   ],
   "source": [
    "t = ('홍길동', '20', '서울') \n",
    "#리스트, 튜플의 원소들을 하나로 문자열로 묶는 메소드 => str\n",
    "# \"구분자\".join(튜플)\n",
    "\",\".join(t)"
   ]
  },
  {
   "cell_type": "code",
   "execution_count": 75,
   "metadata": {},
   "outputs": [
    {
     "data": {
      "text/plain": [
       "['홍길동', '박영희', '김영수', '이경수', '장경철']"
      ]
     },
     "execution_count": 75,
     "metadata": {},
     "output_type": "execute_result"
    }
   ],
   "source": [
    "names"
   ]
  },
  {
   "cell_type": "code",
   "execution_count": 76,
   "metadata": {},
   "outputs": [
    {
     "data": {
      "text/plain": [
       "['20', '30', '17', '20', '22']"
      ]
     },
     "execution_count": 76,
     "metadata": {},
     "output_type": "execute_result"
    }
   ],
   "source": [
    "ages"
   ]
  },
  {
   "cell_type": "code",
   "execution_count": 77,
   "metadata": {},
   "outputs": [
    {
     "data": {
      "text/plain": [
       "['서울', '인천', '부산', '서울', '인천']"
      ]
     },
     "execution_count": 77,
     "metadata": {},
     "output_type": "execute_result"
    }
   ],
   "source": [
    "address"
   ]
  },
  {
   "cell_type": "code",
   "execution_count": 85,
   "metadata": {},
   "outputs": [
    {
     "name": "stdout",
     "output_type": "stream",
     "text": [
      "홍길동,20,서울\n",
      "박영희,30,인천\n",
      "김영수,17,부산\n",
      "이경수,20,서울\n",
      "장경철,22,인천\n",
      "\n"
     ]
    }
   ],
   "source": [
    "with open('member.csv', 'rt', encoding='utf-8') as fi: #cp에러면 encoding='utf-8' 추가\n",
    "    m = fi.read()\n",
    "    print(m)"
   ]
  },
  {
   "cell_type": "code",
   "execution_count": 86,
   "metadata": {},
   "outputs": [],
   "source": [
    "# pandas를 이용해 csv파일 읽어오기\n",
    "import pandas as pd"
   ]
  },
  {
   "cell_type": "code",
   "execution_count": 94,
   "metadata": {},
   "outputs": [
    {
     "data": {
      "text/html": [
       "<div>\n",
       "<style scoped>\n",
       "    .dataframe tbody tr th:only-of-type {\n",
       "        vertical-align: middle;\n",
       "    }\n",
       "\n",
       "    .dataframe tbody tr th {\n",
       "        vertical-align: top;\n",
       "    }\n",
       "\n",
       "    .dataframe thead th {\n",
       "        text-align: right;\n",
       "    }\n",
       "</style>\n",
       "<table border=\"1\" class=\"dataframe\">\n",
       "  <thead>\n",
       "    <tr style=\"text-align: right;\">\n",
       "      <th></th>\n",
       "      <th>0</th>\n",
       "      <th>1</th>\n",
       "      <th>2</th>\n",
       "    </tr>\n",
       "  </thead>\n",
       "  <tbody>\n",
       "    <tr>\n",
       "      <th>0</th>\n",
       "      <td>Hong</td>\n",
       "      <td>20</td>\n",
       "      <td>Seoul</td>\n",
       "    </tr>\n",
       "    <tr>\n",
       "      <th>1</th>\n",
       "      <td>Park</td>\n",
       "      <td>30</td>\n",
       "      <td>Incheon</td>\n",
       "    </tr>\n",
       "    <tr>\n",
       "      <th>2</th>\n",
       "      <td>Kim</td>\n",
       "      <td>17</td>\n",
       "      <td>Busan</td>\n",
       "    </tr>\n",
       "    <tr>\n",
       "      <th>3</th>\n",
       "      <td>Lee</td>\n",
       "      <td>20</td>\n",
       "      <td>Seoul</td>\n",
       "    </tr>\n",
       "    <tr>\n",
       "      <th>4</th>\n",
       "      <td>Jang</td>\n",
       "      <td>22</td>\n",
       "      <td>Incheon</td>\n",
       "    </tr>\n",
       "  </tbody>\n",
       "</table>\n",
       "</div>"
      ],
      "text/plain": [
       "      0   1        2\n",
       "0  Hong  20    Seoul\n",
       "1  Park  30  Incheon\n",
       "2   Kim  17    Busan\n",
       "3   Lee  20    Seoul\n",
       "4  Jang  22  Incheon"
      ]
     },
     "execution_count": 94,
     "metadata": {},
     "output_type": "execute_result"
    }
   ],
   "source": [
    "data = pd.read_csv(\"data1.csv\", encoding='utf=8', header = None)\n",
    "data"
   ]
  },
  {
   "cell_type": "code",
   "execution_count": 95,
   "metadata": {},
   "outputs": [
    {
     "data": {
      "text/plain": [
       "(0    Hong\n",
       " 1    Park\n",
       " 2     Kim\n",
       " 3     Lee\n",
       " 4    Jang\n",
       " Name: 0, dtype: object,\n",
       " 0    20\n",
       " 1    30\n",
       " 2    17\n",
       " 3    20\n",
       " 4    22\n",
       " Name: 1, dtype: int64,\n",
       " 0      Seoul\n",
       " 1    Incheon\n",
       " 2      Busan\n",
       " 3      Seoul\n",
       " 4    Incheon\n",
       " Name: 2, dtype: object)"
      ]
     },
     "execution_count": 95,
     "metadata": {},
     "output_type": "execute_result"
    }
   ],
   "source": [
    "data[0], data[1], data[2]"
   ]
  },
  {
   "cell_type": "markdown",
   "metadata": {},
   "source": [
    "## Pickle을 이용한 객체 읽고 쓰기\n",
    "- 저장: pickle.dump(저장할객체, 출력)\n",
    "    - Serialize(객체 직렬화) - 객체를 출력하는 것.\n",
    "- 읽기: pickle.load(입력)\n",
    "    - 객체 역직렬화 - 직렬화된 객체를 입력받는 것.\n",
    "- 파일과 연결시 binary 모드로 설정해야 한다."
   ]
  },
  {
   "cell_type": "code",
   "execution_count": 96,
   "metadata": {},
   "outputs": [],
   "source": [
    "list1 = [1,2,3,4,5]"
   ]
  },
  {
   "cell_type": "code",
   "execution_count": 2,
   "metadata": {},
   "outputs": [],
   "source": [
    "import pickle"
   ]
  },
  {
   "cell_type": "code",
   "execution_count": 97,
   "metadata": {},
   "outputs": [],
   "source": [
    "with open('list.pkl', 'wb') as fi:\n",
    "    pickle.dump(list1, fi)"
   ]
  },
  {
   "cell_type": "code",
   "execution_count": 100,
   "metadata": {},
   "outputs": [],
   "source": [
    "with open('list.pkl', 'rb') as fo:\n",
    "    list2 = pickle.load(fo)"
   ]
  },
  {
   "cell_type": "code",
   "execution_count": 108,
   "metadata": {},
   "outputs": [
    {
     "name": "stdout",
     "output_type": "stream",
     "text": [
      "<class 'list'>\n"
     ]
    }
   ],
   "source": [
    "print(type(list2))"
   ]
  },
  {
   "cell_type": "code",
   "execution_count": 109,
   "metadata": {},
   "outputs": [
    {
     "data": {
      "text/plain": [
       "[1, 2, 3, 4, 5]"
      ]
     },
     "execution_count": 109,
     "metadata": {},
     "output_type": "execute_result"
    }
   ],
   "source": [
    "list2"
   ]
  },
  {
   "cell_type": "code",
   "execution_count": 1,
   "metadata": {},
   "outputs": [],
   "source": [
    "class Person:\n",
    "    def __init__(self, name, age):\n",
    "        self.name = name\n",
    "        self.age = age\n",
    "        \n",
    "    def __str__(self):\n",
    "        return f\"{self.name}. {self.age}\""
   ]
  },
  {
   "cell_type": "code",
   "execution_count": 4,
   "metadata": {},
   "outputs": [],
   "source": [
    "p = Person(\"Hong\", 30)"
   ]
  },
  {
   "cell_type": "code",
   "execution_count": 5,
   "metadata": {},
   "outputs": [],
   "source": [
    "with open(\"person.pkl\", 'wb') as fo:\n",
    "    pickle.dump(p, fo)"
   ]
  },
  {
   "cell_type": "code",
   "execution_count": 6,
   "metadata": {},
   "outputs": [],
   "source": [
    "with open(\"person.pkl\", 'rb') as fi:\n",
    "    p2 = pickle.load(fi)"
   ]
  },
  {
   "cell_type": "code",
   "execution_count": 7,
   "metadata": {},
   "outputs": [
    {
     "name": "stdout",
     "output_type": "stream",
     "text": [
      "Hong. 30\n"
     ]
    }
   ],
   "source": [
    "print(p2)"
   ]
  },
  {
   "cell_type": "code",
   "execution_count": 8,
   "metadata": {},
   "outputs": [
    {
     "data": {
      "text/plain": [
       "'Hong'"
      ]
     },
     "execution_count": 8,
     "metadata": {},
     "output_type": "execute_result"
    }
   ],
   "source": [
    "p2.name"
   ]
  },
  {
   "cell_type": "code",
   "execution_count": null,
   "metadata": {},
   "outputs": [],
   "source": []
  },
  {
   "cell_type": "code",
   "execution_count": null,
   "metadata": {},
   "outputs": [],
   "source": []
  },
  {
   "cell_type": "code",
   "execution_count": null,
   "metadata": {},
   "outputs": [],
   "source": []
  },
  {
   "cell_type": "code",
   "execution_count": null,
   "metadata": {},
   "outputs": [],
   "source": []
  },
  {
   "cell_type": "code",
   "execution_count": null,
   "metadata": {},
   "outputs": [],
   "source": []
  },
  {
   "cell_type": "code",
   "execution_count": null,
   "metadata": {},
   "outputs": [],
   "source": []
  },
  {
   "cell_type": "code",
   "execution_count": null,
   "metadata": {},
   "outputs": [],
   "source": []
  },
  {
   "cell_type": "code",
   "execution_count": null,
   "metadata": {},
   "outputs": [],
   "source": []
  },
  {
   "cell_type": "code",
   "execution_count": null,
   "metadata": {},
   "outputs": [],
   "source": []
  },
  {
   "cell_type": "code",
   "execution_count": null,
   "metadata": {},
   "outputs": [],
   "source": []
  },
  {
   "cell_type": "code",
   "execution_count": null,
   "metadata": {},
   "outputs": [],
   "source": []
  },
  {
   "cell_type": "code",
   "execution_count": null,
   "metadata": {},
   "outputs": [],
   "source": []
  }
 ],
 "metadata": {
  "kernelspec": {
   "display_name": "Python 3",
   "language": "python",
   "name": "python3"
  },
  "language_info": {
   "codemirror_mode": {
    "name": "ipython",
    "version": 3
   },
   "file_extension": ".py",
   "mimetype": "text/x-python",
   "name": "python",
   "nbconvert_exporter": "python",
   "pygments_lexer": "ipython3",
   "version": "3.8.5"
  }
 },
 "nbformat": 4,
 "nbformat_minor": 4
}
