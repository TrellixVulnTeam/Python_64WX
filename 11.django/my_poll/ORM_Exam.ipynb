{
 "cells": [
  {
   "cell_type": "code",
   "execution_count": 1,
   "id": "a8d8d1d0",
   "metadata": {},
   "outputs": [],
   "source": [
    "# 프로젝트 디렉토리에서 실행.\n",
    "# jupyter notebook에서 django shell을 사용할수 있도록 환경변수 설정."
   ]
  },
  {
   "cell_type": "code",
   "execution_count": 1,
   "id": "64293667",
   "metadata": {},
   "outputs": [],
   "source": [
    "import os\n",
    "os.environ['DJANGO_SETTINGS_MODULE'] = 'config.settings'\n",
    "os.environ['DJANGO_ALLOW_ASYNC_UNSAFE'] = 'true'\n",
    "\n",
    "import django\n",
    "django.setup()"
   ]
  },
  {
   "cell_type": "code",
   "execution_count": null,
   "id": "d6f5954c",
   "metadata": {},
   "outputs": [],
   "source": []
  },
  {
   "cell_type": "code",
   "execution_count": 3,
   "id": "6e40e125",
   "metadata": {},
   "outputs": [],
   "source": [
    "from polls.models import Question, Choice, SubChoice"
   ]
  },
  {
   "cell_type": "markdown",
   "id": "9f63134c",
   "metadata": {},
   "source": [
    "# 전체조회\n",
    "- all()"
   ]
  },
  {
   "cell_type": "code",
   "execution_count": 3,
   "id": "3246441b",
   "metadata": {},
   "outputs": [
    {
     "data": {
      "text/plain": [
       "<QuerySet [<Question: 좋아하는 색깔은 무엇입니까?>, <Question: 좋아하는 동물은 무엇입니까?>, <Question: 가고 싶은 나라를 선택하세요>]>"
      ]
     },
     "execution_count": 3,
     "metadata": {},
     "output_type": "execute_result"
    }
   ],
   "source": [
    "# Model클래스이름.objects.XXXXXXX\n",
    "qs = Question.objects.all()\n",
    "qs"
   ]
  },
  {
   "cell_type": "code",
   "execution_count": 6,
   "id": "4341db0e",
   "metadata": {
    "scrolled": true
   },
   "outputs": [
    {
     "data": {
      "text/plain": [
       "(<QuerySet [<SubChoice: 검은색이다>, <SubChoice: 파랑색이다>, <SubChoice: 빨강색이다>, <SubChoice: 우리나라다>, <SubChoice: 가고싶은나라다>, <SubChoice: 신분세탁국가다>, <SubChoice: 강아지는 귀엽다>, <SubChoice: 고양이는 귀엽다>, <SubChoice: 거북이는 느리다>, <SubChoice: 보드카의나라다>, <SubChoice: 놀러가고싶은나라다>]>,\n",
       " django.db.models.query.QuerySet)"
      ]
     },
     "execution_count": 6,
     "metadata": {},
     "output_type": "execute_result"
    }
   ],
   "source": [
    "qs = SubChoice.objects.all()\n",
    "qs, type(qs)"
   ]
  },
  {
   "cell_type": "code",
   "execution_count": 5,
   "id": "b5ee70ea",
   "metadata": {},
   "outputs": [
    {
     "name": "stdout",
     "output_type": "stream",
     "text": [
      "SELECT \"polls_subchoice\".\"sub_id\", \"polls_subchoice\".\"sub_choice_id\", \"polls_subchoice\".\"description\" FROM \"polls_subchoice\"\n"
     ]
    }
   ],
   "source": [
    "# QuerySet.query : sql문 조회\n",
    "print(qs.query)"
   ]
  },
  {
   "cell_type": "code",
   "execution_count": 29,
   "id": "ef0dcad1",
   "metadata": {},
   "outputs": [
    {
     "name": "stdout",
     "output_type": "stream",
     "text": [
      "좋아하는 색깔은 무엇입니까? <class 'polls.models.Question'>\n",
      "좋아하는 동물은 무엇입니까? <class 'polls.models.Question'>\n",
      "가고 싶은 나라를 선택하세요 <class 'polls.models.Question'>\n"
     ]
    }
   ],
   "source": [
    "for q in qs:\n",
    "    print(q,type(q))"
   ]
  },
  {
   "cell_type": "code",
   "execution_count": 31,
   "id": "562cd919",
   "metadata": {},
   "outputs": [
    {
     "data": {
      "text/plain": [
       "(<Question: 좋아하는 색깔은 무엇입니까?>,\n",
       " [<Question: 좋아하는 동물은 무엇입니까?>, <Question: 가고 싶은 나라를 선택하세요>])"
      ]
     },
     "execution_count": 31,
     "metadata": {},
     "output_type": "execute_result"
    }
   ],
   "source": [
    "# 특정 조회 결과 하나 조회 - indexing\n",
    "# 범위 조회: slicing / 음수 인덱스는 사용불가.\n",
    "qs[0], qs[1:]"
   ]
  },
  {
   "cell_type": "code",
   "execution_count": 33,
   "id": "e2ba57a1",
   "metadata": {},
   "outputs": [
    {
     "data": {
      "text/plain": [
       "(<Question: 가고 싶은 나라를 선택하세요>, <Question: 좋아하는 색깔은 무엇입니까?>)"
      ]
     },
     "execution_count": 33,
     "metadata": {},
     "output_type": "execute_result"
    }
   ],
   "source": [
    "qs.last(), qs.first()"
   ]
  },
  {
   "cell_type": "code",
   "execution_count": 34,
   "id": "f1a4ae33",
   "metadata": {},
   "outputs": [
    {
     "data": {
      "text/plain": [
       "<QuerySet [<Choice: 검정색>, <Choice: 파랑색>, <Choice: 빨강색>, <Choice: 한국>, <Choice: 미국>, <Choice: 영국>, <Choice: 강아지>, <Choice: 고양이>, <Choice: 거북이>, <Choice: 러시아>, <Choice: 오스트레일리아>]>"
      ]
     },
     "execution_count": 34,
     "metadata": {},
     "output_type": "execute_result"
    }
   ],
   "source": [
    "qs = Choice.objects.all()\n",
    "qs"
   ]
  },
  {
   "cell_type": "code",
   "execution_count": 35,
   "id": "e96074bd",
   "metadata": {},
   "outputs": [
    {
     "data": {
      "text/plain": [
       "<QuerySet [<Choice: 강아지>, <Choice: 거북이>, <Choice: 검정색>, <Choice: 고양이>, <Choice: 러시아>, <Choice: 미국>, <Choice: 빨강색>, <Choice: 영국>, <Choice: 오스트레일리아>, <Choice: 파랑색>, <Choice: 한국>]>"
      ]
     },
     "execution_count": 35,
     "metadata": {},
     "output_type": "execute_result"
    }
   ],
   "source": [
    "qs.order_by('choice_text') # asc"
   ]
  },
  {
   "cell_type": "code",
   "execution_count": 36,
   "id": "a231c782",
   "metadata": {},
   "outputs": [
    {
     "data": {
      "text/plain": [
       "<QuerySet [<Choice: 한국>, <Choice: 파랑색>, <Choice: 오스트레일리아>, <Choice: 영국>, <Choice: 빨강색>, <Choice: 미국>, <Choice: 러시아>, <Choice: 고양이>, <Choice: 검정색>, <Choice: 거북이>, <Choice: 강아지>]>"
      ]
     },
     "execution_count": 36,
     "metadata": {},
     "output_type": "execute_result"
    }
   ],
   "source": [
    "qs.order_by('-choice_text') # dsc"
   ]
  },
  {
   "cell_type": "code",
   "execution_count": 28,
   "id": "f64a2b5e",
   "metadata": {},
   "outputs": [
    {
     "data": {
      "text/plain": [
       "<QuerySet [<Choice: 검정색>, <Choice: 파랑색>, <Choice: 빨강색>, <Choice: 한국>, <Choice: 미국>, <Choice: 영국>, <Choice: 강아지>, <Choice: 고양이>, <Choice: 거북이>, <Choice: 러시아>, <Choice: 스페인>]>"
      ]
     },
     "execution_count": 28,
     "metadata": {},
     "output_type": "execute_result"
    }
   ],
   "source": [
    "qs = Choice.objects.all().order_by('id')\n",
    "qs"
   ]
  },
  {
   "cell_type": "code",
   "execution_count": 21,
   "id": "3f1ee1ff",
   "metadata": {},
   "outputs": [
    {
     "name": "stdout",
     "output_type": "stream",
     "text": [
      "SELECT \"polls_choice\".\"id\", \"polls_choice\".\"choice_text\", \"polls_choice\".\"vote\", \"polls_choice\".\"question_id\" FROM \"polls_choice\" ORDER BY \"polls_choice\".\"choice_text\" DESC\n"
     ]
    }
   ],
   "source": [
    "print(qs.query)"
   ]
  },
  {
   "cell_type": "code",
   "execution_count": 41,
   "id": "4387f656",
   "metadata": {},
   "outputs": [
    {
     "name": "stdout",
     "output_type": "stream",
     "text": [
      "<class 'polls.models.Choice'>\n"
     ]
    }
   ],
   "source": [
    "c = qs.first()\n",
    "print(type(c))"
   ]
  },
  {
   "cell_type": "code",
   "execution_count": 43,
   "id": "a32cd549",
   "metadata": {},
   "outputs": [
    {
     "data": {
      "text/plain": [
       "(4, '한국', 0, <Question: 가고 싶은 나라를 선택하세요>, 3)"
      ]
     },
     "execution_count": 43,
     "metadata": {},
     "output_type": "execute_result"
    }
   ],
   "source": [
    "# 조회한 Model의 속성을 조회 -> 특정 컬럼값 조회\n",
    "# Choice: id(pk), choice_text, vote, question_id\n",
    "c.id, c.choice_text, c.vote, c.question, c.question_id"
   ]
  },
  {
   "cell_type": "code",
   "execution_count": 27,
   "id": "1c3e0da1",
   "metadata": {
    "scrolled": true
   },
   "outputs": [
    {
     "name": "stdout",
     "output_type": "stream",
     "text": [
      "1 1 검정색 검은색이다\n",
      "2 2 파랑색 파랑색이다\n",
      "3 3 빨강색 빨강색이다\n",
      "4 4 한국 우리나라다\n",
      "5 5 미국 가고싶은나라다\n",
      "6 6 영국 신분세탁국가다\n",
      "7 7 강아지 강아지는 귀엽다\n",
      "8 8 고양이 고양이는 귀엽다\n",
      "9 9 거북이 거북이는 느리다\n",
      "10 10 러시아 보드카의나라다\n",
      "11 11 스페인 놀러가고싶은나라다\n"
     ]
    }
   ],
   "source": [
    "sc = SubChoice.objects.all().order_by('sub_choice_id')\n",
    "for c in sc:\n",
    "    print(c.sub_id, c.sub_choice_id, c.sub_choice, c.description)"
   ]
  },
  {
   "cell_type": "code",
   "execution_count": 15,
   "id": "43ae46c2",
   "metadata": {},
   "outputs": [
    {
     "name": "stdout",
     "output_type": "stream",
     "text": [
      "SELECT \"polls_subchoice\".\"sub_id\", \"polls_subchoice\".\"sub_choice_id\", \"polls_subchoice\".\"description\" FROM \"polls_subchoice\"\n"
     ]
    }
   ],
   "source": [
    "print(sc.query)"
   ]
  },
  {
   "cell_type": "code",
   "execution_count": 35,
   "id": "a7bfdd9a",
   "metadata": {},
   "outputs": [
    {
     "name": "stdout",
     "output_type": "stream",
     "text": [
      "1\t검정색\t0\t좋아하는 색깔은 무엇입니까?\t1\t1\t검정색\t검은색이다\n",
      "2\t파랑색\t0\t좋아하는 색깔은 무엇입니까?\t1\t2\t파랑색\t파랑색이다\n",
      "3\t빨강색\t0\t좋아하는 색깔은 무엇입니까?\t1\t3\t빨강색\t빨강색이다\n"
     ]
    }
   ],
   "source": [
    "for c,s in zip(qs,sc):\n",
    "    if c.question_id==1:\n",
    "        print(c.id, c.choice_text, c.vote, c.question, c.question_id, s.sub_id, s.sub_choice, s.description, sep='\\t')"
   ]
  },
  {
   "cell_type": "markdown",
   "id": "1ce832f7",
   "metadata": {},
   "source": [
    "# where 절\n",
    "- filter(조회조건)\n",
    "    - 조회조건을 만족하는 0개 이상의 행을 조회\n",
    "- exclude(조회조건)\n",
    "    - filter의 반대. 조회조건을 만족하지 않는 0개 이상의 행을 조회(not)\n",
    "- get(조회조건)\n",
    "    - 조회조건을 만족하는 1개 행을 조회\n",
    "- filter/exclude : QuerySet으로 반환\n",
    "- get: Model 객체를 반환"
   ]
  },
  {
   "cell_type": "code",
   "execution_count": 6,
   "id": "b70fa2dd",
   "metadata": {},
   "outputs": [
    {
     "data": {
      "text/plain": [
       "(<QuerySet [<Question: 좋아하는 동물은 무엇입니까?>]>, '좋아하는 동물은 무엇입니까?')"
      ]
     },
     "execution_count": 6,
     "metadata": {},
     "output_type": "execute_result"
    }
   ],
   "source": [
    "# where id = 1\n",
    "qs = Question.objects.filter(id=2)\n",
    "# primary key 컬럼 조회: 컬럼명, pk\n",
    "qs1 = Question.objects.filter(pk=2)\n",
    "qs, qs1.first().question_text"
   ]
  },
  {
   "cell_type": "code",
   "execution_count": 51,
   "id": "cb1229eb",
   "metadata": {},
   "outputs": [
    {
     "name": "stdout",
     "output_type": "stream",
     "text": [
      "2021-05-25 05:20:01.945546+00:00\n"
     ]
    }
   ],
   "source": [
    "print(qs.first().pub_date)"
   ]
  },
  {
   "cell_type": "code",
   "execution_count": 53,
   "id": "31a46e99",
   "metadata": {},
   "outputs": [
    {
     "name": "stdout",
     "output_type": "stream",
     "text": [
      "<class 'polls.models.Question'> 좋아하는 동물은 무엇입니까?\n"
     ]
    }
   ],
   "source": [
    "quest = Question.objects.get(pk=2) # get(): pk로 조회\n",
    "print(type(quest), quest)"
   ]
  },
  {
   "cell_type": "code",
   "execution_count": 7,
   "id": "8cd5e621",
   "metadata": {},
   "outputs": [
    {
     "name": "stdout",
     "output_type": "stream",
     "text": [
      "2021-05-26 02:35:06.990218+00:00\n"
     ]
    }
   ],
   "source": [
    "try:\n",
    "    r = Question.objects.get(pk=1)\n",
    "    print(r.pub_date)\n",
    "except:\n",
    "    print('조회결과가 없습니다')"
   ]
  },
  {
   "cell_type": "code",
   "execution_count": 8,
   "id": "374bb5a6",
   "metadata": {},
   "outputs": [
    {
     "data": {
      "text/plain": [
       "'좋아하는 색깔은 무엇입니까?'"
      ]
     },
     "execution_count": 8,
     "metadata": {},
     "output_type": "execute_result"
    }
   ],
   "source": [
    "r.question_text"
   ]
  },
  {
   "cell_type": "code",
   "execution_count": 9,
   "id": "e5526790",
   "metadata": {},
   "outputs": [],
   "source": [
    "question_id = 2"
   ]
  },
  {
   "cell_type": "code",
   "execution_count": 13,
   "id": "853022c9",
   "metadata": {},
   "outputs": [
    {
     "data": {
      "text/plain": [
       "'좋아하는 동물은 무엇입니까?'"
      ]
     },
     "execution_count": 13,
     "metadata": {},
     "output_type": "execute_result"
    }
   ],
   "source": [
    "a = Question.objects.get(pk=question_id)\n",
    "a.question_text"
   ]
  },
  {
   "cell_type": "code",
   "execution_count": null,
   "id": "756061f8",
   "metadata": {},
   "outputs": [],
   "source": []
  },
  {
   "cell_type": "code",
   "execution_count": 58,
   "id": "42905ea0",
   "metadata": {},
   "outputs": [
    {
     "ename": "MultipleObjectsReturned",
     "evalue": "get() returned more than one Question -- it returned 2!",
     "output_type": "error",
     "traceback": [
      "\u001b[1;31m---------------------------------------------------------------------------\u001b[0m",
      "\u001b[1;31mMultipleObjectsReturned\u001b[0m                   Traceback (most recent call last)",
      "\u001b[1;32m<ipython-input-58-e9ae818c923a>\u001b[0m in \u001b[0;36m<module>\u001b[1;34m\u001b[0m\n\u001b[1;32m----> 1\u001b[1;33m \u001b[0mQuestion\u001b[0m\u001b[1;33m.\u001b[0m\u001b[0mobjects\u001b[0m\u001b[1;33m.\u001b[0m\u001b[0mget\u001b[0m\u001b[1;33m(\u001b[0m\u001b[0mid__gt\u001b[0m\u001b[1;33m=\u001b[0m\u001b[1;36m1\u001b[0m\u001b[1;33m)\u001b[0m \u001b[1;31m# id >1\u001b[0m\u001b[1;33m\u001b[0m\u001b[1;33m\u001b[0m\u001b[0m\n\u001b[0m",
      "\u001b[1;32m~\\anaconda3\\envs\\django\\lib\\site-packages\\django\\db\\models\\manager.py\u001b[0m in \u001b[0;36mmanager_method\u001b[1;34m(self, *args, **kwargs)\u001b[0m\n\u001b[0;32m     83\u001b[0m         \u001b[1;32mdef\u001b[0m \u001b[0mcreate_method\u001b[0m\u001b[1;33m(\u001b[0m\u001b[0mname\u001b[0m\u001b[1;33m,\u001b[0m \u001b[0mmethod\u001b[0m\u001b[1;33m)\u001b[0m\u001b[1;33m:\u001b[0m\u001b[1;33m\u001b[0m\u001b[1;33m\u001b[0m\u001b[0m\n\u001b[0;32m     84\u001b[0m             \u001b[1;32mdef\u001b[0m \u001b[0mmanager_method\u001b[0m\u001b[1;33m(\u001b[0m\u001b[0mself\u001b[0m\u001b[1;33m,\u001b[0m \u001b[1;33m*\u001b[0m\u001b[0margs\u001b[0m\u001b[1;33m,\u001b[0m \u001b[1;33m**\u001b[0m\u001b[0mkwargs\u001b[0m\u001b[1;33m)\u001b[0m\u001b[1;33m:\u001b[0m\u001b[1;33m\u001b[0m\u001b[1;33m\u001b[0m\u001b[0m\n\u001b[1;32m---> 85\u001b[1;33m                 \u001b[1;32mreturn\u001b[0m \u001b[0mgetattr\u001b[0m\u001b[1;33m(\u001b[0m\u001b[0mself\u001b[0m\u001b[1;33m.\u001b[0m\u001b[0mget_queryset\u001b[0m\u001b[1;33m(\u001b[0m\u001b[1;33m)\u001b[0m\u001b[1;33m,\u001b[0m \u001b[0mname\u001b[0m\u001b[1;33m)\u001b[0m\u001b[1;33m(\u001b[0m\u001b[1;33m*\u001b[0m\u001b[0margs\u001b[0m\u001b[1;33m,\u001b[0m \u001b[1;33m**\u001b[0m\u001b[0mkwargs\u001b[0m\u001b[1;33m)\u001b[0m\u001b[1;33m\u001b[0m\u001b[1;33m\u001b[0m\u001b[0m\n\u001b[0m\u001b[0;32m     86\u001b[0m             \u001b[0mmanager_method\u001b[0m\u001b[1;33m.\u001b[0m\u001b[0m__name__\u001b[0m \u001b[1;33m=\u001b[0m \u001b[0mmethod\u001b[0m\u001b[1;33m.\u001b[0m\u001b[0m__name__\u001b[0m\u001b[1;33m\u001b[0m\u001b[1;33m\u001b[0m\u001b[0m\n\u001b[0;32m     87\u001b[0m             \u001b[0mmanager_method\u001b[0m\u001b[1;33m.\u001b[0m\u001b[0m__doc__\u001b[0m \u001b[1;33m=\u001b[0m \u001b[0mmethod\u001b[0m\u001b[1;33m.\u001b[0m\u001b[0m__doc__\u001b[0m\u001b[1;33m\u001b[0m\u001b[1;33m\u001b[0m\u001b[0m\n",
      "\u001b[1;32m~\\anaconda3\\envs\\django\\lib\\site-packages\\django\\db\\models\\query.py\u001b[0m in \u001b[0;36mget\u001b[1;34m(self, *args, **kwargs)\u001b[0m\n\u001b[0;32m    437\u001b[0m                 \u001b[0mself\u001b[0m\u001b[1;33m.\u001b[0m\u001b[0mmodel\u001b[0m\u001b[1;33m.\u001b[0m\u001b[0m_meta\u001b[0m\u001b[1;33m.\u001b[0m\u001b[0mobject_name\u001b[0m\u001b[1;33m\u001b[0m\u001b[1;33m\u001b[0m\u001b[0m\n\u001b[0;32m    438\u001b[0m             )\n\u001b[1;32m--> 439\u001b[1;33m         raise self.model.MultipleObjectsReturned(\n\u001b[0m\u001b[0;32m    440\u001b[0m             'get() returned more than one %s -- it returned %s!' % (\n\u001b[0;32m    441\u001b[0m                 \u001b[0mself\u001b[0m\u001b[1;33m.\u001b[0m\u001b[0mmodel\u001b[0m\u001b[1;33m.\u001b[0m\u001b[0m_meta\u001b[0m\u001b[1;33m.\u001b[0m\u001b[0mobject_name\u001b[0m\u001b[1;33m,\u001b[0m\u001b[1;33m\u001b[0m\u001b[1;33m\u001b[0m\u001b[0m\n",
      "\u001b[1;31mMultipleObjectsReturned\u001b[0m: get() returned more than one Question -- it returned 2!"
     ]
    }
   ],
   "source": [
    "# Question.objects.get(id__gt=1) # id >1"
   ]
  },
  {
   "cell_type": "code",
   "execution_count": 59,
   "id": "2aaedcde",
   "metadata": {},
   "outputs": [
    {
     "name": "stdout",
     "output_type": "stream",
     "text": [
      "조회결과가 없습니다\n"
     ]
    }
   ],
   "source": [
    "try:\n",
    "    Question.objects.get(id__gt=1) # id >1\n",
    "except:\n",
    "    print('조회결과가 없습니다')"
   ]
  },
  {
   "cell_type": "code",
   "execution_count": 16,
   "id": "ac2b81cc",
   "metadata": {},
   "outputs": [],
   "source": [
    "# 조회 조건\n",
    "# qs = Choice.objects.filter(id__gt=7) # id > 7\n",
    "# qs = Choice.objects.filter(id__gte=7)\n",
    "qs = Choice.objects.filter(id__lt=3)\n",
    "# qs = Choice.objects.filter(id__lte=5)\n",
    "for q in qs:\n",
    "    print(q.id, q.choice_text)"
   ]
  },
  {
   "cell_type": "code",
   "execution_count": 78,
   "id": "444c112a",
   "metadata": {},
   "outputs": [
    {
     "name": "stdout",
     "output_type": "stream",
     "text": [
      "1 좋아하는 색깔은 무엇입니까?\n",
      "2 좋아하는 동물은 무엇입니까?\n"
     ]
    }
   ],
   "source": [
    "qs = Question.objects.filter(question_text__startswith = '가고') # q_t like '가고%'\n",
    "qs = Question.objects.filter(question_text__endswith = '하세요') # q_t like '%하세요'\n",
    "qs = Question.objects.filter(question_text__contains = '하는') # q_t like '%하는%'\n",
    "for q in qs:\n",
    "    print(q.id, q.question_text)"
   ]
  },
  {
   "cell_type": "code",
   "execution_count": 21,
   "id": "b00ee5c7",
   "metadata": {},
   "outputs": [
    {
     "name": "stdout",
     "output_type": "stream",
     "text": [
      "SELECT \"polls_choice\".\"id\", \"polls_choice\".\"choice_text\", \"polls_choice\".\"vote\", \"polls_choice\".\"question_id\" FROM \"polls_choice\" WHERE \"polls_choice\".\"id\" BETWEEN 0 AND 40\n",
      "7 강아지\n",
      "8 고양이\n",
      "9 거북이\n",
      "10 러시아\n",
      "11 스페인\n",
      "12 한국\n",
      "13 미국\n",
      "14 영국\n",
      "15 검정색\n",
      "16 파랑색\n",
      "17 빨강색\n",
      "18 가\n",
      "19 나\n",
      "20 다\n",
      "21 braveheart\n",
      "22 remember\n",
      "23 nonononono\n",
      "24 shark\n",
      "25 elf\n",
      "26 orc\n",
      "27 kim\n",
      "28 bae\n",
      "29 young\n"
     ]
    }
   ],
   "source": [
    "qs = Choice.objects.filter(id__in = [2,5,7,9,20]) # where id in [2,5,7,9,20]\n",
    "qs = Choice.objects.filter(id__range=(0,40)) # between 3 and 7\n",
    "print(qs.query)\n",
    "for q in qs:\n",
    "    print(q.id, q.choice_text)"
   ]
  },
  {
   "cell_type": "markdown",
   "id": "ba455fdb",
   "metadata": {},
   "source": [
    "### and 조건"
   ]
  },
  {
   "cell_type": "code",
   "execution_count": 86,
   "id": "478853bf",
   "metadata": {},
   "outputs": [
    {
     "data": {
      "text/plain": [
       "(3, '빨강색')"
      ]
     },
     "execution_count": 86,
     "metadata": {},
     "output_type": "execute_result"
    }
   ],
   "source": [
    "qs = Choice.objects.filter(pk=3, choice_text='빨강색')\n",
    "qs.first().id, qs.first().choice_text"
   ]
  },
  {
   "cell_type": "code",
   "execution_count": 40,
   "id": "dbaba606",
   "metadata": {},
   "outputs": [
    {
     "name": "stdout",
     "output_type": "stream",
     "text": [
      "<QuerySet [<Choice: 검정색>, <Choice: 파랑색>, <Choice: 빨강색>]>\n"
     ]
    },
    {
     "data": {
      "text/plain": [
       "dict_items([('2', '빨강색'), ('0', '검정색'), ('1', '파랑색')])"
      ]
     },
     "execution_count": 40,
     "metadata": {},
     "output_type": "execute_result"
    }
   ],
   "source": [
    "qs = Choice.objects.filter(question_id=1)\n",
    "print(qs)\n",
    "for idx, q in enumerate(qs):\n",
    "    dic[\"{}\".format(idx)]=q.choice_text\n",
    "dic.items()"
   ]
  },
  {
   "cell_type": "code",
   "execution_count": 32,
   "id": "392aa90f",
   "metadata": {},
   "outputs": [
    {
     "data": {
      "text/plain": [
       "<QuerySet []>"
      ]
     },
     "execution_count": 32,
     "metadata": {},
     "output_type": "execute_result"
    }
   ],
   "source": [
    "qs = Choice.objects.filter(pk__lt=5, choice_text__contains='색')\n",
    "qs"
   ]
  },
  {
   "cell_type": "code",
   "execution_count": 93,
   "id": "0471e568",
   "metadata": {},
   "outputs": [
    {
     "name": "stdout",
     "output_type": "stream",
     "text": [
      "SELECT \"polls_choice\".\"id\", \"polls_choice\".\"choice_text\", \"polls_choice\".\"vote\", \"polls_choice\".\"question_id\" FROM \"polls_choice\" WHERE NOT (\"polls_choice\".\"id\" = 5)\n",
      "1 검정색\n",
      "2 파랑색\n",
      "3 빨강색\n",
      "4 한국\n",
      "6 영국\n",
      "7 강아지\n",
      "8 고양이\n",
      "9 거북이\n",
      "10 러시아\n",
      "11 스페인\n"
     ]
    }
   ],
   "source": [
    "# OR조건 Q(), ~Q()\n",
    "from django.db.models import Q\n",
    "# qs = Choice.objects.filter(Q(pk__gt=5)|Q(choice_text__contains='색'))\n",
    "# qs = Choice.objects.filter(Q(pk__gt=5)|~Q(choice_text__contains='색')) # Not\n",
    "qs = Choice.objects.filter(~Q(pk=5))\n",
    "print(qs.query)\n",
    "for q in qs:\n",
    "    print(q.id, q.choice_text)"
   ]
  },
  {
   "cell_type": "code",
   "execution_count": 95,
   "id": "1de97af4",
   "metadata": {},
   "outputs": [
    {
     "name": "stdout",
     "output_type": "stream",
     "text": [
      "SELECT \"polls_choice\".\"id\", \"polls_choice\".\"choice_text\", \"polls_choice\".\"vote\", \"polls_choice\".\"question_id\" FROM \"polls_choice\" WHERE NOT (\"polls_choice\".\"id\" < 5)\n",
      "5 미국\n",
      "6 영국\n",
      "7 강아지\n",
      "8 고양이\n",
      "9 거북이\n",
      "10 러시아\n",
      "11 스페인\n"
     ]
    }
   ],
   "source": [
    "qs = Choice.objects.exclude(pk=5)\n",
    "qs = Choice.objects.exclude(pk__lt=5)\n",
    "print(qs.query)\n",
    "for q in qs:\n",
    "    print(q.id, q.choice_text)"
   ]
  },
  {
   "cell_type": "markdown",
   "id": "ec9f808e",
   "metadata": {},
   "source": [
    "# 컬럼 선택\n",
    "select 컬럼, 컬럼\n",
    "- values(field이름,....)\n",
    "    - 개별 조회결과를 Dictionary에 넣어서 반환."
   ]
  },
  {
   "cell_type": "code",
   "execution_count": 103,
   "id": "bccbef95",
   "metadata": {},
   "outputs": [
    {
     "name": "stdout",
     "output_type": "stream",
     "text": [
      "SELECT \"polls_choice\".\"id\", \"polls_choice\".\"choice_text\" FROM \"polls_choice\" ORDER BY \"polls_choice\".\"id\" DESC\n",
      "11 스페인\n",
      "10 러시아\n",
      "9 거북이\n",
      "8 고양이\n",
      "7 강아지\n",
      "6 영국\n",
      "5 미국\n",
      "4 한국\n",
      "3 빨강색\n",
      "2 파랑색\n",
      "1 검정색\n"
     ]
    }
   ],
   "source": [
    "qs = Choice.objects.all().values('id', 'choice_text').order_by('-id')\n",
    "print(qs.query)\n",
    "for q in qs:\n",
    "    print(q['id'], q['choice_text'])"
   ]
  },
  {
   "cell_type": "markdown",
   "id": "d1a526f4",
   "metadata": {},
   "source": [
    "# 집계\n",
    "- 단순 집계\n",
    "    - aggregate(집계함수(),...)\n",
    "- Group by집계\n",
    "    - values(그룹으로 묶을 컬럼).annotate(집계함수(),...)\n",
    "- 결과를 dictionary로 반환\n"
   ]
  },
  {
   "cell_type": "code",
   "execution_count": 6,
   "id": "6b7b45d2",
   "metadata": {},
   "outputs": [
    {
     "data": {
      "text/plain": [
       "(2, 2)"
      ]
     },
     "execution_count": 6,
     "metadata": {},
     "output_type": "execute_result"
    }
   ],
   "source": [
    "# 조회결과 행수 조회\n",
    "qs = Choice.objects.all()\n",
    "qs = Choice.objects.filter(id__lt=3)\n",
    "len(qs), qs.count()"
   ]
  },
  {
   "cell_type": "code",
   "execution_count": 7,
   "id": "bf9e025e",
   "metadata": {},
   "outputs": [],
   "source": [
    "from django.db.models import Count, Sum, Avg, Min, Max, StdDev, Variance"
   ]
  },
  {
   "cell_type": "code",
   "execution_count": 12,
   "id": "aae79c70",
   "metadata": {},
   "outputs": [
    {
     "data": {
      "text/plain": [
       "(dict,\n",
       " {'id__count': 11,\n",
       "  'choice_text__count': 11,\n",
       "  'vote__sum': 331,\n",
       "  'vote__avg': 30.09090909090909,\n",
       "  'vote__min': 2,\n",
       "  'vote__max': 82,\n",
       "  'vote__stddev': 27.337801153363202,\n",
       "  'vote__variance': 747.3553719008264})"
      ]
     },
     "execution_count": 12,
     "metadata": {},
     "output_type": "execute_result"
    }
   ],
   "source": [
    "# dic = Choice.objects.aggregate(Count('id')) # sql: select count('id') form choice\n",
    "dic = Choice.objects.aggregate(Count('id'), Count('choice_text'), Sum('vote'), Avg('vote'), Min('vote'), Max('vote'), StdDev('vote'),Variance('vote'))\n",
    "type(dic), dic"
   ]
  },
  {
   "cell_type": "code",
   "execution_count": 14,
   "id": "99c8d6ca",
   "metadata": {},
   "outputs": [
    {
     "data": {
      "text/plain": [
       "{'pub_date__min': datetime.datetime(2021, 5, 25, 5, 18, 55, 578487, tzinfo=<UTC>),\n",
       " 'pub_date__max': datetime.datetime(2021, 5, 25, 5, 20, 55, 995019, tzinfo=<UTC>)}"
      ]
     },
     "execution_count": 14,
     "metadata": {},
     "output_type": "execute_result"
    }
   ],
   "source": [
    "dic = Question.objects.aggregate(Min('pub_date'), Max('pub_date'))\n",
    "dic"
   ]
  },
  {
   "cell_type": "code",
   "execution_count": 16,
   "id": "4bf54614",
   "metadata": {},
   "outputs": [
    {
     "data": {
      "text/plain": [
       "(datetime.datetime(2021, 5, 25, 5, 18, 55, 578487, tzinfo=<UTC>),\n",
       " datetime.datetime(2021, 5, 25, 5, 20, 55, 995019, tzinfo=<UTC>))"
      ]
     },
     "execution_count": 16,
     "metadata": {},
     "output_type": "execute_result"
    }
   ],
   "source": [
    "dic['pub_date__min'],dic['pub_date__max'] "
   ]
  },
  {
   "cell_type": "code",
   "execution_count": 17,
   "id": "cbb77b67",
   "metadata": {},
   "outputs": [
    {
     "name": "stdout",
     "output_type": "stream",
     "text": [
      "2021-05-25 05:18:55.578487+00:00 2021-05-25 05:20:55.995019+00:00\n"
     ]
    }
   ],
   "source": [
    "print(dic['pub_date__min'],dic['pub_date__max'])"
   ]
  },
  {
   "cell_type": "code",
   "execution_count": 19,
   "id": "b72ea9aa",
   "metadata": {},
   "outputs": [
    {
     "data": {
      "text/plain": [
       "'2021년 18월 25일'"
      ]
     },
     "execution_count": 19,
     "metadata": {},
     "output_type": "execute_result"
    }
   ],
   "source": [
    "dic['pub_date__min'].strftime('%Y년 %M월 %d일')"
   ]
  },
  {
   "cell_type": "code",
   "execution_count": 28,
   "id": "c9800ace",
   "metadata": {},
   "outputs": [
    {
     "data": {
      "text/plain": [
       "{'vote__sum': 53}"
      ]
     },
     "execution_count": 28,
     "metadata": {},
     "output_type": "execute_result"
    }
   ],
   "source": [
    "# where + 집계\n",
    "dic = Choice.objects.filter(id__gt = 5).aggregate(Sum('vote'))\n",
    "dic"
   ]
  },
  {
   "cell_type": "code",
   "execution_count": 34,
   "id": "f7ecc275",
   "metadata": {},
   "outputs": [
    {
     "data": {
      "text/plain": [
       "<QuerySet [{'question_id': 1, 'vote__sum': 141, 'vote__avg': 47.0}, {'question_id': 2, 'vote__sum': 36, 'vote__avg': 12.0}, {'question_id': 3, 'vote__sum': 154, 'vote__avg': 30.8}]>"
      ]
     },
     "execution_count": 34,
     "metadata": {},
     "output_type": "execute_result"
    }
   ],
   "source": [
    "# group by \n",
    "# choice => 질문별 vote의 합계, 평균\n",
    "# 그룹별 집계: dictionary, 최종반환: QuerySet\n",
    "qs = Choice.objects.values('question_id').annotate(Sum('vote'), Avg('vote'))\n",
    "qs"
   ]
  },
  {
   "cell_type": "code",
   "execution_count": 35,
   "id": "d8a84ba3",
   "metadata": {},
   "outputs": [
    {
     "name": "stdout",
     "output_type": "stream",
     "text": [
      "{'question_id': 1, 'vote__sum': 141, 'vote__avg': 47.0}\n",
      "{'question_id': 2, 'vote__sum': 36, 'vote__avg': 12.0}\n",
      "{'question_id': 3, 'vote__sum': 154, 'vote__avg': 30.8}\n"
     ]
    }
   ],
   "source": [
    "for d in qs:\n",
    "    print(d)"
   ]
  },
  {
   "cell_type": "code",
   "execution_count": 37,
   "id": "8ea27b36",
   "metadata": {},
   "outputs": [
    {
     "name": "stdout",
     "output_type": "stream",
     "text": [
      "질문:1, 투표합계:141, 투표평균:47.0\n",
      "질문:2, 투표합계:36, 투표평균:12.0\n",
      "질문:3, 투표합계:154, 투표평균:30.8\n"
     ]
    }
   ],
   "source": [
    "for d in qs:\n",
    "    print(f\"질문:{d['question_id']}, 투표합계:{d['vote__sum']}, 투표평균:{d['vote__avg']}\")"
   ]
  },
  {
   "cell_type": "markdown",
   "id": "e87694c4",
   "metadata": {},
   "source": [
    "# 테이블간의 관계"
   ]
  },
  {
   "cell_type": "markdown",
   "id": "09e814d4",
   "metadata": {},
   "source": [
    "## 자식테이블에서 부모 테이블의 값을 조회"
   ]
  },
  {
   "cell_type": "code",
   "execution_count": 46,
   "id": "62fda672",
   "metadata": {},
   "outputs": [
    {
     "data": {
      "text/plain": [
       "(<Question: 좋아하는 색깔은 무엇입니까?>, 1, '빨강색', polls.models.Choice)"
      ]
     },
     "execution_count": 46,
     "metadata": {},
     "output_type": "execute_result"
    }
   ],
   "source": [
    "c1 = Choice.objects.get(pk=3)\n",
    "c1.question, c1.question_id, c1.choice_text, type(c1)"
   ]
  },
  {
   "cell_type": "code",
   "execution_count": 48,
   "id": "c087bc75",
   "metadata": {},
   "outputs": [
    {
     "data": {
      "text/plain": [
       "(3, 3, '빨강색', 56, <Question: 좋아하는 색깔은 무엇입니까?>, 1)"
      ]
     },
     "execution_count": 48,
     "metadata": {},
     "output_type": "execute_result"
    }
   ],
   "source": [
    "# 모델에서 속성들 조회 => 각 컬럼들 값 조회.\n",
    "c1.id, c1.pk, c1.choice_text, c1.vote, c1.question, c1.question_id"
   ]
  },
  {
   "cell_type": "code",
   "execution_count": 51,
   "id": "67d9d579",
   "metadata": {},
   "outputs": [
    {
     "data": {
      "text/plain": [
       "<SubChoice: 빨강색이다>"
      ]
     },
     "execution_count": 51,
     "metadata": {},
     "output_type": "execute_result"
    }
   ],
   "source": [
    "sc1 = SubChoice.objects.get(pk=3)\n",
    "sc1"
   ]
  },
  {
   "cell_type": "code",
   "execution_count": 52,
   "id": "dfd275fd",
   "metadata": {},
   "outputs": [
    {
     "data": {
      "text/plain": [
       "(3, <Choice: 빨강색>, 3, '빨강색이다')"
      ]
     },
     "execution_count": 52,
     "metadata": {},
     "output_type": "execute_result"
    }
   ],
   "source": [
    "sc1.sub_id, sc1.sub_choice, sc1.sub_choice_id, sc1.description"
   ]
  },
  {
   "cell_type": "markdown",
   "id": "665655a8",
   "metadata": {},
   "source": [
    "## 부모테이블에서 자식테이블 값을 조회"
   ]
  },
  {
   "cell_type": "code",
   "execution_count": 54,
   "id": "b1a7581c",
   "metadata": {},
   "outputs": [
    {
     "data": {
      "text/plain": [
       "(<Question: 가고 싶은 나라를 선택하세요>, polls.models.Question)"
      ]
     },
     "execution_count": 54,
     "metadata": {},
     "output_type": "execute_result"
    }
   ],
   "source": [
    "q = Question.objects.get(pk=3)\n",
    "q, type(q)"
   ]
  },
  {
   "cell_type": "code",
   "execution_count": 55,
   "id": "0dcf9ffb",
   "metadata": {},
   "outputs": [
    {
     "data": {
      "text/plain": [
       "(3,\n",
       " '가고 싶은 나라를 선택하세요',\n",
       " datetime.datetime(2021, 5, 25, 5, 20, 55, 995019, tzinfo=<UTC>))"
      ]
     },
     "execution_count": 55,
     "metadata": {},
     "output_type": "execute_result"
    }
   ],
   "source": [
    "q.id, q.question_text, q.pub_date"
   ]
  },
  {
   "cell_type": "code",
   "execution_count": 60,
   "id": "c5381c66",
   "metadata": {},
   "outputs": [
    {
     "data": {
      "text/plain": [
       "<QuerySet [<Choice: 한국>, <Choice: 미국>, <Choice: 영국>, <Choice: 러시아>, <Choice: 스페인>]>"
      ]
     },
     "execution_count": 60,
     "metadata": {},
     "output_type": "execute_result"
    }
   ],
   "source": [
    "c = q.choice_set\n",
    "type(c)\n",
    "c.all()"
   ]
  },
  {
   "cell_type": "code",
   "execution_count": 61,
   "id": "c1100286",
   "metadata": {},
   "outputs": [
    {
     "data": {
      "text/plain": [
       "<QuerySet [<Choice: 한국>]>"
      ]
     },
     "execution_count": 61,
     "metadata": {},
     "output_type": "execute_result"
    }
   ],
   "source": [
    "c.filter(choice_text = '한국')"
   ]
  },
  {
   "cell_type": "markdown",
   "id": "d5b91195",
   "metadata": {},
   "source": [
    "# insert / update / delete\n",
    "- insert/update\n",
    "    - 모델객체(insert할 내용을가진).save()\n",
    "- delete\n",
    "    - 모델객체(삭제할 pk를 가진).delete()"
   ]
  },
  {
   "cell_type": "code",
   "execution_count": 66,
   "id": "f151f27b",
   "metadata": {},
   "outputs": [
    {
     "name": "stdout",
     "output_type": "stream",
     "text": [
      "1\n",
      "2\n",
      "3\n",
      "4\n"
     ]
    }
   ],
   "source": [
    "# insert\n",
    "qs = Question.objects.all()\n",
    "for q in qs:\n",
    "    print(q.pk)"
   ]
  },
  {
   "cell_type": "code",
   "execution_count": 63,
   "id": "4498e591",
   "metadata": {},
   "outputs": [],
   "source": [
    "from datetime import datetime, timedelta"
   ]
  },
  {
   "cell_type": "code",
   "execution_count": 64,
   "id": "4e54b3f0",
   "metadata": {},
   "outputs": [
    {
     "data": {
      "text/plain": [
       "('좋아하는 가수는?', datetime.datetime(2021, 5, 26, 11, 22, 16, 157508), None)"
      ]
     },
     "execution_count": 64,
     "metadata": {},
     "output_type": "execute_result"
    }
   ],
   "source": [
    "# pk: id=자동증가로 설정되있으므로 생략\n",
    "new_q = Question()\n",
    "\n",
    "new_q.question_text='좋아하는 가수는?'\n",
    "new_q.pub_date = datetime.now()\n",
    "new_q.question_text, new_q.pub_date, new_q.pk"
   ]
  },
  {
   "cell_type": "code",
   "execution_count": 80,
   "id": "a674a19b",
   "metadata": {},
   "outputs": [
    {
     "data": {
      "text/plain": [
       "('삭제후 삽입', datetime.datetime(2021, 5, 26, 11, 35, 5, 518939), 1)"
      ]
     },
     "execution_count": 80,
     "metadata": {},
     "output_type": "execute_result"
    }
   ],
   "source": [
    "# pk: id=자동증가로 설정되있으므로 생략\n",
    "new_q = Question()\n",
    "new_q.id = 1\n",
    "new_q.question_text='삭제후 삽입'\n",
    "new_q.pub_date = datetime.now()\n",
    "new_q.question_text, new_q.pub_date, new_q.pk"
   ]
  },
  {
   "cell_type": "code",
   "execution_count": 81,
   "id": "e0941ee4",
   "metadata": {},
   "outputs": [
    {
     "name": "stderr",
     "output_type": "stream",
     "text": [
      "C:\\Users\\mein0\\anaconda3\\envs\\django\\lib\\site-packages\\django\\db\\models\\fields\\__init__.py:1416: RuntimeWarning: DateTimeField Question.pub_date received a naive datetime (2021-05-26 11:35:05.518939) while time zone support is active.\n",
      "  warnings.warn(\"DateTimeField %s received a naive datetime (%s)\"\n"
     ]
    }
   ],
   "source": [
    "new_q.save()"
   ]
  },
  {
   "cell_type": "code",
   "execution_count": 82,
   "id": "afcac3f7",
   "metadata": {},
   "outputs": [
    {
     "name": "stdout",
     "output_type": "stream",
     "text": [
      "1 삭제후 삽입 2021-05-26 02:35:06.990218+00:00\n",
      "2 좋아하는 동물은 무엇입니까? 2021-05-25 05:20:01.945546+00:00\n",
      "3 가고 싶은 나라를 선택하세요 2021-05-25 05:20:55.995019+00:00\n",
      "4 좋아하는가수는 누구입니까? 2021-02-15 02:30:11.436359+00:00\n"
     ]
    }
   ],
   "source": [
    "qs = Question.objects.all()\n",
    "for q in qs:\n",
    "    print(q.pk, q.question_text, q.pub_date)"
   ]
  },
  {
   "cell_type": "code",
   "execution_count": 75,
   "id": "c2f5a809",
   "metadata": {},
   "outputs": [
    {
     "name": "stdout",
     "output_type": "stream",
     "text": [
      "좋아하는가수는 누구입니까? 2021-02-15 11:30:11.436359\n"
     ]
    },
    {
     "name": "stderr",
     "output_type": "stream",
     "text": [
      "C:\\Users\\mein0\\anaconda3\\envs\\django\\lib\\site-packages\\django\\db\\models\\fields\\__init__.py:1416: RuntimeWarning: DateTimeField Question.pub_date received a naive datetime (2021-02-15 11:30:11.436359) while time zone support is active.\n",
      "  warnings.warn(\"DateTimeField %s received a naive datetime (%s)\"\n"
     ]
    }
   ],
   "source": [
    "q = Question.objects.get(pk=4)\n",
    "q.question_text = \"좋아하는가수는 누구입니까?\"\n",
    "q.pub_date = datetime.now() - timedelta(days=100)\n",
    "print(q.question_text, q.pub_date)\n",
    "q.save()"
   ]
  },
  {
   "cell_type": "code",
   "execution_count": 77,
   "id": "47dfcdc0",
   "metadata": {},
   "outputs": [
    {
     "data": {
      "text/plain": [
       "(1, '', None)"
      ]
     },
     "execution_count": 77,
     "metadata": {},
     "output_type": "execute_result"
    }
   ],
   "source": [
    "# 삭제\n",
    "d_q = Question()\n",
    "d_q.id = 1\n",
    "d_q.id, d_q.question_text, d_q.pub_date"
   ]
  },
  {
   "cell_type": "code",
   "execution_count": 78,
   "id": "8005ef8b",
   "metadata": {},
   "outputs": [
    {
     "data": {
      "text/plain": [
       "(7, {'polls.SubChoice': 3, 'polls.Choice': 3, 'polls.Question': 1})"
      ]
     },
     "execution_count": 78,
     "metadata": {},
     "output_type": "execute_result"
    }
   ],
   "source": [
    "d_q.delete()"
   ]
  },
  {
   "cell_type": "code",
   "execution_count": 83,
   "id": "1fbee5ab",
   "metadata": {},
   "outputs": [
    {
     "data": {
      "text/plain": [
       "<QuerySet [<Choice: 한국>, <Choice: 미국>, <Choice: 영국>, <Choice: 강아지>, <Choice: 고양이>, <Choice: 거북이>, <Choice: 러시아>, <Choice: 스페인>]>"
      ]
     },
     "execution_count": 83,
     "metadata": {},
     "output_type": "execute_result"
    }
   ],
   "source": [
    "Choice.objects.all()"
   ]
  },
  {
   "cell_type": "code",
   "execution_count": 86,
   "id": "06a55563",
   "metadata": {},
   "outputs": [],
   "source": [
    "# 특정 조건의 데이터들을 삭제 => 조회\n",
    "# choice_text에 \"국\"이 들어간 것들 삭제\n",
    "qs = Choice.objects.filter(choice_text__endswith='국')\n",
    "for q in qs:\n",
    "    q.delete()"
   ]
  },
  {
   "cell_type": "code",
   "execution_count": 87,
   "id": "5770ae6c",
   "metadata": {},
   "outputs": [
    {
     "data": {
      "text/plain": [
       "<QuerySet [<Choice: 강아지>, <Choice: 고양이>, <Choice: 거북이>, <Choice: 러시아>, <Choice: 스페인>]>"
      ]
     },
     "execution_count": 87,
     "metadata": {},
     "output_type": "execute_result"
    }
   ],
   "source": [
    "Choice.objects.all()"
   ]
  },
  {
   "cell_type": "markdown",
   "id": "0961da0e",
   "metadata": {},
   "source": [
    "# 직접 SQL문을 실행\n",
    "- 모델.objects.raw('select문')\n",
    "    - RawQuerySet"
   ]
  },
  {
   "cell_type": "code",
   "execution_count": 91,
   "id": "c714fa6b",
   "metadata": {},
   "outputs": [
    {
     "data": {
      "text/plain": [
       "(<RawQuerySet: select * from polls_choice>,\n",
       " <RawQuery: select * from polls_choice>)"
      ]
     },
     "execution_count": 91,
     "metadata": {},
     "output_type": "execute_result"
    }
   ],
   "source": [
    "rq = Choice.objects.raw('select * from polls_choice')\n",
    "rq , rq.query"
   ]
  },
  {
   "cell_type": "code",
   "execution_count": 93,
   "id": "5609d16e",
   "metadata": {},
   "outputs": [
    {
     "name": "stdout",
     "output_type": "stream",
     "text": [
      "강아지 <class 'polls.models.Choice'>\n",
      "고양이 <class 'polls.models.Choice'>\n",
      "거북이 <class 'polls.models.Choice'>\n",
      "러시아 <class 'polls.models.Choice'>\n",
      "스페인 <class 'polls.models.Choice'>\n"
     ]
    }
   ],
   "source": [
    "for q in rq:\n",
    "    print(q,type(q))"
   ]
  },
  {
   "cell_type": "code",
   "execution_count": null,
   "id": "284b033f",
   "metadata": {},
   "outputs": [],
   "source": []
  },
  {
   "cell_type": "code",
   "execution_count": null,
   "id": "b5a876e7",
   "metadata": {},
   "outputs": [],
   "source": []
  },
  {
   "cell_type": "code",
   "execution_count": null,
   "id": "2080f2be",
   "metadata": {},
   "outputs": [],
   "source": []
  }
 ],
 "metadata": {
  "kernelspec": {
   "name": "python3810jvsc74a57bd058a1deee1c12f580785083ec4c2f7918cb2ac007aa25a31fc68e76816cde3c6c",
   "display_name": "Python 3.8.10 64-bit ('django': conda)"
  },
  "language_info": {
   "codemirror_mode": {
    "name": "ipython",
    "version": 3
   },
   "file_extension": ".py",
   "mimetype": "text/x-python",
   "name": "python",
   "nbconvert_exporter": "python",
   "pygments_lexer": "ipython3",
   "version": "3.8.10"
  }
 },
 "nbformat": 4,
 "nbformat_minor": 5
}