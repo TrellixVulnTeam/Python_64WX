{
 "cells": [
  {
   "cell_type": "markdown",
   "metadata": {},
   "source": [
    "# Except (예외)\n",
    "- SyntaxError 파이썬 문법에 어긋난 코드 작성시 발생한다.\n",
    "- NameError 정의되지 않은 변수나 함수를 호출 한 경우 발생한다.\n",
    "- TypeError 잘못된 타입의 값을 전달할 경우 발생한다.\n",
    "- ValueError 타입은 맞는데 값이 잘못된 경우 발생한다.\n",
    "- IndexError 없는 index로 리스트나 튜플 값 조회 시 발생\n",
    "- KeyError 없는 key로 딕셔너리의 값 조회 시 발생"
   ]
  },
  {
   "cell_type": "code",
   "execution_count": 1,
   "metadata": {},
   "outputs": [
    {
     "name": "stdout",
     "output_type": "stream",
     "text": [
      "number: 5\n",
      "result:  2.0\n",
      "result : 5\n"
     ]
    }
   ],
   "source": [
    "a = 10 \n",
    "b = int(input(\"number: \"))\n",
    "try:\n",
    "    c = a / b # 예외가 발생할 가능성이 있는 코드(를 시도해봐-try 블럭)\n",
    "    print(\"result: \", c)\n",
    "except ZeroDivisionError: # 만약에 예외가 발생했다면(비정상적 상황) \n",
    "        #except 블럭을 실행 => 정상화 => 예외처리\n",
    "    print(\"can not divide by 0\")\n",
    "\n",
    "d =  a - b\n",
    "print(\"result :\", d)"
   ]
  },
  {
   "cell_type": "code",
   "execution_count": 2,
   "metadata": {},
   "outputs": [],
   "source": [
    "a = 10 \n",
    "def mmm():\n",
    "    try:\n",
    "        b = int(input(\"number: \"))\n",
    "        try:\n",
    "            c = a / b # 예외가 발생할 가능성이 있는 코드(를 시도해봐-try 블럭)\n",
    "            print(\"result: \", c)\n",
    "            d =  a - b\n",
    "            print(\"result :\", d)\n",
    "        except: # 만약에 예외가 발생했다면(비정상적 상황) \n",
    "            #except 블럭을 실행 => 정상화 => 예외처리\n",
    "            print(\"can not divide by 0\")\n",
    "    except:\n",
    "        print(\"number please\")\n",
    "        mmm()\n",
    "\n"
   ]
  },
  {
   "cell_type": "code",
   "execution_count": 3,
   "metadata": {},
   "outputs": [
    {
     "name": "stdout",
     "output_type": "stream",
     "text": [
      "number: asdf5\n",
      "number please\n",
      "number: e5\n",
      "number please\n",
      "number: 5\n",
      "result:  2.0\n",
      "result : 5\n"
     ]
    }
   ],
   "source": [
    "mmm()"
   ]
  },
  {
   "cell_type": "code",
   "execution_count": 4,
   "metadata": {},
   "outputs": [
    {
     "name": "stdout",
     "output_type": "stream",
     "text": [
      "Name Error 발생 처리\n",
      "정상 종료\n"
     ]
    }
   ],
   "source": [
    "# 특정 exception만 처리\n",
    "try:\n",
    "#    a = 10 / 0 # ZerodivisionError\n",
    "    b = test(a)  # NameError\n",
    "    l = [1,2,3]\n",
    "#    print(l[20] + b) # Index Error\n",
    "except NameError: #IndexError: #ZeroDivisionError:  \n",
    "    print(\"Name Error 발생 처리\")\n",
    "    \n",
    "print(\"정상 종료\")"
   ]
  },
  {
   "cell_type": "code",
   "execution_count": 5,
   "metadata": {},
   "outputs": [
    {
     "name": "stdout",
     "output_type": "stream",
     "text": [
      "나머지 error\n",
      "정상 종료\n"
     ]
    }
   ],
   "source": [
    "try:\n",
    "    #위에서 부터 순차적으로 확인.\n",
    "#    a = 10 / 0 # ZerodivisionError\n",
    "#    b = test(a)  # NameError\n",
    "    l = [1,2,3]\n",
    "    print(l[20] + b) # Index Error\n",
    "except NameError: #IndexError: #ZeroDivisionError:  \n",
    "    print(\"Name Error 발생 처리\")\n",
    "    \n",
    "except ZeroDivisionError: #IndexError: #ZeroDivisionError:  \n",
    "    print(\"ZeroDivision Error 발생 처리\")\n",
    "    \n",
    "#except IndexError: #IndexError: #ZeroDivisionError:  \n",
    "#    print(\"Index Error 발생 처리\")\n",
    "    \n",
    "except:\n",
    "    print(\"나머지 error\") # 상위 외의 에러가 발생시 처리.\n",
    "    \n",
    "print(\"정상 종료\")"
   ]
  },
  {
   "cell_type": "markdown",
   "metadata": {},
   "source": [
    "## Finally"
   ]
  },
  {
   "cell_type": "code",
   "execution_count": 9,
   "metadata": {
    "scrolled": true
   },
   "outputs": [
    {
     "name": "stdout",
     "output_type": "stream",
     "text": [
      "0.1\n",
      "try 블럭 실행\n",
      "finally 블럭 실행\n"
     ]
    },
    {
     "ename": "NameError",
     "evalue": "name 'test' is not defined",
     "output_type": "error",
     "traceback": [
      "\u001b[1;31m---------------------------------------------------------------------------\u001b[0m",
      "\u001b[1;31mNameError\u001b[0m                                 Traceback (most recent call last)",
      "\u001b[1;32m<ipython-input-9-8dd44e945672>\u001b[0m in \u001b[0;36m<module>\u001b[1;34m\u001b[0m\n\u001b[0;32m      3\u001b[0m     \u001b[0mprint\u001b[0m\u001b[1;33m(\u001b[0m\u001b[1;36m1\u001b[0m\u001b[1;33m/\u001b[0m\u001b[1;36m10\u001b[0m\u001b[1;33m)\u001b[0m\u001b[1;33m\u001b[0m\u001b[1;33m\u001b[0m\u001b[0m\n\u001b[0;32m      4\u001b[0m     \u001b[0mprint\u001b[0m\u001b[1;33m(\u001b[0m\u001b[1;34m\"try 블럭 실행\"\u001b[0m\u001b[1;33m)\u001b[0m\u001b[1;33m\u001b[0m\u001b[1;33m\u001b[0m\u001b[0m\n\u001b[1;32m----> 5\u001b[1;33m     \u001b[0mtest\u001b[0m\u001b[1;33m(\u001b[0m\u001b[1;33m)\u001b[0m \u001b[1;31m# NameError\u001b[0m\u001b[1;33m\u001b[0m\u001b[1;33m\u001b[0m\u001b[0m\n\u001b[0m\u001b[0;32m      6\u001b[0m \u001b[1;32mexcept\u001b[0m \u001b[0mZeroDivisionError\u001b[0m\u001b[1;33m:\u001b[0m\u001b[1;33m\u001b[0m\u001b[1;33m\u001b[0m\u001b[0m\n\u001b[0;32m      7\u001b[0m     \u001b[0mprint\u001b[0m\u001b[1;33m(\u001b[0m\u001b[1;34m\"except 블럭 실행\"\u001b[0m\u001b[1;33m)\u001b[0m\u001b[1;33m\u001b[0m\u001b[1;33m\u001b[0m\u001b[0m\n",
      "\u001b[1;31mNameError\u001b[0m: name 'test' is not defined"
     ]
    }
   ],
   "source": [
    "try:\n",
    "    #print(1/0) # ZerodivisionError\n",
    "    print(1/10)\n",
    "    print(\"try 블럭 실행\")\n",
    "    test() # NameError\n",
    "except ZeroDivisionError:\n",
    "    print(\"except 블럭 실행\")\n",
    "finally: # 무조건 실행되는 블럭 코드. I/O에서 외부자원과 연결을 닫는 코드를 작성.\n",
    "    print(\"finally 블럭 실행\")\n",
    "print(\"종료\")"
   ]
  },
  {
   "cell_type": "code",
   "execution_count": 14,
   "metadata": {},
   "outputs": [],
   "source": [
    "dic = {\n",
    "    \"사과\":10,\n",
    "    \"귤\":20,\n",
    "    \"배\":5\n",
    "}"
   ]
  },
  {
   "cell_type": "code",
   "execution_count": 18,
   "metadata": {},
   "outputs": [
    {
     "data": {
      "text/plain": [
       "(10, 10)"
      ]
     },
     "execution_count": 18,
     "metadata": {},
     "output_type": "execute_result"
    }
   ],
   "source": [
    "dic['사과'], dic.get('사과')"
   ]
  },
  {
   "cell_type": "code",
   "execution_count": 22,
   "metadata": {},
   "outputs": [
    {
     "ename": "KeyError",
     "evalue": "'복숭아'",
     "output_type": "error",
     "traceback": [
      "\u001b[1;31m---------------------------------------------------------------------------\u001b[0m",
      "\u001b[1;31mKeyError\u001b[0m                                  Traceback (most recent call last)",
      "\u001b[1;32m<ipython-input-22-32483cfea711>\u001b[0m in \u001b[0;36m<module>\u001b[1;34m\u001b[0m\n\u001b[1;32m----> 1\u001b[1;33m \u001b[0mdic\u001b[0m\u001b[1;33m[\u001b[0m\u001b[1;34m'복숭아'\u001b[0m\u001b[1;33m]\u001b[0m\u001b[1;33m\u001b[0m\u001b[1;33m\u001b[0m\u001b[0m\n\u001b[0m",
      "\u001b[1;31mKeyError\u001b[0m: '복숭아'"
     ]
    }
   ],
   "source": [
    "dic['복숭아']"
   ]
  },
  {
   "cell_type": "code",
   "execution_count": 25,
   "metadata": {},
   "outputs": [
    {
     "name": "stdout",
     "output_type": "stream",
     "text": [
      "복숭아는 없습니다.\n"
     ]
    }
   ],
   "source": [
    "try: # 위처럼 keyError를 예외 처리할수있다.\n",
    "    r = dic['복숭아']\n",
    "    print(r)\n",
    "except:\n",
    "    print(\"복숭아는 없습니다.\")"
   ]
  },
  {
   "cell_type": "code",
   "execution_count": 27,
   "metadata": {},
   "outputs": [
    {
     "name": "stdout",
     "output_type": "stream",
     "text": [
      "복숭아는 없습니다.\n"
     ]
    }
   ],
   "source": [
    "r = dic.get(\"복숭아\")\n",
    "if r != None: # if r:\n",
    "    print(r)\n",
    "else:\n",
    "    print(\"복숭아는 없습니다.\")"
   ]
  },
  {
   "cell_type": "markdown",
   "metadata": {},
   "source": [
    "## 함수/메소드 호출 흐름\n",
    "- call stack mechanism"
   ]
  },
  {
   "cell_type": "code",
   "execution_count": 38,
   "metadata": {},
   "outputs": [],
   "source": [
    "def a():\n",
    "    print(\"a 시작\")\n",
    "    try:\n",
    "        b()\n",
    "    except:\n",
    "        print(\"A에서 예외 처리\")\n",
    "    print(\"a 종료\")\n",
    "\n",
    "def b():\n",
    "    print(\"b 시작\")\n",
    "    c()\n",
    "#     try:\n",
    "#         c()\n",
    "#     except:\n",
    "#         print(\"B에서 예외 처리\")\n",
    "    print(\"b 종료\")\n",
    "\n",
    "def c():\n",
    "    print(\"c 시작\")\n",
    "    print(10/0)\n",
    "    print(\"c 종료\")"
   ]
  },
  {
   "cell_type": "code",
   "execution_count": 39,
   "metadata": {},
   "outputs": [
    {
     "name": "stdout",
     "output_type": "stream",
     "text": [
      "a 시작\n",
      "b 시작\n",
      "c 시작\n",
      "A에서 예외 처리\n",
      "a 종료\n"
     ]
    }
   ],
   "source": [
    "a()"
   ]
  },
  {
   "cell_type": "markdown",
   "metadata": {},
   "source": [
    "### 예외 클래스 생성 및 예외 발생"
   ]
  },
  {
   "cell_type": "code",
   "execution_count": 61,
   "metadata": {},
   "outputs": [],
   "source": [
    "def set_month(month):\n",
    "    \"\"\"\n",
    "    월을 변경하는 함수\n",
    "    \"\"\"\n",
    "    if month >= 1 and month <= 12:\n",
    "        print(f\"{month}를 {month}월로 변경합니다.\")\n",
    "    else:\n",
    "        #예외를 발생시킨다.\n",
    "        raise Exception()\n",
    "#    self.month = month"
   ]
  },
  {
   "cell_type": "code",
   "execution_count": 67,
   "metadata": {},
   "outputs": [
    {
     "ename": "Exception",
     "evalue": "",
     "output_type": "error",
     "traceback": [
      "\u001b[1;31m---------------------------------------------------------------------------\u001b[0m",
      "\u001b[1;31mException\u001b[0m                                 Traceback (most recent call last)",
      "\u001b[1;32m<ipython-input-67-a01bcda3d240>\u001b[0m in \u001b[0;36m<module>\u001b[1;34m\u001b[0m\n\u001b[1;32m----> 1\u001b[1;33m \u001b[0mset_month\u001b[0m\u001b[1;33m(\u001b[0m\u001b[1;36m15\u001b[0m\u001b[1;33m)\u001b[0m\u001b[1;33m\u001b[0m\u001b[1;33m\u001b[0m\u001b[0m\n\u001b[0m\u001b[0;32m      2\u001b[0m \u001b[1;31m# try:\u001b[0m\u001b[1;33m\u001b[0m\u001b[1;33m\u001b[0m\u001b[1;33m\u001b[0m\u001b[0m\n\u001b[0;32m      3\u001b[0m \u001b[1;31m#     set_month(15)\u001b[0m\u001b[1;33m\u001b[0m\u001b[1;33m\u001b[0m\u001b[1;33m\u001b[0m\u001b[0m\n\u001b[0;32m      4\u001b[0m \u001b[1;31m# except:\u001b[0m\u001b[1;33m\u001b[0m\u001b[1;33m\u001b[0m\u001b[1;33m\u001b[0m\u001b[0m\n\u001b[0;32m      5\u001b[0m \u001b[1;31m#     print(\"예외 처리\")\u001b[0m\u001b[1;33m\u001b[0m\u001b[1;33m\u001b[0m\u001b[1;33m\u001b[0m\u001b[0m\n",
      "\u001b[1;32m<ipython-input-61-4091d42d92bf>\u001b[0m in \u001b[0;36mset_month\u001b[1;34m(month)\u001b[0m\n\u001b[0;32m      7\u001b[0m     \u001b[1;32melse\u001b[0m\u001b[1;33m:\u001b[0m\u001b[1;33m\u001b[0m\u001b[1;33m\u001b[0m\u001b[0m\n\u001b[0;32m      8\u001b[0m         \u001b[1;31m#예외를 발생시킨다.\u001b[0m\u001b[1;33m\u001b[0m\u001b[1;33m\u001b[0m\u001b[1;33m\u001b[0m\u001b[0m\n\u001b[1;32m----> 9\u001b[1;33m         \u001b[1;32mraise\u001b[0m \u001b[0mException\u001b[0m\u001b[1;33m(\u001b[0m\u001b[1;33m)\u001b[0m\u001b[1;33m\u001b[0m\u001b[1;33m\u001b[0m\u001b[0m\n\u001b[0m\u001b[0;32m     10\u001b[0m \u001b[1;31m#    self.month = month\u001b[0m\u001b[1;33m\u001b[0m\u001b[1;33m\u001b[0m\u001b[1;33m\u001b[0m\u001b[0m\n",
      "\u001b[1;31mException\u001b[0m: "
     ]
    }
   ],
   "source": [
    "set_month(15)\n",
    "# try:\n",
    "#     set_month(15)\n",
    "# except:\n",
    "#     print(\"예외 처리\")\n",
    "#     set_month(1)\n",
    "print(\"raise이후 월 변경후 해야하는 다음 작업 실행\")"
   ]
  },
  {
   "cell_type": "code",
   "execution_count": 56,
   "metadata": {},
   "outputs": [],
   "source": [
    "?set_month"
   ]
  },
  {
   "cell_type": "code",
   "execution_count": 72,
   "metadata": {},
   "outputs": [],
   "source": [
    "# 예외 클래스 정의: 이름관례 - ~~~Error\n",
    "class InvalidMonthError(Exception):\n",
    "    \n",
    "    def __init__(self, invalid_month):\n",
    "        self.invalid_month = invalid_month\n",
    "        \n",
    "    def __str__ (self):\n",
    "        return f\"{self.invalid_month} - 사용할 수 없는 월입니다. 1 ~ 12만 가능.\""
   ]
  },
  {
   "cell_type": "code",
   "execution_count": 69,
   "metadata": {},
   "outputs": [],
   "source": [
    "def set_month(month):\n",
    "    \"\"\"\n",
    "    월을 변경하는 함수\n",
    "    [매개변수]\n",
    "        month: int - 변경할 월(1 ~ 12사이의 정수)\n",
    "    [반환값]\n",
    "    \n",
    "    [exception]\n",
    "        InvalidMonthError: 변경할 수 없는 월을 매개변수로 받으면 발생.\n",
    "    \"\"\"\n",
    "    if month >= 1 and month <= 12:\n",
    "        print(f\"{month}를 {month}월로 변경합니다.\")\n",
    "    else:\n",
    "        #예외를 발생시킨다. raise Exception객체\n",
    "        raise InvalidMonthError(month)"
   ]
  },
  {
   "cell_type": "code",
   "execution_count": 73,
   "metadata": {},
   "outputs": [
    {
     "ename": "InvalidMonthError",
     "evalue": "15 - 사용할 수 없는 월입니다. 1 ~ 12만 가능.",
     "output_type": "error",
     "traceback": [
      "\u001b[1;31m---------------------------------------------------------------------------\u001b[0m",
      "\u001b[1;31mInvalidMonthError\u001b[0m                         Traceback (most recent call last)",
      "\u001b[1;32m<ipython-input-73-7c359318073b>\u001b[0m in \u001b[0;36m<module>\u001b[1;34m\u001b[0m\n\u001b[1;32m----> 1\u001b[1;33m \u001b[0mset_month\u001b[0m\u001b[1;33m(\u001b[0m\u001b[1;36m15\u001b[0m\u001b[1;33m)\u001b[0m\u001b[1;33m\u001b[0m\u001b[1;33m\u001b[0m\u001b[0m\n\u001b[0m",
      "\u001b[1;32m<ipython-input-69-93f21846dc05>\u001b[0m in \u001b[0;36mset_month\u001b[1;34m(month)\u001b[0m\n\u001b[0;32m     13\u001b[0m     \u001b[1;32melse\u001b[0m\u001b[1;33m:\u001b[0m\u001b[1;33m\u001b[0m\u001b[1;33m\u001b[0m\u001b[0m\n\u001b[0;32m     14\u001b[0m         \u001b[1;31m#예외를 발생시킨다. raise Exception객체\u001b[0m\u001b[1;33m\u001b[0m\u001b[1;33m\u001b[0m\u001b[1;33m\u001b[0m\u001b[0m\n\u001b[1;32m---> 15\u001b[1;33m         \u001b[1;32mraise\u001b[0m \u001b[0mInvalidMonthError\u001b[0m\u001b[1;33m(\u001b[0m\u001b[0mmonth\u001b[0m\u001b[1;33m)\u001b[0m\u001b[1;33m\u001b[0m\u001b[1;33m\u001b[0m\u001b[0m\n\u001b[0m\u001b[0;32m     16\u001b[0m \u001b[1;31m#    self.month = month\u001b[0m\u001b[1;33m\u001b[0m\u001b[1;33m\u001b[0m\u001b[1;33m\u001b[0m\u001b[0m\n",
      "\u001b[1;31mInvalidMonthError\u001b[0m: 15 - 사용할 수 없는 월입니다. 1 ~ 12만 가능."
     ]
    }
   ],
   "source": [
    "set_month(15)"
   ]
  },
  {
   "cell_type": "code",
   "execution_count": 75,
   "metadata": {},
   "outputs": [
    {
     "name": "stdout",
     "output_type": "stream",
     "text": [
      "set_month 호출시 오류발생,100 - 사용할 수 없는 월입니다. 1 ~ 12만 가능.,100\n",
      "100 - 사용할 수 없는 월입니다. 1 ~ 12만 가능.\n"
     ]
    }
   ],
   "source": [
    "try:\n",
    "    set_month(100)\n",
    "    print(\"월 변경후 해야하는 다음 작업 실행\")\n",
    "except InvalidMonthError as e: # except 예외클래스 as 변수 : 변수를 이용해 raise된 exception객체를 받을 수잇다.\n",
    "    print(\"set_month 호출시 오류발생\", e, e.invalid_month, sep=\",\")\n",
    "    print(e)"
   ]
  },
  {
   "cell_type": "code",
   "execution_count": null,
   "metadata": {},
   "outputs": [],
   "source": []
  },
  {
   "cell_type": "code",
   "execution_count": null,
   "metadata": {},
   "outputs": [],
   "source": [
    "#주문 함수\n",
    "1. 재고량을 조회\n",
    "2. 주문량과 재고량을 비교\n",
    "    2-1 재고량 >= 주문량 : 정상 주문처리\n",
    "    2-2 재고량 < 주문량 : 주문처리(X) => 예외를 발생\n"
   ]
  },
  {
   "cell_type": "code",
   "execution_count": 76,
   "metadata": {},
   "outputs": [],
   "source": [
    "# 주문처리를 못하는 상황에서 발생시킬 예외 클라스\n",
    "class OrderFailError(Exception):\n",
    "    def __init__(self, error_message):\n",
    "        self.error_message = error_message\n",
    "        \n",
    "    def __str__(self):\n",
    "        return self.error_message"
   ]
  },
  {
   "cell_type": "code",
   "execution_count": 83,
   "metadata": {},
   "outputs": [],
   "source": [
    "def order(order_amount):\n",
    "    \"\"\"\n",
    "    [매개변수]\n",
    "        order_amount : int - 주문량\n",
    "    \"\"\"\n",
    "    # 재고량을 조회\n",
    "    stock_amount = 10\n",
    "    \n",
    "    if stock_amount < order_amount: # 재고량보다 주문량이 많으면\n",
    "        raise OrderFailError(f\"주문량이 재고량보다 많습니다. 주문량: {order_amount}, 재고량: {stock_amount}\")\n",
    "    \n",
    "    # 주문처리\n",
    "    stock_amount = stock_amount - order_amount\n",
    "    print(\"주문 처리 완료\")\n",
    "    print(f\"주문처리량: {order_amount}, 주문후 재고량: {stock_amount}\")"
   ]
  },
  {
   "cell_type": "code",
   "execution_count": 85,
   "metadata": {
    "scrolled": true
   },
   "outputs": [
    {
     "ename": "OrderFailError",
     "evalue": "주문량이 재고량보다 많습니다. 주문량: 100, 재고량: 10",
     "output_type": "error",
     "traceback": [
      "\u001b[1;31m---------------------------------------------------------------------------\u001b[0m",
      "\u001b[1;31mOrderFailError\u001b[0m                            Traceback (most recent call last)",
      "\u001b[1;32m<ipython-input-85-febfbf07521e>\u001b[0m in \u001b[0;36m<module>\u001b[1;34m\u001b[0m\n\u001b[1;32m----> 1\u001b[1;33m \u001b[0morder\u001b[0m\u001b[1;33m(\u001b[0m\u001b[1;36m100\u001b[0m\u001b[1;33m)\u001b[0m\u001b[1;33m\u001b[0m\u001b[1;33m\u001b[0m\u001b[0m\n\u001b[0m\u001b[0;32m      2\u001b[0m \u001b[0mprint\u001b[0m\u001b[1;33m(\u001b[0m\u001b[1;34m\"주문후 다른작업 등등등\"\u001b[0m\u001b[1;33m)\u001b[0m\u001b[1;33m\u001b[0m\u001b[1;33m\u001b[0m\u001b[0m\n",
      "\u001b[1;32m<ipython-input-83-132657db4278>\u001b[0m in \u001b[0;36morder\u001b[1;34m(order_amount)\u001b[0m\n\u001b[0;32m      8\u001b[0m \u001b[1;33m\u001b[0m\u001b[0m\n\u001b[0;32m      9\u001b[0m     \u001b[1;32mif\u001b[0m \u001b[0mstock_amount\u001b[0m \u001b[1;33m<\u001b[0m \u001b[0morder_amount\u001b[0m\u001b[1;33m:\u001b[0m \u001b[1;31m# 재고량보다 주문량이 많으면\u001b[0m\u001b[1;33m\u001b[0m\u001b[1;33m\u001b[0m\u001b[0m\n\u001b[1;32m---> 10\u001b[1;33m         \u001b[1;32mraise\u001b[0m \u001b[0mOrderFailError\u001b[0m\u001b[1;33m(\u001b[0m\u001b[1;34mf\"주문량이 재고량보다 많습니다. 주문량: {order_amount}, 재고량: {stock_amount}\"\u001b[0m\u001b[1;33m)\u001b[0m\u001b[1;33m\u001b[0m\u001b[1;33m\u001b[0m\u001b[0m\n\u001b[0m\u001b[0;32m     11\u001b[0m \u001b[1;33m\u001b[0m\u001b[0m\n\u001b[0;32m     12\u001b[0m     \u001b[1;31m# 주문처리\u001b[0m\u001b[1;33m\u001b[0m\u001b[1;33m\u001b[0m\u001b[1;33m\u001b[0m\u001b[0m\n",
      "\u001b[1;31mOrderFailError\u001b[0m: 주문량이 재고량보다 많습니다. 주문량: 100, 재고량: 10"
     ]
    }
   ],
   "source": [
    "order(100)\n",
    "print(\"주문후 다른작업 등등등\") # exception이 실행되었기때문에 이 이후에 코드는 실행이 안된다."
   ]
  },
  {
   "cell_type": "code",
   "execution_count": 86,
   "metadata": {},
   "outputs": [
    {
     "name": "stdout",
     "output_type": "stream",
     "text": [
      "주문량이 재고량보다 많습니다. 주문량: 100, 재고량: 10\n"
     ]
    }
   ],
   "source": [
    "# 주문요청(call)\n",
    "try:\n",
    "    order(100)\n",
    "    print(\"주문후 다른 작업 준비\")\n",
    "except OrderFailError as s:\n",
    "    print(s)"
   ]
  },
  {
   "cell_type": "code",
   "execution_count": 87,
   "metadata": {},
   "outputs": [],
   "source": [
    "# 둘다 호출한 곳으로 돌아가는건 같음 but.\n",
    "# return 처리결과 : 함수/매소드의 정상 종료\n",
    "# raise 예외객체 : 함수/매소드의 비정상 종료"
   ]
  },
  {
   "cell_type": "code",
   "execution_count": null,
   "metadata": {},
   "outputs": [],
   "source": []
  }
 ],
 "metadata": {
  "kernelspec": {
   "display_name": "Python 3",
   "language": "python",
   "name": "python3"
  },
  "language_info": {
   "codemirror_mode": {
    "name": "ipython",
    "version": 3
   },
   "file_extension": ".py",
   "mimetype": "text/x-python",
   "name": "python",
   "nbconvert_exporter": "python",
   "pygments_lexer": "ipython3",
   "version": "3.8.5"
  }
 },
 "nbformat": 4,
 "nbformat_minor": 4
}
