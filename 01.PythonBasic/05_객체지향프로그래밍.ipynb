{
 "cells": [
  {
   "cell_type": "markdown",
   "metadata": {},
   "source": [
    "# 객체지향 프로그래밍\n",
    "## 클래스(Class) 정의\n",
    "- 객체의 설계도\n",
    "    - 동일한 형태의 객체들이 가져야하는 Attribute와 Method를 정의한것.\n",
    "    - 클래스(Class)로 부터 객체(Instance)를 생성.\n",
    "- 구문\n",
    "```python\n",
    "class 클래스이름: # 클래스 선언부\n",
    "    # 클래스 구현부\n",
    "    # 매소드들의 정의\n",
    "```\n",
    "- 클래스 이름의 관례\n",
    "    - 파스칼 표기법: 각 단어의 첫글자는 대문자 나머진 소문자.\n",
    "        - BankAccount, Person\n",
    "- 객체 생성\n",
    "    ```python\n",
    "    변수 = 클래스이름()\n",
    "    ```\n",
    "    "
   ]
  },
  {
   "cell_type": "markdown",
   "metadata": {},
   "source": [
    "### Person 클래스를 작성\n",
    "- 객체 구성요소\n",
    "    - Instance 속성(Attribute)\n",
    "        - 객체의 데이터/상태\n",
    "        - 변수 - instance 변수(variable)\n",
    "    - Instance method\n",
    "        - 객체가 제공하는 기능\n",
    "        - 함수를 객체에 넣은것\n",
    "1. Person의 속성은 ?\n",
    "    - name, age, address\n",
    "2. Person method는 ?\n",
    "    - 나이를 더하는 메소드\n",
    "    - 전체 속성을 변경하는 메소드\n",
    "    - 전체 속성을 출력하는 메소드"
   ]
  },
  {
   "cell_type": "code",
   "execution_count": 14,
   "metadata": {},
   "outputs": [],
   "source": [
    "# 클래스 정의 : 코드작성 + 실행\n",
    "class Person:\n",
    "    pass # 구현부를 비워둘때."
   ]
  },
  {
   "cell_type": "code",
   "execution_count": 15,
   "metadata": {},
   "outputs": [],
   "source": [
    "# Instance (객체) 생성\n",
    "p1 = Person()"
   ]
  },
  {
   "cell_type": "code",
   "execution_count": 16,
   "metadata": {},
   "outputs": [
    {
     "name": "stdout",
     "output_type": "stream",
     "text": [
      "<class '__main__.Person'>\n"
     ]
    }
   ],
   "source": [
    "print(type(p1))\n",
    "# class는 instance의 타입\n",
    "# instance는 class의 값"
   ]
  },
  {
   "cell_type": "markdown",
   "metadata": {},
   "source": [
    "### Attribute\n",
    "- instance 변수\n",
    "- instance에 Attribute를 추가\n",
    "    1. Initializer ( Constructor, 생성자)를 이용해 추가\n",
    "    2. 객체.속성명 = 값\n",
    "        - 주로 변경\n",
    "    3. 메소드를 이용\n",
    "        - 주로 변경\n",
    "- 조회\n",
    "    -객체.속성명"
   ]
  },
  {
   "cell_type": "code",
   "execution_count": 46,
   "metadata": {},
   "outputs": [],
   "source": [
    "p1.name = \"Hong\"\n",
    "p1.age = 30\n",
    "p1.address = \"Seoul\""
   ]
  },
  {
   "cell_type": "code",
   "execution_count": 48,
   "metadata": {},
   "outputs": [
    {
     "name": "stdout",
     "output_type": "stream",
     "text": [
      "Hong 30 Seoul a.a.a\n"
     ]
    }
   ],
   "source": [
    "print(p1.name, p1.age, p1.address, p1.email)"
   ]
  },
  {
   "cell_type": "markdown",
   "metadata": {},
   "source": [
    "## Initializer( Constructor 생성자)\n",
    "- 역할: 클래스로 부터 instance를 생성할때 instance 변수(속성)을 초기화 하는 역할\n",
    "- 객체 생성할때 딱 한번만 호출되는 특이한 형태의 메소드\n",
    "-구문\n",
    "```python\n",
    "class 클래스:\n",
    "    def __init__(self[,매개변수,...]):\n",
    "        # 구현\n",
    "        # self.변수명 = 값\n",
    "```\n",
    "## self 변수\n",
    "- Initiallizer나 method(객체의기능)의 첫번째 매개변수로 선언.\n",
    "    - 현재 객체(instance)를 전달받는 변수.\n",
    "- Initializer의 self: 현재 생성되고 있는 객체\n",
    "- Method\n",
    "    - Method를 호출한 객체 (메소드 소유 객체)\n",
    "    - Initializer(생성자) / Method 정의시 호출시 전달 받을 값을 저장하는 매개 변수는 두번째 부터 선언한다."
   ]
  },
  {
   "cell_type": "code",
   "execution_count": 4,
   "metadata": {},
   "outputs": [],
   "source": [
    "class Person():\n",
    "    # initializer( Constructor 생성자 구현)\n",
    "    def __init__(self, name, age, address):\n",
    "        # Attribute를 매개변수로 받은 값으로 초기화.\n",
    "        self.name = name\n",
    "        self.age = age\n",
    "        self.address = address\n",
    "        #self.age = age + 19\n",
    "        "
   ]
  },
  {
   "cell_type": "code",
   "execution_count": 5,
   "metadata": {},
   "outputs": [],
   "source": [
    "#클래스이름() : __init__() 를 호출\n",
    "p1 = Person(\"Hong\", 40, \"Seoul\")"
   ]
  },
  {
   "cell_type": "code",
   "execution_count": 44,
   "metadata": {},
   "outputs": [],
   "source": [
    "p1.email = \"a.a.a\""
   ]
  },
  {
   "cell_type": "code",
   "execution_count": 3,
   "metadata": {},
   "outputs": [
    {
     "name": "stdout",
     "output_type": "stream",
     "text": [
      "Hong 40 Seoul\n"
     ]
    }
   ],
   "source": [
    "print(p1.name, p1.age, p1.address)"
   ]
  },
  {
   "cell_type": "code",
   "execution_count": 6,
   "metadata": {},
   "outputs": [],
   "source": [
    "p2 = Person(\"Kim\", 10, \"Incheon\")"
   ]
  },
  {
   "cell_type": "code",
   "execution_count": 7,
   "metadata": {},
   "outputs": [
    {
     "name": "stdout",
     "output_type": "stream",
     "text": [
      "Kim 10 Incheon\n"
     ]
    }
   ],
   "source": [
    "print(p2.name, p2.age, p2.address)"
   ]
  },
  {
   "cell_type": "code",
   "execution_count": 25,
   "metadata": {},
   "outputs": [],
   "source": [
    "p1_1 = {\n",
    "    \"name\" : 'Hong',\n",
    "    \"age\": 44,\n",
    "    \"address\" : \"Busan\"\n",
    "}"
   ]
  },
  {
   "cell_type": "code",
   "execution_count": 26,
   "metadata": {},
   "outputs": [
    {
     "data": {
      "text/plain": [
       "('Hong', 44, 'Busan')"
      ]
     },
     "execution_count": 26,
     "metadata": {},
     "output_type": "execute_result"
    }
   ],
   "source": [
    "p1_1['name'], p1_1['age'], p1_1['address']"
   ]
  },
  {
   "cell_type": "code",
   "execution_count": 27,
   "metadata": {},
   "outputs": [],
   "source": [
    "# Dictionary : 고객, 제품등 모든 데이터 속성의 모음될수있다. 범용적으로 사용가능.\n",
    "# 단, 제품만을 위한 또는 고객만을 위한 데이터 특화는 불가능\n",
    "# class는 딱 맞는 데이터 타입을 특화시킴.\n",
    "# Method : items(), get(),..."
   ]
  },
  {
   "cell_type": "markdown",
   "metadata": {},
   "source": [
    "##  instance method\n",
    "- 객체의 기능(객체가 제공하는 기능)\n",
    "- 주로 instance attribute(변수)의 값을 처리하는 역할\n",
    "- 구문 (함수 구문과 **거의** 동일)\n",
    "```python\n",
    "def 이름(self[,매개변수,....]):#반드시 하나이상의 매개변수 self필요.\n",
    "    # 구현부\n",
    "    # self를 이용해서 객체의 속성이나 메소드 호출.\n",
    "```\n",
    "- 메소드 이름 관례는 함수/변수와 동일\n",
    "    - snake표기법: 다 소문자로 주고 단어와 단어는 _로 연결\n",
    "- self매개변수: 매소드가 호출된 객체(instance)를 가리킨다.\n",
    "- 메소드 호출\n",
    "    - 객체.메소드이름(argument1, arg2,...)\n",
    "    - argument1 -> 두번째매개변수, arg2 -> 세번째 매개변수"
   ]
  },
  {
   "cell_type": "code",
   "execution_count": 50,
   "metadata": {},
   "outputs": [],
   "source": [
    "class Person2:\n",
    "    \"\"\"\n",
    "    클래스 설명에 대한 docstring\n",
    "    \"\"\"\n",
    "    # initializer\n",
    "    def __init__(self, name, age, address = None):\n",
    "        self.name = name\n",
    "        self.age = age\n",
    "        self.address = address\n",
    "        \n",
    "    # 모든 instance 변수의 값을 출력하는 메소드\n",
    "    def print_info(self):#self라는 매개변수는 반드시 선언\n",
    "        \"\"\"\n",
    "        모든 instance 변수의 값을 출력하는 메소드\n",
    "        \"\"\"\n",
    "        print(f\"Name:{self.name}, Age:{self.age}, Address:{self.address}\")\n",
    "        \n",
    "    #모든 instance 변수의 값들을 한번에 변경하는 메소드\n",
    "    def set_info(self, name, age, address):\n",
    "        \"\"\"\n",
    "        모든 instance 변수의 값들을 한번에 변경하는 메소드\n",
    "        \"\"\"\n",
    "        self.name = name\n",
    "        self.age = age\n",
    "        self.address = address\n",
    "\n",
    "    # 나이에 매개변수로 받은 값을 더한 값으로 변경하는 메소드.\n",
    "    def add_age(self, add_age=0):\n",
    "        self.age = self.age + add_age\n",
    "        # self.age += add_age\n",
    "        "
   ]
  },
  {
   "cell_type": "code",
   "execution_count": 31,
   "metadata": {},
   "outputs": [],
   "source": [
    "p1 = Person2(\"Kim\", 45, \"Seoul\")"
   ]
  },
  {
   "cell_type": "code",
   "execution_count": 39,
   "metadata": {},
   "outputs": [
    {
     "name": "stdout",
     "output_type": "stream",
     "text": [
      "Name:Kim, Age:45, Address:Seoul\n"
     ]
    }
   ],
   "source": [
    "info = p1.print_info()"
   ]
  },
  {
   "cell_type": "code",
   "execution_count": 45,
   "metadata": {},
   "outputs": [],
   "source": [
    "p1.set_info(\"Kang\", 4,\"Busan\")"
   ]
  },
  {
   "cell_type": "code",
   "execution_count": 46,
   "metadata": {},
   "outputs": [
    {
     "name": "stdout",
     "output_type": "stream",
     "text": [
      "Name:Kang, Age:4, Address:Busan\n"
     ]
    }
   ],
   "source": [
    "p1.print_info()"
   ]
  },
  {
   "cell_type": "code",
   "execution_count": 47,
   "metadata": {},
   "outputs": [],
   "source": [
    "p1.add_age(8)"
   ]
  },
  {
   "cell_type": "code",
   "execution_count": 48,
   "metadata": {},
   "outputs": [
    {
     "name": "stdout",
     "output_type": "stream",
     "text": [
      "Name:Kang, Age:12, Address:Busan\n"
     ]
    }
   ],
   "source": [
    "p1.print_info()"
   ]
  },
  {
   "cell_type": "code",
   "execution_count": 55,
   "metadata": {},
   "outputs": [],
   "source": [
    "?Person2.print_info"
   ]
  },
  {
   "cell_type": "code",
   "execution_count": 56,
   "metadata": {},
   "outputs": [],
   "source": [
    "?Person2"
   ]
  },
  {
   "cell_type": "markdown",
   "metadata": {},
   "source": [
    "## Information Hiding(정보 은닉)\n",
    "- Instance 변수(Attribute)의 값을 외부에서 직접 접근(호출-변경/조회)하지 못하도록 막는다.\n",
    "- 목적: 마음대로 값을 변경하지 못하도록 한다.\n",
    "- instance 변수의 값을 변경(setter)/조회(getter)할 수 있는 메소드를 제공한다.\n",
    "    - setter: instance attribute의 값을 변경하는 메소드. 관례상 set으로 시작\n",
    "    - geeter: instance attribute의 값을 조회(반환)한느 메소드, get으로 시작\n",
    "- 구현\n",
    "    - instance attribute의 이름을 __ 로 시작 ex) `'self.__name', 'self.__age'`\n",
    "    - getter/setter 메소드를 제공. ex) set_name(), get_name()"
   ]
  },
  {
   "cell_type": "code",
   "execution_count": 4,
   "metadata": {},
   "outputs": [],
   "source": [
    "class MyDate:\n",
    "    \"\"\"\n",
    "    instance attribute로 년, 월, 일 (날짜)를 관리하는 클래스\n",
    "    \"\"\"\n",
    "    def __init__(self, year, month, day):\n",
    "        self.__year = year\n",
    "        #self.__month = month\n",
    "        self.set_month(month)\n",
    "        self.__day = day\n",
    "    \n",
    "    def set_month(self, month):\n",
    "        \"\"\"\n",
    "        월을 변경하는 메소드\n",
    "        [매개변수]\n",
    "            month: int - 월(범위: 1 ~ 12)\n",
    "        \"\"\"\n",
    "        if month >= 1 and month <= 12:\n",
    "            self.__month = month  # __변수: 같은 클래스 안에서는 호출 가능\n",
    "        else:\n",
    "            #self.__month = 1\n",
    "            print(f\"{month}는 잘못된 월입니다. 1 ~ 12까지만 가능\")\n",
    "            month = int(input(\"enter month: \"))\n",
    "            self.set_month(month)\n",
    "    \n",
    "    def get_month(self):\n",
    "        \"\"\"\n",
    "        instance 변수 월을 반환하는 메소드\n",
    "        [반환값]\n",
    "            int: 월\n",
    "        \"\"\"\n",
    "        return self.__month"
   ]
  },
  {
   "cell_type": "code",
   "execution_count": 11,
   "metadata": {},
   "outputs": [],
   "source": [
    "?date.get_month"
   ]
  },
  {
   "cell_type": "code",
   "execution_count": 10,
   "metadata": {},
   "outputs": [
    {
     "name": "stdout",
     "output_type": "stream",
     "text": [
      "13는 잘못된 월입니다. 1 ~ 12까지만 가능\n",
      "enter month: 11\n"
     ]
    }
   ],
   "source": [
    "date = MyDate(2021,13,13)"
   ]
  },
  {
   "cell_type": "code",
   "execution_count": 130,
   "metadata": {},
   "outputs": [
    {
     "ename": "AttributeError",
     "evalue": "'MyDate' object has no attribute 'year'",
     "output_type": "error",
     "traceback": [
      "\u001b[1;31m---------------------------------------------------------------------------\u001b[0m",
      "\u001b[1;31mAttributeError\u001b[0m                            Traceback (most recent call last)",
      "\u001b[1;32m<ipython-input-130-60b66d3c5975>\u001b[0m in \u001b[0;36m<module>\u001b[1;34m\u001b[0m\n\u001b[1;32m----> 1\u001b[1;33m \u001b[0mprint\u001b[0m\u001b[1;33m(\u001b[0m\u001b[0mdate\u001b[0m\u001b[1;33m.\u001b[0m\u001b[0myear\u001b[0m\u001b[1;33m)\u001b[0m\u001b[1;33m\u001b[0m\u001b[1;33m\u001b[0m\u001b[0m\n\u001b[0m",
      "\u001b[1;31mAttributeError\u001b[0m: 'MyDate' object has no attribute 'year'"
     ]
    }
   ],
   "source": [
    "print(date.year)"
   ]
  },
  {
   "cell_type": "code",
   "execution_count": 131,
   "metadata": {},
   "outputs": [
    {
     "ename": "AttributeError",
     "evalue": "'MyDate' object has no attribute '__year'",
     "output_type": "error",
     "traceback": [
      "\u001b[1;31m---------------------------------------------------------------------------\u001b[0m",
      "\u001b[1;31mAttributeError\u001b[0m                            Traceback (most recent call last)",
      "\u001b[1;32m<ipython-input-131-4bd0168de281>\u001b[0m in \u001b[0;36m<module>\u001b[1;34m\u001b[0m\n\u001b[1;32m----> 1\u001b[1;33m \u001b[0mprint\u001b[0m\u001b[1;33m(\u001b[0m\u001b[0mdate\u001b[0m\u001b[1;33m.\u001b[0m\u001b[0m__year\u001b[0m\u001b[1;33m)\u001b[0m\u001b[1;33m\u001b[0m\u001b[1;33m\u001b[0m\u001b[0m\n\u001b[0m",
      "\u001b[1;31mAttributeError\u001b[0m: 'MyDate' object has no attribute '__year'"
     ]
    }
   ],
   "source": [
    "print(date.__year)"
   ]
  },
  {
   "cell_type": "code",
   "execution_count": 157,
   "metadata": {},
   "outputs": [
    {
     "name": "stdout",
     "output_type": "stream",
     "text": [
      "2\n"
     ]
    }
   ],
   "source": [
    "print(date.get_month())"
   ]
  },
  {
   "cell_type": "code",
   "execution_count": 133,
   "metadata": {},
   "outputs": [
    {
     "name": "stdout",
     "output_type": "stream",
     "text": [
      "1999는 잘못된 월입니다. 1 ~ 12까지만 가능\n",
      "enter month: 6\n"
     ]
    }
   ],
   "source": [
    "date.set_month(1999)"
   ]
  },
  {
   "cell_type": "code",
   "execution_count": 152,
   "metadata": {},
   "outputs": [],
   "source": [
    "date.set_month(11)"
   ]
  },
  {
   "cell_type": "code",
   "execution_count": 154,
   "metadata": {},
   "outputs": [
    {
     "data": {
      "text/plain": [
       "2021"
      ]
     },
     "execution_count": 154,
     "metadata": {},
     "output_type": "execute_result"
    }
   ],
   "source": [
    "date._MyDate__year"
   ]
  },
  {
   "cell_type": "code",
   "execution_count": 155,
   "metadata": {},
   "outputs": [],
   "source": [
    "date._MyDate__month = 2"
   ]
  },
  {
   "cell_type": "code",
   "execution_count": 156,
   "metadata": {},
   "outputs": [
    {
     "data": {
      "text/plain": [
       "2"
      ]
     },
     "execution_count": 156,
     "metadata": {},
     "output_type": "execute_result"
    }
   ],
   "source": [
    "date.get_month()"
   ]
  },
  {
   "cell_type": "code",
   "execution_count": 159,
   "metadata": {},
   "outputs": [],
   "source": [
    "date._MyDate__year = 1"
   ]
  },
  {
   "cell_type": "code",
   "execution_count": 160,
   "metadata": {},
   "outputs": [
    {
     "data": {
      "text/plain": [
       "1"
      ]
     },
     "execution_count": 160,
     "metadata": {},
     "output_type": "execute_result"
    }
   ],
   "source": [
    "date._MyDate__year"
   ]
  },
  {
   "cell_type": "code",
   "execution_count": 161,
   "metadata": {},
   "outputs": [
    {
     "data": {
      "text/plain": [
       "{'_MyDate__year': 1, '_MyDate__month': 2, '_MyDate__day': 13}"
      ]
     },
     "execution_count": 161,
     "metadata": {},
     "output_type": "execute_result"
    }
   ],
   "source": [
    "# 객체.__dict__ # 객체의 instance attribute(변수)들을 확인\n",
    "date.__dict__"
   ]
  },
  {
   "cell_type": "code",
   "execution_count": 23,
   "metadata": {},
   "outputs": [
    {
     "data": {
      "text/plain": [
       "{'_MyDate__year': 1, '_MyDate__month': 2, '_MyDate__day': 13, '__month': 987}"
      ]
     },
     "execution_count": 23,
     "metadata": {},
     "output_type": "execute_result"
    }
   ],
   "source": [
    "date.__month = 987\n",
    "date.__dict__"
   ]
  },
  {
   "cell_type": "markdown",
   "metadata": {},
   "source": [
    "# Property"
   ]
  },
  {
   "cell_type": "code",
   "execution_count": 162,
   "metadata": {},
   "outputs": [],
   "source": [
    "class MyDate2:\n",
    "    def __init__(self, year, month, day):\n",
    "        self.__year = year\n",
    "        self.__month = month\n",
    "        self.__day = day\n",
    "    def set_year(self, year):\n",
    "        print(\">>> set_year\")\n",
    "        self.__year = year\n",
    "    def get_year(self):\n",
    "        print(\">>> get_year\")\n",
    "        return self.__year\n",
    "    \n",
    "\n",
    "    def set_month(self, month):\n",
    "        print(\">>> set_month\")\n",
    "        self.__month = month\n",
    "    def get_month(self):\n",
    "        print(\">>> get_month\")\n",
    "        return self.__month\n",
    "    def set_day(self, day):\n",
    "        print(\">>> set_day\")\n",
    "        self.__day = day\n",
    "    def get_day(self):\n",
    "        print(\">>> get_day\")\n",
    "        return self.__day\n",
    "    \n",
    "    # 변수명 = property(getter, setter)\n",
    "    # 외부에서 변수명으로 조회하면 getter 메소드를 변수에 값을 대입하면, \n",
    "    # setter메소드를 호출해 준다.\n",
    "    \n",
    "    # 변수 year의 값을 조회하면 get_year(), \n",
    "    # 변수 year에 값을 대입하면 set_year(대입된 값)를 호출\n",
    "    year = property(get_year, set_year) \n",
    "    month = property(get_month, set_month)\n",
    "    day = property(get_day, set_day)"
   ]
  },
  {
   "cell_type": "code",
   "execution_count": 163,
   "metadata": {},
   "outputs": [],
   "source": [
    "today = MyDate2(2013,1,11)"
   ]
  },
  {
   "cell_type": "code",
   "execution_count": 164,
   "metadata": {},
   "outputs": [
    {
     "name": "stdout",
     "output_type": "stream",
     "text": [
      ">>> get_year\n",
      "2013\n"
     ]
    }
   ],
   "source": [
    "print(today.year) # 조회"
   ]
  },
  {
   "cell_type": "code",
   "execution_count": 165,
   "metadata": {},
   "outputs": [
    {
     "name": "stdout",
     "output_type": "stream",
     "text": [
      ">>> set_year\n"
     ]
    }
   ],
   "source": [
    "today.year = 2021"
   ]
  },
  {
   "cell_type": "code",
   "execution_count": 166,
   "metadata": {},
   "outputs": [
    {
     "name": "stdout",
     "output_type": "stream",
     "text": [
      ">>> get_year\n",
      "2021\n"
     ]
    }
   ],
   "source": [
    "print(today.year)"
   ]
  },
  {
   "cell_type": "code",
   "execution_count": 167,
   "metadata": {},
   "outputs": [
    {
     "name": "stdout",
     "output_type": "stream",
     "text": [
      ">>> get_month\n",
      "1\n",
      ">>> get_day\n",
      "11\n"
     ]
    }
   ],
   "source": [
    "print(today.month)\n",
    "print(today.day)"
   ]
  },
  {
   "cell_type": "code",
   "execution_count": 168,
   "metadata": {},
   "outputs": [
    {
     "name": "stdout",
     "output_type": "stream",
     "text": [
      ">>> set_month\n",
      ">>> set_day\n"
     ]
    }
   ],
   "source": [
    "today.month = 999\n",
    "today.day = 99"
   ]
  },
  {
   "cell_type": "code",
   "execution_count": 169,
   "metadata": {},
   "outputs": [
    {
     "name": "stdout",
     "output_type": "stream",
     "text": [
      ">>> get_month\n",
      "999\n",
      ">>> get_day\n",
      "99\n"
     ]
    }
   ],
   "source": [
    "print(today.month)\n",
    "print(today.day)"
   ]
  },
  {
   "cell_type": "code",
   "execution_count": 170,
   "metadata": {},
   "outputs": [
    {
     "data": {
      "text/plain": [
       "{'_MyDate2__year': 2021, '_MyDate2__month': 999, '_MyDate2__day': 99}"
      ]
     },
     "execution_count": 170,
     "metadata": {},
     "output_type": "execute_result"
    }
   ],
   "source": [
    "today.__dict__"
   ]
  },
  {
   "cell_type": "markdown",
   "metadata": {},
   "source": [
    "# Decorator"
   ]
  },
  {
   "cell_type": "code",
   "execution_count": null,
   "metadata": {},
   "outputs": [],
   "source": [
    "# setter/getter + property 변수를 지정하는것을 setter/getter 메소드에 직접 설정\n",
    "# Decorator(데코레이터) 이용\n",
    "# 1. getter/setter 메소드의 이름을 호출될때 사용할 변수명으로 지정.\n",
    "# 2. getter 메소드에 @property decorator를 추가.\n",
    "# 3. setter 메소드에 @getter_Method_Name.setter decorator를 추가.\n",
    "# 메소드 정의 순서는 반드시 getter를 먼저 정의해야 한다.\n",
    "# getter/setter 메소드 명은 동일하게 지정."
   ]
  },
  {
   "cell_type": "code",
   "execution_count": 171,
   "metadata": {},
   "outputs": [],
   "source": [
    "# tab <-> shift + tab\n",
    "class MyDate3:\n",
    "    def __init__(self, year, month, day):\n",
    "        self.__year = year\n",
    "        self.__month = month\n",
    "        self.__day = day\n",
    "    \n",
    "    # year의 값을 반환하는 메소드 (getter)\n",
    "    @property\n",
    "    def year(self):\n",
    "        print(\">>> getyear\")\n",
    "        return self.__year\n",
    "    \n",
    "    # Year의 값을 변경하는 메소드(setter)\n",
    "    #@getterName.setter\n",
    "    @year.setter\n",
    "    def year(self, year):\n",
    "        print(\">>> setyear\")\n",
    "        self.__year = year\n",
    "        \n",
    "    # Month\n",
    "    @property\n",
    "    def month(self):\n",
    "        print(\">>> getmonth\")\n",
    "        return self.__month\n",
    "    @month.setter\n",
    "    def month(self, month):\n",
    "        print(\">>> setmonth\")\n",
    "        self.__month = month\n",
    "    \n",
    "    # Day\n",
    "    @property\n",
    "    def day(self):\n",
    "        print(\">>> getday\")\n",
    "        return self.__day\n",
    "    @day.setter\n",
    "    def day(self, day):\n",
    "        print(\">>> setday\")\n",
    "        self.__day = day\n",
    "        \n",
    "        "
   ]
  },
  {
   "cell_type": "code",
   "execution_count": 172,
   "metadata": {},
   "outputs": [],
   "source": [
    "today = MyDate3(2021,1,13)"
   ]
  },
  {
   "cell_type": "code",
   "execution_count": 173,
   "metadata": {},
   "outputs": [
    {
     "name": "stdout",
     "output_type": "stream",
     "text": [
      ">>> setyear\n",
      ">>> getyear\n",
      "1999\n"
     ]
    }
   ],
   "source": [
    "today.year=1999\n",
    "print(today.year)"
   ]
  },
  {
   "cell_type": "code",
   "execution_count": 174,
   "metadata": {},
   "outputs": [
    {
     "name": "stdout",
     "output_type": "stream",
     "text": [
      ">>> setmonth\n",
      ">>> setday\n"
     ]
    }
   ],
   "source": [
    "today.month = 12\n",
    "today.day = 31"
   ]
  },
  {
   "cell_type": "code",
   "execution_count": 175,
   "metadata": {},
   "outputs": [
    {
     "name": "stdout",
     "output_type": "stream",
     "text": [
      ">>> getmonth\n",
      "12\n",
      ">>> getday\n",
      "31\n"
     ]
    }
   ],
   "source": [
    "print(today.month)\n",
    "print(today.day)"
   ]
  },
  {
   "cell_type": "code",
   "execution_count": 176,
   "metadata": {},
   "outputs": [
    {
     "data": {
      "text/plain": [
       "{'_MyDate3__year': 1999, '_MyDate3__month': 12, '_MyDate3__day': 31}"
      ]
     },
     "execution_count": 176,
     "metadata": {},
     "output_type": "execute_result"
    }
   ],
   "source": [
    "today.__dict__"
   ]
  },
  {
   "cell_type": "markdown",
   "metadata": {},
   "source": [
    "## TODO\n",
    "- 제품 클래스 구현\n",
    "- 속성 : 제품id:str, 제품이름:str, 제품가격:int, 제조사:str\n",
    "    - 정보 은닉에 맞춰서 작성. 값을 대입/조회하는 것은 변수처리 방식으로 할것.\n",
    "- 메소드: 전체 정보를 출력하는 메소드.\n",
    "- 메소드: setter 4개, getter 4개, 전체정보 출력 메소드 1개"
   ]
  },
  {
   "cell_type": "code",
   "execution_count": 2,
   "metadata": {},
   "outputs": [],
   "source": [
    "class Product:\n",
    "    def __init__(self, id, name, price, manufacturer):\n",
    "        self.__id = id\n",
    "        self.__name = name\n",
    "        self.__price = price\n",
    "        #self.set_price(price)\n",
    "        self.__manufacturer = manufacturer\n",
    "\n",
    "    def print_info(self):\n",
    "        print(f\"id: {self.__id}, name:{self.__name}, price: {self.__price}, manufacturer: {self.__manufacturer}\")\n",
    "\n",
    "    #getter/setter\n",
    "    \n",
    "    @property\n",
    "    def id(self):\n",
    "        return self.__id\n",
    "    @id.setter\n",
    "    def id(self, id):\n",
    "        self.__id = id\n",
    "\n",
    "    @property\n",
    "    def name(self):\n",
    "        return self.__name\n",
    "    @name.setter\n",
    "    def name(self, name):\n",
    "        self.__name = name\n",
    "\n",
    "    @property\n",
    "    def price(self):\n",
    "        return self.__price\n",
    "    @price.setter\n",
    "    def price(self, price):\n",
    "        self.__price = price\n",
    "    \n",
    "    @property\n",
    "    def manufacturer(self):\n",
    "        return self.__manufacturer\n",
    "    @id.setter\n",
    "    def manufacturer(self, manufacturer):\n",
    "        self.__manufacturer = manufacturer\n",
    "        \n",
    "    \"\"\"\n",
    "    #my code\n",
    "    def set_id(self, id):\n",
    "        self.__id = id\n",
    "    def get_id(self):\n",
    "        return self.__id\n",
    "    \n",
    "    def set_name(self,name):\n",
    "        self.__name = name\n",
    "    def get_name(self):\n",
    "        return self.__name\n",
    "    \n",
    "    def set_price(self, price):\n",
    "        if price < 0:\n",
    "            print(\"Invalid price. Enter again\")\n",
    "            price = round(float(input(\"Enter price: \")),2)\n",
    "            self.set_price(price)\n",
    "        else:\n",
    "            self.__price = price\n",
    "    def get_price(self):\n",
    "        return self.__price\n",
    "    \n",
    "    def get_manufacturer(self):\n",
    "        return self.__manufacturer\n",
    "    def set_manufacturer(self, manufacturer):\n",
    "        self.__manufacturer = manufacturer\n",
    "\n",
    "\n",
    "    \n",
    "    id = property(get_id, set_id)\n",
    "    name = property(get_name, set_name)\n",
    "    price = property(get_price, set_price)\n",
    "    manufacturer = property(get_manufacturer, set_manufacturer)  \n",
    "    \"\"\"      \n",
    "    "
   ]
  },
  {
   "cell_type": "code",
   "execution_count": 303,
   "metadata": {},
   "outputs": [],
   "source": [
    "item1 = Product(\"id-1\", \"노트북\", 15, \"삼성\")"
   ]
  },
  {
   "cell_type": "code",
   "execution_count": 299,
   "metadata": {},
   "outputs": [
    {
     "name": "stdout",
     "output_type": "stream",
     "text": [
      "id: id-1, name:노트북, price: 15, manufacturer: 삼성\n"
     ]
    }
   ],
   "source": [
    "item1.print_info()"
   ]
  },
  {
   "cell_type": "code",
   "execution_count": 300,
   "metadata": {},
   "outputs": [],
   "source": [
    "item1.id = \"id-1999\""
   ]
  },
  {
   "cell_type": "code",
   "execution_count": 301,
   "metadata": {},
   "outputs": [
    {
     "name": "stdout",
     "output_type": "stream",
     "text": [
      "id-1999\n"
     ]
    }
   ],
   "source": [
    "print(item1.id)"
   ]
  },
  {
   "cell_type": "code",
   "execution_count": 304,
   "metadata": {},
   "outputs": [
    {
     "name": "stdout",
     "output_type": "stream",
     "text": [
      "id: id-1, name:노트북, price: 15, manufacturer: 삼성\n"
     ]
    }
   ],
   "source": [
    "item1.print_info()"
   ]
  },
  {
   "cell_type": "code",
   "execution_count": 3,
   "metadata": {},
   "outputs": [],
   "source": [
    "?Product"
   ]
  },
  {
   "cell_type": "markdown",
   "metadata": {},
   "source": [
    "## 상속 (inheritance)\n",
    "- 기존 클래스를 확장해서 새로운 클래스를 구현하는 방식.\n"
   ]
  },
  {
   "cell_type": "code",
   "execution_count": 145,
   "metadata": {},
   "outputs": [],
   "source": [
    "class Person:\n",
    "    def eat(self, a):\n",
    "        # 모든 하위클래스들에 적용될수있는 구현. -> 매소드의 구현이 추상적\n",
    "        return f\"Eat~!, {a}\" \n",
    "        \n"
   ]
  },
  {
   "cell_type": "code",
   "execution_count": 146,
   "metadata": {},
   "outputs": [],
   "source": [
    "# eat() , study()\n",
    "#Person: 상위(super) class, parent class\n",
    "#Student: 하위(sub) class, child class\n",
    "class Student(Person):\n",
    "    \n",
    "    def study(self):\n",
    "        print(\"Study!\")"
   ]
  },
  {
   "cell_type": "markdown",
   "metadata": {},
   "source": [
    "#####  Method overriding"
   ]
  },
  {
   "cell_type": "code",
   "execution_count": 149,
   "metadata": {},
   "outputs": [],
   "source": [
    "class Teacher(Person):\n",
    "    \n",
    "    def teach(self):\n",
    "        print(\"Teacher teaches\")\n",
    "\n",
    "    # 상속받은 메소드를 하위클레스에서 재정의할 수 있다.\n",
    "    # method overriding\n",
    "    # 상위 클래스에 정의된 메소드는 추상적이므로 하위클레스에서 \n",
    "    # 그 클래스가 해야하는 동작에 맞게 구현을 재정의 하는 것.\n",
    "    def eat(self, m):\n",
    "        ba = super().eat(m)\n",
    "        return ba + f\"teacher eat {m}\""
   ]
  },
  {
   "cell_type": "code",
   "execution_count": 138,
   "metadata": {},
   "outputs": [],
   "source": [
    "s = Student()"
   ]
  },
  {
   "cell_type": "code",
   "execution_count": 139,
   "metadata": {},
   "outputs": [
    {
     "name": "stdout",
     "output_type": "stream",
     "text": [
      "Study!\n"
     ]
    }
   ],
   "source": [
    "s.study()"
   ]
  },
  {
   "cell_type": "code",
   "execution_count": 140,
   "metadata": {},
   "outputs": [
    {
     "name": "stdout",
     "output_type": "stream",
     "text": [
      "Eat~! ab\n"
     ]
    }
   ],
   "source": [
    "s.eat(\"ab\")"
   ]
  },
  {
   "cell_type": "code",
   "execution_count": 150,
   "metadata": {},
   "outputs": [
    {
     "name": "stdout",
     "output_type": "stream",
     "text": [
      "Teacher teaches\n"
     ]
    },
    {
     "data": {
      "text/plain": [
       "'Eat~!, zzzzzzzteacher eat zzzzzzz'"
      ]
     },
     "execution_count": 150,
     "metadata": {},
     "output_type": "execute_result"
    }
   ],
   "source": [
    "t = Teacher()\n",
    "t.teach()\n",
    "t.eat(\"zzzzzzz\")"
   ]
  },
  {
   "cell_type": "code",
   "execution_count": 40,
   "metadata": {},
   "outputs": [],
   "source": [
    "class Person1:\n",
    "    \n",
    "    def __init__(self, name, age):\n",
    "        self.name = name\n",
    "        self.age = age\n",
    "    \n",
    "    def eat(self):\n",
    "        print(f\"{self.name}이 먹는다\")\n",
    "    \n",
    "    def get_info(self):\n",
    "        return f\"이름: {self.name}, 나이: {self.age}\""
   ]
  },
  {
   "cell_type": "code",
   "execution_count": 41,
   "metadata": {},
   "outputs": [
    {
     "name": "stdout",
     "output_type": "stream",
     "text": [
      "Kim이 먹는다\n",
      "이름: Kim, 나이: 20\n"
     ]
    }
   ],
   "source": [
    "p1 = Person1(\"Kim\", 20)\n",
    "p1.eat()\n",
    "info = p1.get_info()\n",
    "print(info)"
   ]
  },
  {
   "cell_type": "markdown",
   "metadata": {},
   "source": [
    "### 클래스이름() - Student('aa', 20, 'bbb'): 객체생성\n",
    "1. 객체를 만든다.\n",
    "    - 상속: 상위/하위 클래스의 객체를 모두 생성 - 상속으로 묶인다.\n",
    "2. 생성자 호출(`__init__`)\n",
    "    - 상속: super().`__init__()`을 이용해 하위클래스의 생성자에서 상위클래스의 생성자를 호출할 수 있다.\n",
    "\n",
    "### 다중상속\n",
    "- 여러클래스를 상속받는것.\n",
    "- MRO(Method Resolution Order): 호출된 메소드를 찾는 순서\n",
    "    1. 자기자신\n",
    "    2. 상위클래스: 상속시 먼저 선언된 클래스 순서로 메소드를 찾는다.(왼->오)"
   ]
  },
  {
   "cell_type": "code",
   "execution_count": 42,
   "metadata": {},
   "outputs": [],
   "source": [
    "class Student1(Person1):\n",
    "    \n",
    "    def __init__(self, name, age, school_name):\n",
    "        \n",
    "        # 상위클래스(Person1)의 객체에 name 과 age는 전달.\n",
    "        super().__init__(name, age)\n",
    "        self.school_name = school_name # Students의 속성\n",
    "        \n",
    "    def study(self):\n",
    "        print(f\"Student {self.name} is studying\")\n",
    "        #메소드 네임이 같이않을경우 self로 호출가능하다.\n",
    "        print(super().get_info() + f\" school: {self.school_name}\")\n",
    "    def get_info(self):\n",
    "        self.eat() # 메소드 네임이 같지않을경우 self로 호출가능\n",
    "        info = super().get_info() #메소드 네임이 같을경우 super()로 호출\n",
    "        return info + f\" 학교: {self.school_name}\"\n",
    "        "
   ]
  },
  {
   "cell_type": "code",
   "execution_count": 43,
   "metadata": {},
   "outputs": [],
   "source": [
    "s1 = Student1(\"Park\", 22, \"K middle\")"
   ]
  },
  {
   "cell_type": "code",
   "execution_count": 44,
   "metadata": {},
   "outputs": [
    {
     "name": "stdout",
     "output_type": "stream",
     "text": [
      "Student Park is studying\n",
      "이름: Park, 나이: 22 school: K middle\n"
     ]
    }
   ],
   "source": [
    "s1.study()"
   ]
  },
  {
   "cell_type": "code",
   "execution_count": 45,
   "metadata": {},
   "outputs": [
    {
     "name": "stdout",
     "output_type": "stream",
     "text": [
      "Park이 먹는다\n"
     ]
    },
    {
     "data": {
      "text/plain": [
       "'이름: Park, 나이: 22 학교: K middle'"
      ]
     },
     "execution_count": 45,
     "metadata": {},
     "output_type": "execute_result"
    }
   ],
   "source": [
    "s1.get_info()"
   ]
  },
  {
   "cell_type": "code",
   "execution_count": 46,
   "metadata": {},
   "outputs": [
    {
     "data": {
      "text/plain": [
       "('Park', 22, 'K middle')"
      ]
     },
     "execution_count": 46,
     "metadata": {},
     "output_type": "execute_result"
    }
   ],
   "source": [
    "s1.name, s1.age, s1.school_name"
   ]
  },
  {
   "cell_type": "code",
   "execution_count": 22,
   "metadata": {},
   "outputs": [],
   "source": [
    "class Printer:\n",
    "    def printing(self):\n",
    "        print(\"프린트 한다.\")\n",
    "        \n",
    "    def test(self):\n",
    "        print(\"프린트기능 테스트\")\n",
    "        \n",
    "        \n",
    "class Saver:\n",
    "    def save(self):\n",
    "        print(\"저장한다.\")\n",
    "    \n",
    "    def test(self):\n",
    "        print(\"저장기능 테스트\")"
   ]
  },
  {
   "cell_type": "code",
   "execution_count": 23,
   "metadata": {},
   "outputs": [],
   "source": [
    "# - MRO(Method Resolution Order): 호출된 메소드를 찾는 순서\n",
    "#    1. 자기자신\n",
    "#    2. 상위클래스: 상속시 먼저 선언된 클래스 순서로 메소드를 찾는다.(왼->오)\n",
    "class WordProcessor(Printer, Saver): \n",
    "#class WordProcessor(Saver, Printer): \n",
    "    def write(self):\n",
    "        print(\"글을 작성한다.\")\n",
    "    \n",
    "    def test(self):\n",
    "        print(\"워드 테스트\")"
   ]
  },
  {
   "cell_type": "code",
   "execution_count": 24,
   "metadata": {},
   "outputs": [
    {
     "name": "stdout",
     "output_type": "stream",
     "text": [
      "글을 작성한다.\n",
      "프린트 한다.\n",
      "저장한다.\n"
     ]
    }
   ],
   "source": [
    "wp = WordProcessor()\n",
    "wp.write()\n",
    "wp.printing()\n",
    "wp.save()"
   ]
  },
  {
   "cell_type": "code",
   "execution_count": 25,
   "metadata": {},
   "outputs": [
    {
     "name": "stdout",
     "output_type": "stream",
     "text": [
      "워드 테스트\n"
     ]
    }
   ],
   "source": [
    "wp.test()"
   ]
  },
  {
   "cell_type": "markdown",
   "metadata": {},
   "source": [
    "## 상속 / 객체관련 메소드, 변수"
   ]
  },
  {
   "cell_type": "code",
   "execution_count": 27,
   "metadata": {},
   "outputs": [
    {
     "data": {
      "text/plain": [
       "(True, False)"
      ]
     },
     "execution_count": 27,
     "metadata": {},
     "output_type": "execute_result"
    }
   ],
   "source": [
    "#isinstance(객체, 클래스) - 지정한객체가 클래스로부터 생성되었는지 여부\n",
    "isinstance(\"abc\", str), isinstance(10, str)"
   ]
  },
  {
   "cell_type": "code",
   "execution_count": 35,
   "metadata": {},
   "outputs": [],
   "source": [
    "def test(var): # 매개변수 var의 타입이 int이면 실행\n",
    "    #if isinstance(var, int):\n",
    "    if type(var) == int:\n",
    "        print(var + 20)\n",
    "    else:\n",
    "        print(\"정수만가능\")"
   ]
  },
  {
   "cell_type": "code",
   "execution_count": 36,
   "metadata": {},
   "outputs": [
    {
     "name": "stdout",
     "output_type": "stream",
     "text": [
      "30\n",
      "정수만가능\n"
     ]
    }
   ],
   "source": [
    "test(10)\n",
    "test(\"var\")"
   ]
  },
  {
   "cell_type": "code",
   "execution_count": 46,
   "metadata": {},
   "outputs": [
    {
     "data": {
      "text/plain": [
       "True"
      ]
     },
     "execution_count": 46,
     "metadata": {},
     "output_type": "execute_result"
    }
   ],
   "source": [
    "p = Student1(\"a\",5,\"z\")\n",
    "isinstance(p, Student1)"
   ]
  },
  {
   "cell_type": "code",
   "execution_count": 37,
   "metadata": {},
   "outputs": [],
   "source": [
    "wp = WordProcessor()"
   ]
  },
  {
   "cell_type": "code",
   "execution_count": 1,
   "metadata": {},
   "outputs": [
    {
     "ename": "NameError",
     "evalue": "name 'wp' is not defined",
     "output_type": "error",
     "traceback": [
      "\u001b[1;31m---------------------------------------------------------------------------\u001b[0m",
      "\u001b[1;31mNameError\u001b[0m                                 Traceback (most recent call last)",
      "\u001b[1;32m<ipython-input-1-d476740bf779>\u001b[0m in \u001b[0;36m<module>\u001b[1;34m\u001b[0m\n\u001b[0;32m      3\u001b[0m \u001b[1;31m# wp객체의 타입: wordProcessor, saver, printer => True\u001b[0m\u001b[1;33m\u001b[0m\u001b[1;33m\u001b[0m\u001b[1;33m\u001b[0m\u001b[0m\n\u001b[0;32m      4\u001b[0m \u001b[1;33m\u001b[0m\u001b[0m\n\u001b[1;32m----> 5\u001b[1;33m \u001b[0misinstance\u001b[0m\u001b[1;33m(\u001b[0m\u001b[0mwp\u001b[0m\u001b[1;33m,\u001b[0m \u001b[0mWordProcessor\u001b[0m\u001b[1;33m)\u001b[0m\u001b[1;33m,\u001b[0m \u001b[0misinstance\u001b[0m\u001b[1;33m(\u001b[0m\u001b[0mwp\u001b[0m\u001b[1;33m,\u001b[0m \u001b[0mPrinter\u001b[0m\u001b[1;33m)\u001b[0m\u001b[1;33m\u001b[0m\u001b[1;33m\u001b[0m\u001b[0m\n\u001b[0m",
      "\u001b[1;31mNameError\u001b[0m: name 'wp' is not defined"
     ]
    }
   ],
   "source": [
    "# 객체의 타입을 물어보는 메소드\n",
    "# 객체 타입 : 생성할때 사용한 클래스, 상위클래스\n",
    "# wp객체의 타입: wordProcessor, saver, printer => True\n",
    "\n",
    "isinstance(wp, WordProcessor), isinstance(wp, Printer)"
   ]
  },
  {
   "cell_type": "code",
   "execution_count": 48,
   "metadata": {},
   "outputs": [
    {
     "data": {
      "text/plain": [
       "(True, False)"
      ]
     },
     "execution_count": 48,
     "metadata": {},
     "output_type": "execute_result"
    }
   ],
   "source": [
    "isinstance(wp, Saver), isinstance(wp, Student1)"
   ]
  },
  {
   "cell_type": "code",
   "execution_count": 49,
   "metadata": {},
   "outputs": [],
   "source": [
    "# 객체.__dict__: 객체의 속성정보를 dictionary로 반환 (key-속성명, value-속성값)"
   ]
  },
  {
   "cell_type": "code",
   "execution_count": 50,
   "metadata": {},
   "outputs": [
    {
     "data": {
      "text/plain": [
       "{'name': 'a', 'age': 5, 'school_name': 'z'}"
      ]
     },
     "execution_count": 50,
     "metadata": {},
     "output_type": "execute_result"
    }
   ],
   "source": [
    "p.__dict__ # 상위객체/하위객체의 속성들을 모두 넣어서 변환."
   ]
  },
  {
   "cell_type": "code",
   "execution_count": 51,
   "metadata": {
    "scrolled": true
   },
   "outputs": [
    {
     "data": {
      "text/plain": [
       "__main__.Student1"
      ]
     },
     "execution_count": 51,
     "metadata": {},
     "output_type": "execute_result"
    }
   ],
   "source": [
    "p.__class__ # 클래스이름.__main__.Student 모듈.클래스이름"
   ]
  },
  {
   "cell_type": "markdown",
   "metadata": {},
   "source": [
    "## 특수 메소드"
   ]
  },
  {
   "cell_type": "code",
   "execution_count": 118,
   "metadata": {},
   "outputs": [],
   "source": [
    "class Person:\n",
    "    def __init__(self, name, age):\n",
    "        self.name = name\n",
    "        self.age = age\n",
    "    \n",
    "    def __str__(self):\n",
    "        \"\"\"\n",
    "        객체를 문자열로 변환하는 메소드\n",
    "        내장함수 str()과 연동\n",
    "        [반환값]\n",
    "            str: 객체의 정보(데이터) -> instance 변수들.\n",
    "        \"\"\"\n",
    "        print(\">>>>>>>>>>>>>>\")\n",
    "        return f\"이름: {self.name}, 나이: {self.age}\"\n",
    "    \n",
    "    def __repr__(self):\n",
    "        \"\"\"\n",
    "        객체를 표현하는 표현식을 문자열로 만들어 반환.\n",
    "        내장함수 repr(객체)와 연동\n",
    "        [반환값]\n",
    "            str: 객체 생성했던 코드를 문자열을 반환\n",
    "        \"\"\"\n",
    "        return f'Person(\"{self.name}\", {self.age})'\n",
    "    \n",
    "    def __eq__(self, other):\n",
    "        \"\"\"\n",
    "        == 연산자를 재정의. 객체의 instance변수들의 값이 같으면 True가\n",
    "        나오도록 재정의\n",
    "        객체1 == 객체2. self: 객체1, other: 객체2\n",
    "        \"\"\"\n",
    "        result = False\n",
    "        if isinstance(other, Person):\n",
    "            if self.name == other.name:# and self.age == other.age:\n",
    "                result = True\n",
    "        return result\n",
    "    \n",
    "    def __gt__(self, other):\n",
    "        \"\"\"\n",
    "        > 연산자를 재정의\n",
    "        객체1 > 객체2. self: 객체1, other: 객체2\n",
    "        \"\"\"\n",
    "        result = False\n",
    "        if isinstance(other, Person):\n",
    "            # 나이 크기\n",
    "            if self.age > other.age:\n",
    "                result = True\n",
    "        return result\n",
    "\n",
    "    def __lt__(self, other):\n",
    "        \"\"\"\n",
    "        < 연산자를 재정의\n",
    "        객체1 > 객체2. self: 객체1, other: 객체2\n",
    "        \"\"\"\n",
    "        result = False\n",
    "        if isinstance(other, Person):\n",
    "            # 나이 크기\n",
    "            if self.age < other.age:\n",
    "                result = True\n",
    "        return result\n",
    "\n",
    "    def __ge__(self, other):\n",
    "        \"\"\"\n",
    "        >= 연산자를 재정의\n",
    "        객체1 > 객체2. self: 객체1, other: 객체2\n",
    "        \"\"\"\n",
    "        result = False\n",
    "        if isinstance(other, Person):\n",
    "            # 나이 크기\n",
    "            if self.age >= other.age:\n",
    "                result = True\n",
    "        return result\n",
    "\n",
    "    def __le__(self, other):\n",
    "        \"\"\"\n",
    "        <= 연산자를 재정의\n",
    "        객체1 > 객체2. self: 객체1, other: 객체2\n",
    "        \"\"\"\n",
    "        result = False\n",
    "        if isinstance(other, Person):\n",
    "            # 나이 크기\n",
    "            if self.age <= other.age:\n",
    "                result = True\n",
    "        return result\n",
    "\n",
    "    def __ne__(self, other):\n",
    "        \"\"\"\n",
    "        != 연산자를 재정의\n",
    "        객체1 > 객체2. self: 객체1, other: 객체2\n",
    "        \"\"\"\n",
    "        result = False\n",
    "        if isinstance(other, Person):\n",
    "            # 나이 크기\n",
    "            if self.age != other.age:\n",
    "                result = True\n",
    "        return result\n",
    "    \n",
    "    def __add__(self, other):\n",
    "        \"\"\"\n",
    "        + 연산을 재정의\n",
    "        객체1 + 객체2.\n",
    "        \"\"\"\n",
    "        # 정수를 받아서 나이와 더한 값을 반환.\n",
    "        result = None\n",
    "        if isinstance(other, int):\n",
    "            result = self.age + other\n",
    "        return result\n",
    "    # __sub__(self, other) : self - other :'-' 연산자 재정의\n",
    "    # __mul__(self, other) : self * other :'*' 연산자 재정의\n",
    "    # __truediv__(self, other) : self / other :'/' 연산자 재정의\n",
    "    # __floordiv__(self, other) :self // other : '//' 연산자 재정의\n",
    "    # __mod__(self, other) : self % other : '%' 연산자 재정의\n"
   ]
  },
  {
   "cell_type": "code",
   "execution_count": 79,
   "metadata": {},
   "outputs": [],
   "source": [
    "p = Person(\"홍길동\", 20)\n",
    "p2 = Person(\"Park\", 50)"
   ]
  },
  {
   "cell_type": "code",
   "execution_count": 80,
   "metadata": {},
   "outputs": [
    {
     "name": "stdout",
     "output_type": "stream",
     "text": [
      "Person(\"홍길동\", 20)\n"
     ]
    }
   ],
   "source": [
    "# p.__repr__\n",
    "r = repr(p)\n",
    "print(r)"
   ]
  },
  {
   "cell_type": "code",
   "execution_count": 86,
   "metadata": {},
   "outputs": [
    {
     "data": {
      "text/plain": [
       "'홍길동'"
      ]
     },
     "execution_count": 86,
     "metadata": {},
     "output_type": "execute_result"
    }
   ],
   "source": [
    "# eval(문자열): 문자열을 코드로 평가해서 실행\n",
    "# 'Person(\"홍길동\", 20)' 문자열이 파이썬 코드로 실행 => person 객체 생성.\n",
    "a = eval(r)\n",
    "a.name"
   ]
  },
  {
   "cell_type": "code",
   "execution_count": 88,
   "metadata": {},
   "outputs": [
    {
     "data": {
      "text/plain": [
       "2"
      ]
     },
     "execution_count": 88,
     "metadata": {},
     "output_type": "execute_result"
    }
   ],
   "source": [
    "eval(\"1+1\") # eval(\"파이썬 코드\"(문자열))를 파이썬 코드로 실행."
   ]
  },
  {
   "cell_type": "code",
   "execution_count": 81,
   "metadata": {},
   "outputs": [
    {
     "name": "stdout",
     "output_type": "stream",
     "text": [
      "Person(\"Park\", 50)\n"
     ]
    }
   ],
   "source": [
    "print(repr(p2))"
   ]
  },
  {
   "cell_type": "code",
   "execution_count": 82,
   "metadata": {},
   "outputs": [
    {
     "name": "stdout",
     "output_type": "stream",
     "text": [
      "안녕\n"
     ]
    }
   ],
   "source": [
    "print('안녕') # str('안녕')"
   ]
  },
  {
   "cell_type": "code",
   "execution_count": 83,
   "metadata": {},
   "outputs": [
    {
     "data": {
      "text/plain": [
       "'안녕'"
      ]
     },
     "execution_count": 83,
     "metadata": {},
     "output_type": "execute_result"
    }
   ],
   "source": [
    "'안녕' # __repr__('안녕'), 출력때 사용했던 코드 그대로 반환."
   ]
  },
  {
   "cell_type": "code",
   "execution_count": 67,
   "metadata": {},
   "outputs": [
    {
     "name": "stdout",
     "output_type": "stream",
     "text": [
      ">>>>>>>>>>>>>>\n"
     ]
    }
   ],
   "source": [
    "s= str(p) # Person 객체를 문자열로 => __str__() 호출\n",
    "#print(s)"
   ]
  },
  {
   "cell_type": "code",
   "execution_count": 68,
   "metadata": {},
   "outputs": [
    {
     "name": "stdout",
     "output_type": "stream",
     "text": [
      ">>>>>>>>>>>>>>\n",
      "이름: 홍길동, 나이: 20\n"
     ]
    }
   ],
   "source": [
    "# print() 함수가 내부에서 str() - 매개변수로 전달된값을 문자열로 출력하는 함수\n",
    "print(p) "
   ]
  },
  {
   "cell_type": "markdown",
   "metadata": {},
   "source": [
    "#### =, !=, >, <, >=, <= 연산자\n",
    "```python\n",
    "__eq__(self,other), __ne__(self,other), \n",
    "__gt__(self,other), __lt__(self,other), \n",
    "__ge__(self,other), __le__(self,other)\n",
    "```"
   ]
  },
  {
   "cell_type": "code",
   "execution_count": 116,
   "metadata": {},
   "outputs": [],
   "source": [
    "p1 = Person(\"홍길동\", 20)\n",
    "p2 = Person(\"홍길동\", 21)"
   ]
  },
  {
   "cell_type": "code",
   "execution_count": 112,
   "metadata": {},
   "outputs": [
    {
     "data": {
      "text/plain": [
       "True"
      ]
     },
     "execution_count": 112,
     "metadata": {},
     "output_type": "execute_result"
    }
   ],
   "source": [
    "# 객체 == 객체 (둘이 동일한 객체 인지?)\n",
    "p1 == p2"
   ]
  },
  {
   "cell_type": "code",
   "execution_count": 113,
   "metadata": {},
   "outputs": [
    {
     "data": {
      "text/plain": [
       "True"
      ]
     },
     "execution_count": 113,
     "metadata": {},
     "output_type": "execute_result"
    }
   ],
   "source": [
    "p1 <= p2"
   ]
  },
  {
   "cell_type": "markdown",
   "metadata": {},
   "source": [
    "### + - * / // % 연산자\n",
    "```python\n",
    "__add__(self, other), __sub__(self, other),\n",
    "__mul__(self, other), __truediv__(self, other),\n",
    "__floordiv__(self, other), __mod__(self, other)\n",
    "```"
   ]
  },
  {
   "cell_type": "code",
   "execution_count": 117,
   "metadata": {},
   "outputs": [
    {
     "data": {
      "text/plain": [
       "70"
      ]
     },
     "execution_count": 117,
     "metadata": {},
     "output_type": "execute_result"
    }
   ],
   "source": [
    "p1 + 50"
   ]
  },
  {
   "cell_type": "markdown",
   "metadata": {},
   "source": [
    "## class 변수, class메소드\n",
    "- class변수 : 클래스 자체의 변수(속성, 데이터)\n",
    "- class메소드 : 클래스 변수를 처리하는 메소드\n",
    "    - instance(객체)와는 관계가 없다.\n",
    "    \n",
    "## static method(정적 메소드)\n",
    "- class의 기능을 제공하는 메소드\n",
    "    - 클래스 변수를 처리하는 일을 하지 않는다.\n",
    "    "
   ]
  },
  {
   "cell_type": "code",
   "execution_count": 52,
   "metadata": {},
   "outputs": [],
   "source": [
    "class Calculator:\n",
    "    \"\"\"\n",
    "    다양한 연산을 하는 메소드들을 묶어놓은 클래스\n",
    "    \"\"\"\n",
    "    # 클래스 변수 : PI\n",
    "    PI = 3.14\n",
    "    \n",
    "    # 반지름을 받아서 원에 넓이를 구하는 메소드\n",
    "    @classmethod\n",
    "    def circleArea(clazz, radius): #clazz calculator 자체를 받는 변수.\n",
    "        result = radius * radius * clazz.PI\n",
    "        return result\n",
    "    \n",
    "    @staticmethod\n",
    "    def plus(*args):\n",
    "        # 클래스변수(PI)를 이용하고싶다면 class메소드로 만들거나 \n",
    "        #클래스이름.변수로 접근가능\n",
    "        #print(PI)\n",
    "        return sum(args)\n",
    "    \n",
    "    @staticmethod\n",
    "    def minus(n1, n2):\n",
    "        # 클래스변수를 이용하고싶다면 class메소드로 만드는것이 맞다\n",
    "        print(Calculator.PI) \n",
    "        return n1 - n2"
   ]
  },
  {
   "cell_type": "code",
   "execution_count": 53,
   "metadata": {},
   "outputs": [
    {
     "data": {
      "text/plain": [
       "3.14"
      ]
     },
     "execution_count": 53,
     "metadata": {},
     "output_type": "execute_result"
    }
   ],
   "source": [
    "Calculator.PI # 클래스 변수/메소드 호출 : 클래스이름.변수명, 클래스이름.메소드()"
   ]
  },
  {
   "cell_type": "code",
   "execution_count": 54,
   "metadata": {},
   "outputs": [
    {
     "data": {
      "text/plain": [
       "314.0"
      ]
     },
     "execution_count": 54,
     "metadata": {},
     "output_type": "execute_result"
    }
   ],
   "source": [
    "Calculator.circleArea(10)"
   ]
  },
  {
   "cell_type": "code",
   "execution_count": 55,
   "metadata": {},
   "outputs": [
    {
     "data": {
      "text/plain": [
       "9"
      ]
     },
     "execution_count": 55,
     "metadata": {},
     "output_type": "execute_result"
    }
   ],
   "source": [
    "Calculator.plus(1,8)"
   ]
  },
  {
   "cell_type": "code",
   "execution_count": 56,
   "metadata": {},
   "outputs": [
    {
     "name": "stdout",
     "output_type": "stream",
     "text": [
      "3.14\n"
     ]
    },
    {
     "data": {
      "text/plain": [
       "39"
      ]
     },
     "execution_count": 56,
     "metadata": {},
     "output_type": "execute_result"
    }
   ],
   "source": [
    "Calculator.minus(45,6)"
   ]
  },
  {
   "cell_type": "code",
   "execution_count": 58,
   "metadata": {},
   "outputs": [
    {
     "data": {
      "text/plain": [
       "2"
      ]
     },
     "execution_count": 58,
     "metadata": {},
     "output_type": "execute_result"
    }
   ],
   "source": [
    "1+1 #Read Evaluate Print Loop - 대화형"
   ]
  },
  {
   "cell_type": "markdown",
   "metadata": {},
   "source": [
    "### script 방식\n",
    "- 전체실행코드를 작성하고 한번에 실행\n",
    "- 코드를 작성 => text에디터\n",
    "- 파일명 : 파일명.py\n",
    "- 실행 => python 파일명.py (터미널, 명령프롬프트)"
   ]
  },
  {
   "cell_type": "code",
   "execution_count": null,
   "metadata": {},
   "outputs": [],
   "source": []
  },
  {
   "cell_type": "code",
   "execution_count": null,
   "metadata": {},
   "outputs": [],
   "source": []
  },
  {
   "cell_type": "code",
   "execution_count": null,
   "metadata": {},
   "outputs": [],
   "source": []
  },
  {
   "cell_type": "code",
   "execution_count": null,
   "metadata": {},
   "outputs": [],
   "source": []
  },
  {
   "cell_type": "code",
   "execution_count": null,
   "metadata": {},
   "outputs": [],
   "source": []
  },
  {
   "cell_type": "code",
   "execution_count": null,
   "metadata": {},
   "outputs": [],
   "source": []
  },
  {
   "cell_type": "code",
   "execution_count": null,
   "metadata": {},
   "outputs": [],
   "source": []
  },
  {
   "cell_type": "code",
   "execution_count": null,
   "metadata": {},
   "outputs": [],
   "source": []
  },
  {
   "cell_type": "code",
   "execution_count": null,
   "metadata": {},
   "outputs": [],
   "source": []
  },
  {
   "cell_type": "code",
   "execution_count": null,
   "metadata": {},
   "outputs": [],
   "source": []
  },
  {
   "cell_type": "code",
   "execution_count": null,
   "metadata": {},
   "outputs": [],
   "source": []
  },
  {
   "cell_type": "code",
   "execution_count": null,
   "metadata": {},
   "outputs": [],
   "source": []
  },
  {
   "cell_type": "code",
   "execution_count": null,
   "metadata": {},
   "outputs": [],
   "source": []
  },
  {
   "cell_type": "code",
   "execution_count": null,
   "metadata": {},
   "outputs": [],
   "source": []
  },
  {
   "cell_type": "code",
   "execution_count": null,
   "metadata": {},
   "outputs": [],
   "source": []
  },
  {
   "cell_type": "code",
   "execution_count": null,
   "metadata": {},
   "outputs": [],
   "source": []
  },
  {
   "cell_type": "code",
   "execution_count": null,
   "metadata": {},
   "outputs": [],
   "source": []
  },
  {
   "cell_type": "code",
   "execution_count": null,
   "metadata": {},
   "outputs": [],
   "source": []
  },
  {
   "cell_type": "code",
   "execution_count": null,
   "metadata": {},
   "outputs": [],
   "source": []
  },
  {
   "cell_type": "code",
   "execution_count": null,
   "metadata": {},
   "outputs": [],
   "source": []
  },
  {
   "cell_type": "code",
   "execution_count": null,
   "metadata": {},
   "outputs": [],
   "source": []
  },
  {
   "cell_type": "code",
   "execution_count": null,
   "metadata": {},
   "outputs": [],
   "source": []
  },
  {
   "cell_type": "code",
   "execution_count": null,
   "metadata": {},
   "outputs": [],
   "source": []
  },
  {
   "cell_type": "code",
   "execution_count": null,
   "metadata": {},
   "outputs": [],
   "source": []
  },
  {
   "cell_type": "code",
   "execution_count": null,
   "metadata": {},
   "outputs": [],
   "source": []
  },
  {
   "cell_type": "code",
   "execution_count": null,
   "metadata": {},
   "outputs": [],
   "source": []
  },
  {
   "cell_type": "code",
   "execution_count": null,
   "metadata": {},
   "outputs": [],
   "source": []
  },
  {
   "cell_type": "code",
   "execution_count": null,
   "metadata": {},
   "outputs": [],
   "source": []
  },
  {
   "cell_type": "code",
   "execution_count": null,
   "metadata": {},
   "outputs": [],
   "source": []
  },
  {
   "cell_type": "code",
   "execution_count": null,
   "metadata": {},
   "outputs": [],
   "source": []
  },
  {
   "cell_type": "code",
   "execution_count": null,
   "metadata": {},
   "outputs": [],
   "source": []
  },
  {
   "cell_type": "code",
   "execution_count": null,
   "metadata": {},
   "outputs": [],
   "source": []
  },
  {
   "cell_type": "code",
   "execution_count": null,
   "metadata": {},
   "outputs": [],
   "source": []
  },
  {
   "cell_type": "code",
   "execution_count": null,
   "metadata": {},
   "outputs": [],
   "source": []
  },
  {
   "cell_type": "code",
   "execution_count": null,
   "metadata": {},
   "outputs": [],
   "source": []
  },
  {
   "cell_type": "code",
   "execution_count": null,
   "metadata": {},
   "outputs": [],
   "source": []
  },
  {
   "cell_type": "code",
   "execution_count": null,
   "metadata": {},
   "outputs": [],
   "source": []
  },
  {
   "cell_type": "code",
   "execution_count": null,
   "metadata": {},
   "outputs": [],
   "source": []
  },
  {
   "cell_type": "code",
   "execution_count": null,
   "metadata": {},
   "outputs": [],
   "source": []
  },
  {
   "cell_type": "code",
   "execution_count": null,
   "metadata": {},
   "outputs": [],
   "source": []
  },
  {
   "cell_type": "code",
   "execution_count": null,
   "metadata": {},
   "outputs": [],
   "source": []
  },
  {
   "cell_type": "code",
   "execution_count": null,
   "metadata": {},
   "outputs": [],
   "source": []
  },
  {
   "cell_type": "code",
   "execution_count": null,
   "metadata": {},
   "outputs": [],
   "source": []
  },
  {
   "cell_type": "code",
   "execution_count": null,
   "metadata": {},
   "outputs": [],
   "source": []
  },
  {
   "cell_type": "code",
   "execution_count": null,
   "metadata": {},
   "outputs": [],
   "source": []
  },
  {
   "cell_type": "code",
   "execution_count": null,
   "metadata": {},
   "outputs": [],
   "source": []
  },
  {
   "cell_type": "code",
   "execution_count": null,
   "metadata": {},
   "outputs": [],
   "source": []
  },
  {
   "cell_type": "code",
   "execution_count": null,
   "metadata": {},
   "outputs": [],
   "source": []
  }
 ],
 "metadata": {
  "kernelspec": {
   "display_name": "Python 3",
   "language": "python",
   "name": "python3"
  },
  "language_info": {
   "codemirror_mode": {
    "name": "ipython",
    "version": 3
   },
   "file_extension": ".py",
   "mimetype": "text/x-python",
   "name": "python",
   "nbconvert_exporter": "python",
   "pygments_lexer": "ipython3",
   "version": "3.8.5"
  }
 },
 "nbformat": 4,
 "nbformat_minor": 4
}
