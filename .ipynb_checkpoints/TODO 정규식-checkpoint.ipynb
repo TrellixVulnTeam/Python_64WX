{
 "cells": [
  {
   "cell_type": "code",
   "execution_count": 11,
   "metadata": {
    "ExecuteTime": {
     "end_time": "2020-05-20T11:54:58.078440Z",
     "start_time": "2020-05-20T11:54:58.075447Z"
    }
   },
   "outputs": [],
   "source": [
    "# 다음 중 image 파일명만 추출하시오.\n",
    "file_names = \"\"\".conda\n",
    "head.PNG\n",
    "model.jpg\n",
    "python.txt\n",
    "resume.doc\n",
    "숙제-국어.hwp\n",
    "브라우저점유율-파이차트.png\n",
    "2010.12.5.사진.JPG\n",
    "exam.doc\n",
    "favicon.gif\"\"\"\n",
    "\n",
    "# 결과 : ['head.PNG', 'model.jpg', '브라우저점유율-파이차트.png', '2010.12.5.사진.JPG', 'favicon.gif']"
   ]
  },
  {
   "cell_type": "code",
   "execution_count": 13,
   "metadata": {},
   "outputs": [
    {
     "name": "stdout",
     "output_type": "stream",
     "text": [
      "['head.PNG', 'model.jpg', '브라우저점유율-파이차트.png', '2010.12.5.사진.JPG', 'favicon.gif']\n"
     ]
    }
   ],
   "source": [
    "import re\n",
    "#(파일명).(확장자)\n",
    "#(파일명,확장자)\n",
    "# (?:패턴) : 소그룹(grouping)으로 묶기위한 것이 아니다.\n",
    "pattern = r\"(.*?)\\.(PNG|jpg|png|gif|JPG)\"\n",
    "pattern = r\"([\\w\\-\\.]*)\\.(jp[e]?g|png|gif|bmp|JP[E]?G|PNG|GIF|BMG)\"\n",
    "pattern = r\"(?:[\\w\\-\\.]*)\\.(?:jp[e]?g|png|gif|bmp|JP[E]?G|PNG|GIF|BMG)\"\n",
    "result = re.findall(pattern, file_names)\n",
    "print(result)\n",
    "\n",
    "\n",
    "#[PNG,jpg,png,gif,JPG]\n",
    "#를 ()로 묶고 | (or)를 사용해 보세요.\n"
   ]
  },
  {
   "cell_type": "code",
   "execution_count": 17,
   "metadata": {
    "ExecuteTime": {
     "end_time": "2020-05-20T11:32:50.603245Z",
     "start_time": "2020-05-20T11:32:50.600237Z"
    }
   },
   "outputs": [],
   "source": [
    "# html내에서 태그이름만 추출하시오. \n",
    "html = \"\"\"<div>DIV 태그는 block 태그입니다.</div>\n",
    "<a href='http://www.google.com'>구글</a>\n",
    "<img src='img.jpg'>\n",
    "<span class='black'>span 태그는 <b>inline</b> 태그입니다.</span>\"\"\"\n",
    "\n",
    "#결과: ['div', 'a', 'img', 'span', 'b']"
   ]
  },
  {
   "cell_type": "code",
   "execution_count": 25,
   "metadata": {},
   "outputs": [
    {
     "name": "stdout",
     "output_type": "stream",
     "text": [
      "['div', 'a', 'img', 'span', 'b']\n"
     ]
    }
   ],
   "source": [
    "# 후방탐색\n",
    "import re\n",
    "pattern = r\"<([^/].*?)[ |>]\"\n",
    "pattern = r\"<(\\w+)\"  # <글자들 # 소그룹으로 묶어서 전체가아닌 1번만 출력\n",
    "\n",
    "#패턴을 찾을 때는 '<'를 사용. 최종 결과로 반환할때는 '<'를 빼자.\n",
    "\n",
    "# 후방탐색\n",
    "#(?<=패턴1)패턴2  찾을때: 패턴1+패턴2. 결과반환은 패턴2만\n",
    "#패턴1 : <  패턴2 : \\w+\n",
    "pattern = r\"(?<=<)\\w+\" #찾을때는 패턴1 < 과 패턴2 \\w+ 로 찾지만 반환은 패턴2 \\w+만\n",
    "\n",
    "result = re.findall(pattern, html)\n",
    "print(result)"
   ]
  },
  {
   "cell_type": "code",
   "execution_count": 45,
   "metadata": {},
   "outputs": [],
   "source": [
    "txt = \"\"\"뉴스입니다.\n",
    "홍길동 기자\n",
    "박영수 기자\n",
    "김미영 기자\"\"\"\n",
    "# 기자 이름만 조회\n",
    "# 기자 이름: 이름+공백+기자\n",
    "# 패턴1 = 이름, 패턴2 = 기자\n",
    "# 전방탐색 : 앞에있는 패턴1만 출력\n",
    "# 패턴1(?=패턴2)"
   ]
  },
  {
   "cell_type": "code",
   "execution_count": 53,
   "metadata": {},
   "outputs": [
    {
     "name": "stdout",
     "output_type": "stream",
     "text": [
      "['홍길동', '박영수', '김미영']\n"
     ]
    }
   ],
   "source": [
    "import re\n",
    "#pattern =r\"[가-힇]{2,}(?= [가-힇]{2})\"\n",
    "pattern =r\"[가-힣]{2,}(?= 기자)\"\n",
    "report = re.findall(pattern, txt)\n",
    "print(report)"
   ]
  },
  {
   "cell_type": "code",
   "execution_count": null,
   "metadata": {},
   "outputs": [],
   "source": []
  },
  {
   "cell_type": "code",
   "execution_count": null,
   "metadata": {},
   "outputs": [],
   "source": []
  }
 ],
 "metadata": {
  "kernelspec": {
   "display_name": "Python 3",
   "language": "python",
   "name": "python3"
  },
  "language_info": {
   "codemirror_mode": {
    "name": "ipython",
    "version": 3
   },
   "file_extension": ".py",
   "mimetype": "text/x-python",
   "name": "python",
   "nbconvert_exporter": "python",
   "pygments_lexer": "ipython3",
   "version": "3.8.5"
  },
  "toc": {
   "base_numbering": 1,
   "nav_menu": {},
   "number_sections": false,
   "sideBar": true,
   "skip_h1_title": false,
   "title_cell": "Table of Contents",
   "title_sidebar": "Contents",
   "toc_cell": false,
   "toc_position": {},
   "toc_section_display": true,
   "toc_window_display": false
  },
  "varInspector": {
   "cols": {
    "lenName": 16,
    "lenType": 16,
    "lenVar": 40
   },
   "kernels_config": {
    "python": {
     "delete_cmd_postfix": "",
     "delete_cmd_prefix": "del ",
     "library": "var_list.py",
     "varRefreshCmd": "print(var_dic_list())"
    },
    "r": {
     "delete_cmd_postfix": ") ",
     "delete_cmd_prefix": "rm(",
     "library": "var_list.r",
     "varRefreshCmd": "cat(var_dic_list()) "
    }
   },
   "types_to_exclude": [
    "module",
    "function",
    "builtin_function_or_method",
    "instance",
    "_Feature"
   ],
   "window_display": false
  }
 },
 "nbformat": 4,
 "nbformat_minor": 2
}
