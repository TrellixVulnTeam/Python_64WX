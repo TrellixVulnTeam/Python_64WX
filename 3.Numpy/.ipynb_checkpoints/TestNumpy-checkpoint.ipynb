{
 "cells": [
  {
   "cell_type": "code",
   "execution_count": null,
   "metadata": {},
   "outputs": [],
   "source": [
    "파일명 : 이름.ipynb\n",
    "이메일: kgmyh@naver.com"
   ]
  },
  {
   "cell_type": "markdown",
   "metadata": {},
   "source": [
    "1. 10, 7, 5, 90, 100 을 가지는 1차원 배열을 생성."
   ]
  },
  {
   "cell_type": "code",
   "execution_count": 3,
   "metadata": {},
   "outputs": [
    {
     "name": "stdout",
     "output_type": "stream",
     "text": [
      "[ 10   7   5  90 100]\n"
     ]
    }
   ],
   "source": [
    "import numpy as np\n",
    "a = np.array([10,7,5,90,100])\n",
    "print(a)"
   ]
  },
  {
   "cell_type": "code",
   "execution_count": null,
   "metadata": {},
   "outputs": [],
   "source": [
    "2. 100 ~ 200 범위의 숫자중 짝수를 가지는 배열을 생성."
   ]
  },
  {
   "cell_type": "code",
   "execution_count": 6,
   "metadata": {},
   "outputs": [
    {
     "data": {
      "text/plain": [
       "array([100, 102, 104, 106, 108, 110, 112, 114, 116, 118, 120, 122, 124,\n",
       "       126, 128, 130, 132, 134, 136, 138, 140, 142, 144, 146, 148, 150,\n",
       "       152, 154, 156, 158, 160, 162, 164, 166, 168, 170, 172, 174, 176,\n",
       "       178, 180, 182, 184, 186, 188, 190, 192, 194, 196, 198, 200])"
      ]
     },
     "execution_count": 6,
     "metadata": {},
     "output_type": "execute_result"
    }
   ],
   "source": [
    "b = np.arange(100,201,2)\n",
    "b"
   ]
  },
  {
   "cell_type": "code",
   "execution_count": null,
   "metadata": {},
   "outputs": [],
   "source": [
    "3. 2번에서 생성한 배열과 동일한 shape에 0을 원소로 가지는 배열 생성."
   ]
  },
  {
   "cell_type": "code",
   "execution_count": 7,
   "metadata": {},
   "outputs": [
    {
     "data": {
      "text/plain": [
       "array([0., 0., 0., 0., 0., 0., 0., 0., 0., 0., 0., 0., 0., 0., 0., 0., 0.,\n",
       "       0., 0., 0., 0., 0., 0., 0., 0., 0., 0., 0., 0., 0., 0., 0., 0., 0.,\n",
       "       0., 0., 0., 0., 0., 0., 0., 0., 0., 0., 0., 0., 0., 0., 0., 0., 0.,\n",
       "       0., 0., 0., 0., 0., 0., 0., 0., 0., 0., 0., 0., 0., 0., 0., 0., 0.,\n",
       "       0., 0., 0., 0., 0., 0., 0., 0., 0., 0., 0., 0., 0., 0., 0., 0., 0.,\n",
       "       0., 0., 0., 0., 0., 0., 0., 0., 0., 0., 0., 0., 0., 0., 0.])"
      ]
     },
     "execution_count": 7,
     "metadata": {},
     "output_type": "execute_result"
    }
   ],
   "source": [
    "c = np.zeros(100)\n",
    "c"
   ]
  },
  {
   "cell_type": "code",
   "execution_count": null,
   "metadata": {},
   "outputs": [],
   "source": [
    "4. 1001 ~ 10000 범위의 정수 중 100의 배수만 가지는 3차원 배열을 생성. (shape은 상관없음.)"
   ]
  },
  {
   "cell_type": "code",
   "execution_count": 8,
   "metadata": {},
   "outputs": [
    {
     "data": {
      "text/plain": [
       "array([[[ 1100,  1200,  1300,  1400,  1500,  1600,  1700,  1800,  1900],\n",
       "        [ 2000,  2100,  2200,  2300,  2400,  2500,  2600,  2700,  2800],\n",
       "        [ 2900,  3000,  3100,  3200,  3300,  3400,  3500,  3600,  3700],\n",
       "        [ 3800,  3900,  4000,  4100,  4200,  4300,  4400,  4500,  4600],\n",
       "        [ 4700,  4800,  4900,  5000,  5100,  5200,  5300,  5400,  5500]],\n",
       "\n",
       "       [[ 5600,  5700,  5800,  5900,  6000,  6100,  6200,  6300,  6400],\n",
       "        [ 6500,  6600,  6700,  6800,  6900,  7000,  7100,  7200,  7300],\n",
       "        [ 7400,  7500,  7600,  7700,  7800,  7900,  8000,  8100,  8200],\n",
       "        [ 8300,  8400,  8500,  8600,  8700,  8800,  8900,  9000,  9100],\n",
       "        [ 9200,  9300,  9400,  9500,  9600,  9700,  9800,  9900, 10000]]])"
      ]
     },
     "execution_count": 8,
     "metadata": {},
     "output_type": "execute_result"
    }
   ],
   "source": [
    "d = np.arange(1100,10001,100).reshape(2,5,-1)\n",
    "d"
   ]
  },
  {
   "cell_type": "code",
   "execution_count": null,
   "metadata": {},
   "outputs": [],
   "source": [
    "5. (4,4) 형태의 단위행렬(항등행렬)을 생성."
   ]
  },
  {
   "cell_type": "code",
   "execution_count": 9,
   "metadata": {},
   "outputs": [
    {
     "data": {
      "text/plain": [
       "array([[ 0,  1,  2,  3],\n",
       "       [ 4,  5,  6,  7],\n",
       "       [ 8,  9, 10, 11],\n",
       "       [12, 13, 14, 15]])"
      ]
     },
     "execution_count": 9,
     "metadata": {},
     "output_type": "execute_result"
    }
   ],
   "source": [
    "e = np.arange(16).reshape(4,4)\n",
    "e"
   ]
  },
  {
   "cell_type": "code",
   "execution_count": null,
   "metadata": {},
   "outputs": [],
   "source": [
    "6. 다음 값을 가지는 배열을 생성하고 배열의 차원수(rank)와 형태, 총 원소(element)의 개수를 조회.\n",
    "20, 90, 80, 100, -20, 30\n",
    "50, -10, 25, 120, -40, 90"
   ]
  },
  {
   "cell_type": "code",
   "execution_count": 19,
   "metadata": {},
   "outputs": [
    {
     "data": {
      "text/plain": [
       "(2, (2, 6), 12)"
      ]
     },
     "execution_count": 19,
     "metadata": {},
     "output_type": "execute_result"
    }
   ],
   "source": [
    "a = np.array([[20, 90, 80, 100, -20, 30],[50, -10, 25, 120, -40, 90]])\n",
    "a.ndim, a.shape, a.size"
   ]
  },
  {
   "cell_type": "code",
   "execution_count": null,
   "metadata": {},
   "outputs": [],
   "source": [
    "7. 정규분포를 따르는 난수를 가지는 (3,2,7) 형태의 배열을 생성."
   ]
  },
  {
   "cell_type": "code",
   "execution_count": 20,
   "metadata": {},
   "outputs": [
    {
     "data": {
      "text/plain": [
       "array([[[10.0932203 ,  9.74166307,  8.69561857,  8.93436111,\n",
       "         10.24712018],\n",
       "        [ 9.73578888,  9.85805023, 10.37177577, 10.62495425,\n",
       "          9.89712865]],\n",
       "\n",
       "       [[ 9.37891194, 11.58845943,  9.57015751, 10.84806915,\n",
       "          9.14305592],\n",
       "        [10.59734238, 10.32731517,  9.77734572,  9.37706779,\n",
       "         10.45931429]],\n",
       "\n",
       "       [[10.89828696,  8.34699478,  8.92945166,  8.9965524 ,\n",
       "          9.65791432],\n",
       "        [ 8.81884417, 10.88999034,  9.13402622,  9.48648371,\n",
       "          8.83312446]]])"
      ]
     },
     "execution_count": 20,
     "metadata": {},
     "output_type": "execute_result"
    }
   ],
   "source": [
    "np.random.normal(10,1,(3,2,5))"
   ]
  },
  {
   "cell_type": "code",
   "execution_count": null,
   "metadata": {},
   "outputs": [],
   "source": [
    "8. 1 ~ 100 사이의 정수 난수를 가지는 (4, 5) 형태의 배열을 생성한 뒤 arr.npy 파일로 저장."
   ]
  },
  {
   "cell_type": "code",
   "execution_count": 30,
   "metadata": {},
   "outputs": [
    {
     "name": "stdout",
     "output_type": "stream",
     "text": [
      "[[23 36 82  6 27]\n",
      " [39 58 24 17 12]\n",
      " [63 83 13  9 37]\n",
      " [55 68  6 34 80]]\n"
     ]
    }
   ],
   "source": [
    "a = np.random.randint(1,100,(4,5),dtype=int)\n",
    "print(a)\n",
    "np.save('arr.npy', a)"
   ]
  },
  {
   "cell_type": "code",
   "execution_count": null,
   "metadata": {},
   "outputs": [],
   "source": [
    "9. 8번에서 저장한 arr.npy 의 배열을 불러와서 출력."
   ]
  },
  {
   "cell_type": "code",
   "execution_count": 31,
   "metadata": {},
   "outputs": [
    {
     "name": "stdout",
     "output_type": "stream",
     "text": [
      "[[23 36 82  6 27]\n",
      " [39 58 24 17 12]\n",
      " [63 83 13  9 37]\n",
      " [55 68  6 34 80]]\n"
     ]
    }
   ],
   "source": [
    "print(np.load('arr.npy'))"
   ]
  },
  {
   "cell_type": "code",
   "execution_count": null,
   "metadata": {},
   "outputs": [],
   "source": [
    "10. 9번에서 불러온 배열에서 전체 값의 총합, 0번축 기준의 총합, 1번축 기준의 총합을 구하기."
   ]
  },
  {
   "cell_type": "code",
   "execution_count": 36,
   "metadata": {},
   "outputs": [
    {
     "name": "stdout",
     "output_type": "stream",
     "text": [
      "772\n",
      "[180 245 125  66 156]\n",
      "[174 150 205 243]\n"
     ]
    }
   ],
   "source": [
    "arr = np.load('arr.npy')\n",
    "total = np.add.reduce(arr, axis=None)\n",
    "print(total)\n",
    "axis0 = np.add.reduce(arr, axis=0)\n",
    "print(axis0)\n",
    "axis1 = np.add.reduce(arr,axis=1)\n",
    "print(axis1)"
   ]
  },
  {
   "cell_type": "code",
   "execution_count": null,
   "metadata": {},
   "outputs": [],
   "source": [
    "11. 임의의 Boolean 값을 가지는 (5, 10) 배열을 생성하고 True의 개수를 출력하시오."
   ]
  },
  {
   "cell_type": "code",
   "execution_count": 56,
   "metadata": {},
   "outputs": [
    {
     "name": "stdout",
     "output_type": "stream",
     "text": [
      "True\n",
      "23\n"
     ]
    }
   ],
   "source": [
    "a = np.random.choice([True,False],(5,10))\n",
    "values, counts = np.unique(a, return_counts=True)\n",
    "print(values[1])\n",
    "print(counts[1])"
   ]
  },
  {
   "cell_type": "code",
   "execution_count": null,
   "metadata": {},
   "outputs": [],
   "source": [
    "12-17. 아래 배열을 생성하고 12번 ~ 17번 문제는 아래 조건으로 생성한 배열을 가지고 푸세요.\n",
    " 0 ~ 29 범위의 정수를 원소로 가지는 (5,6) 의 배열을 생성하고 변수에 저장."
   ]
  },
  {
   "cell_type": "code",
   "execution_count": 57,
   "metadata": {},
   "outputs": [
    {
     "data": {
      "text/plain": [
       "array([[ 8, 27, 25,  3, 14,  3],\n",
       "       [ 3,  0, 16, 28,  8, 12],\n",
       "       [ 9, 19,  6,  8, 23,  0],\n",
       "       [ 3, 10, 12, 17, 11, 12],\n",
       "       [11, 11, 18, 20,  8, 19]])"
      ]
     },
     "execution_count": 57,
     "metadata": {},
     "output_type": "execute_result"
    }
   ],
   "source": [
    "a = np.random.randint(0,29,(5,6))\n",
    "a"
   ]
  },
  {
   "cell_type": "code",
   "execution_count": null,
   "metadata": {},
   "outputs": [],
   "source": [
    "12. index (1,1), (2,3), (1,5)의 값들 조회"
   ]
  },
  {
   "cell_type": "code",
   "execution_count": 59,
   "metadata": {},
   "outputs": [
    {
     "data": {
      "text/plain": [
       "(0, 8, 12)"
      ]
     },
     "execution_count": 59,
     "metadata": {},
     "output_type": "execute_result"
    }
   ],
   "source": [
    "a[1,1], a[2,3], a[1,5]"
   ]
  },
  {
   "cell_type": "code",
   "execution_count": null,
   "metadata": {},
   "outputs": [],
   "source": [
    "13. index (1,1), (1,2), (1,3), (2,1), (2,2), (2,3), (3,1), (3,2), (3,3)의 값들을 조회."
   ]
  },
  {
   "cell_type": "code",
   "execution_count": 62,
   "metadata": {},
   "outputs": [
    {
     "data": {
      "text/plain": [
       "array([[ 0, 16, 28],\n",
       "       [19,  6,  8],\n",
       "       [10, 12, 17]])"
      ]
     },
     "execution_count": 62,
     "metadata": {},
     "output_type": "execute_result"
    }
   ],
   "source": [
    "a[1:4,1:4]"
   ]
  },
  {
   "cell_type": "code",
   "execution_count": null,
   "metadata": {},
   "outputs": [],
   "source": [
    "14. 13와 같은 index의 값들을 뒤집어서(reversing) 조회."
   ]
  },
  {
   "cell_type": "code",
   "execution_count": 71,
   "metadata": {},
   "outputs": [
    {
     "data": {
      "text/plain": [
       "array([[17, 12, 10],\n",
       "       [ 8,  6, 19],\n",
       "       [28, 16,  0]])"
      ]
     },
     "execution_count": 71,
     "metadata": {},
     "output_type": "execute_result"
    }
   ],
   "source": [
    "np.flip(a[1:4,1:4])"
   ]
  },
  {
   "cell_type": "code",
   "execution_count": null,
   "metadata": {},
   "outputs": [],
   "source": [
    "15. 배열에서 15 이상의 원소만 조회해서 그 평균을 출력."
   ]
  },
  {
   "cell_type": "code",
   "execution_count": 80,
   "metadata": {},
   "outputs": [
    {
     "name": "stdout",
     "output_type": "stream",
     "text": [
      "[27 25 16 28 19 23 17 18 20 19]\n",
      "21.2\n"
     ]
    }
   ],
   "source": [
    "print(a[a>=15])\n",
    "print(np.mean(a[a>=15]))\n"
   ]
  },
  {
   "cell_type": "code",
   "execution_count": null,
   "metadata": {},
   "outputs": [],
   "source": [
    "16. 배열에서 15이상의 원소들의 index를 조회. (0축 index, 1축 index) 형식으로 출력. \n",
    "    ex: (0,0), (0,1) 식으로 출력"
   ]
  },
  {
   "cell_type": "code",
   "execution_count": 88,
   "metadata": {},
   "outputs": [
    {
     "data": {
      "text/plain": [
       "(array([0, 0, 1, 1, 2, 2, 3, 4, 4, 4], dtype=int64),\n",
       " array([1, 2, 2, 3, 1, 4, 3, 2, 3, 5], dtype=int64))"
      ]
     },
     "execution_count": 88,
     "metadata": {},
     "output_type": "execute_result"
    }
   ],
   "source": [
    "np.where(a>= 15)"
   ]
  },
  {
   "cell_type": "code",
   "execution_count": null,
   "metadata": {},
   "outputs": [],
   "source": [
    "17. 배열을 axis 1을 기준으로 내림차순으로 정렬. \n",
    "결과\n",
    "[[ 5,  4,  3,  2,  1,  0],\n",
    " [11, 10,  9,  8,  7,  6],\n",
    " [17, 16, 15, 14, 13, 12],\n",
    " [23, 22, 21, 20, 19, 18],\n",
    " [29, 28, 27, 26, 25, 24]]   "
   ]
  },
  {
   "cell_type": "code",
   "execution_count": 91,
   "metadata": {},
   "outputs": [
    {
     "data": {
      "text/plain": [
       "array([[ 0,  1,  2,  3,  4,  5],\n",
       "       [ 6,  7,  8,  9, 10, 11],\n",
       "       [12, 13, 14, 15, 16, 17],\n",
       "       [18, 19, 20, 21, 22, 23],\n",
       "       [24, 25, 26, 27, 28, 29]])"
      ]
     },
     "execution_count": 91,
     "metadata": {},
     "output_type": "execute_result"
    }
   ],
   "source": [
    "a = [[ 5,  4,  3,  2,  1,  0],\n",
    " [11, 10,  9,  8,  7,  6],\n",
    " [17, 16, 15, 14, 13, 12],\n",
    " [23, 22, 21, 20, 19, 18],\n",
    " [29, 28, 27, 26, 25, 24]]\n",
    "np.sort(a, 1)"
   ]
  },
  {
   "cell_type": "code",
   "execution_count": null,
   "metadata": {},
   "outputs": [],
   "source": [
    "18-21. 아래 배열을 생성하고 18번 ~ 21번 문제는 아래 조건으로 생성한 배열을 가지고 푸세요.\n",
    "(3, 2) shape의 배열을 생성 하시오. "
   ]
  },
  {
   "cell_type": "code",
   "execution_count": 102,
   "metadata": {},
   "outputs": [],
   "source": [
    "a = np.arange(6).reshape(3,2)"
   ]
  },
  {
   "cell_type": "code",
   "execution_count": null,
   "metadata": {},
   "outputs": [],
   "source": [
    "18. 배열의 shape을 (1, 3, 2) 로 변환한 배열을 생성."
   ]
  },
  {
   "cell_type": "code",
   "execution_count": 103,
   "metadata": {},
   "outputs": [
    {
     "data": {
      "text/plain": [
       "array([[[0, 1],\n",
       "        [2, 3],\n",
       "        [4, 5]]])"
      ]
     },
     "execution_count": 103,
     "metadata": {},
     "output_type": "execute_result"
    }
   ],
   "source": [
    "b  = a.reshape(1,3,2)\n",
    "b"
   ]
  },
  {
   "cell_type": "code",
   "execution_count": null,
   "metadata": {},
   "outputs": [],
   "source": [
    "19. 배열의 shape을 (1, 3, 2, 1) 로 변환한 배열을 생성."
   ]
  },
  {
   "cell_type": "code",
   "execution_count": 104,
   "metadata": {},
   "outputs": [
    {
     "data": {
      "text/plain": [
       "array([[[[0],\n",
       "         [1]],\n",
       "\n",
       "        [[2],\n",
       "         [3]],\n",
       "\n",
       "        [[4],\n",
       "         [5]]]])"
      ]
     },
     "execution_count": 104,
     "metadata": {},
     "output_type": "execute_result"
    }
   ],
   "source": [
    "c = a.reshape(1,3,2,1)\n",
    "c"
   ]
  },
  {
   "cell_type": "code",
   "execution_count": null,
   "metadata": {},
   "outputs": [],
   "source": [
    "20. 배열을 1차원 배열로 변환한 배열을 생성."
   ]
  },
  {
   "cell_type": "code",
   "execution_count": 105,
   "metadata": {},
   "outputs": [
    {
     "data": {
      "text/plain": [
       "array([0, 1, 2, 3, 4, 5])"
      ]
     },
     "execution_count": 105,
     "metadata": {},
     "output_type": "execute_result"
    }
   ],
   "source": [
    "d = a.reshape(6)\n",
    "d"
   ]
  },
  {
   "cell_type": "code",
   "execution_count": null,
   "metadata": {},
   "outputs": [],
   "source": [
    "21. 배열의 0번 축에 2개의 값을 추가. (추가된 배열의 shape: (5,2))"
   ]
  },
  {
   "cell_type": "code",
   "execution_count": 110,
   "metadata": {},
   "outputs": [
    {
     "data": {
      "text/plain": [
       "(5, 2)"
      ]
     },
     "execution_count": 110,
     "metadata": {},
     "output_type": "execute_result"
    }
   ],
   "source": [
    "a.shape\n",
    "a1 = np.append(a, [[4,4],[5,5]], axis=0)\n",
    "a1.shape"
   ]
  },
  {
   "cell_type": "code",
   "execution_count": null,
   "metadata": {},
   "outputs": [],
   "source": [
    "22-28. 다음 배열은 5명 학생의 국어, 영어, 수학, 과학 시험 점수이다. 행(axis=0)은 각 학생의 시험점수이고 컬럼(axis=1)은 과목을 가리킨다.\n",
    "[\n",
    " [ 60,  80,  60, 100],\n",
    " [ 80,  80,  90,  90],\n",
    " [ 90,  60,  70,  50],\n",
    " [ 40,  80,  60,  50],\n",
    " [ 60,  50,  70, 100]\n",
    "]"
   ]
  },
  {
   "cell_type": "code",
   "execution_count": 111,
   "metadata": {},
   "outputs": [],
   "source": [
    "score = np.array([\n",
    " [ 60,  80,  60, 100],\n",
    " [ 80,  80,  90,  90],\n",
    " [ 90,  60,  70,  50],\n",
    " [ 40,  80,  60,  50],\n",
    " [ 60,  50,  70, 100]\n",
    "])"
   ]
  },
  {
   "cell_type": "code",
   "execution_count": null,
   "metadata": {},
   "outputs": [],
   "source": [
    "22. 각 과목별 평균점수를 조회."
   ]
  },
  {
   "cell_type": "code",
   "execution_count": 115,
   "metadata": {},
   "outputs": [
    {
     "data": {
      "text/plain": [
       "array([66., 70., 70., 78.])"
      ]
     },
     "execution_count": 115,
     "metadata": {},
     "output_type": "execute_result"
    }
   ],
   "source": [
    "avg = np.mean(score, axis = 0)\n",
    "avg"
   ]
  },
  {
   "cell_type": "code",
   "execution_count": null,
   "metadata": {},
   "outputs": [],
   "source": [
    "23. 각 과목별 평균 점수를 성적 배열에 추가. "
   ]
  },
  {
   "cell_type": "code",
   "execution_count": 126,
   "metadata": {},
   "outputs": [
    {
     "data": {
      "text/plain": [
       "array([[ 66,  70,  70,  78],\n",
       "       [ 60,  80,  60, 100],\n",
       "       [ 80,  80,  90,  90],\n",
       "       [ 90,  60,  70,  50],\n",
       "       [ 40,  80,  60,  50],\n",
       "       [ 60,  50,  70, 100]])"
      ]
     },
     "execution_count": 126,
     "metadata": {},
     "output_type": "execute_result"
    }
   ],
   "source": [
    "score1 = np.insert(score, 0, avg, axis=0)\n",
    "score1"
   ]
  },
  {
   "cell_type": "code",
   "execution_count": null,
   "metadata": {},
   "outputs": [],
   "source": [
    "24. 각 학생들의 평균 점수 조회"
   ]
  },
  {
   "cell_type": "code",
   "execution_count": 127,
   "metadata": {},
   "outputs": [
    {
     "data": {
      "text/plain": [
       "array([66, 70, 70, 78])"
      ]
     },
     "execution_count": 127,
     "metadata": {},
     "output_type": "execute_result"
    }
   ],
   "source": [
    "score1[0]"
   ]
  },
  {
   "cell_type": "code",
   "execution_count": null,
   "metadata": {},
   "outputs": [],
   "source": [
    "25. 과목별로 몇번째 학생의 성적이 가장 높은지 조회"
   ]
  },
  {
   "cell_type": "code",
   "execution_count": 132,
   "metadata": {},
   "outputs": [
    {
     "data": {
      "text/plain": [
       "array([2, 0, 1, 0], dtype=int64)"
      ]
     },
     "execution_count": 132,
     "metadata": {},
     "output_type": "execute_result"
    }
   ],
   "source": [
    "np.argmax(score, axis=0)"
   ]
  },
  {
   "cell_type": "code",
   "execution_count": null,
   "metadata": {},
   "outputs": [],
   "source": [
    "26. 학생별로 어떤 과목의 점수가 가장 낮은지 조회."
   ]
  },
  {
   "cell_type": "code",
   "execution_count": 133,
   "metadata": {},
   "outputs": [
    {
     "data": {
      "text/plain": [
       "array([3, 4, 0, 2], dtype=int64)"
      ]
     },
     "execution_count": 133,
     "metadata": {},
     "output_type": "execute_result"
    }
   ],
   "source": [
    "np.argmin(score, axis=0)"
   ]
  },
  {
   "cell_type": "code",
   "execution_count": null,
   "metadata": {},
   "outputs": [],
   "source": [
    "27. 각 과목별로 편차가 가장 적은 과목과 가장 큰 과목을 조회"
   ]
  },
  {
   "cell_type": "code",
   "execution_count": 146,
   "metadata": {},
   "outputs": [
    {
     "name": "stdout",
     "output_type": "stream",
     "text": [
      "[17.43559577 12.64911064 10.95445115 23.15167381]\n",
      "편차작은과목:  2\n",
      "편차큰과목:  3\n"
     ]
    }
   ],
   "source": [
    "print(np.std(score, axis= 0))\n",
    "print(\"편차작은과목: \", np.argmin(np.std(score, axis= 0)))\n",
    "print(\"편차큰과목: \", np.argmax(np.std(score, axis= 0)))"
   ]
  },
  {
   "cell_type": "code",
   "execution_count": null,
   "metadata": {},
   "outputs": [],
   "source": [
    "28. 학생들 중 과목간의 점수의 편차가 가장 적은 학생을 조회"
   ]
  },
  {
   "cell_type": "code",
   "execution_count": 145,
   "metadata": {},
   "outputs": [
    {
     "name": "stdout",
     "output_type": "stream",
     "text": [
      "[16.58312395  5.         14.79019946 14.79019946 18.70828693]\n",
      "편차작은학생:  1\n",
      "편차큰학생:  4\n"
     ]
    }
   ],
   "source": [
    "print(np.std(score, axis= 1))\n",
    "print(\"편차작은학생: \", np.argmin(np.std(score, axis= 1)))\n",
    "print(\"편차큰학생: \", np.argmax(np.std(score, axis= 1)))"
   ]
  },
  {
   "cell_type": "code",
   "execution_count": null,
   "metadata": {},
   "outputs": [],
   "source": [
    "29-30 다음 두 배열을 가지고 29,30번 문제를 푸세요.\n",
    "A:\n",
    "[\n",
    "  [1,2,3],\n",
    "  [4,5,6],\n",
    "  [7,8,9]\n",
    "]\n",
    "B:\n",
    "[\n",
    "  [10,20,30],\n",
    "  [40,50,60],\n",
    "  [70,80,90]\n",
    "]"
   ]
  },
  {
   "cell_type": "code",
   "execution_count": 16,
   "metadata": {},
   "outputs": [],
   "source": [
    "a = np.array([\n",
    "  [1,2,3],\n",
    "  [4,5,6],\n",
    "  [7,8,9]\n",
    "])\n",
    "b = np.array([\n",
    "  [10,20,30],\n",
    "  [40,50,60],\n",
    "  [70,80,90]\n",
    "]\n",
    ")"
   ]
  },
  {
   "cell_type": "code",
   "execution_count": null,
   "metadata": {},
   "outputs": [],
   "source": [
    "29. 두 배열을 수직방향으로 합치기. "
   ]
  },
  {
   "cell_type": "code",
   "execution_count": 17,
   "metadata": {},
   "outputs": [
    {
     "data": {
      "text/plain": [
       "((3, 3), (3, 3))"
      ]
     },
     "execution_count": 17,
     "metadata": {},
     "output_type": "execute_result"
    }
   ],
   "source": [
    "a.shape, b.shape"
   ]
  },
  {
   "cell_type": "code",
   "execution_count": 20,
   "metadata": {},
   "outputs": [
    {
     "name": "stdout",
     "output_type": "stream",
     "text": [
      "[[ 1  2  3]\n",
      " [ 4  5  6]\n",
      " [ 7  8  9]\n",
      " [10 20 30]\n",
      " [40 50 60]\n",
      " [70 80 90]]\n"
     ]
    }
   ],
   "source": [
    "c = np.vstack([a,b])\n",
    "print(c)"
   ]
  },
  {
   "cell_type": "code",
   "execution_count": null,
   "metadata": {},
   "outputs": [],
   "source": [
    "30. 29에서 합친 배열을 수평방향으로 index 2를 기준으로 나누기."
   ]
  },
  {
   "cell_type": "code",
   "execution_count": 21,
   "metadata": {},
   "outputs": [
    {
     "data": {
      "text/plain": [
       "[array([[1, 2, 3],\n",
       "        [4, 5, 6],\n",
       "        [7, 8, 9]]),\n",
       " array([[10, 20, 30],\n",
       "        [40, 50, 60],\n",
       "        [70, 80, 90]])]"
      ]
     },
     "execution_count": 21,
     "metadata": {},
     "output_type": "execute_result"
    }
   ],
   "source": [
    "np.vsplit(c,2)"
   ]
  },
  {
   "cell_type": "code",
   "execution_count": null,
   "metadata": {},
   "outputs": [],
   "source": [
    "31-32 다움은 7명의 학생의 점수이다. 배열을 생성한뒤 33번 ~ 35번 문제를 푸세요.\n",
    "[10, 50, 75, 20, 70, 50, 80]"
   ]
  },
  {
   "cell_type": "code",
   "execution_count": 1,
   "metadata": {},
   "outputs": [],
   "source": [
    "import numpy as np\n",
    "score = np.array([10, 50, 75, 20, 70, 50, 80])\n"
   ]
  },
  {
   "cell_type": "code",
   "execution_count": null,
   "metadata": {},
   "outputs": [],
   "source": [
    "31. 다음 배열에서 평균 이상의 점수를 받은 학생이 몇명인지 조회"
   ]
  },
  {
   "cell_type": "code",
   "execution_count": 151,
   "metadata": {},
   "outputs": [
    {
     "data": {
      "text/plain": [
       "3"
      ]
     },
     "execution_count": 151,
     "metadata": {},
     "output_type": "execute_result"
    }
   ],
   "source": [
    "a = np.sum(score>np.mean(score))\n",
    "a"
   ]
  },
  {
   "cell_type": "code",
   "execution_count": null,
   "metadata": {},
   "outputs": [],
   "source": [
    "32. 다음 배열에서 평균 이상의 점수를 받은 학생이 전체 학생 중 몇명인지 비율을 조회."
   ]
  },
  {
   "cell_type": "code",
   "execution_count": 153,
   "metadata": {},
   "outputs": [
    {
     "data": {
      "text/plain": [
       "0.42857142857142855"
      ]
     },
     "execution_count": 153,
     "metadata": {},
     "output_type": "execute_result"
    }
   ],
   "source": [
    "np.sum(score>np.mean(score))/score.size"
   ]
  },
  {
   "cell_type": "code",
   "execution_count": null,
   "metadata": {},
   "outputs": [],
   "source": [
    "33-35 다음 배열은 스무명의 사람들의 연봉의 표본이다. (단위 만원) 배열을 생성한뒤 33번 ~ 35번 문제를 푸세요.\n",
    "[7650, 4210, 7260, 8020, 8200, 8740, 4960, 1420,\n",
    " 5410, 9770, 2370, 7960, 8960, 2660, 7940, 5120,\n",
    " 7100, 5220, 8810, 253000]\n",
    " "
   ]
  },
  {
   "cell_type": "code",
   "execution_count": 4,
   "metadata": {},
   "outputs": [],
   "source": [
    "import numpy as np\n",
    "salary = np.array([7650, 4210, 7260, 8020, 8200, 8740, 4960, 1420, 5410, 9770, 2370, 7960, 8960, 2660, 7940, 5120, 7100, 5220, 8810, 253000])"
   ]
  },
  {
   "cell_type": "code",
   "execution_count": null,
   "metadata": {},
   "outputs": [],
   "source": [
    "33. 위 배열에서 상위 75% 는 얼마 이상을 받는지 조회."
   ]
  },
  {
   "cell_type": "code",
   "execution_count": 6,
   "metadata": {},
   "outputs": [
    {
     "data": {
      "text/plain": [
       "8200"
      ]
     },
     "execution_count": 6,
     "metadata": {},
     "output_type": "execute_result"
    }
   ],
   "source": [
    "np.quantile(salary, q=0.75, interpolation='lower')"
   ]
  },
  {
   "cell_type": "code",
   "execution_count": null,
   "metadata": {},
   "outputs": [],
   "source": [
    "34. 위 배열에서 하위 25%는 얼마 이하를 받는지 조회."
   ]
  },
  {
   "cell_type": "code",
   "execution_count": 8,
   "metadata": {},
   "outputs": [
    {
     "data": {
      "text/plain": [
       "5120"
      ]
     },
     "execution_count": 8,
     "metadata": {},
     "output_type": "execute_result"
    }
   ],
   "source": [
    "np.quantile(salary, q=0.25, interpolation='higher')"
   ]
  },
  {
   "cell_type": "code",
   "execution_count": null,
   "metadata": {},
   "outputs": [],
   "source": [
    "35. 위 배열의 평균과 중앙값을 구하고 배열의 대푯값으로 어떤 것을 사용하는 것이 맞는지 적으세요."
   ]
  },
  {
   "cell_type": "code",
   "execution_count": 15,
   "metadata": {},
   "outputs": [
    {
     "name": "stdout",
     "output_type": "stream",
     "text": [
      "53793.63669617439 1420 253000\n",
      "7455.0\n"
     ]
    }
   ],
   "source": [
    "# 표준편차가 크고 최소값과 최대값의 차이가 커서, 평균을 왜곡할 가능성이 있으므로, 평균값보다는 중앙값을 대푯값으로 사용하는 것이 맞다.\n",
    "std = np.std(salary)\n",
    "max = np.nanmax(salary)\n",
    "min = np.nanmin(salary)\n",
    "med = np.median(salary)\n",
    "print(std, min, max)\n",
    "print(med)"
   ]
  },
  {
   "cell_type": "code",
   "execution_count": 11,
   "metadata": {},
   "outputs": [
    {
     "name": "stdout",
     "output_type": "stream",
     "text": [
      "18739.0\n"
     ]
    }
   ],
   "source": [
    "avg = np.mean(salary)\n",
    "print(avg)"
   ]
  },
  {
   "cell_type": "code",
   "execution_count": 12,
   "metadata": {},
   "outputs": [
    {
     "data": {
      "text/plain": [
       "53793.63669617439"
      ]
     },
     "execution_count": 12,
     "metadata": {},
     "output_type": "execute_result"
    }
   ],
   "source": []
  },
  {
   "cell_type": "code",
   "execution_count": 13,
   "metadata": {},
   "outputs": [
    {
     "data": {
      "text/plain": [
       "2893755349.0"
      ]
     },
     "execution_count": 13,
     "metadata": {},
     "output_type": "execute_result"
    }
   ],
   "source": [
    "np.var(salary)"
   ]
  },
  {
   "cell_type": "code",
   "execution_count": null,
   "metadata": {},
   "outputs": [],
   "source": [
    "np."
   ]
  }
 ],
 "metadata": {
  "kernelspec": {
   "display_name": "Python 3",
   "language": "python",
   "name": "python3"
  },
  "language_info": {
   "codemirror_mode": {
    "name": "ipython",
    "version": 3
   },
   "file_extension": ".py",
   "mimetype": "text/x-python",
   "name": "python",
   "nbconvert_exporter": "python",
   "pygments_lexer": "ipython3",
   "version": "3.8.5"
  }
 },
 "nbformat": 4,
 "nbformat_minor": 4
}
