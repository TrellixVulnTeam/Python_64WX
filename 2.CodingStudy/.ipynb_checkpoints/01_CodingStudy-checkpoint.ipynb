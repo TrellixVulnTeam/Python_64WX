{
 "cells": [
  {
   "cell_type": "code",
   "execution_count": 5,
   "metadata": {},
   "outputs": [],
   "source": [
    "#리스트로 받아서 중복되는 원소 삭제\n",
    "# timecomplextity fail\n",
    "def solution(participant, completion):\n",
    "    for name in completion:\n",
    "        participant.remove(name)\n",
    "    return answer.join(participant)"
   ]
  },
  {
   "cell_type": "code",
   "execution_count": null,
   "metadata": {},
   "outputs": [],
   "source": [
    "#sorting후 리스트 비교\n",
    "def solution(participant, completion):\n",
    "    participant.sort()\n",
    "    completion.sort()\n",
    "    for i in range(len(completion)):\n",
    "        if participant[i]!=completion[i]:\n",
    "            return participant[i]\n",
    "    return participant[len(completion)]"
   ]
  },
  {
   "cell_type": "code",
   "execution_count": 27,
   "metadata": {},
   "outputs": [],
   "source": [
    "# 월 리스트 작성, 월별 일수 계산후 요일 도출.\n",
    "def solution(a, b):\n",
    "    month = [31,29,31,30,31,30,31,31,30,31,30,31]\n",
    "    result = (sum(month[0:a-1]) + b-1)%7 \n",
    "    answer = ['FRI','SAT','SUN','MON','TUE','WED','THU']\n",
    "    return answer[result]\n"
   ]
  },
  {
   "cell_type": "code",
   "execution_count": 59,
   "metadata": {},
   "outputs": [],
   "source": [
    "def solution(n):\n",
    "    sieve = [True] * (n+1)\n",
    "    # n의 최대 약수가 sqrt(n) 이하이므로 i=sqrt(n)까지 검사\n",
    "    m = int(n ** 0.5)\n",
    "    for i in range(2, m + 1):\n",
    "        if sieve[i] == True:           # i가 소수인 경우\n",
    "            for j in range(i+i, n+1, i): # i이후 i의 배수들을 False 판정\n",
    "                sieve[j] = False\n",
    "\n",
    "    return sieve.count(True)-2"
   ]
  },
  {
   "cell_type": "code",
   "execution_count": 60,
   "metadata": {},
   "outputs": [
    {
     "data": {
      "text/plain": [
       "4"
      ]
     },
     "execution_count": 60,
     "metadata": {},
     "output_type": "execute_result"
    }
   ],
   "source": [
    "solution(10)"
   ]
  },
  {
   "cell_type": "code",
   "execution_count": 57,
   "metadata": {},
   "outputs": [],
   "source": [
    "# 다른사람 풀이\n",
    "def solution(n):\n",
    "    num=set(range(2,n+1))\n",
    "\n",
    "    for i in range(2,n+1):\n",
    "        if i in num:\n",
    "            num-=set(range(2*i,n+1,i))\n",
    "    return len(num)"
   ]
  },
  {
   "cell_type": "code",
   "execution_count": 61,
   "metadata": {},
   "outputs": [],
   "source": [
    "# 신청금액 sorting 후 작은 금액부터 예산에서 책정.\n",
    "def solution(d, budget):\n",
    "    d.sort() # 금액 sorting\n",
    "    answer = 0\n",
    "    for i in d:\n",
    "        if budget >= i: # budget이 신청금액보다 많으면 예산책정\n",
    "            budget -= i\n",
    "            answer += 1\n",
    "        else:\n",
    "            break #budget이 신청금액보다 적으면 끝냄.\n",
    "    return answer"
   ]
  },
  {
   "cell_type": "code",
   "execution_count": 65,
   "metadata": {},
   "outputs": [],
   "source": [
    "def solution(n, lost, reserve):\n",
    "    new_reserve = [r for r in reserve if r not in lost]#여벌가진 학생\n",
    "    new_lost = [l for l in lost if l not in reserve]# 빌려하는 학생\n",
    "    for i in new_reserve:\n",
    "        if i-1 in new_lost:\n",
    "            new_lost.remove(i-1)\n",
    "        elif i+1 in new_lost:\n",
    "            new_lost.remove(i+1)\n",
    "    return n - len(new_lost)"
   ]
  },
  {
   "cell_type": "code",
   "execution_count": 81,
   "metadata": {},
   "outputs": [],
   "source": [
    "# 문자열 아스키코드로 변환 \n",
    "def solution(s, n):\n",
    "    answer = ''\n",
    "    for i in s: #스페이스 일때\n",
    "        if ord(i)==32:\n",
    "            answer+=i\n",
    "            continue\n",
    "        elif ord(i) >= 65 and ord(i) <= 90: # 대문자일때\n",
    "            if ord(i) + n > 90:\n",
    "                answer+=chr(ord(i)+n-26)\n",
    "            else:\n",
    "                answer+= chr(ord(i)+n)\n",
    "            \n",
    "        elif ord(i) >= 97 and ord(i) <= 122:# 소문자일때.\n",
    "            if ord(i) + n > 122:\n",
    "                answer+=chr(ord(i)+n-26)\n",
    "            else:\n",
    "                answer+= chr(ord(i)+n)\n",
    "    return answer"
   ]
  },
  {
   "cell_type": "code",
   "execution_count": 86,
   "metadata": {
    "scrolled": true
   },
   "outputs": [
    {
     "name": "stdout",
     "output_type": "stream",
     "text": [
      "s는 \"a B z\", n은 4인 경우: e F d\n"
     ]
    }
   ],
   "source": [
    "#다른사람코드\n",
    "# isupper(), islower() function.\n",
    "# string to list 후에 index로 값 변환\n",
    "def caesar(s, n):\n",
    "    s = list(s)\n",
    "    for i in range(len(s)):\n",
    "        if s[i].isupper():\n",
    "            s[i]=chr((ord(s[i])-ord('A')+ n)%26+ord('A'))\n",
    "        elif s[i].islower():\n",
    "            s[i]=chr((ord(s[i])-ord('a')+ n)%26+ord('a'))\n",
    "\n",
    "    return \"\".join(s)\n",
    "    # 주어진 문장을 암호화하여 반환하세요.\n",
    "\n",
    "\n",
    "# 실행을 위한 테스트코드입니다.\n",
    "print('s는 \"a B z\", n은 4인 경우: ' + caesar(\"a B z\", 4))"
   ]
  },
  {
   "cell_type": "code",
   "execution_count": null,
   "metadata": {},
   "outputs": [],
   "source": []
  },
  {
   "cell_type": "code",
   "execution_count": null,
   "metadata": {},
   "outputs": [],
   "source": []
  },
  {
   "cell_type": "code",
   "execution_count": null,
   "metadata": {},
   "outputs": [],
   "source": []
  },
  {
   "cell_type": "code",
   "execution_count": null,
   "metadata": {},
   "outputs": [],
   "source": []
  }
 ],
 "metadata": {
  "kernelspec": {
   "display_name": "Python 3",
   "language": "python",
   "name": "python3"
  },
  "language_info": {
   "codemirror_mode": {
    "name": "ipython",
    "version": 3
   },
   "file_extension": ".py",
   "mimetype": "text/x-python",
   "name": "python",
   "nbconvert_exporter": "python",
   "pygments_lexer": "ipython3",
   "version": "3.8.5"
  }
 },
 "nbformat": 4,
 "nbformat_minor": 4
}
